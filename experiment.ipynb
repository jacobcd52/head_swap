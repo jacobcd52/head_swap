{
 "cells": [
  {
   "cell_type": "code",
   "execution_count": 16,
   "metadata": {},
   "outputs": [
    {
     "name": "stdout",
     "output_type": "stream",
     "text": [
      "The autoreload extension is already loaded. To reload it, use:\n",
      "  %reload_ext autoreload\n"
     ]
    },
    {
     "data": {
      "text/plain": [
       "<torch.autograd.grad_mode.set_grad_enabled at 0x7cc34eb360b0>"
      ]
     },
     "execution_count": 16,
     "metadata": {},
     "output_type": "execute_result"
    }
   ],
   "source": [
    "%load_ext autoreload\n",
    "%autoreload 2\n",
    "\n",
    "from transformer_lens import HookedTransformer\n",
    "import torch as t\n",
    "from huggingface_hub import login\n",
    "from contextlib import contextmanager\n",
    "import json\n",
    "import torch.nn.functional as F\n",
    "from tqdm.notebook import tqdm\n",
    "import gc\n",
    "from IPython.display import display, HTML\n",
    "import html as html_escaper\n",
    "\n",
    "from utils import *\n",
    "\n",
    "# login(\"\")\n",
    "t.set_grad_enabled(False)"
   ]
  },
  {
   "cell_type": "code",
   "execution_count": 5,
   "metadata": {},
   "outputs": [
    {
     "data": {
      "application/vnd.jupyter.widget-view+json": {
       "model_id": "200457d98d44410186e4dea46b5e6970",
       "version_major": 2,
       "version_minor": 0
      },
      "text/plain": [
       "config.json:   0%|          | 0.00/818 [00:00<?, ?B/s]"
      ]
     },
     "metadata": {},
     "output_type": "display_data"
    },
    {
     "data": {
      "application/vnd.jupyter.widget-view+json": {
       "model_id": "23486cf49088438d888c71a6046ccf0e",
       "version_major": 2,
       "version_minor": 0
      },
      "text/plain": [
       "model.safetensors.index.json:   0%|          | 0.00/24.2k [00:00<?, ?B/s]"
      ]
     },
     "metadata": {},
     "output_type": "display_data"
    },
    {
     "data": {
      "application/vnd.jupyter.widget-view+json": {
       "model_id": "6b2815cb1f3a4933b367a77a923b3a5c",
       "version_major": 2,
       "version_minor": 0
      },
      "text/plain": [
       "Fetching 3 files:   0%|          | 0/3 [00:00<?, ?it/s]"
      ]
     },
     "metadata": {},
     "output_type": "display_data"
    },
    {
     "data": {
      "application/vnd.jupyter.widget-view+json": {
       "model_id": "35187e511a0f4deaa1f64236e063c384",
       "version_major": 2,
       "version_minor": 0
      },
      "text/plain": [
       "model-00002-of-00003.safetensors:   0%|          | 0.00/4.98G [00:00<?, ?B/s]"
      ]
     },
     "metadata": {},
     "output_type": "display_data"
    },
    {
     "data": {
      "application/vnd.jupyter.widget-view+json": {
       "model_id": "8c38e4e0b5de4c1eafd531e3afe2f087",
       "version_major": 2,
       "version_minor": 0
      },
      "text/plain": [
       "model-00003-of-00003.safetensors:   0%|          | 0.00/481M [00:00<?, ?B/s]"
      ]
     },
     "metadata": {},
     "output_type": "display_data"
    },
    {
     "data": {
      "application/vnd.jupyter.widget-view+json": {
       "model_id": "5f7871d6c9cd407d9a7b5a494698999f",
       "version_major": 2,
       "version_minor": 0
      },
      "text/plain": [
       "model-00001-of-00003.safetensors:   0%|          | 0.00/4.99G [00:00<?, ?B/s]"
      ]
     },
     "metadata": {},
     "output_type": "display_data"
    },
    {
     "data": {
      "application/vnd.jupyter.widget-view+json": {
       "model_id": "3644645af3e84920bf809082caa20ebd",
       "version_major": 2,
       "version_minor": 0
      },
      "text/plain": [
       "Loading checkpoint shards:   0%|          | 0/3 [00:00<?, ?it/s]"
      ]
     },
     "metadata": {},
     "output_type": "display_data"
    },
    {
     "data": {
      "application/vnd.jupyter.widget-view+json": {
       "model_id": "d15ee58cb491416c80850f18a3f1070f",
       "version_major": 2,
       "version_minor": 0
      },
      "text/plain": [
       "generation_config.json:   0%|          | 0.00/168 [00:00<?, ?B/s]"
      ]
     },
     "metadata": {},
     "output_type": "display_data"
    },
    {
     "data": {
      "application/vnd.jupyter.widget-view+json": {
       "model_id": "701a49e7032342448e073977d3a4862e",
       "version_major": 2,
       "version_minor": 0
      },
      "text/plain": [
       "tokenizer_config.json:   0%|          | 0.00/46.4k [00:00<?, ?B/s]"
      ]
     },
     "metadata": {},
     "output_type": "display_data"
    },
    {
     "data": {
      "application/vnd.jupyter.widget-view+json": {
       "model_id": "f0d89f24ae6140cb89dc251f9bc36a9c",
       "version_major": 2,
       "version_minor": 0
      },
      "text/plain": [
       "tokenizer.model:   0%|          | 0.00/4.24M [00:00<?, ?B/s]"
      ]
     },
     "metadata": {},
     "output_type": "display_data"
    },
    {
     "data": {
      "application/vnd.jupyter.widget-view+json": {
       "model_id": "ded41892da1a4f1aa2dad49f575323b7",
       "version_major": 2,
       "version_minor": 0
      },
      "text/plain": [
       "tokenizer.json:   0%|          | 0.00/17.5M [00:00<?, ?B/s]"
      ]
     },
     "metadata": {},
     "output_type": "display_data"
    },
    {
     "data": {
      "application/vnd.jupyter.widget-view+json": {
       "model_id": "de5084dca74b40ddbc1aee2a56d8e2d5",
       "version_major": 2,
       "version_minor": 0
      },
      "text/plain": [
       "special_tokens_map.json:   0%|          | 0.00/636 [00:00<?, ?B/s]"
      ]
     },
     "metadata": {},
     "output_type": "display_data"
    },
    {
     "name": "stdout",
     "output_type": "stream",
     "text": [
      "Loaded pretrained model gemma-2-2b into HookedTransformer\n"
     ]
    },
    {
     "data": {
      "application/vnd.jupyter.widget-view+json": {
       "model_id": "df54c8fe758b4b9da1c3e05346bbab08",
       "version_major": 2,
       "version_minor": 0
      },
      "text/plain": [
       "config.json:   0%|          | 0.00/838 [00:00<?, ?B/s]"
      ]
     },
     "metadata": {},
     "output_type": "display_data"
    },
    {
     "data": {
      "application/vnd.jupyter.widget-view+json": {
       "model_id": "adf9ed98a4e1483d8edef6499ff99909",
       "version_major": 2,
       "version_minor": 0
      },
      "text/plain": [
       "model.safetensors.index.json:   0%|          | 0.00/24.2k [00:00<?, ?B/s]"
      ]
     },
     "metadata": {},
     "output_type": "display_data"
    },
    {
     "data": {
      "application/vnd.jupyter.widget-view+json": {
       "model_id": "b9e07d21110546878578c467fe5dbe75",
       "version_major": 2,
       "version_minor": 0
      },
      "text/plain": [
       "Fetching 2 files:   0%|          | 0/2 [00:00<?, ?it/s]"
      ]
     },
     "metadata": {},
     "output_type": "display_data"
    },
    {
     "data": {
      "application/vnd.jupyter.widget-view+json": {
       "model_id": "23be93f8ea494945862fed5c9aadb550",
       "version_major": 2,
       "version_minor": 0
      },
      "text/plain": [
       "model-00001-of-00002.safetensors:   0%|          | 0.00/4.99G [00:00<?, ?B/s]"
      ]
     },
     "metadata": {},
     "output_type": "display_data"
    },
    {
     "data": {
      "application/vnd.jupyter.widget-view+json": {
       "model_id": "9c11e314de4849dfab7f4f11a7014462",
       "version_major": 2,
       "version_minor": 0
      },
      "text/plain": [
       "model-00002-of-00002.safetensors:   0%|          | 0.00/241M [00:00<?, ?B/s]"
      ]
     },
     "metadata": {},
     "output_type": "display_data"
    },
    {
     "data": {
      "application/vnd.jupyter.widget-view+json": {
       "model_id": "7ea3e1f6ef9e44e4b154dba87d2b94ac",
       "version_major": 2,
       "version_minor": 0
      },
      "text/plain": [
       "Loading checkpoint shards:   0%|          | 0/2 [00:00<?, ?it/s]"
      ]
     },
     "metadata": {},
     "output_type": "display_data"
    },
    {
     "data": {
      "application/vnd.jupyter.widget-view+json": {
       "model_id": "8342d343eb684d829b61abc6fad2ef52",
       "version_major": 2,
       "version_minor": 0
      },
      "text/plain": [
       "generation_config.json:   0%|          | 0.00/187 [00:00<?, ?B/s]"
      ]
     },
     "metadata": {},
     "output_type": "display_data"
    },
    {
     "data": {
      "application/vnd.jupyter.widget-view+json": {
       "model_id": "c91c2154863646d09aa7af31d973d6fb",
       "version_major": 2,
       "version_minor": 0
      },
      "text/plain": [
       "tokenizer_config.json:   0%|          | 0.00/47.0k [00:00<?, ?B/s]"
      ]
     },
     "metadata": {},
     "output_type": "display_data"
    },
    {
     "data": {
      "application/vnd.jupyter.widget-view+json": {
       "model_id": "b200fb3b3d4f485e89b512d59879ea60",
       "version_major": 2,
       "version_minor": 0
      },
      "text/plain": [
       "tokenizer.model:   0%|          | 0.00/4.24M [00:00<?, ?B/s]"
      ]
     },
     "metadata": {},
     "output_type": "display_data"
    },
    {
     "data": {
      "application/vnd.jupyter.widget-view+json": {
       "model_id": "516dec1f91034d1890685f8e24ca9147",
       "version_major": 2,
       "version_minor": 0
      },
      "text/plain": [
       "tokenizer.json:   0%|          | 0.00/17.5M [00:00<?, ?B/s]"
      ]
     },
     "metadata": {},
     "output_type": "display_data"
    },
    {
     "data": {
      "application/vnd.jupyter.widget-view+json": {
       "model_id": "3402161ae71148e4a1c1cfb1271cf54b",
       "version_major": 2,
       "version_minor": 0
      },
      "text/plain": [
       "special_tokens_map.json:   0%|          | 0.00/636 [00:00<?, ?B/s]"
      ]
     },
     "metadata": {},
     "output_type": "display_data"
    },
    {
     "name": "stdout",
     "output_type": "stream",
     "text": [
      "Loaded pretrained model gemma-2-2b-it into HookedTransformer\n"
     ]
    },
    {
     "data": {
      "application/vnd.jupyter.widget-view+json": {
       "model_id": "1f5de2329cd64ba0999be5963247a1f8",
       "version_major": 2,
       "version_minor": 0
      },
      "text/plain": [
       "Loading checkpoint shards:   0%|          | 0/2 [00:00<?, ?it/s]"
      ]
     },
     "metadata": {},
     "output_type": "display_data"
    },
    {
     "name": "stdout",
     "output_type": "stream",
     "text": [
      "Loaded pretrained model gemma-2-2b-it into HookedTransformer\n"
     ]
    }
   ],
   "source": [
    "model_base = HookedTransformer.from_pretrained_no_processing(\"gemma-2-2b\", device=\"cpu\")\n",
    "model_chat = HookedTransformer.from_pretrained_no_processing(\"gemma-2-2b-it\", device=\"cuda\")\n",
    "model_hs = HookedTransformer.from_pretrained_no_processing(\"gemma-2-2b-it\", device=\"cuda\")\n",
    "clear_mem()"
   ]
  },
  {
   "cell_type": "code",
   "execution_count": 32,
   "metadata": {},
   "outputs": [],
   "source": [
    "MAX_SEQ_LEN = 300\n",
    "NUM_LINES = 2000\n",
    "with open(\"2b_it_generations.jsonl\", \"r\") as f:\n",
    "    data = [json.loads(line)['conversation'] for i, line in enumerate(f) if i < NUM_LINES]\n",
    "toks = model_base.to_tokens(data, prepend_bos=False)[:, :MAX_SEQ_LEN] "
   ]
  },
  {
   "cell_type": "code",
   "execution_count": 34,
   "metadata": {},
   "outputs": [
    {
     "data": {
      "application/vnd.jupyter.widget-view+json": {
       "model_id": "b43fe4a8a75949fd88d34f9bc7e48c40",
       "version_major": 2,
       "version_minor": 0
      },
      "text/plain": [
       "  0%|          | 0/1 [00:00<?, ?it/s]"
      ]
     },
     "metadata": {},
     "output_type": "display_data"
    }
   ],
   "source": [
    "clear_mem()\n",
    "\n",
    "layer, head = 15, 5\n",
    "kl_hs_chat, kl_ablated_chat = get_kl(model_base, model_hs, model_chat, toks[:20], layer, head, batch_size=16)"
   ]
  },
  {
   "cell_type": "code",
   "execution_count": 36,
   "metadata": {},
   "outputs": [
    {
     "data": {
      "text/html": [
       "&lt;bos&gt;<span style=\"background-color: rgba(255, 0, 0, 0.000); white-space: pre-wrap;\" title=\"KL: 0.000\">&lt;start_of_turn&gt;</span><span style=\"background-color: rgba(255, 0, 0, 0.003); white-space: pre-wrap;\" title=\"KL: 0.000\">user</span><span style=\"background-color: rgba(255, 0, 0, 0.002); white-space: pre-wrap;\" title=\"KL: 0.000\">\n",
       "</span><span style=\"background-color: rgba(255, 0, 0, 0.002); white-space: pre-wrap;\" title=\"KL: 0.000\">You</span><span style=\"background-color: rgba(255, 0, 0, 0.000); white-space: pre-wrap;\" title=\"KL: 0.000\"> is</span><span style=\"background-color: rgba(255, 0, 0, 0.001); white-space: pre-wrap;\" title=\"KL: 0.000\"> a</span><span style=\"background-color: rgba(255, 0, 0, 0.003); white-space: pre-wrap;\" title=\"KL: 0.000\"> C</span><span style=\"background-color: rgba(255, 0, 0, 0.004); white-space: pre-wrap;\" title=\"KL: 0.000\"> compiler</span><span style=\"background-color: rgba(255, 0, 0, 0.004); white-space: pre-wrap;\" title=\"KL: 0.000\">,</span><span style=\"background-color: rgba(255, 0, 0, 0.015); white-space: pre-wrap;\" title=\"KL: 0.000\"> you</span><span style=\"background-color: rgba(255, 0, 0, 0.003); white-space: pre-wrap;\" title=\"KL: 0.000\"> will</span><span style=\"background-color: rgba(255, 0, 0, 0.004); white-space: pre-wrap;\" title=\"KL: 0.000\"> compile</span><span style=\"background-color: rgba(255, 0, 0, 0.003); white-space: pre-wrap;\" title=\"KL: 0.000\"> the</span><span style=\"background-color: rgba(255, 0, 0, 0.007); white-space: pre-wrap;\" title=\"KL: 0.000\"> following</span><span style=\"background-color: rgba(255, 0, 0, 0.020); white-space: pre-wrap;\" title=\"KL: 0.000\"> code</span><span style=\"background-color: rgba(255, 0, 0, 0.006); white-space: pre-wrap;\" title=\"KL: 0.000\"> and</span><span style=\"background-color: rgba(255, 0, 0, 0.016); white-space: pre-wrap;\" title=\"KL: 0.000\"> print</span><span style=\"background-color: rgba(255, 0, 0, 0.001); white-space: pre-wrap;\" title=\"KL: 0.000\"> only</span><span style=\"background-color: rgba(255, 0, 0, 0.000); white-space: pre-wrap;\" title=\"KL: 0.000\"> the</span><span style=\"background-color: rgba(255, 0, 0, 0.008); white-space: pre-wrap;\" title=\"KL: 0.000\"> result</span><span style=\"background-color: rgba(255, 0, 0, 0.006); white-space: pre-wrap;\" title=\"KL: 0.000\"> as</span><span style=\"background-color: rgba(255, 0, 0, 0.007); white-space: pre-wrap;\" title=\"KL: 0.000\"> if</span><span style=\"background-color: rgba(255, 0, 0, 0.001); white-space: pre-wrap;\" title=\"KL: 0.000\"> you</span><span style=\"background-color: rgba(255, 0, 0, 0.002); white-space: pre-wrap;\" title=\"KL: 0.000\"> are</span><span style=\"background-color: rgba(255, 0, 0, 0.002); white-space: pre-wrap;\" title=\"KL: 0.000\"> a</span><span style=\"background-color: rgba(255, 0, 0, 0.001); white-space: pre-wrap;\" title=\"KL: 0.000\"> program</span><span style=\"background-color: rgba(255, 0, 0, 0.011); white-space: pre-wrap;\" title=\"KL: 0.000\"> dedicated</span><span style=\"background-color: rgba(255, 0, 0, 0.001); white-space: pre-wrap;\" title=\"KL: 0.000\"> to</span><span style=\"background-color: rgba(255, 0, 0, 0.009); white-space: pre-wrap;\" title=\"KL: 0.000\"> compile</span><span style=\"background-color: rgba(255, 0, 0, 0.005); white-space: pre-wrap;\" title=\"KL: 0.000\"> C</span><span style=\"background-color: rgba(255, 0, 0, 0.002); white-space: pre-wrap;\" title=\"KL: 0.000\"> codes</span><span style=\"background-color: rgba(255, 0, 0, 0.002); white-space: pre-wrap;\" title=\"KL: 0.000\">:</span><span style=\"background-color: rgba(255, 0, 0, 0.001); white-space: pre-wrap;\" title=\"KL: 0.000\"> </span><span style=\"background-color: rgba(255, 0, 0, 0.003); white-space: pre-wrap;\" title=\"KL: 0.000\">\n",
       "</span><span style=\"background-color: rgba(255, 0, 0, 0.002); white-space: pre-wrap;\" title=\"KL: 0.000\">#</span><span style=\"background-color: rgba(255, 0, 0, 0.000); white-space: pre-wrap;\" title=\"KL: 0.000\">include</span><span style=\"background-color: rgba(255, 0, 0, 0.002); white-space: pre-wrap;\" title=\"KL: 0.000\">  </span><span style=\"background-color: rgba(255, 0, 0, 0.000); white-space: pre-wrap;\" title=\"KL: 0.000\">&lt;</span><span style=\"background-color: rgba(255, 0, 0, 0.001); white-space: pre-wrap;\" title=\"KL: 0.000\">stdio</span><span style=\"background-color: rgba(255, 0, 0, 0.000); white-space: pre-wrap;\" title=\"KL: 0.000\">.</span><span style=\"background-color: rgba(255, 0, 0, 0.000); white-space: pre-wrap;\" title=\"KL: 0.000\">h</span><span style=\"background-color: rgba(255, 0, 0, 0.000); white-space: pre-wrap;\" title=\"KL: 0.000\">&gt;</span><span style=\"background-color: rgba(255, 0, 0, 0.000); white-space: pre-wrap;\" title=\"KL: 0.000\">\n",
       "\n",
       "</span><span style=\"background-color: rgba(255, 0, 0, 0.000); white-space: pre-wrap;\" title=\"KL: 0.000\">int</span><span style=\"background-color: rgba(255, 0, 0, 0.000); white-space: pre-wrap;\" title=\"KL: 0.000\"> main</span><span style=\"background-color: rgba(255, 0, 0, 0.003); white-space: pre-wrap;\" title=\"KL: 0.000\">(</span><span style=\"background-color: rgba(255, 0, 0, 0.006); white-space: pre-wrap;\" title=\"KL: 0.000\">void</span><span style=\"background-color: rgba(255, 0, 0, 0.000); white-space: pre-wrap;\" title=\"KL: 0.000\">)</span><span style=\"background-color: rgba(255, 0, 0, 0.003); white-space: pre-wrap;\" title=\"KL: 0.000\">\n",
       "</span><span style=\"background-color: rgba(255, 0, 0, 0.000); white-space: pre-wrap;\" title=\"KL: 0.000\">{</span><span style=\"background-color: rgba(255, 0, 0, 0.000); white-space: pre-wrap;\" title=\"KL: 0.000\">\n",
       "</span><span style=\"background-color: rgba(255, 0, 0, 0.001); white-space: pre-wrap;\" title=\"KL: 0.000\">    </span><span style=\"background-color: rgba(255, 0, 0, 0.017); white-space: pre-wrap;\" title=\"KL: 0.000\">puts</span><span style=\"background-color: rgba(255, 0, 0, 0.000); white-space: pre-wrap;\" title=\"KL: 0.000\">(\"</span><span style=\"background-color: rgba(255, 0, 0, 0.000); white-space: pre-wrap;\" title=\"KL: 0.000\">Olá</span><span style=\"background-color: rgba(255, 0, 0, 0.002); white-space: pre-wrap;\" title=\"KL: 0.000\">,</span><span style=\"background-color: rgba(255, 0, 0, 0.002); white-space: pre-wrap;\" title=\"KL: 0.000\"> Mundo</span><span style=\"background-color: rgba(255, 0, 0, 0.003); white-space: pre-wrap;\" title=\"KL: 0.000\">!\");</span><span style=\"background-color: rgba(255, 0, 0, 0.001); white-space: pre-wrap;\" title=\"KL: 0.000\">\n",
       "</span><span style=\"background-color: rgba(255, 0, 0, 0.000); white-space: pre-wrap;\" title=\"KL: 0.000\">    </span><span style=\"background-color: rgba(255, 0, 0, 0.002); white-space: pre-wrap;\" title=\"KL: 0.000\">return</span><span style=\"background-color: rgba(255, 0, 0, 0.000); white-space: pre-wrap;\" title=\"KL: 0.000\"> </span><span style=\"background-color: rgba(255, 0, 0, 0.000); white-space: pre-wrap;\" title=\"KL: -0.000\">0</span><span style=\"background-color: rgba(255, 0, 0, 0.000); white-space: pre-wrap;\" title=\"KL: 0.000\">;</span><span style=\"background-color: rgba(255, 0, 0, 0.001); white-space: pre-wrap;\" title=\"KL: 0.000\"> </span><span style=\"background-color: rgba(255, 0, 0, 0.000); white-space: pre-wrap;\" title=\"KL: 0.000\">\n",
       "</span><span style=\"background-color: rgba(255, 0, 0, 0.001); white-space: pre-wrap;\" title=\"KL: 0.000\">}</span><span style=\"background-color: rgba(255, 0, 0, 0.006); white-space: pre-wrap;\" title=\"KL: 0.000\">&lt;end_of_turn&gt;</span><span style=\"background-color: rgba(255, 0, 0, 0.002); white-space: pre-wrap;\" title=\"KL: 0.000\">\n",
       "</span><span style=\"background-color: rgba(255, 0, 0, 0.018); white-space: pre-wrap;\" title=\"KL: 0.000\">&lt;start_of_turn&gt;</span><span style=\"background-color: rgba(255, 0, 0, 0.002); white-space: pre-wrap;\" title=\"KL: 0.000\">model</span><span style=\"background-color: rgba(255, 0, 0, 0.000); white-space: pre-wrap;\" title=\"KL: 0.000\">\n",
       "</span><span style=\"background-color: rgba(255, 0, 0, 0.011); white-space: pre-wrap;\" title=\"KL: 0.000\">```</span><span style=\"background-color: rgba(255, 0, 0, 0.042); white-space: pre-wrap;\" title=\"KL: 0.001\">assembly</span><span style=\"background-color: rgba(255, 0, 0, 0.000); white-space: pre-wrap;\" title=\"KL: 0.000\">\n",
       "</span><span style=\"background-color: rgba(255, 0, 0, 0.048); white-space: pre-wrap;\" title=\"KL: 0.001\">.</span><span style=\"background-color: rgba(255, 0, 0, 0.014); white-space: pre-wrap;\" title=\"KL: 0.000\">data</span><span style=\"background-color: rgba(255, 0, 0, 0.000); white-space: pre-wrap;\" title=\"KL: 0.000\">\n",
       "</span><span style=\"background-color: rgba(255, 0, 0, 0.021); white-space: pre-wrap;\" title=\"KL: 0.000\">    </span><span style=\"background-color: rgba(255, 0, 0, 0.016); white-space: pre-wrap;\" title=\"KL: 0.000\">str</span><span style=\"background-color: rgba(255, 0, 0, 0.009); white-space: pre-wrap;\" title=\"KL: 0.000\">_</span><span style=\"background-color: rgba(255, 0, 0, 0.019); white-space: pre-wrap;\" title=\"KL: 0.000\">buffer</span><span style=\"background-color: rgba(255, 0, 0, 0.042); white-space: pre-wrap;\" title=\"KL: 0.001\">:</span><span style=\"background-color: rgba(255, 0, 0, 0.082); white-space: pre-wrap;\" title=\"KL: 0.002\"> .</span><span style=\"background-color: rgba(255, 0, 0, 0.006); white-space: pre-wrap;\" title=\"KL: 0.000\">asci</span><span style=\"background-color: rgba(255, 0, 0, 0.001); white-space: pre-wrap;\" title=\"KL: 0.000\">iz</span><span style=\"background-color: rgba(255, 0, 0, 0.000); white-space: pre-wrap;\" title=\"KL: 0.000\"> \"</span><span style=\"background-color: rgba(255, 0, 0, 0.000); white-space: pre-wrap;\" title=\"KL: 0.000\">Olá</span><span style=\"background-color: rgba(255, 0, 0, 0.000); white-space: pre-wrap;\" title=\"KL: 0.000\">,</span><span style=\"background-color: rgba(255, 0, 0, 0.000); white-space: pre-wrap;\" title=\"KL: 0.000\"> Mundo</span><span style=\"background-color: rgba(255, 0, 0, 0.021); white-space: pre-wrap;\" title=\"KL: 0.000\">!\"</span><span style=\"background-color: rgba(255, 0, 0, 0.000); white-space: pre-wrap;\" title=\"KL: 0.000\">\n",
       "\n",
       "</span><span style=\"background-color: rgba(255, 0, 0, 0.000); white-space: pre-wrap;\" title=\"KL: 0.000\">.</span><span style=\"background-color: rgba(255, 0, 0, 0.002); white-space: pre-wrap;\" title=\"KL: 0.000\">text</span><span style=\"background-color: rgba(255, 0, 0, 0.000); white-space: pre-wrap;\" title=\"KL: 0.000\">\n",
       "</span><span style=\"background-color: rgba(255, 0, 0, 0.008); white-space: pre-wrap;\" title=\"KL: 0.000\">main</span><span style=\"background-color: rgba(255, 0, 0, 0.003); white-space: pre-wrap;\" title=\"KL: 0.000\">:</span><span style=\"background-color: rgba(255, 0, 0, 0.001); white-space: pre-wrap;\" title=\"KL: 0.000\">\n",
       "</span><span style=\"background-color: rgba(255, 0, 0, 0.002); white-space: pre-wrap;\" title=\"KL: 0.000\">    </span><span style=\"background-color: rgba(255, 0, 0, 0.017); white-space: pre-wrap;\" title=\"KL: 0.000\">;</span><span style=\"background-color: rgba(255, 0, 0, 0.082); white-space: pre-wrap;\" title=\"KL: 0.002\"> Call</span><span style=\"background-color: rgba(255, 0, 0, 0.016); white-space: pre-wrap;\" title=\"KL: 0.000\"> the</span><span style=\"background-color: rgba(255, 0, 0, 0.019); white-space: pre-wrap;\" title=\"KL: 0.000\"> puts</span><span style=\"background-color: rgba(255, 0, 0, 0.012); white-space: pre-wrap;\" title=\"KL: 0.000\"> function</span><span style=\"background-color: rgba(255, 0, 0, 0.029); white-space: pre-wrap;\" title=\"KL: 0.001\"> to</span><span style=\"background-color: rgba(255, 0, 0, 0.003); white-space: pre-wrap;\" title=\"KL: 0.000\"> print</span><span style=\"background-color: rgba(255, 0, 0, 0.007); white-space: pre-wrap;\" title=\"KL: 0.000\"> the</span><span style=\"background-color: rgba(255, 0, 0, 0.002); white-space: pre-wrap;\" title=\"KL: 0.000\"> string</span><span style=\"background-color: rgba(255, 0, 0, 0.004); white-space: pre-wrap;\" title=\"KL: 0.000\">\n",
       "</span><span style=\"background-color: rgba(255, 0, 0, 0.000); white-space: pre-wrap;\" title=\"KL: 0.000\">    </span><span style=\"background-color: rgba(255, 0, 0, 0.065); white-space: pre-wrap;\" title=\"KL: 0.001\">mov</span><span style=\"background-color: rgba(255, 0, 0, 0.446); white-space: pre-wrap;\" title=\"KL: 0.009\">rax</span><span style=\"background-color: rgba(255, 0, 0, 0.000); white-space: pre-wrap;\" title=\"KL: 0.000\">,</span><span style=\"background-color: rgba(255, 0, 0, 0.230); white-space: pre-wrap;\" title=\"KL: 0.005\"> str</span><span style=\"background-color: rgba(255, 0, 0, 0.000); white-space: pre-wrap;\" title=\"KL: 0.000\">_</span><span style=\"background-color: rgba(255, 0, 0, 0.000); white-space: pre-wrap;\" title=\"KL: 0.000\">buffer</span><span style=\"background-color: rgba(255, 0, 0, 0.010); white-space: pre-wrap;\" title=\"KL: 0.000\"> </span><span style=\"background-color: rgba(255, 0, 0, 0.000); white-space: pre-wrap;\" title=\"KL: 0.000\">\n",
       "</span><span style=\"background-color: rgba(255, 0, 0, 0.000); white-space: pre-wrap;\" title=\"KL: 0.000\">    </span><span style=\"background-color: rgba(255, 0, 0, 0.039); white-space: pre-wrap;\" title=\"KL: 0.001\">mov</span><span style=\"background-color: rgba(255, 0, 0, 0.015); white-space: pre-wrap;\" title=\"KL: 0.000\"> r</span><span style=\"background-color: rgba(255, 0, 0, 0.008); white-space: pre-wrap;\" title=\"KL: 0.000\">di</span><span style=\"background-color: rgba(255, 0, 0, 0.000); white-space: pre-wrap;\" title=\"KL: 0.000\">,</span><span style=\"background-color: rgba(255, 0, 0, 0.037); white-space: pre-wrap;\" title=\"KL: 0.001\"> stdout</span><span style=\"background-color: rgba(255, 0, 0, 0.002); white-space: pre-wrap;\" title=\"KL: 0.000\"> </span><span style=\"background-color: rgba(255, 0, 0, 0.000); white-space: pre-wrap;\" title=\"KL: 0.000\">\n",
       "</span><span style=\"background-color: rgba(255, 0, 0, 0.000); white-space: pre-wrap;\" title=\"KL: 0.000\">    </span><span style=\"background-color: rgba(255, 0, 0, 0.032); white-space: pre-wrap;\" title=\"KL: 0.001\">mov</span><span style=\"background-color: rgba(255, 0, 0, 0.008); white-space: pre-wrap;\" title=\"KL: 0.000\"> r</span><span style=\"background-color: rgba(255, 0, 0, 0.000); white-space: pre-wrap;\" title=\"KL: 0.000\">si</span><span style=\"background-color: rgba(255, 0, 0, 0.000); white-space: pre-wrap;\" title=\"KL: 0.000\">,</span><span style=\"background-color: rgba(255, 0, 0, 0.112); white-space: pre-wrap;\" title=\"KL: 0.002\"> </span><span style=\"background-color: rgba(255, 0, 0, 0.050); white-space: pre-wrap;\" title=\"KL: 0.001\">6</span><span style=\"background-color: rgba(255, 0, 0, 0.031); white-space: pre-wrap;\" title=\"KL: 0.001\">\n",
       "</span><span style=\"background-color: rgba(255, 0, 0, 0.000); white-space: pre-wrap;\" title=\"KL: 0.000\">    </span><span style=\"background-color: rgba(255, 0, 0, 0.031); white-space: pre-wrap;\" title=\"KL: 0.001\">syscall</span><span style=\"background-color: rgba(255, 0, 0, 0.004); white-space: pre-wrap;\" title=\"KL: 0.000\"> </span><span style=\"background-color: rgba(255, 0, 0, 0.003); white-space: pre-wrap;\" title=\"KL: 0.000\">\n",
       "</span><span style=\"background-color: rgba(255, 0, 0, 0.002); white-space: pre-wrap;\" title=\"KL: 0.000\">    </span><span style=\"background-color: rgba(255, 0, 0, 0.014); white-space: pre-wrap;\" title=\"KL: 0.000\">;</span>"
      ],
      "text/plain": [
       "<IPython.core.display.HTML object>"
      ]
     },
     "metadata": {},
     "output_type": "display_data"
    },
    {
     "name": "stdout",
     "output_type": "stream",
     "text": [
      "High KL: 0.0089 at token 'rax'\\n\n"
     ]
    },
    {
     "data": {
      "text/html": [
       "<style type=\"text/css\">\n",
       "#T_ba7ae th {\n",
       "  text-align: left;\n",
       "}\n",
       "#T_ba7ae_row0_col0, #T_ba7ae_row1_col0, #T_ba7ae_row2_col0 {\n",
       "  background-color: lightgreen;\n",
       "  text-align: left;\n",
       "}\n",
       "#T_ba7ae_row0_col1, #T_ba7ae_row0_col2, #T_ba7ae_row1_col1, #T_ba7ae_row1_col2, #T_ba7ae_row2_col1, #T_ba7ae_row2_col2, #T_ba7ae_row3_col1, #T_ba7ae_row3_col2, #T_ba7ae_row4_col1, #T_ba7ae_row4_col2 {\n",
       "  text-align: left;\n",
       "}\n",
       "#T_ba7ae_row3_col0, #T_ba7ae_row4_col0 {\n",
       "  background-color: lightcoral;\n",
       "  text-align: left;\n",
       "}\n",
       "</style>\n",
       "<table id=\"T_ba7ae\">\n",
       "  <thead>\n",
       "    <tr>\n",
       "      <th class=\"blank level0\" >&nbsp;</th>\n",
       "      <th id=\"T_ba7ae_level0_col0\" class=\"col_heading level0 col0\" >Token</th>\n",
       "      <th id=\"T_ba7ae_level0_col1\" class=\"col_heading level0 col1\" >p_HS</th>\n",
       "      <th id=\"T_ba7ae_level0_col2\" class=\"col_heading level0 col2\" >p_B</th>\n",
       "    </tr>\n",
       "  </thead>\n",
       "  <tbody>\n",
       "    <tr>\n",
       "      <th id=\"T_ba7ae_level0_row0\" class=\"row_heading level0 row0\" >0</th>\n",
       "      <td id=\"T_ba7ae_row0_col0\" class=\"data row0 col0\" > $</td>\n",
       "      <td id=\"T_ba7ae_row0_col1\" class=\"data row0 col1\" >0.063</td>\n",
       "      <td id=\"T_ba7ae_row0_col2\" class=\"data row0 col2\" >0.071</td>\n",
       "    </tr>\n",
       "    <tr>\n",
       "      <th id=\"T_ba7ae_level0_row1\" class=\"row_heading level0 row1\" >1</th>\n",
       "      <td id=\"T_ba7ae_row1_col0\" class=\"data row1 col0\" >   </td>\n",
       "      <td id=\"T_ba7ae_row1_col1\" class=\"data row1 col1\" >0.087</td>\n",
       "      <td id=\"T_ba7ae_row1_col2\" class=\"data row1 col2\" >0.097</td>\n",
       "    </tr>\n",
       "    <tr>\n",
       "      <th id=\"T_ba7ae_level0_row2\" class=\"row_heading level0 row2\" >2</th>\n",
       "      <td id=\"T_ba7ae_row2_col0\" class=\"data row2 col0\" > r</td>\n",
       "      <td id=\"T_ba7ae_row2_col1\" class=\"data row2 col1\" >0.197</td>\n",
       "      <td id=\"T_ba7ae_row2_col2\" class=\"data row2 col2\" >0.216</td>\n",
       "    </tr>\n",
       "    <tr>\n",
       "      <th id=\"T_ba7ae_level0_row3\" class=\"row_heading level0 row3\" >3</th>\n",
       "      <td id=\"T_ba7ae_row3_col0\" class=\"data row3 col0\" > eax</td>\n",
       "      <td id=\"T_ba7ae_row3_col1\" class=\"data row3 col1\" >0.144</td>\n",
       "      <td id=\"T_ba7ae_row3_col2\" class=\"data row3 col2\" >0.127</td>\n",
       "    </tr>\n",
       "    <tr>\n",
       "      <th id=\"T_ba7ae_level0_row4\" class=\"row_heading level0 row4\" >4</th>\n",
       "      <td id=\"T_ba7ae_row4_col0\" class=\"data row4 col0\" > rax</td>\n",
       "      <td id=\"T_ba7ae_row4_col1\" class=\"data row4 col1\" >0.194</td>\n",
       "      <td id=\"T_ba7ae_row4_col2\" class=\"data row4 col2\" >0.153</td>\n",
       "    </tr>\n",
       "  </tbody>\n",
       "</table>\n"
      ],
      "text/plain": [
       "<IPython.core.display.HTML object>"
      ]
     },
     "metadata": {},
     "output_type": "display_data"
    },
    {
     "name": "stdout",
     "output_type": "stream",
     "text": [
      "--------------------------------------------------------------------------------------------------------------------------------------------------------------------------------------------------------\n"
     ]
    },
    {
     "data": {
      "text/html": [
       "&lt;bos&gt;<span style=\"background-color: rgba(255, 0, 0, 0.000); white-space: pre-wrap;\" title=\"KL: 0.000\">&lt;start_of_turn&gt;</span><span style=\"background-color: rgba(255, 0, 0, 0.003); white-space: pre-wrap;\" title=\"KL: 0.000\">user</span><span style=\"background-color: rgba(255, 0, 0, 0.002); white-space: pre-wrap;\" title=\"KL: 0.000\">\n",
       "</span><span style=\"background-color: rgba(255, 0, 0, 0.002); white-space: pre-wrap;\" title=\"KL: 0.000\">You</span><span style=\"background-color: rgba(255, 0, 0, 0.000); white-space: pre-wrap;\" title=\"KL: 0.000\"> is</span><span style=\"background-color: rgba(255, 0, 0, 0.001); white-space: pre-wrap;\" title=\"KL: 0.000\"> a</span><span style=\"background-color: rgba(255, 0, 0, 0.003); white-space: pre-wrap;\" title=\"KL: 0.000\"> C</span><span style=\"background-color: rgba(255, 0, 0, 0.004); white-space: pre-wrap;\" title=\"KL: 0.000\"> compiler</span><span style=\"background-color: rgba(255, 0, 0, 0.004); white-space: pre-wrap;\" title=\"KL: 0.000\">,</span><span style=\"background-color: rgba(255, 0, 0, 0.015); white-space: pre-wrap;\" title=\"KL: 0.000\"> you</span><span style=\"background-color: rgba(255, 0, 0, 0.003); white-space: pre-wrap;\" title=\"KL: 0.000\"> will</span><span style=\"background-color: rgba(255, 0, 0, 0.004); white-space: pre-wrap;\" title=\"KL: 0.000\"> compile</span><span style=\"background-color: rgba(255, 0, 0, 0.003); white-space: pre-wrap;\" title=\"KL: 0.000\"> the</span><span style=\"background-color: rgba(255, 0, 0, 0.007); white-space: pre-wrap;\" title=\"KL: 0.000\"> following</span><span style=\"background-color: rgba(255, 0, 0, 0.020); white-space: pre-wrap;\" title=\"KL: 0.000\"> code</span><span style=\"background-color: rgba(255, 0, 0, 0.006); white-space: pre-wrap;\" title=\"KL: 0.000\"> and</span><span style=\"background-color: rgba(255, 0, 0, 0.016); white-space: pre-wrap;\" title=\"KL: 0.000\"> print</span><span style=\"background-color: rgba(255, 0, 0, 0.001); white-space: pre-wrap;\" title=\"KL: 0.000\"> only</span><span style=\"background-color: rgba(255, 0, 0, 0.000); white-space: pre-wrap;\" title=\"KL: 0.000\"> the</span><span style=\"background-color: rgba(255, 0, 0, 0.008); white-space: pre-wrap;\" title=\"KL: 0.000\"> result</span><span style=\"background-color: rgba(255, 0, 0, 0.006); white-space: pre-wrap;\" title=\"KL: 0.000\"> as</span><span style=\"background-color: rgba(255, 0, 0, 0.007); white-space: pre-wrap;\" title=\"KL: 0.000\"> if</span><span style=\"background-color: rgba(255, 0, 0, 0.001); white-space: pre-wrap;\" title=\"KL: 0.000\"> you</span><span style=\"background-color: rgba(255, 0, 0, 0.002); white-space: pre-wrap;\" title=\"KL: 0.000\"> are</span><span style=\"background-color: rgba(255, 0, 0, 0.002); white-space: pre-wrap;\" title=\"KL: 0.000\"> a</span><span style=\"background-color: rgba(255, 0, 0, 0.001); white-space: pre-wrap;\" title=\"KL: 0.000\"> program</span><span style=\"background-color: rgba(255, 0, 0, 0.011); white-space: pre-wrap;\" title=\"KL: 0.000\"> dedicated</span><span style=\"background-color: rgba(255, 0, 0, 0.001); white-space: pre-wrap;\" title=\"KL: 0.000\"> to</span><span style=\"background-color: rgba(255, 0, 0, 0.009); white-space: pre-wrap;\" title=\"KL: 0.000\"> compile</span><span style=\"background-color: rgba(255, 0, 0, 0.005); white-space: pre-wrap;\" title=\"KL: 0.000\"> C</span><span style=\"background-color: rgba(255, 0, 0, 0.002); white-space: pre-wrap;\" title=\"KL: 0.000\"> codes</span><span style=\"background-color: rgba(255, 0, 0, 0.002); white-space: pre-wrap;\" title=\"KL: 0.000\">:</span><span style=\"background-color: rgba(255, 0, 0, 0.001); white-space: pre-wrap;\" title=\"KL: 0.000\"> </span><span style=\"background-color: rgba(255, 0, 0, 0.003); white-space: pre-wrap;\" title=\"KL: 0.000\">\n",
       "</span><span style=\"background-color: rgba(255, 0, 0, 0.002); white-space: pre-wrap;\" title=\"KL: 0.000\">#</span><span style=\"background-color: rgba(255, 0, 0, 0.000); white-space: pre-wrap;\" title=\"KL: 0.000\">include</span><span style=\"background-color: rgba(255, 0, 0, 0.002); white-space: pre-wrap;\" title=\"KL: 0.000\">  </span><span style=\"background-color: rgba(255, 0, 0, 0.000); white-space: pre-wrap;\" title=\"KL: 0.000\">&lt;</span><span style=\"background-color: rgba(255, 0, 0, 0.001); white-space: pre-wrap;\" title=\"KL: 0.000\">stdio</span><span style=\"background-color: rgba(255, 0, 0, 0.000); white-space: pre-wrap;\" title=\"KL: 0.000\">.</span><span style=\"background-color: rgba(255, 0, 0, 0.000); white-space: pre-wrap;\" title=\"KL: 0.000\">h</span><span style=\"background-color: rgba(255, 0, 0, 0.000); white-space: pre-wrap;\" title=\"KL: 0.000\">&gt;</span><span style=\"background-color: rgba(255, 0, 0, 0.000); white-space: pre-wrap;\" title=\"KL: 0.000\">\n",
       "\n",
       "</span><span style=\"background-color: rgba(255, 0, 0, 0.000); white-space: pre-wrap;\" title=\"KL: 0.000\">int</span><span style=\"background-color: rgba(255, 0, 0, 0.000); white-space: pre-wrap;\" title=\"KL: 0.000\"> main</span><span style=\"background-color: rgba(255, 0, 0, 0.003); white-space: pre-wrap;\" title=\"KL: 0.000\">(</span><span style=\"background-color: rgba(255, 0, 0, 0.006); white-space: pre-wrap;\" title=\"KL: 0.000\">void</span><span style=\"background-color: rgba(255, 0, 0, 0.000); white-space: pre-wrap;\" title=\"KL: 0.000\">)</span><span style=\"background-color: rgba(255, 0, 0, 0.003); white-space: pre-wrap;\" title=\"KL: 0.000\">\n",
       "</span><span style=\"background-color: rgba(255, 0, 0, 0.000); white-space: pre-wrap;\" title=\"KL: 0.000\">{</span><span style=\"background-color: rgba(255, 0, 0, 0.000); white-space: pre-wrap;\" title=\"KL: 0.000\">\n",
       "</span><span style=\"background-color: rgba(255, 0, 0, 0.001); white-space: pre-wrap;\" title=\"KL: 0.000\">    </span><span style=\"background-color: rgba(255, 0, 0, 0.017); white-space: pre-wrap;\" title=\"KL: 0.000\">puts</span><span style=\"background-color: rgba(255, 0, 0, 0.000); white-space: pre-wrap;\" title=\"KL: 0.000\">(\"</span><span style=\"background-color: rgba(255, 0, 0, 0.000); white-space: pre-wrap;\" title=\"KL: 0.000\">Olá</span><span style=\"background-color: rgba(255, 0, 0, 0.002); white-space: pre-wrap;\" title=\"KL: 0.000\">,</span><span style=\"background-color: rgba(255, 0, 0, 0.002); white-space: pre-wrap;\" title=\"KL: 0.000\"> Mundo</span><span style=\"background-color: rgba(255, 0, 0, 0.003); white-space: pre-wrap;\" title=\"KL: 0.000\">!\");</span><span style=\"background-color: rgba(255, 0, 0, 0.001); white-space: pre-wrap;\" title=\"KL: 0.000\">\n",
       "</span><span style=\"background-color: rgba(255, 0, 0, 0.000); white-space: pre-wrap;\" title=\"KL: 0.000\">    </span><span style=\"background-color: rgba(255, 0, 0, 0.002); white-space: pre-wrap;\" title=\"KL: 0.000\">return</span><span style=\"background-color: rgba(255, 0, 0, 0.000); white-space: pre-wrap;\" title=\"KL: 0.000\"> </span><span style=\"background-color: rgba(255, 0, 0, 0.000); white-space: pre-wrap;\" title=\"KL: -0.000\">0</span><span style=\"background-color: rgba(255, 0, 0, 0.000); white-space: pre-wrap;\" title=\"KL: 0.000\">;</span><span style=\"background-color: rgba(255, 0, 0, 0.001); white-space: pre-wrap;\" title=\"KL: 0.000\"> </span><span style=\"background-color: rgba(255, 0, 0, 0.000); white-space: pre-wrap;\" title=\"KL: 0.000\">\n",
       "</span><span style=\"background-color: rgba(255, 0, 0, 0.001); white-space: pre-wrap;\" title=\"KL: 0.000\">}</span><span style=\"background-color: rgba(255, 0, 0, 0.006); white-space: pre-wrap;\" title=\"KL: 0.000\">&lt;end_of_turn&gt;</span><span style=\"background-color: rgba(255, 0, 0, 0.002); white-space: pre-wrap;\" title=\"KL: 0.000\">\n",
       "</span><span style=\"background-color: rgba(255, 0, 0, 0.018); white-space: pre-wrap;\" title=\"KL: 0.000\">&lt;start_of_turn&gt;</span><span style=\"background-color: rgba(255, 0, 0, 0.002); white-space: pre-wrap;\" title=\"KL: 0.000\">model</span><span style=\"background-color: rgba(255, 0, 0, 0.000); white-space: pre-wrap;\" title=\"KL: 0.000\">\n",
       "</span><span style=\"background-color: rgba(255, 0, 0, 0.011); white-space: pre-wrap;\" title=\"KL: 0.000\">```</span><span style=\"background-color: rgba(255, 0, 0, 0.042); white-space: pre-wrap;\" title=\"KL: 0.001\">assembly</span><span style=\"background-color: rgba(255, 0, 0, 0.000); white-space: pre-wrap;\" title=\"KL: 0.000\">\n",
       "</span><span style=\"background-color: rgba(255, 0, 0, 0.048); white-space: pre-wrap;\" title=\"KL: 0.001\">.</span><span style=\"background-color: rgba(255, 0, 0, 0.014); white-space: pre-wrap;\" title=\"KL: 0.000\">data</span><span style=\"background-color: rgba(255, 0, 0, 0.000); white-space: pre-wrap;\" title=\"KL: 0.000\">\n",
       "</span><span style=\"background-color: rgba(255, 0, 0, 0.021); white-space: pre-wrap;\" title=\"KL: 0.000\">    </span><span style=\"background-color: rgba(255, 0, 0, 0.016); white-space: pre-wrap;\" title=\"KL: 0.000\">str</span><span style=\"background-color: rgba(255, 0, 0, 0.009); white-space: pre-wrap;\" title=\"KL: 0.000\">_</span><span style=\"background-color: rgba(255, 0, 0, 0.019); white-space: pre-wrap;\" title=\"KL: 0.000\">buffer</span><span style=\"background-color: rgba(255, 0, 0, 0.042); white-space: pre-wrap;\" title=\"KL: 0.001\">:</span><span style=\"background-color: rgba(255, 0, 0, 0.082); white-space: pre-wrap;\" title=\"KL: 0.002\"> .</span><span style=\"background-color: rgba(255, 0, 0, 0.006); white-space: pre-wrap;\" title=\"KL: 0.000\">asci</span><span style=\"background-color: rgba(255, 0, 0, 0.001); white-space: pre-wrap;\" title=\"KL: 0.000\">iz</span><span style=\"background-color: rgba(255, 0, 0, 0.000); white-space: pre-wrap;\" title=\"KL: 0.000\"> \"</span><span style=\"background-color: rgba(255, 0, 0, 0.000); white-space: pre-wrap;\" title=\"KL: 0.000\">Olá</span><span style=\"background-color: rgba(255, 0, 0, 0.000); white-space: pre-wrap;\" title=\"KL: 0.000\">,</span><span style=\"background-color: rgba(255, 0, 0, 0.000); white-space: pre-wrap;\" title=\"KL: 0.000\"> Mundo</span><span style=\"background-color: rgba(255, 0, 0, 0.021); white-space: pre-wrap;\" title=\"KL: 0.000\">!\"</span><span style=\"background-color: rgba(255, 0, 0, 0.000); white-space: pre-wrap;\" title=\"KL: 0.000\">\n",
       "\n",
       "</span><span style=\"background-color: rgba(255, 0, 0, 0.000); white-space: pre-wrap;\" title=\"KL: 0.000\">.</span><span style=\"background-color: rgba(255, 0, 0, 0.002); white-space: pre-wrap;\" title=\"KL: 0.000\">text</span><span style=\"background-color: rgba(255, 0, 0, 0.000); white-space: pre-wrap;\" title=\"KL: 0.000\">\n",
       "</span><span style=\"background-color: rgba(255, 0, 0, 0.008); white-space: pre-wrap;\" title=\"KL: 0.000\">main</span><span style=\"background-color: rgba(255, 0, 0, 0.003); white-space: pre-wrap;\" title=\"KL: 0.000\">:</span><span style=\"background-color: rgba(255, 0, 0, 0.001); white-space: pre-wrap;\" title=\"KL: 0.000\">\n",
       "</span><span style=\"background-color: rgba(255, 0, 0, 0.002); white-space: pre-wrap;\" title=\"KL: 0.000\">    </span><span style=\"background-color: rgba(255, 0, 0, 0.017); white-space: pre-wrap;\" title=\"KL: 0.000\">;</span><span style=\"background-color: rgba(255, 0, 0, 0.082); white-space: pre-wrap;\" title=\"KL: 0.002\"> Call</span><span style=\"background-color: rgba(255, 0, 0, 0.016); white-space: pre-wrap;\" title=\"KL: 0.000\"> the</span><span style=\"background-color: rgba(255, 0, 0, 0.019); white-space: pre-wrap;\" title=\"KL: 0.000\"> puts</span><span style=\"background-color: rgba(255, 0, 0, 0.012); white-space: pre-wrap;\" title=\"KL: 0.000\"> function</span><span style=\"background-color: rgba(255, 0, 0, 0.029); white-space: pre-wrap;\" title=\"KL: 0.001\"> to</span><span style=\"background-color: rgba(255, 0, 0, 0.003); white-space: pre-wrap;\" title=\"KL: 0.000\"> print</span><span style=\"background-color: rgba(255, 0, 0, 0.007); white-space: pre-wrap;\" title=\"KL: 0.000\"> the</span><span style=\"background-color: rgba(255, 0, 0, 0.002); white-space: pre-wrap;\" title=\"KL: 0.000\"> string</span><span style=\"background-color: rgba(255, 0, 0, 0.004); white-space: pre-wrap;\" title=\"KL: 0.000\">\n",
       "</span><span style=\"background-color: rgba(255, 0, 0, 0.000); white-space: pre-wrap;\" title=\"KL: 0.000\">    </span><span style=\"background-color: rgba(255, 0, 0, 0.065); white-space: pre-wrap;\" title=\"KL: 0.001\">mov</span><span style=\"background-color: rgba(255, 0, 0, 0.446); white-space: pre-wrap;\" title=\"KL: 0.009\">rax</span><span style=\"background-color: rgba(255, 0, 0, 0.000); white-space: pre-wrap;\" title=\"KL: 0.000\">,</span><span style=\"background-color: rgba(255, 0, 0, 0.230); white-space: pre-wrap;\" title=\"KL: 0.005\"> str</span><span style=\"background-color: rgba(255, 0, 0, 0.000); white-space: pre-wrap;\" title=\"KL: 0.000\">_</span><span style=\"background-color: rgba(255, 0, 0, 0.000); white-space: pre-wrap;\" title=\"KL: 0.000\">buffer</span><span style=\"background-color: rgba(255, 0, 0, 0.010); white-space: pre-wrap;\" title=\"KL: 0.000\"> </span><span style=\"background-color: rgba(255, 0, 0, 0.000); white-space: pre-wrap;\" title=\"KL: 0.000\">\n",
       "</span><span style=\"background-color: rgba(255, 0, 0, 0.000); white-space: pre-wrap;\" title=\"KL: 0.000\">    </span><span style=\"background-color: rgba(255, 0, 0, 0.039); white-space: pre-wrap;\" title=\"KL: 0.001\">mov</span><span style=\"background-color: rgba(255, 0, 0, 0.015); white-space: pre-wrap;\" title=\"KL: 0.000\"> r</span><span style=\"background-color: rgba(255, 0, 0, 0.008); white-space: pre-wrap;\" title=\"KL: 0.000\">di</span><span style=\"background-color: rgba(255, 0, 0, 0.000); white-space: pre-wrap;\" title=\"KL: 0.000\">,</span><span style=\"background-color: rgba(255, 0, 0, 0.037); white-space: pre-wrap;\" title=\"KL: 0.001\"> stdout</span><span style=\"background-color: rgba(255, 0, 0, 0.002); white-space: pre-wrap;\" title=\"KL: 0.000\"> </span><span style=\"background-color: rgba(255, 0, 0, 0.000); white-space: pre-wrap;\" title=\"KL: 0.000\">\n",
       "</span><span style=\"background-color: rgba(255, 0, 0, 0.000); white-space: pre-wrap;\" title=\"KL: 0.000\">    </span><span style=\"background-color: rgba(255, 0, 0, 0.032); white-space: pre-wrap;\" title=\"KL: 0.001\">mov</span><span style=\"background-color: rgba(255, 0, 0, 0.008); white-space: pre-wrap;\" title=\"KL: 0.000\"> r</span><span style=\"background-color: rgba(255, 0, 0, 0.000); white-space: pre-wrap;\" title=\"KL: 0.000\">si</span><span style=\"background-color: rgba(255, 0, 0, 0.000); white-space: pre-wrap;\" title=\"KL: 0.000\">,</span><span style=\"background-color: rgba(255, 0, 0, 0.112); white-space: pre-wrap;\" title=\"KL: 0.002\"> </span><span style=\"background-color: rgba(255, 0, 0, 0.050); white-space: pre-wrap;\" title=\"KL: 0.001\">6</span><span style=\"background-color: rgba(255, 0, 0, 0.031); white-space: pre-wrap;\" title=\"KL: 0.001\">\n",
       "</span><span style=\"background-color: rgba(255, 0, 0, 0.000); white-space: pre-wrap;\" title=\"KL: 0.000\">    </span><span style=\"background-color: rgba(255, 0, 0, 0.031); white-space: pre-wrap;\" title=\"KL: 0.001\">syscall</span><span style=\"background-color: rgba(255, 0, 0, 0.004); white-space: pre-wrap;\" title=\"KL: 0.000\"> </span><span style=\"background-color: rgba(255, 0, 0, 0.003); white-space: pre-wrap;\" title=\"KL: 0.000\">\n",
       "</span><span style=\"background-color: rgba(255, 0, 0, 0.002); white-space: pre-wrap;\" title=\"KL: 0.000\">    </span><span style=\"background-color: rgba(255, 0, 0, 0.014); white-space: pre-wrap;\" title=\"KL: 0.000\">;</span><span style=\"background-color: rgba(255, 0, 0, 0.008); white-space: pre-wrap;\" title=\"KL: 0.000\"> Exit</span><span style=\"background-color: rgba(255, 0, 0, 0.004); white-space: pre-wrap;\" title=\"KL: 0.000\"> with</span>"
      ],
      "text/plain": [
       "<IPython.core.display.HTML object>"
      ]
     },
     "metadata": {},
     "output_type": "display_data"
    },
    {
     "name": "stdout",
     "output_type": "stream",
     "text": [
      "High KL: 0.0089 at token 'rax'\\n\n"
     ]
    },
    {
     "data": {
      "text/html": [
       "<style type=\"text/css\">\n",
       "#T_abf87 th {\n",
       "  text-align: left;\n",
       "}\n",
       "#T_abf87_row0_col0, #T_abf87_row1_col0, #T_abf87_row2_col0 {\n",
       "  background-color: lightgreen;\n",
       "  text-align: left;\n",
       "}\n",
       "#T_abf87_row0_col1, #T_abf87_row0_col2, #T_abf87_row1_col1, #T_abf87_row1_col2, #T_abf87_row2_col1, #T_abf87_row2_col2, #T_abf87_row3_col1, #T_abf87_row3_col2, #T_abf87_row4_col1, #T_abf87_row4_col2 {\n",
       "  text-align: left;\n",
       "}\n",
       "#T_abf87_row3_col0, #T_abf87_row4_col0 {\n",
       "  background-color: lightcoral;\n",
       "  text-align: left;\n",
       "}\n",
       "</style>\n",
       "<table id=\"T_abf87\">\n",
       "  <thead>\n",
       "    <tr>\n",
       "      <th class=\"blank level0\" >&nbsp;</th>\n",
       "      <th id=\"T_abf87_level0_col0\" class=\"col_heading level0 col0\" >Token</th>\n",
       "      <th id=\"T_abf87_level0_col1\" class=\"col_heading level0 col1\" >p_HS</th>\n",
       "      <th id=\"T_abf87_level0_col2\" class=\"col_heading level0 col2\" >p_B</th>\n",
       "    </tr>\n",
       "  </thead>\n",
       "  <tbody>\n",
       "    <tr>\n",
       "      <th id=\"T_abf87_level0_row0\" class=\"row_heading level0 row0\" >0</th>\n",
       "      <td id=\"T_abf87_row0_col0\" class=\"data row0 col0\" > $</td>\n",
       "      <td id=\"T_abf87_row0_col1\" class=\"data row0 col1\" >0.063</td>\n",
       "      <td id=\"T_abf87_row0_col2\" class=\"data row0 col2\" >0.071</td>\n",
       "    </tr>\n",
       "    <tr>\n",
       "      <th id=\"T_abf87_level0_row1\" class=\"row_heading level0 row1\" >1</th>\n",
       "      <td id=\"T_abf87_row1_col0\" class=\"data row1 col0\" >   </td>\n",
       "      <td id=\"T_abf87_row1_col1\" class=\"data row1 col1\" >0.087</td>\n",
       "      <td id=\"T_abf87_row1_col2\" class=\"data row1 col2\" >0.097</td>\n",
       "    </tr>\n",
       "    <tr>\n",
       "      <th id=\"T_abf87_level0_row2\" class=\"row_heading level0 row2\" >2</th>\n",
       "      <td id=\"T_abf87_row2_col0\" class=\"data row2 col0\" > r</td>\n",
       "      <td id=\"T_abf87_row2_col1\" class=\"data row2 col1\" >0.197</td>\n",
       "      <td id=\"T_abf87_row2_col2\" class=\"data row2 col2\" >0.216</td>\n",
       "    </tr>\n",
       "    <tr>\n",
       "      <th id=\"T_abf87_level0_row3\" class=\"row_heading level0 row3\" >3</th>\n",
       "      <td id=\"T_abf87_row3_col0\" class=\"data row3 col0\" > eax</td>\n",
       "      <td id=\"T_abf87_row3_col1\" class=\"data row3 col1\" >0.144</td>\n",
       "      <td id=\"T_abf87_row3_col2\" class=\"data row3 col2\" >0.127</td>\n",
       "    </tr>\n",
       "    <tr>\n",
       "      <th id=\"T_abf87_level0_row4\" class=\"row_heading level0 row4\" >4</th>\n",
       "      <td id=\"T_abf87_row4_col0\" class=\"data row4 col0\" > rax</td>\n",
       "      <td id=\"T_abf87_row4_col1\" class=\"data row4 col1\" >0.194</td>\n",
       "      <td id=\"T_abf87_row4_col2\" class=\"data row4 col2\" >0.153</td>\n",
       "    </tr>\n",
       "  </tbody>\n",
       "</table>\n"
      ],
      "text/plain": [
       "<IPython.core.display.HTML object>"
      ]
     },
     "metadata": {},
     "output_type": "display_data"
    },
    {
     "name": "stdout",
     "output_type": "stream",
     "text": [
      "--------------------------------------------------------------------------------------------------------------------------------------------------------------------------------------------------------\n"
     ]
    },
    {
     "data": {
      "text/html": [
       "&lt;bos&gt;<span style=\"background-color: rgba(255, 0, 0, 0.000); white-space: pre-wrap;\" title=\"KL: 0.000\">&lt;start_of_turn&gt;</span><span style=\"background-color: rgba(255, 0, 0, 0.003); white-space: pre-wrap;\" title=\"KL: 0.000\">user</span><span style=\"background-color: rgba(255, 0, 0, 0.002); white-space: pre-wrap;\" title=\"KL: 0.000\">\n",
       "</span><span style=\"background-color: rgba(255, 0, 0, 0.002); white-space: pre-wrap;\" title=\"KL: 0.000\">write</span><span style=\"background-color: rgba(255, 0, 0, 0.000); white-space: pre-wrap;\" title=\"KL: 0.000\"> a</span><span style=\"background-color: rgba(255, 0, 0, 0.002); white-space: pre-wrap;\" title=\"KL: 0.000\"> song</span><span style=\"background-color: rgba(255, 0, 0, 0.002); white-space: pre-wrap;\" title=\"KL: 0.000\"> to</span><span style=\"background-color: rgba(255, 0, 0, 0.004); white-space: pre-wrap;\" title=\"KL: 0.000\"> the</span><span style=\"background-color: rgba(255, 0, 0, 0.048); white-space: pre-wrap;\" title=\"KL: 0.001\"> tune</span><span style=\"background-color: rgba(255, 0, 0, 0.000); white-space: pre-wrap;\" title=\"KL: 0.000\"> of</span><span style=\"background-color: rgba(255, 0, 0, 0.003); white-space: pre-wrap;\" title=\"KL: 0.000\"> we</span><span style=\"background-color: rgba(255, 0, 0, 0.007); white-space: pre-wrap;\" title=\"KL: 0.000\"> are</span><span style=\"background-color: rgba(255, 0, 0, 0.005); white-space: pre-wrap;\" title=\"KL: 0.000\"> the</span><span style=\"background-color: rgba(255, 0, 0, 0.004); white-space: pre-wrap;\" title=\"KL: 0.000\"> champions</span><span style=\"background-color: rgba(255, 0, 0, 0.007); white-space: pre-wrap;\" title=\"KL: 0.000\">,</span><span style=\"background-color: rgba(255, 0, 0, 0.003); white-space: pre-wrap;\" title=\"KL: 0.000\"> make</span><span style=\"background-color: rgba(255, 0, 0, 0.004); white-space: pre-wrap;\" title=\"KL: 0.000\"> the</span><span style=\"background-color: rgba(255, 0, 0, 0.193); white-space: pre-wrap;\" title=\"KL: 0.004\"> song</span><span style=\"background-color: rgba(255, 0, 0, 0.002); white-space: pre-wrap;\" title=\"KL: 0.000\"> about</span><span style=\"background-color: rgba(255, 0, 0, 0.022); white-space: pre-wrap;\" title=\"KL: 0.000\"> how</span><span style=\"background-color: rgba(255, 0, 0, 0.016); white-space: pre-wrap;\" title=\"KL: 0.000\"> great</span><span style=\"background-color: rgba(255, 0, 0, 0.024); white-space: pre-wrap;\" title=\"KL: 0.000\"> it</span><span style=\"background-color: rgba(255, 0, 0, 0.000); white-space: pre-wrap;\" title=\"KL: 0.000\"> is</span><span style=\"background-color: rgba(255, 0, 0, 0.000); white-space: pre-wrap;\" title=\"KL: 0.000\"> to</span><span style=\"background-color: rgba(255, 0, 0, 0.004); white-space: pre-wrap;\" title=\"KL: 0.000\"> lose</span><span style=\"background-color: rgba(255, 0, 0, 0.015); white-space: pre-wrap;\" title=\"KL: 0.000\">&lt;end_of_turn&gt;</span><span style=\"background-color: rgba(255, 0, 0, 0.000); white-space: pre-wrap;\" title=\"KL: 0.000\">\n",
       "</span><span style=\"background-color: rgba(255, 0, 0, 0.000); white-space: pre-wrap;\" title=\"KL: 0.000\">&lt;start_of_turn&gt;</span><span style=\"background-color: rgba(255, 0, 0, 0.001); white-space: pre-wrap;\" title=\"KL: 0.000\">model</span><span style=\"background-color: rgba(255, 0, 0, 0.019); white-space: pre-wrap;\" title=\"KL: 0.000\">\n",
       "</span><span style=\"background-color: rgba(255, 0, 0, 0.026); white-space: pre-wrap;\" title=\"KL: 0.001\">(</span><span style=\"background-color: rgba(255, 0, 0, 0.127); white-space: pre-wrap;\" title=\"KL: 0.003\">Guitar</span><span style=\"background-color: rgba(255, 0, 0, 0.006); white-space: pre-wrap;\" title=\"KL: 0.000\"> strum</span><span style=\"background-color: rgba(255, 0, 0, 0.003); white-space: pre-wrap;\" title=\"KL: 0.000\">ming</span><span style=\"background-color: rgba(255, 0, 0, 0.026); white-space: pre-wrap;\" title=\"KL: 0.001\">,</span><span style=\"background-color: rgba(255, 0, 0, 0.039); white-space: pre-wrap;\" title=\"KL: 0.001\"> similar</span><span style=\"background-color: rgba(255, 0, 0, 0.012); white-space: pre-wrap;\" title=\"KL: 0.000\"> to</span><span style=\"background-color: rgba(255, 0, 0, 0.007); white-space: pre-wrap;\" title=\"KL: 0.000\"> \"</span><span style=\"background-color: rgba(255, 0, 0, 0.000); white-space: pre-wrap;\" title=\"KL: 0.000\">We</span><span style=\"background-color: rgba(255, 0, 0, 0.001); white-space: pre-wrap;\" title=\"KL: 0.000\"> Are</span><span style=\"background-color: rgba(255, 0, 0, 0.000); white-space: pre-wrap;\" title=\"KL: 0.000\"> the</span><span style=\"background-color: rgba(255, 0, 0, 0.000); white-space: pre-wrap;\" title=\"KL: 0.000\"> Champions</span><span style=\"background-color: rgba(255, 0, 0, 0.000); white-space: pre-wrap;\" title=\"KL: 0.000\">\")</span><span style=\"background-color: rgba(255, 0, 0, 0.000); white-space: pre-wrap;\" title=\"KL: 0.000\">\n",
       "\n",
       "</span><span style=\"background-color: rgba(255, 0, 0, 0.050); white-space: pre-wrap;\" title=\"KL: 0.001\">We</span><span style=\"background-color: rgba(255, 0, 0, 0.008); white-space: pre-wrap;\" title=\"KL: 0.000\"> are</span>"
      ],
      "text/plain": [
       "<IPython.core.display.HTML object>"
      ]
     },
     "metadata": {},
     "output_type": "display_data"
    },
    {
     "name": "stdout",
     "output_type": "stream",
     "text": [
      "High KL: 0.0039 at token ' song'\\n\n"
     ]
    },
    {
     "data": {
      "text/html": [
       "<style type=\"text/css\">\n",
       "#T_9f436 th {\n",
       "  text-align: left;\n",
       "}\n",
       "#T_9f436_row0_col0, #T_9f436_row1_col0, #T_9f436_row2_col0 {\n",
       "  background-color: lightgreen;\n",
       "  text-align: left;\n",
       "}\n",
       "#T_9f436_row0_col1, #T_9f436_row0_col2, #T_9f436_row1_col1, #T_9f436_row1_col2, #T_9f436_row2_col1, #T_9f436_row2_col2, #T_9f436_row3_col1, #T_9f436_row3_col2, #T_9f436_row4_col1, #T_9f436_row4_col2, #T_9f436_row5_col1, #T_9f436_row5_col2 {\n",
       "  text-align: left;\n",
       "}\n",
       "#T_9f436_row3_col0, #T_9f436_row4_col0, #T_9f436_row5_col0 {\n",
       "  background-color: lightcoral;\n",
       "  text-align: left;\n",
       "}\n",
       "</style>\n",
       "<table id=\"T_9f436\">\n",
       "  <thead>\n",
       "    <tr>\n",
       "      <th class=\"blank level0\" >&nbsp;</th>\n",
       "      <th id=\"T_9f436_level0_col0\" class=\"col_heading level0 col0\" >Token</th>\n",
       "      <th id=\"T_9f436_level0_col1\" class=\"col_heading level0 col1\" >p_HS</th>\n",
       "      <th id=\"T_9f436_level0_col2\" class=\"col_heading level0 col2\" >p_B</th>\n",
       "    </tr>\n",
       "  </thead>\n",
       "  <tbody>\n",
       "    <tr>\n",
       "      <th id=\"T_9f436_level0_row0\" class=\"row_heading level0 row0\" >0</th>\n",
       "      <td id=\"T_9f436_row0_col0\" class=\"data row0 col0\" > code</td>\n",
       "      <td id=\"T_9f436_row0_col1\" class=\"data row0 col1\" >0.018</td>\n",
       "      <td id=\"T_9f436_row0_col2\" class=\"data row0 col2\" >0.022</td>\n",
       "    </tr>\n",
       "    <tr>\n",
       "      <th id=\"T_9f436_level0_row1\" class=\"row_heading level0 row1\" >1</th>\n",
       "      <td id=\"T_9f436_row1_col0\" class=\"data row1 col0\" > data</td>\n",
       "      <td id=\"T_9f436_row1_col1\" class=\"data row1 col1\" >0.054</td>\n",
       "      <td id=\"T_9f436_row1_col2\" class=\"data row1 col2\" >0.063</td>\n",
       "    </tr>\n",
       "    <tr>\n",
       "      <th id=\"T_9f436_level0_row2\" class=\"row_heading level0 row2\" >2</th>\n",
       "      <td id=\"T_9f436_row2_col0\" class=\"data row2 col0\" > team</td>\n",
       "      <td id=\"T_9f436_row2_col1\" class=\"data row2 col1\" >0.066</td>\n",
       "      <td id=\"T_9f436_row2_col2\" class=\"data row2 col2\" >0.072</td>\n",
       "    </tr>\n",
       "    <tr>\n",
       "      <th id=\"T_9f436_level0_row3\" class=\"row_heading level0 row3\" >3</th>\n",
       "      <td id=\"T_9f436_row3_col0\" class=\"data row3 col0\" > dream</td>\n",
       "      <td id=\"T_9f436_row3_col1\" class=\"data row3 col1\" >0.096</td>\n",
       "      <td id=\"T_9f436_row3_col2\" class=\"data row3 col2\" >0.093</td>\n",
       "    </tr>\n",
       "    <tr>\n",
       "      <th id=\"T_9f436_level0_row4\" class=\"row_heading level0 row4\" >4</th>\n",
       "      <td id=\"T_9f436_row4_col0\" class=\"data row4 col0\" > little</td>\n",
       "      <td id=\"T_9f436_row4_col1\" class=\"data row4 col1\" >0.036</td>\n",
       "      <td id=\"T_9f436_row4_col2\" class=\"data row4 col2\" >0.033</td>\n",
       "    </tr>\n",
       "    <tr>\n",
       "      <th id=\"T_9f436_level0_row5\" class=\"row_heading level0 row5\" >5</th>\n",
       "      <td id=\"T_9f436_row5_col0\" class=\"data row5 col0\" > future</td>\n",
       "      <td id=\"T_9f436_row5_col1\" class=\"data row5 col1\" >0.036</td>\n",
       "      <td id=\"T_9f436_row5_col2\" class=\"data row5 col2\" >0.032</td>\n",
       "    </tr>\n",
       "  </tbody>\n",
       "</table>\n"
      ],
      "text/plain": [
       "<IPython.core.display.HTML object>"
      ]
     },
     "metadata": {},
     "output_type": "display_data"
    },
    {
     "name": "stdout",
     "output_type": "stream",
     "text": [
      "--------------------------------------------------------------------------------------------------------------------------------------------------------------------------------------------------------\n"
     ]
    },
    {
     "data": {
      "text/html": [
       "&lt;bos&gt;<span style=\"background-color: rgba(255, 0, 0, 0.000); white-space: pre-wrap;\" title=\"KL: 0.000\">&lt;start_of_turn&gt;</span><span style=\"background-color: rgba(255, 0, 0, 0.003); white-space: pre-wrap;\" title=\"KL: 0.000\">user</span><span style=\"background-color: rgba(255, 0, 0, 0.002); white-space: pre-wrap;\" title=\"KL: 0.000\">\n",
       "</span><span style=\"background-color: rgba(255, 0, 0, 0.002); white-space: pre-wrap;\" title=\"KL: 0.000\">write</span><span style=\"background-color: rgba(255, 0, 0, 0.000); white-space: pre-wrap;\" title=\"KL: 0.000\"> a</span><span style=\"background-color: rgba(255, 0, 0, 0.002); white-space: pre-wrap;\" title=\"KL: 0.000\"> song</span><span style=\"background-color: rgba(255, 0, 0, 0.002); white-space: pre-wrap;\" title=\"KL: 0.000\"> to</span><span style=\"background-color: rgba(255, 0, 0, 0.004); white-space: pre-wrap;\" title=\"KL: 0.000\"> the</span><span style=\"background-color: rgba(255, 0, 0, 0.048); white-space: pre-wrap;\" title=\"KL: 0.001\"> tune</span><span style=\"background-color: rgba(255, 0, 0, 0.000); white-space: pre-wrap;\" title=\"KL: 0.000\"> of</span><span style=\"background-color: rgba(255, 0, 0, 0.003); white-space: pre-wrap;\" title=\"KL: 0.000\"> \"</span><span style=\"background-color: rgba(255, 0, 0, 0.013); white-space: pre-wrap;\" title=\"KL: 0.000\">The</span><span style=\"background-color: rgba(255, 0, 0, 0.016); white-space: pre-wrap;\" title=\"KL: 0.000\"> sound</span><span style=\"background-color: rgba(255, 0, 0, 0.000); white-space: pre-wrap;\" title=\"KL: 0.000\"> of</span><span style=\"background-color: rgba(255, 0, 0, 0.006); white-space: pre-wrap;\" title=\"KL: 0.000\"> silence</span><span style=\"background-color: rgba(255, 0, 0, 0.002); white-space: pre-wrap;\" title=\"KL: 0.000\">\"</span><span style=\"background-color: rgba(255, 0, 0, 0.025); white-space: pre-wrap;\" title=\"KL: 0.001\"> but</span><span style=\"background-color: rgba(255, 0, 0, 0.007); white-space: pre-wrap;\" title=\"KL: 0.000\"> make</span><span style=\"background-color: rgba(255, 0, 0, 0.000); white-space: pre-wrap;\" title=\"KL: 0.000\"> the</span><span style=\"background-color: rgba(255, 0, 0, 0.031); white-space: pre-wrap;\" title=\"KL: 0.001\"> song</span><span style=\"background-color: rgba(255, 0, 0, 0.002); white-space: pre-wrap;\" title=\"KL: 0.000\"> lyrics</span><span style=\"background-color: rgba(255, 0, 0, 0.004); white-space: pre-wrap;\" title=\"KL: 0.000\"> about</span><span style=\"background-color: rgba(255, 0, 0, 0.009); white-space: pre-wrap;\" title=\"KL: 0.000\"> loud</span><span style=\"background-color: rgba(255, 0, 0, 0.005); white-space: pre-wrap;\" title=\"KL: 0.000\"> city</span><span style=\"background-color: rgba(255, 0, 0, 0.003); white-space: pre-wrap;\" title=\"KL: 0.000\"> noises</span><span style=\"background-color: rgba(255, 0, 0, 0.020); white-space: pre-wrap;\" title=\"KL: 0.000\"> like</span><span style=\"background-color: rgba(255, 0, 0, 0.019); white-space: pre-wrap;\" title=\"KL: 0.000\"> car</span><span style=\"background-color: rgba(255, 0, 0, 0.000); white-space: pre-wrap;\" title=\"KL: 0.000\"> horns</span><span style=\"background-color: rgba(255, 0, 0, 0.000); white-space: pre-wrap;\" title=\"KL: 0.000\"> and</span><span style=\"background-color: rgba(255, 0, 0, 0.005); white-space: pre-wrap;\" title=\"KL: 0.000\"> people</span><span style=\"background-color: rgba(255, 0, 0, 0.003); white-space: pre-wrap;\" title=\"KL: 0.000\"> chatting</span><span style=\"background-color: rgba(255, 0, 0, 0.019); white-space: pre-wrap;\" title=\"KL: 0.000\">&lt;end_of_turn&gt;</span><span style=\"background-color: rgba(255, 0, 0, 0.000); white-space: pre-wrap;\" title=\"KL: 0.000\">\n",
       "</span><span style=\"background-color: rgba(255, 0, 0, 0.027); white-space: pre-wrap;\" title=\"KL: 0.001\">&lt;start_of_turn&gt;</span><span style=\"background-color: rgba(255, 0, 0, 0.001); white-space: pre-wrap;\" title=\"KL: 0.000\">model</span><span style=\"background-color: rgba(255, 0, 0, 0.012); white-space: pre-wrap;\" title=\"KL: 0.000\">\n",
       "</span><span style=\"background-color: rgba(255, 0, 0, 0.036); white-space: pre-wrap;\" title=\"KL: 0.001\">(</span><span style=\"background-color: rgba(255, 0, 0, 0.056); white-space: pre-wrap;\" title=\"KL: 0.001\">Verse</span><span style=\"background-color: rgba(255, 0, 0, 0.000); white-space: pre-wrap;\" title=\"KL: 0.000\"> </span><span style=\"background-color: rgba(255, 0, 0, 0.000); white-space: pre-wrap;\" title=\"KL: -0.000\">1</span><span style=\"background-color: rgba(255, 0, 0, 0.000); white-space: pre-wrap;\" title=\"KL: 0.000\">)</span><span style=\"background-color: rgba(255, 0, 0, 0.000); white-space: pre-wrap;\" title=\"KL: 0.000\">\n",
       "</span><span style=\"background-color: rgba(255, 0, 0, 0.189); white-space: pre-wrap;\" title=\"KL: 0.004\">And</span><span style=\"background-color: rgba(255, 0, 0, 0.024); white-space: pre-wrap;\" title=\"KL: 0.000\"> I</span><span style=\"background-color: rgba(255, 0, 0, 0.023); white-space: pre-wrap;\" title=\"KL: 0.000\">'</span><span style=\"background-color: rgba(255, 0, 0, 0.111); white-space: pre-wrap;\" title=\"KL: 0.002\">d</span><span style=\"background-color: rgba(255, 0, 0, 0.054); white-space: pre-wrap;\" title=\"KL: 0.001\"> walk</span><span style=\"background-color: rgba(255, 0, 0, 0.025); white-space: pre-wrap;\" title=\"KL: 0.001\"> down</span><span style=\"background-color: rgba(255, 0, 0, 0.050); white-space: pre-wrap;\" title=\"KL: 0.001\"> this</span><span style=\"background-color: rgba(255, 0, 0, 0.039); white-space: pre-wrap;\" title=\"KL: 0.001\"> concrete</span><span style=\"background-color: rgba(255, 0, 0, 0.020); white-space: pre-wrap;\" title=\"KL: 0.000\"> street</span><span style=\"background-color: rgba(255, 0, 0, 0.030); white-space: pre-wrap;\" title=\"KL: 0.001\">,</span><span style=\"background-color: rgba(255, 0, 0, 0.019); white-space: pre-wrap;\" title=\"KL: 0.000\"> a</span><span style=\"background-color: rgba(255, 0, 0, 0.013); white-space: pre-wrap;\" title=\"KL: 0.000\"> jungle</span><span style=\"background-color: rgba(255, 0, 0, 0.007); white-space: pre-wrap;\" title=\"KL: 0.000\"> of</span><span style=\"background-color: rgba(255, 0, 0, 0.025); white-space: pre-wrap;\" title=\"KL: 0.000\"> endless</span><span style=\"background-color: rgba(255, 0, 0, 0.090); white-space: pre-wrap;\" title=\"KL: 0.002\"> steel</span><span style=\"background-color: rgba(255, 0, 0, 0.004); white-space: pre-wrap;\" title=\"KL: 0.000\">\n",
       "</span><span style=\"background-color: rgba(255, 0, 0, 0.031); white-space: pre-wrap;\" title=\"KL: 0.001\">City</span><span style=\"background-color: rgba(255, 0, 0, 0.036); white-space: pre-wrap;\" title=\"KL: 0.001\">'</span><span style=\"background-color: rgba(255, 0, 0, 0.000); white-space: pre-wrap;\" title=\"KL: 0.000\">s</span><span style=\"background-color: rgba(255, 0, 0, 0.055); white-space: pre-wrap;\" title=\"KL: 0.001\"> heart</span><span style=\"background-color: rgba(255, 0, 0, 0.008); white-space: pre-wrap;\" title=\"KL: 0.000\"> beat</span><span style=\"background-color: rgba(255, 0, 0, 0.005); white-space: pre-wrap;\" title=\"KL: 0.000\"> loud</span><span style=\"background-color: rgba(255, 0, 0, 0.001); white-space: pre-wrap;\" title=\"KL: 0.000\"> and</span><span style=\"background-color: rgba(255, 0, 0, 0.002); white-space: pre-wrap;\" title=\"KL: 0.000\"> strong</span><span style=\"background-color: rgba(255, 0, 0, 0.001); white-space: pre-wrap;\" title=\"KL: 0.000\">,</span><span style=\"background-color: rgba(255, 0, 0, 0.016); white-space: pre-wrap;\" title=\"KL: 0.000\"> a</span><span style=\"background-color: rgba(255, 0, 0, 0.007); white-space: pre-wrap;\" title=\"KL: 0.000\"> ca</span><span style=\"background-color: rgba(255, 0, 0, 0.000); white-space: pre-wrap;\" title=\"KL: 0.000\">co</span><span style=\"background-color: rgba(255, 0, 0, 0.001); white-space: pre-wrap;\" title=\"KL: 0.000\">phony</span>"
      ],
      "text/plain": [
       "<IPython.core.display.HTML object>"
      ]
     },
     "metadata": {},
     "output_type": "display_data"
    },
    {
     "name": "stdout",
     "output_type": "stream",
     "text": [
      "High KL: 0.0038 at token 'And'\\n\n"
     ]
    },
    {
     "data": {
      "text/html": [
       "<style type=\"text/css\">\n",
       "#T_31300 th {\n",
       "  text-align: left;\n",
       "}\n",
       "#T_31300_row0_col0, #T_31300_row1_col0, #T_31300_row2_col0 {\n",
       "  background-color: lightgreen;\n",
       "  text-align: left;\n",
       "}\n",
       "#T_31300_row0_col1, #T_31300_row0_col2, #T_31300_row1_col1, #T_31300_row1_col2, #T_31300_row2_col1, #T_31300_row2_col2, #T_31300_row3_col1, #T_31300_row3_col2 {\n",
       "  text-align: left;\n",
       "}\n",
       "#T_31300_row3_col0 {\n",
       "  background-color: lightcoral;\n",
       "  text-align: left;\n",
       "}\n",
       "</style>\n",
       "<table id=\"T_31300\">\n",
       "  <thead>\n",
       "    <tr>\n",
       "      <th class=\"blank level0\" >&nbsp;</th>\n",
       "      <th id=\"T_31300_level0_col0\" class=\"col_heading level0 col0\" >Token</th>\n",
       "      <th id=\"T_31300_level0_col1\" class=\"col_heading level0 col1\" >p_HS</th>\n",
       "      <th id=\"T_31300_level0_col2\" class=\"col_heading level0 col2\" >p_B</th>\n",
       "    </tr>\n",
       "  </thead>\n",
       "  <tbody>\n",
       "    <tr>\n",
       "      <th id=\"T_31300_level0_row0\" class=\"row_heading level0 row0\" >0</th>\n",
       "      <td id=\"T_31300_row0_col0\" class=\"data row0 col0\" >And</td>\n",
       "      <td id=\"T_31300_row0_col1\" class=\"data row0 col1\" >0.096</td>\n",
       "      <td id=\"T_31300_row0_col2\" class=\"data row0 col2\" >0.109</td>\n",
       "    </tr>\n",
       "    <tr>\n",
       "      <th id=\"T_31300_level0_row1\" class=\"row_heading level0 row1\" >1</th>\n",
       "      <td id=\"T_31300_row1_col0\" class=\"data row1 col0\" >There</td>\n",
       "      <td id=\"T_31300_row1_col1\" class=\"data row1 col1\" >0.034</td>\n",
       "      <td id=\"T_31300_row1_col2\" class=\"data row1 col2\" >0.038</td>\n",
       "    </tr>\n",
       "    <tr>\n",
       "      <th id=\"T_31300_level0_row2\" class=\"row_heading level0 row2\" >2</th>\n",
       "      <td id=\"T_31300_row2_col0\" class=\"data row2 col0\" >In</td>\n",
       "      <td id=\"T_31300_row2_col1\" class=\"data row2 col1\" >0.123</td>\n",
       "      <td id=\"T_31300_row2_col2\" class=\"data row2 col2\" >0.129</td>\n",
       "    </tr>\n",
       "    <tr>\n",
       "      <th id=\"T_31300_level0_row3\" class=\"row_heading level0 row3\" >3</th>\n",
       "      <td id=\"T_31300_row3_col0\" class=\"data row3 col0\" >The</td>\n",
       "      <td id=\"T_31300_row3_col1\" class=\"data row3 col1\" >0.398</td>\n",
       "      <td id=\"T_31300_row3_col2\" class=\"data row3 col2\" >0.365</td>\n",
       "    </tr>\n",
       "  </tbody>\n",
       "</table>\n"
      ],
      "text/plain": [
       "<IPython.core.display.HTML object>"
      ]
     },
     "metadata": {},
     "output_type": "display_data"
    },
    {
     "name": "stdout",
     "output_type": "stream",
     "text": [
      "--------------------------------------------------------------------------------------------------------------------------------------------------------------------------------------------------------\n"
     ]
    },
    {
     "data": {
      "text/html": [
       "&lt;bos&gt;<span style=\"background-color: rgba(255, 0, 0, 0.000); white-space: pre-wrap;\" title=\"KL: 0.000\">&lt;start_of_turn&gt;</span><span style=\"background-color: rgba(255, 0, 0, 0.003); white-space: pre-wrap;\" title=\"KL: 0.000\">user</span><span style=\"background-color: rgba(255, 0, 0, 0.002); white-space: pre-wrap;\" title=\"KL: 0.000\">\n",
       "</span><span style=\"background-color: rgba(255, 0, 0, 0.002); white-space: pre-wrap;\" title=\"KL: 0.000\">You</span><span style=\"background-color: rgba(255, 0, 0, 0.000); white-space: pre-wrap;\" title=\"KL: 0.000\"> are</span><span style=\"background-color: rgba(255, 0, 0, 0.003); white-space: pre-wrap;\" title=\"KL: 0.000\"> an</span><span style=\"background-color: rgba(255, 0, 0, 0.002); white-space: pre-wrap;\" title=\"KL: 0.000\"> AI</span><span style=\"background-color: rgba(255, 0, 0, 0.005); white-space: pre-wrap;\" title=\"KL: 0.000\"> assistant</span><span style=\"background-color: rgba(255, 0, 0, 0.004); white-space: pre-wrap;\" title=\"KL: 0.000\"> that</span><span style=\"background-color: rgba(255, 0, 0, 0.001); white-space: pre-wrap;\" title=\"KL: 0.000\"> helps</span><span style=\"background-color: rgba(255, 0, 0, 0.001); white-space: pre-wrap;\" title=\"KL: 0.000\"> people</span><span style=\"background-color: rgba(255, 0, 0, 0.003); white-space: pre-wrap;\" title=\"KL: 0.000\"> find</span><span style=\"background-color: rgba(255, 0, 0, 0.003); white-space: pre-wrap;\" title=\"KL: 0.000\"> information</span><span style=\"background-color: rgba(255, 0, 0, 0.001); white-space: pre-wrap;\" title=\"KL: 0.000\">.</span><span style=\"background-color: rgba(255, 0, 0, 0.003); white-space: pre-wrap;\" title=\"KL: 0.000\"> </span><span style=\"background-color: rgba(255, 0, 0, 0.001); white-space: pre-wrap;\" title=\"KL: 0.000\">\t</span><span style=\"background-color: rgba(255, 0, 0, 0.001); white-space: pre-wrap;\" title=\"KL: 0.000\">You</span><span style=\"background-color: rgba(255, 0, 0, 0.003); white-space: pre-wrap;\" title=\"KL: 0.000\"> will</span><span style=\"background-color: rgba(255, 0, 0, 0.003); white-space: pre-wrap;\" title=\"KL: 0.000\"> read</span><span style=\"background-color: rgba(255, 0, 0, 0.004); white-space: pre-wrap;\" title=\"KL: 0.000\"> a</span><span style=\"background-color: rgba(255, 0, 0, 0.003); white-space: pre-wrap;\" title=\"KL: 0.000\"> paragraph</span><span style=\"background-color: rgba(255, 0, 0, 0.002); white-space: pre-wrap;\" title=\"KL: 0.000\">,</span><span style=\"background-color: rgba(255, 0, 0, 0.003); white-space: pre-wrap;\" title=\"KL: 0.000\"> and</span><span style=\"background-color: rgba(255, 0, 0, 0.002); white-space: pre-wrap;\" title=\"KL: 0.000\"> then</span><span style=\"background-color: rgba(255, 0, 0, 0.002); white-space: pre-wrap;\" title=\"KL: 0.000\"> issue</span><span style=\"background-color: rgba(255, 0, 0, 0.001); white-space: pre-wrap;\" title=\"KL: 0.000\"> queries</span><span style=\"background-color: rgba(255, 0, 0, 0.002); white-space: pre-wrap;\" title=\"KL: 0.000\"> to</span><span style=\"background-color: rgba(255, 0, 0, 0.004); white-space: pre-wrap;\" title=\"KL: 0.000\"> a</span><span style=\"background-color: rgba(255, 0, 0, 0.005); white-space: pre-wrap;\" title=\"KL: 0.000\"> search</span><span style=\"background-color: rgba(255, 0, 0, 0.000); white-space: pre-wrap;\" title=\"KL: 0.000\"> engine</span><span style=\"background-color: rgba(255, 0, 0, 0.004); white-space: pre-wrap;\" title=\"KL: 0.000\"> in</span><span style=\"background-color: rgba(255, 0, 0, 0.000); white-space: pre-wrap;\" title=\"KL: 0.000\"> order</span><span style=\"background-color: rgba(255, 0, 0, 0.000); white-space: pre-wrap;\" title=\"KL: 0.000\"> to</span><span style=\"background-color: rgba(255, 0, 0, 0.001); white-space: pre-wrap;\" title=\"KL: 0.000\"> fact</span><span style=\"background-color: rgba(255, 0, 0, 0.000); white-space: pre-wrap;\" title=\"KL: 0.000\">-</span><span style=\"background-color: rgba(255, 0, 0, 0.000); white-space: pre-wrap;\" title=\"KL: 0.000\">check</span><span style=\"background-color: rgba(255, 0, 0, 0.003); white-space: pre-wrap;\" title=\"KL: 0.000\"> it</span><span style=\"background-color: rgba(255, 0, 0, 0.005); white-space: pre-wrap;\" title=\"KL: 0.000\">.</span><span style=\"background-color: rgba(255, 0, 0, 0.001); white-space: pre-wrap;\" title=\"KL: 0.000\"> Also</span><span style=\"background-color: rgba(255, 0, 0, 0.001); white-space: pre-wrap;\" title=\"KL: 0.000\"> explain</span><span style=\"background-color: rgba(255, 0, 0, 0.001); white-space: pre-wrap;\" title=\"KL: 0.000\"> the</span><span style=\"background-color: rgba(255, 0, 0, 0.018); white-space: pre-wrap;\" title=\"KL: 0.000\"> queries</span><span style=\"background-color: rgba(255, 0, 0, 0.004); white-space: pre-wrap;\" title=\"KL: 0.000\">.</span><span style=\"background-color: rgba(255, 0, 0, 0.001); white-space: pre-wrap;\" title=\"KL: 0.000\">\n",
       "</span><span style=\"background-color: rgba(255, 0, 0, 0.007); white-space: pre-wrap;\" title=\"KL: 0.000\">---</span><span style=\"background-color: rgba(255, 0, 0, 0.000); white-space: pre-wrap;\" title=\"KL: 0.000\">\n",
       "</span><span style=\"background-color: rgba(255, 0, 0, 0.006); white-space: pre-wrap;\" title=\"KL: 0.000\">PAR</span><span style=\"background-color: rgba(255, 0, 0, 0.000); white-space: pre-wrap;\" title=\"KL: 0.000\">AGR</span><span style=\"background-color: rgba(255, 0, 0, 0.000); white-space: pre-wrap;\" title=\"KL: -0.000\">APH</span><span style=\"background-color: rgba(255, 0, 0, 0.001); white-space: pre-wrap;\" title=\"KL: 0.000\">\n",
       "</span><span style=\"background-color: rgba(255, 0, 0, 0.015); white-space: pre-wrap;\" title=\"KL: 0.000\">John</span><span style=\"background-color: rgba(255, 0, 0, 0.006); white-space: pre-wrap;\" title=\"KL: 0.000\"> Smith</span><span style=\"background-color: rgba(255, 0, 0, 0.004); white-space: pre-wrap;\" title=\"KL: 0.000\"> is</span><span style=\"background-color: rgba(255, 0, 0, 0.001); white-space: pre-wrap;\" title=\"KL: 0.000\"> married</span><span style=\"background-color: rgba(255, 0, 0, 0.000); white-space: pre-wrap;\" title=\"KL: 0.000\"> to</span><span style=\"background-color: rgba(255, 0, 0, 0.005); white-space: pre-wrap;\" title=\"KL: 0.000\"> Lucy</span><span style=\"background-color: rgba(255, 0, 0, 0.002); white-space: pre-wrap;\" title=\"KL: 0.000\"> Smith</span><span style=\"background-color: rgba(255, 0, 0, 0.002); white-space: pre-wrap;\" title=\"KL: 0.000\">.</span><span style=\"background-color: rgba(255, 0, 0, 0.001); white-space: pre-wrap;\" title=\"KL: 0.000\"> They</span><span style=\"background-color: rgba(255, 0, 0, 0.002); white-space: pre-wrap;\" title=\"KL: 0.000\"> have</span><span style=\"background-color: rgba(255, 0, 0, 0.005); white-space: pre-wrap;\" title=\"KL: 0.000\"> five</span><span style=\"background-color: rgba(255, 0, 0, 0.001); white-space: pre-wrap;\" title=\"KL: 0.000\"> kids</span><span style=\"background-color: rgba(255, 0, 0, 0.004); white-space: pre-wrap;\" title=\"KL: 0.000\">,</span><span style=\"background-color: rgba(255, 0, 0, 0.003); white-space: pre-wrap;\" title=\"KL: 0.000\"> and</span><span style=\"background-color: rgba(255, 0, 0, 0.003); white-space: pre-wrap;\" title=\"KL: 0.000\"> he</span><span style=\"background-color: rgba(255, 0, 0, 0.003); white-space: pre-wrap;\" title=\"KL: 0.000\"> works</span><span style=\"background-color: rgba(255, 0, 0, 0.001); white-space: pre-wrap;\" title=\"KL: 0.000\"> as</span><span style=\"background-color: rgba(255, 0, 0, 0.000); white-space: pre-wrap;\" title=\"KL: 0.000\"> a</span><span style=\"background-color: rgba(255, 0, 0, 0.107); white-space: pre-wrap;\" title=\"KL: 0.002\"> software</span><span style=\"background-color: rgba(255, 0, 0, 0.001); white-space: pre-wrap;\" title=\"KL: 0.000\"> engineer</span><span style=\"background-color: rgba(255, 0, 0, 0.001); white-space: pre-wrap;\" title=\"KL: 0.000\"> at</span><span style=\"background-color: rgba(255, 0, 0, 0.010); white-space: pre-wrap;\" title=\"KL: 0.000\"> Microsoft</span><span style=\"background-color: rgba(255, 0, 0, 0.001); white-space: pre-wrap;\" title=\"KL: 0.000\">.</span><span style=\"background-color: rgba(255, 0, 0, 0.018); white-space: pre-wrap;\" title=\"KL: 0.000\"> What</span><span style=\"background-color: rgba(255, 0, 0, 0.005); white-space: pre-wrap;\" title=\"KL: 0.000\"> search</span><span style=\"background-color: rgba(255, 0, 0, 0.005); white-space: pre-wrap;\" title=\"KL: 0.000\"> queries</span><span style=\"background-color: rgba(255, 0, 0, 0.004); white-space: pre-wrap;\" title=\"KL: 0.000\"> should</span><span style=\"background-color: rgba(255, 0, 0, 0.001); white-space: pre-wrap;\" title=\"KL: 0.000\"> I</span><span style=\"background-color: rgba(255, 0, 0, 0.005); white-space: pre-wrap;\" title=\"KL: 0.000\"> do</span><span style=\"background-color: rgba(255, 0, 0, 0.001); white-space: pre-wrap;\" title=\"KL: 0.000\"> to</span><span style=\"background-color: rgba(255, 0, 0, 0.001); white-space: pre-wrap;\" title=\"KL: 0.000\"> fact</span><span style=\"background-color: rgba(255, 0, 0, 0.000); white-space: pre-wrap;\" title=\"KL: 0.000\">-</span><span style=\"background-color: rgba(255, 0, 0, 0.000); white-space: pre-wrap;\" title=\"KL: 0.000\">check</span><span style=\"background-color: rgba(255, 0, 0, 0.001); white-space: pre-wrap;\" title=\"KL: 0.000\"> this</span><span style=\"background-color: rgba(255, 0, 0, 0.006); white-space: pre-wrap;\" title=\"KL: 0.000\">?</span><span style=\"background-color: rgba(255, 0, 0, 0.003); white-space: pre-wrap;\" title=\"KL: 0.000\">\n",
       "</span><span style=\"background-color: rgba(255, 0, 0, 0.001); white-space: pre-wrap;\" title=\"KL: 0.000\">---</span><span style=\"background-color: rgba(255, 0, 0, 0.011); white-space: pre-wrap;\" title=\"KL: 0.000\">\n",
       "</span><span style=\"background-color: rgba(255, 0, 0, 0.013); white-space: pre-wrap;\" title=\"KL: 0.000\">QUER</span><span style=\"background-color: rgba(255, 0, 0, 0.000); white-space: pre-wrap;\" title=\"KL: 0.000\">IES</span><span style=\"background-color: rgba(255, 0, 0, 0.006); white-space: pre-wrap;\" title=\"KL: 0.000\">&lt;end_of_turn&gt;</span><span style=\"background-color: rgba(255, 0, 0, 0.001); white-space: pre-wrap;\" title=\"KL: 0.000\">\n",
       "</span><span style=\"background-color: rgba(255, 0, 0, 0.006); white-space: pre-wrap;\" title=\"KL: 0.000\">&lt;start_of_turn&gt;</span><span style=\"background-color: rgba(255, 0, 0, 0.000); white-space: pre-wrap;\" title=\"KL: 0.000\">model</span><span style=\"background-color: rgba(255, 0, 0, 0.010); white-space: pre-wrap;\" title=\"KL: 0.000\">\n",
       "</span><span style=\"background-color: rgba(255, 0, 0, 0.000); white-space: pre-wrap;\" title=\"KL: 0.000\">Here</span><span style=\"background-color: rgba(255, 0, 0, 0.000); white-space: pre-wrap;\" title=\"KL: 0.000\"> are</span><span style=\"background-color: rgba(255, 0, 0, 0.001); white-space: pre-wrap;\" title=\"KL: 0.000\"> some</span><span style=\"background-color: rgba(255, 0, 0, 0.004); white-space: pre-wrap;\" title=\"KL: 0.000\"> search</span><span style=\"background-color: rgba(255, 0, 0, 0.000); white-space: pre-wrap;\" title=\"KL: 0.000\"> queries</span><span style=\"background-color: rgba(255, 0, 0, 0.004); white-space: pre-wrap;\" title=\"KL: 0.000\"> to</span><span style=\"background-color: rgba(255, 0, 0, 0.001); white-space: pre-wrap;\" title=\"KL: 0.000\"> fact</span><span style=\"background-color: rgba(255, 0, 0, 0.000); white-space: pre-wrap;\" title=\"KL: 0.000\">-</span><span style=\"background-color: rgba(255, 0, 0, 0.000); white-space: pre-wrap;\" title=\"KL: 0.000\">check</span><span style=\"background-color: rgba(255, 0, 0, 0.002); white-space: pre-wrap;\" title=\"KL: 0.000\"> the</span><span style=\"background-color: rgba(255, 0, 0, 0.017); white-space: pre-wrap;\" title=\"KL: 0.000\"> paragraph</span><span style=\"background-color: rgba(255, 0, 0, 0.004); white-space: pre-wrap;\" title=\"KL: 0.000\">,</span><span style=\"background-color: rgba(255, 0, 0, 0.007); white-space: pre-wrap;\" title=\"KL: 0.000\"> along</span><span style=\"background-color: rgba(255, 0, 0, 0.000); white-space: pre-wrap;\" title=\"KL: -0.000\"> with</span><span style=\"background-color: rgba(255, 0, 0, 0.001); white-space: pre-wrap;\" title=\"KL: 0.000\"> explanations</span><span style=\"background-color: rgba(255, 0, 0, 0.001); white-space: pre-wrap;\" title=\"KL: 0.000\">:</span><span style=\"background-color: rgba(255, 0, 0, 0.000); white-space: pre-wrap;\" title=\"KL: 0.000\">\n",
       "\n",
       "</span><span style=\"background-color: rgba(255, 0, 0, 0.000); white-space: pre-wrap;\" title=\"KL: 0.000\">**</span><span style=\"background-color: rgba(255, 0, 0, 0.023); white-space: pre-wrap;\" title=\"KL: 0.000\">1</span><span style=\"background-color: rgba(255, 0, 0, 0.001); white-space: pre-wrap;\" title=\"KL: 0.000\">.</span><span style=\"background-color: rgba(255, 0, 0, 0.020); white-space: pre-wrap;\" title=\"KL: 0.000\"> **</span><span style=\"background-color: rgba(255, 0, 0, 0.022); white-space: pre-wrap;\" title=\"KL: 0.000\">  </span><span style=\"background-color: rgba(255, 0, 0, 0.039); white-space: pre-wrap;\" title=\"KL: 0.001\">**</span><span style=\"background-color: rgba(255, 0, 0, 0.019); white-space: pre-wrap;\" title=\"KL: 0.000\">\"</span><span style=\"background-color: rgba(255, 0, 0, 0.003); white-space: pre-wrap;\" title=\"KL: 0.000\">John</span><span style=\"background-color: rgba(255, 0, 0, 0.000); white-space: pre-wrap;\" title=\"KL: 0.000\"> Smith</span><span style=\"background-color: rgba(255, 0, 0, 0.004); white-space: pre-wrap;\" title=\"KL: 0.000\"> Microsoft</span><span style=\"background-color: rgba(255, 0, 0, 0.029); white-space: pre-wrap;\" title=\"KL: 0.001\"> software</span><span style=\"background-color: rgba(255, 0, 0, 0.000); white-space: pre-wrap;\" title=\"KL: 0.000\"> engineer</span><span style=\"background-color: rgba(255, 0, 0, 0.000); white-space: pre-wrap;\" title=\"KL: 0.000\">\"</span><span style=\"background-color: rgba(255, 0, 0, 0.006); white-space: pre-wrap;\" title=\"KL: 0.000\">**</span><span style=\"background-color: rgba(255, 0, 0, 0.026); white-space: pre-wrap;\" title=\"KL: 0.001\"> </span><span style=\"background-color: rgba(255, 0, 0, 0.003); white-space: pre-wrap;\" title=\"KL: 0.000\">\n",
       "</span><span style=\"background-color: rgba(255, 0, 0, 0.006); white-space: pre-wrap;\" title=\"KL: 0.000\">   </span><span style=\"background-color: rgba(255, 0, 0, 0.001); white-space: pre-wrap;\" title=\"KL: 0.000\">*</span><span style=\"background-color: rgba(255, 0, 0, 0.017); white-space: pre-wrap;\" title=\"KL: 0.000\"> **</span><span style=\"background-color: rgba(255, 0, 0, 0.009); white-space: pre-wrap;\" title=\"KL: 0.000\">Explanation</span><span style=\"background-color: rgba(255, 0, 0, 0.000); white-space: pre-wrap;\" title=\"KL: 0.000\">:**</span><span style=\"background-color: rgba(255, 0, 0, 0.004); white-space: pre-wrap;\" title=\"KL: 0.000\"> This</span><span style=\"background-color: rgba(255, 0, 0, 0.006); white-space: pre-wrap;\" title=\"KL: 0.000\"> will</span><span style=\"background-color: rgba(255, 0, 0, 0.034); white-space: pre-wrap;\" title=\"KL: 0.001\"> confirm</span><span style=\"background-color: rgba(255, 0, 0, 0.001); white-space: pre-wrap;\" title=\"KL: 0.000\"> whether</span><span style=\"background-color: rgba(255, 0, 0, 0.004); white-space: pre-wrap;\" title=\"KL: 0.000\"> a</span><span style=\"background-color: rgba(255, 0, 0, 0.008); white-space: pre-wrap;\" title=\"KL: 0.000\"> person</span><span style=\"background-color: rgba(255, 0, 0, 0.001); white-space: pre-wrap;\" title=\"KL: 0.000\"> named</span><span style=\"background-color: rgba(255, 0, 0, 0.000); white-space: pre-wrap;\" title=\"KL: -0.000\"> John</span><span style=\"background-color: rgba(255, 0, 0, 0.000); white-space: pre-wrap;\" title=\"KL: 0.000\"> Smith</span><span style=\"background-color: rgba(255, 0, 0, 0.004); white-space: pre-wrap;\" title=\"KL: 0.000\"> works</span><span style=\"background-color: rgba(255, 0, 0, 0.001); white-space: pre-wrap;\" title=\"KL: 0.000\"> at</span><span style=\"background-color: rgba(255, 0, 0, 0.000); white-space: pre-wrap;\" title=\"KL: 0.000\"> Microsoft</span><span style=\"background-color: rgba(255, 0, 0, 0.006); white-space: pre-wrap;\" title=\"KL: 0.000\"> as</span><span style=\"background-color: rgba(255, 0, 0, 0.000); white-space: pre-wrap;\" title=\"KL: 0.000\"> a</span><span style=\"background-color: rgba(255, 0, 0, 0.000); white-space: pre-wrap;\" title=\"KL: 0.000\"> software</span><span style=\"background-color: rgba(255, 0, 0, 0.000); white-space: pre-wrap;\" title=\"KL: 0.000\"> engineer</span><span style=\"background-color: rgba(255, 0, 0, 0.001); white-space: pre-wrap;\" title=\"KL: 0.000\">,</span><span style=\"background-color: rgba(255, 0, 0, 0.019); white-space: pre-wrap;\" title=\"KL: 0.000\"> and</span><span style=\"background-color: rgba(255, 0, 0, 0.011); white-space: pre-wrap;\" title=\"KL: 0.000\"> check</span><span style=\"background-color: rgba(255, 0, 0, 0.004); white-space: pre-wrap;\" title=\"KL: 0.000\"> if</span><span style=\"background-color: rgba(255, 0, 0, 0.009); white-space: pre-wrap;\" title=\"KL: 0.000\"> this</span><span style=\"background-color: rgba(255, 0, 0, 0.011); white-space: pre-wrap;\" title=\"KL: 0.000\"> is</span><span style=\"background-color: rgba(255, 0, 0, 0.013); white-space: pre-wrap;\" title=\"KL: 0.000\"> the</span><span style=\"background-color: rgba(255, 0, 0, 0.008); white-space: pre-wrap;\" title=\"KL: 0.000\"> John</span><span style=\"background-color: rgba(255, 0, 0, 0.000); white-space: pre-wrap;\" title=\"KL: 0.000\"> Smith</span><span style=\"background-color: rgba(255, 0, 0, 0.024); white-space: pre-wrap;\" title=\"KL: 0.000\"> mentioned</span><span style=\"background-color: rgba(255, 0, 0, 0.005); white-space: pre-wrap;\" title=\"KL: 0.000\"> in</span><span style=\"background-color: rgba(255, 0, 0, 0.001); white-space: pre-wrap;\" title=\"KL: 0.000\"> the</span><span style=\"background-color: rgba(255, 0, 0, 0.002); white-space: pre-wrap;\" title=\"KL: 0.000\"> paragraph</span><span style=\"background-color: rgba(255, 0, 0, 0.001); white-space: pre-wrap;\" title=\"KL: 0.000\">.</span><span style=\"background-color: rgba(255, 0, 0, 0.007); white-space: pre-wrap;\" title=\"KL: 0.000\"> </span><span style=\"background-color: rgba(255, 0, 0, 0.001); white-space: pre-wrap;\" title=\"KL: 0.000\">\n",
       "\n",
       "</span><span style=\"background-color: rgba(255, 0, 0, 0.000); white-space: pre-wrap;\" title=\"KL: 0.000\">**</span><span style=\"background-color: rgba(255, 0, 0, 0.000); white-space: pre-wrap;\" title=\"KL: 0.000\">2</span><span style=\"background-color: rgba(255, 0, 0, 0.000); white-space: pre-wrap;\" title=\"KL: 0.000\">.</span><span style=\"background-color: rgba(255, 0, 0, 0.004); white-space: pre-wrap;\" title=\"KL: 0.000\">  </span><span style=\"background-color: rgba(255, 0, 0, 0.000); white-space: pre-wrap;\" title=\"KL: 0.000\">\"</span><span style=\"background-color: rgba(255, 0, 0, 0.029); white-space: pre-wrap;\" title=\"KL: 0.001\">Lucy</span><span style=\"background-color: rgba(255, 0, 0, 0.000); white-space: pre-wrap;\" title=\"KL: 0.000\"> Smith</span><span style=\"background-color: rgba(255, 0, 0, 0.156); white-space: pre-wrap;\" title=\"KL: 0.003\"> marriage</span><span style=\"background-color: rgba(255, 0, 0, 0.045); white-space: pre-wrap;\" title=\"KL: 0.001\"> information</span><span style=\"background-color: rgba(255, 0, 0, 0.002); white-space: pre-wrap;\" title=\"KL: 0.000\">\"</span><span style=\"background-color: rgba(255, 0, 0, 0.000); white-space: pre-wrap;\" title=\"KL: 0.000\">**</span><span style=\"background-color: rgba(255, 0, 0, 0.002); white-space: pre-wrap;\" title=\"KL: 0.000\">\n",
       "</span><span style=\"background-color: rgba(255, 0, 0, 0.001); white-space: pre-wrap;\" title=\"KL: 0.000\">   </span><span style=\"background-color: rgba(255, 0, 0, 0.000); white-space: pre-wrap;\" title=\"KL: 0.000\">*</span><span style=\"background-color: rgba(255, 0, 0, 0.000); white-space: pre-wrap;\" title=\"KL: 0.000\"> **</span><span style=\"background-color: rgba(255, 0, 0, 0.000); white-space: pre-wrap;\" title=\"KL: 0.000\">Explanation</span><span style=\"background-color: rgba(255, 0, 0, 0.000); white-space: pre-wrap;\" title=\"KL: 0.000\">:**</span><span style=\"background-color: rgba(255, 0, 0, 0.003); white-space: pre-wrap;\" title=\"KL: 0.000\"> This</span><span style=\"background-color: rgba(255, 0, 0, 0.005); white-space: pre-wrap;\" title=\"KL: 0.000\"> search</span><span style=\"background-color: rgba(255, 0, 0, 0.005); white-space: pre-wrap;\" title=\"KL: 0.000\"> will</span><span style=\"background-color: rgba(255, 0, 0, 0.017); white-space: pre-wrap;\" title=\"KL: 0.000\"> look</span><span style=\"background-color: rgba(255, 0, 0, 0.003); white-space: pre-wrap;\" title=\"KL: 0.000\"> for</span><span style=\"background-color: rgba(255, 0, 0, 0.005); white-space: pre-wrap;\" title=\"KL: 0.000\"> any</span><span style=\"background-color: rgba(255, 0, 0, 0.007); white-space: pre-wrap;\" title=\"KL: 0.000\"> public</span><span style=\"background-color: rgba(255, 0, 0, 0.001); white-space: pre-wrap;\" title=\"KL: 0.000\"> records</span><span style=\"background-color: rgba(255, 0, 0, 0.009); white-space: pre-wrap;\" title=\"KL: 0.000\"> or</span><span style=\"background-color: rgba(255, 0, 0, 0.017); white-space: pre-wrap;\" title=\"KL: 0.000\"> news</span><span style=\"background-color: rgba(255, 0, 0, 0.004); white-space: pre-wrap;\" title=\"KL: 0.000\"> reports</span><span style=\"background-color: rgba(255, 0, 0, 0.003); white-space: pre-wrap;\" title=\"KL: 0.000\"> that</span><span style=\"background-color: rgba(255, 0, 0, 0.010); white-space: pre-wrap;\" title=\"KL: 0.000\"> could</span><span style=\"background-color: rgba(255, 0, 0, 0.003); white-space: pre-wrap;\" title=\"KL: 0.000\"> confirm</span><span style=\"background-color: rgba(255, 0, 0, 0.005); white-space: pre-wrap;\" title=\"KL: 0.000\"> that</span><span style=\"background-color: rgba(255, 0, 0, 0.005); white-space: pre-wrap;\" title=\"KL: 0.000\"> Lucy</span><span style=\"background-color: rgba(255, 0, 0, 0.001); white-space: pre-wrap;\" title=\"KL: 0.000\"> and</span><span style=\"background-color: rgba(255, 0, 0, 0.000); white-space: pre-wrap;\" title=\"KL: 0.000\"> John</span><span style=\"background-color: rgba(255, 0, 0, 0.024); white-space: pre-wrap;\" title=\"KL: 0.000\"> Smith</span>"
      ],
      "text/plain": [
       "<IPython.core.display.HTML object>"
      ]
     },
     "metadata": {},
     "output_type": "display_data"
    },
    {
     "name": "stdout",
     "output_type": "stream",
     "text": [
      "High KL: 0.0031 at token ' marriage'\\n\n"
     ]
    },
    {
     "data": {
      "text/html": [
       "<style type=\"text/css\">\n",
       "#T_b28aa th {\n",
       "  text-align: left;\n",
       "}\n",
       "#T_b28aa_row0_col0, #T_b28aa_row1_col0, #T_b28aa_row2_col0 {\n",
       "  background-color: lightgreen;\n",
       "  text-align: left;\n",
       "}\n",
       "#T_b28aa_row0_col1, #T_b28aa_row0_col2, #T_b28aa_row1_col1, #T_b28aa_row1_col2, #T_b28aa_row2_col1, #T_b28aa_row2_col2, #T_b28aa_row3_col1, #T_b28aa_row3_col2, #T_b28aa_row4_col1, #T_b28aa_row4_col2 {\n",
       "  text-align: left;\n",
       "}\n",
       "#T_b28aa_row3_col0, #T_b28aa_row4_col0 {\n",
       "  background-color: lightcoral;\n",
       "  text-align: left;\n",
       "}\n",
       "</style>\n",
       "<table id=\"T_b28aa\">\n",
       "  <thead>\n",
       "    <tr>\n",
       "      <th class=\"blank level0\" >&nbsp;</th>\n",
       "      <th id=\"T_b28aa_level0_col0\" class=\"col_heading level0 col0\" >Token</th>\n",
       "      <th id=\"T_b28aa_level0_col1\" class=\"col_heading level0 col1\" >p_HS</th>\n",
       "      <th id=\"T_b28aa_level0_col2\" class=\"col_heading level0 col2\" >p_B</th>\n",
       "    </tr>\n",
       "  </thead>\n",
       "  <tbody>\n",
       "    <tr>\n",
       "      <th id=\"T_b28aa_level0_row0\" class=\"row_heading level0 row0\" >0</th>\n",
       "      <td id=\"T_b28aa_row0_col0\" class=\"data row0 col0\" > marriage</td>\n",
       "      <td id=\"T_b28aa_row0_col1\" class=\"data row0 col1\" >0.179</td>\n",
       "      <td id=\"T_b28aa_row0_col2\" class=\"data row0 col2\" >0.193</td>\n",
       "    </tr>\n",
       "    <tr>\n",
       "      <th id=\"T_b28aa_level0_row1\" class=\"row_heading level0 row1\" >1</th>\n",
       "      <td id=\"T_b28aa_row1_col0\" class=\"data row1 col0\" > married</td>\n",
       "      <td id=\"T_b28aa_row1_col1\" class=\"data row1 col1\" >0.194</td>\n",
       "      <td id=\"T_b28aa_row1_col2\" class=\"data row1 col2\" >0.204</td>\n",
       "    </tr>\n",
       "    <tr>\n",
       "      <th id=\"T_b28aa_level0_row2\" class=\"row_heading level0 row2\" >2</th>\n",
       "      <td id=\"T_b28aa_row2_col0\" class=\"data row2 col0\" >\"</td>\n",
       "      <td id=\"T_b28aa_row2_col1\" class=\"data row2 col1\" >0.091</td>\n",
       "      <td id=\"T_b28aa_row2_col2\" class=\"data row2 col2\" >0.096</td>\n",
       "    </tr>\n",
       "    <tr>\n",
       "      <th id=\"T_b28aa_level0_row3\" class=\"row_heading level0 row3\" >3</th>\n",
       "      <td id=\"T_b28aa_row3_col0\" class=\"data row3 col0\" > Microsoft</td>\n",
       "      <td id=\"T_b28aa_row3_col1\" class=\"data row3 col1\" >0.168</td>\n",
       "      <td id=\"T_b28aa_row3_col2\" class=\"data row3 col2\" >0.165</td>\n",
       "    </tr>\n",
       "    <tr>\n",
       "      <th id=\"T_b28aa_level0_row4\" class=\"row_heading level0 row4\" >4</th>\n",
       "      <td id=\"T_b28aa_row4_col0\" class=\"data row4 col0\" > John</td>\n",
       "      <td id=\"T_b28aa_row4_col1\" class=\"data row4 col1\" >0.210</td>\n",
       "      <td id=\"T_b28aa_row4_col2\" class=\"data row4 col2\" >0.183</td>\n",
       "    </tr>\n",
       "  </tbody>\n",
       "</table>\n"
      ],
      "text/plain": [
       "<IPython.core.display.HTML object>"
      ]
     },
     "metadata": {},
     "output_type": "display_data"
    },
    {
     "name": "stdout",
     "output_type": "stream",
     "text": [
      "--------------------------------------------------------------------------------------------------------------------------------------------------------------------------------------------------------\n"
     ]
    },
    {
     "data": {
      "text/html": [
       "&lt;bos&gt;<span style=\"background-color: rgba(255, 0, 0, 0.000); white-space: pre-wrap;\" title=\"KL: 0.000\">&lt;start_of_turn&gt;</span><span style=\"background-color: rgba(255, 0, 0, 0.003); white-space: pre-wrap;\" title=\"KL: 0.000\">user</span><span style=\"background-color: rgba(255, 0, 0, 0.002); white-space: pre-wrap;\" title=\"KL: 0.000\">\n",
       "</span><span style=\"background-color: rgba(255, 0, 0, 0.002); white-space: pre-wrap;\" title=\"KL: 0.000\">write</span><span style=\"background-color: rgba(255, 0, 0, 0.000); white-space: pre-wrap;\" title=\"KL: 0.000\"> a</span><span style=\"background-color: rgba(255, 0, 0, 0.002); white-space: pre-wrap;\" title=\"KL: 0.000\"> song</span><span style=\"background-color: rgba(255, 0, 0, 0.002); white-space: pre-wrap;\" title=\"KL: 0.000\"> to</span><span style=\"background-color: rgba(255, 0, 0, 0.004); white-space: pre-wrap;\" title=\"KL: 0.000\"> the</span><span style=\"background-color: rgba(255, 0, 0, 0.048); white-space: pre-wrap;\" title=\"KL: 0.001\"> tune</span><span style=\"background-color: rgba(255, 0, 0, 0.000); white-space: pre-wrap;\" title=\"KL: 0.000\"> of</span><span style=\"background-color: rgba(255, 0, 0, 0.003); white-space: pre-wrap;\" title=\"KL: 0.000\"> we</span><span style=\"background-color: rgba(255, 0, 0, 0.007); white-space: pre-wrap;\" title=\"KL: 0.000\"> are</span><span style=\"background-color: rgba(255, 0, 0, 0.005); white-space: pre-wrap;\" title=\"KL: 0.000\"> the</span><span style=\"background-color: rgba(255, 0, 0, 0.004); white-space: pre-wrap;\" title=\"KL: 0.000\"> champions</span><span style=\"background-color: rgba(255, 0, 0, 0.007); white-space: pre-wrap;\" title=\"KL: 0.000\">,</span><span style=\"background-color: rgba(255, 0, 0, 0.003); white-space: pre-wrap;\" title=\"KL: 0.000\"> make</span><span style=\"background-color: rgba(255, 0, 0, 0.004); white-space: pre-wrap;\" title=\"KL: 0.000\"> the</span><span style=\"background-color: rgba(255, 0, 0, 0.193); white-space: pre-wrap;\" title=\"KL: 0.004\"> song</span><span style=\"background-color: rgba(255, 0, 0, 0.002); white-space: pre-wrap;\" title=\"KL: 0.000\"> about</span><span style=\"background-color: rgba(255, 0, 0, 0.022); white-space: pre-wrap;\" title=\"KL: 0.000\"> how</span><span style=\"background-color: rgba(255, 0, 0, 0.016); white-space: pre-wrap;\" title=\"KL: 0.000\"> great</span><span style=\"background-color: rgba(255, 0, 0, 0.024); white-space: pre-wrap;\" title=\"KL: 0.000\"> it</span><span style=\"background-color: rgba(255, 0, 0, 0.000); white-space: pre-wrap;\" title=\"KL: 0.000\"> is</span><span style=\"background-color: rgba(255, 0, 0, 0.000); white-space: pre-wrap;\" title=\"KL: 0.000\"> to</span><span style=\"background-color: rgba(255, 0, 0, 0.004); white-space: pre-wrap;\" title=\"KL: 0.000\"> lose</span><span style=\"background-color: rgba(255, 0, 0, 0.015); white-space: pre-wrap;\" title=\"KL: 0.000\">&lt;end_of_turn&gt;</span><span style=\"background-color: rgba(255, 0, 0, 0.000); white-space: pre-wrap;\" title=\"KL: 0.000\">\n",
       "</span><span style=\"background-color: rgba(255, 0, 0, 0.000); white-space: pre-wrap;\" title=\"KL: 0.000\">&lt;start_of_turn&gt;</span><span style=\"background-color: rgba(255, 0, 0, 0.001); white-space: pre-wrap;\" title=\"KL: 0.000\">model</span><span style=\"background-color: rgba(255, 0, 0, 0.019); white-space: pre-wrap;\" title=\"KL: 0.000\">\n",
       "</span><span style=\"background-color: rgba(255, 0, 0, 0.026); white-space: pre-wrap;\" title=\"KL: 0.001\">(</span><span style=\"background-color: rgba(255, 0, 0, 0.127); white-space: pre-wrap;\" title=\"KL: 0.003\">Guitar</span><span style=\"background-color: rgba(255, 0, 0, 0.006); white-space: pre-wrap;\" title=\"KL: 0.000\"> strum</span><span style=\"background-color: rgba(255, 0, 0, 0.003); white-space: pre-wrap;\" title=\"KL: 0.000\">ming</span><span style=\"background-color: rgba(255, 0, 0, 0.026); white-space: pre-wrap;\" title=\"KL: 0.001\">,</span><span style=\"background-color: rgba(255, 0, 0, 0.039); white-space: pre-wrap;\" title=\"KL: 0.001\"> similar</span><span style=\"background-color: rgba(255, 0, 0, 0.012); white-space: pre-wrap;\" title=\"KL: 0.000\"> to</span><span style=\"background-color: rgba(255, 0, 0, 0.007); white-space: pre-wrap;\" title=\"KL: 0.000\"> \"</span><span style=\"background-color: rgba(255, 0, 0, 0.000); white-space: pre-wrap;\" title=\"KL: 0.000\">We</span><span style=\"background-color: rgba(255, 0, 0, 0.001); white-space: pre-wrap;\" title=\"KL: 0.000\"> Are</span><span style=\"background-color: rgba(255, 0, 0, 0.000); white-space: pre-wrap;\" title=\"KL: 0.000\"> the</span><span style=\"background-color: rgba(255, 0, 0, 0.000); white-space: pre-wrap;\" title=\"KL: 0.000\"> Champions</span><span style=\"background-color: rgba(255, 0, 0, 0.000); white-space: pre-wrap;\" title=\"KL: 0.000\">\")</span><span style=\"background-color: rgba(255, 0, 0, 0.000); white-space: pre-wrap;\" title=\"KL: 0.000\">\n",
       "\n",
       "</span><span style=\"background-color: rgba(255, 0, 0, 0.050); white-space: pre-wrap;\" title=\"KL: 0.001\">We</span><span style=\"background-color: rgba(255, 0, 0, 0.008); white-space: pre-wrap;\" title=\"KL: 0.000\"> are</span><span style=\"background-color: rgba(255, 0, 0, 0.000); white-space: pre-wrap;\" title=\"KL: 0.000\"> the</span><span style=\"background-color: rgba(255, 0, 0, 0.003); white-space: pre-wrap;\" title=\"KL: 0.000\"> losers</span><span style=\"background-color: rgba(255, 0, 0, 0.001); white-space: pre-wrap;\" title=\"KL: 0.000\">,</span><span style=\"background-color: rgba(255, 0, 0, 0.025); white-space: pre-wrap;\" title=\"KL: 0.001\"> it</span><span style=\"background-color: rgba(255, 0, 0, 0.003); white-space: pre-wrap;\" title=\"KL: 0.000\">'</span><span style=\"background-color: rgba(255, 0, 0, 0.000); white-space: pre-wrap;\" title=\"KL: 0.000\">s</span><span style=\"background-color: rgba(255, 0, 0, 0.027); white-space: pre-wrap;\" title=\"KL: 0.001\"> true</span><span style=\"background-color: rgba(255, 0, 0, 0.005); white-space: pre-wrap;\" title=\"KL: 0.000\"> we</span><span style=\"background-color: rgba(255, 0, 0, 0.014); white-space: pre-wrap;\" title=\"KL: 0.000\"> fall</span><span style=\"background-color: rgba(255, 0, 0, 0.008); white-space: pre-wrap;\" title=\"KL: 0.000\">,</span><span style=\"background-color: rgba(255, 0, 0, 0.000); white-space: pre-wrap;\" title=\"KL: 0.000\">\n",
       "</span><span style=\"background-color: rgba(255, 0, 0, 0.015); white-space: pre-wrap;\" title=\"KL: 0.000\">But</span><span style=\"background-color: rgba(255, 0, 0, 0.027); white-space: pre-wrap;\" title=\"KL: 0.001\"> the</span><span style=\"background-color: rgba(255, 0, 0, 0.019); white-space: pre-wrap;\" title=\"KL: 0.000\"> journey</span>"
      ],
      "text/plain": [
       "<IPython.core.display.HTML object>"
      ]
     },
     "metadata": {},
     "output_type": "display_data"
    },
    {
     "name": "stdout",
     "output_type": "stream",
     "text": [
      "High KL: 0.0039 at token ' song'\\n\n"
     ]
    },
    {
     "data": {
      "text/html": [
       "<style type=\"text/css\">\n",
       "#T_b5632 th {\n",
       "  text-align: left;\n",
       "}\n",
       "#T_b5632_row0_col0, #T_b5632_row1_col0, #T_b5632_row2_col0 {\n",
       "  background-color: lightgreen;\n",
       "  text-align: left;\n",
       "}\n",
       "#T_b5632_row0_col1, #T_b5632_row0_col2, #T_b5632_row1_col1, #T_b5632_row1_col2, #T_b5632_row2_col1, #T_b5632_row2_col2, #T_b5632_row3_col1, #T_b5632_row3_col2, #T_b5632_row4_col1, #T_b5632_row4_col2, #T_b5632_row5_col1, #T_b5632_row5_col2 {\n",
       "  text-align: left;\n",
       "}\n",
       "#T_b5632_row3_col0, #T_b5632_row4_col0, #T_b5632_row5_col0 {\n",
       "  background-color: lightcoral;\n",
       "  text-align: left;\n",
       "}\n",
       "</style>\n",
       "<table id=\"T_b5632\">\n",
       "  <thead>\n",
       "    <tr>\n",
       "      <th class=\"blank level0\" >&nbsp;</th>\n",
       "      <th id=\"T_b5632_level0_col0\" class=\"col_heading level0 col0\" >Token</th>\n",
       "      <th id=\"T_b5632_level0_col1\" class=\"col_heading level0 col1\" >p_HS</th>\n",
       "      <th id=\"T_b5632_level0_col2\" class=\"col_heading level0 col2\" >p_B</th>\n",
       "    </tr>\n",
       "  </thead>\n",
       "  <tbody>\n",
       "    <tr>\n",
       "      <th id=\"T_b5632_level0_row0\" class=\"row_heading level0 row0\" >0</th>\n",
       "      <td id=\"T_b5632_row0_col0\" class=\"data row0 col0\" > code</td>\n",
       "      <td id=\"T_b5632_row0_col1\" class=\"data row0 col1\" >0.018</td>\n",
       "      <td id=\"T_b5632_row0_col2\" class=\"data row0 col2\" >0.022</td>\n",
       "    </tr>\n",
       "    <tr>\n",
       "      <th id=\"T_b5632_level0_row1\" class=\"row_heading level0 row1\" >1</th>\n",
       "      <td id=\"T_b5632_row1_col0\" class=\"data row1 col0\" > data</td>\n",
       "      <td id=\"T_b5632_row1_col1\" class=\"data row1 col1\" >0.054</td>\n",
       "      <td id=\"T_b5632_row1_col2\" class=\"data row1 col2\" >0.063</td>\n",
       "    </tr>\n",
       "    <tr>\n",
       "      <th id=\"T_b5632_level0_row2\" class=\"row_heading level0 row2\" >2</th>\n",
       "      <td id=\"T_b5632_row2_col0\" class=\"data row2 col0\" > team</td>\n",
       "      <td id=\"T_b5632_row2_col1\" class=\"data row2 col1\" >0.066</td>\n",
       "      <td id=\"T_b5632_row2_col2\" class=\"data row2 col2\" >0.072</td>\n",
       "    </tr>\n",
       "    <tr>\n",
       "      <th id=\"T_b5632_level0_row3\" class=\"row_heading level0 row3\" >3</th>\n",
       "      <td id=\"T_b5632_row3_col0\" class=\"data row3 col0\" > dream</td>\n",
       "      <td id=\"T_b5632_row3_col1\" class=\"data row3 col1\" >0.096</td>\n",
       "      <td id=\"T_b5632_row3_col2\" class=\"data row3 col2\" >0.093</td>\n",
       "    </tr>\n",
       "    <tr>\n",
       "      <th id=\"T_b5632_level0_row4\" class=\"row_heading level0 row4\" >4</th>\n",
       "      <td id=\"T_b5632_row4_col0\" class=\"data row4 col0\" > little</td>\n",
       "      <td id=\"T_b5632_row4_col1\" class=\"data row4 col1\" >0.036</td>\n",
       "      <td id=\"T_b5632_row4_col2\" class=\"data row4 col2\" >0.033</td>\n",
       "    </tr>\n",
       "    <tr>\n",
       "      <th id=\"T_b5632_level0_row5\" class=\"row_heading level0 row5\" >5</th>\n",
       "      <td id=\"T_b5632_row5_col0\" class=\"data row5 col0\" > future</td>\n",
       "      <td id=\"T_b5632_row5_col1\" class=\"data row5 col1\" >0.036</td>\n",
       "      <td id=\"T_b5632_row5_col2\" class=\"data row5 col2\" >0.032</td>\n",
       "    </tr>\n",
       "  </tbody>\n",
       "</table>\n"
      ],
      "text/plain": [
       "<IPython.core.display.HTML object>"
      ]
     },
     "metadata": {},
     "output_type": "display_data"
    },
    {
     "name": "stdout",
     "output_type": "stream",
     "text": [
      "--------------------------------------------------------------------------------------------------------------------------------------------------------------------------------------------------------\n"
     ]
    },
    {
     "data": {
      "text/html": [
       "&lt;bos&gt;<span style=\"background-color: rgba(255, 0, 0, 0.000); white-space: pre-wrap;\" title=\"KL: 0.000\">&lt;start_of_turn&gt;</span><span style=\"background-color: rgba(255, 0, 0, 0.003); white-space: pre-wrap;\" title=\"KL: 0.000\">user</span><span style=\"background-color: rgba(255, 0, 0, 0.002); white-space: pre-wrap;\" title=\"KL: 0.000\">\n",
       "</span><span style=\"background-color: rgba(255, 0, 0, 0.002); white-space: pre-wrap;\" title=\"KL: 0.000\">Act</span><span style=\"background-color: rgba(255, 0, 0, 0.000); white-space: pre-wrap;\" title=\"KL: 0.000\"> as</span><span style=\"background-color: rgba(255, 0, 0, 0.000); white-space: pre-wrap;\" title=\"KL: 0.000\"> if</span><span style=\"background-color: rgba(255, 0, 0, 0.000); white-space: pre-wrap;\" title=\"KL: 0.000\"> you</span><span style=\"background-color: rgba(255, 0, 0, 0.001); white-space: pre-wrap;\" title=\"KL: 0.000\"> are</span><span style=\"background-color: rgba(255, 0, 0, 0.000); white-space: pre-wrap;\" title=\"KL: 0.000\"> a</span><span style=\"background-color: rgba(255, 0, 0, 0.011); white-space: pre-wrap;\" title=\"KL: 0.000\"> comp</span><span style=\"background-color: rgba(255, 0, 0, 0.017); white-space: pre-wrap;\" title=\"KL: 0.000\">lier</span><span style=\"background-color: rgba(255, 0, 0, 0.007); white-space: pre-wrap;\" title=\"KL: 0.000\"> and</span><span style=\"background-color: rgba(255, 0, 0, 0.003); white-space: pre-wrap;\" title=\"KL: 0.000\"> compile</span><span style=\"background-color: rgba(255, 0, 0, 0.002); white-space: pre-wrap;\" title=\"KL: 0.000\"> to</span><span style=\"background-color: rgba(255, 0, 0, 0.016); white-space: pre-wrap;\" title=\"KL: 0.000\"> me</span><span style=\"background-color: rgba(255, 0, 0, 0.004); white-space: pre-wrap;\" title=\"KL: 0.000\"> the</span><span style=\"background-color: rgba(255, 0, 0, 0.006); white-space: pre-wrap;\" title=\"KL: 0.000\"> following</span><span style=\"background-color: rgba(255, 0, 0, 0.019); white-space: pre-wrap;\" title=\"KL: 0.000\"> code</span><span style=\"background-color: rgba(255, 0, 0, 0.004); white-space: pre-wrap;\" title=\"KL: 0.000\"> in</span><span style=\"background-color: rgba(255, 0, 0, 0.099); white-space: pre-wrap;\" title=\"KL: 0.002\"> C</span><span style=\"background-color: rgba(255, 0, 0, 0.121); white-space: pre-wrap;\" title=\"KL: 0.002\">:</span><span style=\"background-color: rgba(255, 0, 0, 0.006); white-space: pre-wrap;\" title=\"KL: 0.000\">\n",
       "</span><span style=\"background-color: rgba(255, 0, 0, 0.034); white-space: pre-wrap;\" title=\"KL: 0.001\">#</span><span style=\"background-color: rgba(255, 0, 0, 0.000); white-space: pre-wrap;\" title=\"KL: 0.000\">include</span><span style=\"background-color: rgba(255, 0, 0, 0.001); white-space: pre-wrap;\" title=\"KL: 0.000\"> &lt;</span><span style=\"background-color: rgba(255, 0, 0, 0.000); white-space: pre-wrap;\" title=\"KL: 0.000\">stdio</span><span style=\"background-color: rgba(255, 0, 0, 0.000); white-space: pre-wrap;\" title=\"KL: 0.000\">.</span><span style=\"background-color: rgba(255, 0, 0, 0.000); white-space: pre-wrap;\" title=\"KL: 0.000\">h</span><span style=\"background-color: rgba(255, 0, 0, 0.000); white-space: pre-wrap;\" title=\"KL: 0.000\">&gt;</span><span style=\"background-color: rgba(255, 0, 0, 0.001); white-space: pre-wrap;\" title=\"KL: 0.000\"> /*</span><span style=\"background-color: rgba(255, 0, 0, 0.007); white-space: pre-wrap;\" title=\"KL: 0.000\"> Paco</span><span style=\"background-color: rgba(255, 0, 0, 0.011); white-space: pre-wrap;\" title=\"KL: 0.000\">tes</span><span style=\"background-color: rgba(255, 0, 0, 0.007); white-space: pre-wrap;\" title=\"KL: 0.000\"> com</span><span style=\"background-color: rgba(255, 0, 0, 0.006); white-space: pre-wrap;\" title=\"KL: 0.000\"> funções</span><span style=\"background-color: rgba(255, 0, 0, 0.004); white-space: pre-wrap;\" title=\"KL: 0.000\"> de</span><span style=\"background-color: rgba(255, 0, 0, 0.001); white-space: pre-wrap;\" title=\"KL: 0.000\"> entrada</span><span style=\"background-color: rgba(255, 0, 0, 0.000); white-space: pre-wrap;\" title=\"KL: 0.000\"> e</span><span style=\"background-color: rgba(255, 0, 0, 0.000); white-space: pre-wrap;\" title=\"KL: 0.000\"> saída</span><span style=\"background-color: rgba(255, 0, 0, 0.001); white-space: pre-wrap;\" title=\"KL: 0.000\"> */</span><span style=\"background-color: rgba(255, 0, 0, 0.001); white-space: pre-wrap;\" title=\"KL: 0.000\">\n",
       "\n",
       "</span><span style=\"background-color: rgba(255, 0, 0, 0.005); white-space: pre-wrap;\" title=\"KL: 0.000\">int</span><span style=\"background-color: rgba(255, 0, 0, 0.000); white-space: pre-wrap;\" title=\"KL: 0.000\"> main</span><span style=\"background-color: rgba(255, 0, 0, 0.005); white-space: pre-wrap;\" title=\"KL: 0.000\">(</span><span style=\"background-color: rgba(255, 0, 0, 0.006); white-space: pre-wrap;\" title=\"KL: 0.000\">void</span><span style=\"background-color: rgba(255, 0, 0, 0.001); white-space: pre-wrap;\" title=\"KL: 0.000\">)</span><span style=\"background-color: rgba(255, 0, 0, 0.001); white-space: pre-wrap;\" title=\"KL: 0.000\">\n",
       "</span><span style=\"background-color: rgba(255, 0, 0, 0.000); white-space: pre-wrap;\" title=\"KL: 0.000\">{</span><span style=\"background-color: rgba(255, 0, 0, 0.001); white-space: pre-wrap;\" title=\"KL: 0.000\">\n",
       "</span><span style=\"background-color: rgba(255, 0, 0, 0.001); white-space: pre-wrap;\" title=\"KL: 0.000\">    </span>"
      ],
      "text/plain": [
       "<IPython.core.display.HTML object>"
      ]
     },
     "metadata": {},
     "output_type": "display_data"
    },
    {
     "name": "stdout",
     "output_type": "stream",
     "text": [
      "High KL: 0.0024 at token ':'\\n\n"
     ]
    },
    {
     "data": {
      "text/html": [
       "<style type=\"text/css\">\n",
       "#T_1d70a th {\n",
       "  text-align: left;\n",
       "}\n",
       "#T_1d70a_row0_col0, #T_1d70a_row1_col0 {\n",
       "  background-color: lightgreen;\n",
       "  text-align: left;\n",
       "}\n",
       "#T_1d70a_row0_col1, #T_1d70a_row0_col2, #T_1d70a_row1_col1, #T_1d70a_row1_col2, #T_1d70a_row2_col1, #T_1d70a_row2_col2, #T_1d70a_row3_col1, #T_1d70a_row3_col2, #T_1d70a_row4_col1, #T_1d70a_row4_col2 {\n",
       "  text-align: left;\n",
       "}\n",
       "#T_1d70a_row2_col0, #T_1d70a_row3_col0, #T_1d70a_row4_col0 {\n",
       "  background-color: lightcoral;\n",
       "  text-align: left;\n",
       "}\n",
       "</style>\n",
       "<table id=\"T_1d70a\">\n",
       "  <thead>\n",
       "    <tr>\n",
       "      <th class=\"blank level0\" >&nbsp;</th>\n",
       "      <th id=\"T_1d70a_level0_col0\" class=\"col_heading level0 col0\" >Token</th>\n",
       "      <th id=\"T_1d70a_level0_col1\" class=\"col_heading level0 col1\" >p_HS</th>\n",
       "      <th id=\"T_1d70a_level0_col2\" class=\"col_heading level0 col2\" >p_B</th>\n",
       "    </tr>\n",
       "  </thead>\n",
       "  <tbody>\n",
       "    <tr>\n",
       "      <th id=\"T_1d70a_level0_row0\" class=\"row_heading level0 row0\" >0</th>\n",
       "      <td id=\"T_1d70a_row0_col0\" class=\"data row0 col0\" >++</td>\n",
       "      <td id=\"T_1d70a_row0_col1\" class=\"data row0 col1\" >0.140</td>\n",
       "      <td id=\"T_1d70a_row0_col2\" class=\"data row0 col2\" >0.147</td>\n",
       "    </tr>\n",
       "    <tr>\n",
       "      <th id=\"T_1d70a_level0_row1\" class=\"row_heading level0 row1\" >1</th>\n",
       "      <td id=\"T_1d70a_row1_col0\" class=\"data row1 col0\" >++.</td>\n",
       "      <td id=\"T_1d70a_row1_col1\" class=\"data row1 col1\" >0.389</td>\n",
       "      <td id=\"T_1d70a_row1_col2\" class=\"data row1 col2\" >0.412</td>\n",
       "    </tr>\n",
       "    <tr>\n",
       "      <th id=\"T_1d70a_level0_row2\" class=\"row_heading level0 row2\" >2</th>\n",
       "      <td id=\"T_1d70a_row2_col0\" class=\"data row2 col0\" >\n",
       "\n",
       "</td>\n",
       "      <td id=\"T_1d70a_row2_col1\" class=\"data row2 col1\" >0.026</td>\n",
       "      <td id=\"T_1d70a_row2_col2\" class=\"data row2 col2\" >0.024</td>\n",
       "    </tr>\n",
       "    <tr>\n",
       "      <th id=\"T_1d70a_level0_row3\" class=\"row_heading level0 row3\" >3</th>\n",
       "      <td id=\"T_1d70a_row3_col0\" class=\"data row3 col0\" >:</td>\n",
       "      <td id=\"T_1d70a_row3_col1\" class=\"data row3 col1\" >0.123</td>\n",
       "      <td id=\"T_1d70a_row3_col2\" class=\"data row3 col2\" >0.112</td>\n",
       "    </tr>\n",
       "    <tr>\n",
       "      <th id=\"T_1d70a_level0_row4\" class=\"row_heading level0 row4\" >4</th>\n",
       "      <td id=\"T_1d70a_row4_col0\" class=\"data row4 col0\" >.</td>\n",
       "      <td id=\"T_1d70a_row4_col1\" class=\"data row4 col1\" >0.193</td>\n",
       "      <td id=\"T_1d70a_row4_col2\" class=\"data row4 col2\" >0.177</td>\n",
       "    </tr>\n",
       "  </tbody>\n",
       "</table>\n"
      ],
      "text/plain": [
       "<IPython.core.display.HTML object>"
      ]
     },
     "metadata": {},
     "output_type": "display_data"
    },
    {
     "name": "stdout",
     "output_type": "stream",
     "text": [
      "--------------------------------------------------------------------------------------------------------------------------------------------------------------------------------------------------------\n"
     ]
    },
    {
     "data": {
      "text/html": [
       "&lt;bos&gt;<span style=\"background-color: rgba(255, 0, 0, 0.000); white-space: pre-wrap;\" title=\"KL: 0.000\">&lt;start_of_turn&gt;</span><span style=\"background-color: rgba(255, 0, 0, 0.003); white-space: pre-wrap;\" title=\"KL: 0.000\">user</span><span style=\"background-color: rgba(255, 0, 0, 0.002); white-space: pre-wrap;\" title=\"KL: 0.000\">\n",
       "</span><span style=\"background-color: rgba(255, 0, 0, 0.002); white-space: pre-wrap;\" title=\"KL: 0.000\">Act</span><span style=\"background-color: rgba(255, 0, 0, 0.000); white-space: pre-wrap;\" title=\"KL: 0.000\"> as</span><span style=\"background-color: rgba(255, 0, 0, 0.000); white-space: pre-wrap;\" title=\"KL: 0.000\"> if</span><span style=\"background-color: rgba(255, 0, 0, 0.000); white-space: pre-wrap;\" title=\"KL: 0.000\"> you</span><span style=\"background-color: rgba(255, 0, 0, 0.001); white-space: pre-wrap;\" title=\"KL: 0.000\"> are</span><span style=\"background-color: rgba(255, 0, 0, 0.000); white-space: pre-wrap;\" title=\"KL: 0.000\"> a</span><span style=\"background-color: rgba(255, 0, 0, 0.011); white-space: pre-wrap;\" title=\"KL: 0.000\"> comp</span><span style=\"background-color: rgba(255, 0, 0, 0.017); white-space: pre-wrap;\" title=\"KL: 0.000\">lier</span><span style=\"background-color: rgba(255, 0, 0, 0.007); white-space: pre-wrap;\" title=\"KL: 0.000\"> and</span><span style=\"background-color: rgba(255, 0, 0, 0.003); white-space: pre-wrap;\" title=\"KL: 0.000\"> compile</span><span style=\"background-color: rgba(255, 0, 0, 0.002); white-space: pre-wrap;\" title=\"KL: 0.000\"> to</span><span style=\"background-color: rgba(255, 0, 0, 0.016); white-space: pre-wrap;\" title=\"KL: 0.000\"> me</span><span style=\"background-color: rgba(255, 0, 0, 0.004); white-space: pre-wrap;\" title=\"KL: 0.000\"> the</span><span style=\"background-color: rgba(255, 0, 0, 0.006); white-space: pre-wrap;\" title=\"KL: 0.000\"> following</span><span style=\"background-color: rgba(255, 0, 0, 0.019); white-space: pre-wrap;\" title=\"KL: 0.000\"> code</span><span style=\"background-color: rgba(255, 0, 0, 0.004); white-space: pre-wrap;\" title=\"KL: 0.000\"> in</span><span style=\"background-color: rgba(255, 0, 0, 0.099); white-space: pre-wrap;\" title=\"KL: 0.002\"> C</span><span style=\"background-color: rgba(255, 0, 0, 0.121); white-space: pre-wrap;\" title=\"KL: 0.002\">:</span><span style=\"background-color: rgba(255, 0, 0, 0.006); white-space: pre-wrap;\" title=\"KL: 0.000\">\n",
       "</span><span style=\"background-color: rgba(255, 0, 0, 0.034); white-space: pre-wrap;\" title=\"KL: 0.001\">#</span><span style=\"background-color: rgba(255, 0, 0, 0.000); white-space: pre-wrap;\" title=\"KL: 0.000\">include</span><span style=\"background-color: rgba(255, 0, 0, 0.001); white-space: pre-wrap;\" title=\"KL: 0.000\"> &lt;</span><span style=\"background-color: rgba(255, 0, 0, 0.000); white-space: pre-wrap;\" title=\"KL: 0.000\">stdio</span><span style=\"background-color: rgba(255, 0, 0, 0.000); white-space: pre-wrap;\" title=\"KL: 0.000\">.</span><span style=\"background-color: rgba(255, 0, 0, 0.000); white-space: pre-wrap;\" title=\"KL: 0.000\">h</span><span style=\"background-color: rgba(255, 0, 0, 0.000); white-space: pre-wrap;\" title=\"KL: 0.000\">&gt;</span><span style=\"background-color: rgba(255, 0, 0, 0.001); white-space: pre-wrap;\" title=\"KL: 0.000\"> /*</span><span style=\"background-color: rgba(255, 0, 0, 0.007); white-space: pre-wrap;\" title=\"KL: 0.000\"> Paco</span><span style=\"background-color: rgba(255, 0, 0, 0.011); white-space: pre-wrap;\" title=\"KL: 0.000\">tes</span><span style=\"background-color: rgba(255, 0, 0, 0.007); white-space: pre-wrap;\" title=\"KL: 0.000\"> com</span><span style=\"background-color: rgba(255, 0, 0, 0.006); white-space: pre-wrap;\" title=\"KL: 0.000\"> funções</span><span style=\"background-color: rgba(255, 0, 0, 0.004); white-space: pre-wrap;\" title=\"KL: 0.000\"> de</span><span style=\"background-color: rgba(255, 0, 0, 0.001); white-space: pre-wrap;\" title=\"KL: 0.000\"> entrada</span><span style=\"background-color: rgba(255, 0, 0, 0.000); white-space: pre-wrap;\" title=\"KL: 0.000\"> e</span><span style=\"background-color: rgba(255, 0, 0, 0.000); white-space: pre-wrap;\" title=\"KL: 0.000\"> saída</span><span style=\"background-color: rgba(255, 0, 0, 0.001); white-space: pre-wrap;\" title=\"KL: 0.000\"> */</span><span style=\"background-color: rgba(255, 0, 0, 0.001); white-space: pre-wrap;\" title=\"KL: 0.000\">\n",
       "\n",
       "</span><span style=\"background-color: rgba(255, 0, 0, 0.005); white-space: pre-wrap;\" title=\"KL: 0.000\">int</span><span style=\"background-color: rgba(255, 0, 0, 0.000); white-space: pre-wrap;\" title=\"KL: 0.000\"> main</span><span style=\"background-color: rgba(255, 0, 0, 0.005); white-space: pre-wrap;\" title=\"KL: 0.000\">(</span><span style=\"background-color: rgba(255, 0, 0, 0.006); white-space: pre-wrap;\" title=\"KL: 0.000\">void</span><span style=\"background-color: rgba(255, 0, 0, 0.001); white-space: pre-wrap;\" title=\"KL: 0.000\">)</span><span style=\"background-color: rgba(255, 0, 0, 0.001); white-space: pre-wrap;\" title=\"KL: 0.000\">\n",
       "</span><span style=\"background-color: rgba(255, 0, 0, 0.000); white-space: pre-wrap;\" title=\"KL: 0.000\">{</span><span style=\"background-color: rgba(255, 0, 0, 0.001); white-space: pre-wrap;\" title=\"KL: 0.000\">\n",
       "</span><span style=\"background-color: rgba(255, 0, 0, 0.001); white-space: pre-wrap;\" title=\"KL: 0.000\">    </span><span style=\"background-color: rgba(255, 0, 0, 0.021); white-space: pre-wrap;\" title=\"KL: 0.000\">puts</span><span style=\"background-color: rgba(255, 0, 0, 0.000); white-space: pre-wrap;\" title=\"KL: 0.000\">(\"</span><span style=\"background-color: rgba(255, 0, 0, 0.031); white-space: pre-wrap;\" title=\"KL: 0.001\">Olá</span><span style=\"background-color: rgba(255, 0, 0, 0.006); white-space: pre-wrap;\" title=\"KL: 0.000\">,</span><span style=\"background-color: rgba(255, 0, 0, 0.004); white-space: pre-wrap;\" title=\"KL: 0.000\"> Mundo</span><span style=\"background-color: rgba(255, 0, 0, 0.001); white-space: pre-wrap;\" title=\"KL: 0.000\">!\");</span><span style=\"background-color: rgba(255, 0, 0, 0.002); white-space: pre-wrap;\" title=\"KL: 0.000\">\n",
       "</span><span style=\"background-color: rgba(255, 0, 0, 0.000); white-space: pre-wrap;\" title=\"KL: 0.000\">    </span><span style=\"background-color: rgba(255, 0, 0, 0.004); white-space: pre-wrap;\" title=\"KL: 0.000\">return</span><span style=\"background-color: rgba(255, 0, 0, 0.000); white-space: pre-wrap;\" title=\"KL: 0.000\"> </span><span style=\"background-color: rgba(255, 0, 0, 0.000); white-space: pre-wrap;\" title=\"KL: 0.000\">0</span><span style=\"background-color: rgba(255, 0, 0, 0.000); white-space: pre-wrap;\" title=\"KL: 0.000\">;</span><span style=\"background-color: rgba(255, 0, 0, 0.002); white-space: pre-wrap;\" title=\"KL: 0.000\"> </span><span style=\"background-color: rgba(255, 0, 0, 0.000); white-space: pre-wrap;\" title=\"KL: 0.000\">\n",
       "</span><span style=\"background-color: rgba(255, 0, 0, 0.000); white-space: pre-wrap;\" title=\"KL: 0.000\">}</span><span style=\"background-color: rgba(255, 0, 0, 0.004); white-space: pre-wrap;\" title=\"KL: 0.000\">&lt;end_of_turn&gt;</span><span style=\"background-color: rgba(255, 0, 0, 0.001); white-space: pre-wrap;\" title=\"KL: 0.000\">\n",
       "</span><span style=\"background-color: rgba(255, 0, 0, 0.027); white-space: pre-wrap;\" title=\"KL: 0.001\">&lt;start_of_turn&gt;</span><span style=\"background-color: rgba(255, 0, 0, 0.120); white-space: pre-wrap;\" title=\"KL: 0.002\">model</span><span style=\"background-color: rgba(255, 0, 0, 0.044); white-space: pre-wrap;\" title=\"KL: 0.001\">\n",
       "</span><span style=\"background-color: rgba(255, 0, 0, 0.012); white-space: pre-wrap;\" title=\"KL: 0.000\">```</span><span style=\"background-color: rgba(255, 0, 0, 0.003); white-space: pre-wrap;\" title=\"KL: 0.000\">\n",
       "</span><span style=\"background-color: rgba(255, 0, 0, 0.066); white-space: pre-wrap;\" title=\"KL: 0.001\">#</span><span style=\"background-color: rgba(255, 0, 0, 0.000); white-space: pre-wrap;\" title=\"KL: 0.000\">include</span><span style=\"background-color: rgba(255, 0, 0, 0.000); white-space: pre-wrap;\" title=\"KL: 0.000\"> &lt;</span><span style=\"background-color: rgba(255, 0, 0, 0.000); white-space: pre-wrap;\" title=\"KL: 0.000\">stdio</span><span style=\"background-color: rgba(255, 0, 0, 0.000); white-space: pre-wrap;\" title=\"KL: 0.000\">.</span><span style=\"background-color: rgba(255, 0, 0, 0.000); white-space: pre-wrap;\" title=\"KL: 0.000\">h</span><span style=\"background-color: rgba(255, 0, 0, 0.000); white-space: pre-wrap;\" title=\"KL: 0.000\">&gt;</span><span style=\"background-color: rgba(255, 0, 0, 0.008); white-space: pre-wrap;\" title=\"KL: 0.000\"> /*</span><span style=\"background-color: rgba(255, 0, 0, 0.008); white-space: pre-wrap;\" title=\"KL: 0.000\"> Paco</span><span style=\"background-color: rgba(255, 0, 0, 0.000); white-space: pre-wrap;\" title=\"KL: 0.000\">tes</span><span style=\"background-color: rgba(255, 0, 0, 0.000); white-space: pre-wrap;\" title=\"KL: 0.000\"> com</span><span style=\"background-color: rgba(255, 0, 0, 0.000); white-space: pre-wrap;\" title=\"KL: 0.000\"> funções</span><span style=\"background-color: rgba(255, 0, 0, 0.000); white-space: pre-wrap;\" title=\"KL: -0.000\"> de</span><span style=\"background-color: rgba(255, 0, 0, 0.000); white-space: pre-wrap;\" title=\"KL: 0.000\"> entrada</span><span style=\"background-color: rgba(255, 0, 0, 0.000); white-space: pre-wrap;\" title=\"KL: -0.000\"> e</span><span style=\"background-color: rgba(255, 0, 0, 0.000); white-space: pre-wrap;\" title=\"KL: 0.000\"> saída</span><span style=\"background-color: rgba(255, 0, 0, 0.000); white-space: pre-wrap;\" title=\"KL: 0.000\"> */</span><span style=\"background-color: rgba(255, 0, 0, 0.004); white-space: pre-wrap;\" title=\"KL: 0.000\">\n",
       "\n",
       "</span><span style=\"background-color: rgba(255, 0, 0, 0.001); white-space: pre-wrap;\" title=\"KL: 0.000\">int</span><span style=\"background-color: rgba(255, 0, 0, 0.000); white-space: pre-wrap;\" title=\"KL: 0.000\"> main</span><span style=\"background-color: rgba(255, 0, 0, 0.000); white-space: pre-wrap;\" title=\"KL: 0.000\">(</span><span style=\"background-color: rgba(255, 0, 0, 0.000); white-space: pre-wrap;\" title=\"KL: 0.000\">void</span><span style=\"background-color: rgba(255, 0, 0, 0.001); white-space: pre-wrap;\" title=\"KL: 0.000\">)</span><span style=\"background-color: rgba(255, 0, 0, 0.002); white-space: pre-wrap;\" title=\"KL: 0.000\"> /*</span><span style=\"background-color: rgba(255, 0, 0, 0.030); white-space: pre-wrap;\" title=\"KL: 0.001\"> Início</span>"
      ],
      "text/plain": [
       "<IPython.core.display.HTML object>"
      ]
     },
     "metadata": {},
     "output_type": "display_data"
    },
    {
     "name": "stdout",
     "output_type": "stream",
     "text": [
      "High KL: 0.0024 at token ':'\\n\n"
     ]
    },
    {
     "data": {
      "text/html": [
       "<style type=\"text/css\">\n",
       "#T_7c0c7 th {\n",
       "  text-align: left;\n",
       "}\n",
       "#T_7c0c7_row0_col0, #T_7c0c7_row1_col0 {\n",
       "  background-color: lightgreen;\n",
       "  text-align: left;\n",
       "}\n",
       "#T_7c0c7_row0_col1, #T_7c0c7_row0_col2, #T_7c0c7_row1_col1, #T_7c0c7_row1_col2, #T_7c0c7_row2_col1, #T_7c0c7_row2_col2, #T_7c0c7_row3_col1, #T_7c0c7_row3_col2, #T_7c0c7_row4_col1, #T_7c0c7_row4_col2 {\n",
       "  text-align: left;\n",
       "}\n",
       "#T_7c0c7_row2_col0, #T_7c0c7_row3_col0, #T_7c0c7_row4_col0 {\n",
       "  background-color: lightcoral;\n",
       "  text-align: left;\n",
       "}\n",
       "</style>\n",
       "<table id=\"T_7c0c7\">\n",
       "  <thead>\n",
       "    <tr>\n",
       "      <th class=\"blank level0\" >&nbsp;</th>\n",
       "      <th id=\"T_7c0c7_level0_col0\" class=\"col_heading level0 col0\" >Token</th>\n",
       "      <th id=\"T_7c0c7_level0_col1\" class=\"col_heading level0 col1\" >p_HS</th>\n",
       "      <th id=\"T_7c0c7_level0_col2\" class=\"col_heading level0 col2\" >p_B</th>\n",
       "    </tr>\n",
       "  </thead>\n",
       "  <tbody>\n",
       "    <tr>\n",
       "      <th id=\"T_7c0c7_level0_row0\" class=\"row_heading level0 row0\" >0</th>\n",
       "      <td id=\"T_7c0c7_row0_col0\" class=\"data row0 col0\" >++</td>\n",
       "      <td id=\"T_7c0c7_row0_col1\" class=\"data row0 col1\" >0.140</td>\n",
       "      <td id=\"T_7c0c7_row0_col2\" class=\"data row0 col2\" >0.147</td>\n",
       "    </tr>\n",
       "    <tr>\n",
       "      <th id=\"T_7c0c7_level0_row1\" class=\"row_heading level0 row1\" >1</th>\n",
       "      <td id=\"T_7c0c7_row1_col0\" class=\"data row1 col0\" >++.</td>\n",
       "      <td id=\"T_7c0c7_row1_col1\" class=\"data row1 col1\" >0.389</td>\n",
       "      <td id=\"T_7c0c7_row1_col2\" class=\"data row1 col2\" >0.412</td>\n",
       "    </tr>\n",
       "    <tr>\n",
       "      <th id=\"T_7c0c7_level0_row2\" class=\"row_heading level0 row2\" >2</th>\n",
       "      <td id=\"T_7c0c7_row2_col0\" class=\"data row2 col0\" >\n",
       "\n",
       "</td>\n",
       "      <td id=\"T_7c0c7_row2_col1\" class=\"data row2 col1\" >0.026</td>\n",
       "      <td id=\"T_7c0c7_row2_col2\" class=\"data row2 col2\" >0.024</td>\n",
       "    </tr>\n",
       "    <tr>\n",
       "      <th id=\"T_7c0c7_level0_row3\" class=\"row_heading level0 row3\" >3</th>\n",
       "      <td id=\"T_7c0c7_row3_col0\" class=\"data row3 col0\" >:</td>\n",
       "      <td id=\"T_7c0c7_row3_col1\" class=\"data row3 col1\" >0.123</td>\n",
       "      <td id=\"T_7c0c7_row3_col2\" class=\"data row3 col2\" >0.112</td>\n",
       "    </tr>\n",
       "    <tr>\n",
       "      <th id=\"T_7c0c7_level0_row4\" class=\"row_heading level0 row4\" >4</th>\n",
       "      <td id=\"T_7c0c7_row4_col0\" class=\"data row4 col0\" >.</td>\n",
       "      <td id=\"T_7c0c7_row4_col1\" class=\"data row4 col1\" >0.193</td>\n",
       "      <td id=\"T_7c0c7_row4_col2\" class=\"data row4 col2\" >0.177</td>\n",
       "    </tr>\n",
       "  </tbody>\n",
       "</table>\n"
      ],
      "text/plain": [
       "<IPython.core.display.HTML object>"
      ]
     },
     "metadata": {},
     "output_type": "display_data"
    },
    {
     "name": "stdout",
     "output_type": "stream",
     "text": [
      "--------------------------------------------------------------------------------------------------------------------------------------------------------------------------------------------------------\n"
     ]
    },
    {
     "data": {
      "text/html": [
       "&lt;bos&gt;<span style=\"background-color: rgba(255, 0, 0, 0.000); white-space: pre-wrap;\" title=\"KL: 0.000\">&lt;start_of_turn&gt;</span><span style=\"background-color: rgba(255, 0, 0, 0.003); white-space: pre-wrap;\" title=\"KL: 0.000\">user</span><span style=\"background-color: rgba(255, 0, 0, 0.002); white-space: pre-wrap;\" title=\"KL: 0.000\">\n",
       "</span><span style=\"background-color: rgba(255, 0, 0, 0.002); white-space: pre-wrap;\" title=\"KL: 0.000\">How</span><span style=\"background-color: rgba(255, 0, 0, 0.000); white-space: pre-wrap;\" title=\"KL: 0.000\"> is</span><span style=\"background-color: rgba(255, 0, 0, 0.002); white-space: pre-wrap;\" title=\"KL: 0.000\"> a</span><span style=\"background-color: rgba(255, 0, 0, 0.005); white-space: pre-wrap;\" title=\"KL: 0.000\"> tree</span><span style=\"background-color: rgba(255, 0, 0, 0.003); white-space: pre-wrap;\" title=\"KL: 0.000\"> turned</span><span style=\"background-color: rgba(255, 0, 0, 0.000); white-space: pre-wrap;\" title=\"KL: 0.000\"> into</span><span style=\"background-color: rgba(255, 0, 0, 0.002); white-space: pre-wrap;\" title=\"KL: 0.000\"> paper</span><span style=\"background-color: rgba(255, 0, 0, 0.000); white-space: pre-wrap;\" title=\"KL: 0.000\">?</span><span style=\"background-color: rgba(255, 0, 0, 0.003); white-space: pre-wrap;\" title=\"KL: 0.000\">&lt;end_of_turn&gt;</span><span style=\"background-color: rgba(255, 0, 0, 0.001); white-space: pre-wrap;\" title=\"KL: 0.000\">\n",
       "</span><span style=\"background-color: rgba(255, 0, 0, 0.003); white-space: pre-wrap;\" title=\"KL: 0.000\">&lt;start_of_turn&gt;</span><span style=\"background-color: rgba(255, 0, 0, 0.003); white-space: pre-wrap;\" title=\"KL: 0.000\">model</span><span style=\"background-color: rgba(255, 0, 0, 0.025); white-space: pre-wrap;\" title=\"KL: 0.000\">\n",
       "</span><span style=\"background-color: rgba(255, 0, 0, 0.005); white-space: pre-wrap;\" title=\"KL: 0.000\">Here</span><span style=\"background-color: rgba(255, 0, 0, 0.000); white-space: pre-wrap;\" title=\"KL: 0.000\">'</span><span style=\"background-color: rgba(255, 0, 0, 0.000); white-space: pre-wrap;\" title=\"KL: 0.000\">s</span><span style=\"background-color: rgba(255, 0, 0, 0.001); white-space: pre-wrap;\" title=\"KL: 0.000\"> the</span><span style=\"background-color: rgba(255, 0, 0, 0.002); white-space: pre-wrap;\" title=\"KL: 0.000\"> breakdown</span><span style=\"background-color: rgba(255, 0, 0, 0.000); white-space: pre-wrap;\" title=\"KL: 0.000\"> of</span><span style=\"background-color: rgba(255, 0, 0, 0.002); white-space: pre-wrap;\" title=\"KL: 0.000\"> how</span><span style=\"background-color: rgba(255, 0, 0, 0.061); white-space: pre-wrap;\" title=\"KL: 0.001\"> trees</span><span style=\"background-color: rgba(255, 0, 0, 0.002); white-space: pre-wrap;\" title=\"KL: 0.000\"> are</span><span style=\"background-color: rgba(255, 0, 0, 0.001); white-space: pre-wrap;\" title=\"KL: 0.000\"> turned</span><span style=\"background-color: rgba(255, 0, 0, 0.000); white-space: pre-wrap;\" title=\"KL: -0.000\"> into</span><span style=\"background-color: rgba(255, 0, 0, 0.040); white-space: pre-wrap;\" title=\"KL: 0.001\"> paper</span><span style=\"background-color: rgba(255, 0, 0, 0.001); white-space: pre-wrap;\" title=\"KL: 0.000\">:</span><span style=\"background-color: rgba(255, 0, 0, 0.000); white-space: pre-wrap;\" title=\"KL: 0.000\">\n",
       "\n",
       "</span><span style=\"background-color: rgba(255, 0, 0, 0.001); white-space: pre-wrap;\" title=\"KL: 0.000\">**</span><span style=\"background-color: rgba(255, 0, 0, 0.002); white-space: pre-wrap;\" title=\"KL: 0.000\">1</span><span style=\"background-color: rgba(255, 0, 0, 0.000); white-space: pre-wrap;\" title=\"KL: 0.000\">.</span><span style=\"background-color: rgba(255, 0, 0, 0.003); white-space: pre-wrap;\" title=\"KL: 0.000\"> Harvesting</span><span style=\"background-color: rgba(255, 0, 0, 0.002); white-space: pre-wrap;\" title=\"KL: 0.000\"> and</span><span style=\"background-color: rgba(255, 0, 0, 0.008); white-space: pre-wrap;\" title=\"KL: 0.000\"> Preparation</span><span style=\"background-color: rgba(255, 0, 0, 0.001); white-space: pre-wrap;\" title=\"KL: 0.000\">:**</span><span style=\"background-color: rgba(255, 0, 0, 0.008); white-space: pre-wrap;\" title=\"KL: 0.000\">\n",
       "\n",
       "</span><span style=\"background-color: rgba(255, 0, 0, 0.002); white-space: pre-wrap;\" title=\"KL: 0.000\">*</span><span style=\"background-color: rgba(255, 0, 0, 0.002); white-space: pre-wrap;\" title=\"KL: 0.000\"> **</span><span style=\"background-color: rgba(255, 0, 0, 0.031); white-space: pre-wrap;\" title=\"KL: 0.001\">Harvest</span><span style=\"background-color: rgba(255, 0, 0, 0.001); white-space: pre-wrap;\" title=\"KL: 0.000\">:**</span><span style=\"background-color: rgba(255, 0, 0, 0.005); white-space: pre-wrap;\" title=\"KL: 0.000\"> Trees</span><span style=\"background-color: rgba(255, 0, 0, 0.042); white-space: pre-wrap;\" title=\"KL: 0.001\">,</span><span style=\"background-color: rgba(255, 0, 0, 0.005); white-space: pre-wrap;\" title=\"KL: 0.000\"> primarily</span><span style=\"background-color: rgba(255, 0, 0, 0.003); white-space: pre-wrap;\" title=\"KL: 0.000\"> fast</span><span style=\"background-color: rgba(255, 0, 0, 0.000); white-space: pre-wrap;\" title=\"KL: 0.000\">-</span><span style=\"background-color: rgba(255, 0, 0, 0.000); white-space: pre-wrap;\" title=\"KL: 0.000\">growing</span><span style=\"background-color: rgba(255, 0, 0, 0.021); white-space: pre-wrap;\" title=\"KL: 0.000\"> soft</span><span style=\"background-color: rgba(255, 0, 0, 0.000); white-space: pre-wrap;\" title=\"KL: 0.000\">wood</span><span style=\"background-color: rgba(255, 0, 0, 0.001); white-space: pre-wrap;\" title=\"KL: 0.000\"> species</span><span style=\"background-color: rgba(255, 0, 0, 0.004); white-space: pre-wrap;\" title=\"KL: 0.000\"> like</span><span style=\"background-color: rgba(255, 0, 0, 0.003); white-space: pre-wrap;\" title=\"KL: 0.000\"> pine</span><span style=\"background-color: rgba(255, 0, 0, 0.003); white-space: pre-wrap;\" title=\"KL: 0.000\"> or</span><span style=\"background-color: rgba(255, 0, 0, 0.007); white-space: pre-wrap;\" title=\"KL: 0.000\"> spruce</span><span style=\"background-color: rgba(255, 0, 0, 0.000); white-space: pre-wrap;\" title=\"KL: 0.000\">,</span><span style=\"background-color: rgba(255, 0, 0, 0.000); white-space: pre-wrap;\" title=\"KL: 0.000\"> are</span><span style=\"background-color: rgba(255, 0, 0, 0.009); white-space: pre-wrap;\" title=\"KL: 0.000\"> harvested</span><span style=\"background-color: rgba(255, 0, 0, 0.030); white-space: pre-wrap;\" title=\"KL: 0.001\"> from</span><span style=\"background-color: rgba(255, 0, 0, 0.043); white-space: pre-wrap;\" title=\"KL: 0.001\"> sustainable</span><span style=\"background-color: rgba(255, 0, 0, 0.013); white-space: pre-wrap;\" title=\"KL: 0.000\"> forests</span><span style=\"background-color: rgba(255, 0, 0, 0.001); white-space: pre-wrap;\" title=\"KL: 0.000\">.</span><span style=\"background-color: rgba(255, 0, 0, 0.013); white-space: pre-wrap;\" title=\"KL: 0.000\"> </span><span style=\"background-color: rgba(255, 0, 0, 0.000); white-space: pre-wrap;\" title=\"KL: 0.000\">\n",
       "</span><span style=\"background-color: rgba(255, 0, 0, 0.000); white-space: pre-wrap;\" title=\"KL: 0.000\">*</span><span style=\"background-color: rgba(255, 0, 0, 0.000); white-space: pre-wrap;\" title=\"KL: 0.000\"> **</span><span style=\"background-color: rgba(255, 0, 0, 0.010); white-space: pre-wrap;\" title=\"KL: 0.000\">Processing</span><span style=\"background-color: rgba(255, 0, 0, 0.002); white-space: pre-wrap;\" title=\"KL: 0.000\">:**</span><span style=\"background-color: rgba(255, 0, 0, 0.055); white-space: pre-wrap;\" title=\"KL: 0.001\"> The</span><span style=\"background-color: rgba(255, 0, 0, 0.030); white-space: pre-wrap;\" title=\"KL: 0.001\"> logs</span><span style=\"background-color: rgba(255, 0, 0, 0.008); white-space: pre-wrap;\" title=\"KL: 0.000\"> are</span><span style=\"background-color: rgba(255, 0, 0, 0.095); white-space: pre-wrap;\" title=\"KL: 0.002\"> transported</span><span style=\"background-color: rgba(255, 0, 0, 0.000); white-space: pre-wrap;\" title=\"KL: 0.000\"> to</span><span style=\"background-color: rgba(255, 0, 0, 0.002); white-space: pre-wrap;\" title=\"KL: 0.000\"> a</span><span style=\"background-color: rgba(255, 0, 0, 0.015); white-space: pre-wrap;\" title=\"KL: 0.000\"> pulp</span><span style=\"background-color: rgba(255, 0, 0, 0.000); white-space: pre-wrap;\" title=\"KL: 0.000\"> mill</span><span style=\"background-color: rgba(255, 0, 0, 0.036); white-space: pre-wrap;\" title=\"KL: 0.001\"> where</span><span style=\"background-color: rgba(255, 0, 0, 0.014); white-space: pre-wrap;\" title=\"KL: 0.000\"> they</span><span style=\"background-color: rgba(255, 0, 0, 0.009); white-space: pre-wrap;\" title=\"KL: 0.000\"> undergo</span><span style=\"background-color: rgba(255, 0, 0, 0.037); white-space: pre-wrap;\" title=\"KL: 0.001\"> these</span><span style=\"background-color: rgba(255, 0, 0, 0.012); white-space: pre-wrap;\" title=\"KL: 0.000\"> steps</span><span style=\"background-color: rgba(255, 0, 0, 0.002); white-space: pre-wrap;\" title=\"KL: 0.000\">:</span><span style=\"background-color: rgba(255, 0, 0, 0.004); white-space: pre-wrap;\" title=\"KL: 0.000\">\n",
       "</span><span style=\"background-color: rgba(255, 0, 0, 0.001); white-space: pre-wrap;\" title=\"KL: 0.000\">    </span><span style=\"background-color: rgba(255, 0, 0, 0.000); white-space: pre-wrap;\" title=\"KL: 0.000\">*</span><span style=\"background-color: rgba(255, 0, 0, 0.000); white-space: pre-wrap;\" title=\"KL: 0.000\"> **</span><span style=\"background-color: rgba(255, 0, 0, 0.008); white-space: pre-wrap;\" title=\"KL: 0.000\">Deb</span><span style=\"background-color: rgba(255, 0, 0, 0.000); white-space: pre-wrap;\" title=\"KL: 0.000\">ark</span><span style=\"background-color: rgba(255, 0, 0, 0.000); white-space: pre-wrap;\" title=\"KL: 0.000\">ing</span><span style=\"background-color: rgba(255, 0, 0, 0.002); white-space: pre-wrap;\" title=\"KL: 0.000\">:**</span><span style=\"background-color: rgba(255, 0, 0, 0.014); white-space: pre-wrap;\" title=\"KL: 0.000\"> The</span><span style=\"background-color: rgba(255, 0, 0, 0.005); white-space: pre-wrap;\" title=\"KL: 0.000\"> bark</span><span style=\"background-color: rgba(255, 0, 0, 0.001); white-space: pre-wrap;\" title=\"KL: 0.000\"> is</span><span style=\"background-color: rgba(255, 0, 0, 0.002); white-space: pre-wrap;\" title=\"KL: 0.000\"> removed</span><span style=\"background-color: rgba(255, 0, 0, 0.025); white-space: pre-wrap;\" title=\"KL: 0.001\"> to</span><span style=\"background-color: rgba(255, 0, 0, 0.027); white-space: pre-wrap;\" title=\"KL: 0.001\"> prevent</span><span style=\"background-color: rgba(255, 0, 0, 0.034); white-space: pre-wrap;\" title=\"KL: 0.001\"> contamination</span><span style=\"background-color: rgba(255, 0, 0, 0.007); white-space: pre-wrap;\" title=\"KL: 0.000\">.</span><span style=\"background-color: rgba(255, 0, 0, 0.001); white-space: pre-wrap;\" title=\"KL: 0.000\">\n",
       "</span><span style=\"background-color: rgba(255, 0, 0, 0.000); white-space: pre-wrap;\" title=\"KL: 0.000\">    </span><span style=\"background-color: rgba(255, 0, 0, 0.000); white-space: pre-wrap;\" title=\"KL: -0.000\">*</span><span style=\"background-color: rgba(255, 0, 0, 0.000); white-space: pre-wrap;\" title=\"KL: -0.000\"> **</span><span style=\"background-color: rgba(255, 0, 0, 0.007); white-space: pre-wrap;\" title=\"KL: 0.000\">Cutting</span><span style=\"background-color: rgba(255, 0, 0, 0.011); white-space: pre-wrap;\" title=\"KL: 0.000\">:**</span><span style=\"background-color: rgba(255, 0, 0, 0.003); white-space: pre-wrap;\" title=\"KL: 0.000\"> The</span><span style=\"background-color: rgba(255, 0, 0, 0.001); white-space: pre-wrap;\" title=\"KL: 0.000\"> log</span><span style=\"background-color: rgba(255, 0, 0, 0.000); white-space: pre-wrap;\" title=\"KL: 0.000\"> is</span><span style=\"background-color: rgba(255, 0, 0, 0.006); white-space: pre-wrap;\" title=\"KL: 0.000\"> further</span><span style=\"background-color: rgba(255, 0, 0, 0.003); white-space: pre-wrap;\" title=\"KL: 0.000\"> cut</span><span style=\"background-color: rgba(255, 0, 0, 0.001); white-space: pre-wrap;\" title=\"KL: 0.000\"> into</span><span style=\"background-color: rgba(255, 0, 0, 0.007); white-space: pre-wrap;\" title=\"KL: 0.000\"> smaller</span><span style=\"background-color: rgba(255, 0, 0, 0.001); white-space: pre-wrap;\" title=\"KL: 0.000\"> pieces</span><span style=\"background-color: rgba(255, 0, 0, 0.010); white-space: pre-wrap;\" title=\"KL: 0.000\"> for</span><span style=\"background-color: rgba(255, 0, 0, 0.022); white-space: pre-wrap;\" title=\"KL: 0.000\"> easier</span><span style=\"background-color: rgba(255, 0, 0, 0.004); white-space: pre-wrap;\" title=\"KL: 0.000\"> processing</span><span style=\"background-color: rgba(255, 0, 0, 0.000); white-space: pre-wrap;\" title=\"KL: 0.000\">.</span><span style=\"background-color: rgba(255, 0, 0, 0.001); white-space: pre-wrap;\" title=\"KL: 0.000\"> </span><span style=\"background-color: rgba(255, 0, 0, 0.001); white-space: pre-wrap;\" title=\"KL: 0.000\">\n",
       "</span><span style=\"background-color: rgba(255, 0, 0, 0.000); white-space: pre-wrap;\" title=\"KL: 0.000\">    </span><span style=\"background-color: rgba(255, 0, 0, 0.000); white-space: pre-wrap;\" title=\"KL: 0.000\">*</span><span style=\"background-color: rgba(255, 0, 0, 0.000); white-space: pre-wrap;\" title=\"KL: 0.000\"> **</span><span style=\"background-color: rgba(255, 0, 0, 0.017); white-space: pre-wrap;\" title=\"KL: 0.000\">Chi</span><span style=\"background-color: rgba(255, 0, 0, 0.000); white-space: pre-wrap;\" title=\"KL: 0.000\">pping</span><span style=\"background-color: rgba(255, 0, 0, 0.002); white-space: pre-wrap;\" title=\"KL: 0.000\">:**</span><span style=\"background-color: rgba(255, 0, 0, 0.003); white-space: pre-wrap;\" title=\"KL: 0.000\"> These</span><span style=\"background-color: rgba(255, 0, 0, 0.009); white-space: pre-wrap;\" title=\"KL: 0.000\"> pieces</span><span style=\"background-color: rgba(255, 0, 0, 0.001); white-space: pre-wrap;\" title=\"KL: 0.000\"> are</span><span style=\"background-color: rgba(255, 0, 0, 0.042); white-space: pre-wrap;\" title=\"KL: 0.001\"> chipped</span><span style=\"background-color: rgba(255, 0, 0, 0.012); white-space: pre-wrap;\" title=\"KL: 0.000\"> into</span><span style=\"background-color: rgba(255, 0, 0, 0.014); white-space: pre-wrap;\" title=\"KL: 0.000\"> smaller</span><span style=\"background-color: rgba(255, 0, 0, 0.007); white-space: pre-wrap;\" title=\"KL: 0.000\"> particles</span><span style=\"background-color: rgba(255, 0, 0, 0.020); white-space: pre-wrap;\" title=\"KL: 0.000\">.</span><span style=\"background-color: rgba(255, 0, 0, 0.002); white-space: pre-wrap;\" title=\"KL: 0.000\">\n",
       "\n",
       "</span><span style=\"background-color: rgba(255, 0, 0, 0.000); white-space: pre-wrap;\" title=\"KL: 0.000\">**</span><span style=\"background-color: rgba(255, 0, 0, 0.000); white-space: pre-wrap;\" title=\"KL: 0.000\">2</span><span style=\"background-color: rgba(255, 0, 0, 0.000); white-space: pre-wrap;\" title=\"KL: 0.000\">.</span><span style=\"background-color: rgba(255, 0, 0, 0.007); white-space: pre-wrap;\" title=\"KL: 0.000\"> Pulp</span><span style=\"background-color: rgba(255, 0, 0, 0.019); white-space: pre-wrap;\" title=\"KL: 0.000\"> Formation</span><span style=\"background-color: rgba(255, 0, 0, 0.019); white-space: pre-wrap;\" title=\"KL: 0.000\">:**</span><span style=\"background-color: rgba(255, 0, 0, 0.001); white-space: pre-wrap;\" title=\"KL: 0.000\">\n",
       "\n",
       "</span><span style=\"background-color: rgba(255, 0, 0, 0.000); white-space: pre-wrap;\" title=\"KL: 0.000\">*</span><span style=\"background-color: rgba(255, 0, 0, 0.000); white-space: pre-wrap;\" title=\"KL: 0.000\"> **</span><span style=\"background-color: rgba(255, 0, 0, 0.008); white-space: pre-wrap;\" title=\"KL: 0.000\">Pul</span><span style=\"background-color: rgba(255, 0, 0, 0.000); white-space: pre-wrap;\" title=\"KL: 0.000\">ping</span><span style=\"background-color: rgba(255, 0, 0, 0.016); white-space: pre-wrap;\" title=\"KL: 0.000\">:**</span><span style=\"background-color: rgba(255, 0, 0, 0.011); white-space: pre-wrap;\" title=\"KL: 0.000\"> The</span><span style=\"background-color: rgba(255, 0, 0, 0.012); white-space: pre-wrap;\" title=\"KL: 0.000\"> wood</span><span style=\"background-color: rgba(255, 0, 0, 0.002); white-space: pre-wrap;\" title=\"KL: 0.000\"> chips</span><span style=\"background-color: rgba(255, 0, 0, 0.003); white-space: pre-wrap;\" title=\"KL: 0.000\"> are</span><span style=\"background-color: rgba(255, 0, 0, 0.033); white-space: pre-wrap;\" title=\"KL: 0.001\"> mixed</span><span style=\"background-color: rgba(255, 0, 0, 0.000); white-space: pre-wrap;\" title=\"KL: 0.000\"> with</span><span style=\"background-color: rgba(255, 0, 0, 0.033); white-space: pre-wrap;\" title=\"KL: 0.001\"> water</span><span style=\"background-color: rgba(255, 0, 0, 0.004); white-space: pre-wrap;\" title=\"KL: 0.000\"> and</span><span style=\"background-color: rgba(255, 0, 0, 0.007); white-space: pre-wrap;\" title=\"KL: 0.000\"> mixed</span><span style=\"background-color: rgba(255, 0, 0, 0.014); white-space: pre-wrap;\" title=\"KL: 0.000\"> with</span><span style=\"background-color: rgba(255, 0, 0, 0.003); white-space: pre-wrap;\" title=\"KL: 0.000\"> chemicals</span><span style=\"background-color: rgba(255, 0, 0, 0.020); white-space: pre-wrap;\" title=\"KL: 0.000\"> (</span><span style=\"background-color: rgba(255, 0, 0, 0.016); white-space: pre-wrap;\" title=\"KL: 0.000\">like</span><span style=\"background-color: rgba(255, 0, 0, 0.019); white-space: pre-wrap;\" title=\"KL: 0.000\"> chlorine</span><span style=\"background-color: rgba(255, 0, 0, 0.009); white-space: pre-wrap;\" title=\"KL: 0.000\"> bleach</span><span style=\"background-color: rgba(255, 0, 0, 0.003); white-space: pre-wrap;\" title=\"KL: 0.000\">)</span><span style=\"background-color: rgba(255, 0, 0, 0.006); white-space: pre-wrap;\" title=\"KL: 0.000\"> to</span><span style=\"background-color: rgba(255, 0, 0, 0.010); white-space: pre-wrap;\" title=\"KL: 0.000\"> remove</span><span style=\"background-color: rgba(255, 0, 0, 0.000); white-space: pre-wrap;\" title=\"KL: 0.000\"> lignin</span><span style=\"background-color: rgba(255, 0, 0, 0.047); white-space: pre-wrap;\" title=\"KL: 0.001\"> and</span><span style=\"background-color: rgba(255, 0, 0, 0.013); white-space: pre-wrap;\" title=\"KL: 0.000\"> other</span><span style=\"background-color: rgba(255, 0, 0, 0.012); white-space: pre-wrap;\" title=\"KL: 0.000\"> substances</span><span style=\"background-color: rgba(255, 0, 0, 0.010); white-space: pre-wrap;\" title=\"KL: 0.000\"> that</span><span style=\"background-color: rgba(255, 0, 0, 0.027); white-space: pre-wrap;\" title=\"KL: 0.001\"> bind</span><span style=\"background-color: rgba(255, 0, 0, 0.002); white-space: pre-wrap;\" title=\"KL: 0.000\"> the</span><span style=\"background-color: rgba(255, 0, 0, 0.007); white-space: pre-wrap;\" title=\"KL: 0.000\"> wood</span><span style=\"background-color: rgba(255, 0, 0, 0.001); white-space: pre-wrap;\" title=\"KL: 0.000\"> fibers</span><span style=\"background-color: rgba(255, 0, 0, 0.001); white-space: pre-wrap;\" title=\"KL: 0.000\"> together</span><span style=\"background-color: rgba(255, 0, 0, 0.004); white-space: pre-wrap;\" title=\"KL: 0.000\">.</span><span style=\"background-color: rgba(255, 0, 0, 0.006); white-space: pre-wrap;\" title=\"KL: 0.000\"> This</span><span style=\"background-color: rgba(255, 0, 0, 0.021); white-space: pre-wrap;\" title=\"KL: 0.000\"> creates</span><span style=\"background-color: rgba(255, 0, 0, 0.008); white-space: pre-wrap;\" title=\"KL: 0.000\"> a</span><span style=\"background-color: rgba(255, 0, 0, 0.024); white-space: pre-wrap;\" title=\"KL: 0.000\"> \"</span><span style=\"background-color: rgba(255, 0, 0, 0.010); white-space: pre-wrap;\" title=\"KL: 0.000\">p</span><span style=\"background-color: rgba(255, 0, 0, 0.000); white-space: pre-wrap;\" title=\"KL: 0.000\">ulp</span><span style=\"background-color: rgba(255, 0, 0, 0.021); white-space: pre-wrap;\" title=\"KL: 0.000\">\"</span><span style=\"background-color: rgba(255, 0, 0, 0.046); white-space: pre-wrap;\" title=\"KL: 0.001\"> that</span><span style=\"background-color: rgba(255, 0, 0, 0.015); white-space: pre-wrap;\" title=\"KL: 0.000\"> is</span><span style=\"background-color: rgba(255, 0, 0, 0.018); white-space: pre-wrap;\" title=\"KL: 0.000\"> a</span><span style=\"background-color: rgba(255, 0, 0, 0.005); white-space: pre-wrap;\" title=\"KL: 0.000\"> slurry</span><span style=\"background-color: rgba(255, 0, 0, 0.002); white-space: pre-wrap;\" title=\"KL: 0.000\"> of</span><span style=\"background-color: rgba(255, 0, 0, 0.002); white-space: pre-wrap;\" title=\"KL: 0.000\"> cellulose</span><span style=\"background-color: rgba(255, 0, 0, 0.002); white-space: pre-wrap;\" title=\"KL: 0.000\"> fibers</span><span style=\"background-color: rgba(255, 0, 0, 0.007); white-space: pre-wrap;\" title=\"KL: 0.000\">.</span><span style=\"background-color: rgba(255, 0, 0, 0.031); white-space: pre-wrap;\" title=\"KL: 0.001\">\n",
       "</span><span style=\"background-color: rgba(255, 0, 0, 0.112); white-space: pre-wrap;\" title=\"KL: 0.002\">*</span><span style=\"background-color: rgba(255, 0, 0, 0.000); white-space: pre-wrap;\" title=\"KL: 0.000\"> **</span><span style=\"background-color: rgba(255, 0, 0, 0.027); white-space: pre-wrap;\" title=\"KL: 0.001\">Washing</span><span style=\"background-color: rgba(255, 0, 0, 0.003); white-space: pre-wrap;\" title=\"KL: 0.000\">:**</span><span style=\"background-color: rgba(255, 0, 0, 0.002); white-space: pre-wrap;\" title=\"KL: 0.000\"> The</span><span style=\"background-color: rgba(255, 0, 0, 0.000); white-space: pre-wrap;\" title=\"KL: 0.000\"> pulp</span><span style=\"background-color: rgba(255, 0, 0, 0.001); white-space: pre-wrap;\" title=\"KL: 0.000\"> is</span><span style=\"background-color: rgba(255, 0, 0, 0.009); white-space: pre-wrap;\" title=\"KL: 0.000\"> washed</span><span style=\"background-color: rgba(255, 0, 0, 0.005); white-space: pre-wrap;\" title=\"KL: 0.000\"> to</span><span style=\"background-color: rgba(255, 0, 0, 0.000); white-space: pre-wrap;\" title=\"KL: 0.000\"> remove</span><span style=\"background-color: rgba(255, 0, 0, 0.008); white-space: pre-wrap;\" title=\"KL: 0.000\"> impurities</span><span style=\"background-color: rgba(255, 0, 0, 0.018); white-space: pre-wrap;\" title=\"KL: 0.000\"> and</span><span style=\"background-color: rgba(255, 0, 0, 0.011); white-space: pre-wrap;\" title=\"KL: 0.000\"> dissolved</span><span style=\"background-color: rgba(255, 0, 0, 0.001); white-space: pre-wrap;\" title=\"KL: 0.000\"> chemicals</span><span style=\"background-color: rgba(255, 0, 0, 0.002); white-space: pre-wrap;\" title=\"KL: 0.000\">.</span><span style=\"background-color: rgba(255, 0, 0, 0.019); white-space: pre-wrap;\" title=\"KL: 0.000\"> </span><span style=\"background-color: rgba(255, 0, 0, 0.018); white-space: pre-wrap;\" title=\"KL: 0.000\">\n",
       "</span><span style=\"background-color: rgba(255, 0, 0, 0.000); white-space: pre-wrap;\" title=\"KL: 0.000\">*</span><span style=\"background-color: rgba(255, 0, 0, 0.000); white-space: pre-wrap;\" title=\"KL: 0.000\"> **</span><span style=\"background-color: rgba(255, 0, 0, 0.016); white-space: pre-wrap;\" title=\"KL: 0.000\">Ble</span><span style=\"background-color: rgba(255, 0, 0, 0.000); white-space: pre-wrap;\" title=\"KL: 0.000\">aching</span><span style=\"background-color: rgba(255, 0, 0, 0.006); white-space: pre-wrap;\" title=\"KL: 0.000\">:**</span><span style=\"background-color: rgba(255, 0, 0, 0.008); white-space: pre-wrap;\" title=\"KL: 0.000\">  </span><span style=\"background-color: rgba(255, 0, 0, 0.012); white-space: pre-wrap;\" title=\"KL: 0.000\">Ble</span><span style=\"background-color: rgba(255, 0, 0, 0.000); white-space: pre-wrap;\" title=\"KL: 0.000\">aching</span><span style=\"background-color: rgba(255, 0, 0, 0.005); white-space: pre-wrap;\" title=\"KL: 0.000\"> agents</span><span style=\"background-color: rgba(255, 0, 0, 0.020); white-space: pre-wrap;\" title=\"KL: 0.000\"> like</span><span style=\"background-color: rgba(255, 0, 0, 0.007); white-space: pre-wrap;\" title=\"KL: 0.000\"> chlorine</span><span style=\"background-color: rgba(255, 0, 0, 0.008); white-space: pre-wrap;\" title=\"KL: 0.000\"> dioxide</span>"
      ],
      "text/plain": [
       "<IPython.core.display.HTML object>"
      ]
     },
     "metadata": {},
     "output_type": "display_data"
    },
    {
     "name": "stdout",
     "output_type": "stream",
     "text": [
      "High KL: 0.0022 at token '*'\\n\n"
     ]
    },
    {
     "data": {
      "text/html": [
       "<style type=\"text/css\">\n",
       "#T_a9f34 th {\n",
       "  text-align: left;\n",
       "}\n",
       "#T_a9f34_row0_col0, #T_a9f34_row1_col0 {\n",
       "  background-color: lightgreen;\n",
       "  text-align: left;\n",
       "}\n",
       "#T_a9f34_row0_col1, #T_a9f34_row0_col2, #T_a9f34_row1_col1, #T_a9f34_row1_col2, #T_a9f34_row2_col1, #T_a9f34_row2_col2 {\n",
       "  text-align: left;\n",
       "}\n",
       "#T_a9f34_row2_col0 {\n",
       "  background-color: lightcoral;\n",
       "  text-align: left;\n",
       "}\n",
       "</style>\n",
       "<table id=\"T_a9f34\">\n",
       "  <thead>\n",
       "    <tr>\n",
       "      <th class=\"blank level0\" >&nbsp;</th>\n",
       "      <th id=\"T_a9f34_level0_col0\" class=\"col_heading level0 col0\" >Token</th>\n",
       "      <th id=\"T_a9f34_level0_col1\" class=\"col_heading level0 col1\" >p_HS</th>\n",
       "      <th id=\"T_a9f34_level0_col2\" class=\"col_heading level0 col2\" >p_B</th>\n",
       "    </tr>\n",
       "  </thead>\n",
       "  <tbody>\n",
       "    <tr>\n",
       "      <th id=\"T_a9f34_level0_row0\" class=\"row_heading level0 row0\" >0</th>\n",
       "      <td id=\"T_a9f34_row0_col0\" class=\"data row0 col0\" >    </td>\n",
       "      <td id=\"T_a9f34_row0_col1\" class=\"data row0 col1\" >0.226</td>\n",
       "      <td id=\"T_a9f34_row0_col2\" class=\"data row0 col2\" >0.250</td>\n",
       "    </tr>\n",
       "    <tr>\n",
       "      <th id=\"T_a9f34_level0_row1\" class=\"row_heading level0 row1\" >1</th>\n",
       "      <td id=\"T_a9f34_row1_col0\" class=\"data row1 col0\" >   </td>\n",
       "      <td id=\"T_a9f34_row1_col1\" class=\"data row1 col1\" >0.050</td>\n",
       "      <td id=\"T_a9f34_row1_col2\" class=\"data row1 col2\" >0.054</td>\n",
       "    </tr>\n",
       "    <tr>\n",
       "      <th id=\"T_a9f34_level0_row2\" class=\"row_heading level0 row2\" >2</th>\n",
       "      <td id=\"T_a9f34_row2_col0\" class=\"data row2 col0\" >*</td>\n",
       "      <td id=\"T_a9f34_row2_col1\" class=\"data row2 col1\" >0.684</td>\n",
       "      <td id=\"T_a9f34_row2_col2\" class=\"data row2 col2\" >0.652</td>\n",
       "    </tr>\n",
       "  </tbody>\n",
       "</table>\n"
      ],
      "text/plain": [
       "<IPython.core.display.HTML object>"
      ]
     },
     "metadata": {},
     "output_type": "display_data"
    },
    {
     "name": "stdout",
     "output_type": "stream",
     "text": [
      "--------------------------------------------------------------------------------------------------------------------------------------------------------------------------------------------------------\n"
     ]
    },
    {
     "data": {
      "text/html": [
       "&lt;bos&gt;<span style=\"background-color: rgba(255, 0, 0, 0.000); white-space: pre-wrap;\" title=\"KL: 0.000\">&lt;start_of_turn&gt;</span><span style=\"background-color: rgba(255, 0, 0, 0.003); white-space: pre-wrap;\" title=\"KL: 0.000\">user</span><span style=\"background-color: rgba(255, 0, 0, 0.002); white-space: pre-wrap;\" title=\"KL: 0.000\">\n",
       "</span><span style=\"background-color: rgba(255, 0, 0, 0.002); white-space: pre-wrap;\" title=\"KL: 0.000\">You</span><span style=\"background-color: rgba(255, 0, 0, 0.000); white-space: pre-wrap;\" title=\"KL: 0.000\"> is</span><span style=\"background-color: rgba(255, 0, 0, 0.001); white-space: pre-wrap;\" title=\"KL: 0.000\"> a</span><span style=\"background-color: rgba(255, 0, 0, 0.003); white-space: pre-wrap;\" title=\"KL: 0.000\"> C</span><span style=\"background-color: rgba(255, 0, 0, 0.004); white-space: pre-wrap;\" title=\"KL: 0.000\"> compiler</span><span style=\"background-color: rgba(255, 0, 0, 0.004); white-space: pre-wrap;\" title=\"KL: 0.000\">,</span><span style=\"background-color: rgba(255, 0, 0, 0.015); white-space: pre-wrap;\" title=\"KL: 0.000\"> you</span><span style=\"background-color: rgba(255, 0, 0, 0.003); white-space: pre-wrap;\" title=\"KL: 0.000\"> will</span><span style=\"background-color: rgba(255, 0, 0, 0.004); white-space: pre-wrap;\" title=\"KL: 0.000\"> compile</span><span style=\"background-color: rgba(255, 0, 0, 0.003); white-space: pre-wrap;\" title=\"KL: 0.000\"> the</span><span style=\"background-color: rgba(255, 0, 0, 0.007); white-space: pre-wrap;\" title=\"KL: 0.000\"> following</span><span style=\"background-color: rgba(255, 0, 0, 0.020); white-space: pre-wrap;\" title=\"KL: 0.000\"> code</span><span style=\"background-color: rgba(255, 0, 0, 0.006); white-space: pre-wrap;\" title=\"KL: 0.000\"> and</span><span style=\"background-color: rgba(255, 0, 0, 0.016); white-space: pre-wrap;\" title=\"KL: 0.000\"> print</span><span style=\"background-color: rgba(255, 0, 0, 0.001); white-space: pre-wrap;\" title=\"KL: 0.000\"> only</span><span style=\"background-color: rgba(255, 0, 0, 0.000); white-space: pre-wrap;\" title=\"KL: 0.000\"> the</span><span style=\"background-color: rgba(255, 0, 0, 0.008); white-space: pre-wrap;\" title=\"KL: 0.000\"> result</span><span style=\"background-color: rgba(255, 0, 0, 0.006); white-space: pre-wrap;\" title=\"KL: 0.000\"> as</span><span style=\"background-color: rgba(255, 0, 0, 0.007); white-space: pre-wrap;\" title=\"KL: 0.000\"> if</span><span style=\"background-color: rgba(255, 0, 0, 0.001); white-space: pre-wrap;\" title=\"KL: 0.000\"> you</span><span style=\"background-color: rgba(255, 0, 0, 0.002); white-space: pre-wrap;\" title=\"KL: 0.000\"> are</span><span style=\"background-color: rgba(255, 0, 0, 0.002); white-space: pre-wrap;\" title=\"KL: 0.000\"> a</span><span style=\"background-color: rgba(255, 0, 0, 0.001); white-space: pre-wrap;\" title=\"KL: 0.000\"> program</span><span style=\"background-color: rgba(255, 0, 0, 0.011); white-space: pre-wrap;\" title=\"KL: 0.000\"> dedicated</span><span style=\"background-color: rgba(255, 0, 0, 0.001); white-space: pre-wrap;\" title=\"KL: 0.000\"> to</span><span style=\"background-color: rgba(255, 0, 0, 0.009); white-space: pre-wrap;\" title=\"KL: 0.000\"> compile</span><span style=\"background-color: rgba(255, 0, 0, 0.005); white-space: pre-wrap;\" title=\"KL: 0.000\"> C</span><span style=\"background-color: rgba(255, 0, 0, 0.002); white-space: pre-wrap;\" title=\"KL: 0.000\"> codes</span><span style=\"background-color: rgba(255, 0, 0, 0.002); white-space: pre-wrap;\" title=\"KL: 0.000\">:</span><span style=\"background-color: rgba(255, 0, 0, 0.001); white-space: pre-wrap;\" title=\"KL: 0.000\"> </span><span style=\"background-color: rgba(255, 0, 0, 0.003); white-space: pre-wrap;\" title=\"KL: 0.000\">\n",
       "</span><span style=\"background-color: rgba(255, 0, 0, 0.002); white-space: pre-wrap;\" title=\"KL: 0.000\">#</span><span style=\"background-color: rgba(255, 0, 0, 0.000); white-space: pre-wrap;\" title=\"KL: 0.000\">include</span><span style=\"background-color: rgba(255, 0, 0, 0.002); white-space: pre-wrap;\" title=\"KL: 0.000\">  </span><span style=\"background-color: rgba(255, 0, 0, 0.000); white-space: pre-wrap;\" title=\"KL: 0.000\">&lt;</span><span style=\"background-color: rgba(255, 0, 0, 0.001); white-space: pre-wrap;\" title=\"KL: 0.000\">stdio</span><span style=\"background-color: rgba(255, 0, 0, 0.000); white-space: pre-wrap;\" title=\"KL: 0.000\">.</span><span style=\"background-color: rgba(255, 0, 0, 0.000); white-space: pre-wrap;\" title=\"KL: 0.000\">h</span><span style=\"background-color: rgba(255, 0, 0, 0.000); white-space: pre-wrap;\" title=\"KL: 0.000\">&gt;</span><span style=\"background-color: rgba(255, 0, 0, 0.000); white-space: pre-wrap;\" title=\"KL: 0.000\">\n",
       "\n",
       "</span><span style=\"background-color: rgba(255, 0, 0, 0.000); white-space: pre-wrap;\" title=\"KL: 0.000\">int</span><span style=\"background-color: rgba(255, 0, 0, 0.000); white-space: pre-wrap;\" title=\"KL: 0.000\"> main</span><span style=\"background-color: rgba(255, 0, 0, 0.003); white-space: pre-wrap;\" title=\"KL: 0.000\">(</span><span style=\"background-color: rgba(255, 0, 0, 0.006); white-space: pre-wrap;\" title=\"KL: 0.000\">void</span><span style=\"background-color: rgba(255, 0, 0, 0.000); white-space: pre-wrap;\" title=\"KL: 0.000\">)</span><span style=\"background-color: rgba(255, 0, 0, 0.003); white-space: pre-wrap;\" title=\"KL: 0.000\">\n",
       "</span><span style=\"background-color: rgba(255, 0, 0, 0.000); white-space: pre-wrap;\" title=\"KL: 0.000\">{</span><span style=\"background-color: rgba(255, 0, 0, 0.000); white-space: pre-wrap;\" title=\"KL: 0.000\">\n",
       "</span><span style=\"background-color: rgba(255, 0, 0, 0.001); white-space: pre-wrap;\" title=\"KL: 0.000\">    </span><span style=\"background-color: rgba(255, 0, 0, 0.017); white-space: pre-wrap;\" title=\"KL: 0.000\">puts</span><span style=\"background-color: rgba(255, 0, 0, 0.000); white-space: pre-wrap;\" title=\"KL: 0.000\">(\"</span><span style=\"background-color: rgba(255, 0, 0, 0.000); white-space: pre-wrap;\" title=\"KL: 0.000\">Olá</span><span style=\"background-color: rgba(255, 0, 0, 0.002); white-space: pre-wrap;\" title=\"KL: 0.000\">,</span><span style=\"background-color: rgba(255, 0, 0, 0.002); white-space: pre-wrap;\" title=\"KL: 0.000\"> Mundo</span><span style=\"background-color: rgba(255, 0, 0, 0.003); white-space: pre-wrap;\" title=\"KL: 0.000\">!\");</span><span style=\"background-color: rgba(255, 0, 0, 0.001); white-space: pre-wrap;\" title=\"KL: 0.000\">\n",
       "</span><span style=\"background-color: rgba(255, 0, 0, 0.000); white-space: pre-wrap;\" title=\"KL: 0.000\">    </span><span style=\"background-color: rgba(255, 0, 0, 0.002); white-space: pre-wrap;\" title=\"KL: 0.000\">return</span><span style=\"background-color: rgba(255, 0, 0, 0.000); white-space: pre-wrap;\" title=\"KL: 0.000\"> </span><span style=\"background-color: rgba(255, 0, 0, 0.000); white-space: pre-wrap;\" title=\"KL: -0.000\">0</span><span style=\"background-color: rgba(255, 0, 0, 0.000); white-space: pre-wrap;\" title=\"KL: 0.000\">;</span><span style=\"background-color: rgba(255, 0, 0, 0.001); white-space: pre-wrap;\" title=\"KL: 0.000\"> </span><span style=\"background-color: rgba(255, 0, 0, 0.000); white-space: pre-wrap;\" title=\"KL: 0.000\">\n",
       "</span><span style=\"background-color: rgba(255, 0, 0, 0.001); white-space: pre-wrap;\" title=\"KL: 0.000\">}</span><span style=\"background-color: rgba(255, 0, 0, 0.006); white-space: pre-wrap;\" title=\"KL: 0.000\">&lt;end_of_turn&gt;</span><span style=\"background-color: rgba(255, 0, 0, 0.002); white-space: pre-wrap;\" title=\"KL: 0.000\">\n",
       "</span><span style=\"background-color: rgba(255, 0, 0, 0.018); white-space: pre-wrap;\" title=\"KL: 0.000\">&lt;start_of_turn&gt;</span><span style=\"background-color: rgba(255, 0, 0, 0.002); white-space: pre-wrap;\" title=\"KL: 0.000\">model</span><span style=\"background-color: rgba(255, 0, 0, 0.000); white-space: pre-wrap;\" title=\"KL: 0.000\">\n",
       "</span><span style=\"background-color: rgba(255, 0, 0, 0.011); white-space: pre-wrap;\" title=\"KL: 0.000\">```</span><span style=\"background-color: rgba(255, 0, 0, 0.042); white-space: pre-wrap;\" title=\"KL: 0.001\">assembly</span><span style=\"background-color: rgba(255, 0, 0, 0.000); white-space: pre-wrap;\" title=\"KL: 0.000\">\n",
       "</span><span style=\"background-color: rgba(255, 0, 0, 0.048); white-space: pre-wrap;\" title=\"KL: 0.001\">.</span><span style=\"background-color: rgba(255, 0, 0, 0.014); white-space: pre-wrap;\" title=\"KL: 0.000\">data</span><span style=\"background-color: rgba(255, 0, 0, 0.000); white-space: pre-wrap;\" title=\"KL: 0.000\">\n",
       "</span><span style=\"background-color: rgba(255, 0, 0, 0.021); white-space: pre-wrap;\" title=\"KL: 0.000\">    </span><span style=\"background-color: rgba(255, 0, 0, 0.016); white-space: pre-wrap;\" title=\"KL: 0.000\">str</span><span style=\"background-color: rgba(255, 0, 0, 0.009); white-space: pre-wrap;\" title=\"KL: 0.000\">_</span><span style=\"background-color: rgba(255, 0, 0, 0.019); white-space: pre-wrap;\" title=\"KL: 0.000\">buffer</span><span style=\"background-color: rgba(255, 0, 0, 0.042); white-space: pre-wrap;\" title=\"KL: 0.001\">:</span><span style=\"background-color: rgba(255, 0, 0, 0.082); white-space: pre-wrap;\" title=\"KL: 0.002\"> .</span><span style=\"background-color: rgba(255, 0, 0, 0.006); white-space: pre-wrap;\" title=\"KL: 0.000\">asci</span><span style=\"background-color: rgba(255, 0, 0, 0.001); white-space: pre-wrap;\" title=\"KL: 0.000\">iz</span><span style=\"background-color: rgba(255, 0, 0, 0.000); white-space: pre-wrap;\" title=\"KL: 0.000\"> \"</span><span style=\"background-color: rgba(255, 0, 0, 0.000); white-space: pre-wrap;\" title=\"KL: 0.000\">Olá</span><span style=\"background-color: rgba(255, 0, 0, 0.000); white-space: pre-wrap;\" title=\"KL: 0.000\">,</span><span style=\"background-color: rgba(255, 0, 0, 0.000); white-space: pre-wrap;\" title=\"KL: 0.000\"> Mundo</span><span style=\"background-color: rgba(255, 0, 0, 0.021); white-space: pre-wrap;\" title=\"KL: 0.000\">!\"</span><span style=\"background-color: rgba(255, 0, 0, 0.000); white-space: pre-wrap;\" title=\"KL: 0.000\">\n",
       "\n",
       "</span><span style=\"background-color: rgba(255, 0, 0, 0.000); white-space: pre-wrap;\" title=\"KL: 0.000\">.</span><span style=\"background-color: rgba(255, 0, 0, 0.002); white-space: pre-wrap;\" title=\"KL: 0.000\">text</span><span style=\"background-color: rgba(255, 0, 0, 0.000); white-space: pre-wrap;\" title=\"KL: 0.000\">\n",
       "</span><span style=\"background-color: rgba(255, 0, 0, 0.008); white-space: pre-wrap;\" title=\"KL: 0.000\">main</span><span style=\"background-color: rgba(255, 0, 0, 0.003); white-space: pre-wrap;\" title=\"KL: 0.000\">:</span><span style=\"background-color: rgba(255, 0, 0, 0.001); white-space: pre-wrap;\" title=\"KL: 0.000\">\n",
       "</span><span style=\"background-color: rgba(255, 0, 0, 0.002); white-space: pre-wrap;\" title=\"KL: 0.000\">    </span><span style=\"background-color: rgba(255, 0, 0, 0.017); white-space: pre-wrap;\" title=\"KL: 0.000\">;</span><span style=\"background-color: rgba(255, 0, 0, 0.082); white-space: pre-wrap;\" title=\"KL: 0.002\"> Call</span><span style=\"background-color: rgba(255, 0, 0, 0.016); white-space: pre-wrap;\" title=\"KL: 0.000\"> the</span><span style=\"background-color: rgba(255, 0, 0, 0.019); white-space: pre-wrap;\" title=\"KL: 0.000\"> puts</span><span style=\"background-color: rgba(255, 0, 0, 0.012); white-space: pre-wrap;\" title=\"KL: 0.000\"> function</span><span style=\"background-color: rgba(255, 0, 0, 0.029); white-space: pre-wrap;\" title=\"KL: 0.001\"> to</span><span style=\"background-color: rgba(255, 0, 0, 0.003); white-space: pre-wrap;\" title=\"KL: 0.000\"> print</span><span style=\"background-color: rgba(255, 0, 0, 0.007); white-space: pre-wrap;\" title=\"KL: 0.000\"> the</span><span style=\"background-color: rgba(255, 0, 0, 0.002); white-space: pre-wrap;\" title=\"KL: 0.000\"> string</span><span style=\"background-color: rgba(255, 0, 0, 0.004); white-space: pre-wrap;\" title=\"KL: 0.000\">\n",
       "</span><span style=\"background-color: rgba(255, 0, 0, 0.000); white-space: pre-wrap;\" title=\"KL: 0.000\">    </span><span style=\"background-color: rgba(255, 0, 0, 0.065); white-space: pre-wrap;\" title=\"KL: 0.001\">mov</span><span style=\"background-color: rgba(255, 0, 0, 0.446); white-space: pre-wrap;\" title=\"KL: 0.009\">rax</span><span style=\"background-color: rgba(255, 0, 0, 0.000); white-space: pre-wrap;\" title=\"KL: 0.000\">,</span><span style=\"background-color: rgba(255, 0, 0, 0.230); white-space: pre-wrap;\" title=\"KL: 0.005\"> str</span><span style=\"background-color: rgba(255, 0, 0, 0.000); white-space: pre-wrap;\" title=\"KL: 0.000\">_</span><span style=\"background-color: rgba(255, 0, 0, 0.000); white-space: pre-wrap;\" title=\"KL: 0.000\">buffer</span><span style=\"background-color: rgba(255, 0, 0, 0.010); white-space: pre-wrap;\" title=\"KL: 0.000\"> </span><span style=\"background-color: rgba(255, 0, 0, 0.000); white-space: pre-wrap;\" title=\"KL: 0.000\">\n",
       "</span><span style=\"background-color: rgba(255, 0, 0, 0.000); white-space: pre-wrap;\" title=\"KL: 0.000\">    </span><span style=\"background-color: rgba(255, 0, 0, 0.039); white-space: pre-wrap;\" title=\"KL: 0.001\">mov</span><span style=\"background-color: rgba(255, 0, 0, 0.015); white-space: pre-wrap;\" title=\"KL: 0.000\"> r</span><span style=\"background-color: rgba(255, 0, 0, 0.008); white-space: pre-wrap;\" title=\"KL: 0.000\">di</span><span style=\"background-color: rgba(255, 0, 0, 0.000); white-space: pre-wrap;\" title=\"KL: 0.000\">,</span><span style=\"background-color: rgba(255, 0, 0, 0.037); white-space: pre-wrap;\" title=\"KL: 0.001\"> stdout</span><span style=\"background-color: rgba(255, 0, 0, 0.002); white-space: pre-wrap;\" title=\"KL: 0.000\"> </span><span style=\"background-color: rgba(255, 0, 0, 0.000); white-space: pre-wrap;\" title=\"KL: 0.000\">\n",
       "</span><span style=\"background-color: rgba(255, 0, 0, 0.000); white-space: pre-wrap;\" title=\"KL: 0.000\">    </span><span style=\"background-color: rgba(255, 0, 0, 0.032); white-space: pre-wrap;\" title=\"KL: 0.001\">mov</span><span style=\"background-color: rgba(255, 0, 0, 0.008); white-space: pre-wrap;\" title=\"KL: 0.000\"> r</span><span style=\"background-color: rgba(255, 0, 0, 0.000); white-space: pre-wrap;\" title=\"KL: 0.000\">si</span><span style=\"background-color: rgba(255, 0, 0, 0.000); white-space: pre-wrap;\" title=\"KL: 0.000\">,</span><span style=\"background-color: rgba(255, 0, 0, 0.112); white-space: pre-wrap;\" title=\"KL: 0.002\"> </span><span style=\"background-color: rgba(255, 0, 0, 0.050); white-space: pre-wrap;\" title=\"KL: 0.001\">6</span><span style=\"background-color: rgba(255, 0, 0, 0.031); white-space: pre-wrap;\" title=\"KL: 0.001\">\n",
       "</span><span style=\"background-color: rgba(255, 0, 0, 0.000); white-space: pre-wrap;\" title=\"KL: 0.000\">    </span><span style=\"background-color: rgba(255, 0, 0, 0.031); white-space: pre-wrap;\" title=\"KL: 0.001\">syscall</span><span style=\"background-color: rgba(255, 0, 0, 0.004); white-space: pre-wrap;\" title=\"KL: 0.000\"> </span><span style=\"background-color: rgba(255, 0, 0, 0.003); white-space: pre-wrap;\" title=\"KL: 0.000\">\n",
       "</span><span style=\"background-color: rgba(255, 0, 0, 0.002); white-space: pre-wrap;\" title=\"KL: 0.000\">    </span><span style=\"background-color: rgba(255, 0, 0, 0.014); white-space: pre-wrap;\" title=\"KL: 0.000\">;</span><span style=\"background-color: rgba(255, 0, 0, 0.008); white-space: pre-wrap;\" title=\"KL: 0.000\"> Exit</span><span style=\"background-color: rgba(255, 0, 0, 0.004); white-space: pre-wrap;\" title=\"KL: 0.000\"> with</span><span style=\"background-color: rgba(255, 0, 0, 0.011); white-space: pre-wrap;\" title=\"KL: 0.000\"> status</span><span style=\"background-color: rgba(255, 0, 0, 0.000); white-space: pre-wrap;\" title=\"KL: 0.000\"> </span><span style=\"background-color: rgba(255, 0, 0, 0.000); white-space: pre-wrap;\" title=\"KL: 0.000\">0</span><span style=\"background-color: rgba(255, 0, 0, 0.009); white-space: pre-wrap;\" title=\"KL: 0.000\">\n",
       "</span><span style=\"background-color: rgba(255, 0, 0, 0.000); white-space: pre-wrap;\" title=\"KL: 0.000\">    </span><span style=\"background-color: rgba(255, 0, 0, 0.028); white-space: pre-wrap;\" title=\"KL: 0.001\">mov</span><span style=\"background-color: rgba(255, 0, 0, 0.002); white-space: pre-wrap;\" title=\"KL: 0.000\"> rax</span><span style=\"background-color: rgba(255, 0, 0, 0.000); white-space: pre-wrap;\" title=\"KL: 0.000\">,</span><span style=\"background-color: rgba(255, 0, 0, 0.000); white-space: pre-wrap;\" title=\"KL: 0.000\"> </span><span style=\"background-color: rgba(255, 0, 0, 0.000); white-space: pre-wrap;\" title=\"KL: 0.000\">0</span><span style=\"background-color: rgba(255, 0, 0, 0.004); white-space: pre-wrap;\" title=\"KL: 0.000\"> ;</span><span style=\"background-color: rgba(255, 0, 0, 0.004); white-space: pre-wrap;\" title=\"KL: 0.000\"> return</span><span style=\"background-color: rgba(255, 0, 0, 0.002); white-space: pre-wrap;\" title=\"KL: 0.000\"> value</span><span style=\"background-color: rgba(255, 0, 0, 0.004); white-space: pre-wrap;\" title=\"KL: 0.000\">\n",
       "</span><span style=\"background-color: rgba(255, 0, 0, 0.000); white-space: pre-wrap;\" title=\"KL: 0.000\">    </span><span style=\"background-color: rgba(255, 0, 0, 0.058); white-space: pre-wrap;\" title=\"KL: 0.001\">mov</span><span style=\"background-color: rgba(255, 0, 0, 0.003); white-space: pre-wrap;\" title=\"KL: 0.000\"> r</span><span style=\"background-color: rgba(255, 0, 0, 0.001); white-space: pre-wrap;\" title=\"KL: 0.000\">di</span><span style=\"background-color: rgba(255, 0, 0, 0.000); white-space: pre-wrap;\" title=\"KL: 0.000\">,</span><span style=\"background-color: rgba(255, 0, 0, 0.002); white-space: pre-wrap;\" title=\"KL: 0.000\"> </span><span style=\"background-color: rgba(255, 0, 0, 0.000); white-space: pre-wrap;\" title=\"KL: 0.000\">0</span><span style=\"background-color: rgba(255, 0, 0, 0.005); white-space: pre-wrap;\" title=\"KL: 0.000\"> ;</span><span style=\"background-color: rgba(255, 0, 0, 0.007); white-space: pre-wrap;\" title=\"KL: 0.000\"> exit</span><span style=\"background-color: rgba(255, 0, 0, 0.001); white-space: pre-wrap;\" title=\"KL: 0.000\"> code</span><span style=\"background-color: rgba(255, 0, 0, 0.000); white-space: pre-wrap;\" title=\"KL: 0.000\"> </span><span style=\"background-color: rgba(255, 0, 0, 0.000); white-space: pre-wrap;\" title=\"KL: 0.000\">\n",
       "</span><span style=\"background-color: rgba(255, 0, 0, 0.000); white-space: pre-wrap;\" title=\"KL: 0.000\">    </span><span style=\"background-color: rgba(255, 0, 0, 0.004); white-space: pre-wrap;\" title=\"KL: 0.000\">syscall</span><span style=\"background-color: rgba(255, 0, 0, 0.002); white-space: pre-wrap;\" title=\"KL: 0.000\"> </span><span style=\"background-color: rgba(255, 0, 0, 0.000); white-space: pre-wrap;\" title=\"KL: 0.000\">\n",
       "</span><span style=\"background-color: rgba(255, 0, 0, 0.001); white-space: pre-wrap;\" title=\"KL: 0.000\">```</span><span style=\"background-color: rgba(255, 0, 0, 0.002); white-space: pre-wrap;\" title=\"KL: 0.000\"> </span><span style=\"background-color: rgba(255, 0, 0, 0.004); white-space: pre-wrap;\" title=\"KL: 0.000\">\n",
       "\n",
       "</span><span style=\"background-color: rgba(255, 0, 0, 0.004); white-space: pre-wrap;\" title=\"KL: 0.000\">**</span><span style=\"background-color: rgba(255, 0, 0, 0.002); white-space: pre-wrap;\" title=\"KL: 0.000\">Explanation</span><span style=\"background-color: rgba(255, 0, 0, 0.000); white-space: pre-wrap;\" title=\"KL: 0.000\">**</span><span style=\"background-color: rgba(255, 0, 0, 0.002); white-space: pre-wrap;\" title=\"KL: 0.000\">\n",
       "\n",
       "</span><span style=\"background-color: rgba(255, 0, 0, 0.005); white-space: pre-wrap;\" title=\"KL: 0.000\">*</span><span style=\"background-color: rgba(255, 0, 0, 0.011); white-space: pre-wrap;\" title=\"KL: 0.000\"> **</span><span style=\"background-color: rgba(255, 0, 0, 0.012); white-space: pre-wrap;\" title=\"KL: 0.000\">Assembly</span><span style=\"background-color: rgba(255, 0, 0, 0.014); white-space: pre-wrap;\" title=\"KL: 0.000\"> Instructions</span><span style=\"background-color: rgba(255, 0, 0, 0.000); white-space: pre-wrap;\" title=\"KL: 0.000\">:**</span><span style=\"background-color: rgba(255, 0, 0, 0.007); white-space: pre-wrap;\" title=\"KL: 0.000\">  </span><span style=\"background-color: rgba(255, 0, 0, 0.010); white-space: pre-wrap;\" title=\"KL: 0.000\">The</span><span style=\"background-color: rgba(255, 0, 0, 0.004); white-space: pre-wrap;\" title=\"KL: 0.000\"> code</span><span style=\"background-color: rgba(255, 0, 0, 0.005); white-space: pre-wrap;\" title=\"KL: 0.000\"> below</span><span style=\"background-color: rgba(255, 0, 0, 0.003); white-space: pre-wrap;\" title=\"KL: 0.000\"> uses</span><span style=\"background-color: rgba(255, 0, 0, 0.003); white-space: pre-wrap;\" title=\"KL: 0.000\"> assembly</span><span style=\"background-color: rgba(255, 0, 0, 0.001); white-space: pre-wrap;\" title=\"KL: 0.000\"> language</span><span style=\"background-color: rgba(255, 0, 0, 0.001); white-space: pre-wrap;\" title=\"KL: 0.000\"> instructions</span><span style=\"background-color: rgba(255, 0, 0, 0.002); white-space: pre-wrap;\" title=\"KL: 0.000\"> to</span><span style=\"background-color: rgba(255, 0, 0, 0.005); white-space: pre-wrap;\" title=\"KL: 0.000\"> perform</span><span style=\"background-color: rgba(255, 0, 0, 0.003); white-space: pre-wrap;\" title=\"KL: 0.000\"> the</span><span style=\"background-color: rgba(255, 0, 0, 0.002); white-space: pre-wrap;\" title=\"KL: 0.000\"> necessary</span><span style=\"background-color: rgba(255, 0, 0, 0.002); white-space: pre-wrap;\" title=\"KL: 0.000\"> operations</span><span style=\"background-color: rgba(255, 0, 0, 0.002); white-space: pre-wrap;\" title=\"KL: 0.000\"> for</span><span style=\"background-color: rgba(255, 0, 0, 0.001); white-space: pre-wrap;\" title=\"KL: 0.000\"> C</span><span style=\"background-color: rgba(255, 0, 0, 0.003); white-space: pre-wrap;\" title=\"KL: 0.000\">-</span><span style=\"background-color: rgba(255, 0, 0, 0.003); white-space: pre-wrap;\" title=\"KL: 0.000\">like</span><span style=\"background-color: rgba(255, 0, 0, 0.003); white-space: pre-wrap;\" title=\"KL: 0.000\"> compilation</span><span style=\"background-color: rgba(255, 0, 0, 0.001); white-space: pre-wrap;\" title=\"KL: 0.000\">.</span><span style=\"background-color: rgba(255, 0, 0, 0.003); white-space: pre-wrap;\" title=\"KL: 0.000\">  </span><span style=\"background-color: rgba(255, 0, 0, 0.004); white-space: pre-wrap;\" title=\"KL: 0.000\">It</span><span style=\"background-color: rgba(255, 0, 0, 0.003); white-space: pre-wrap;\" title=\"KL: 0.000\"> involves</span><span style=\"background-color: rgba(255, 0, 0, 0.003); white-space: pre-wrap;\" title=\"KL: 0.000\"> instructions</span><span style=\"background-color: rgba(255, 0, 0, 0.002); white-space: pre-wrap;\" title=\"KL: 0.000\"> for</span><span style=\"background-color: rgba(255, 0, 0, 0.012); white-space: pre-wrap;\" title=\"KL: 0.000\"> moving</span><span style=\"background-color: rgba(255, 0, 0, 0.001); white-space: pre-wrap;\" title=\"KL: 0.000\"> data</span><span style=\"background-color: rgba(255, 0, 0, 0.004); white-space: pre-wrap;\" title=\"KL: 0.000\">,</span><span style=\"background-color: rgba(255, 0, 0, 0.025); white-space: pre-wrap;\" title=\"KL: 0.001\"> setting</span><span style=\"background-color: rgba(255, 0, 0, 0.001); white-space: pre-wrap;\" title=\"KL: 0.000\"> registers</span><span style=\"background-color: rgba(255, 0, 0, 0.002); white-space: pre-wrap;\" title=\"KL: 0.000\">,</span><span style=\"background-color: rgba(255, 0, 0, 0.004); white-space: pre-wrap;\" title=\"KL: 0.000\"> and</span><span style=\"background-color: rgba(255, 0, 0, 0.006); white-space: pre-wrap;\" title=\"KL: 0.000\"> interacting</span><span style=\"background-color: rgba(255, 0, 0, 0.000); white-space: pre-wrap;\" title=\"KL: 0.000\"> with</span><span style=\"background-color: rgba(255, 0, 0, 0.008); white-space: pre-wrap;\" title=\"KL: 0.000\"> the</span><span style=\"background-color: rgba(255, 0, 0, 0.022); white-space: pre-wrap;\" title=\"KL: 0.000\"> system</span><span style=\"background-color: rgba(255, 0, 0, 0.006); white-space: pre-wrap;\" title=\"KL: 0.000\">'</span><span style=\"background-color: rgba(255, 0, 0, 0.000); white-space: pre-wrap;\" title=\"KL: -0.000\">s</span><span style=\"background-color: rgba(255, 0, 0, 0.108); white-space: pre-wrap;\" title=\"KL: 0.002\"> hardware</span><span style=\"background-color: rgba(255, 0, 0, 0.002); white-space: pre-wrap;\" title=\"KL: 0.000\"> to</span><span style=\"background-color: rgba(255, 0, 0, 0.023); white-space: pre-wrap;\" title=\"KL: 0.000\"> produce</span><span style=\"background-color: rgba(255, 0, 0, 0.003); white-space: pre-wrap;\" title=\"KL: 0.000\"> an</span><span style=\"background-color: rgba(255, 0, 0, 0.000); white-space: pre-wrap;\" title=\"KL: 0.000\"> executable</span><span style=\"background-color: rgba(255, 0, 0, 0.003); white-space: pre-wrap;\" title=\"KL: 0.000\"> file</span><span style=\"background-color: rgba(255, 0, 0, 0.001); white-space: pre-wrap;\" title=\"KL: 0.000\">.</span><span style=\"background-color: rgba(255, 0, 0, 0.000); white-space: pre-wrap;\" title=\"KL: 0.000\">\n",
       "</span><span style=\"background-color: rgba(255, 0, 0, 0.000); white-space: pre-wrap;\" title=\"KL: 0.000\">*</span><span style=\"background-color: rgba(255, 0, 0, 0.001); white-space: pre-wrap;\" title=\"KL: 0.000\"> **</span><span style=\"background-color: rgba(255, 0, 0, 0.007); white-space: pre-wrap;\" title=\"KL: 0.000\">.</span><span style=\"background-color: rgba(255, 0, 0, 0.001); white-space: pre-wrap;\" title=\"KL: 0.000\">data</span><span style=\"background-color: rgba(255, 0, 0, 0.001); white-space: pre-wrap;\" title=\"KL: 0.000\">:**</span><span style=\"background-color: rgba(255, 0, 0, 0.004); white-space: pre-wrap;\" title=\"KL: 0.000\"> This</span><span style=\"background-color: rgba(255, 0, 0, 0.008); white-space: pre-wrap;\" title=\"KL: 0.000\"> directive</span><span style=\"background-color: rgba(255, 0, 0, 0.005); white-space: pre-wrap;\" title=\"KL: 0.000\"> declares</span><span style=\"background-color: rgba(255, 0, 0, 0.004); white-space: pre-wrap;\" title=\"KL: 0.000\"> a</span><span style=\"background-color: rgba(255, 0, 0, 0.006); white-space: pre-wrap;\" title=\"KL: 0.000\"> region</span><span style=\"background-color: rgba(255, 0, 0, 0.002); white-space: pre-wrap;\" title=\"KL: 0.000\"> of</span><span style=\"background-color: rgba(255, 0, 0, 0.001); white-space: pre-wrap;\" title=\"KL: 0.000\"> memory</span><span style=\"background-color: rgba(255, 0, 0, 0.004); white-space: pre-wrap;\" title=\"KL: 0.000\"> dedicated</span><span style=\"background-color: rgba(255, 0, 0, 0.004); white-space: pre-wrap;\" title=\"KL: 0.000\"> to</span><span style=\"background-color: rgba(255, 0, 0, 0.008); white-space: pre-wrap;\" title=\"KL: 0.000\"> storing</span><span style=\"background-color: rgba(255, 0, 0, 0.009); white-space: pre-wrap;\" title=\"KL: 0.000\"> static</span><span style=\"background-color: rgba(255, 0, 0, 0.007); white-space: pre-wrap;\" title=\"KL: 0.000\"> data</span><span style=\"background-color: rgba(255, 0, 0, 0.005); white-space: pre-wrap;\" title=\"KL: 0.000\">.</span><span style=\"background-color: rgba(255, 0, 0, 0.008); white-space: pre-wrap;\" title=\"KL: 0.000\">  </span><span style=\"background-color: rgba(255, 0, 0, 0.007); white-space: pre-wrap;\" title=\"KL: 0.000\">In</span><span style=\"background-color: rgba(255, 0, 0, 0.005); white-space: pre-wrap;\" title=\"KL: 0.000\"> this</span>"
      ],
      "text/plain": [
       "<IPython.core.display.HTML object>"
      ]
     },
     "metadata": {},
     "output_type": "display_data"
    },
    {
     "name": "stdout",
     "output_type": "stream",
     "text": [
      "High KL: 0.0089 at token 'rax'\\n\n"
     ]
    },
    {
     "data": {
      "text/html": [
       "<style type=\"text/css\">\n",
       "#T_84b51 th {\n",
       "  text-align: left;\n",
       "}\n",
       "#T_84b51_row0_col0, #T_84b51_row1_col0, #T_84b51_row2_col0 {\n",
       "  background-color: lightgreen;\n",
       "  text-align: left;\n",
       "}\n",
       "#T_84b51_row0_col1, #T_84b51_row0_col2, #T_84b51_row1_col1, #T_84b51_row1_col2, #T_84b51_row2_col1, #T_84b51_row2_col2, #T_84b51_row3_col1, #T_84b51_row3_col2, #T_84b51_row4_col1, #T_84b51_row4_col2 {\n",
       "  text-align: left;\n",
       "}\n",
       "#T_84b51_row3_col0, #T_84b51_row4_col0 {\n",
       "  background-color: lightcoral;\n",
       "  text-align: left;\n",
       "}\n",
       "</style>\n",
       "<table id=\"T_84b51\">\n",
       "  <thead>\n",
       "    <tr>\n",
       "      <th class=\"blank level0\" >&nbsp;</th>\n",
       "      <th id=\"T_84b51_level0_col0\" class=\"col_heading level0 col0\" >Token</th>\n",
       "      <th id=\"T_84b51_level0_col1\" class=\"col_heading level0 col1\" >p_HS</th>\n",
       "      <th id=\"T_84b51_level0_col2\" class=\"col_heading level0 col2\" >p_B</th>\n",
       "    </tr>\n",
       "  </thead>\n",
       "  <tbody>\n",
       "    <tr>\n",
       "      <th id=\"T_84b51_level0_row0\" class=\"row_heading level0 row0\" >0</th>\n",
       "      <td id=\"T_84b51_row0_col0\" class=\"data row0 col0\" > $</td>\n",
       "      <td id=\"T_84b51_row0_col1\" class=\"data row0 col1\" >0.063</td>\n",
       "      <td id=\"T_84b51_row0_col2\" class=\"data row0 col2\" >0.071</td>\n",
       "    </tr>\n",
       "    <tr>\n",
       "      <th id=\"T_84b51_level0_row1\" class=\"row_heading level0 row1\" >1</th>\n",
       "      <td id=\"T_84b51_row1_col0\" class=\"data row1 col0\" >   </td>\n",
       "      <td id=\"T_84b51_row1_col1\" class=\"data row1 col1\" >0.087</td>\n",
       "      <td id=\"T_84b51_row1_col2\" class=\"data row1 col2\" >0.097</td>\n",
       "    </tr>\n",
       "    <tr>\n",
       "      <th id=\"T_84b51_level0_row2\" class=\"row_heading level0 row2\" >2</th>\n",
       "      <td id=\"T_84b51_row2_col0\" class=\"data row2 col0\" > r</td>\n",
       "      <td id=\"T_84b51_row2_col1\" class=\"data row2 col1\" >0.197</td>\n",
       "      <td id=\"T_84b51_row2_col2\" class=\"data row2 col2\" >0.216</td>\n",
       "    </tr>\n",
       "    <tr>\n",
       "      <th id=\"T_84b51_level0_row3\" class=\"row_heading level0 row3\" >3</th>\n",
       "      <td id=\"T_84b51_row3_col0\" class=\"data row3 col0\" > eax</td>\n",
       "      <td id=\"T_84b51_row3_col1\" class=\"data row3 col1\" >0.144</td>\n",
       "      <td id=\"T_84b51_row3_col2\" class=\"data row3 col2\" >0.127</td>\n",
       "    </tr>\n",
       "    <tr>\n",
       "      <th id=\"T_84b51_level0_row4\" class=\"row_heading level0 row4\" >4</th>\n",
       "      <td id=\"T_84b51_row4_col0\" class=\"data row4 col0\" > rax</td>\n",
       "      <td id=\"T_84b51_row4_col1\" class=\"data row4 col1\" >0.194</td>\n",
       "      <td id=\"T_84b51_row4_col2\" class=\"data row4 col2\" >0.153</td>\n",
       "    </tr>\n",
       "  </tbody>\n",
       "</table>\n"
      ],
      "text/plain": [
       "<IPython.core.display.HTML object>"
      ]
     },
     "metadata": {},
     "output_type": "display_data"
    },
    {
     "name": "stdout",
     "output_type": "stream",
     "text": [
      "--------------------------------------------------------------------------------------------------------------------------------------------------------------------------------------------------------\n"
     ]
    }
   ],
   "source": [
    "top_k_kls, top_k_indices = matrix_topk(kl_hs_chat, k=10)\n",
    "for (batch_idx, seq_idx) in top_k_indices:\n",
    "    highlight_kl(model_base, model_hs, model_chat, toks[batch_idx, :seq_idx+30], layer, head, cscale=0.02)\n",
    "    print(\"--\"*100)"
   ]
  }
 ],
 "metadata": {
  "kernelspec": {
   "display_name": "Python 3",
   "language": "python",
   "name": "python3"
  },
  "language_info": {
   "codemirror_mode": {
    "name": "ipython",
    "version": 3
   },
   "file_extension": ".py",
   "mimetype": "text/x-python",
   "name": "python",
   "nbconvert_exporter": "python",
   "pygments_lexer": "ipython3",
   "version": "3.10.12"
  }
 },
 "nbformat": 4,
 "nbformat_minor": 2
}
