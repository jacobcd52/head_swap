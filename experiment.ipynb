{
 "cells": [
  {
   "cell_type": "code",
   "execution_count": 1,
   "metadata": {},
   "outputs": [
    {
     "name": "stderr",
     "output_type": "stream",
     "text": [
      "/usr/local/lib/python3.10/dist-packages/torchvision/io/image.py:13: UserWarning: Failed to load image Python extension: '/usr/local/lib/python3.10/dist-packages/torchvision/image.so: undefined symbol: _ZN3c1017RegisterOperatorsD1Ev'If you don't plan on using image functionality from `torchvision.io`, you can ignore this warning. Otherwise, there might be something wrong with your environment. Did you have `libjpeg` or `libpng` installed before building `torchvision` from source?\n",
      "  warn(\n"
     ]
    },
    {
     "data": {
      "text/plain": [
       "<torch.autograd.grad_mode.set_grad_enabled at 0x70ed5f96f580>"
      ]
     },
     "execution_count": 1,
     "metadata": {},
     "output_type": "execute_result"
    }
   ],
   "source": [
    "%load_ext autoreload\n",
    "%autoreload 2\n",
    "\n",
    "from transformer_lens import HookedTransformer\n",
    "import torch as t\n",
    "from huggingface_hub import login\n",
    "from contextlib import contextmanager\n",
    "import json\n",
    "import torch.nn.functional as F\n",
    "from tqdm.notebook import tqdm\n",
    "import gc\n",
    "from IPython.display import display, HTML\n",
    "import html as html_escaper\n",
    "import copy\n",
    "\n",
    "from utils import *\n",
    "\n",
    "# login(\"\")\n",
    "t.set_grad_enabled(False)"
   ]
  },
  {
   "cell_type": "code",
   "execution_count": 2,
   "metadata": {},
   "outputs": [
    {
     "data": {
      "application/vnd.jupyter.widget-view+json": {
       "model_id": "048ea02d07434f3c96f0e2c7eb8fb029",
       "version_major": 2,
       "version_minor": 0
      },
      "text/plain": [
       "Loading checkpoint shards:   0%|          | 0/3 [00:00<?, ?it/s]"
      ]
     },
     "metadata": {},
     "output_type": "display_data"
    },
    {
     "name": "stdout",
     "output_type": "stream",
     "text": [
      "Loaded pretrained model gemma-2-2b into HookedTransformer\n"
     ]
    },
    {
     "data": {
      "application/vnd.jupyter.widget-view+json": {
       "model_id": "ddd4a10a28f84668ac5ac6a66663a99b",
       "version_major": 2,
       "version_minor": 0
      },
      "text/plain": [
       "Loading checkpoint shards:   0%|          | 0/2 [00:00<?, ?it/s]"
      ]
     },
     "metadata": {},
     "output_type": "display_data"
    },
    {
     "name": "stdout",
     "output_type": "stream",
     "text": [
      "Loaded pretrained model gemma-2-2b-it into HookedTransformer\n"
     ]
    }
   ],
   "source": [
    "model_base = HookedTransformer.from_pretrained_no_processing(\"gemma-2-2b\", device=\"cpu\")\n",
    "model_chat = HookedTransformer.from_pretrained_no_processing(\"gemma-2-2b-it\", device=\"cuda\")\n",
    "model_hs = copy.deepcopy(model_chat)\n",
    "clear_mem()"
   ]
  },
  {
   "cell_type": "code",
   "execution_count": 3,
   "metadata": {},
   "outputs": [],
   "source": [
    "MAX_SEQ_LEN = 300\n",
    "NUM_LINES = 2000\n",
    "with open(\"2b_it_generations.jsonl\", \"r\") as f:\n",
    "    data = [json.loads(line)['conversation'] for i, line in enumerate(f) if i < NUM_LINES]\n",
    "toks = model_base.to_tokens(data, prepend_bos=False)[:, :MAX_SEQ_LEN] "
   ]
  },
  {
   "cell_type": "code",
   "execution_count": 10,
   "metadata": {},
   "outputs": [
    {
     "data": {
      "application/vnd.jupyter.widget-view+json": {
       "model_id": "24c71214a54f47cb8570c2a5f1c8bbd6",
       "version_major": 2,
       "version_minor": 0
      },
      "text/plain": [
       "  0%|          | 0/6 [00:00<?, ?it/s]"
      ]
     },
     "metadata": {},
     "output_type": "display_data"
    }
   ],
   "source": [
    "clear_mem()\n",
    "\n",
    "layer, head = 13, 0\n",
    "kl_hs, kl_ablated = get_kl(model_base, model_hs, model_chat, toks[:100], layer, head, batch_size=16)"
   ]
  },
  {
   "cell_type": "code",
   "execution_count": 12,
   "metadata": {},
   "outputs": [
    {
     "data": {
      "text/html": [
       "&lt;bos&gt;<span style=\"background-color: rgba(255, 0, 0, 0.000); white-space: pre-wrap;\" title=\"KL: 0.000\">&lt;start_of_turn&gt;</span><span style=\"background-color: rgba(255, 0, 0, 0.009); white-space: pre-wrap;\" title=\"KL: 0.009\">user</span><span style=\"background-color: rgba(255, 0, 0, 0.041); white-space: pre-wrap;\" title=\"KL: 0.041\">\n",
       "</span><span style=\"background-color: rgba(255, 0, 0, 0.030); white-space: pre-wrap;\" title=\"KL: 0.030\">You</span><span style=\"background-color: rgba(255, 0, 0, 0.007); white-space: pre-wrap;\" title=\"KL: 0.007\"> are</span><span style=\"background-color: rgba(255, 0, 0, 0.006); white-space: pre-wrap;\" title=\"KL: 0.006\"> working</span><span style=\"background-color: rgba(255, 0, 0, 0.002); white-space: pre-wrap;\" title=\"KL: 0.002\"> out</span><span style=\"background-color: rgba(255, 0, 0, 0.025); white-space: pre-wrap;\" title=\"KL: 0.025\"> error</span><span style=\"background-color: rgba(255, 0, 0, 0.016); white-space: pre-wrap;\" title=\"KL: 0.016\"> analysis</span><span style=\"background-color: rgba(255, 0, 0, 0.011); white-space: pre-wrap;\" title=\"KL: 0.011\"> and</span><span style=\"background-color: rgba(255, 0, 0, 0.065); white-space: pre-wrap;\" title=\"KL: 0.065\"> counting</span><span style=\"background-color: rgba(255, 0, 0, 0.009); white-space: pre-wrap;\" title=\"KL: 0.009\"> up</span><span style=\"background-color: rgba(255, 0, 0, 0.014); white-space: pre-wrap;\" title=\"KL: 0.014\"> what</span><span style=\"background-color: rgba(255, 0, 0, 0.007); white-space: pre-wrap;\" title=\"KL: 0.007\"> errors</span><span style=\"background-color: rgba(255, 0, 0, 0.015); white-space: pre-wrap;\" title=\"KL: 0.015\"> the</span><span style=\"background-color: rgba(255, 0, 0, 0.037); white-space: pre-wrap;\" title=\"KL: 0.037\"> algorithm</span><span style=\"background-color: rgba(255, 0, 0, 0.007); white-space: pre-wrap;\" title=\"KL: 0.007\"> makes</span><span style=\"background-color: rgba(255, 0, 0, 0.012); white-space: pre-wrap;\" title=\"KL: 0.012\">.</span><span style=\"background-color: rgba(255, 0, 0, 0.005); white-space: pre-wrap;\" title=\"KL: 0.005\"> Which</span><span style=\"background-color: rgba(255, 0, 0, 0.025); white-space: pre-wrap;\" title=\"KL: 0.025\"> of</span><span style=\"background-color: rgba(255, 0, 0, 0.000); white-space: pre-wrap;\" title=\"KL: 0.000\"> the</span><span style=\"background-color: rgba(255, 0, 0, 0.001); white-space: pre-wrap;\" title=\"KL: 0.001\"> following</span><span style=\"background-color: rgba(255, 0, 0, 0.038); white-space: pre-wrap;\" title=\"KL: 0.038\"> do</span><span style=\"background-color: rgba(255, 0, 0, 0.002); white-space: pre-wrap;\" title=\"KL: 0.002\"> you</span><span style=\"background-color: rgba(255, 0, 0, 0.009); white-space: pre-wrap;\" title=\"KL: 0.009\"> think</span><span style=\"background-color: rgba(255, 0, 0, 0.006); white-space: pre-wrap;\" title=\"KL: 0.006\"> you</span><span style=\"background-color: rgba(255, 0, 0, 0.007); white-space: pre-wrap;\" title=\"KL: 0.007\"> should</span><span style=\"background-color: rgba(255, 0, 0, 0.011); white-space: pre-wrap;\" title=\"KL: 0.011\"> manually</span><span style=\"background-color: rgba(255, 0, 0, 0.006); white-space: pre-wrap;\" title=\"KL: 0.006\"> go</span><span style=\"background-color: rgba(255, 0, 0, 0.004); white-space: pre-wrap;\" title=\"KL: 0.004\"> through</span><span style=\"background-color: rgba(255, 0, 0, 0.014); white-space: pre-wrap;\" title=\"KL: 0.014\"> and</span><span style=\"background-color: rgba(255, 0, 0, 0.018); white-space: pre-wrap;\" title=\"KL: 0.018\"> carefully</span><span style=\"background-color: rgba(255, 0, 0, 0.006); white-space: pre-wrap;\" title=\"KL: 0.006\"> examine</span><span style=\"background-color: rgba(255, 0, 0, 0.025); white-space: pre-wrap;\" title=\"KL: 0.025\">,</span><span style=\"background-color: rgba(255, 0, 0, 0.026); white-space: pre-wrap;\" title=\"KL: 0.026\"> one</span><span style=\"background-color: rgba(255, 0, 0, 0.005); white-space: pre-wrap;\" title=\"KL: 0.005\"> image</span><span style=\"background-color: rgba(255, 0, 0, 0.008); white-space: pre-wrap;\" title=\"KL: 0.008\"> at</span><span style=\"background-color: rgba(255, 0, 0, 0.000); white-space: pre-wrap;\" title=\"KL: 0.000\"> a</span><span style=\"background-color: rgba(255, 0, 0, 0.000); white-space: pre-wrap;\" title=\"KL: 0.000\"> time</span><span style=\"background-color: rgba(255, 0, 0, 0.008); white-space: pre-wrap;\" title=\"KL: 0.008\">?</span><span style=\"background-color: rgba(255, 0, 0, 0.001); white-space: pre-wrap;\" title=\"KL: 0.001\">\n",
       "\n",
       "</span><span style=\"background-color: rgba(255, 0, 0, 0.019); white-space: pre-wrap;\" title=\"KL: 0.019\">5</span><span style=\"background-color: rgba(255, 0, 0, 0.035); white-space: pre-wrap;\" title=\"KL: 0.035\">0</span><span style=\"background-color: rgba(255, 0, 0, 0.011); white-space: pre-wrap;\" title=\"KL: 0.011\">0</span><span style=\"background-color: rgba(255, 0, 0, 0.008); white-space: pre-wrap;\" title=\"KL: 0.008\"> images</span><span style=\"background-color: rgba(255, 0, 0, 0.011); white-space: pre-wrap;\" title=\"KL: 0.011\"> of</span><span style=\"background-color: rgba(255, 0, 0, 0.017); white-space: pre-wrap;\" title=\"KL: 0.017\"> the</span><span style=\"background-color: rgba(255, 0, 0, 0.030); white-space: pre-wrap;\" title=\"KL: 0.030\"> test</span><span style=\"background-color: rgba(255, 0, 0, 0.001); white-space: pre-wrap;\" title=\"KL: 0.001\"> set</span><span style=\"background-color: rgba(255, 0, 0, 0.013); white-space: pre-wrap;\" title=\"KL: 0.013\">,</span><span style=\"background-color: rgba(255, 0, 0, 0.039); white-space: pre-wrap;\" title=\"KL: 0.039\"> on</span><span style=\"background-color: rgba(255, 0, 0, 0.006); white-space: pre-wrap;\" title=\"KL: 0.006\"> which</span><span style=\"background-color: rgba(255, 0, 0, 0.030); white-space: pre-wrap;\" title=\"KL: 0.030\"> the</span><span style=\"background-color: rgba(255, 0, 0, 0.005); white-space: pre-wrap;\" title=\"KL: 0.005\"> algorithm</span><span style=\"background-color: rgba(255, 0, 0, 0.004); white-space: pre-wrap;\" title=\"KL: 0.004\"> made</span><span style=\"background-color: rgba(255, 0, 0, 0.007); white-space: pre-wrap;\" title=\"KL: 0.007\"> a</span><span style=\"background-color: rgba(255, 0, 0, 0.015); white-space: pre-wrap;\" title=\"KL: 0.015\"> mistake</span><span style=\"background-color: rgba(255, 0, 0, 0.016); white-space: pre-wrap;\" title=\"KL: 0.016\">.</span><span style=\"background-color: rgba(255, 0, 0, 0.017); white-space: pre-wrap;\" title=\"KL: 0.017\">\n",
       "\n",
       "</span><span style=\"background-color: rgba(255, 0, 0, 0.015); white-space: pre-wrap;\" title=\"KL: 0.015\">5</span><span style=\"background-color: rgba(255, 0, 0, 0.001); white-space: pre-wrap;\" title=\"KL: 0.001\">0</span><span style=\"background-color: rgba(255, 0, 0, 0.153); white-space: pre-wrap;\" title=\"KL: 0.153\">0</span><span style=\"background-color: rgba(255, 0, 0, 0.018); white-space: pre-wrap;\" title=\"KL: 0.018\"> images</span><span style=\"background-color: rgba(255, 0, 0, 0.006); white-space: pre-wrap;\" title=\"KL: 0.006\"> of</span><span style=\"background-color: rgba(255, 0, 0, 0.008); white-space: pre-wrap;\" title=\"KL: 0.008\"> the</span><span style=\"background-color: rgba(255, 0, 0, 0.228); white-space: pre-wrap;\" title=\"KL: 0.228\"> train</span><span style=\"background-color: rgba(255, 0, 0, 0.008); white-space: pre-wrap;\" title=\"KL: 0.008\"> set</span><span style=\"background-color: rgba(255, 0, 0, 0.014); white-space: pre-wrap;\" title=\"KL: 0.014\">,</span><span style=\"background-color: rgba(255, 0, 0, 0.003); white-space: pre-wrap;\" title=\"KL: 0.003\"> on</span><span style=\"background-color: rgba(255, 0, 0, 0.000); white-space: pre-wrap;\" title=\"KL: 0.000\"> which</span><span style=\"background-color: rgba(255, 0, 0, 0.000); white-space: pre-wrap;\" title=\"KL: 0.000\"> the</span><span style=\"background-color: rgba(255, 0, 0, 0.000); white-space: pre-wrap;\" title=\"KL: 0.000\"> algorithm</span><span style=\"background-color: rgba(255, 0, 0, 0.000); white-space: pre-wrap;\" title=\"KL: 0.000\"> made</span><span style=\"background-color: rgba(255, 0, 0, 0.002); white-space: pre-wrap;\" title=\"KL: 0.002\"> a</span><span style=\"background-color: rgba(255, 0, 0, 0.000); white-space: pre-wrap;\" title=\"KL: 0.000\"> mistake</span><span style=\"background-color: rgba(255, 0, 0, 0.003); white-space: pre-wrap;\" title=\"KL: 0.003\">.</span><span style=\"background-color: rgba(255, 0, 0, 0.004); white-space: pre-wrap;\" title=\"KL: 0.004\">\n",
       "\n",
       "</span><span style=\"background-color: rgba(255, 0, 0, 0.026); white-space: pre-wrap;\" title=\"KL: 0.026\">5</span><span style=\"background-color: rgba(255, 0, 0, 0.012); white-space: pre-wrap;\" title=\"KL: 0.012\">0</span><span style=\"background-color: rgba(255, 0, 0, 0.004); white-space: pre-wrap;\" title=\"KL: 0.004\">0</span><span style=\"background-color: rgba(255, 0, 0, 0.007); white-space: pre-wrap;\" title=\"KL: 0.007\"> images</span><span style=\"background-color: rgba(255, 0, 0, 0.015); white-space: pre-wrap;\" title=\"KL: 0.015\"> of</span><span style=\"background-color: rgba(255, 0, 0, 0.016); white-space: pre-wrap;\" title=\"KL: 0.016\"> the</span><span style=\"background-color: rgba(255, 0, 0, 0.017); white-space: pre-wrap;\" title=\"KL: 0.017\"> dev</span><span style=\"background-color: rgba(255, 0, 0, 0.003); white-space: pre-wrap;\" title=\"KL: 0.003\"> set</span><span style=\"background-color: rgba(255, 0, 0, 0.001); white-space: pre-wrap;\" title=\"KL: 0.001\">,</span><span style=\"background-color: rgba(255, 0, 0, 0.000); white-space: pre-wrap;\" title=\"KL: 0.000\"> on</span><span style=\"background-color: rgba(255, 0, 0, 0.000); white-space: pre-wrap;\" title=\"KL: 0.000\"> which</span><span style=\"background-color: rgba(255, 0, 0, 0.000); white-space: pre-wrap;\" title=\"KL: 0.000\"> the</span><span style=\"background-color: rgba(255, 0, 0, 0.023); white-space: pre-wrap;\" title=\"KL: 0.023\"> algorithm</span><span style=\"background-color: rgba(255, 0, 0, 0.000); white-space: pre-wrap;\" title=\"KL: 0.000\"> made</span><span style=\"background-color: rgba(255, 0, 0, 0.000); white-space: pre-wrap;\" title=\"KL: 0.000\"> a</span><span style=\"background-color: rgba(255, 0, 0, 0.169); white-space: pre-wrap;\" title=\"KL: 0.169\"> mistake</span><span style=\"background-color: rgba(255, 0, 0, 0.001); white-space: pre-wrap;\" title=\"KL: 0.001\">.</span><span style=\"background-color: rgba(255, 0, 0, 0.001); white-space: pre-wrap;\" title=\"KL: 0.001\">\n",
       "\n",
       "</span><span style=\"background-color: rgba(255, 0, 0, 0.027); white-space: pre-wrap;\" title=\"KL: 0.027\">5</span><span style=\"background-color: rgba(255, 0, 0, 0.008); white-space: pre-wrap;\" title=\"KL: 0.008\">0</span><span style=\"background-color: rgba(255, 0, 0, 0.002); white-space: pre-wrap;\" title=\"KL: 0.002\">0</span><span style=\"background-color: rgba(255, 0, 0, 0.007); white-space: pre-wrap;\" title=\"KL: 0.007\"> images</span><span style=\"background-color: rgba(255, 0, 0, 0.010); white-space: pre-wrap;\" title=\"KL: 0.010\"> of</span><span style=\"background-color: rgba(255, 0, 0, 0.036); white-space: pre-wrap;\" title=\"KL: 0.036\"> the</span><span style=\"background-color: rgba(255, 0, 0, 0.032); white-space: pre-wrap;\" title=\"KL: 0.032\"> training</span><span style=\"background-color: rgba(255, 0, 0, 0.012); white-space: pre-wrap;\" title=\"KL: 0.012\">-</span><span style=\"background-color: rgba(255, 0, 0, 0.016); white-space: pre-wrap;\" title=\"KL: 0.016\">dev</span><span style=\"background-color: rgba(255, 0, 0, 0.017); white-space: pre-wrap;\" title=\"KL: 0.017\"> set</span><span style=\"background-color: rgba(255, 0, 0, 0.016); white-space: pre-wrap;\" title=\"KL: 0.016\">,</span><span style=\"background-color: rgba(255, 0, 0, 0.001); white-space: pre-wrap;\" title=\"KL: 0.001\"> on</span><span style=\"background-color: rgba(255, 0, 0, 0.000); white-space: pre-wrap;\" title=\"KL: 0.000\"> which</span><span style=\"background-color: rgba(255, 0, 0, 0.001); white-space: pre-wrap;\" title=\"KL: 0.001\"> the</span><span style=\"background-color: rgba(255, 0, 0, 0.003); white-space: pre-wrap;\" title=\"KL: 0.003\"> algorithm</span><span style=\"background-color: rgba(255, 0, 0, 0.000); white-space: pre-wrap;\" title=\"KL: 0.000\"> made</span><span style=\"background-color: rgba(255, 0, 0, 0.001); white-space: pre-wrap;\" title=\"KL: 0.001\"> a</span><span style=\"background-color: rgba(255, 0, 0, 0.000); white-space: pre-wrap;\" title=\"KL: 0.000\"> mistake</span><span style=\"background-color: rgba(255, 0, 0, 0.004); white-space: pre-wrap;\" title=\"KL: 0.004\">.</span><span style=\"background-color: rgba(255, 0, 0, 0.009); white-space: pre-wrap;\" title=\"KL: 0.009\">&lt;end_of_turn&gt;</span><span style=\"background-color: rgba(255, 0, 0, 0.006); white-space: pre-wrap;\" title=\"KL: 0.006\">\n",
       "</span><span style=\"background-color: rgba(255, 0, 0, 0.131); white-space: pre-wrap;\" title=\"KL: 0.131\">&lt;start_of_turn&gt;</span><span style=\"background-color: rgba(255, 0, 0, 0.003); white-space: pre-wrap;\" title=\"KL: 0.003\">model</span><span style=\"background-color: rgba(255, 0, 0, 0.078); white-space: pre-wrap;\" title=\"KL: 0.078\">\n",
       "</span><span style=\"background-color: rgba(255, 0, 0, 0.004); white-space: pre-wrap;\" title=\"KL: 0.004\">You</span><span style=\"background-color: rgba(255, 0, 0, 0.000); white-space: pre-wrap;\" title=\"KL: 0.000\"> should</span><span style=\"background-color: rgba(255, 0, 0, 0.059); white-space: pre-wrap;\" title=\"KL: 0.059\"> manually</span><span style=\"background-color: rgba(255, 0, 0, 0.107); white-space: pre-wrap;\" title=\"KL: 0.107\"> go</span><span style=\"background-color: rgba(255, 0, 0, 0.000); white-space: pre-wrap;\" title=\"KL: 0.000\"> through</span><span style=\"background-color: rgba(255, 0, 0, 0.777); white-space: pre-wrap;\" title=\"KL: 0.777\"> and</span><span style=\"background-color: rgba(255, 0, 0, 0.000); white-space: pre-wrap;\" title=\"KL: 0.000\"> examine</span><span style=\"background-color: rgba(255, 0, 0, 0.247); white-space: pre-wrap;\" title=\"KL: 0.247\"> **</span><span style=\"background-color: rgba(255, 0, 0, 0.049); white-space: pre-wrap;\" title=\"KL: 0.049\">5</span><span style=\"background-color: rgba(255, 0, 0, 0.001); white-space: pre-wrap;\" title=\"KL: 0.001\">0</span><span style=\"background-color: rgba(255, 0, 0, 0.000); white-space: pre-wrap;\" title=\"KL: 0.000\">0</span><span style=\"background-color: rgba(255, 0, 0, 0.000); white-space: pre-wrap;\" title=\"KL: 0.000\"> images</span><span style=\"background-color: rgba(255, 0, 0, 0.000); white-space: pre-wrap;\" title=\"KL: 0.000\"> of</span><span style=\"background-color: rgba(255, 0, 0, 0.001); white-space: pre-wrap;\" title=\"KL: 0.001\"> the</span><span style=\"background-color: rgba(255, 0, 0, 0.461); white-space: pre-wrap;\" title=\"KL: 0.461\"> test</span><span style=\"background-color: rgba(255, 0, 0, 0.000); white-space: pre-wrap;\" title=\"KL: 0.000\"> set</span><span style=\"background-color: rgba(255, 0, 0, 0.002); white-space: pre-wrap;\" title=\"KL: 0.002\">,</span><span style=\"background-color: rgba(255, 0, 0, 0.000); white-space: pre-wrap;\" title=\"KL: 0.000\"> on</span><span style=\"background-color: rgba(255, 0, 0, 0.000); white-space: pre-wrap;\" title=\"KL: 0.000\"> which</span><span style=\"background-color: rgba(255, 0, 0, 0.000); white-space: pre-wrap;\" title=\"KL: 0.000\"> the</span><span style=\"background-color: rgba(255, 0, 0, 0.000); white-space: pre-wrap;\" title=\"KL: 0.000\"> algorithm</span><span style=\"background-color: rgba(255, 0, 0, 0.000); white-space: pre-wrap;\" title=\"KL: 0.000\"> made</span><span style=\"background-color: rgba(255, 0, 0, 0.000); white-space: pre-wrap;\" title=\"KL: 0.000\"> a</span><span style=\"background-color: rgba(255, 0, 0, 0.000); white-space: pre-wrap;\" title=\"KL: 0.000\"> mistake</span><span style=\"background-color: rgba(255, 0, 0, 0.002); white-space: pre-wrap;\" title=\"KL: 0.002\">.**</span><span style=\"background-color: rgba(255, 0, 0, 0.002); white-space: pre-wrap;\" title=\"KL: 0.002\"> Here</span><span style=\"background-color: rgba(255, 0, 0, 0.000); white-space: pre-wrap;\" title=\"KL: 0.000\">'</span><span style=\"background-color: rgba(255, 0, 0, 0.000); white-space: pre-wrap;\" title=\"KL: 0.000\">s</span><span style=\"background-color: rgba(255, 0, 0, 0.000); white-space: pre-wrap;\" title=\"KL: 0.000\"> why</span><span style=\"background-color: rgba(255, 0, 0, 0.000); white-space: pre-wrap;\" title=\"KL: 0.000\">:</span><span style=\"background-color: rgba(255, 0, 0, 0.000); white-space: pre-wrap;\" title=\"KL: 0.000\">\n",
       "\n",
       "</span><span style=\"background-color: rgba(255, 0, 0, 0.000); white-space: pre-wrap;\" title=\"KL: 0.000\">*</span><span style=\"background-color: rgba(255, 0, 0, 0.000); white-space: pre-wrap;\" title=\"KL: 0.000\"> **</span><span style=\"background-color: rgba(255, 0, 0, 0.001); white-space: pre-wrap;\" title=\"KL: 0.001\">Test</span>"
      ],
      "text/plain": [
       "<IPython.core.display.HTML object>"
      ]
     },
     "metadata": {},
     "output_type": "display_data"
    },
    {
     "name": "stdout",
     "output_type": "stream",
     "text": [
      "High KL: 0.7773 at token ' and'\\n\n"
     ]
    },
    {
     "data": {
      "text/html": [
       "<style type=\"text/css\">\n",
       "#T_0f572 th {\n",
       "  text-align: left;\n",
       "}\n",
       "#T_0f572_row0_col0, #T_0f572_row1_col0 {\n",
       "  background-color: lightgreen;\n",
       "  text-align: left;\n",
       "}\n",
       "#T_0f572_row0_col1, #T_0f572_row0_col2, #T_0f572_row1_col1, #T_0f572_row1_col2, #T_0f572_row2_col1, #T_0f572_row2_col2, #T_0f572_row3_col1, #T_0f572_row3_col2, #T_0f572_row4_col1, #T_0f572_row4_col2 {\n",
       "  text-align: left;\n",
       "}\n",
       "#T_0f572_row2_col0, #T_0f572_row3_col0, #T_0f572_row4_col0 {\n",
       "  background-color: lightcoral;\n",
       "  text-align: left;\n",
       "}\n",
       "</style>\n",
       "<table id=\"T_0f572\">\n",
       "  <thead>\n",
       "    <tr>\n",
       "      <th class=\"blank level0\" >&nbsp;</th>\n",
       "      <th id=\"T_0f572_level0_col0\" class=\"col_heading level0 col0\" >Token</th>\n",
       "      <th id=\"T_0f572_level0_col1\" class=\"col_heading level0 col1\" >p_HS</th>\n",
       "      <th id=\"T_0f572_level0_col2\" class=\"col_heading level0 col2\" >p_B</th>\n",
       "    </tr>\n",
       "  </thead>\n",
       "  <tbody>\n",
       "    <tr>\n",
       "      <th id=\"T_0f572_level0_row0\" class=\"row_heading level0 row0\" >0</th>\n",
       "      <td id=\"T_0f572_row0_col0\" class=\"data row0 col0\" > and</td>\n",
       "      <td id=\"T_0f572_row0_col1\" class=\"data row0 col1\" >0.026</td>\n",
       "      <td id=\"T_0f572_row0_col2\" class=\"data row0 col2\" >0.508</td>\n",
       "    </tr>\n",
       "    <tr>\n",
       "      <th id=\"T_0f572_level0_row1\" class=\"row_heading level0 row1\" >1</th>\n",
       "      <td id=\"T_0f572_row1_col0\" class=\"data row1 col0\" > </td>\n",
       "      <td id=\"T_0f572_row1_col1\" class=\"data row1 col1\" >0.002</td>\n",
       "      <td id=\"T_0f572_row1_col2\" class=\"data row1 col2\" >0.003</td>\n",
       "    </tr>\n",
       "    <tr>\n",
       "      <th id=\"T_0f572_level0_row2\" class=\"row_heading level0 row2\" >2</th>\n",
       "      <td id=\"T_0f572_row2_col0\" class=\"data row2 col0\" > **</td>\n",
       "      <td id=\"T_0f572_row2_col1\" class=\"data row2 col1\" >0.416</td>\n",
       "      <td id=\"T_0f572_row2_col2\" class=\"data row2 col2\" >0.352</td>\n",
       "    </tr>\n",
       "    <tr>\n",
       "      <th id=\"T_0f572_level0_row3\" class=\"row_heading level0 row3\" >3</th>\n",
       "      <td id=\"T_0f572_row3_col0\" class=\"data row3 col0\" > images</td>\n",
       "      <td id=\"T_0f572_row3_col1\" class=\"data row3 col1\" >0.004</td>\n",
       "      <td id=\"T_0f572_row3_col2\" class=\"data row3 col2\" >0.002</td>\n",
       "    </tr>\n",
       "    <tr>\n",
       "      <th id=\"T_0f572_level0_row4\" class=\"row_heading level0 row4\" >4</th>\n",
       "      <td id=\"T_0f572_row4_col0\" class=\"data row4 col0\" > the</td>\n",
       "      <td id=\"T_0f572_row4_col1\" class=\"data row4 col1\" >0.551</td>\n",
       "      <td id=\"T_0f572_row4_col2\" class=\"data row4 col2\" >0.133</td>\n",
       "    </tr>\n",
       "  </tbody>\n",
       "</table>\n"
      ],
      "text/plain": [
       "<IPython.core.display.HTML object>"
      ]
     },
     "metadata": {},
     "output_type": "display_data"
    },
    {
     "name": "stdout",
     "output_type": "stream",
     "text": [
      "--------------------------------------------------------------------------------------------------------------------------------------------------------------------------------------------------------\n"
     ]
    },
    {
     "data": {
      "text/html": [
       "&lt;bos&gt;<span style=\"background-color: rgba(255, 0, 0, 0.000); white-space: pre-wrap;\" title=\"KL: 0.000\">&lt;start_of_turn&gt;</span><span style=\"background-color: rgba(255, 0, 0, 0.009); white-space: pre-wrap;\" title=\"KL: 0.009\">user</span><span style=\"background-color: rgba(255, 0, 0, 0.041); white-space: pre-wrap;\" title=\"KL: 0.041\">\n",
       "</span><span style=\"background-color: rgba(255, 0, 0, 0.030); white-space: pre-wrap;\" title=\"KL: 0.030\">You</span><span style=\"background-color: rgba(255, 0, 0, 0.007); white-space: pre-wrap;\" title=\"KL: 0.007\"> are</span><span style=\"background-color: rgba(255, 0, 0, 0.006); white-space: pre-wrap;\" title=\"KL: 0.006\"> working</span><span style=\"background-color: rgba(255, 0, 0, 0.002); white-space: pre-wrap;\" title=\"KL: 0.002\"> out</span><span style=\"background-color: rgba(255, 0, 0, 0.025); white-space: pre-wrap;\" title=\"KL: 0.025\"> error</span><span style=\"background-color: rgba(255, 0, 0, 0.016); white-space: pre-wrap;\" title=\"KL: 0.016\"> analysis</span><span style=\"background-color: rgba(255, 0, 0, 0.011); white-space: pre-wrap;\" title=\"KL: 0.011\"> and</span><span style=\"background-color: rgba(255, 0, 0, 0.065); white-space: pre-wrap;\" title=\"KL: 0.065\"> counting</span><span style=\"background-color: rgba(255, 0, 0, 0.009); white-space: pre-wrap;\" title=\"KL: 0.009\"> up</span><span style=\"background-color: rgba(255, 0, 0, 0.014); white-space: pre-wrap;\" title=\"KL: 0.014\"> what</span><span style=\"background-color: rgba(255, 0, 0, 0.007); white-space: pre-wrap;\" title=\"KL: 0.007\"> errors</span><span style=\"background-color: rgba(255, 0, 0, 0.015); white-space: pre-wrap;\" title=\"KL: 0.015\"> the</span><span style=\"background-color: rgba(255, 0, 0, 0.037); white-space: pre-wrap;\" title=\"KL: 0.037\"> algorithm</span><span style=\"background-color: rgba(255, 0, 0, 0.007); white-space: pre-wrap;\" title=\"KL: 0.007\"> makes</span><span style=\"background-color: rgba(255, 0, 0, 0.012); white-space: pre-wrap;\" title=\"KL: 0.012\">.</span><span style=\"background-color: rgba(255, 0, 0, 0.005); white-space: pre-wrap;\" title=\"KL: 0.005\"> Which</span><span style=\"background-color: rgba(255, 0, 0, 0.025); white-space: pre-wrap;\" title=\"KL: 0.025\"> of</span><span style=\"background-color: rgba(255, 0, 0, 0.000); white-space: pre-wrap;\" title=\"KL: 0.000\"> the</span><span style=\"background-color: rgba(255, 0, 0, 0.001); white-space: pre-wrap;\" title=\"KL: 0.001\"> following</span><span style=\"background-color: rgba(255, 0, 0, 0.038); white-space: pre-wrap;\" title=\"KL: 0.038\"> do</span><span style=\"background-color: rgba(255, 0, 0, 0.002); white-space: pre-wrap;\" title=\"KL: 0.002\"> you</span><span style=\"background-color: rgba(255, 0, 0, 0.009); white-space: pre-wrap;\" title=\"KL: 0.009\"> think</span><span style=\"background-color: rgba(255, 0, 0, 0.006); white-space: pre-wrap;\" title=\"KL: 0.006\"> you</span><span style=\"background-color: rgba(255, 0, 0, 0.007); white-space: pre-wrap;\" title=\"KL: 0.007\"> should</span><span style=\"background-color: rgba(255, 0, 0, 0.011); white-space: pre-wrap;\" title=\"KL: 0.011\"> manually</span><span style=\"background-color: rgba(255, 0, 0, 0.006); white-space: pre-wrap;\" title=\"KL: 0.006\"> go</span><span style=\"background-color: rgba(255, 0, 0, 0.004); white-space: pre-wrap;\" title=\"KL: 0.004\"> through</span><span style=\"background-color: rgba(255, 0, 0, 0.014); white-space: pre-wrap;\" title=\"KL: 0.014\"> and</span><span style=\"background-color: rgba(255, 0, 0, 0.018); white-space: pre-wrap;\" title=\"KL: 0.018\"> carefully</span><span style=\"background-color: rgba(255, 0, 0, 0.006); white-space: pre-wrap;\" title=\"KL: 0.006\"> examine</span><span style=\"background-color: rgba(255, 0, 0, 0.025); white-space: pre-wrap;\" title=\"KL: 0.025\">,</span><span style=\"background-color: rgba(255, 0, 0, 0.026); white-space: pre-wrap;\" title=\"KL: 0.026\"> one</span><span style=\"background-color: rgba(255, 0, 0, 0.005); white-space: pre-wrap;\" title=\"KL: 0.005\"> image</span><span style=\"background-color: rgba(255, 0, 0, 0.008); white-space: pre-wrap;\" title=\"KL: 0.008\"> at</span><span style=\"background-color: rgba(255, 0, 0, 0.000); white-space: pre-wrap;\" title=\"KL: 0.000\"> a</span><span style=\"background-color: rgba(255, 0, 0, 0.000); white-space: pre-wrap;\" title=\"KL: 0.000\"> time</span><span style=\"background-color: rgba(255, 0, 0, 0.008); white-space: pre-wrap;\" title=\"KL: 0.008\">?</span><span style=\"background-color: rgba(255, 0, 0, 0.001); white-space: pre-wrap;\" title=\"KL: 0.001\">\n",
       "\n",
       "</span><span style=\"background-color: rgba(255, 0, 0, 0.019); white-space: pre-wrap;\" title=\"KL: 0.019\">5</span><span style=\"background-color: rgba(255, 0, 0, 0.035); white-space: pre-wrap;\" title=\"KL: 0.035\">0</span><span style=\"background-color: rgba(255, 0, 0, 0.011); white-space: pre-wrap;\" title=\"KL: 0.011\">0</span><span style=\"background-color: rgba(255, 0, 0, 0.008); white-space: pre-wrap;\" title=\"KL: 0.008\"> images</span><span style=\"background-color: rgba(255, 0, 0, 0.011); white-space: pre-wrap;\" title=\"KL: 0.011\"> of</span><span style=\"background-color: rgba(255, 0, 0, 0.017); white-space: pre-wrap;\" title=\"KL: 0.017\"> the</span><span style=\"background-color: rgba(255, 0, 0, 0.030); white-space: pre-wrap;\" title=\"KL: 0.030\"> test</span><span style=\"background-color: rgba(255, 0, 0, 0.001); white-space: pre-wrap;\" title=\"KL: 0.001\"> set</span><span style=\"background-color: rgba(255, 0, 0, 0.013); white-space: pre-wrap;\" title=\"KL: 0.013\">,</span><span style=\"background-color: rgba(255, 0, 0, 0.039); white-space: pre-wrap;\" title=\"KL: 0.039\"> on</span><span style=\"background-color: rgba(255, 0, 0, 0.006); white-space: pre-wrap;\" title=\"KL: 0.006\"> which</span><span style=\"background-color: rgba(255, 0, 0, 0.030); white-space: pre-wrap;\" title=\"KL: 0.030\"> the</span><span style=\"background-color: rgba(255, 0, 0, 0.005); white-space: pre-wrap;\" title=\"KL: 0.005\"> algorithm</span><span style=\"background-color: rgba(255, 0, 0, 0.004); white-space: pre-wrap;\" title=\"KL: 0.004\"> made</span><span style=\"background-color: rgba(255, 0, 0, 0.007); white-space: pre-wrap;\" title=\"KL: 0.007\"> a</span><span style=\"background-color: rgba(255, 0, 0, 0.015); white-space: pre-wrap;\" title=\"KL: 0.015\"> mistake</span><span style=\"background-color: rgba(255, 0, 0, 0.016); white-space: pre-wrap;\" title=\"KL: 0.016\">.</span><span style=\"background-color: rgba(255, 0, 0, 0.017); white-space: pre-wrap;\" title=\"KL: 0.017\">\n",
       "\n",
       "</span><span style=\"background-color: rgba(255, 0, 0, 0.015); white-space: pre-wrap;\" title=\"KL: 0.015\">5</span><span style=\"background-color: rgba(255, 0, 0, 0.001); white-space: pre-wrap;\" title=\"KL: 0.001\">0</span><span style=\"background-color: rgba(255, 0, 0, 0.153); white-space: pre-wrap;\" title=\"KL: 0.153\">0</span><span style=\"background-color: rgba(255, 0, 0, 0.018); white-space: pre-wrap;\" title=\"KL: 0.018\"> images</span><span style=\"background-color: rgba(255, 0, 0, 0.006); white-space: pre-wrap;\" title=\"KL: 0.006\"> of</span><span style=\"background-color: rgba(255, 0, 0, 0.008); white-space: pre-wrap;\" title=\"KL: 0.008\"> the</span><span style=\"background-color: rgba(255, 0, 0, 0.228); white-space: pre-wrap;\" title=\"KL: 0.228\"> train</span><span style=\"background-color: rgba(255, 0, 0, 0.008); white-space: pre-wrap;\" title=\"KL: 0.008\"> set</span><span style=\"background-color: rgba(255, 0, 0, 0.014); white-space: pre-wrap;\" title=\"KL: 0.014\">,</span><span style=\"background-color: rgba(255, 0, 0, 0.003); white-space: pre-wrap;\" title=\"KL: 0.003\"> on</span><span style=\"background-color: rgba(255, 0, 0, 0.000); white-space: pre-wrap;\" title=\"KL: 0.000\"> which</span><span style=\"background-color: rgba(255, 0, 0, 0.000); white-space: pre-wrap;\" title=\"KL: 0.000\"> the</span><span style=\"background-color: rgba(255, 0, 0, 0.000); white-space: pre-wrap;\" title=\"KL: 0.000\"> algorithm</span><span style=\"background-color: rgba(255, 0, 0, 0.000); white-space: pre-wrap;\" title=\"KL: 0.000\"> made</span><span style=\"background-color: rgba(255, 0, 0, 0.002); white-space: pre-wrap;\" title=\"KL: 0.002\"> a</span><span style=\"background-color: rgba(255, 0, 0, 0.000); white-space: pre-wrap;\" title=\"KL: 0.000\"> mistake</span><span style=\"background-color: rgba(255, 0, 0, 0.003); white-space: pre-wrap;\" title=\"KL: 0.003\">.</span><span style=\"background-color: rgba(255, 0, 0, 0.004); white-space: pre-wrap;\" title=\"KL: 0.004\">\n",
       "\n",
       "</span><span style=\"background-color: rgba(255, 0, 0, 0.026); white-space: pre-wrap;\" title=\"KL: 0.026\">5</span><span style=\"background-color: rgba(255, 0, 0, 0.012); white-space: pre-wrap;\" title=\"KL: 0.012\">0</span><span style=\"background-color: rgba(255, 0, 0, 0.004); white-space: pre-wrap;\" title=\"KL: 0.004\">0</span><span style=\"background-color: rgba(255, 0, 0, 0.007); white-space: pre-wrap;\" title=\"KL: 0.007\"> images</span><span style=\"background-color: rgba(255, 0, 0, 0.015); white-space: pre-wrap;\" title=\"KL: 0.015\"> of</span><span style=\"background-color: rgba(255, 0, 0, 0.016); white-space: pre-wrap;\" title=\"KL: 0.016\"> the</span><span style=\"background-color: rgba(255, 0, 0, 0.017); white-space: pre-wrap;\" title=\"KL: 0.017\"> dev</span><span style=\"background-color: rgba(255, 0, 0, 0.003); white-space: pre-wrap;\" title=\"KL: 0.003\"> set</span><span style=\"background-color: rgba(255, 0, 0, 0.001); white-space: pre-wrap;\" title=\"KL: 0.001\">,</span><span style=\"background-color: rgba(255, 0, 0, 0.000); white-space: pre-wrap;\" title=\"KL: 0.000\"> on</span><span style=\"background-color: rgba(255, 0, 0, 0.000); white-space: pre-wrap;\" title=\"KL: 0.000\"> which</span><span style=\"background-color: rgba(255, 0, 0, 0.000); white-space: pre-wrap;\" title=\"KL: 0.000\"> the</span><span style=\"background-color: rgba(255, 0, 0, 0.023); white-space: pre-wrap;\" title=\"KL: 0.023\"> algorithm</span><span style=\"background-color: rgba(255, 0, 0, 0.000); white-space: pre-wrap;\" title=\"KL: 0.000\"> made</span><span style=\"background-color: rgba(255, 0, 0, 0.000); white-space: pre-wrap;\" title=\"KL: 0.000\"> a</span><span style=\"background-color: rgba(255, 0, 0, 0.169); white-space: pre-wrap;\" title=\"KL: 0.169\"> mistake</span><span style=\"background-color: rgba(255, 0, 0, 0.001); white-space: pre-wrap;\" title=\"KL: 0.001\">.</span><span style=\"background-color: rgba(255, 0, 0, 0.001); white-space: pre-wrap;\" title=\"KL: 0.001\">\n",
       "\n",
       "</span><span style=\"background-color: rgba(255, 0, 0, 0.027); white-space: pre-wrap;\" title=\"KL: 0.027\">5</span><span style=\"background-color: rgba(255, 0, 0, 0.008); white-space: pre-wrap;\" title=\"KL: 0.008\">0</span><span style=\"background-color: rgba(255, 0, 0, 0.002); white-space: pre-wrap;\" title=\"KL: 0.002\">0</span><span style=\"background-color: rgba(255, 0, 0, 0.007); white-space: pre-wrap;\" title=\"KL: 0.007\"> images</span><span style=\"background-color: rgba(255, 0, 0, 0.010); white-space: pre-wrap;\" title=\"KL: 0.010\"> of</span><span style=\"background-color: rgba(255, 0, 0, 0.036); white-space: pre-wrap;\" title=\"KL: 0.036\"> the</span><span style=\"background-color: rgba(255, 0, 0, 0.032); white-space: pre-wrap;\" title=\"KL: 0.032\"> training</span><span style=\"background-color: rgba(255, 0, 0, 0.012); white-space: pre-wrap;\" title=\"KL: 0.012\">-</span><span style=\"background-color: rgba(255, 0, 0, 0.016); white-space: pre-wrap;\" title=\"KL: 0.016\">dev</span><span style=\"background-color: rgba(255, 0, 0, 0.017); white-space: pre-wrap;\" title=\"KL: 0.017\"> set</span><span style=\"background-color: rgba(255, 0, 0, 0.016); white-space: pre-wrap;\" title=\"KL: 0.016\">,</span><span style=\"background-color: rgba(255, 0, 0, 0.001); white-space: pre-wrap;\" title=\"KL: 0.001\"> on</span><span style=\"background-color: rgba(255, 0, 0, 0.000); white-space: pre-wrap;\" title=\"KL: 0.000\"> which</span><span style=\"background-color: rgba(255, 0, 0, 0.001); white-space: pre-wrap;\" title=\"KL: 0.001\"> the</span><span style=\"background-color: rgba(255, 0, 0, 0.003); white-space: pre-wrap;\" title=\"KL: 0.003\"> algorithm</span><span style=\"background-color: rgba(255, 0, 0, 0.000); white-space: pre-wrap;\" title=\"KL: 0.000\"> made</span><span style=\"background-color: rgba(255, 0, 0, 0.001); white-space: pre-wrap;\" title=\"KL: 0.001\"> a</span><span style=\"background-color: rgba(255, 0, 0, 0.000); white-space: pre-wrap;\" title=\"KL: 0.000\"> mistake</span><span style=\"background-color: rgba(255, 0, 0, 0.004); white-space: pre-wrap;\" title=\"KL: 0.004\">.</span><span style=\"background-color: rgba(255, 0, 0, 0.009); white-space: pre-wrap;\" title=\"KL: 0.009\">&lt;end_of_turn&gt;</span><span style=\"background-color: rgba(255, 0, 0, 0.006); white-space: pre-wrap;\" title=\"KL: 0.006\">\n",
       "</span><span style=\"background-color: rgba(255, 0, 0, 0.131); white-space: pre-wrap;\" title=\"KL: 0.131\">&lt;start_of_turn&gt;</span><span style=\"background-color: rgba(255, 0, 0, 0.003); white-space: pre-wrap;\" title=\"KL: 0.003\">model</span><span style=\"background-color: rgba(255, 0, 0, 0.078); white-space: pre-wrap;\" title=\"KL: 0.078\">\n",
       "</span><span style=\"background-color: rgba(255, 0, 0, 0.004); white-space: pre-wrap;\" title=\"KL: 0.004\">You</span><span style=\"background-color: rgba(255, 0, 0, 0.000); white-space: pre-wrap;\" title=\"KL: 0.000\"> should</span><span style=\"background-color: rgba(255, 0, 0, 0.059); white-space: pre-wrap;\" title=\"KL: 0.059\"> manually</span><span style=\"background-color: rgba(255, 0, 0, 0.107); white-space: pre-wrap;\" title=\"KL: 0.107\"> go</span><span style=\"background-color: rgba(255, 0, 0, 0.000); white-space: pre-wrap;\" title=\"KL: 0.000\"> through</span><span style=\"background-color: rgba(255, 0, 0, 0.777); white-space: pre-wrap;\" title=\"KL: 0.777\"> **</span><span style=\"background-color: rgba(255, 0, 0, 0.021); white-space: pre-wrap;\" title=\"KL: 0.021\">5</span><span style=\"background-color: rgba(255, 0, 0, 0.001); white-space: pre-wrap;\" title=\"KL: 0.001\">0</span><span style=\"background-color: rgba(255, 0, 0, 0.000); white-space: pre-wrap;\" title=\"KL: 0.000\">0</span><span style=\"background-color: rgba(255, 0, 0, 0.000); white-space: pre-wrap;\" title=\"KL: 0.000\"> images</span><span style=\"background-color: rgba(255, 0, 0, 0.000); white-space: pre-wrap;\" title=\"KL: 0.000\"> of</span><span style=\"background-color: rgba(255, 0, 0, 0.001); white-space: pre-wrap;\" title=\"KL: 0.001\"> the</span><span style=\"background-color: rgba(255, 0, 0, 0.434); white-space: pre-wrap;\" title=\"KL: 0.434\"> test</span><span style=\"background-color: rgba(255, 0, 0, 0.000); white-space: pre-wrap;\" title=\"KL: 0.000\"> set</span><span style=\"background-color: rgba(255, 0, 0, 0.002); white-space: pre-wrap;\" title=\"KL: 0.002\">,</span><span style=\"background-color: rgba(255, 0, 0, 0.000); white-space: pre-wrap;\" title=\"KL: 0.000\"> on</span><span style=\"background-color: rgba(255, 0, 0, 0.000); white-space: pre-wrap;\" title=\"KL: 0.000\"> which</span><span style=\"background-color: rgba(255, 0, 0, 0.000); white-space: pre-wrap;\" title=\"KL: 0.000\"> the</span><span style=\"background-color: rgba(255, 0, 0, 0.000); white-space: pre-wrap;\" title=\"KL: 0.000\"> algorithm</span><span style=\"background-color: rgba(255, 0, 0, 0.000); white-space: pre-wrap;\" title=\"KL: 0.000\"> made</span><span style=\"background-color: rgba(255, 0, 0, 0.000); white-space: pre-wrap;\" title=\"KL: 0.000\"> a</span><span style=\"background-color: rgba(255, 0, 0, 0.000); white-space: pre-wrap;\" title=\"KL: 0.000\"> mistake</span><span style=\"background-color: rgba(255, 0, 0, 0.003); white-space: pre-wrap;\" title=\"KL: 0.003\">.**</span><span style=\"background-color: rgba(255, 0, 0, 0.004); white-space: pre-wrap;\" title=\"KL: 0.004\"> </span><span style=\"background-color: rgba(255, 0, 0, 0.000); white-space: pre-wrap;\" title=\"KL: 0.000\">\n",
       "\n",
       "</span><span style=\"background-color: rgba(255, 0, 0, 0.000); white-space: pre-wrap;\" title=\"KL: 0.000\">Here</span><span style=\"background-color: rgba(255, 0, 0, 0.000); white-space: pre-wrap;\" title=\"KL: 0.000\">'</span><span style=\"background-color: rgba(255, 0, 0, 0.000); white-space: pre-wrap;\" title=\"KL: -0.000\">s</span><span style=\"background-color: rgba(255, 0, 0, 0.000); white-space: pre-wrap;\" title=\"KL: 0.000\"> why</span><span style=\"background-color: rgba(255, 0, 0, 0.000); white-space: pre-wrap;\" title=\"KL: 0.000\">:</span><span style=\"background-color: rgba(255, 0, 0, 0.000); white-space: pre-wrap;\" title=\"KL: 0.000\">\n",
       "\n",
       "</span><span style=\"background-color: rgba(255, 0, 0, 0.000); white-space: pre-wrap;\" title=\"KL: 0.000\">*</span><span style=\"background-color: rgba(255, 0, 0, 0.000); white-space: pre-wrap;\" title=\"KL: 0.000\"> **</span><span style=\"background-color: rgba(255, 0, 0, 0.000); white-space: pre-wrap;\" title=\"KL: 0.000\">Test</span>"
      ],
      "text/plain": [
       "<IPython.core.display.HTML object>"
      ]
     },
     "metadata": {},
     "output_type": "display_data"
    },
    {
     "name": "stdout",
     "output_type": "stream",
     "text": [
      "High KL: 0.7773 at token ' **'\\n\n"
     ]
    },
    {
     "data": {
      "text/html": [
       "<style type=\"text/css\">\n",
       "#T_274cb th {\n",
       "  text-align: left;\n",
       "}\n",
       "#T_274cb_row0_col0, #T_274cb_row1_col0 {\n",
       "  background-color: lightgreen;\n",
       "  text-align: left;\n",
       "}\n",
       "#T_274cb_row0_col1, #T_274cb_row0_col2, #T_274cb_row1_col1, #T_274cb_row1_col2, #T_274cb_row2_col1, #T_274cb_row2_col2, #T_274cb_row3_col1, #T_274cb_row3_col2, #T_274cb_row4_col1, #T_274cb_row4_col2 {\n",
       "  text-align: left;\n",
       "}\n",
       "#T_274cb_row2_col0, #T_274cb_row3_col0, #T_274cb_row4_col0 {\n",
       "  background-color: lightcoral;\n",
       "  text-align: left;\n",
       "}\n",
       "</style>\n",
       "<table id=\"T_274cb\">\n",
       "  <thead>\n",
       "    <tr>\n",
       "      <th class=\"blank level0\" >&nbsp;</th>\n",
       "      <th id=\"T_274cb_level0_col0\" class=\"col_heading level0 col0\" >Token</th>\n",
       "      <th id=\"T_274cb_level0_col1\" class=\"col_heading level0 col1\" >p_HS</th>\n",
       "      <th id=\"T_274cb_level0_col2\" class=\"col_heading level0 col2\" >p_B</th>\n",
       "    </tr>\n",
       "  </thead>\n",
       "  <tbody>\n",
       "    <tr>\n",
       "      <th id=\"T_274cb_level0_row0\" class=\"row_heading level0 row0\" >0</th>\n",
       "      <td id=\"T_274cb_row0_col0\" class=\"data row0 col0\" > and</td>\n",
       "      <td id=\"T_274cb_row0_col1\" class=\"data row0 col1\" >0.026</td>\n",
       "      <td id=\"T_274cb_row0_col2\" class=\"data row0 col2\" >0.508</td>\n",
       "    </tr>\n",
       "    <tr>\n",
       "      <th id=\"T_274cb_level0_row1\" class=\"row_heading level0 row1\" >1</th>\n",
       "      <td id=\"T_274cb_row1_col0\" class=\"data row1 col0\" > </td>\n",
       "      <td id=\"T_274cb_row1_col1\" class=\"data row1 col1\" >0.002</td>\n",
       "      <td id=\"T_274cb_row1_col2\" class=\"data row1 col2\" >0.003</td>\n",
       "    </tr>\n",
       "    <tr>\n",
       "      <th id=\"T_274cb_level0_row2\" class=\"row_heading level0 row2\" >2</th>\n",
       "      <td id=\"T_274cb_row2_col0\" class=\"data row2 col0\" > **</td>\n",
       "      <td id=\"T_274cb_row2_col1\" class=\"data row2 col1\" >0.416</td>\n",
       "      <td id=\"T_274cb_row2_col2\" class=\"data row2 col2\" >0.352</td>\n",
       "    </tr>\n",
       "    <tr>\n",
       "      <th id=\"T_274cb_level0_row3\" class=\"row_heading level0 row3\" >3</th>\n",
       "      <td id=\"T_274cb_row3_col0\" class=\"data row3 col0\" > images</td>\n",
       "      <td id=\"T_274cb_row3_col1\" class=\"data row3 col1\" >0.004</td>\n",
       "      <td id=\"T_274cb_row3_col2\" class=\"data row3 col2\" >0.002</td>\n",
       "    </tr>\n",
       "    <tr>\n",
       "      <th id=\"T_274cb_level0_row4\" class=\"row_heading level0 row4\" >4</th>\n",
       "      <td id=\"T_274cb_row4_col0\" class=\"data row4 col0\" > the</td>\n",
       "      <td id=\"T_274cb_row4_col1\" class=\"data row4 col1\" >0.551</td>\n",
       "      <td id=\"T_274cb_row4_col2\" class=\"data row4 col2\" >0.133</td>\n",
       "    </tr>\n",
       "  </tbody>\n",
       "</table>\n"
      ],
      "text/plain": [
       "<IPython.core.display.HTML object>"
      ]
     },
     "metadata": {},
     "output_type": "display_data"
    },
    {
     "name": "stdout",
     "output_type": "stream",
     "text": [
      "--------------------------------------------------------------------------------------------------------------------------------------------------------------------------------------------------------\n"
     ]
    },
    {
     "data": {
      "text/html": [
       "&lt;bos&gt;<span style=\"background-color: rgba(255, 0, 0, 0.000); white-space: pre-wrap;\" title=\"KL: 0.000\">&lt;start_of_turn&gt;</span><span style=\"background-color: rgba(255, 0, 0, 0.009); white-space: pre-wrap;\" title=\"KL: 0.009\">user</span><span style=\"background-color: rgba(255, 0, 0, 0.041); white-space: pre-wrap;\" title=\"KL: 0.041\">\n",
       "</span><span style=\"background-color: rgba(255, 0, 0, 0.030); white-space: pre-wrap;\" title=\"KL: 0.030\">Please</span><span style=\"background-color: rgba(255, 0, 0, 0.007); white-space: pre-wrap;\" title=\"KL: 0.007\"> write</span><span style=\"background-color: rgba(255, 0, 0, 0.001); white-space: pre-wrap;\" title=\"KL: 0.001\"> a</span><span style=\"background-color: rgba(255, 0, 0, 0.003); white-space: pre-wrap;\" title=\"KL: 0.003\"> poem</span><span style=\"background-color: rgba(255, 0, 0, 0.001); white-space: pre-wrap;\" title=\"KL: 0.001\"> on</span><span style=\"background-color: rgba(255, 0, 0, 0.004); white-space: pre-wrap;\" title=\"KL: 0.004\"> a</span><span style=\"background-color: rgba(255, 0, 0, 0.007); white-space: pre-wrap;\" title=\"KL: 0.007\"> rainy</span><span style=\"background-color: rgba(255, 0, 0, 0.001); white-space: pre-wrap;\" title=\"KL: 0.001\"> morning</span><span style=\"background-color: rgba(255, 0, 0, 0.002); white-space: pre-wrap;\" title=\"KL: 0.002\">&lt;end_of_turn&gt;</span><span style=\"background-color: rgba(255, 0, 0, 0.000); white-space: pre-wrap;\" title=\"KL: 0.000\">\n",
       "</span><span style=\"background-color: rgba(255, 0, 0, 0.007); white-space: pre-wrap;\" title=\"KL: 0.007\">&lt;start_of_turn&gt;</span><span style=\"background-color: rgba(255, 0, 0, 0.001); white-space: pre-wrap;\" title=\"KL: 0.001\">model</span><span style=\"background-color: rgba(255, 0, 0, 0.009); white-space: pre-wrap;\" title=\"KL: 0.009\">\n",
       "</span><span style=\"background-color: rgba(255, 0, 0, 0.003); white-space: pre-wrap;\" title=\"KL: 0.003\">The</span><span style=\"background-color: rgba(255, 0, 0, 0.007); white-space: pre-wrap;\" title=\"KL: 0.007\"> sky</span><span style=\"background-color: rgba(255, 0, 0, 0.001); white-space: pre-wrap;\" title=\"KL: 0.001\">,</span><span style=\"background-color: rgba(255, 0, 0, 0.000); white-space: pre-wrap;\" title=\"KL: 0.000\"> a</span><span style=\"background-color: rgba(255, 0, 0, 0.002); white-space: pre-wrap;\" title=\"KL: 0.002\"> canvas</span><span style=\"background-color: rgba(255, 0, 0, 0.060); white-space: pre-wrap;\" title=\"KL: 0.060\"> washed</span><span style=\"background-color: rgba(255, 0, 0, 0.001); white-space: pre-wrap;\" title=\"KL: 0.001\"> in</span><span style=\"background-color: rgba(255, 0, 0, 0.001); white-space: pre-wrap;\" title=\"KL: 0.001\"> gray</span><span style=\"background-color: rgba(255, 0, 0, 0.002); white-space: pre-wrap;\" title=\"KL: 0.002\">,</span><span style=\"background-color: rgba(255, 0, 0, 0.000); white-space: pre-wrap;\" title=\"KL: 0.000\">\n",
       "</span><span style=\"background-color: rgba(255, 0, 0, 0.068); white-space: pre-wrap;\" title=\"KL: 0.068\">Un</span><span style=\"background-color: rgba(255, 0, 0, 0.005); white-space: pre-wrap;\" title=\"KL: 0.005\">f</span><span style=\"background-color: rgba(255, 0, 0, 0.000); white-space: pre-wrap;\" title=\"KL: 0.000\">urls</span><span style=\"background-color: rgba(255, 0, 0, 0.016); white-space: pre-wrap;\" title=\"KL: 0.016\"> its</span><span style=\"background-color: rgba(255, 0, 0, 0.008); white-space: pre-wrap;\" title=\"KL: 0.008\"> tears</span><span style=\"background-color: rgba(255, 0, 0, 0.013); white-space: pre-wrap;\" title=\"KL: 0.013\"> on</span><span style=\"background-color: rgba(255, 0, 0, 0.035); white-space: pre-wrap;\" title=\"KL: 0.035\"> a</span><span style=\"background-color: rgba(255, 0, 0, 0.035); white-space: pre-wrap;\" title=\"KL: 0.035\"> world</span><span style=\"background-color: rgba(255, 0, 0, 0.007); white-space: pre-wrap;\" title=\"KL: 0.007\"> in</span><span style=\"background-color: rgba(255, 0, 0, 0.004); white-space: pre-wrap;\" title=\"KL: 0.004\"> play</span><span style=\"background-color: rgba(255, 0, 0, 0.000); white-space: pre-wrap;\" title=\"KL: 0.000\">.</span><span style=\"background-color: rgba(255, 0, 0, 0.000); white-space: pre-wrap;\" title=\"KL: 0.000\">\n",
       "</span><span style=\"background-color: rgba(255, 0, 0, 0.016); white-space: pre-wrap;\" title=\"KL: 0.016\">Ra</span><span style=\"background-color: rgba(255, 0, 0, 0.000); white-space: pre-wrap;\" title=\"KL: 0.000\">indrops</span><span style=\"background-color: rgba(255, 0, 0, 0.007); white-space: pre-wrap;\" title=\"KL: 0.007\"> fall</span><span style=\"background-color: rgba(255, 0, 0, 0.001); white-space: pre-wrap;\" title=\"KL: 0.001\">,</span><span style=\"background-color: rgba(255, 0, 0, 0.009); white-space: pre-wrap;\" title=\"KL: 0.009\"> a</span><span style=\"background-color: rgba(255, 0, 0, 0.005); white-space: pre-wrap;\" title=\"KL: 0.005\"> silent</span><span style=\"background-color: rgba(255, 0, 0, 0.012); white-space: pre-wrap;\" title=\"KL: 0.012\">,</span><span style=\"background-color: rgba(255, 0, 0, 0.028); white-space: pre-wrap;\" title=\"KL: 0.028\"> rhythmic</span><span style=\"background-color: rgba(255, 0, 0, 0.002); white-space: pre-wrap;\" title=\"KL: 0.002\"> beat</span><span style=\"background-color: rgba(255, 0, 0, 0.000); white-space: pre-wrap;\" title=\"KL: 0.000\">,</span><span style=\"background-color: rgba(255, 0, 0, 0.000); white-space: pre-wrap;\" title=\"KL: 0.000\">\n",
       "</span><span style=\"background-color: rgba(255, 0, 0, 0.006); white-space: pre-wrap;\" title=\"KL: 0.006\">Each</span><span style=\"background-color: rgba(255, 0, 0, 0.002); white-space: pre-wrap;\" title=\"KL: 0.002\"> drop</span><span style=\"background-color: rgba(255, 0, 0, 0.003); white-space: pre-wrap;\" title=\"KL: 0.003\"> a</span><span style=\"background-color: rgba(255, 0, 0, 0.051); white-space: pre-wrap;\" title=\"KL: 0.051\"> whispering</span><span style=\"background-color: rgba(255, 0, 0, 0.004); white-space: pre-wrap;\" title=\"KL: 0.004\"> promise</span><span style=\"background-color: rgba(255, 0, 0, 0.056); white-space: pre-wrap;\" title=\"KL: 0.056\"> to</span><span style=\"background-color: rgba(255, 0, 0, 0.067); white-space: pre-wrap;\" title=\"KL: 0.067\"> retreat</span><span style=\"background-color: rgba(255, 0, 0, 0.001); white-space: pre-wrap;\" title=\"KL: 0.001\">.</span><span style=\"background-color: rgba(255, 0, 0, 0.000); white-space: pre-wrap;\" title=\"KL: 0.000\">\n",
       "\n",
       "</span><span style=\"background-color: rgba(255, 0, 0, 0.006); white-space: pre-wrap;\" title=\"KL: 0.006\">The</span><span style=\"background-color: rgba(255, 0, 0, 0.006); white-space: pre-wrap;\" title=\"KL: 0.006\"> trees</span><span style=\"background-color: rgba(255, 0, 0, 0.005); white-space: pre-wrap;\" title=\"KL: 0.005\">,</span><span style=\"background-color: rgba(255, 0, 0, 0.028); white-space: pre-wrap;\" title=\"KL: 0.028\"> clad</span><span style=\"background-color: rgba(255, 0, 0, 0.012); white-space: pre-wrap;\" title=\"KL: 0.012\"> in</span><span style=\"background-color: rgba(255, 0, 0, 0.013); white-space: pre-wrap;\" title=\"KL: 0.013\"> silver</span><span style=\"background-color: rgba(255, 0, 0, 0.008); white-space: pre-wrap;\" title=\"KL: 0.008\">,</span><span style=\"background-color: rgba(255, 0, 0, 0.061); white-space: pre-wrap;\" title=\"KL: 0.061\"> shiver</span><span style=\"background-color: rgba(255, 0, 0, 0.064); white-space: pre-wrap;\" title=\"KL: 0.064\"> and</span><span style=\"background-color: rgba(255, 0, 0, 0.002); white-space: pre-wrap;\" title=\"KL: 0.002\"> sway</span><span style=\"background-color: rgba(255, 0, 0, 0.000); white-space: pre-wrap;\" title=\"KL: 0.000\">,</span><span style=\"background-color: rgba(255, 0, 0, 0.000); white-space: pre-wrap;\" title=\"KL: 0.000\">\n",
       "</span><span style=\"background-color: rgba(255, 0, 0, 0.002); white-space: pre-wrap;\" title=\"KL: 0.002\">As</span><span style=\"background-color: rgba(255, 0, 0, 0.017); white-space: pre-wrap;\" title=\"KL: 0.017\"> droplets</span><span style=\"background-color: rgba(255, 0, 0, 0.016); white-space: pre-wrap;\" title=\"KL: 0.016\"> dance</span><span style=\"background-color: rgba(255, 0, 0, 0.021); white-space: pre-wrap;\" title=\"KL: 0.021\"> upon</span><span style=\"background-color: rgba(255, 0, 0, 0.005); white-space: pre-wrap;\" title=\"KL: 0.005\"> their</span><span style=\"background-color: rgba(255, 0, 0, 0.002); white-space: pre-wrap;\" title=\"KL: 0.002\"> leafy</span><span style=\"background-color: rgba(255, 0, 0, 0.019); white-space: pre-wrap;\" title=\"KL: 0.019\"> inlay</span><span style=\"background-color: rgba(255, 0, 0, 0.000); white-space: pre-wrap;\" title=\"KL: 0.000\">.</span><span style=\"background-color: rgba(255, 0, 0, 0.000); white-space: pre-wrap;\" title=\"KL: 0.000\">\n",
       "</span><span style=\"background-color: rgba(255, 0, 0, 0.002); white-space: pre-wrap;\" title=\"KL: 0.002\">The</span><span style=\"background-color: rgba(255, 0, 0, 0.007); white-space: pre-wrap;\" title=\"KL: 0.007\"> pavement</span><span style=\"background-color: rgba(255, 0, 0, 0.028); white-space: pre-wrap;\" title=\"KL: 0.028\"> sings</span><span style=\"background-color: rgba(255, 0, 0, 0.015); white-space: pre-wrap;\" title=\"KL: 0.015\"> a</span><span style=\"background-color: rgba(255, 0, 0, 0.015); white-space: pre-wrap;\" title=\"KL: 0.015\"> damp</span><span style=\"background-color: rgba(255, 0, 0, 0.026); white-space: pre-wrap;\" title=\"KL: 0.026\">ened</span><span style=\"background-color: rgba(255, 0, 0, 0.043); white-space: pre-wrap;\" title=\"KL: 0.043\">,</span><span style=\"background-color: rgba(255, 0, 0, 0.087); white-space: pre-wrap;\" title=\"KL: 0.087\"> soft</span><span style=\"background-color: rgba(255, 0, 0, 0.017); white-space: pre-wrap;\" title=\"KL: 0.017\"> refrain</span><span style=\"background-color: rgba(255, 0, 0, 0.000); white-space: pre-wrap;\" title=\"KL: 0.000\">,</span><span style=\"background-color: rgba(255, 0, 0, 0.000); white-space: pre-wrap;\" title=\"KL: 0.000\">\n",
       "</span><span style=\"background-color: rgba(255, 0, 0, 0.005); white-space: pre-wrap;\" title=\"KL: 0.005\">A</span><span style=\"background-color: rgba(255, 0, 0, 0.002); white-space: pre-wrap;\" title=\"KL: 0.002\"> gentle</span><span style=\"background-color: rgba(255, 0, 0, 0.007); white-space: pre-wrap;\" title=\"KL: 0.007\">,</span><span style=\"background-color: rgba(255, 0, 0, 0.090); white-space: pre-wrap;\" title=\"KL: 0.090\"> melancholy</span><span style=\"background-color: rgba(255, 0, 0, 0.003); white-space: pre-wrap;\" title=\"KL: 0.003\">,</span><span style=\"background-color: rgba(255, 0, 0, 0.051); white-space: pre-wrap;\" title=\"KL: 0.051\"> whispered</span><span style=\"background-color: rgba(255, 0, 0, 0.008); white-space: pre-wrap;\" title=\"KL: 0.008\"> strain</span><span style=\"background-color: rgba(255, 0, 0, 0.000); white-space: pre-wrap;\" title=\"KL: 0.000\">.</span><span style=\"background-color: rgba(255, 0, 0, 0.000); white-space: pre-wrap;\" title=\"KL: 0.000\">\n",
       "\n",
       "</span><span style=\"background-color: rgba(255, 0, 0, 0.010); white-space: pre-wrap;\" title=\"KL: 0.010\">The</span><span style=\"background-color: rgba(255, 0, 0, 0.003); white-space: pre-wrap;\" title=\"KL: 0.003\"> air</span><span style=\"background-color: rgba(255, 0, 0, 0.009); white-space: pre-wrap;\" title=\"KL: 0.009\">,</span><span style=\"background-color: rgba(255, 0, 0, 0.050); white-space: pre-wrap;\" title=\"KL: 0.050\"> thick</span><span style=\"background-color: rgba(255, 0, 0, 0.004); white-space: pre-wrap;\" title=\"KL: 0.004\"> and</span><span style=\"background-color: rgba(255, 0, 0, 0.009); white-space: pre-wrap;\" title=\"KL: 0.009\"> crisp</span><span style=\"background-color: rgba(255, 0, 0, 0.001); white-space: pre-wrap;\" title=\"KL: 0.001\">,</span><span style=\"background-color: rgba(255, 0, 0, 0.084); white-space: pre-wrap;\" title=\"KL: 0.084\"> a</span><span style=\"background-color: rgba(255, 0, 0, 0.023); white-space: pre-wrap;\" title=\"KL: 0.023\"> misty</span><span style=\"background-color: rgba(255, 0, 0, 0.031); white-space: pre-wrap;\" title=\"KL: 0.031\"> embrace</span><span style=\"background-color: rgba(255, 0, 0, 0.000); white-space: pre-wrap;\" title=\"KL: 0.000\">,</span><span style=\"background-color: rgba(255, 0, 0, 0.000); white-space: pre-wrap;\" title=\"KL: 0.000\">\n",
       "</span><span style=\"background-color: rgba(255, 0, 0, 0.013); white-space: pre-wrap;\" title=\"KL: 0.013\">H</span><span style=\"background-color: rgba(255, 0, 0, 0.016); white-space: pre-wrap;\" title=\"KL: 0.016\">olds</span><span style=\"background-color: rgba(255, 0, 0, 0.007); white-space: pre-wrap;\" title=\"KL: 0.007\"> tight</span><span style=\"background-color: rgba(255, 0, 0, 0.032); white-space: pre-wrap;\" title=\"KL: 0.032\">,</span><span style=\"background-color: rgba(255, 0, 0, 0.061); white-space: pre-wrap;\" title=\"KL: 0.061\"> a</span><span style=\"background-color: rgba(255, 0, 0, 0.042); white-space: pre-wrap;\" title=\"KL: 0.042\"> world</span><span style=\"background-color: rgba(255, 0, 0, 0.042); white-space: pre-wrap;\" title=\"KL: 0.042\"> in</span><span style=\"background-color: rgba(255, 0, 0, 0.032); white-space: pre-wrap;\" title=\"KL: 0.032\"> twilight</span><span style=\"background-color: rgba(255, 0, 0, 0.005); white-space: pre-wrap;\" title=\"KL: 0.005\">'</span><span style=\"background-color: rgba(255, 0, 0, 0.000); white-space: pre-wrap;\" title=\"KL: 0.000\">s</span><span style=\"background-color: rgba(255, 0, 0, 0.305); white-space: pre-wrap;\" title=\"KL: 0.305\"> trace</span><span style=\"background-color: rgba(255, 0, 0, 0.000); white-space: pre-wrap;\" title=\"KL: 0.000\">.</span><span style=\"background-color: rgba(255, 0, 0, 0.000); white-space: pre-wrap;\" title=\"KL: 0.000\">\n",
       "</span><span style=\"background-color: rgba(255, 0, 0, 0.009); white-space: pre-wrap;\" title=\"KL: 0.009\">Sun</span><span style=\"background-color: rgba(255, 0, 0, 0.004); white-space: pre-wrap;\" title=\"KL: 0.004\">'</span><span style=\"background-color: rgba(255, 0, 0, 0.000); white-space: pre-wrap;\" title=\"KL: -0.000\">s</span><span style=\"background-color: rgba(255, 0, 0, 0.027); white-space: pre-wrap;\" title=\"KL: 0.027\"> warmth</span><span style=\"background-color: rgba(255, 0, 0, 0.018); white-space: pre-wrap;\" title=\"KL: 0.018\"> a</span><span style=\"background-color: rgba(255, 0, 0, 0.010); white-space: pre-wrap;\" title=\"KL: 0.010\"> distant</span><span style=\"background-color: rgba(255, 0, 0, 0.022); white-space: pre-wrap;\" title=\"KL: 0.022\"> memory</span><span style=\"background-color: rgba(255, 0, 0, 0.004); white-space: pre-wrap;\" title=\"KL: 0.004\"> held</span><span style=\"background-color: rgba(255, 0, 0, 0.061); white-space: pre-wrap;\" title=\"KL: 0.061\">,</span><span style=\"background-color: rgba(255, 0, 0, 0.000); white-space: pre-wrap;\" title=\"KL: 0.000\">\n",
       "</span><span style=\"background-color: rgba(255, 0, 0, 0.005); white-space: pre-wrap;\" title=\"KL: 0.005\">A</span><span style=\"background-color: rgba(255, 0, 0, 0.011); white-space: pre-wrap;\" title=\"KL: 0.011\"> drowsy</span><span style=\"background-color: rgba(255, 0, 0, 0.014); white-space: pre-wrap;\" title=\"KL: 0.014\"> stillness</span><span style=\"background-color: rgba(255, 0, 0, 0.005); white-space: pre-wrap;\" title=\"KL: 0.005\">,</span><span style=\"background-color: rgba(255, 0, 0, 0.168); white-space: pre-wrap;\" title=\"KL: 0.168\"> story</span><span style=\"background-color: rgba(255, 0, 0, 0.015); white-space: pre-wrap;\" title=\"KL: 0.015\"> yet</span><span style=\"background-color: rgba(255, 0, 0, 0.004); white-space: pre-wrap;\" title=\"KL: 0.004\"> untold</span><span style=\"background-color: rgba(255, 0, 0, 0.000); white-space: pre-wrap;\" title=\"KL: 0.000\">.</span><span style=\"background-color: rgba(255, 0, 0, 0.000); white-space: pre-wrap;\" title=\"KL: 0.000\">\n",
       "\n",
       "</span><span style=\"background-color: rgba(255, 0, 0, 0.034); white-space: pre-wrap;\" title=\"KL: 0.034\">Inside</span><span style=\"background-color: rgba(255, 0, 0, 0.002); white-space: pre-wrap;\" title=\"KL: 0.002\">,</span><span style=\"background-color: rgba(255, 0, 0, 0.017); white-space: pre-wrap;\" title=\"KL: 0.017\"> a</span><span style=\"background-color: rgba(255, 0, 0, 0.013); white-space: pre-wrap;\" title=\"KL: 0.013\"> warmth</span><span style=\"background-color: rgba(255, 0, 0, 0.044); white-space: pre-wrap;\" title=\"KL: 0.044\">,</span><span style=\"background-color: rgba(255, 0, 0, 0.028); white-space: pre-wrap;\" title=\"KL: 0.028\"> a</span><span style=\"background-color: rgba(255, 0, 0, 0.015); white-space: pre-wrap;\" title=\"KL: 0.015\"> fuzzy</span><span style=\"background-color: rgba(255, 0, 0, 0.184); white-space: pre-wrap;\" title=\"KL: 0.184\">,</span><span style=\"background-color: rgba(255, 0, 0, 0.045); white-space: pre-wrap;\" title=\"KL: 0.045\"> safe</span><span style=\"background-color: rgba(255, 0, 0, 0.008); white-space: pre-wrap;\" title=\"KL: 0.008\"> embrace</span><span style=\"background-color: rgba(255, 0, 0, 0.000); white-space: pre-wrap;\" title=\"KL: 0.000\">,</span><span style=\"background-color: rgba(255, 0, 0, 0.000); white-space: pre-wrap;\" title=\"KL: 0.000\">\n",
       "</span><span style=\"background-color: rgba(255, 0, 0, 0.011); white-space: pre-wrap;\" title=\"KL: 0.011\">A</span><span style=\"background-color: rgba(255, 0, 0, 0.006); white-space: pre-wrap;\" title=\"KL: 0.006\"> steaming</span><span style=\"background-color: rgba(255, 0, 0, 0.001); white-space: pre-wrap;\" title=\"KL: 0.001\"> mug</span><span style=\"background-color: rgba(255, 0, 0, 0.010); white-space: pre-wrap;\" title=\"KL: 0.010\"> held</span><span style=\"background-color: rgba(255, 0, 0, 0.037); white-space: pre-wrap;\" title=\"KL: 0.037\">,</span><span style=\"background-color: rgba(255, 0, 0, 0.040); white-space: pre-wrap;\" title=\"KL: 0.040\"> calm</span><span style=\"background-color: rgba(255, 0, 0, 0.022); white-space: pre-wrap;\" title=\"KL: 0.022\"> in</span><span style=\"background-color: rgba(255, 0, 0, 0.007); white-space: pre-wrap;\" title=\"KL: 0.007\"> this</span><span style=\"background-color: rgba(255, 0, 0, 0.154); white-space: pre-wrap;\" title=\"KL: 0.154\"> place</span><span style=\"background-color: rgba(255, 0, 0, 0.000); white-space: pre-wrap;\" title=\"KL: 0.000\">.</span><span style=\"background-color: rgba(255, 0, 0, 0.000); white-space: pre-wrap;\" title=\"KL: 0.000\">\n",
       "</span><span style=\"background-color: rgba(255, 0, 0, 0.006); white-space: pre-wrap;\" title=\"KL: 0.006\">As</span><span style=\"background-color: rgba(255, 0, 0, 0.011); white-space: pre-wrap;\" title=\"KL: 0.011\"> nature</span><span style=\"background-color: rgba(255, 0, 0, 0.040); white-space: pre-wrap;\" title=\"KL: 0.040\"> sighs</span><span style=\"background-color: rgba(255, 0, 0, 0.009); white-space: pre-wrap;\" title=\"KL: 0.009\"> her</span><span style=\"background-color: rgba(255, 0, 0, 0.052); white-space: pre-wrap;\" title=\"KL: 0.052\"> l</span><span style=\"background-color: rgba(255, 0, 0, 0.002); white-space: pre-wrap;\" title=\"KL: 0.002\">ulla</span><span style=\"background-color: rgba(255, 0, 0, 0.004); white-space: pre-wrap;\" title=\"KL: 0.004\">bies</span><span style=\"background-color: rgba(255, 0, 0, 0.108); white-space: pre-wrap;\" title=\"KL: 0.108\"> low</span><span style=\"background-color: rgba(255, 0, 0, 0.000); white-space: pre-wrap;\" title=\"KL: 0.000\">,</span><span style=\"background-color: rgba(255, 0, 0, 0.000); white-space: pre-wrap;\" title=\"KL: 0.000\">\n",
       "</span><span style=\"background-color: rgba(255, 0, 0, 0.007); white-space: pre-wrap;\" title=\"KL: 0.007\">A</span><span style=\"background-color: rgba(255, 0, 0, 0.008); white-space: pre-wrap;\" title=\"KL: 0.008\"> symphony</span><span style=\"background-color: rgba(255, 0, 0, 0.019); white-space: pre-wrap;\" title=\"KL: 0.019\"> of</span><span style=\"background-color: rgba(255, 0, 0, 0.007); white-space: pre-wrap;\" title=\"KL: 0.007\"> rain</span><span style=\"background-color: rgba(255, 0, 0, 0.006); white-space: pre-wrap;\" title=\"KL: 0.006\">,</span><span style=\"background-color: rgba(255, 0, 0, 0.052); white-space: pre-wrap;\" title=\"KL: 0.052\"> the</span><span style=\"background-color: rgba(255, 0, 0, 0.012); white-space: pre-wrap;\" title=\"KL: 0.012\"> world</span><span style=\"background-color: rgba(255, 0, 0, 0.013); white-space: pre-wrap;\" title=\"KL: 0.013\"> slow</span><span style=\"background-color: rgba(255, 0, 0, 0.003); white-space: pre-wrap;\" title=\"KL: 0.003\">-</span><span style=\"background-color: rgba(255, 0, 0, 0.169); white-space: pre-wrap;\" title=\"KL: 0.169\">grow</span><span style=\"background-color: rgba(255, 0, 0, 0.001); white-space: pre-wrap;\" title=\"KL: 0.001\">.</span><span style=\"background-color: rgba(255, 0, 0, 0.013); white-space: pre-wrap;\" title=\"KL: 0.013\">\n",
       "\n",
       "</span><span style=\"background-color: rgba(255, 0, 0, 0.026); white-space: pre-wrap;\" title=\"KL: 0.026\">And</span><span style=\"background-color: rgba(255, 0, 0, 0.026); white-space: pre-wrap;\" title=\"KL: 0.026\"> in</span><span style=\"background-color: rgba(255, 0, 0, 0.003); white-space: pre-wrap;\" title=\"KL: 0.003\"> this</span><span style=\"background-color: rgba(255, 0, 0, 0.006); white-space: pre-wrap;\" title=\"KL: 0.006\"> quiet</span><span style=\"background-color: rgba(255, 0, 0, 0.001); white-space: pre-wrap;\" title=\"KL: 0.001\">,</span><span style=\"background-color: rgba(255, 0, 0, 0.910); white-space: pre-wrap;\" title=\"KL: 0.910\"> a</span><span style=\"background-color: rgba(255, 0, 0, 0.013); white-space: pre-wrap;\" title=\"KL: 0.013\"> stillness</span><span style=\"background-color: rgba(255, 0, 0, 0.043); white-space: pre-wrap;\" title=\"KL: 0.043\"> profound</span><span style=\"background-color: rgba(255, 0, 0, 0.000); white-space: pre-wrap;\" title=\"KL: 0.000\">,</span><span style=\"background-color: rgba(255, 0, 0, 0.000); white-space: pre-wrap;\" title=\"KL: 0.000\">\n",
       "</span><span style=\"background-color: rgba(255, 0, 0, 0.004); white-space: pre-wrap;\" title=\"KL: 0.004\">Where</span><span style=\"background-color: rgba(255, 0, 0, 0.016); white-space: pre-wrap;\" title=\"KL: 0.016\"> even</span><span style=\"background-color: rgba(255, 0, 0, 0.021); white-space: pre-wrap;\" title=\"KL: 0.021\"> chaos</span><span style=\"background-color: rgba(255, 0, 0, 0.029); white-space: pre-wrap;\" title=\"KL: 0.029\"> finds</span><span style=\"background-color: rgba(255, 0, 0, 0.301); white-space: pre-wrap;\" title=\"KL: 0.301\"> peace</span><span style=\"background-color: rgba(255, 0, 0, 0.032); white-space: pre-wrap;\" title=\"KL: 0.032\"> all</span><span style=\"background-color: rgba(255, 0, 0, 0.001); white-space: pre-wrap;\" title=\"KL: 0.001\"> around</span><span style=\"background-color: rgba(255, 0, 0, 0.000); white-space: pre-wrap;\" title=\"KL: 0.000\">.</span><span style=\"background-color: rgba(255, 0, 0, 0.001); white-space: pre-wrap;\" title=\"KL: 0.001\">\n",
       "</span><span style=\"background-color: rgba(255, 0, 0, 0.019); white-space: pre-wrap;\" title=\"KL: 0.019\">For</span><span style=\"background-color: rgba(255, 0, 0, 0.007); white-space: pre-wrap;\" title=\"KL: 0.007\"> in</span><span style=\"background-color: rgba(255, 0, 0, 0.013); white-space: pre-wrap;\" title=\"KL: 0.013\"> the</span><span style=\"background-color: rgba(255, 0, 0, 0.001); white-space: pre-wrap;\" title=\"KL: 0.001\"> rain</span><span style=\"background-color: rgba(255, 0, 0, 0.028); white-space: pre-wrap;\" title=\"KL: 0.028\">,</span><span style=\"background-color: rgba(255, 0, 0, 0.014); white-space: pre-wrap;\" title=\"KL: 0.014\"> a</span><span style=\"background-color: rgba(255, 0, 0, 0.015); white-space: pre-wrap;\" title=\"KL: 0.015\"> canvas</span><span style=\"background-color: rgba(255, 0, 0, 0.077); white-space: pre-wrap;\" title=\"KL: 0.077\"> vast</span><span style=\"background-color: rgba(255, 0, 0, 0.009); white-space: pre-wrap;\" title=\"KL: 0.009\"> and</span><span style=\"background-color: rgba(255, 0, 0, 0.005); white-space: pre-wrap;\" title=\"KL: 0.005\"> wide</span><span style=\"background-color: rgba(255, 0, 0, 0.000); white-space: pre-wrap;\" title=\"KL: 0.000\">,</span><span style=\"background-color: rgba(255, 0, 0, 0.000); white-space: pre-wrap;\" title=\"KL: 0.000\">\n",
       "</span><span style=\"background-color: rgba(255, 0, 0, 0.007); white-space: pre-wrap;\" title=\"KL: 0.007\">A</span><span style=\"background-color: rgba(255, 0, 0, 0.010); white-space: pre-wrap;\" title=\"KL: 0.010\"> world</span><span style=\"background-color: rgba(255, 0, 0, 0.006); white-space: pre-wrap;\" title=\"KL: 0.006\"> reborn</span>"
      ],
      "text/plain": [
       "<IPython.core.display.HTML object>"
      ]
     },
     "metadata": {},
     "output_type": "display_data"
    },
    {
     "name": "stdout",
     "output_type": "stream",
     "text": [
      "High KL: 0.9102 at token ' a'\\n\n"
     ]
    },
    {
     "data": {
      "text/html": [
       "<style type=\"text/css\">\n",
       "#T_cb0b8 th {\n",
       "  text-align: left;\n",
       "}\n",
       "#T_cb0b8_row0_col0, #T_cb0b8_row1_col0, #T_cb0b8_row2_col0 {\n",
       "  background-color: lightgreen;\n",
       "  text-align: left;\n",
       "}\n",
       "#T_cb0b8_row0_col1, #T_cb0b8_row0_col2, #T_cb0b8_row1_col1, #T_cb0b8_row1_col2, #T_cb0b8_row2_col1, #T_cb0b8_row2_col2, #T_cb0b8_row3_col1, #T_cb0b8_row3_col2, #T_cb0b8_row4_col1, #T_cb0b8_row4_col2, #T_cb0b8_row5_col1, #T_cb0b8_row5_col2 {\n",
       "  text-align: left;\n",
       "}\n",
       "#T_cb0b8_row3_col0, #T_cb0b8_row4_col0, #T_cb0b8_row5_col0 {\n",
       "  background-color: lightcoral;\n",
       "  text-align: left;\n",
       "}\n",
       "</style>\n",
       "<table id=\"T_cb0b8\">\n",
       "  <thead>\n",
       "    <tr>\n",
       "      <th class=\"blank level0\" >&nbsp;</th>\n",
       "      <th id=\"T_cb0b8_level0_col0\" class=\"col_heading level0 col0\" >Token</th>\n",
       "      <th id=\"T_cb0b8_level0_col1\" class=\"col_heading level0 col1\" >p_HS</th>\n",
       "      <th id=\"T_cb0b8_level0_col2\" class=\"col_heading level0 col2\" >p_B</th>\n",
       "    </tr>\n",
       "  </thead>\n",
       "  <tbody>\n",
       "    <tr>\n",
       "      <th id=\"T_cb0b8_level0_row0\" class=\"row_heading level0 row0\" >0</th>\n",
       "      <td id=\"T_cb0b8_row0_col0\" class=\"data row0 col0\" > gentle</td>\n",
       "      <td id=\"T_cb0b8_row0_col1\" class=\"data row0 col1\" >0.003</td>\n",
       "      <td id=\"T_cb0b8_row0_col2\" class=\"data row0 col2\" >0.050</td>\n",
       "    </tr>\n",
       "    <tr>\n",
       "      <th id=\"T_cb0b8_level0_row1\" class=\"row_heading level0 row1\" >1</th>\n",
       "      <td id=\"T_cb0b8_row1_col0\" class=\"data row1 col0\" > this</td>\n",
       "      <td id=\"T_cb0b8_row1_col1\" class=\"data row1 col1\" >0.010</td>\n",
       "      <td id=\"T_cb0b8_row1_col2\" class=\"data row1 col2\" >0.058</td>\n",
       "    </tr>\n",
       "    <tr>\n",
       "      <th id=\"T_cb0b8_level0_row2\" class=\"row_heading level0 row2\" >2</th>\n",
       "      <td id=\"T_cb0b8_row2_col0\" class=\"data row2 col0\" > washed</td>\n",
       "      <td id=\"T_cb0b8_row2_col1\" class=\"data row2 col1\" >0.016</td>\n",
       "      <td id=\"T_cb0b8_row2_col2\" class=\"data row2 col2\" >0.063</td>\n",
       "    </tr>\n",
       "    <tr>\n",
       "      <th id=\"T_cb0b8_level0_row3\" class=\"row_heading level0 row3\" >3</th>\n",
       "      <td id=\"T_cb0b8_row3_col0\" class=\"data row3 col0\" > I</td>\n",
       "      <td id=\"T_cb0b8_row3_col1\" class=\"data row3 col1\" >0.028</td>\n",
       "      <td id=\"T_cb0b8_row3_col2\" class=\"data row3 col2\" >0.016</td>\n",
       "    </tr>\n",
       "    <tr>\n",
       "      <th id=\"T_cb0b8_level0_row4\" class=\"row_heading level0 row4\" >4</th>\n",
       "      <td id=\"T_cb0b8_row4_col0\" class=\"data row4 col0\" > the</td>\n",
       "      <td id=\"T_cb0b8_row4_col1\" class=\"data row4 col1\" >0.092</td>\n",
       "      <td id=\"T_cb0b8_row4_col2\" class=\"data row4 col2\" >0.033</td>\n",
       "    </tr>\n",
       "    <tr>\n",
       "      <th id=\"T_cb0b8_level0_row5\" class=\"row_heading level0 row5\" >5</th>\n",
       "      <td id=\"T_cb0b8_row5_col0\" class=\"data row5 col0\" > a</td>\n",
       "      <td id=\"T_cb0b8_row5_col1\" class=\"data row5 col1\" >0.508</td>\n",
       "      <td id=\"T_cb0b8_row5_col2\" class=\"data row5 col2\" >0.082</td>\n",
       "    </tr>\n",
       "  </tbody>\n",
       "</table>\n"
      ],
      "text/plain": [
       "<IPython.core.display.HTML object>"
      ]
     },
     "metadata": {},
     "output_type": "display_data"
    },
    {
     "name": "stdout",
     "output_type": "stream",
     "text": [
      "--------------------------------------------------------------------------------------------------------------------------------------------------------------------------------------------------------\n"
     ]
    },
    {
     "data": {
      "text/html": [
       "&lt;bos&gt;<span style=\"background-color: rgba(255, 0, 0, 0.000); white-space: pre-wrap;\" title=\"KL: 0.000\">&lt;start_of_turn&gt;</span><span style=\"background-color: rgba(255, 0, 0, 0.009); white-space: pre-wrap;\" title=\"KL: 0.009\">user</span><span style=\"background-color: rgba(255, 0, 0, 0.041); white-space: pre-wrap;\" title=\"KL: 0.041\">\n",
       "</span><span style=\"background-color: rgba(255, 0, 0, 0.030); white-space: pre-wrap;\" title=\"KL: 0.030\">write</span><span style=\"background-color: rgba(255, 0, 0, 0.001); white-space: pre-wrap;\" title=\"KL: 0.001\"> a</span><span style=\"background-color: rgba(255, 0, 0, 0.003); white-space: pre-wrap;\" title=\"KL: 0.003\"> song</span><span style=\"background-color: rgba(255, 0, 0, 0.001); white-space: pre-wrap;\" title=\"KL: 0.001\"> to</span><span style=\"background-color: rgba(255, 0, 0, 0.005); white-space: pre-wrap;\" title=\"KL: 0.005\"> the</span><span style=\"background-color: rgba(255, 0, 0, 0.039); white-space: pre-wrap;\" title=\"KL: 0.039\"> tune</span><span style=\"background-color: rgba(255, 0, 0, 0.000); white-space: pre-wrap;\" title=\"KL: 0.000\"> of</span><span style=\"background-color: rgba(255, 0, 0, 0.003); white-space: pre-wrap;\" title=\"KL: 0.003\"> \"</span><span style=\"background-color: rgba(255, 0, 0, 0.011); white-space: pre-wrap;\" title=\"KL: 0.011\">The</span><span style=\"background-color: rgba(255, 0, 0, 0.012); white-space: pre-wrap;\" title=\"KL: 0.012\"> sound</span><span style=\"background-color: rgba(255, 0, 0, 0.000); white-space: pre-wrap;\" title=\"KL: 0.000\"> of</span><span style=\"background-color: rgba(255, 0, 0, 0.001); white-space: pre-wrap;\" title=\"KL: 0.001\"> silence</span><span style=\"background-color: rgba(255, 0, 0, 0.002); white-space: pre-wrap;\" title=\"KL: 0.002\">\"</span><span style=\"background-color: rgba(255, 0, 0, 0.019); white-space: pre-wrap;\" title=\"KL: 0.019\"> but</span><span style=\"background-color: rgba(255, 0, 0, 0.046); white-space: pre-wrap;\" title=\"KL: 0.046\"> make</span><span style=\"background-color: rgba(255, 0, 0, 0.001); white-space: pre-wrap;\" title=\"KL: 0.001\"> the</span><span style=\"background-color: rgba(255, 0, 0, 0.027); white-space: pre-wrap;\" title=\"KL: 0.027\"> song</span><span style=\"background-color: rgba(255, 0, 0, 0.002); white-space: pre-wrap;\" title=\"KL: 0.002\"> lyrics</span><span style=\"background-color: rgba(255, 0, 0, 0.009); white-space: pre-wrap;\" title=\"KL: 0.009\"> about</span><span style=\"background-color: rgba(255, 0, 0, 0.006); white-space: pre-wrap;\" title=\"KL: 0.006\"> loud</span><span style=\"background-color: rgba(255, 0, 0, 0.008); white-space: pre-wrap;\" title=\"KL: 0.008\"> city</span><span style=\"background-color: rgba(255, 0, 0, 0.002); white-space: pre-wrap;\" title=\"KL: 0.002\"> noises</span><span style=\"background-color: rgba(255, 0, 0, 0.035); white-space: pre-wrap;\" title=\"KL: 0.035\"> like</span><span style=\"background-color: rgba(255, 0, 0, 0.021); white-space: pre-wrap;\" title=\"KL: 0.021\"> car</span><span style=\"background-color: rgba(255, 0, 0, 0.000); white-space: pre-wrap;\" title=\"KL: 0.000\"> horns</span><span style=\"background-color: rgba(255, 0, 0, 0.005); white-space: pre-wrap;\" title=\"KL: 0.005\"> and</span><span style=\"background-color: rgba(255, 0, 0, 0.007); white-space: pre-wrap;\" title=\"KL: 0.007\"> people</span><span style=\"background-color: rgba(255, 0, 0, 0.007); white-space: pre-wrap;\" title=\"KL: 0.007\"> chatting</span><span style=\"background-color: rgba(255, 0, 0, 0.035); white-space: pre-wrap;\" title=\"KL: 0.035\">&lt;end_of_turn&gt;</span><span style=\"background-color: rgba(255, 0, 0, 0.001); white-space: pre-wrap;\" title=\"KL: 0.001\">\n",
       "</span><span style=\"background-color: rgba(255, 0, 0, 0.011); white-space: pre-wrap;\" title=\"KL: 0.011\">&lt;start_of_turn&gt;</span><span style=\"background-color: rgba(255, 0, 0, 0.001); white-space: pre-wrap;\" title=\"KL: 0.001\">model</span><span style=\"background-color: rgba(255, 0, 0, 0.002); white-space: pre-wrap;\" title=\"KL: 0.002\">\n",
       "</span><span style=\"background-color: rgba(255, 0, 0, 0.004); white-space: pre-wrap;\" title=\"KL: 0.004\">(</span><span style=\"background-color: rgba(255, 0, 0, 0.011); white-space: pre-wrap;\" title=\"KL: 0.011\">Verse</span><span style=\"background-color: rgba(255, 0, 0, 0.000); white-space: pre-wrap;\" title=\"KL: 0.000\"> </span><span style=\"background-color: rgba(255, 0, 0, 0.000); white-space: pre-wrap;\" title=\"KL: 0.000\">1</span><span style=\"background-color: rgba(255, 0, 0, 0.000); white-space: pre-wrap;\" title=\"KL: 0.000\">)</span><span style=\"background-color: rgba(255, 0, 0, 0.000); white-space: pre-wrap;\" title=\"KL: 0.000\">\n",
       "</span><span style=\"background-color: rgba(255, 0, 0, 0.020); white-space: pre-wrap;\" title=\"KL: 0.020\">And</span><span style=\"background-color: rgba(255, 0, 0, 0.003); white-space: pre-wrap;\" title=\"KL: 0.003\"> I</span><span style=\"background-color: rgba(255, 0, 0, 0.027); white-space: pre-wrap;\" title=\"KL: 0.027\">'</span><span style=\"background-color: rgba(255, 0, 0, 0.017); white-space: pre-wrap;\" title=\"KL: 0.017\">d</span><span style=\"background-color: rgba(255, 0, 0, 0.046); white-space: pre-wrap;\" title=\"KL: 0.046\"> walk</span><span style=\"background-color: rgba(255, 0, 0, 0.008); white-space: pre-wrap;\" title=\"KL: 0.008\"> down</span><span style=\"background-color: rgba(255, 0, 0, 0.008); white-space: pre-wrap;\" title=\"KL: 0.008\"> this</span><span style=\"background-color: rgba(255, 0, 0, 0.004); white-space: pre-wrap;\" title=\"KL: 0.004\"> concrete</span><span style=\"background-color: rgba(255, 0, 0, 0.033); white-space: pre-wrap;\" title=\"KL: 0.033\"> street</span><span style=\"background-color: rgba(255, 0, 0, 0.012); white-space: pre-wrap;\" title=\"KL: 0.012\">,</span><span style=\"background-color: rgba(255, 0, 0, 0.026); white-space: pre-wrap;\" title=\"KL: 0.026\"> a</span><span style=\"background-color: rgba(255, 0, 0, 0.034); white-space: pre-wrap;\" title=\"KL: 0.034\"> jungle</span><span style=\"background-color: rgba(255, 0, 0, 0.058); white-space: pre-wrap;\" title=\"KL: 0.058\"> of</span><span style=\"background-color: rgba(255, 0, 0, 0.040); white-space: pre-wrap;\" title=\"KL: 0.040\"> endless</span><span style=\"background-color: rgba(255, 0, 0, 0.029); white-space: pre-wrap;\" title=\"KL: 0.029\"> steel</span><span style=\"background-color: rgba(255, 0, 0, 0.000); white-space: pre-wrap;\" title=\"KL: 0.000\">\n",
       "</span><span style=\"background-color: rgba(255, 0, 0, 0.010); white-space: pre-wrap;\" title=\"KL: 0.010\">City</span><span style=\"background-color: rgba(255, 0, 0, 0.008); white-space: pre-wrap;\" title=\"KL: 0.008\">'</span><span style=\"background-color: rgba(255, 0, 0, 0.000); white-space: pre-wrap;\" title=\"KL: 0.000\">s</span><span style=\"background-color: rgba(255, 0, 0, 0.013); white-space: pre-wrap;\" title=\"KL: 0.013\"> heart</span><span style=\"background-color: rgba(255, 0, 0, 0.017); white-space: pre-wrap;\" title=\"KL: 0.017\"> beat</span><span style=\"background-color: rgba(255, 0, 0, 0.013); white-space: pre-wrap;\" title=\"KL: 0.013\"> loud</span><span style=\"background-color: rgba(255, 0, 0, 0.005); white-space: pre-wrap;\" title=\"KL: 0.005\"> and</span><span style=\"background-color: rgba(255, 0, 0, 0.057); white-space: pre-wrap;\" title=\"KL: 0.057\"> strong</span><span style=\"background-color: rgba(255, 0, 0, 0.000); white-space: pre-wrap;\" title=\"KL: 0.000\">,</span><span style=\"background-color: rgba(255, 0, 0, 0.015); white-space: pre-wrap;\" title=\"KL: 0.015\"> a</span><span style=\"background-color: rgba(255, 0, 0, 0.019); white-space: pre-wrap;\" title=\"KL: 0.019\"> ca</span><span style=\"background-color: rgba(255, 0, 0, 0.000); white-space: pre-wrap;\" title=\"KL: 0.000\">co</span><span style=\"background-color: rgba(255, 0, 0, 0.001); white-space: pre-wrap;\" title=\"KL: 0.001\">phony</span><span style=\"background-color: rgba(255, 0, 0, 0.009); white-space: pre-wrap;\" title=\"KL: 0.009\"> so</span><span style=\"background-color: rgba(255, 0, 0, 0.009); white-space: pre-wrap;\" title=\"KL: 0.009\"> real</span><span style=\"background-color: rgba(255, 0, 0, 0.000); white-space: pre-wrap;\" title=\"KL: 0.000\">\n",
       "</span><span style=\"background-color: rgba(255, 0, 0, 0.011); white-space: pre-wrap;\" title=\"KL: 0.011\">The</span><span style=\"background-color: rgba(255, 0, 0, 0.007); white-space: pre-wrap;\" title=\"KL: 0.007\"> horns</span><span style=\"background-color: rgba(255, 0, 0, 0.019); white-space: pre-wrap;\" title=\"KL: 0.019\"> that</span><span style=\"background-color: rgba(255, 0, 0, 0.010); white-space: pre-wrap;\" title=\"KL: 0.010\"> bla</span><span style=\"background-color: rgba(255, 0, 0, 0.001); white-space: pre-wrap;\" title=\"KL: 0.001\">re</span><span style=\"background-color: rgba(255, 0, 0, 0.064); white-space: pre-wrap;\" title=\"KL: 0.064\"> and</span><span style=\"background-color: rgba(255, 0, 0, 0.136); white-space: pre-wrap;\" title=\"KL: 0.136\"> sirens</span><span style=\"background-color: rgba(255, 0, 0, 0.004); white-space: pre-wrap;\" title=\"KL: 0.004\"> moan</span><span style=\"background-color: rgba(255, 0, 0, 0.001); white-space: pre-wrap;\" title=\"KL: 0.001\"> through</span><span style=\"background-color: rgba(255, 0, 0, 0.021); white-space: pre-wrap;\" title=\"KL: 0.021\"> crowded</span><span style=\"background-color: rgba(255, 0, 0, 0.024); white-space: pre-wrap;\" title=\"KL: 0.024\">,</span><span style=\"background-color: rgba(255, 0, 0, 0.009); white-space: pre-wrap;\" title=\"KL: 0.009\"> shifting</span><span style=\"background-color: rgba(255, 0, 0, 0.014); white-space: pre-wrap;\" title=\"KL: 0.014\"> rows</span><span style=\"background-color: rgba(255, 0, 0, 0.000); white-space: pre-wrap;\" title=\"KL: 0.000\">\n",
       "</span><span style=\"background-color: rgba(255, 0, 0, 0.012); white-space: pre-wrap;\" title=\"KL: 0.012\">The</span><span style=\"background-color: rgba(255, 0, 0, 0.005); white-space: pre-wrap;\" title=\"KL: 0.005\"> whispers</span><span style=\"background-color: rgba(255, 0, 0, 0.305); white-space: pre-wrap;\" title=\"KL: 0.305\">,</span><span style=\"background-color: rgba(255, 0, 0, 1.000); white-space: pre-wrap;\" title=\"KL: 1.227\"> shouts</span><span style=\"background-color: rgba(255, 0, 0, 0.003); white-space: pre-wrap;\" title=\"KL: 0.003\">,</span><span style=\"background-color: rgba(255, 0, 0, 0.032); white-space: pre-wrap;\" title=\"KL: 0.032\"> and</span><span style=\"background-color: rgba(255, 0, 0, 0.019); white-space: pre-wrap;\" title=\"KL: 0.019\"> hurrying</span><span style=\"background-color: rgba(255, 0, 0, 0.005); white-space: pre-wrap;\" title=\"KL: 0.005\"> feet</span><span style=\"background-color: rgba(255, 0, 0, 0.019); white-space: pre-wrap;\" title=\"KL: 0.019\">,</span><span style=\"background-color: rgba(255, 0, 0, 0.017); white-space: pre-wrap;\" title=\"KL: 0.017\"> where</span><span style=\"background-color: rgba(255, 0, 0, 0.022); white-space: pre-wrap;\" title=\"KL: 0.022\"> all</span><span style=\"background-color: rgba(255, 0, 0, 0.020); white-space: pre-wrap;\" title=\"KL: 0.020\"> the</span><span style=\"background-color: rgba(255, 0, 0, 0.027); white-space: pre-wrap;\" title=\"KL: 0.027\"> drama</span><span style=\"background-color: rgba(255, 0, 0, 0.010); white-space: pre-wrap;\" title=\"KL: 0.010\"> flows</span><span style=\"background-color: rgba(255, 0, 0, 0.001); white-space: pre-wrap;\" title=\"KL: 0.001\">\n",
       "\n",
       "</span><span style=\"background-color: rgba(255, 0, 0, 0.000); white-space: pre-wrap;\" title=\"KL: 0.000\">(</span><span style=\"background-color: rgba(255, 0, 0, 0.003); white-space: pre-wrap;\" title=\"KL: 0.003\">Chorus</span><span style=\"background-color: rgba(255, 0, 0, 0.000); white-space: pre-wrap;\" title=\"KL: 0.000\">)</span><span style=\"background-color: rgba(255, 0, 0, 0.000); white-space: pre-wrap;\" title=\"KL: 0.000\">\n",
       "</span><span style=\"background-color: rgba(255, 0, 0, 0.050); white-space: pre-wrap;\" title=\"KL: 0.050\">Then</span><span style=\"background-color: rgba(255, 0, 0, 0.107); white-space: pre-wrap;\" title=\"KL: 0.107\"> the</span><span style=\"background-color: rgba(255, 0, 0, 0.023); white-space: pre-wrap;\" title=\"KL: 0.023\"> silence</span><span style=\"background-color: rgba(255, 0, 0, 0.036); white-space: pre-wrap;\" title=\"KL: 0.036\"> breaks</span><span style=\"background-color: rgba(255, 0, 0, 0.020); white-space: pre-wrap;\" title=\"KL: 0.020\">,</span><span style=\"background-color: rgba(255, 0, 0, 0.025); white-space: pre-wrap;\" title=\"KL: 0.025\"> a</span><span style=\"background-color: rgba(255, 0, 0, 0.026); white-space: pre-wrap;\" title=\"KL: 0.026\"> rumble</span><span style=\"background-color: rgba(255, 0, 0, 0.053); white-space: pre-wrap;\" title=\"KL: 0.053\"> so</span><span style=\"background-color: rgba(255, 0, 0, 0.125); white-space: pre-wrap;\" title=\"KL: 0.125\"> loud</span><span style=\"background-color: rgba(255, 0, 0, 0.016); white-space: pre-wrap;\" title=\"KL: 0.016\"> and</span><span style=\"background-color: rgba(255, 0, 0, 0.017); white-space: pre-wrap;\" title=\"KL: 0.017\"> close</span><span style=\"background-color: rgba(255, 0, 0, 0.013); white-space: pre-wrap;\" title=\"KL: 0.013\">\n",
       "</span><span style=\"background-color: rgba(255, 0, 0, 0.006); white-space: pre-wrap;\" title=\"KL: 0.006\">The</span>"
      ],
      "text/plain": [
       "<IPython.core.display.HTML object>"
      ]
     },
     "metadata": {},
     "output_type": "display_data"
    },
    {
     "name": "stdout",
     "output_type": "stream",
     "text": [
      "High KL: 1.2266 at token ' shouts'\\n\n"
     ]
    },
    {
     "data": {
      "text/html": [
       "<style type=\"text/css\">\n",
       "#T_4742d th {\n",
       "  text-align: left;\n",
       "}\n",
       "#T_4742d_row0_col0, #T_4742d_row1_col0, #T_4742d_row2_col0 {\n",
       "  background-color: lightgreen;\n",
       "  text-align: left;\n",
       "}\n",
       "#T_4742d_row0_col1, #T_4742d_row0_col2, #T_4742d_row1_col1, #T_4742d_row1_col2, #T_4742d_row2_col1, #T_4742d_row2_col2, #T_4742d_row3_col1, #T_4742d_row3_col2, #T_4742d_row4_col1, #T_4742d_row4_col2, #T_4742d_row5_col1, #T_4742d_row5_col2 {\n",
       "  text-align: left;\n",
       "}\n",
       "#T_4742d_row3_col0, #T_4742d_row4_col0, #T_4742d_row5_col0 {\n",
       "  background-color: lightcoral;\n",
       "  text-align: left;\n",
       "}\n",
       "</style>\n",
       "<table id=\"T_4742d\">\n",
       "  <thead>\n",
       "    <tr>\n",
       "      <th class=\"blank level0\" >&nbsp;</th>\n",
       "      <th id=\"T_4742d_level0_col0\" class=\"col_heading level0 col0\" >Token</th>\n",
       "      <th id=\"T_4742d_level0_col1\" class=\"col_heading level0 col1\" >p_HS</th>\n",
       "      <th id=\"T_4742d_level0_col2\" class=\"col_heading level0 col2\" >p_B</th>\n",
       "    </tr>\n",
       "  </thead>\n",
       "  <tbody>\n",
       "    <tr>\n",
       "      <th id=\"T_4742d_level0_row0\" class=\"row_heading level0 row0\" >0</th>\n",
       "      <td id=\"T_4742d_row0_col0\" class=\"data row0 col0\" > shouts</td>\n",
       "      <td id=\"T_4742d_row0_col1\" class=\"data row0 col1\" >0.119</td>\n",
       "      <td id=\"T_4742d_row0_col2\" class=\"data row0 col2\" >0.490</td>\n",
       "    </tr>\n",
       "    <tr>\n",
       "      <th id=\"T_4742d_level0_row1\" class=\"row_heading level0 row1\" >1</th>\n",
       "      <td id=\"T_4742d_row1_col0\" class=\"data row1 col0\" > chatter</td>\n",
       "      <td id=\"T_4742d_row1_col1\" class=\"data row1 col1\" >0.017</td>\n",
       "      <td id=\"T_4742d_row1_col2\" class=\"data row1 col2\" >0.059</td>\n",
       "    </tr>\n",
       "    <tr>\n",
       "      <th id=\"T_4742d_level0_row2\" class=\"row_heading level0 row2\" >2</th>\n",
       "      <td id=\"T_4742d_row2_col0\" class=\"data row2 col0\" > laughter</td>\n",
       "      <td id=\"T_4742d_row2_col1\" class=\"data row2 col1\" >0.013</td>\n",
       "      <td id=\"T_4742d_row2_col2\" class=\"data row2 col2\" >0.039</td>\n",
       "    </tr>\n",
       "    <tr>\n",
       "      <th id=\"T_4742d_level0_row3\" class=\"row_heading level0 row3\" >3</th>\n",
       "      <td id=\"T_4742d_row3_col0\" class=\"data row3 col0\" > a</td>\n",
       "      <td id=\"T_4742d_row3_col1\" class=\"data row3 col1\" >0.025</td>\n",
       "      <td id=\"T_4742d_row3_col2\" class=\"data row3 col2\" >0.004</td>\n",
       "    </tr>\n",
       "    <tr>\n",
       "      <th id=\"T_4742d_level0_row4\" class=\"row_heading level0 row4\" >4</th>\n",
       "      <td id=\"T_4742d_row4_col0\" class=\"data row4 col0\" > and</td>\n",
       "      <td id=\"T_4742d_row4_col1\" class=\"data row4 col1\" >0.007</td>\n",
       "      <td id=\"T_4742d_row4_col2\" class=\"data row4 col2\" >0.001</td>\n",
       "    </tr>\n",
       "    <tr>\n",
       "      <th id=\"T_4742d_level0_row5\" class=\"row_heading level0 row5\" >5</th>\n",
       "      <td id=\"T_4742d_row5_col0\" class=\"data row5 col0\" > the</td>\n",
       "      <td id=\"T_4742d_row5_col1\" class=\"data row5 col1\" >0.629</td>\n",
       "      <td id=\"T_4742d_row5_col2\" class=\"data row5 col2\" >0.064</td>\n",
       "    </tr>\n",
       "  </tbody>\n",
       "</table>\n"
      ],
      "text/plain": [
       "<IPython.core.display.HTML object>"
      ]
     },
     "metadata": {},
     "output_type": "display_data"
    },
    {
     "name": "stdout",
     "output_type": "stream",
     "text": [
      "--------------------------------------------------------------------------------------------------------------------------------------------------------------------------------------------------------\n"
     ]
    },
    {
     "data": {
      "text/html": [
       "&lt;bos&gt;<span style=\"background-color: rgba(255, 0, 0, 0.000); white-space: pre-wrap;\" title=\"KL: 0.000\">&lt;start_of_turn&gt;</span><span style=\"background-color: rgba(255, 0, 0, 0.009); white-space: pre-wrap;\" title=\"KL: 0.009\">user</span><span style=\"background-color: rgba(255, 0, 0, 0.041); white-space: pre-wrap;\" title=\"KL: 0.041\">\n",
       "</span><span style=\"background-color: rgba(255, 0, 0, 0.030); white-space: pre-wrap;\" title=\"KL: 0.030\">How</span><span style=\"background-color: rgba(255, 0, 0, 0.001); white-space: pre-wrap;\" title=\"KL: 0.001\"> would</span><span style=\"background-color: rgba(255, 0, 0, 0.001); white-space: pre-wrap;\" title=\"KL: 0.001\"> physics</span><span style=\"background-color: rgba(255, 0, 0, 0.008); white-space: pre-wrap;\" title=\"KL: 0.008\"> change</span><span style=\"background-color: rgba(255, 0, 0, 0.012); white-space: pre-wrap;\" title=\"KL: 0.012\"> if</span><span style=\"background-color: rgba(255, 0, 0, 0.003); white-space: pre-wrap;\" title=\"KL: 0.003\"> there</span><span style=\"background-color: rgba(255, 0, 0, 0.001); white-space: pre-wrap;\" title=\"KL: 0.001\"> existed</span><span style=\"background-color: rgba(255, 0, 0, 0.002); white-space: pre-wrap;\" title=\"KL: 0.002\"> only</span><span style=\"background-color: rgba(255, 0, 0, 0.013); white-space: pre-wrap;\" title=\"KL: 0.013\"> up</span><span style=\"background-color: rgba(255, 0, 0, 0.004); white-space: pre-wrap;\" title=\"KL: 0.004\"> and</span><span style=\"background-color: rgba(255, 0, 0, 0.000); white-space: pre-wrap;\" title=\"KL: 0.000\"> down</span><span style=\"background-color: rgba(255, 0, 0, 0.049); white-space: pre-wrap;\" title=\"KL: 0.049\"> quarks</span><span style=\"background-color: rgba(255, 0, 0, 0.025); white-space: pre-wrap;\" title=\"KL: 0.025\"> but</span><span style=\"background-color: rgba(255, 0, 0, 0.003); white-space: pre-wrap;\" title=\"KL: 0.003\"> not</span><span style=\"background-color: rgba(255, 0, 0, 0.021); white-space: pre-wrap;\" title=\"KL: 0.021\"> the</span><span style=\"background-color: rgba(255, 0, 0, 0.013); white-space: pre-wrap;\" title=\"KL: 0.013\"> other</span><span style=\"background-color: rgba(255, 0, 0, 0.006); white-space: pre-wrap;\" title=\"KL: 0.006\"> four</span><span style=\"background-color: rgba(255, 0, 0, 0.037); white-space: pre-wrap;\" title=\"KL: 0.037\">?</span><span style=\"background-color: rgba(255, 0, 0, 0.105); white-space: pre-wrap;\" title=\"KL: 0.105\">&lt;end_of_turn&gt;</span><span style=\"background-color: rgba(255, 0, 0, 0.001); white-space: pre-wrap;\" title=\"KL: 0.001\">\n",
       "</span><span style=\"background-color: rgba(255, 0, 0, 0.002); white-space: pre-wrap;\" title=\"KL: 0.002\">&lt;start_of_turn&gt;</span><span style=\"background-color: rgba(255, 0, 0, 0.006); white-space: pre-wrap;\" title=\"KL: 0.006\">model</span><span style=\"background-color: rgba(255, 0, 0, 0.034); white-space: pre-wrap;\" title=\"KL: 0.034\">\n",
       "</span><span style=\"background-color: rgba(255, 0, 0, 0.026); white-space: pre-wrap;\" title=\"KL: 0.026\">That</span><span style=\"background-color: rgba(255, 0, 0, 0.000); white-space: pre-wrap;\" title=\"KL: 0.000\">'</span><span style=\"background-color: rgba(255, 0, 0, 0.000); white-space: pre-wrap;\" title=\"KL: 0.000\">s</span><span style=\"background-color: rgba(255, 0, 0, 0.001); white-space: pre-wrap;\" title=\"KL: 0.001\"> a</span><span style=\"background-color: rgba(255, 0, 0, 0.009); white-space: pre-wrap;\" title=\"KL: 0.009\"> fascinating</span><span style=\"background-color: rgba(255, 0, 0, 0.004); white-space: pre-wrap;\" title=\"KL: 0.004\"> and</span><span style=\"background-color: rgba(255, 0, 0, 0.018); white-space: pre-wrap;\" title=\"KL: 0.018\"> thought</span><span style=\"background-color: rgba(255, 0, 0, 0.000); white-space: pre-wrap;\" title=\"KL: 0.000\">-</span><span style=\"background-color: rgba(255, 0, 0, 0.000); white-space: pre-wrap;\" title=\"KL: 0.000\">provoking</span><span style=\"background-color: rgba(255, 0, 0, 0.001); white-space: pre-wrap;\" title=\"KL: 0.001\"> question</span><span style=\"background-color: rgba(255, 0, 0, 0.001); white-space: pre-wrap;\" title=\"KL: 0.001\">!</span><span style=\"background-color: rgba(255, 0, 0, 0.007); white-space: pre-wrap;\" title=\"KL: 0.007\"> It</span><span style=\"background-color: rgba(255, 0, 0, 0.024); white-space: pre-wrap;\" title=\"KL: 0.024\"> gets</span><span style=\"background-color: rgba(255, 0, 0, 0.002); white-space: pre-wrap;\" title=\"KL: 0.002\"> at</span><span style=\"background-color: rgba(255, 0, 0, 0.001); white-space: pre-wrap;\" title=\"KL: 0.001\"> the</span><span style=\"background-color: rgba(255, 0, 0, 0.001); white-space: pre-wrap;\" title=\"KL: 0.001\"> heart</span><span style=\"background-color: rgba(255, 0, 0, 0.000); white-space: pre-wrap;\" title=\"KL: 0.000\"> of</span><span style=\"background-color: rgba(255, 0, 0, 0.015); white-space: pre-wrap;\" title=\"KL: 0.015\"> how</span><span style=\"background-color: rgba(255, 0, 0, 0.037); white-space: pre-wrap;\" title=\"KL: 0.037\"> our</span><span style=\"background-color: rgba(255, 0, 0, 0.013); white-space: pre-wrap;\" title=\"KL: 0.013\"> universe</span><span style=\"background-color: rgba(255, 0, 0, 0.008); white-space: pre-wrap;\" title=\"KL: 0.008\"> fundamentally</span><span style=\"background-color: rgba(255, 0, 0, 0.002); white-space: pre-wrap;\" title=\"KL: 0.002\"> holds</span><span style=\"background-color: rgba(255, 0, 0, 0.001); white-space: pre-wrap;\" title=\"KL: 0.001\"> together</span><span style=\"background-color: rgba(255, 0, 0, 0.005); white-space: pre-wrap;\" title=\"KL: 0.005\">.</span><span style=\"background-color: rgba(255, 0, 0, 0.001); white-space: pre-wrap;\" title=\"KL: 0.001\"> Here</span><span style=\"background-color: rgba(255, 0, 0, 0.000); white-space: pre-wrap;\" title=\"KL: 0.000\">'</span><span style=\"background-color: rgba(255, 0, 0, 0.000); white-space: pre-wrap;\" title=\"KL: 0.000\">s</span><span style=\"background-color: rgba(255, 0, 0, 0.000); white-space: pre-wrap;\" title=\"KL: 0.000\"> a</span><span style=\"background-color: rgba(255, 0, 0, 0.000); white-space: pre-wrap;\" title=\"KL: 0.000\"> breakdown</span><span style=\"background-color: rgba(255, 0, 0, 0.000); white-space: pre-wrap;\" title=\"KL: 0.000\"> of</span><span style=\"background-color: rgba(255, 0, 0, 0.003); white-space: pre-wrap;\" title=\"KL: 0.003\"> what</span><span style=\"background-color: rgba(255, 0, 0, 0.013); white-space: pre-wrap;\" title=\"KL: 0.013\"> would</span><span style=\"background-color: rgba(255, 0, 0, 0.004); white-space: pre-wrap;\" title=\"KL: 0.004\"> be</span><span style=\"background-color: rgba(255, 0, 0, 0.006); white-space: pre-wrap;\" title=\"KL: 0.006\"> different</span><span style=\"background-color: rgba(255, 0, 0, 0.031); white-space: pre-wrap;\" title=\"KL: 0.031\">:</span><span style=\"background-color: rgba(255, 0, 0, 0.000); white-space: pre-wrap;\" title=\"KL: 0.000\"> </span><span style=\"background-color: rgba(255, 0, 0, 0.000); white-space: pre-wrap;\" title=\"KL: 0.000\">\n",
       "\n",
       "</span><span style=\"background-color: rgba(255, 0, 0, 0.000); white-space: pre-wrap;\" title=\"KL: 0.000\">**</span><span style=\"background-color: rgba(255, 0, 0, 0.015); white-space: pre-wrap;\" title=\"KL: 0.015\">Key</span><span style=\"background-color: rgba(255, 0, 0, 0.009); white-space: pre-wrap;\" title=\"KL: 0.009\"> Differences</span><span style=\"background-color: rgba(255, 0, 0, 0.028); white-space: pre-wrap;\" title=\"KL: 0.028\">:**</span><span style=\"background-color: rgba(255, 0, 0, 0.000); white-space: pre-wrap;\" title=\"KL: 0.000\">\n",
       "\n",
       "</span><span style=\"background-color: rgba(255, 0, 0, 0.002); white-space: pre-wrap;\" title=\"KL: 0.002\">*</span><span style=\"background-color: rgba(255, 0, 0, 0.000); white-space: pre-wrap;\" title=\"KL: 0.000\"> **</span><span style=\"background-color: rgba(255, 0, 0, 0.027); white-space: pre-wrap;\" title=\"KL: 0.027\">Strong</span><span style=\"background-color: rgba(255, 0, 0, 0.004); white-space: pre-wrap;\" title=\"KL: 0.004\"> Force</span><span style=\"background-color: rgba(255, 0, 0, 0.044); white-space: pre-wrap;\" title=\"KL: 0.044\">:**</span><span style=\"background-color: rgba(255, 0, 0, 0.006); white-space: pre-wrap;\" title=\"KL: 0.006\"> The</span><span style=\"background-color: rgba(255, 0, 0, 0.013); white-space: pre-wrap;\" title=\"KL: 0.013\"> fundamental</span><span style=\"background-color: rgba(255, 0, 0, 0.003); white-space: pre-wrap;\" title=\"KL: 0.003\"> force</span><span style=\"background-color: rgba(255, 0, 0, 0.003); white-space: pre-wrap;\" title=\"KL: 0.003\"> governing</span><span style=\"background-color: rgba(255, 0, 0, 0.019); white-space: pre-wrap;\" title=\"KL: 0.019\"> the</span><span style=\"background-color: rgba(255, 0, 0, 0.016); white-space: pre-wrap;\" title=\"KL: 0.016\"> interactions</span><span style=\"background-color: rgba(255, 0, 0, 0.000); white-space: pre-wrap;\" title=\"KL: 0.000\"> between</span><span style=\"background-color: rgba(255, 0, 0, 0.001); white-space: pre-wrap;\" title=\"KL: 0.001\"> quarks</span><span style=\"background-color: rgba(255, 0, 0, 0.041); white-space: pre-wrap;\" title=\"KL: 0.041\"> would</span><span style=\"background-color: rgba(255, 0, 0, 0.003); white-space: pre-wrap;\" title=\"KL: 0.003\"> be</span><span style=\"background-color: rgba(255, 0, 0, 0.003); white-space: pre-wrap;\" title=\"KL: 0.003\"> extremely</span><span style=\"background-color: rgba(255, 0, 0, 0.018); white-space: pre-wrap;\" title=\"KL: 0.018\"> limited</span><span style=\"background-color: rgba(255, 0, 0, 0.001); white-space: pre-wrap;\" title=\"KL: 0.001\">.</span><span style=\"background-color: rgba(255, 0, 0, 0.011); white-space: pre-wrap;\" title=\"KL: 0.011\"> Without</span><span style=\"background-color: rgba(255, 0, 0, 0.025); white-space: pre-wrap;\" title=\"KL: 0.025\"> strange</span><span style=\"background-color: rgba(255, 0, 0, 0.013); white-space: pre-wrap;\" title=\"KL: 0.013\"> quarks</span><span style=\"background-color: rgba(255, 0, 0, 0.001); white-space: pre-wrap;\" title=\"KL: 0.001\">,</span><span style=\"background-color: rgba(255, 0, 0, 1.000); white-space: pre-wrap;\" title=\"KL: 1.461\"> charm</span><span style=\"background-color: rgba(255, 0, 0, 0.011); white-space: pre-wrap;\" title=\"KL: 0.011\"> quarks</span><span style=\"background-color: rgba(255, 0, 0, 0.001); white-space: pre-wrap;\" title=\"KL: 0.001\">,</span><span style=\"background-color: rgba(255, 0, 0, 0.006); white-space: pre-wrap;\" title=\"KL: 0.006\"> bottom</span><span style=\"background-color: rgba(255, 0, 0, 0.000); white-space: pre-wrap;\" title=\"KL: 0.000\"> quarks</span><span style=\"background-color: rgba(255, 0, 0, 0.000); white-space: pre-wrap;\" title=\"KL: 0.000\">,</span><span style=\"background-color: rgba(255, 0, 0, 0.002); white-space: pre-wrap;\" title=\"KL: 0.002\"> and</span><span style=\"background-color: rgba(255, 0, 0, 0.004); white-space: pre-wrap;\" title=\"KL: 0.004\"> top</span><span style=\"background-color: rgba(255, 0, 0, 0.000); white-space: pre-wrap;\" title=\"KL: 0.000\"> quarks</span><span style=\"background-color: rgba(255, 0, 0, 0.001); white-space: pre-wrap;\" title=\"KL: 0.001\">,</span><span style=\"background-color: rgba(255, 0, 0, 0.002); white-space: pre-wrap;\" title=\"KL: 0.002\"> there</span><span style=\"background-color: rgba(255, 0, 0, 0.000); white-space: pre-wrap;\" title=\"KL: 0.000\"> wouldn</span><span style=\"background-color: rgba(255, 0, 0, 0.000); white-space: pre-wrap;\" title=\"KL: 0.000\">'</span><span style=\"background-color: rgba(255, 0, 0, 0.000); white-space: pre-wrap;\" title=\"KL: 0.000\">t</span><span style=\"background-color: rgba(255, 0, 0, 0.000); white-space: pre-wrap;\" title=\"KL: 0.000\"> be</span><span style=\"background-color: rgba(255, 0, 0, 0.011); white-space: pre-wrap;\" title=\"KL: 0.011\"> a</span><span style=\"background-color: rgba(255, 0, 0, 0.044); white-space: pre-wrap;\" title=\"KL: 0.044\"> \"</span><span style=\"background-color: rgba(255, 0, 0, 0.031); white-space: pre-wrap;\" title=\"KL: 0.031\">glue</span><span style=\"background-color: rgba(255, 0, 0, 0.002); white-space: pre-wrap;\" title=\"KL: 0.002\">\"</span><span style=\"background-color: rgba(255, 0, 0, 0.015); white-space: pre-wrap;\" title=\"KL: 0.015\"> to</span><span style=\"background-color: rgba(255, 0, 0, 0.003); white-space: pre-wrap;\" title=\"KL: 0.003\"> hold</span><span style=\"background-color: rgba(255, 0, 0, 0.011); white-space: pre-wrap;\" title=\"KL: 0.011\"> protons</span><span style=\"background-color: rgba(255, 0, 0, 0.000); white-space: pre-wrap;\" title=\"KL: 0.000\"> and</span><span style=\"background-color: rgba(255, 0, 0, 0.000); white-space: pre-wrap;\" title=\"KL: 0.000\"> neutrons</span><span style=\"background-color: rgba(255, 0, 0, 0.001); white-space: pre-wrap;\" title=\"KL: 0.001\"> together</span><span style=\"background-color: rgba(255, 0, 0, 0.008); white-space: pre-wrap;\" title=\"KL: 0.008\">.</span><span style=\"background-color: rgba(255, 0, 0, 0.017); white-space: pre-wrap;\" title=\"KL: 0.017\">\n",
       "</span><span style=\"background-color: rgba(255, 0, 0, 0.003); white-space: pre-wrap;\" title=\"KL: 0.003\">*</span><span style=\"background-color: rgba(255, 0, 0, 0.000); white-space: pre-wrap;\" title=\"KL: 0.000\"> **</span>"
      ],
      "text/plain": [
       "<IPython.core.display.HTML object>"
      ]
     },
     "metadata": {},
     "output_type": "display_data"
    },
    {
     "name": "stdout",
     "output_type": "stream",
     "text": [
      "High KL: 1.4609 at token ' charm'\\n\n"
     ]
    },
    {
     "data": {
      "text/html": [
       "<style type=\"text/css\">\n",
       "#T_56802 th {\n",
       "  text-align: left;\n",
       "}\n",
       "#T_56802_row0_col0, #T_56802_row1_col0, #T_56802_row2_col0 {\n",
       "  background-color: lightgreen;\n",
       "  text-align: left;\n",
       "}\n",
       "#T_56802_row0_col1, #T_56802_row0_col2, #T_56802_row1_col1, #T_56802_row1_col2, #T_56802_row2_col1, #T_56802_row2_col2, #T_56802_row3_col1, #T_56802_row3_col2, #T_56802_row4_col1, #T_56802_row4_col2, #T_56802_row5_col1, #T_56802_row5_col2 {\n",
       "  text-align: left;\n",
       "}\n",
       "#T_56802_row3_col0, #T_56802_row4_col0, #T_56802_row5_col0 {\n",
       "  background-color: lightcoral;\n",
       "  text-align: left;\n",
       "}\n",
       "</style>\n",
       "<table id=\"T_56802\">\n",
       "  <thead>\n",
       "    <tr>\n",
       "      <th class=\"blank level0\" >&nbsp;</th>\n",
       "      <th id=\"T_56802_level0_col0\" class=\"col_heading level0 col0\" >Token</th>\n",
       "      <th id=\"T_56802_level0_col1\" class=\"col_heading level0 col1\" >p_HS</th>\n",
       "      <th id=\"T_56802_level0_col2\" class=\"col_heading level0 col2\" >p_B</th>\n",
       "    </tr>\n",
       "  </thead>\n",
       "  <tbody>\n",
       "    <tr>\n",
       "      <th id=\"T_56802_level0_row0\" class=\"row_heading level0 row0\" >0</th>\n",
       "      <td id=\"T_56802_row0_col0\" class=\"data row0 col0\" > bottom</td>\n",
       "      <td id=\"T_56802_row0_col1\" class=\"data row0 col1\" >0.018</td>\n",
       "      <td id=\"T_56802_row0_col2\" class=\"data row0 col2\" >0.074</td>\n",
       "    </tr>\n",
       "    <tr>\n",
       "      <th id=\"T_56802_level0_row1\" class=\"row_heading level0 row1\" >1</th>\n",
       "      <td id=\"T_56802_row1_col0\" class=\"data row1 col0\" > top</td>\n",
       "      <td id=\"T_56802_row1_col1\" class=\"data row1 col1\" >0.009</td>\n",
       "      <td id=\"T_56802_row1_col2\" class=\"data row1 col2\" >0.033</td>\n",
       "    </tr>\n",
       "    <tr>\n",
       "      <th id=\"T_56802_level0_row2\" class=\"row_heading level0 row2\" >2</th>\n",
       "      <td id=\"T_56802_row2_col0\" class=\"data row2 col0\" > charm</td>\n",
       "      <td id=\"T_56802_row2_col1\" class=\"data row2 col1\" >0.247</td>\n",
       "      <td id=\"T_56802_row2_col2\" class=\"data row2 col2\" >0.715</td>\n",
       "    </tr>\n",
       "    <tr>\n",
       "      <th id=\"T_56802_level0_row3\" class=\"row_heading level0 row3\" >3</th>\n",
       "      <td id=\"T_56802_row3_col0\" class=\"data row3 col0\" > the</td>\n",
       "      <td id=\"T_56802_row3_col1\" class=\"data row3 col1\" >0.338</td>\n",
       "      <td id=\"T_56802_row3_col2\" class=\"data row3 col2\" >0.025</td>\n",
       "    </tr>\n",
       "    <tr>\n",
       "      <th id=\"T_56802_level0_row4\" class=\"row_heading level0 row4\" >4</th>\n",
       "      <td id=\"T_56802_row4_col0\" class=\"data row4 col0\" > glu</td>\n",
       "      <td id=\"T_56802_row4_col1\" class=\"data row4 col1\" >0.166</td>\n",
       "      <td id=\"T_56802_row4_col2\" class=\"data row4 col2\" >0.006</td>\n",
       "    </tr>\n",
       "    <tr>\n",
       "      <th id=\"T_56802_level0_row5\" class=\"row_heading level0 row5\" >5</th>\n",
       "      <td id=\"T_56802_row5_col0\" class=\"data row5 col0\" > there</td>\n",
       "      <td id=\"T_56802_row5_col1\" class=\"data row5 col1\" >0.008</td>\n",
       "      <td id=\"T_56802_row5_col2\" class=\"data row5 col2\" >0.000</td>\n",
       "    </tr>\n",
       "  </tbody>\n",
       "</table>\n"
      ],
      "text/plain": [
       "<IPython.core.display.HTML object>"
      ]
     },
     "metadata": {},
     "output_type": "display_data"
    },
    {
     "name": "stdout",
     "output_type": "stream",
     "text": [
      "--------------------------------------------------------------------------------------------------------------------------------------------------------------------------------------------------------\n"
     ]
    },
    {
     "data": {
      "text/html": [
       "&lt;bos&gt;<span style=\"background-color: rgba(255, 0, 0, 0.000); white-space: pre-wrap;\" title=\"KL: 0.000\">&lt;start_of_turn&gt;</span><span style=\"background-color: rgba(255, 0, 0, 0.009); white-space: pre-wrap;\" title=\"KL: 0.009\">user</span><span style=\"background-color: rgba(255, 0, 0, 0.041); white-space: pre-wrap;\" title=\"KL: 0.041\">\n",
       "</span><span style=\"background-color: rgba(255, 0, 0, 0.030); white-space: pre-wrap;\" title=\"KL: 0.030\">Generate</span><span style=\"background-color: rgba(255, 0, 0, 0.002); white-space: pre-wrap;\" title=\"KL: 0.002\"> regex</span><span style=\"background-color: rgba(255, 0, 0, 0.005); white-space: pre-wrap;\" title=\"KL: 0.005\"> to</span><span style=\"background-color: rgba(255, 0, 0, 0.007); white-space: pre-wrap;\" title=\"KL: 0.007\"> extract</span><span style=\"background-color: rgba(255, 0, 0, 0.005); white-space: pre-wrap;\" title=\"KL: 0.005\"> numbers</span><span style=\"background-color: rgba(255, 0, 0, 0.002); white-space: pre-wrap;\" title=\"KL: 0.002\"> from</span><span style=\"background-color: rgba(255, 0, 0, 0.003); white-space: pre-wrap;\" title=\"KL: 0.003\"> the</span><span style=\"background-color: rgba(255, 0, 0, 0.003); white-space: pre-wrap;\" title=\"KL: 0.003\"> following</span><span style=\"background-color: rgba(255, 0, 0, 0.003); white-space: pre-wrap;\" title=\"KL: 0.003\">.</span><span style=\"background-color: rgba(255, 0, 0, 0.007); white-space: pre-wrap;\" title=\"KL: 0.007\"> Do</span><span style=\"background-color: rgba(255, 0, 0, 0.057); white-space: pre-wrap;\" title=\"KL: 0.057\"> not</span><span style=\"background-color: rgba(255, 0, 0, 0.008); white-space: pre-wrap;\" title=\"KL: 0.008\"> use</span><span style=\"background-color: rgba(255, 0, 0, 0.011); white-space: pre-wrap;\" title=\"KL: 0.011\"> look</span><span style=\"background-color: rgba(255, 0, 0, 0.021); white-space: pre-wrap;\" title=\"KL: 0.021\">ahead</span><span style=\"background-color: rgba(255, 0, 0, 0.008); white-space: pre-wrap;\" title=\"KL: 0.008\"> and</span><span style=\"background-color: rgba(255, 0, 0, 0.175); white-space: pre-wrap;\" title=\"KL: 0.175\"> look</span><span style=\"background-color: rgba(255, 0, 0, 0.000); white-space: pre-wrap;\" title=\"KL: 0.000\">behind</span><span style=\"background-color: rgba(255, 0, 0, 0.011); white-space: pre-wrap;\" title=\"KL: 0.011\">\n",
       "</span><span style=\"background-color: rgba(255, 0, 0, 0.053); white-space: pre-wrap;\" title=\"KL: 0.053\">---</span><span style=\"background-color: rgba(255, 0, 0, 0.007); white-space: pre-wrap;\" title=\"KL: 0.007\">\n",
       "</span><span style=\"background-color: rgba(255, 0, 0, 0.026); white-space: pre-wrap;\" title=\"KL: 0.026\">zip</span><span style=\"background-color: rgba(255, 0, 0, 0.014); white-space: pre-wrap;\" title=\"KL: 0.014\"> code</span><span style=\"background-color: rgba(255, 0, 0, 0.013); white-space: pre-wrap;\" title=\"KL: 0.013\">:</span><span style=\"background-color: rgba(255, 0, 0, 0.002); white-space: pre-wrap;\" title=\"KL: 0.002\"> </span><span style=\"background-color: rgba(255, 0, 0, 0.066); white-space: pre-wrap;\" title=\"KL: 0.066\">9</span><span style=\"background-color: rgba(255, 0, 0, 0.022); white-space: pre-wrap;\" title=\"KL: 0.022\">7</span><span style=\"background-color: rgba(255, 0, 0, 0.200); white-space: pre-wrap;\" title=\"KL: 0.200\">4</span><span style=\"background-color: rgba(255, 0, 0, 0.007); white-space: pre-wrap;\" title=\"KL: 0.007\">7</span><span style=\"background-color: rgba(255, 0, 0, 0.017); white-space: pre-wrap;\" title=\"KL: 0.017\">2</span><span style=\"background-color: rgba(255, 0, 0, 0.019); white-space: pre-wrap;\" title=\"KL: 0.019\">8</span><span style=\"background-color: rgba(255, 0, 0, 0.034); white-space: pre-wrap;\" title=\"KL: 0.034\"> and</span><span style=\"background-color: rgba(255, 0, 0, 0.081); white-space: pre-wrap;\" title=\"KL: 0.081\"> </span><span style=\"background-color: rgba(255, 0, 0, 0.026); white-space: pre-wrap;\" title=\"KL: 0.026\">8</span><span style=\"background-color: rgba(255, 0, 0, 0.011); white-space: pre-wrap;\" title=\"KL: 0.011\">1</span><span style=\"background-color: rgba(255, 0, 0, 0.015); white-space: pre-wrap;\" title=\"KL: 0.015\">7</span><span style=\"background-color: rgba(255, 0, 0, 0.019); white-space: pre-wrap;\" title=\"KL: 0.019\">3</span><span style=\"background-color: rgba(255, 0, 0, 0.035); white-space: pre-wrap;\" title=\"KL: 0.035\">6</span><span style=\"background-color: rgba(255, 0, 0, 0.122); white-space: pre-wrap;\" title=\"KL: 0.122\"> as</span><span style=\"background-color: rgba(255, 0, 0, 0.010); white-space: pre-wrap;\" title=\"KL: 0.010\">\n",
       "</span><span style=\"background-color: rgba(255, 0, 0, 0.041); white-space: pre-wrap;\" title=\"KL: 0.041\">zip</span><span style=\"background-color: rgba(255, 0, 0, 0.026); white-space: pre-wrap;\" title=\"KL: 0.026\"> code</span><span style=\"background-color: rgba(255, 0, 0, 0.010); white-space: pre-wrap;\" title=\"KL: 0.010\">:</span><span style=\"background-color: rgba(255, 0, 0, 0.005); white-space: pre-wrap;\" title=\"KL: 0.005\"> </span><span style=\"background-color: rgba(255, 0, 0, 0.033); white-space: pre-wrap;\" title=\"KL: 0.033\">9</span><span style=\"background-color: rgba(255, 0, 0, 0.065); white-space: pre-wrap;\" title=\"KL: 0.065\">7</span><span style=\"background-color: rgba(255, 0, 0, 0.003); white-space: pre-wrap;\" title=\"KL: 0.003\">4</span><span style=\"background-color: rgba(255, 0, 0, 0.002); white-space: pre-wrap;\" title=\"KL: 0.002\">7</span><span style=\"background-color: rgba(255, 0, 0, 0.008); white-space: pre-wrap;\" title=\"KL: 0.008\">2</span><span style=\"background-color: rgba(255, 0, 0, 0.026); white-space: pre-wrap;\" title=\"KL: 0.026\">8</span><span style=\"background-color: rgba(255, 0, 0, 0.039); white-space: pre-wrap;\" title=\"KL: 0.039\"> as</span><span style=\"background-color: rgba(255, 0, 0, 0.095); white-space: pre-wrap;\" title=\"KL: 0.095\">\n",
       "</span><span style=\"background-color: rgba(255, 0, 0, 0.036); white-space: pre-wrap;\" title=\"KL: 0.036\">zip</span><span style=\"background-color: rgba(255, 0, 0, 0.011); white-space: pre-wrap;\" title=\"KL: 0.011\"> code</span><span style=\"background-color: rgba(255, 0, 0, 0.015); white-space: pre-wrap;\" title=\"KL: 0.015\">:</span><span style=\"background-color: rgba(255, 0, 0, 0.003); white-space: pre-wrap;\" title=\"KL: 0.003\"> </span><span style=\"background-color: rgba(255, 0, 0, 0.078); white-space: pre-wrap;\" title=\"KL: 0.078\">9</span><span style=\"background-color: rgba(255, 0, 0, 0.001); white-space: pre-wrap;\" title=\"KL: 0.001\">7</span><span style=\"background-color: rgba(255, 0, 0, 0.000); white-space: pre-wrap;\" title=\"KL: 0.000\">4</span><span style=\"background-color: rgba(255, 0, 0, 0.000); white-space: pre-wrap;\" title=\"KL: 0.000\">7</span><span style=\"background-color: rgba(255, 0, 0, 0.001); white-space: pre-wrap;\" title=\"KL: 0.001\">2</span><span style=\"background-color: rgba(255, 0, 0, 0.003); white-space: pre-wrap;\" title=\"KL: 0.003\">8</span><span style=\"background-color: rgba(255, 0, 0, 0.092); white-space: pre-wrap;\" title=\"KL: 0.092\">,</span><span style=\"background-color: rgba(255, 0, 0, 0.054); white-space: pre-wrap;\" title=\"KL: 0.054\"> </span><span style=\"background-color: rgba(255, 0, 0, 0.118); white-space: pre-wrap;\" title=\"KL: 0.118\">8</span><span style=\"background-color: rgba(255, 0, 0, 0.003); white-space: pre-wrap;\" title=\"KL: 0.003\">1</span><span style=\"background-color: rgba(255, 0, 0, 0.001); white-space: pre-wrap;\" title=\"KL: 0.001\">7</span><span style=\"background-color: rgba(255, 0, 0, 0.000); white-space: pre-wrap;\" title=\"KL: 0.000\">3</span><span style=\"background-color: rgba(255, 0, 0, 0.001); white-space: pre-wrap;\" title=\"KL: 0.001\">6</span><span style=\"background-color: rgba(255, 0, 0, 0.015); white-space: pre-wrap;\" title=\"KL: 0.015\"> as</span><span style=\"background-color: rgba(255, 0, 0, 0.035); white-space: pre-wrap;\" title=\"KL: 0.035\">\n",
       "</span><span style=\"background-color: rgba(255, 0, 0, 0.058); white-space: pre-wrap;\" title=\"KL: 0.058\">zip</span><span style=\"background-color: rgba(255, 0, 0, 0.004); white-space: pre-wrap;\" title=\"KL: 0.004\"> code</span><span style=\"background-color: rgba(255, 0, 0, 0.013); white-space: pre-wrap;\" title=\"KL: 0.013\">:</span><span style=\"background-color: rgba(255, 0, 0, 0.003); white-space: pre-wrap;\" title=\"KL: 0.003\"> </span><span style=\"background-color: rgba(255, 0, 0, 0.008); white-space: pre-wrap;\" title=\"KL: 0.008\">9</span><span style=\"background-color: rgba(255, 0, 0, 0.000); white-space: pre-wrap;\" title=\"KL: 0.000\">7</span><span style=\"background-color: rgba(255, 0, 0, 0.000); white-space: pre-wrap;\" title=\"KL: 0.000\">4</span><span style=\"background-color: rgba(255, 0, 0, 0.000); white-space: pre-wrap;\" title=\"KL: 0.000\">7</span><span style=\"background-color: rgba(255, 0, 0, 0.000); white-space: pre-wrap;\" title=\"KL: 0.000\">2</span><span style=\"background-color: rgba(255, 0, 0, 0.001); white-space: pre-wrap;\" title=\"KL: 0.001\">8</span><span style=\"background-color: rgba(255, 0, 0, 0.068); white-space: pre-wrap;\" title=\"KL: 0.068\">,</span><span style=\"background-color: rgba(255, 0, 0, 0.016); white-space: pre-wrap;\" title=\"KL: 0.016\"> </span><span style=\"background-color: rgba(255, 0, 0, 0.001); white-space: pre-wrap;\" title=\"KL: 0.001\">8</span><span style=\"background-color: rgba(255, 0, 0, 0.000); white-space: pre-wrap;\" title=\"KL: 0.000\">1</span><span style=\"background-color: rgba(255, 0, 0, 0.000); white-space: pre-wrap;\" title=\"KL: 0.000\">7</span><span style=\"background-color: rgba(255, 0, 0, 0.000); white-space: pre-wrap;\" title=\"KL: 0.000\">3</span><span style=\"background-color: rgba(255, 0, 0, 0.000); white-space: pre-wrap;\" title=\"KL: 0.000\">6</span><span style=\"background-color: rgba(255, 0, 0, 0.124); white-space: pre-wrap;\" title=\"KL: 0.124\">,</span><span style=\"background-color: rgba(255, 0, 0, 0.101); white-space: pre-wrap;\" title=\"KL: 0.101\"> </span><span style=\"background-color: rgba(255, 0, 0, 0.113); white-space: pre-wrap;\" title=\"KL: 0.113\">1</span><span style=\"background-color: rgba(255, 0, 0, 0.020); white-space: pre-wrap;\" title=\"KL: 0.020\">2</span><span style=\"background-color: rgba(255, 0, 0, 0.005); white-space: pre-wrap;\" title=\"KL: 0.005\">3</span><span style=\"background-color: rgba(255, 0, 0, 0.025); white-space: pre-wrap;\" title=\"KL: 0.025\">4</span><span style=\"background-color: rgba(255, 0, 0, 0.262); white-space: pre-wrap;\" title=\"KL: 0.262\">5</span><span style=\"background-color: rgba(255, 0, 0, 0.098); white-space: pre-wrap;\" title=\"KL: 0.098\"> as</span><span style=\"background-color: rgba(255, 0, 0, 0.056); white-space: pre-wrap;\" title=\"KL: 0.056\">&lt;end_of_turn&gt;</span><span style=\"background-color: rgba(255, 0, 0, 0.004); white-space: pre-wrap;\" title=\"KL: 0.004\">\n",
       "</span><span style=\"background-color: rgba(255, 0, 0, 0.052); white-space: pre-wrap;\" title=\"KL: 0.052\">&lt;start_of_turn&gt;</span><span style=\"background-color: rgba(255, 0, 0, 0.050); white-space: pre-wrap;\" title=\"KL: 0.050\">model</span><span style=\"background-color: rgba(255, 0, 0, 0.004); white-space: pre-wrap;\" title=\"KL: 0.004\">\n",
       "</span><span style=\"background-color: rgba(255, 0, 0, 0.000); white-space: pre-wrap;\" title=\"KL: 0.000\">```</span><span style=\"background-color: rgba(255, 0, 0, 0.001); white-space: pre-wrap;\" title=\"KL: 0.001\">regex</span><span style=\"background-color: rgba(255, 0, 0, 0.000); white-space: pre-wrap;\" title=\"KL: 0.000\">\n",
       "</span><span style=\"background-color: rgba(255, 0, 0, 0.002); white-space: pre-wrap;\" title=\"KL: 0.002\">\\</span><span style=\"background-color: rgba(255, 0, 0, 0.004); white-space: pre-wrap;\" title=\"KL: 0.004\">d</span><span style=\"background-color: rgba(255, 0, 0, 0.000); white-space: pre-wrap;\" title=\"KL: 0.000\">+</span><span style=\"background-color: rgba(255, 0, 0, 0.000); white-space: pre-wrap;\" title=\"KL: 0.000\">\n",
       "</span><span style=\"background-color: rgba(255, 0, 0, 0.000); white-space: pre-wrap;\" title=\"KL: 0.000\">```</span><span style=\"background-color: rgba(255, 0, 0, 0.003); white-space: pre-wrap;\" title=\"KL: 0.003\">\n",
       "\n",
       "</span><span style=\"background-color: rgba(255, 0, 0, 0.003); white-space: pre-wrap;\" title=\"KL: 0.003\">**</span><span style=\"background-color: rgba(255, 0, 0, 0.000); white-space: pre-wrap;\" title=\"KL: 0.000\">Explanation</span><span style=\"background-color: rgba(255, 0, 0, 0.001); white-space: pre-wrap;\" title=\"KL: 0.001\">:**</span><span style=\"background-color: rgba(255, 0, 0, 0.000); white-space: pre-wrap;\" title=\"KL: 0.000\">\n",
       "\n",
       "</span><span style=\"background-color: rgba(255, 0, 0, 0.000); white-space: pre-wrap;\" title=\"KL: 0.000\">*</span><span style=\"background-color: rgba(255, 0, 0, 0.005); white-space: pre-wrap;\" title=\"KL: 0.005\"> `</span><span style=\"background-color: rgba(255, 0, 0, 0.000); white-space: pre-wrap;\" title=\"KL: 0.000\">\\</span><span style=\"background-color: rgba(255, 0, 0, 0.000); white-space: pre-wrap;\" title=\"KL: 0.000\">d</span><span style=\"background-color: rgba(255, 0, 0, 0.043); white-space: pre-wrap;\" title=\"KL: 0.043\">`:</span><span style=\"background-color: rgba(255, 0, 0, 0.005); white-space: pre-wrap;\" title=\"KL: 0.005\"> Matches</span><span style=\"background-color: rgba(255, 0, 0, 0.000); white-space: pre-wrap;\" title=\"KL: 0.000\"> any</span><span style=\"background-color: rgba(255, 0, 0, 0.002); white-space: pre-wrap;\" title=\"KL: 0.002\"> digit</span><span style=\"background-color: rgba(255, 0, 0, 0.004); white-space: pre-wrap;\" title=\"KL: 0.004\"> character</span><span style=\"background-color: rgba(255, 0, 0, 0.002); white-space: pre-wrap;\" title=\"KL: 0.002\"> (</span><span style=\"background-color: rgba(255, 0, 0, 0.000); white-space: pre-wrap;\" title=\"KL: 0.000\">0</span><span style=\"background-color: rgba(255, 0, 0, 0.000); white-space: pre-wrap;\" title=\"KL: 0.000\">-</span><span style=\"background-color: rgba(255, 0, 0, 0.000); white-space: pre-wrap;\" title=\"KL: 0.000\">9</span><span style=\"background-color: rgba(255, 0, 0, 0.000); white-space: pre-wrap;\" title=\"KL: 0.000\">).</span><span style=\"background-color: rgba(255, 0, 0, 0.005); white-space: pre-wrap;\" title=\"KL: 0.005\">\n",
       "</span><span style=\"background-color: rgba(255, 0, 0, 0.000); white-space: pre-wrap;\" title=\"KL: 0.000\">*</span><span style=\"background-color: rgba(255, 0, 0, 0.001); white-space: pre-wrap;\" title=\"KL: 0.001\"> `</span><span style=\"background-color: rgba(255, 0, 0, 0.000); white-space: pre-wrap;\" title=\"KL: 0.000\">+</span><span style=\"background-color: rgba(255, 0, 0, 0.000); white-space: pre-wrap;\" title=\"KL: 0.000\">`:</span><span style=\"background-color: rgba(255, 0, 0, 0.008); white-space: pre-wrap;\" title=\"KL: 0.008\"> Quanti</span><span style=\"background-color: rgba(255, 0, 0, 0.020); white-space: pre-wrap;\" title=\"KL: 0.020\">fies</span><span style=\"background-color: rgba(255, 0, 0, 0.001); white-space: pre-wrap;\" title=\"KL: 0.001\"> the</span><span style=\"background-color: rgba(255, 0, 0, 0.010); white-space: pre-wrap;\" title=\"KL: 0.010\"> preceding</span><span style=\"background-color: rgba(255, 0, 0, 0.036); white-space: pre-wrap;\" title=\"KL: 0.036\"> element</span><span style=\"background-color: rgba(255, 0, 0, 0.060); white-space: pre-wrap;\" title=\"KL: 0.060\"> (</span><span style=\"background-color: rgba(255, 0, 0, 0.945); white-space: pre-wrap;\" title=\"KL: 0.945\">a</span><span style=\"background-color: rgba(255, 0, 0, 0.009); white-space: pre-wrap;\" title=\"KL: 0.009\"> digit</span><span style=\"background-color: rgba(255, 0, 0, 0.063); white-space: pre-wrap;\" title=\"KL: 0.063\">)</span><span style=\"background-color: rgba(255, 0, 0, 0.015); white-space: pre-wrap;\" title=\"KL: 0.015\"> one</span><span style=\"background-color: rgba(255, 0, 0, 0.000); white-space: pre-wrap;\" title=\"KL: 0.000\"> or</span><span style=\"background-color: rgba(255, 0, 0, 0.000); white-space: pre-wrap;\" title=\"KL: 0.000\"> more</span><span style=\"background-color: rgba(255, 0, 0, 0.001); white-space: pre-wrap;\" title=\"KL: 0.001\"> times</span><span style=\"background-color: rgba(255, 0, 0, 0.006); white-space: pre-wrap;\" title=\"KL: 0.006\">.</span><span style=\"background-color: rgba(255, 0, 0, 0.019); white-space: pre-wrap;\" title=\"KL: 0.019\">\n",
       "\n",
       "</span><span style=\"background-color: rgba(255, 0, 0, 0.003); white-space: pre-wrap;\" title=\"KL: 0.003\">**</span><span style=\"background-color: rgba(255, 0, 0, 0.021); white-space: pre-wrap;\" title=\"KL: 0.021\">Example</span><span style=\"background-color: rgba(255, 0, 0, 0.003); white-space: pre-wrap;\" title=\"KL: 0.003\"> Usage</span><span style=\"background-color: rgba(255, 0, 0, 0.002); white-space: pre-wrap;\" title=\"KL: 0.002\">:**</span><span style=\"background-color: rgba(255, 0, 0, 0.002); white-space: pre-wrap;\" title=\"KL: 0.002\">\n",
       "\n",
       "</span><span style=\"background-color: rgba(255, 0, 0, 0.021); white-space: pre-wrap;\" title=\"KL: 0.021\">```</span><span style=\"background-color: rgba(255, 0, 0, 0.003); white-space: pre-wrap;\" title=\"KL: 0.003\">python</span><span style=\"background-color: rgba(255, 0, 0, 0.000); white-space: pre-wrap;\" title=\"KL: 0.000\">\n",
       "</span><span style=\"background-color: rgba(255, 0, 0, 0.000); white-space: pre-wrap;\" title=\"KL: 0.000\">import</span><span style=\"background-color: rgba(255, 0, 0, 0.000); white-space: pre-wrap;\" title=\"KL: 0.000\"> re</span><span style=\"background-color: rgba(255, 0, 0, 0.001); white-space: pre-wrap;\" title=\"KL: 0.001\">\n",
       "\n",
       "</span><span style=\"background-color: rgba(255, 0, 0, 0.002); white-space: pre-wrap;\" title=\"KL: 0.002\">text</span><span style=\"background-color: rgba(255, 0, 0, 0.000); white-space: pre-wrap;\" title=\"KL: 0.000\"> =</span><span style=\"background-color: rgba(255, 0, 0, 0.009); white-space: pre-wrap;\" title=\"KL: 0.009\"> \"</span><span style=\"background-color: rgba(255, 0, 0, 0.000); white-space: pre-wrap;\" title=\"KL: 0.000\">zip</span><span style=\"background-color: rgba(255, 0, 0, 0.000); white-space: pre-wrap;\" title=\"KL: 0.000\"> code</span><span style=\"background-color: rgba(255, 0, 0, 0.000); white-space: pre-wrap;\" title=\"KL: 0.000\">:</span><span style=\"background-color: rgba(255, 0, 0, 0.000); white-space: pre-wrap;\" title=\"KL: 0.000\"> </span><span style=\"background-color: rgba(255, 0, 0, 0.000); white-space: pre-wrap;\" title=\"KL: 0.000\">9</span><span style=\"background-color: rgba(255, 0, 0, 0.000); white-space: pre-wrap;\" title=\"KL: 0.000\">7</span>"
      ],
      "text/plain": [
       "<IPython.core.display.HTML object>"
      ]
     },
     "metadata": {},
     "output_type": "display_data"
    },
    {
     "name": "stdout",
     "output_type": "stream",
     "text": [
      "High KL: 0.9453 at token 'a'\\n\n"
     ]
    },
    {
     "data": {
      "text/html": [
       "<style type=\"text/css\">\n",
       "#T_8932c th {\n",
       "  text-align: left;\n",
       "}\n",
       "#T_8932c_row0_col0, #T_8932c_row1_col0, #T_8932c_row2_col0 {\n",
       "  background-color: lightgreen;\n",
       "  text-align: left;\n",
       "}\n",
       "#T_8932c_row0_col1, #T_8932c_row0_col2, #T_8932c_row1_col1, #T_8932c_row1_col2, #T_8932c_row2_col1, #T_8932c_row2_col2, #T_8932c_row3_col1, #T_8932c_row3_col2, #T_8932c_row4_col1, #T_8932c_row4_col2, #T_8932c_row5_col1, #T_8932c_row5_col2 {\n",
       "  text-align: left;\n",
       "}\n",
       "#T_8932c_row3_col0, #T_8932c_row4_col0, #T_8932c_row5_col0 {\n",
       "  background-color: lightcoral;\n",
       "  text-align: left;\n",
       "}\n",
       "</style>\n",
       "<table id=\"T_8932c\">\n",
       "  <thead>\n",
       "    <tr>\n",
       "      <th class=\"blank level0\" >&nbsp;</th>\n",
       "      <th id=\"T_8932c_level0_col0\" class=\"col_heading level0 col0\" >Token</th>\n",
       "      <th id=\"T_8932c_level0_col1\" class=\"col_heading level0 col1\" >p_HS</th>\n",
       "      <th id=\"T_8932c_level0_col2\" class=\"col_heading level0 col2\" >p_B</th>\n",
       "    </tr>\n",
       "  </thead>\n",
       "  <tbody>\n",
       "    <tr>\n",
       "      <th id=\"T_8932c_level0_row0\" class=\"row_heading level0 row0\" >0</th>\n",
       "      <td id=\"T_8932c_row0_col0\" class=\"data row0 col0\" >in</td>\n",
       "      <td id=\"T_8932c_row0_col1\" class=\"data row0 col1\" >0.124</td>\n",
       "      <td id=\"T_8932c_row0_col2\" class=\"data row0 col2\" >0.498</td>\n",
       "    </tr>\n",
       "    <tr>\n",
       "      <th id=\"T_8932c_level0_row1\" class=\"row_heading level0 row1\" >1</th>\n",
       "      <td id=\"T_8932c_row1_col0\" class=\"data row1 col0\" >the</td>\n",
       "      <td id=\"T_8932c_row1_col1\" class=\"data row1 col1\" >0.041</td>\n",
       "      <td id=\"T_8932c_row1_col2\" class=\"data row1 col2\" >0.100</td>\n",
       "    </tr>\n",
       "    <tr>\n",
       "      <th id=\"T_8932c_level0_row2\" class=\"row_heading level0 row2\" >2</th>\n",
       "      <td id=\"T_8932c_row2_col0\" class=\"data row2 col0\" >here</td>\n",
       "      <td id=\"T_8932c_row2_col1\" class=\"data row2 col1\" >0.031</td>\n",
       "      <td id=\"T_8932c_row2_col2\" class=\"data row2 col2\" >0.074</td>\n",
       "    </tr>\n",
       "    <tr>\n",
       "      <th id=\"T_8932c_level0_row3\" class=\"row_heading level0 row3\" >3</th>\n",
       "      <td id=\"T_8932c_row3_col0\" class=\"data row3 col0\" >one</td>\n",
       "      <td id=\"T_8932c_row3_col1\" class=\"data row3 col1\" >0.512</td>\n",
       "      <td id=\"T_8932c_row3_col2\" class=\"data row3 col2\" >0.084</td>\n",
       "    </tr>\n",
       "    <tr>\n",
       "      <th id=\"T_8932c_level0_row4\" class=\"row_heading level0 row4\" >4</th>\n",
       "      <td id=\"T_8932c_row4_col0\" class=\"data row4 col0\" >matches</td>\n",
       "      <td id=\"T_8932c_row4_col1\" class=\"data row4 col1\" >0.032</td>\n",
       "      <td id=\"T_8932c_row4_col2\" class=\"data row4 col2\" >0.002</td>\n",
       "    </tr>\n",
       "    <tr>\n",
       "      <th id=\"T_8932c_level0_row5\" class=\"row_heading level0 row5\" >5</th>\n",
       "      <td id=\"T_8932c_row5_col0\" class=\"data row5 col0\" >1</td>\n",
       "      <td id=\"T_8932c_row5_col1\" class=\"data row5 col1\" >0.018</td>\n",
       "      <td id=\"T_8932c_row5_col2\" class=\"data row5 col2\" >0.000</td>\n",
       "    </tr>\n",
       "  </tbody>\n",
       "</table>\n"
      ],
      "text/plain": [
       "<IPython.core.display.HTML object>"
      ]
     },
     "metadata": {},
     "output_type": "display_data"
    },
    {
     "name": "stdout",
     "output_type": "stream",
     "text": [
      "--------------------------------------------------------------------------------------------------------------------------------------------------------------------------------------------------------\n"
     ]
    },
    {
     "data": {
      "text/html": [
       "&lt;bos&gt;<span style=\"background-color: rgba(255, 0, 0, 0.000); white-space: pre-wrap;\" title=\"KL: 0.000\">&lt;start_of_turn&gt;</span><span style=\"background-color: rgba(255, 0, 0, 0.009); white-space: pre-wrap;\" title=\"KL: 0.009\">user</span><span style=\"background-color: rgba(255, 0, 0, 0.041); white-space: pre-wrap;\" title=\"KL: 0.041\">\n",
       "</span><span style=\"background-color: rgba(255, 0, 0, 0.030); white-space: pre-wrap;\" title=\"KL: 0.030\">Write</span><span style=\"background-color: rgba(255, 0, 0, 0.001); white-space: pre-wrap;\" title=\"KL: 0.001\"> a</span><span style=\"background-color: rgba(255, 0, 0, 0.003); white-space: pre-wrap;\" title=\"KL: 0.003\"> script</span><span style=\"background-color: rgba(255, 0, 0, 0.003); white-space: pre-wrap;\" title=\"KL: 0.003\"> for</span><span style=\"background-color: rgba(255, 0, 0, 0.001); white-space: pre-wrap;\" title=\"KL: 0.001\"> a</span><span style=\"background-color: rgba(255, 0, 0, 0.016); white-space: pre-wrap;\" title=\"KL: 0.016\"> pilot</span><span style=\"background-color: rgba(255, 0, 0, 0.000); white-space: pre-wrap;\" title=\"KL: 0.000\"> for</span><span style=\"background-color: rgba(255, 0, 0, 0.003); white-space: pre-wrap;\" title=\"KL: 0.003\"> a</span><span style=\"background-color: rgba(255, 0, 0, 0.016); white-space: pre-wrap;\" title=\"KL: 0.016\"> science</span><span style=\"background-color: rgba(255, 0, 0, 0.001); white-space: pre-wrap;\" title=\"KL: 0.001\"> fiction</span><span style=\"background-color: rgba(255, 0, 0, 0.004); white-space: pre-wrap;\" title=\"KL: 0.004\"> tv</span><span style=\"background-color: rgba(255, 0, 0, 0.000); white-space: pre-wrap;\" title=\"KL: 0.000\"> show</span><span style=\"background-color: rgba(255, 0, 0, 0.002); white-space: pre-wrap;\" title=\"KL: 0.002\">.</span><span style=\"background-color: rgba(255, 0, 0, 0.001); white-space: pre-wrap;\" title=\"KL: 0.001\">&lt;end_of_turn&gt;</span><span style=\"background-color: rgba(255, 0, 0, 0.000); white-space: pre-wrap;\" title=\"KL: 0.000\">\n",
       "</span><span style=\"background-color: rgba(255, 0, 0, 0.048); white-space: pre-wrap;\" title=\"KL: 0.048\">&lt;start_of_turn&gt;</span><span style=\"background-color: rgba(255, 0, 0, 0.010); white-space: pre-wrap;\" title=\"KL: 0.010\">model</span><span style=\"background-color: rgba(255, 0, 0, 0.010); white-space: pre-wrap;\" title=\"KL: 0.010\">\n",
       "</span><span style=\"background-color: rgba(255, 0, 0, 0.000); white-space: pre-wrap;\" title=\"KL: 0.000\">##</span><span style=\"background-color: rgba(255, 0, 0, 0.021); white-space: pre-wrap;\" title=\"KL: 0.021\"> Fade</span><span style=\"background-color: rgba(255, 0, 0, 0.021); white-space: pre-wrap;\" title=\"KL: 0.021\"> In</span><span style=\"background-color: rgba(255, 0, 0, 0.004); white-space: pre-wrap;\" title=\"KL: 0.004\">\n",
       "\n",
       "</span><span style=\"background-color: rgba(255, 0, 0, 0.000); white-space: pre-wrap;\" title=\"KL: 0.000\">**</span><span style=\"background-color: rgba(255, 0, 0, 0.012); white-space: pre-wrap;\" title=\"KL: 0.012\">INT</span><span style=\"background-color: rgba(255, 0, 0, 0.000); white-space: pre-wrap;\" title=\"KL: 0.000\">.</span><span style=\"background-color: rgba(255, 0, 0, 0.004); white-space: pre-wrap;\" title=\"KL: 0.004\"> SHIP</span><span style=\"background-color: rgba(255, 0, 0, 0.009); white-space: pre-wrap;\" title=\"KL: 0.009\">'</span><span style=\"background-color: rgba(255, 0, 0, 0.000); white-space: pre-wrap;\" title=\"KL: 0.000\">S</span><span style=\"background-color: rgba(255, 0, 0, 0.004); white-space: pre-wrap;\" title=\"KL: 0.004\"> COCK</span><span style=\"background-color: rgba(255, 0, 0, 0.000); white-space: pre-wrap;\" title=\"KL: 0.000\">PIT</span><span style=\"background-color: rgba(255, 0, 0, 0.000); white-space: pre-wrap;\" title=\"KL: 0.000\"> -</span><span style=\"background-color: rgba(255, 0, 0, 0.006); white-space: pre-wrap;\" title=\"KL: 0.006\"> DAY</span><span style=\"background-color: rgba(255, 0, 0, 0.000); white-space: pre-wrap;\" title=\"KL: 0.000\">**</span><span style=\"background-color: rgba(255, 0, 0, 0.001); white-space: pre-wrap;\" title=\"KL: 0.001\">\n",
       "\n",
       "</span><span style=\"background-color: rgba(255, 0, 0, 0.009); white-space: pre-wrap;\" title=\"KL: 0.009\">The</span><span style=\"background-color: rgba(255, 0, 0, 0.009); white-space: pre-wrap;\" title=\"KL: 0.009\"> cockpit</span><span style=\"background-color: rgba(255, 0, 0, 0.031); white-space: pre-wrap;\" title=\"KL: 0.031\"> of</span><span style=\"background-color: rgba(255, 0, 0, 0.023); white-space: pre-wrap;\" title=\"KL: 0.023\"> the</span><span style=\"background-color: rgba(255, 0, 0, 0.010); white-space: pre-wrap;\" title=\"KL: 0.010\"> spacecraft</span><span style=\"background-color: rgba(255, 0, 0, 0.012); white-space: pre-wrap;\" title=\"KL: 0.012\">,</span><span style=\"background-color: rgba(255, 0, 0, 0.961); white-space: pre-wrap;\" title=\"KL: 0.961\"> THE</span><span style=\"background-color: rgba(255, 0, 0, 0.006); white-space: pre-wrap;\" title=\"KL: 0.006\"> AST</span><span style=\"background-color: rgba(255, 0, 0, 0.002); white-space: pre-wrap;\" title=\"KL: 0.002\">ERO</span><span style=\"background-color: rgba(255, 0, 0, 0.001); white-space: pre-wrap;\" title=\"KL: 0.001\">ID</span><span style=\"background-color: rgba(255, 0, 0, 0.017); white-space: pre-wrap;\" title=\"KL: 0.017\">,</span><span style=\"background-color: rgba(255, 0, 0, 0.005); white-space: pre-wrap;\" title=\"KL: 0.005\"> is</span><span style=\"background-color: rgba(255, 0, 0, 0.005); white-space: pre-wrap;\" title=\"KL: 0.005\"> spartan</span><span style=\"background-color: rgba(255, 0, 0, 0.003); white-space: pre-wrap;\" title=\"KL: 0.003\"> and</span><span style=\"background-color: rgba(255, 0, 0, 0.016); white-space: pre-wrap;\" title=\"KL: 0.016\"> futuristic</span><span style=\"background-color: rgba(255, 0, 0, 0.002); white-space: pre-wrap;\" title=\"KL: 0.002\">.</span><span style=\"background-color: rgba(255, 0, 0, 0.021); white-space: pre-wrap;\" title=\"KL: 0.021\"> CH</span><span style=\"background-color: rgba(255, 0, 0, 0.001); white-space: pre-wrap;\" title=\"KL: 0.001\">LO</span><span style=\"background-color: rgba(255, 0, 0, 0.000); white-space: pre-wrap;\" title=\"KL: 0.000\">E</span><span style=\"background-color: rgba(255, 0, 0, 0.019); white-space: pre-wrap;\" title=\"KL: 0.019\"> (</span><span style=\"background-color: rgba(255, 0, 0, 0.001); white-space: pre-wrap;\" title=\"KL: 0.001\">2</span><span style=\"background-color: rgba(255, 0, 0, 0.003); white-space: pre-wrap;\" title=\"KL: 0.003\">0</span><span style=\"background-color: rgba(255, 0, 0, 0.000); white-space: pre-wrap;\" title=\"KL: 0.000\">s</span><span style=\"background-color: rgba(255, 0, 0, 0.005); white-space: pre-wrap;\" title=\"KL: 0.005\">,</span><span style=\"background-color: rgba(255, 0, 0, 0.012); white-space: pre-wrap;\" title=\"KL: 0.012\"> passionate</span><span style=\"background-color: rgba(255, 0, 0, 0.004); white-space: pre-wrap;\" title=\"KL: 0.004\">,</span><span style=\"background-color: rgba(255, 0, 0, 0.019); white-space: pre-wrap;\" title=\"KL: 0.019\"> driven</span><span style=\"background-color: rgba(255, 0, 0, 0.014); white-space: pre-wrap;\" title=\"KL: 0.014\">),</span><span style=\"background-color: rgba(255, 0, 0, 0.038); white-space: pre-wrap;\" title=\"KL: 0.038\"> the</span><span style=\"background-color: rgba(255, 0, 0, 0.011); white-space: pre-wrap;\" title=\"KL: 0.011\"> pilot</span><span style=\"background-color: rgba(255, 0, 0, 0.001); white-space: pre-wrap;\" title=\"KL: 0.001\">,</span><span style=\"background-color: rgba(255, 0, 0, 0.009); white-space: pre-wrap;\" title=\"KL: 0.009\"> sits</span><span style=\"background-color: rgba(255, 0, 0, 0.007); white-space: pre-wrap;\" title=\"KL: 0.007\"> at</span><span style=\"background-color: rgba(255, 0, 0, 0.000); white-space: pre-wrap;\" title=\"KL: 0.000\"> the</span><span style=\"background-color: rgba(255, 0, 0, 0.008); white-space: pre-wrap;\" title=\"KL: 0.008\"> helm</span>"
      ],
      "text/plain": [
       "<IPython.core.display.HTML object>"
      ]
     },
     "metadata": {},
     "output_type": "display_data"
    },
    {
     "name": "stdout",
     "output_type": "stream",
     "text": [
      "High KL: 0.9609 at token ' THE'\\n\n"
     ]
    },
    {
     "data": {
      "text/html": [
       "<style type=\"text/css\">\n",
       "#T_c7625 th {\n",
       "  text-align: left;\n",
       "}\n",
       "#T_c7625_row0_col0, #T_c7625_row1_col0, #T_c7625_row2_col0 {\n",
       "  background-color: lightgreen;\n",
       "  text-align: left;\n",
       "}\n",
       "#T_c7625_row0_col1, #T_c7625_row0_col2, #T_c7625_row1_col1, #T_c7625_row1_col2, #T_c7625_row2_col1, #T_c7625_row2_col2, #T_c7625_row3_col1, #T_c7625_row3_col2, #T_c7625_row4_col1, #T_c7625_row4_col2, #T_c7625_row5_col1, #T_c7625_row5_col2 {\n",
       "  text-align: left;\n",
       "}\n",
       "#T_c7625_row3_col0, #T_c7625_row4_col0, #T_c7625_row5_col0 {\n",
       "  background-color: lightcoral;\n",
       "  text-align: left;\n",
       "}\n",
       "</style>\n",
       "<table id=\"T_c7625\">\n",
       "  <thead>\n",
       "    <tr>\n",
       "      <th class=\"blank level0\" >&nbsp;</th>\n",
       "      <th id=\"T_c7625_level0_col0\" class=\"col_heading level0 col0\" >Token</th>\n",
       "      <th id=\"T_c7625_level0_col1\" class=\"col_heading level0 col1\" >p_HS</th>\n",
       "      <th id=\"T_c7625_level0_col2\" class=\"col_heading level0 col2\" >p_B</th>\n",
       "    </tr>\n",
       "  </thead>\n",
       "  <tbody>\n",
       "    <tr>\n",
       "      <th id=\"T_c7625_level0_row0\" class=\"row_heading level0 row0\" >0</th>\n",
       "      <td id=\"T_c7625_row0_col0\" class=\"data row0 col0\" > the</td>\n",
       "      <td id=\"T_c7625_row0_col1\" class=\"data row0 col1\" >0.048</td>\n",
       "      <td id=\"T_c7625_row0_col2\" class=\"data row0 col2\" >0.271</td>\n",
       "    </tr>\n",
       "    <tr>\n",
       "      <th id=\"T_c7625_level0_row1\" class=\"row_heading level0 row1\" >1</th>\n",
       "      <td id=\"T_c7625_row1_col0\" class=\"data row1 col0\" > THE</td>\n",
       "      <td id=\"T_c7625_row1_col1\" class=\"data row1 col1\" >0.011</td>\n",
       "      <td id=\"T_c7625_row1_col2\" class=\"data row1 col2\" >0.058</td>\n",
       "    </tr>\n",
       "    <tr>\n",
       "      <th id=\"T_c7625_level0_row2\" class=\"row_heading level0 row2\" >2</th>\n",
       "      <td id=\"T_c7625_row2_col0\" class=\"data row2 col0\" > \"</td>\n",
       "      <td id=\"T_c7625_row2_col1\" class=\"data row2 col1\" >0.320</td>\n",
       "      <td id=\"T_c7625_row2_col2\" class=\"data row2 col2\" >0.395</td>\n",
       "    </tr>\n",
       "    <tr>\n",
       "      <th id=\"T_c7625_level0_row3\" class=\"row_heading level0 row3\" >3</th>\n",
       "      <td id=\"T_c7625_row3_col0\" class=\"data row3 col0\" > a</td>\n",
       "      <td id=\"T_c7625_row3_col1\" class=\"data row3 col1\" >0.038</td>\n",
       "      <td id=\"T_c7625_row3_col2\" class=\"data row3 col2\" >0.013</td>\n",
       "    </tr>\n",
       "    <tr>\n",
       "      <th id=\"T_c7625_level0_row4\" class=\"row_heading level0 row4\" >4</th>\n",
       "      <td id=\"T_c7625_row4_col0\" class=\"data row4 col0\" > sleek</td>\n",
       "      <td id=\"T_c7625_row4_col1\" class=\"data row4 col1\" >0.340</td>\n",
       "      <td id=\"T_c7625_row4_col2\" class=\"data row4 col2\" >0.027</td>\n",
       "    </tr>\n",
       "    <tr>\n",
       "      <th id=\"T_c7625_level0_row5\" class=\"row_heading level0 row5\" >5</th>\n",
       "      <td id=\"T_c7625_row5_col0\" class=\"data row5 col0\" > spartan</td>\n",
       "      <td id=\"T_c7625_row5_col1\" class=\"data row5 col1\" >0.017</td>\n",
       "      <td id=\"T_c7625_row5_col2\" class=\"data row5 col2\" >0.000</td>\n",
       "    </tr>\n",
       "  </tbody>\n",
       "</table>\n"
      ],
      "text/plain": [
       "<IPython.core.display.HTML object>"
      ]
     },
     "metadata": {},
     "output_type": "display_data"
    },
    {
     "name": "stdout",
     "output_type": "stream",
     "text": [
      "--------------------------------------------------------------------------------------------------------------------------------------------------------------------------------------------------------\n"
     ]
    },
    {
     "data": {
      "text/html": [
       "&lt;bos&gt;<span style=\"background-color: rgba(255, 0, 0, 0.000); white-space: pre-wrap;\" title=\"KL: 0.000\">&lt;start_of_turn&gt;</span><span style=\"background-color: rgba(255, 0, 0, 0.009); white-space: pre-wrap;\" title=\"KL: 0.009\">user</span><span style=\"background-color: rgba(255, 0, 0, 0.041); white-space: pre-wrap;\" title=\"KL: 0.041\">\n",
       "</span><span style=\"background-color: rgba(255, 0, 0, 0.030); white-space: pre-wrap;\" title=\"KL: 0.030\">write</span><span style=\"background-color: rgba(255, 0, 0, 0.001); white-space: pre-wrap;\" title=\"KL: 0.001\"> a</span><span style=\"background-color: rgba(255, 0, 0, 0.003); white-space: pre-wrap;\" title=\"KL: 0.003\"> song</span><span style=\"background-color: rgba(255, 0, 0, 0.001); white-space: pre-wrap;\" title=\"KL: 0.001\"> to</span><span style=\"background-color: rgba(255, 0, 0, 0.005); white-space: pre-wrap;\" title=\"KL: 0.005\"> the</span><span style=\"background-color: rgba(255, 0, 0, 0.039); white-space: pre-wrap;\" title=\"KL: 0.039\"> tune</span><span style=\"background-color: rgba(255, 0, 0, 0.000); white-space: pre-wrap;\" title=\"KL: 0.000\"> of</span><span style=\"background-color: rgba(255, 0, 0, 0.003); white-space: pre-wrap;\" title=\"KL: 0.003\"> we</span><span style=\"background-color: rgba(255, 0, 0, 0.006); white-space: pre-wrap;\" title=\"KL: 0.006\"> are</span><span style=\"background-color: rgba(255, 0, 0, 0.010); white-space: pre-wrap;\" title=\"KL: 0.010\"> the</span><span style=\"background-color: rgba(255, 0, 0, 0.001); white-space: pre-wrap;\" title=\"KL: 0.001\"> champions</span><span style=\"background-color: rgba(255, 0, 0, 0.031); white-space: pre-wrap;\" title=\"KL: 0.031\">,</span><span style=\"background-color: rgba(255, 0, 0, 0.014); white-space: pre-wrap;\" title=\"KL: 0.014\"> make</span><span style=\"background-color: rgba(255, 0, 0, 0.777); white-space: pre-wrap;\" title=\"KL: 0.777\"> the</span><span style=\"background-color: rgba(255, 0, 0, 0.094); white-space: pre-wrap;\" title=\"KL: 0.094\"> song</span><span style=\"background-color: rgba(255, 0, 0, 0.027); white-space: pre-wrap;\" title=\"KL: 0.027\"> about</span><span style=\"background-color: rgba(255, 0, 0, 0.013); white-space: pre-wrap;\" title=\"KL: 0.013\"> how</span><span style=\"background-color: rgba(255, 0, 0, 0.007); white-space: pre-wrap;\" title=\"KL: 0.007\"> great</span><span style=\"background-color: rgba(255, 0, 0, 0.008); white-space: pre-wrap;\" title=\"KL: 0.008\"> it</span><span style=\"background-color: rgba(255, 0, 0, 0.007); white-space: pre-wrap;\" title=\"KL: 0.007\"> is</span><span style=\"background-color: rgba(255, 0, 0, 0.000); white-space: pre-wrap;\" title=\"KL: 0.000\"> to</span><span style=\"background-color: rgba(255, 0, 0, 0.003); white-space: pre-wrap;\" title=\"KL: 0.003\"> lose</span><span style=\"background-color: rgba(255, 0, 0, 0.017); white-space: pre-wrap;\" title=\"KL: 0.017\">&lt;end_of_turn&gt;</span><span style=\"background-color: rgba(255, 0, 0, 0.001); white-space: pre-wrap;\" title=\"KL: 0.001\">\n",
       "</span><span style=\"background-color: rgba(255, 0, 0, 0.006); white-space: pre-wrap;\" title=\"KL: 0.006\">&lt;start_of_turn&gt;</span><span style=\"background-color: rgba(255, 0, 0, 0.001); white-space: pre-wrap;\" title=\"KL: 0.001\">model</span><span style=\"background-color: rgba(255, 0, 0, 0.005); white-space: pre-wrap;\" title=\"KL: 0.005\">\n",
       "</span><span style=\"background-color: rgba(255, 0, 0, 0.001); white-space: pre-wrap;\" title=\"KL: 0.001\">(</span><span style=\"background-color: rgba(255, 0, 0, 0.020); white-space: pre-wrap;\" title=\"KL: 0.020\">Guitar</span><span style=\"background-color: rgba(255, 0, 0, 0.003); white-space: pre-wrap;\" title=\"KL: 0.003\"> strum</span><span style=\"background-color: rgba(255, 0, 0, 0.006); white-space: pre-wrap;\" title=\"KL: 0.006\">ming</span><span style=\"background-color: rgba(255, 0, 0, 0.033); white-space: pre-wrap;\" title=\"KL: 0.033\">,</span><span style=\"background-color: rgba(255, 0, 0, 0.010); white-space: pre-wrap;\" title=\"KL: 0.010\"> similar</span><span style=\"background-color: rgba(255, 0, 0, 0.003); white-space: pre-wrap;\" title=\"KL: 0.003\"> to</span><span style=\"background-color: rgba(255, 0, 0, 0.007); white-space: pre-wrap;\" title=\"KL: 0.007\"> \"</span><span style=\"background-color: rgba(255, 0, 0, 0.000); white-space: pre-wrap;\" title=\"KL: 0.000\">We</span><span style=\"background-color: rgba(255, 0, 0, 0.000); white-space: pre-wrap;\" title=\"KL: 0.000\"> Are</span><span style=\"background-color: rgba(255, 0, 0, 0.001); white-space: pre-wrap;\" title=\"KL: 0.001\"> the</span><span style=\"background-color: rgba(255, 0, 0, 0.001); white-space: pre-wrap;\" title=\"KL: 0.001\"> Champions</span><span style=\"background-color: rgba(255, 0, 0, 0.025); white-space: pre-wrap;\" title=\"KL: 0.025\">\")</span><span style=\"background-color: rgba(255, 0, 0, 0.000); white-space: pre-wrap;\" title=\"KL: 0.000\">\n",
       "\n",
       "</span><span style=\"background-color: rgba(255, 0, 0, 0.002); white-space: pre-wrap;\" title=\"KL: 0.002\">We</span><span style=\"background-color: rgba(255, 0, 0, 0.009); white-space: pre-wrap;\" title=\"KL: 0.009\"> are</span><span style=\"background-color: rgba(255, 0, 0, 0.010); white-space: pre-wrap;\" title=\"KL: 0.010\"> the</span><span style=\"background-color: rgba(255, 0, 0, 0.010); white-space: pre-wrap;\" title=\"KL: 0.010\"> losers</span><span style=\"background-color: rgba(255, 0, 0, 0.021); white-space: pre-wrap;\" title=\"KL: 0.021\">,</span><span style=\"background-color: rgba(255, 0, 0, 0.043); white-space: pre-wrap;\" title=\"KL: 0.043\"> it</span><span style=\"background-color: rgba(255, 0, 0, 0.001); white-space: pre-wrap;\" title=\"KL: 0.001\">'</span><span style=\"background-color: rgba(255, 0, 0, 0.000); white-space: pre-wrap;\" title=\"KL: 0.000\">s</span><span style=\"background-color: rgba(255, 0, 0, 0.028); white-space: pre-wrap;\" title=\"KL: 0.028\"> true</span><span style=\"background-color: rgba(255, 0, 0, 0.241); white-space: pre-wrap;\" title=\"KL: 0.241\"> we</span><span style=\"background-color: rgba(255, 0, 0, 0.046); white-space: pre-wrap;\" title=\"KL: 0.046\"> fall</span><span style=\"background-color: rgba(255, 0, 0, 0.041); white-space: pre-wrap;\" title=\"KL: 0.041\">,</span><span style=\"background-color: rgba(255, 0, 0, 0.000); white-space: pre-wrap;\" title=\"KL: 0.000\">\n",
       "</span><span style=\"background-color: rgba(255, 0, 0, 0.015); white-space: pre-wrap;\" title=\"KL: 0.015\">But</span><span style=\"background-color: rgba(255, 0, 0, 0.030); white-space: pre-wrap;\" title=\"KL: 0.030\"> the</span><span style=\"background-color: rgba(255, 0, 0, 0.018); white-space: pre-wrap;\" title=\"KL: 0.018\"> journey</span><span style=\"background-color: rgba(255, 0, 0, 0.005); white-space: pre-wrap;\" title=\"KL: 0.005\">'</span><span style=\"background-color: rgba(255, 0, 0, 0.000); white-space: pre-wrap;\" title=\"KL: 0.000\">s</span><span style=\"background-color: rgba(255, 0, 0, 0.121); white-space: pre-wrap;\" title=\"KL: 0.121\"> not</span><span style=\"background-color: rgba(255, 0, 0, 0.144); white-space: pre-wrap;\" title=\"KL: 0.144\"> lost</span><span style=\"background-color: rgba(255, 0, 0, 0.002); white-space: pre-wrap;\" title=\"KL: 0.002\">,</span><span style=\"background-color: rgba(255, 0, 0, 0.009); white-space: pre-wrap;\" title=\"KL: 0.009\"> we</span><span style=\"background-color: rgba(255, 0, 0, 0.019); white-space: pre-wrap;\" title=\"KL: 0.019\"> stand</span><span style=\"background-color: rgba(255, 0, 0, 0.002); white-space: pre-wrap;\" title=\"KL: 0.002\"> tall</span><span style=\"background-color: rgba(255, 0, 0, 0.000); white-space: pre-wrap;\" title=\"KL: 0.000\">.</span><span style=\"background-color: rgba(255, 0, 0, 0.001); white-space: pre-wrap;\" title=\"KL: 0.001\"> </span><span style=\"background-color: rgba(255, 0, 0, 0.000); white-space: pre-wrap;\" title=\"KL: 0.000\">\n",
       "</span><span style=\"background-color: rgba(255, 0, 0, 0.007); white-space: pre-wrap;\" title=\"KL: 0.007\">The</span><span style=\"background-color: rgba(255, 0, 0, 0.016); white-space: pre-wrap;\" title=\"KL: 0.016\"> heart</span><span style=\"background-color: rgba(255, 0, 0, 0.020); white-space: pre-wrap;\" title=\"KL: 0.020\"> beats</span><span style=\"background-color: rgba(255, 0, 0, 0.684); white-space: pre-wrap;\" title=\"KL: 0.684\"> a</span><span style=\"background-color: rgba(255, 0, 0, 0.012); white-space: pre-wrap;\" title=\"KL: 0.012\"> rhythm</span><span style=\"background-color: rgba(255, 0, 0, 0.006); white-space: pre-wrap;\" title=\"KL: 0.006\">,</span><span style=\"background-color: rgba(255, 0, 0, 0.116); white-space: pre-wrap;\" title=\"KL: 0.116\"> that</span><span style=\"background-color: rgba(255, 0, 0, 0.029); white-space: pre-wrap;\" title=\"KL: 0.029\">'</span><span style=\"background-color: rgba(255, 0, 0, 0.000); white-space: pre-wrap;\" title=\"KL: 0.000\">s</span><span style=\"background-color: rgba(255, 0, 0, 0.069); white-space: pre-wrap;\" title=\"KL: 0.069\"> never</span><span style=\"background-color: rgba(255, 0, 0, 0.291); white-space: pre-wrap;\" title=\"KL: 0.291\"> in</span><span style=\"background-color: rgba(255, 0, 0, 0.026); white-space: pre-wrap;\" title=\"KL: 0.026\"> vain</span><span style=\"background-color: rgba(255, 0, 0, 0.001); white-space: pre-wrap;\" title=\"KL: 0.001\">,</span><span style=\"background-color: rgba(255, 0, 0, 0.000); white-space: pre-wrap;\" title=\"KL: 0.000\">\n",
       "</span><span style=\"background-color: rgba(255, 0, 0, 0.014); white-space: pre-wrap;\" title=\"KL: 0.014\">'</span><span style=\"background-color: rgba(255, 0, 0, 0.001); white-space: pre-wrap;\" title=\"KL: 0.001\">Cuz</span><span style=\"background-color: rgba(255, 0, 0, 0.025); white-space: pre-wrap;\" title=\"KL: 0.025\"> learning</span><span style=\"background-color: rgba(255, 0, 0, 0.076); white-space: pre-wrap;\" title=\"KL: 0.076\"> from</span><span style=\"background-color: rgba(255, 0, 0, 0.237); white-space: pre-wrap;\" title=\"KL: 0.237\"> failure</span><span style=\"background-color: rgba(255, 0, 0, 0.001); white-space: pre-wrap;\" title=\"KL: 0.001\">,</span><span style=\"background-color: rgba(255, 0, 0, 0.006); white-space: pre-wrap;\" title=\"KL: 0.006\"> is</span><span style=\"background-color: rgba(255, 0, 0, 0.016); white-space: pre-wrap;\" title=\"KL: 0.016\"> how</span><span style=\"background-color: rgba(255, 0, 0, 0.004); white-space: pre-wrap;\" title=\"KL: 0.004\"> we</span><span style=\"background-color: rgba(255, 0, 0, 0.055); white-space: pre-wrap;\" title=\"KL: 0.055\"> reclaim</span><span style=\"background-color: rgba(255, 0, 0, 0.002); white-space: pre-wrap;\" title=\"KL: 0.002\">.</span><span style=\"background-color: rgba(255, 0, 0, 0.000); white-space: pre-wrap;\" title=\"KL: 0.000\">\n",
       "\n",
       "</span><span style=\"background-color: rgba(255, 0, 0, 0.002); white-space: pre-wrap;\" title=\"KL: 0.002\">(</span><span style=\"background-color: rgba(255, 0, 0, 0.000); white-space: pre-wrap;\" title=\"KL: 0.000\">Chorus</span><span style=\"background-color: rgba(255, 0, 0, 0.002); white-space: pre-wrap;\" title=\"KL: 0.002\">)</span><span style=\"background-color: rgba(255, 0, 0, 0.000); white-space: pre-wrap;\" title=\"KL: 0.000\">\n",
       "</span><span style=\"background-color: rgba(255, 0, 0, 0.005); white-space: pre-wrap;\" title=\"KL: 0.005\">We</span><span style=\"background-color: rgba(255, 0, 0, 0.015); white-space: pre-wrap;\" title=\"KL: 0.015\"> are</span>"
      ],
      "text/plain": [
       "<IPython.core.display.HTML object>"
      ]
     },
     "metadata": {},
     "output_type": "display_data"
    },
    {
     "name": "stdout",
     "output_type": "stream",
     "text": [
      "High KL: 0.7773 at token ' the'\\n\n"
     ]
    },
    {
     "data": {
      "text/html": [
       "<style type=\"text/css\">\n",
       "#T_e1353 th {\n",
       "  text-align: left;\n",
       "}\n",
       "#T_e1353_row0_col0, #T_e1353_row1_col0, #T_e1353_row2_col0 {\n",
       "  background-color: lightgreen;\n",
       "  text-align: left;\n",
       "}\n",
       "#T_e1353_row0_col1, #T_e1353_row0_col2, #T_e1353_row1_col1, #T_e1353_row1_col2, #T_e1353_row2_col1, #T_e1353_row2_col2, #T_e1353_row3_col1, #T_e1353_row3_col2, #T_e1353_row4_col1, #T_e1353_row4_col2, #T_e1353_row5_col1, #T_e1353_row5_col2 {\n",
       "  text-align: left;\n",
       "}\n",
       "#T_e1353_row3_col0, #T_e1353_row4_col0, #T_e1353_row5_col0 {\n",
       "  background-color: lightcoral;\n",
       "  text-align: left;\n",
       "}\n",
       "</style>\n",
       "<table id=\"T_e1353\">\n",
       "  <thead>\n",
       "    <tr>\n",
       "      <th class=\"blank level0\" >&nbsp;</th>\n",
       "      <th id=\"T_e1353_level0_col0\" class=\"col_heading level0 col0\" >Token</th>\n",
       "      <th id=\"T_e1353_level0_col1\" class=\"col_heading level0 col1\" >p_HS</th>\n",
       "      <th id=\"T_e1353_level0_col2\" class=\"col_heading level0 col2\" >p_B</th>\n",
       "    </tr>\n",
       "  </thead>\n",
       "  <tbody>\n",
       "    <tr>\n",
       "      <th id=\"T_e1353_level0_row0\" class=\"row_heading level0 row0\" >0</th>\n",
       "      <td id=\"T_e1353_row0_col0\" class=\"data row0 col0\" > it</td>\n",
       "      <td id=\"T_e1353_row0_col1\" class=\"data row0 col1\" >0.011</td>\n",
       "      <td id=\"T_e1353_row0_col2\" class=\"data row0 col2\" >0.055</td>\n",
       "    </tr>\n",
       "    <tr>\n",
       "      <th id=\"T_e1353_level0_row1\" class=\"row_heading level0 row1\" >1</th>\n",
       "      <td id=\"T_e1353_row1_col0\" class=\"data row1 col0\" > this</td>\n",
       "      <td id=\"T_e1353_row1_col1\" class=\"data row1 col1\" >0.008</td>\n",
       "      <td id=\"T_e1353_row1_col2\" class=\"data row1 col2\" >0.036</td>\n",
       "    </tr>\n",
       "    <tr>\n",
       "      <th id=\"T_e1353_level0_row2\" class=\"row_heading level0 row2\" >2</th>\n",
       "      <td id=\"T_e1353_row2_col0\" class=\"data row2 col0\" > us</td>\n",
       "      <td id=\"T_e1353_row2_col1\" class=\"data row2 col1\" >0.334</td>\n",
       "      <td id=\"T_e1353_row2_col2\" class=\"data row2 col2\" >0.727</td>\n",
       "    </tr>\n",
       "    <tr>\n",
       "      <th id=\"T_e1353_level0_row3\" class=\"row_heading level0 row3\" >3</th>\n",
       "      <td id=\"T_e1353_row3_col0\" class=\"data row3 col0\" > were</td>\n",
       "      <td id=\"T_e1353_row3_col1\" class=\"data row3 col1\" >0.003</td>\n",
       "      <td id=\"T_e1353_row3_col2\" class=\"data row3 col2\" >0.001</td>\n",
       "    </tr>\n",
       "    <tr>\n",
       "      <th id=\"T_e1353_level0_row4\" class=\"row_heading level0 row4\" >4</th>\n",
       "      <td id=\"T_e1353_row4_col0\" class=\"data row4 col0\" > I</td>\n",
       "      <td id=\"T_e1353_row4_col1\" class=\"data row4 col1\" >0.021</td>\n",
       "      <td id=\"T_e1353_row4_col2\" class=\"data row4 col2\" >0.005</td>\n",
       "    </tr>\n",
       "    <tr>\n",
       "      <th id=\"T_e1353_level0_row5\" class=\"row_heading level0 row5\" >5</th>\n",
       "      <td id=\"T_e1353_row5_col0\" class=\"data row5 col0\" > we</td>\n",
       "      <td id=\"T_e1353_row5_col1\" class=\"data row5 col1\" >0.559</td>\n",
       "      <td id=\"T_e1353_row5_col2\" class=\"data row5 col2\" >0.086</td>\n",
       "    </tr>\n",
       "  </tbody>\n",
       "</table>\n"
      ],
      "text/plain": [
       "<IPython.core.display.HTML object>"
      ]
     },
     "metadata": {},
     "output_type": "display_data"
    },
    {
     "name": "stdout",
     "output_type": "stream",
     "text": [
      "--------------------------------------------------------------------------------------------------------------------------------------------------------------------------------------------------------\n"
     ]
    },
    {
     "data": {
      "text/html": [
       "&lt;bos&gt;<span style=\"background-color: rgba(255, 0, 0, 0.000); white-space: pre-wrap;\" title=\"KL: 0.000\">&lt;start_of_turn&gt;</span><span style=\"background-color: rgba(255, 0, 0, 0.009); white-space: pre-wrap;\" title=\"KL: 0.009\">user</span><span style=\"background-color: rgba(255, 0, 0, 0.041); white-space: pre-wrap;\" title=\"KL: 0.041\">\n",
       "</span><span style=\"background-color: rgba(255, 0, 0, 0.030); white-space: pre-wrap;\" title=\"KL: 0.030\">who</span><span style=\"background-color: rgba(255, 0, 0, 0.002); white-space: pre-wrap;\" title=\"KL: 0.002\"> are</span><span style=\"background-color: rgba(255, 0, 0, 0.001); white-space: pre-wrap;\" title=\"KL: 0.001\"> the</span><span style=\"background-color: rgba(255, 0, 0, 0.002); white-space: pre-wrap;\" title=\"KL: 0.002\"> top</span><span style=\"background-color: rgba(255, 0, 0, 0.002); white-space: pre-wrap;\" title=\"KL: 0.002\"> academic</span><span style=\"background-color: rgba(255, 0, 0, 0.005); white-space: pre-wrap;\" title=\"KL: 0.005\"> experts</span><span style=\"background-color: rgba(255, 0, 0, 0.005); white-space: pre-wrap;\" title=\"KL: 0.005\"> in</span><span style=\"background-color: rgba(255, 0, 0, 0.008); white-space: pre-wrap;\" title=\"KL: 0.008\"> technology</span><span style=\"background-color: rgba(255, 0, 0, 0.003); white-space: pre-wrap;\" title=\"KL: 0.003\"> adoption</span><span style=\"background-color: rgba(255, 0, 0, 0.021); white-space: pre-wrap;\" title=\"KL: 0.021\"> into</span><span style=\"background-color: rgba(255, 0, 0, 0.037); white-space: pre-wrap;\" title=\"KL: 0.037\"> the</span><span style=\"background-color: rgba(255, 0, 0, 0.038); white-space: pre-wrap;\" title=\"KL: 0.038\"> market</span><span style=\"background-color: rgba(255, 0, 0, 0.059); white-space: pre-wrap;\" title=\"KL: 0.059\">?</span><span style=\"background-color: rgba(255, 0, 0, 0.006); white-space: pre-wrap;\" title=\"KL: 0.006\">&lt;end_of_turn&gt;</span><span style=\"background-color: rgba(255, 0, 0, 0.001); white-space: pre-wrap;\" title=\"KL: 0.001\">\n",
       "</span><span style=\"background-color: rgba(255, 0, 0, 0.008); white-space: pre-wrap;\" title=\"KL: 0.008\">&lt;start_of_turn&gt;</span><span style=\"background-color: rgba(255, 0, 0, 0.012); white-space: pre-wrap;\" title=\"KL: 0.012\">model</span><span style=\"background-color: rgba(255, 0, 0, 0.014); white-space: pre-wrap;\" title=\"KL: 0.014\">\n",
       "</span><span style=\"background-color: rgba(255, 0, 0, 0.001); white-space: pre-wrap;\" title=\"KL: 0.001\">It</span><span style=\"background-color: rgba(255, 0, 0, 0.000); white-space: pre-wrap;\" title=\"KL: 0.000\">'</span><span style=\"background-color: rgba(255, 0, 0, 0.000); white-space: pre-wrap;\" title=\"KL: 0.000\">s</span><span style=\"background-color: rgba(255, 0, 0, 0.005); white-space: pre-wrap;\" title=\"KL: 0.005\"> tough</span><span style=\"background-color: rgba(255, 0, 0, 0.002); white-space: pre-wrap;\" title=\"KL: 0.002\"> to</span><span style=\"background-color: rgba(255, 0, 0, 0.002); white-space: pre-wrap;\" title=\"KL: 0.002\"> definitively</span><span style=\"background-color: rgba(255, 0, 0, 0.001); white-space: pre-wrap;\" title=\"KL: 0.001\"> say</span><span style=\"background-color: rgba(255, 0, 0, 0.001); white-space: pre-wrap;\" title=\"KL: 0.001\"> who</span><span style=\"background-color: rgba(255, 0, 0, 0.001); white-space: pre-wrap;\" title=\"KL: 0.001\"> the</span><span style=\"background-color: rgba(255, 0, 0, 0.003); white-space: pre-wrap;\" title=\"KL: 0.003\"> *</span><span style=\"background-color: rgba(255, 0, 0, 0.001); white-space: pre-wrap;\" title=\"KL: 0.001\">top</span><span style=\"background-color: rgba(255, 0, 0, 0.001); white-space: pre-wrap;\" title=\"KL: 0.001\">*</span><span style=\"background-color: rgba(255, 0, 0, 0.006); white-space: pre-wrap;\" title=\"KL: 0.006\"> experts</span><span style=\"background-color: rgba(255, 0, 0, 0.006); white-space: pre-wrap;\" title=\"KL: 0.006\"> are</span><span style=\"background-color: rgba(255, 0, 0, 0.010); white-space: pre-wrap;\" title=\"KL: 0.010\">,</span><span style=\"background-color: rgba(255, 0, 0, 0.002); white-space: pre-wrap;\" title=\"KL: 0.002\"> as</span><span style=\"background-color: rgba(255, 0, 0, 0.022); white-space: pre-wrap;\" title=\"KL: 0.022\"> the</span><span style=\"background-color: rgba(255, 0, 0, 0.001); white-space: pre-wrap;\" title=\"KL: 0.001\"> field</span><span style=\"background-color: rgba(255, 0, 0, 0.005); white-space: pre-wrap;\" title=\"KL: 0.005\"> is</span><span style=\"background-color: rgba(255, 0, 0, 0.004); white-space: pre-wrap;\" title=\"KL: 0.004\"> vast</span><span style=\"background-color: rgba(255, 0, 0, 0.001); white-space: pre-wrap;\" title=\"KL: 0.001\"> and</span><span style=\"background-color: rgba(255, 0, 0, 0.027); white-space: pre-wrap;\" title=\"KL: 0.027\"> opinions</span><span style=\"background-color: rgba(255, 0, 0, 0.002); white-space: pre-wrap;\" title=\"KL: 0.002\"> vary</span><span style=\"background-color: rgba(255, 0, 0, 0.005); white-space: pre-wrap;\" title=\"KL: 0.005\">.</span><span style=\"background-color: rgba(255, 0, 0, 0.005); white-space: pre-wrap;\" title=\"KL: 0.005\"> However</span><span style=\"background-color: rgba(255, 0, 0, 0.000); white-space: pre-wrap;\" title=\"KL: 0.000\">,</span><span style=\"background-color: rgba(255, 0, 0, 0.006); white-space: pre-wrap;\" title=\"KL: 0.006\"> I</span><span style=\"background-color: rgba(255, 0, 0, 0.000); white-space: pre-wrap;\" title=\"KL: 0.000\"> can</span><span style=\"background-color: rgba(255, 0, 0, 0.002); white-space: pre-wrap;\" title=\"KL: 0.002\"> point</span><span style=\"background-color: rgba(255, 0, 0, 0.000); white-space: pre-wrap;\" title=\"KL: 0.000\"> you</span><span style=\"background-color: rgba(255, 0, 0, 0.001); white-space: pre-wrap;\" title=\"KL: 0.001\"> towards</span><span style=\"background-color: rgba(255, 0, 0, 0.003); white-space: pre-wrap;\" title=\"KL: 0.003\"> some</span><span style=\"background-color: rgba(255, 0, 0, 0.013); white-space: pre-wrap;\" title=\"KL: 0.013\"> key</span><span style=\"background-color: rgba(255, 0, 0, 0.019); white-space: pre-wrap;\" title=\"KL: 0.019\"> researchers</span><span style=\"background-color: rgba(255, 0, 0, 0.012); white-space: pre-wrap;\" title=\"KL: 0.012\"> and</span><span style=\"background-color: rgba(255, 0, 0, 0.052); white-space: pre-wrap;\" title=\"KL: 0.052\"> figures</span><span style=\"background-color: rgba(255, 0, 0, 0.012); white-space: pre-wrap;\" title=\"KL: 0.012\"> who</span><span style=\"background-color: rgba(255, 0, 0, 0.002); white-space: pre-wrap;\" title=\"KL: 0.002\"> are</span><span style=\"background-color: rgba(255, 0, 0, 0.008); white-space: pre-wrap;\" title=\"KL: 0.008\"> considered</span><span style=\"background-color: rgba(255, 0, 0, 0.004); white-space: pre-wrap;\" title=\"KL: 0.004\"> leaders</span><span style=\"background-color: rgba(255, 0, 0, 0.001); white-space: pre-wrap;\" title=\"KL: 0.001\"> in</span><span style=\"background-color: rgba(255, 0, 0, 0.024); white-space: pre-wrap;\" title=\"KL: 0.024\"> technology</span><span style=\"background-color: rgba(255, 0, 0, 0.000); white-space: pre-wrap;\" title=\"KL: 0.000\"> adoption</span><span style=\"background-color: rgba(255, 0, 0, 0.041); white-space: pre-wrap;\" title=\"KL: 0.041\"> into</span><span style=\"background-color: rgba(255, 0, 0, 0.002); white-space: pre-wrap;\" title=\"KL: 0.002\"> the</span><span style=\"background-color: rgba(255, 0, 0, 0.001); white-space: pre-wrap;\" title=\"KL: 0.001\"> market</span><span style=\"background-color: rgba(255, 0, 0, 0.002); white-space: pre-wrap;\" title=\"KL: 0.002\">.</span><span style=\"background-color: rgba(255, 0, 0, 0.001); white-space: pre-wrap;\" title=\"KL: 0.001\">  </span><span style=\"background-color: rgba(255, 0, 0, 0.003); white-space: pre-wrap;\" title=\"KL: 0.003\">\n",
       "\n",
       "</span><span style=\"background-color: rgba(255, 0, 0, 0.007); white-space: pre-wrap;\" title=\"KL: 0.007\">**</span><span style=\"background-color: rgba(255, 0, 0, 0.030); white-space: pre-wrap;\" title=\"KL: 0.030\">Key</span><span style=\"background-color: rgba(255, 0, 0, 0.002); white-space: pre-wrap;\" title=\"KL: 0.002\"> Areas</span><span style=\"background-color: rgba(255, 0, 0, 0.003); white-space: pre-wrap;\" title=\"KL: 0.003\"> of</span><span style=\"background-color: rgba(255, 0, 0, 0.020); white-space: pre-wrap;\" title=\"KL: 0.020\"> Expertise</span><span style=\"background-color: rgba(255, 0, 0, 0.001); white-space: pre-wrap;\" title=\"KL: 0.001\">:**</span><span style=\"background-color: rgba(255, 0, 0, 0.000); white-space: pre-wrap;\" title=\"KL: 0.000\">\n",
       "\n",
       "</span><span style=\"background-color: rgba(255, 0, 0, 0.021); white-space: pre-wrap;\" title=\"KL: 0.021\">*</span><span style=\"background-color: rgba(255, 0, 0, 0.000); white-space: pre-wrap;\" title=\"KL: 0.000\"> **</span><span style=\"background-color: rgba(255, 0, 0, 0.020); white-space: pre-wrap;\" title=\"KL: 0.020\">Diffusion</span><span style=\"background-color: rgba(255, 0, 0, 0.000); white-space: pre-wrap;\" title=\"KL: 0.000\"> of</span><span style=\"background-color: rgba(255, 0, 0, 0.003); white-space: pre-wrap;\" title=\"KL: 0.003\"> Innovation</span><span style=\"background-color: rgba(255, 0, 0, 0.013); white-space: pre-wrap;\" title=\"KL: 0.013\">:**</span><span style=\"background-color: rgba(255, 0, 0, 0.048); white-space: pre-wrap;\" title=\"KL: 0.048\">  </span><span style=\"background-color: rgba(255, 0, 0, 0.054); white-space: pre-wrap;\" title=\"KL: 0.054\">Understanding</span><span style=\"background-color: rgba(255, 0, 0, 0.001); white-space: pre-wrap;\" title=\"KL: 0.001\"> how</span><span style=\"background-color: rgba(255, 0, 0, 0.001); white-space: pre-wrap;\" title=\"KL: 0.001\"> new</span><span style=\"background-color: rgba(255, 0, 0, 0.008); white-space: pre-wrap;\" title=\"KL: 0.008\"> technologies</span><span style=\"background-color: rgba(255, 0, 0, 0.002); white-space: pre-wrap;\" title=\"KL: 0.002\"> get</span><span style=\"background-color: rgba(255, 0, 0, 0.001); white-space: pre-wrap;\" title=\"KL: 0.001\"> adopted</span><span style=\"background-color: rgba(255, 0, 0, 0.005); white-space: pre-wrap;\" title=\"KL: 0.005\"> by</span><span style=\"background-color: rgba(255, 0, 0, 0.015); white-space: pre-wrap;\" title=\"KL: 0.015\"> different</span><span style=\"background-color: rgba(255, 0, 0, 0.006); white-space: pre-wrap;\" title=\"KL: 0.006\"> groups</span><span style=\"background-color: rgba(255, 0, 0, 0.011); white-space: pre-wrap;\" title=\"KL: 0.011\"> (</span><span style=\"background-color: rgba(255, 0, 0, 0.074); white-space: pre-wrap;\" title=\"KL: 0.074\">e</span><span style=\"background-color: rgba(255, 0, 0, 0.000); white-space: pre-wrap;\" title=\"KL: 0.000\">.</span><span style=\"background-color: rgba(255, 0, 0, 0.000); white-space: pre-wrap;\" title=\"KL: 0.000\">g</span><span style=\"background-color: rgba(255, 0, 0, 0.000); white-space: pre-wrap;\" title=\"KL: 0.000\">.,</span><span style=\"background-color: rgba(255, 0, 0, 0.060); white-space: pre-wrap;\" title=\"KL: 0.060\"> early</span><span style=\"background-color: rgba(255, 0, 0, 0.000); white-space: pre-wrap;\" title=\"KL: 0.000\"> adop</span><span style=\"background-color: rgba(255, 0, 0, 0.000); white-space: pre-wrap;\" title=\"KL: 0.000\">ters</span><span style=\"background-color: rgba(255, 0, 0, 0.003); white-space: pre-wrap;\" title=\"KL: 0.003\">,</span><span style=\"background-color: rgba(255, 0, 0, 0.045); white-space: pre-wrap;\" title=\"KL: 0.045\"> la</span><span style=\"background-color: rgba(255, 0, 0, 0.000); white-space: pre-wrap;\" title=\"KL: 0.000\">gg</span><span style=\"background-color: rgba(255, 0, 0, 0.000); white-space: pre-wrap;\" title=\"KL: 0.000\">ards</span><span style=\"background-color: rgba(255, 0, 0, 0.019); white-space: pre-wrap;\" title=\"KL: 0.019\">)</span><span style=\"background-color: rgba(255, 0, 0, 0.010); white-space: pre-wrap;\" title=\"KL: 0.010\"> and</span><span style=\"background-color: rgba(255, 0, 0, 0.024); white-space: pre-wrap;\" title=\"KL: 0.024\"> the</span><span style=\"background-color: rgba(255, 0, 0, 0.004); white-space: pre-wrap;\" title=\"KL: 0.004\"> factors</span><span style=\"background-color: rgba(255, 0, 0, 0.007); white-space: pre-wrap;\" title=\"KL: 0.007\"> that</span><span style=\"background-color: rgba(255, 0, 0, 0.000); white-space: pre-wrap;\" title=\"KL: 0.000\"> drive</span><span style=\"background-color: rgba(255, 0, 0, 0.022); white-space: pre-wrap;\" title=\"KL: 0.022\"> that</span><span style=\"background-color: rgba(255, 0, 0, 0.005); white-space: pre-wrap;\" title=\"KL: 0.005\"> process</span><span style=\"background-color: rgba(255, 0, 0, 0.007); white-space: pre-wrap;\" title=\"KL: 0.007\">.</span><span style=\"background-color: rgba(255, 0, 0, 0.002); white-space: pre-wrap;\" title=\"KL: 0.002\">\n",
       "</span><span style=\"background-color: rgba(255, 0, 0, 0.001); white-space: pre-wrap;\" title=\"KL: 0.001\">*</span><span style=\"background-color: rgba(255, 0, 0, 0.000); white-space: pre-wrap;\" title=\"KL: 0.000\"> **</span><span style=\"background-color: rgba(255, 0, 0, 0.005); white-space: pre-wrap;\" title=\"KL: 0.005\">Technology</span><span style=\"background-color: rgba(255, 0, 0, 0.019); white-space: pre-wrap;\" title=\"KL: 0.019\"> Business</span><span style=\"background-color: rgba(255, 0, 0, 0.106); white-space: pre-wrap;\" title=\"KL: 0.106\"> Management</span><span style=\"background-color: rgba(255, 0, 0, 0.003); white-space: pre-wrap;\" title=\"KL: 0.003\">:**</span><span style=\"background-color: rgba(255, 0, 0, 0.029); white-space: pre-wrap;\" title=\"KL: 0.029\"> This</span><span style=\"background-color: rgba(255, 0, 0, 0.014); white-space: pre-wrap;\" title=\"KL: 0.014\"> focuses</span><span style=\"background-color: rgba(255, 0, 0, 0.000); white-space: pre-wrap;\" title=\"KL: 0.000\"> on</span><span style=\"background-color: rgba(255, 0, 0, 0.003); white-space: pre-wrap;\" title=\"KL: 0.003\"> the</span><span style=\"background-color: rgba(255, 0, 0, 0.018); white-space: pre-wrap;\" title=\"KL: 0.018\"> strategies</span><span style=\"background-color: rgba(255, 0, 0, 0.005); white-space: pre-wrap;\" title=\"KL: 0.005\"> firms</span><span style=\"background-color: rgba(255, 0, 0, 0.001); white-space: pre-wrap;\" title=\"KL: 0.001\"> use</span><span style=\"background-color: rgba(255, 0, 0, 0.001); white-space: pre-wrap;\" title=\"KL: 0.001\"> to</span><span style=\"background-color: rgba(255, 0, 0, 0.007); white-space: pre-wrap;\" title=\"KL: 0.007\"> successfully</span><span style=\"background-color: rgba(255, 0, 0, 0.006); white-space: pre-wrap;\" title=\"KL: 0.006\"> introduce</span><span style=\"background-color: rgba(255, 0, 0, 0.006); white-space: pre-wrap;\" title=\"KL: 0.006\"> new</span><span style=\"background-color: rgba(255, 0, 0, 0.008); white-space: pre-wrap;\" title=\"KL: 0.008\"> technologies</span><span style=\"background-color: rgba(255, 0, 0, 0.006); white-space: pre-wrap;\" title=\"KL: 0.006\"> into</span><span style=\"background-color: rgba(255, 0, 0, 0.002); white-space: pre-wrap;\" title=\"KL: 0.002\"> the</span><span style=\"background-color: rgba(255, 0, 0, 0.000); white-space: pre-wrap;\" title=\"KL: 0.000\"> marketplace</span><span style=\"background-color: rgba(255, 0, 0, 0.007); white-space: pre-wrap;\" title=\"KL: 0.007\">.</span><span style=\"background-color: rgba(255, 0, 0, 0.003); white-space: pre-wrap;\" title=\"KL: 0.003\">\n",
       "</span><span style=\"background-color: rgba(255, 0, 0, 0.000); white-space: pre-wrap;\" title=\"KL: 0.000\">*</span><span style=\"background-color: rgba(255, 0, 0, 0.000); white-space: pre-wrap;\" title=\"KL: 0.000\"> **</span><span style=\"background-color: rgba(255, 0, 0, 0.019); white-space: pre-wrap;\" title=\"KL: 0.019\">Digital</span><span style=\"background-color: rgba(255, 0, 0, 0.007); white-space: pre-wrap;\" title=\"KL: 0.007\"> Transformation</span><span style=\"background-color: rgba(255, 0, 0, 0.003); white-space: pre-wrap;\" title=\"KL: 0.003\">:**</span><span style=\"background-color: rgba(255, 0, 0, 0.006); white-space: pre-wrap;\" title=\"KL: 0.006\"> Exploring</span><span style=\"background-color: rgba(255, 0, 0, 0.000); white-space: pre-wrap;\" title=\"KL: 0.000\"> how</span><span style=\"background-color: rgba(255, 0, 0, 0.010); white-space: pre-wrap;\" title=\"KL: 0.010\"> companies</span><span style=\"background-color: rgba(255, 0, 0, 0.016); white-space: pre-wrap;\" title=\"KL: 0.016\"> navigate</span><span style=\"background-color: rgba(255, 0, 0, 0.008); white-space: pre-wrap;\" title=\"KL: 0.008\"> the</span><span style=\"background-color: rgba(255, 0, 0, 0.008); white-space: pre-wrap;\" title=\"KL: 0.008\"> shift</span><span style=\"background-color: rgba(255, 0, 0, 0.004); white-space: pre-wrap;\" title=\"KL: 0.004\"> to</span><span style=\"background-color: rgba(255, 0, 0, 0.003); white-space: pre-wrap;\" title=\"KL: 0.003\"> digital</span><span style=\"background-color: rgba(255, 0, 0, 0.010); white-space: pre-wrap;\" title=\"KL: 0.010\"> from</span><span style=\"background-color: rgba(255, 0, 0, 0.024); white-space: pre-wrap;\" title=\"KL: 0.024\"> a</span><span style=\"background-color: rgba(255, 0, 0, 0.641); white-space: pre-wrap;\" title=\"KL: 0.641\"> physical</span><span style=\"background-color: rgba(255, 0, 0, 0.040); white-space: pre-wrap;\" title=\"KL: 0.040\"> or</span><span style=\"background-color: rgba(255, 0, 0, 0.021); white-space: pre-wrap;\" title=\"KL: 0.021\"> traditional</span><span style=\"background-color: rgba(255, 0, 0, 0.085); white-space: pre-wrap;\" title=\"KL: 0.085\"> approach</span><span style=\"background-color: rgba(255, 0, 0, 0.081); white-space: pre-wrap;\" title=\"KL: 0.081\">.</span><span style=\"background-color: rgba(255, 0, 0, 0.010); white-space: pre-wrap;\" title=\"KL: 0.010\">\n",
       "</span><span style=\"background-color: rgba(255, 0, 0, 0.000); white-space: pre-wrap;\" title=\"KL: 0.000\">*</span><span style=\"background-color: rgba(255, 0, 0, 0.000); white-space: pre-wrap;\" title=\"KL: 0.000\"> **</span><span style=\"background-color: rgba(255, 0, 0, 0.026); white-space: pre-wrap;\" title=\"KL: 0.026\">Adoption</span><span style=\"background-color: rgba(255, 0, 0, 0.047); white-space: pre-wrap;\" title=\"KL: 0.047\"> and</span><span style=\"background-color: rgba(255, 0, 0, 0.042); white-space: pre-wrap;\" title=\"KL: 0.042\"> Implementation</span><span style=\"background-color: rgba(255, 0, 0, 0.015); white-space: pre-wrap;\" title=\"KL: 0.015\"> of</span><span style=\"background-color: rgba(255, 0, 0, 0.013); white-space: pre-wrap;\" title=\"KL: 0.013\"> New</span><span style=\"background-color: rgba(255, 0, 0, 0.003); white-space: pre-wrap;\" title=\"KL: 0.003\"> Technologies</span><span style=\"background-color: rgba(255, 0, 0, 0.006); white-space: pre-wrap;\" title=\"KL: 0.006\"> (</span><span style=\"background-color: rgba(255, 0, 0, 0.061); white-space: pre-wrap;\" title=\"KL: 0.061\">including</span><span style=\"background-color: rgba(255, 0, 0, 0.014); white-space: pre-wrap;\" title=\"KL: 0.014\"> AI</span><span style=\"background-color: rgba(255, 0, 0, 0.011); white-space: pre-wrap;\" title=\"KL: 0.011\">):</span><span style=\"background-color: rgba(255, 0, 0, 0.000); white-space: pre-wrap;\" title=\"KL: 0.000\">**</span><span style=\"background-color: rgba(255, 0, 0, 0.012); white-space: pre-wrap;\" title=\"KL: 0.012\"> Understanding</span><span style=\"background-color: rgba(255, 0, 0, 0.010); white-space: pre-wrap;\" title=\"KL: 0.010\"> the</span><span style=\"background-color: rgba(255, 0, 0, 0.017); white-space: pre-wrap;\" title=\"KL: 0.017\"> specific</span><span style=\"background-color: rgba(255, 0, 0, 0.005); white-space: pre-wrap;\" title=\"KL: 0.005\"> challenges</span><span style=\"background-color: rgba(255, 0, 0, 0.001); white-space: pre-wrap;\" title=\"KL: 0.001\"> and</span><span style=\"background-color: rgba(255, 0, 0, 0.022); white-space: pre-wrap;\" title=\"KL: 0.022\"> opportunities</span><span style=\"background-color: rgba(255, 0, 0, 0.008); white-space: pre-wrap;\" title=\"KL: 0.008\"> associated</span><span style=\"background-color: rgba(255, 0, 0, 0.000); white-space: pre-wrap;\" title=\"KL: 0.000\"> with</span><span style=\"background-color: rgba(255, 0, 0, 0.004); white-space: pre-wrap;\" title=\"KL: 0.004\"> adopting</span><span style=\"background-color: rgba(255, 0, 0, 0.006); white-space: pre-wrap;\" title=\"KL: 0.006\"> new</span>"
      ],
      "text/plain": [
       "<IPython.core.display.HTML object>"
      ]
     },
     "metadata": {},
     "output_type": "display_data"
    },
    {
     "name": "stdout",
     "output_type": "stream",
     "text": [
      "High KL: 0.6406 at token ' physical'\\n\n"
     ]
    },
    {
     "data": {
      "text/html": [
       "<style type=\"text/css\">\n",
       "#T_16fb4 th {\n",
       "  text-align: left;\n",
       "}\n",
       "#T_16fb4_row0_col0, #T_16fb4_row1_col0, #T_16fb4_row2_col0 {\n",
       "  background-color: lightgreen;\n",
       "  text-align: left;\n",
       "}\n",
       "#T_16fb4_row0_col1, #T_16fb4_row0_col2, #T_16fb4_row1_col1, #T_16fb4_row1_col2, #T_16fb4_row2_col1, #T_16fb4_row2_col2, #T_16fb4_row3_col1, #T_16fb4_row3_col2, #T_16fb4_row4_col1, #T_16fb4_row4_col2, #T_16fb4_row5_col1, #T_16fb4_row5_col2 {\n",
       "  text-align: left;\n",
       "}\n",
       "#T_16fb4_row3_col0, #T_16fb4_row4_col0, #T_16fb4_row5_col0 {\n",
       "  background-color: lightcoral;\n",
       "  text-align: left;\n",
       "}\n",
       "</style>\n",
       "<table id=\"T_16fb4\">\n",
       "  <thead>\n",
       "    <tr>\n",
       "      <th class=\"blank level0\" >&nbsp;</th>\n",
       "      <th id=\"T_16fb4_level0_col0\" class=\"col_heading level0 col0\" >Token</th>\n",
       "      <th id=\"T_16fb4_level0_col1\" class=\"col_heading level0 col1\" >p_HS</th>\n",
       "      <th id=\"T_16fb4_level0_col2\" class=\"col_heading level0 col2\" >p_B</th>\n",
       "    </tr>\n",
       "  </thead>\n",
       "  <tbody>\n",
       "    <tr>\n",
       "      <th id=\"T_16fb4_level0_row0\" class=\"row_heading level0 row0\" >0</th>\n",
       "      <td id=\"T_16fb4_row0_col0\" class=\"data row0 col0\" > strategic</td>\n",
       "      <td id=\"T_16fb4_row0_col1\" class=\"data row0 col1\" >0.003</td>\n",
       "      <td id=\"T_16fb4_row0_col2\" class=\"data row0 col2\" >0.037</td>\n",
       "    </tr>\n",
       "    <tr>\n",
       "      <th id=\"T_16fb4_level0_row1\" class=\"row_heading level0 row1\" >1</th>\n",
       "      <td id=\"T_16fb4_row1_col0\" class=\"data row1 col0\" > business</td>\n",
       "      <td id=\"T_16fb4_row1_col1\" class=\"data row1 col1\" >0.093</td>\n",
       "      <td id=\"T_16fb4_row1_col2\" class=\"data row1 col2\" >0.305</td>\n",
       "    </tr>\n",
       "    <tr>\n",
       "      <th id=\"T_16fb4_level0_row2\" class=\"row_heading level0 row2\" >2</th>\n",
       "      <td id=\"T_16fb4_row2_col0\" class=\"data row2 col0\" > technological</td>\n",
       "      <td id=\"T_16fb4_row2_col1\" class=\"data row2 col1\" >0.057</td>\n",
       "      <td id=\"T_16fb4_row2_col2\" class=\"data row2 col2\" >0.145</td>\n",
       "    </tr>\n",
       "    <tr>\n",
       "      <th id=\"T_16fb4_level0_row3\" class=\"row_heading level0 row3\" >3</th>\n",
       "      <td id=\"T_16fb4_row3_col0\" class=\"data row3 col0\" > traditional</td>\n",
       "      <td id=\"T_16fb4_row3_col1\" class=\"data row3 col1\" >0.408</td>\n",
       "      <td id=\"T_16fb4_row3_col2\" class=\"data row3 col2\" >0.104</td>\n",
       "    </tr>\n",
       "    <tr>\n",
       "      <th id=\"T_16fb4_level0_row4\" class=\"row_heading level0 row4\" >4</th>\n",
       "      <td id=\"T_16fb4_row4_col0\" class=\"data row4 col0\" > physical</td>\n",
       "      <td id=\"T_16fb4_row4_col1\" class=\"data row4 col1\" >0.107</td>\n",
       "      <td id=\"T_16fb4_row4_col2\" class=\"data row4 col2\" >0.027</td>\n",
       "    </tr>\n",
       "    <tr>\n",
       "      <th id=\"T_16fb4_level0_row5\" class=\"row_heading level0 row5\" >5</th>\n",
       "      <td id=\"T_16fb4_row5_col0\" class=\"data row5 col0\" > purely</td>\n",
       "      <td id=\"T_16fb4_row5_col1\" class=\"data row5 col1\" >0.042</td>\n",
       "      <td id=\"T_16fb4_row5_col2\" class=\"data row5 col2\" >0.010</td>\n",
       "    </tr>\n",
       "  </tbody>\n",
       "</table>\n"
      ],
      "text/plain": [
       "<IPython.core.display.HTML object>"
      ]
     },
     "metadata": {},
     "output_type": "display_data"
    },
    {
     "name": "stdout",
     "output_type": "stream",
     "text": [
      "--------------------------------------------------------------------------------------------------------------------------------------------------------------------------------------------------------\n"
     ]
    },
    {
     "data": {
      "text/html": [
       "&lt;bos&gt;<span style=\"background-color: rgba(255, 0, 0, 0.000); white-space: pre-wrap;\" title=\"KL: 0.000\">&lt;start_of_turn&gt;</span><span style=\"background-color: rgba(255, 0, 0, 0.009); white-space: pre-wrap;\" title=\"KL: 0.009\">user</span><span style=\"background-color: rgba(255, 0, 0, 0.041); white-space: pre-wrap;\" title=\"KL: 0.041\">\n",
       "</span><span style=\"background-color: rgba(255, 0, 0, 0.030); white-space: pre-wrap;\" title=\"KL: 0.030\">write</span><span style=\"background-color: rgba(255, 0, 0, 0.001); white-space: pre-wrap;\" title=\"KL: 0.001\"> a</span><span style=\"background-color: rgba(255, 0, 0, 0.003); white-space: pre-wrap;\" title=\"KL: 0.003\"> song</span><span style=\"background-color: rgba(255, 0, 0, 0.001); white-space: pre-wrap;\" title=\"KL: 0.001\"> to</span><span style=\"background-color: rgba(255, 0, 0, 0.005); white-space: pre-wrap;\" title=\"KL: 0.005\"> the</span><span style=\"background-color: rgba(255, 0, 0, 0.039); white-space: pre-wrap;\" title=\"KL: 0.039\"> tune</span><span style=\"background-color: rgba(255, 0, 0, 0.000); white-space: pre-wrap;\" title=\"KL: 0.000\"> of</span><span style=\"background-color: rgba(255, 0, 0, 0.003); white-space: pre-wrap;\" title=\"KL: 0.003\"> we</span><span style=\"background-color: rgba(255, 0, 0, 0.006); white-space: pre-wrap;\" title=\"KL: 0.006\"> are</span><span style=\"background-color: rgba(255, 0, 0, 0.010); white-space: pre-wrap;\" title=\"KL: 0.010\"> the</span><span style=\"background-color: rgba(255, 0, 0, 0.001); white-space: pre-wrap;\" title=\"KL: 0.001\"> champions</span><span style=\"background-color: rgba(255, 0, 0, 0.031); white-space: pre-wrap;\" title=\"KL: 0.031\">,</span><span style=\"background-color: rgba(255, 0, 0, 0.014); white-space: pre-wrap;\" title=\"KL: 0.014\"> make</span><span style=\"background-color: rgba(255, 0, 0, 0.777); white-space: pre-wrap;\" title=\"KL: 0.777\"> the</span><span style=\"background-color: rgba(255, 0, 0, 0.094); white-space: pre-wrap;\" title=\"KL: 0.094\"> song</span><span style=\"background-color: rgba(255, 0, 0, 0.027); white-space: pre-wrap;\" title=\"KL: 0.027\"> about</span><span style=\"background-color: rgba(255, 0, 0, 0.013); white-space: pre-wrap;\" title=\"KL: 0.013\"> how</span><span style=\"background-color: rgba(255, 0, 0, 0.007); white-space: pre-wrap;\" title=\"KL: 0.007\"> great</span><span style=\"background-color: rgba(255, 0, 0, 0.008); white-space: pre-wrap;\" title=\"KL: 0.008\"> it</span><span style=\"background-color: rgba(255, 0, 0, 0.007); white-space: pre-wrap;\" title=\"KL: 0.007\"> is</span><span style=\"background-color: rgba(255, 0, 0, 0.000); white-space: pre-wrap;\" title=\"KL: 0.000\"> to</span><span style=\"background-color: rgba(255, 0, 0, 0.003); white-space: pre-wrap;\" title=\"KL: 0.003\"> lose</span><span style=\"background-color: rgba(255, 0, 0, 0.017); white-space: pre-wrap;\" title=\"KL: 0.017\">&lt;end_of_turn&gt;</span><span style=\"background-color: rgba(255, 0, 0, 0.001); white-space: pre-wrap;\" title=\"KL: 0.001\">\n",
       "</span><span style=\"background-color: rgba(255, 0, 0, 0.006); white-space: pre-wrap;\" title=\"KL: 0.006\">&lt;start_of_turn&gt;</span><span style=\"background-color: rgba(255, 0, 0, 0.001); white-space: pre-wrap;\" title=\"KL: 0.001\">model</span><span style=\"background-color: rgba(255, 0, 0, 0.005); white-space: pre-wrap;\" title=\"KL: 0.005\">\n",
       "</span><span style=\"background-color: rgba(255, 0, 0, 0.001); white-space: pre-wrap;\" title=\"KL: 0.001\">(</span><span style=\"background-color: rgba(255, 0, 0, 0.020); white-space: pre-wrap;\" title=\"KL: 0.020\">Guitar</span><span style=\"background-color: rgba(255, 0, 0, 0.003); white-space: pre-wrap;\" title=\"KL: 0.003\"> strum</span><span style=\"background-color: rgba(255, 0, 0, 0.006); white-space: pre-wrap;\" title=\"KL: 0.006\">ming</span><span style=\"background-color: rgba(255, 0, 0, 0.033); white-space: pre-wrap;\" title=\"KL: 0.033\">,</span><span style=\"background-color: rgba(255, 0, 0, 0.010); white-space: pre-wrap;\" title=\"KL: 0.010\"> similar</span><span style=\"background-color: rgba(255, 0, 0, 0.003); white-space: pre-wrap;\" title=\"KL: 0.003\"> to</span><span style=\"background-color: rgba(255, 0, 0, 0.007); white-space: pre-wrap;\" title=\"KL: 0.007\"> \"</span><span style=\"background-color: rgba(255, 0, 0, 0.000); white-space: pre-wrap;\" title=\"KL: 0.000\">We</span><span style=\"background-color: rgba(255, 0, 0, 0.000); white-space: pre-wrap;\" title=\"KL: 0.000\"> Are</span><span style=\"background-color: rgba(255, 0, 0, 0.001); white-space: pre-wrap;\" title=\"KL: 0.001\"> the</span><span style=\"background-color: rgba(255, 0, 0, 0.001); white-space: pre-wrap;\" title=\"KL: 0.001\"> Champions</span><span style=\"background-color: rgba(255, 0, 0, 0.025); white-space: pre-wrap;\" title=\"KL: 0.025\">\")</span><span style=\"background-color: rgba(255, 0, 0, 0.000); white-space: pre-wrap;\" title=\"KL: 0.000\">\n",
       "\n",
       "</span><span style=\"background-color: rgba(255, 0, 0, 0.002); white-space: pre-wrap;\" title=\"KL: 0.002\">We</span>"
      ],
      "text/plain": [
       "<IPython.core.display.HTML object>"
      ]
     },
     "metadata": {},
     "output_type": "display_data"
    },
    {
     "name": "stdout",
     "output_type": "stream",
     "text": [
      "High KL: 0.7773 at token ' the'\\n\n"
     ]
    },
    {
     "data": {
      "text/html": [
       "<style type=\"text/css\">\n",
       "#T_759ce th {\n",
       "  text-align: left;\n",
       "}\n",
       "#T_759ce_row0_col0, #T_759ce_row1_col0, #T_759ce_row2_col0 {\n",
       "  background-color: lightgreen;\n",
       "  text-align: left;\n",
       "}\n",
       "#T_759ce_row0_col1, #T_759ce_row0_col2, #T_759ce_row1_col1, #T_759ce_row1_col2, #T_759ce_row2_col1, #T_759ce_row2_col2, #T_759ce_row3_col1, #T_759ce_row3_col2, #T_759ce_row4_col1, #T_759ce_row4_col2, #T_759ce_row5_col1, #T_759ce_row5_col2 {\n",
       "  text-align: left;\n",
       "}\n",
       "#T_759ce_row3_col0, #T_759ce_row4_col0, #T_759ce_row5_col0 {\n",
       "  background-color: lightcoral;\n",
       "  text-align: left;\n",
       "}\n",
       "</style>\n",
       "<table id=\"T_759ce\">\n",
       "  <thead>\n",
       "    <tr>\n",
       "      <th class=\"blank level0\" >&nbsp;</th>\n",
       "      <th id=\"T_759ce_level0_col0\" class=\"col_heading level0 col0\" >Token</th>\n",
       "      <th id=\"T_759ce_level0_col1\" class=\"col_heading level0 col1\" >p_HS</th>\n",
       "      <th id=\"T_759ce_level0_col2\" class=\"col_heading level0 col2\" >p_B</th>\n",
       "    </tr>\n",
       "  </thead>\n",
       "  <tbody>\n",
       "    <tr>\n",
       "      <th id=\"T_759ce_level0_row0\" class=\"row_heading level0 row0\" >0</th>\n",
       "      <td id=\"T_759ce_row0_col0\" class=\"data row0 col0\" > it</td>\n",
       "      <td id=\"T_759ce_row0_col1\" class=\"data row0 col1\" >0.011</td>\n",
       "      <td id=\"T_759ce_row0_col2\" class=\"data row0 col2\" >0.055</td>\n",
       "    </tr>\n",
       "    <tr>\n",
       "      <th id=\"T_759ce_level0_row1\" class=\"row_heading level0 row1\" >1</th>\n",
       "      <td id=\"T_759ce_row1_col0\" class=\"data row1 col0\" > this</td>\n",
       "      <td id=\"T_759ce_row1_col1\" class=\"data row1 col1\" >0.008</td>\n",
       "      <td id=\"T_759ce_row1_col2\" class=\"data row1 col2\" >0.036</td>\n",
       "    </tr>\n",
       "    <tr>\n",
       "      <th id=\"T_759ce_level0_row2\" class=\"row_heading level0 row2\" >2</th>\n",
       "      <td id=\"T_759ce_row2_col0\" class=\"data row2 col0\" > us</td>\n",
       "      <td id=\"T_759ce_row2_col1\" class=\"data row2 col1\" >0.334</td>\n",
       "      <td id=\"T_759ce_row2_col2\" class=\"data row2 col2\" >0.727</td>\n",
       "    </tr>\n",
       "    <tr>\n",
       "      <th id=\"T_759ce_level0_row3\" class=\"row_heading level0 row3\" >3</th>\n",
       "      <td id=\"T_759ce_row3_col0\" class=\"data row3 col0\" > were</td>\n",
       "      <td id=\"T_759ce_row3_col1\" class=\"data row3 col1\" >0.003</td>\n",
       "      <td id=\"T_759ce_row3_col2\" class=\"data row3 col2\" >0.001</td>\n",
       "    </tr>\n",
       "    <tr>\n",
       "      <th id=\"T_759ce_level0_row4\" class=\"row_heading level0 row4\" >4</th>\n",
       "      <td id=\"T_759ce_row4_col0\" class=\"data row4 col0\" > I</td>\n",
       "      <td id=\"T_759ce_row4_col1\" class=\"data row4 col1\" >0.021</td>\n",
       "      <td id=\"T_759ce_row4_col2\" class=\"data row4 col2\" >0.005</td>\n",
       "    </tr>\n",
       "    <tr>\n",
       "      <th id=\"T_759ce_level0_row5\" class=\"row_heading level0 row5\" >5</th>\n",
       "      <td id=\"T_759ce_row5_col0\" class=\"data row5 col0\" > we</td>\n",
       "      <td id=\"T_759ce_row5_col1\" class=\"data row5 col1\" >0.559</td>\n",
       "      <td id=\"T_759ce_row5_col2\" class=\"data row5 col2\" >0.086</td>\n",
       "    </tr>\n",
       "  </tbody>\n",
       "</table>\n"
      ],
      "text/plain": [
       "<IPython.core.display.HTML object>"
      ]
     },
     "metadata": {},
     "output_type": "display_data"
    },
    {
     "name": "stdout",
     "output_type": "stream",
     "text": [
      "--------------------------------------------------------------------------------------------------------------------------------------------------------------------------------------------------------\n"
     ]
    }
   ],
   "source": [
    "top_vals_hs, top_inds_hs = matrix_topk(kl_hs, k=10)\n",
    "top_vals_ablated, top_inds_ablated = matrix_topk(kl_ablated, k=10)\n",
    "for (batch_idx, seq_idx) in top_inds_ablated:\n",
    "    highlight_kl(model_base, model_hs, model_chat, toks[batch_idx, :seq_idx+30], layer, head, cscale=1, ablate=True)\n",
    "    print(\"--\"*100)"
   ]
  }
 ],
 "metadata": {
  "kernelspec": {
   "display_name": "Python 3",
   "language": "python",
   "name": "python3"
  },
  "language_info": {
   "codemirror_mode": {
    "name": "ipython",
    "version": 3
   },
   "file_extension": ".py",
   "mimetype": "text/x-python",
   "name": "python",
   "nbconvert_exporter": "python",
   "pygments_lexer": "ipython3",
   "version": "3.10.12"
  }
 },
 "nbformat": 4,
 "nbformat_minor": 2
}
