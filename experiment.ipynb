{
 "cells": [
  {
   "cell_type": "code",
   "execution_count": 1,
   "metadata": {},
   "outputs": [
    {
     "name": "stderr",
     "output_type": "stream",
     "text": [
      "/usr/local/lib/python3.10/dist-packages/torchvision/io/image.py:13: UserWarning: Failed to load image Python extension: '/usr/local/lib/python3.10/dist-packages/torchvision/image.so: undefined symbol: _ZN3c1017RegisterOperatorsD1Ev'If you don't plan on using image functionality from `torchvision.io`, you can ignore this warning. Otherwise, there might be something wrong with your environment. Did you have `libjpeg` or `libpng` installed before building `torchvision` from source?\n",
      "  warn(\n"
     ]
    },
    {
     "data": {
      "text/plain": [
       "<torch.autograd.grad_mode.set_grad_enabled at 0x78cfe0d7b220>"
      ]
     },
     "execution_count": 1,
     "metadata": {},
     "output_type": "execute_result"
    }
   ],
   "source": [
    "%load_ext autoreload\n",
    "%autoreload 2\n",
    "\n",
    "from transformer_lens import HookedTransformer\n",
    "import torch as t\n",
    "from huggingface_hub import login\n",
    "from contextlib import contextmanager\n",
    "import json\n",
    "import torch.nn.functional as F\n",
    "from tqdm.notebook import tqdm\n",
    "import gc\n",
    "from IPython.display import display, HTML\n",
    "import html as html_escaper\n",
    "import copy\n",
    "\n",
    "from utils import *\n",
    "\n",
    "# login(\"\")\n",
    "t.set_grad_enabled(False)"
   ]
  },
  {
   "cell_type": "code",
   "execution_count": 2,
   "metadata": {},
   "outputs": [
    {
     "data": {
      "application/vnd.jupyter.widget-view+json": {
       "model_id": "17caad319305460e86cff6f6c256ce8e",
       "version_major": 2,
       "version_minor": 0
      },
      "text/plain": [
       "Loading checkpoint shards:   0%|          | 0/3 [00:00<?, ?it/s]"
      ]
     },
     "metadata": {},
     "output_type": "display_data"
    },
    {
     "name": "stdout",
     "output_type": "stream",
     "text": [
      "Loaded pretrained model gemma-2-2b into HookedTransformer\n"
     ]
    },
    {
     "data": {
      "application/vnd.jupyter.widget-view+json": {
       "model_id": "bf9019de76584bddbbfe922107fa30b6",
       "version_major": 2,
       "version_minor": 0
      },
      "text/plain": [
       "Loading checkpoint shards:   0%|          | 0/2 [00:00<?, ?it/s]"
      ]
     },
     "metadata": {},
     "output_type": "display_data"
    },
    {
     "name": "stdout",
     "output_type": "stream",
     "text": [
      "Loaded pretrained model gemma-2-2b-it into HookedTransformer\n"
     ]
    }
   ],
   "source": [
    "model_base = HookedTransformer.from_pretrained_no_processing(\"gemma-2-2b\", device=\"cpu\")\n",
    "model_chat = HookedTransformer.from_pretrained_no_processing(\"gemma-2-2b-it\", device=\"cuda\")\n",
    "model_hs = copy.deepcopy(model_chat)\n",
    "clear_mem()"
   ]
  },
  {
   "cell_type": "code",
   "execution_count": 32,
   "metadata": {},
   "outputs": [],
   "source": [
    "MAX_SEQ_LEN = 300\n",
    "NUM_LINES = 2000\n",
    "with open(\"2b_it_generations_deduped.jsonl\", \"r\") as f:\n",
    "    data = [json.loads(line)['conversation'] for i, line in enumerate(f) if i < NUM_LINES]\n",
    "toks = model_base.to_tokens(data, prepend_bos=False)[:, :MAX_SEQ_LEN] "
   ]
  },
  {
   "cell_type": "code",
   "execution_count": 33,
   "metadata": {},
   "outputs": [
    {
     "data": {
      "application/vnd.jupyter.widget-view+json": {
       "model_id": "d65dc62bd2d64b3d8ee881980ba8b522",
       "version_major": 2,
       "version_minor": 0
      },
      "text/plain": [
       "  0%|          | 0/12 [00:00<?, ?it/s]"
      ]
     },
     "metadata": {},
     "output_type": "display_data"
    }
   ],
   "source": [
    "clear_mem()\n",
    "\n",
    "layer, head = 6, 0\n",
    "kl_hs, kl_ablated = get_kl(model_base, model_hs, model_chat, toks[:200], layer, head, batch_size=16)"
   ]
  },
  {
   "cell_type": "code",
   "execution_count": 35,
   "metadata": {},
   "outputs": [
    {
     "data": {
      "text/html": [
       "&lt;bos&gt;<span style=\"background-color: rgba(255, 0, 0, 0.000); white-space: pre-wrap;\" title=\"KL: -0.000\">&lt;start_of_turn&gt;</span><span style=\"background-color: rgba(255, 0, 0, 0.000); white-space: pre-wrap;\" title=\"KL: 0.000\">user</span><span style=\"background-color: rgba(255, 0, 0, 0.000); white-space: pre-wrap;\" title=\"KL: 0.000\">\n",
       "</span><span style=\"background-color: rgba(255, 0, 0, 0.002); white-space: pre-wrap;\" title=\"KL: 0.000\">Can</span><span style=\"background-color: rgba(255, 0, 0, 0.000); white-space: pre-wrap;\" title=\"KL: 0.000\"> you</span><span style=\"background-color: rgba(255, 0, 0, 0.000); white-space: pre-wrap;\" title=\"KL: 0.000\"> suggest</span><span style=\"background-color: rgba(255, 0, 0, 0.000); white-space: pre-wrap;\" title=\"KL: 0.000\"> some</span><span style=\"background-color: rgba(255, 0, 0, 0.000); white-space: pre-wrap;\" title=\"KL: 0.000\"> names</span><span style=\"background-color: rgba(255, 0, 0, 0.000); white-space: pre-wrap;\" title=\"KL: 0.000\"> for</span><span style=\"background-color: rgba(255, 0, 0, 0.000); white-space: pre-wrap;\" title=\"KL: 0.000\"> high</span><span style=\"background-color: rgba(255, 0, 0, 0.000); white-space: pre-wrap;\" title=\"KL: 0.000\"> school</span><span style=\"background-color: rgba(255, 0, 0, 0.000); white-space: pre-wrap;\" title=\"KL: 0.000\"> choral</span><span style=\"background-color: rgba(255, 0, 0, 0.000); white-space: pre-wrap;\" title=\"KL: 0.000\"> groups</span><span style=\"background-color: rgba(255, 0, 0, 0.000); white-space: pre-wrap;\" title=\"KL: 0.000\"> that</span><span style=\"background-color: rgba(255, 0, 0, 0.001); white-space: pre-wrap;\" title=\"KL: 0.000\"> are</span><span style=\"background-color: rgba(255, 0, 0, 0.004); white-space: pre-wrap;\" title=\"KL: 0.000\"> no</span><span style=\"background-color: rgba(255, 0, 0, 0.034); white-space: pre-wrap;\" title=\"KL: 0.003\"> more</span><span style=\"background-color: rgba(255, 0, 0, 0.004); white-space: pre-wrap;\" title=\"KL: 0.000\"> than</span><span style=\"background-color: rgba(255, 0, 0, 0.000); white-space: pre-wrap;\" title=\"KL: 0.000\"> two</span><span style=\"background-color: rgba(255, 0, 0, 0.000); white-space: pre-wrap;\" title=\"KL: 0.000\"> words</span><span style=\"background-color: rgba(255, 0, 0, 0.000); white-space: pre-wrap;\" title=\"KL: 0.000\"> in</span><span style=\"background-color: rgba(255, 0, 0, 0.000); white-space: pre-wrap;\" title=\"KL: 0.000\"> length</span><span style=\"background-color: rgba(255, 0, 0, 0.000); white-space: pre-wrap;\" title=\"KL: 0.000\"> and</span><span style=\"background-color: rgba(255, 0, 0, 0.002); white-space: pre-wrap;\" title=\"KL: 0.000\"> ideally</span><span style=\"background-color: rgba(255, 0, 0, 0.001); white-space: pre-wrap;\" title=\"KL: 0.000\"> (</span><span style=\"background-color: rgba(255, 0, 0, 0.000); white-space: pre-wrap;\" title=\"KL: 0.000\">but</span><span style=\"background-color: rgba(255, 0, 0, 0.000); white-space: pre-wrap;\" title=\"KL: 0.000\"> don</span><span style=\"background-color: rgba(255, 0, 0, 0.000); white-space: pre-wrap;\" title=\"KL: 0.000\">'</span><span style=\"background-color: rgba(255, 0, 0, 0.000); white-space: pre-wrap;\" title=\"KL: 0.000\">t</span><span style=\"background-color: rgba(255, 0, 0, 0.001); white-space: pre-wrap;\" title=\"KL: 0.000\"> have</span><span style=\"background-color: rgba(255, 0, 0, 0.000); white-space: pre-wrap;\" title=\"KL: 0.000\"> to</span><span style=\"background-color: rgba(255, 0, 0, 0.018); white-space: pre-wrap;\" title=\"KL: 0.002\">)</span><span style=\"background-color: rgba(255, 0, 0, 0.002); white-space: pre-wrap;\" title=\"KL: 0.000\"> have</span><span style=\"background-color: rgba(255, 0, 0, 0.000); white-space: pre-wrap;\" title=\"KL: 0.000\"> the</span><span style=\"background-color: rgba(255, 0, 0, 1.000); white-space: pre-wrap;\" title=\"KL: 0.110\"> following</span><span style=\"background-color: rgba(255, 0, 0, 0.000); white-space: pre-wrap;\" title=\"KL: 0.000\"> characteristics</span><span style=\"background-color: rgba(255, 0, 0, 0.000); white-space: pre-wrap;\" title=\"KL: 0.000\">:</span><span style=\"background-color: rgba(255, 0, 0, 0.000); white-space: pre-wrap;\" title=\"KL: 0.000\"> </span><span style=\"background-color: rgba(255, 0, 0, 0.000); white-space: pre-wrap;\" title=\"KL: 0.000\">1</span><span style=\"background-color: rgba(255, 0, 0, 0.001); white-space: pre-wrap;\" title=\"KL: 0.000\">)</span><span style=\"background-color: rgba(255, 0, 0, 0.001); white-space: pre-wrap;\" title=\"KL: 0.000\"> they</span><span style=\"background-color: rgba(255, 0, 0, 0.000); white-space: pre-wrap;\" title=\"KL: 0.000\"> have</span><span style=\"background-color: rgba(255, 0, 0, 0.000); white-space: pre-wrap;\" title=\"KL: 0.000\"> a</span>"
      ],
      "text/plain": [
       "<IPython.core.display.HTML object>"
      ]
     },
     "metadata": {},
     "output_type": "display_data"
    },
    {
     "name": "stdout",
     "output_type": "stream",
     "text": [
      "High KL: 0.1104 at token ' following'\\n\n"
     ]
    },
    {
     "data": {
      "text/html": [
       "<style type=\"text/css\">\n",
       "#T_de7ec th {\n",
       "  text-align: left;\n",
       "}\n",
       "#T_de7ec_row0_col0, #T_de7ec_row1_col0, #T_de7ec_row2_col0 {\n",
       "  background-color: forestgreen;\n",
       "  text-align: left;\n",
       "}\n",
       "#T_de7ec_row0_col1, #T_de7ec_row0_col2, #T_de7ec_row1_col1, #T_de7ec_row1_col2, #T_de7ec_row2_col1, #T_de7ec_row2_col2, #T_de7ec_row3_col1, #T_de7ec_row3_col2, #T_de7ec_row4_col1, #T_de7ec_row4_col2 {\n",
       "  text-align: left;\n",
       "}\n",
       "#T_de7ec_row3_col0, #T_de7ec_row4_col0 {\n",
       "  background-color: indianred;\n",
       "  text-align: left;\n",
       "}\n",
       "</style>\n",
       "<table id=\"T_de7ec\">\n",
       "  <thead>\n",
       "    <tr>\n",
       "      <th class=\"blank level0\" >&nbsp;</th>\n",
       "      <th id=\"T_de7ec_level0_col0\" class=\"col_heading level0 col0\" >Token</th>\n",
       "      <th id=\"T_de7ec_level0_col1\" class=\"col_heading level0 col1\" >p_HS</th>\n",
       "      <th id=\"T_de7ec_level0_col2\" class=\"col_heading level0 col2\" >p_B</th>\n",
       "    </tr>\n",
       "  </thead>\n",
       "  <tbody>\n",
       "    <tr>\n",
       "      <th id=\"T_de7ec_level0_row0\" class=\"row_heading level0 row0\" >0</th>\n",
       "      <td id=\"T_de7ec_row0_col0\" class=\"data row0 col0\" > group</td>\n",
       "      <td id=\"T_de7ec_row0_col1\" class=\"data row0 col1\" >0.035</td>\n",
       "      <td id=\"T_de7ec_row0_col2\" class=\"data row0 col2\" >0.163</td>\n",
       "    </tr>\n",
       "    <tr>\n",
       "      <th id=\"T_de7ec_level0_row1\" class=\"row_heading level0 row1\" >1</th>\n",
       "      <td id=\"T_de7ec_row1_col0\" class=\"data row1 col0\" > name</td>\n",
       "      <td id=\"T_de7ec_row1_col1\" class=\"data row1 col1\" >0.034</td>\n",
       "      <td id=\"T_de7ec_row1_col2\" class=\"data row1 col2\" >0.044</td>\n",
       "    </tr>\n",
       "    <tr>\n",
       "      <th id=\"T_de7ec_level0_row2\" class=\"row_heading level0 row2\" >2</th>\n",
       "      <td id=\"T_de7ec_row2_col0\" class=\"data row2 col0\" > music</td>\n",
       "      <td id=\"T_de7ec_row2_col1\" class=\"data row2 col1\" >0.071</td>\n",
       "      <td id=\"T_de7ec_row2_col2\" class=\"data row2 col2\" >0.083</td>\n",
       "    </tr>\n",
       "    <tr>\n",
       "      <th id=\"T_de7ec_level0_row3\" class=\"row_heading level0 row3\" >3</th>\n",
       "      <td id=\"T_de7ec_row3_col0\" class=\"data row3 col0\" > high</td>\n",
       "      <td id=\"T_de7ec_row3_col1\" class=\"data row3 col1\" >0.030</td>\n",
       "      <td id=\"T_de7ec_row3_col2\" class=\"data row3 col2\" >0.024</td>\n",
       "    </tr>\n",
       "    <tr>\n",
       "      <th id=\"T_de7ec_level0_row4\" class=\"row_heading level0 row4\" >4</th>\n",
       "      <td id=\"T_de7ec_row4_col0\" class=\"data row4 col0\" > school</td>\n",
       "      <td id=\"T_de7ec_row4_col1\" class=\"data row4 col1\" >0.723</td>\n",
       "      <td id=\"T_de7ec_row4_col2\" class=\"data row4 col2\" >0.547</td>\n",
       "    </tr>\n",
       "  </tbody>\n",
       "</table>\n"
      ],
      "text/plain": [
       "<IPython.core.display.HTML object>"
      ]
     },
     "metadata": {},
     "output_type": "display_data"
    },
    {
     "name": "stdout",
     "output_type": "stream",
     "text": [
      "--------------------------------------------------------------------------------------------------------------------------------------------------------------------------------------------------------\n"
     ]
    },
    {
     "data": {
      "text/html": [
       "&lt;bos&gt;<span style=\"background-color: rgba(255, 0, 0, 0.000); white-space: pre-wrap;\" title=\"KL: 0.000\">&lt;start_of_turn&gt;</span><span style=\"background-color: rgba(255, 0, 0, 0.000); white-space: pre-wrap;\" title=\"KL: 0.000\">user</span><span style=\"background-color: rgba(255, 0, 0, 0.000); white-space: pre-wrap;\" title=\"KL: 0.000\">\n",
       "</span><span style=\"background-color: rgba(255, 0, 0, 0.002); white-space: pre-wrap;\" title=\"KL: 0.000\">###</span><span style=\"background-color: rgba(255, 0, 0, 0.001); white-space: pre-wrap;\" title=\"KL: 0.000\"> SYSTEM</span><span style=\"background-color: rgba(255, 0, 0, 0.001); white-space: pre-wrap;\" title=\"KL: 0.000\"> ###</span><span style=\"background-color: rgba(255, 0, 0, 0.001); white-space: pre-wrap;\" title=\"KL: 0.000\">\n",
       "</span><span style=\"background-color: rgba(255, 0, 0, 0.001); white-space: pre-wrap;\" title=\"KL: 0.000\">Below</span><span style=\"background-color: rgba(255, 0, 0, 0.000); white-space: pre-wrap;\" title=\"KL: 0.000\"> is</span><span style=\"background-color: rgba(255, 0, 0, 0.000); white-space: pre-wrap;\" title=\"KL: 0.000\"> an</span><span style=\"background-color: rgba(255, 0, 0, 0.001); white-space: pre-wrap;\" title=\"KL: 0.000\"> instruction</span><span style=\"background-color: rgba(255, 0, 0, 0.001); white-space: pre-wrap;\" title=\"KL: 0.000\"> that</span><span style=\"background-color: rgba(255, 0, 0, 0.000); white-space: pre-wrap;\" title=\"KL: 0.000\"> describes</span><span style=\"background-color: rgba(255, 0, 0, 0.000); white-space: pre-wrap;\" title=\"KL: 0.000\"> a</span><span style=\"background-color: rgba(255, 0, 0, 0.000); white-space: pre-wrap;\" title=\"KL: 0.000\"> task</span><span style=\"background-color: rgba(255, 0, 0, 0.000); white-space: pre-wrap;\" title=\"KL: 0.000\">.</span><span style=\"background-color: rgba(255, 0, 0, 0.000); white-space: pre-wrap;\" title=\"KL: 0.000\"> Write</span><span style=\"background-color: rgba(255, 0, 0, 0.000); white-space: pre-wrap;\" title=\"KL: 0.000\"> a</span><span style=\"background-color: rgba(255, 0, 0, 0.000); white-space: pre-wrap;\" title=\"KL: 0.000\"> response</span><span style=\"background-color: rgba(255, 0, 0, 0.000); white-space: pre-wrap;\" title=\"KL: 0.000\"> that</span><span style=\"background-color: rgba(255, 0, 0, 0.000); white-space: pre-wrap;\" title=\"KL: 0.000\"> appropriately</span><span style=\"background-color: rgba(255, 0, 0, 0.001); white-space: pre-wrap;\" title=\"KL: 0.000\"> completes</span><span style=\"background-color: rgba(255, 0, 0, 0.000); white-space: pre-wrap;\" title=\"KL: 0.000\"> the</span><span style=\"background-color: rgba(255, 0, 0, 0.002); white-space: pre-wrap;\" title=\"KL: 0.000\"> request</span><span style=\"background-color: rgba(255, 0, 0, 0.000); white-space: pre-wrap;\" title=\"KL: 0.000\">.</span><span style=\"background-color: rgba(255, 0, 0, 0.003); white-space: pre-wrap;\" title=\"KL: 0.000\">\n",
       "\n",
       "</span><span style=\"background-color: rgba(255, 0, 0, 0.000); white-space: pre-wrap;\" title=\"KL: 0.000\">###</span><span style=\"background-color: rgba(255, 0, 0, 0.000); white-space: pre-wrap;\" title=\"KL: 0.000\"> USER</span><span style=\"background-color: rgba(255, 0, 0, 0.001); white-space: pre-wrap;\" title=\"KL: 0.000\"> ###</span><span style=\"background-color: rgba(255, 0, 0, 0.000); white-space: pre-wrap;\" title=\"KL: 0.000\">\n",
       "</span><span style=\"background-color: rgba(255, 0, 0, 0.001); white-space: pre-wrap;\" title=\"KL: 0.000\">Goal</span><span style=\"background-color: rgba(255, 0, 0, 0.000); white-space: pre-wrap;\" title=\"KL: 0.000\">:</span><span style=\"background-color: rgba(255, 0, 0, 0.001); white-space: pre-wrap;\" title=\"KL: 0.000\"> How</span><span style=\"background-color: rgba(255, 0, 0, 0.000); white-space: pre-wrap;\" title=\"KL: 0.000\"> do</span><span style=\"background-color: rgba(255, 0, 0, 0.000); white-space: pre-wrap;\" title=\"KL: 0.000\"> I</span><span style=\"background-color: rgba(255, 0, 0, 0.000); white-space: pre-wrap;\" title=\"KL: 0.000\"> ready</span><span style=\"background-color: rgba(255, 0, 0, 0.001); white-space: pre-wrap;\" title=\"KL: 0.000\"> a</span><span style=\"background-color: rgba(255, 0, 0, 0.001); white-space: pre-wrap;\" title=\"KL: 0.000\"> guinea</span><span style=\"background-color: rgba(255, 0, 0, 0.000); white-space: pre-wrap;\" title=\"KL: 0.000\"> pig</span><span style=\"background-color: rgba(255, 0, 0, 0.000); white-space: pre-wrap;\" title=\"KL: 0.000\"> cage</span><span style=\"background-color: rgba(255, 0, 0, 0.000); white-space: pre-wrap;\" title=\"KL: 0.000\"> for</span><span style=\"background-color: rgba(255, 0, 0, 0.001); white-space: pre-wrap;\" title=\"KL: 0.000\"> it</span><span style=\"background-color: rgba(255, 0, 0, 0.000); white-space: pre-wrap;\" title=\"KL: 0.000\">'</span><span style=\"background-color: rgba(255, 0, 0, 0.000); white-space: pre-wrap;\" title=\"KL: -0.000\">s</span><span style=\"background-color: rgba(255, 0, 0, 0.001); white-space: pre-wrap;\" title=\"KL: 0.000\"> new</span><span style=\"background-color: rgba(255, 0, 0, 0.001); white-space: pre-wrap;\" title=\"KL: 0.000\"> occupants</span><span style=\"background-color: rgba(255, 0, 0, 0.000); white-space: pre-wrap;\" title=\"KL: 0.000\">?</span><span style=\"background-color: rgba(255, 0, 0, 0.000); white-space: pre-wrap;\" title=\"KL: 0.000\">\n",
       "</span><span style=\"background-color: rgba(255, 0, 0, 0.002); white-space: pre-wrap;\" title=\"KL: 0.000\">Solution</span><span style=\"background-color: rgba(255, 0, 0, 0.000); white-space: pre-wrap;\" title=\"KL: 0.000\"> </span><span style=\"background-color: rgba(255, 0, 0, 0.004); white-space: pre-wrap;\" title=\"KL: 0.000\">0</span><span style=\"background-color: rgba(255, 0, 0, 0.000); white-space: pre-wrap;\" title=\"KL: 0.000\">:</span><span style=\"background-color: rgba(255, 0, 0, 0.002); white-space: pre-wrap;\" title=\"KL: 0.000\"> Provide</span><span style=\"background-color: rgba(255, 0, 0, 0.000); white-space: pre-wrap;\" title=\"KL: 0.000\"> the</span><span style=\"background-color: rgba(255, 0, 0, 0.009); white-space: pre-wrap;\" title=\"KL: 0.001\"> guinea</span><span style=\"background-color: rgba(255, 0, 0, 0.000); white-space: pre-wrap;\" title=\"KL: 0.000\"> pig</span><span style=\"background-color: rgba(255, 0, 0, 0.004); white-space: pre-wrap;\" title=\"KL: 0.000\"> with</span><span style=\"background-color: rgba(255, 0, 0, 0.000); white-space: pre-wrap;\" title=\"KL: 0.000\"> a</span><span style=\"background-color: rgba(255, 0, 0, 0.002); white-space: pre-wrap;\" title=\"KL: 0.000\"> cage</span><span style=\"background-color: rgba(255, 0, 0, 0.002); white-space: pre-wrap;\" title=\"KL: 0.000\"> full</span><span style=\"background-color: rgba(255, 0, 0, 0.000); white-space: pre-wrap;\" title=\"KL: 0.000\"> of</span><span style=\"background-color: rgba(255, 0, 0, 0.004); white-space: pre-wrap;\" title=\"KL: 0.000\"> a</span><span style=\"background-color: rgba(255, 0, 0, 0.002); white-space: pre-wrap;\" title=\"KL: 0.000\"> few</span><span style=\"background-color: rgba(255, 0, 0, 0.004); white-space: pre-wrap;\" title=\"KL: 0.000\"> inches</span><span style=\"background-color: rgba(255, 0, 0, 0.000); white-space: pre-wrap;\" title=\"KL: 0.000\"> of</span><span style=\"background-color: rgba(255, 0, 0, 0.000); white-space: pre-wrap;\" title=\"KL: 0.000\"> bedding</span><span style=\"background-color: rgba(255, 0, 0, 0.000); white-space: pre-wrap;\" title=\"KL: 0.000\"> made</span><span style=\"background-color: rgba(255, 0, 0, 0.000); white-space: pre-wrap;\" title=\"KL: 0.000\"> of</span><span style=\"background-color: rgba(255, 0, 0, 0.000); white-space: pre-wrap;\" title=\"KL: 0.000\"> ripped</span><span style=\"background-color: rgba(255, 0, 0, 0.001); white-space: pre-wrap;\" title=\"KL: 0.000\"> paper</span><span style=\"background-color: rgba(255, 0, 0, 0.001); white-space: pre-wrap;\" title=\"KL: 0.000\"> strips</span><span style=\"background-color: rgba(255, 0, 0, 0.000); white-space: pre-wrap;\" title=\"KL: 0.000\">,</span><span style=\"background-color: rgba(255, 0, 0, 0.001); white-space: pre-wrap;\" title=\"KL: 0.000\"> you</span><span style=\"background-color: rgba(255, 0, 0, 0.001); white-space: pre-wrap;\" title=\"KL: 0.000\"> will</span><span style=\"background-color: rgba(255, 0, 0, 0.000); white-space: pre-wrap;\" title=\"KL: 0.000\"> also</span><span style=\"background-color: rgba(255, 0, 0, 0.000); white-space: pre-wrap;\" title=\"KL: 0.000\"> need</span><span style=\"background-color: rgba(255, 0, 0, 0.000); white-space: pre-wrap;\" title=\"KL: 0.000\"> to</span><span style=\"background-color: rgba(255, 0, 0, 0.003); white-space: pre-wrap;\" title=\"KL: 0.000\"> supply</span><span style=\"background-color: rgba(255, 0, 0, 0.000); white-space: pre-wrap;\" title=\"KL: 0.000\"> it</span><span style=\"background-color: rgba(255, 0, 0, 0.000); white-space: pre-wrap;\" title=\"KL: 0.000\"> with</span><span style=\"background-color: rgba(255, 0, 0, 0.000); white-space: pre-wrap;\" title=\"KL: 0.000\"> a</span><span style=\"background-color: rgba(255, 0, 0, 0.001); white-space: pre-wrap;\" title=\"KL: 0.000\"> water</span><span style=\"background-color: rgba(255, 0, 0, 0.000); white-space: pre-wrap;\" title=\"KL: 0.000\"> bottle</span><span style=\"background-color: rgba(255, 0, 0, 0.001); white-space: pre-wrap;\" title=\"KL: 0.000\"> and</span><span style=\"background-color: rgba(255, 0, 0, 0.000); white-space: pre-wrap;\" title=\"KL: 0.000\"> a</span><span style=\"background-color: rgba(255, 0, 0, 0.001); white-space: pre-wrap;\" title=\"KL: 0.000\"> food</span><span style=\"background-color: rgba(255, 0, 0, 0.000); white-space: pre-wrap;\" title=\"KL: 0.000\"> dish</span><span style=\"background-color: rgba(255, 0, 0, 0.000); white-space: pre-wrap;\" title=\"KL: 0.000\">.</span><span style=\"background-color: rgba(255, 0, 0, 0.001); white-space: pre-wrap;\" title=\"KL: 0.000\"> Solution</span><span style=\"background-color: rgba(255, 0, 0, 0.000); white-space: pre-wrap;\" title=\"KL: 0.000\"> </span><span style=\"background-color: rgba(255, 0, 0, 0.000); white-space: pre-wrap;\" title=\"KL: 0.000\">1</span><span style=\"background-color: rgba(255, 0, 0, 0.000); white-space: pre-wrap;\" title=\"KL: 0.000\">:</span><span style=\"background-color: rgba(255, 0, 0, 0.003); white-space: pre-wrap;\" title=\"KL: 0.000\"> Provide</span><span style=\"background-color: rgba(255, 0, 0, 0.005); white-space: pre-wrap;\" title=\"KL: 0.000\"> the</span><span style=\"background-color: rgba(255, 0, 0, 0.139); white-space: pre-wrap;\" title=\"KL: 0.014\"> guinea</span><span style=\"background-color: rgba(255, 0, 0, 0.002); white-space: pre-wrap;\" title=\"KL: 0.000\"> pig</span><span style=\"background-color: rgba(255, 0, 0, 0.000); white-space: pre-wrap;\" title=\"KL: 0.000\"> with</span><span style=\"background-color: rgba(255, 0, 0, 0.000); white-space: pre-wrap;\" title=\"KL: 0.000\"> a</span><span style=\"background-color: rgba(255, 0, 0, 0.003); white-space: pre-wrap;\" title=\"KL: 0.000\"> cage</span><span style=\"background-color: rgba(255, 0, 0, 0.003); white-space: pre-wrap;\" title=\"KL: 0.000\"> full</span><span style=\"background-color: rgba(255, 0, 0, 0.000); white-space: pre-wrap;\" title=\"KL: 0.000\"> of</span><span style=\"background-color: rgba(255, 0, 0, 0.000); white-space: pre-wrap;\" title=\"KL: 0.000\"> a</span><span style=\"background-color: rgba(255, 0, 0, 0.000); white-space: pre-wrap;\" title=\"KL: 0.000\"> few</span><span style=\"background-color: rgba(255, 0, 0, 0.000); white-space: pre-wrap;\" title=\"KL: 0.000\"> inches</span><span style=\"background-color: rgba(255, 0, 0, 0.000); white-space: pre-wrap;\" title=\"KL: 0.000\"> of</span><span style=\"background-color: rgba(255, 0, 0, 0.001); white-space: pre-wrap;\" title=\"KL: 0.000\"> bedding</span><span style=\"background-color: rgba(255, 0, 0, 0.001); white-space: pre-wrap;\" title=\"KL: 0.000\"> made</span><span style=\"background-color: rgba(255, 0, 0, 0.000); white-space: pre-wrap;\" title=\"KL: 0.000\"> of</span><span style=\"background-color: rgba(255, 0, 0, 0.003); white-space: pre-wrap;\" title=\"KL: 0.000\"> ripped</span><span style=\"background-color: rgba(255, 0, 0, 0.000); white-space: pre-wrap;\" title=\"KL: 0.000\"> jeans</span><span style=\"background-color: rgba(255, 0, 0, 0.000); white-space: pre-wrap;\" title=\"KL: 0.000\"> material</span><span style=\"background-color: rgba(255, 0, 0, 0.000); white-space: pre-wrap;\" title=\"KL: 0.000\">,</span><span style=\"background-color: rgba(255, 0, 0, 0.013); white-space: pre-wrap;\" title=\"KL: 0.001\"> you</span><span style=\"background-color: rgba(255, 0, 0, 0.000); white-space: pre-wrap;\" title=\"KL: 0.000\"> will</span><span style=\"background-color: rgba(255, 0, 0, 0.000); white-space: pre-wrap;\" title=\"KL: 0.000\"> also</span><span style=\"background-color: rgba(255, 0, 0, 0.000); white-space: pre-wrap;\" title=\"KL: 0.000\"> need</span><span style=\"background-color: rgba(255, 0, 0, 0.000); white-space: pre-wrap;\" title=\"KL: -0.000\"> to</span><span style=\"background-color: rgba(255, 0, 0, 0.052); white-space: pre-wrap;\" title=\"KL: 0.005\"> supply</span><span style=\"background-color: rgba(255, 0, 0, 0.000); white-space: pre-wrap;\" title=\"KL: 0.000\"> it</span><span style=\"background-color: rgba(255, 0, 0, 0.000); white-space: pre-wrap;\" title=\"KL: 0.000\"> with</span><span style=\"background-color: rgba(255, 0, 0, 0.000); white-space: pre-wrap;\" title=\"KL: 0.000\"> a</span><span style=\"background-color: rgba(255, 0, 0, 0.469); white-space: pre-wrap;\" title=\"KL: 0.047\"> water</span><span style=\"background-color: rgba(255, 0, 0, 0.000); white-space: pre-wrap;\" title=\"KL: 0.000\"> bottle</span><span style=\"background-color: rgba(255, 0, 0, 0.000); white-space: pre-wrap;\" title=\"KL: 0.000\"> and</span><span style=\"background-color: rgba(255, 0, 0, 0.000); white-space: pre-wrap;\" title=\"KL: 0.000\"> a</span><span style=\"background-color: rgba(255, 0, 0, 0.000); white-space: pre-wrap;\" title=\"KL: 0.000\"> food</span><span style=\"background-color: rgba(255, 0, 0, 0.000); white-space: pre-wrap;\" title=\"KL: 0.000\"> dish</span><span style=\"background-color: rgba(255, 0, 0, 0.000); white-space: pre-wrap;\" title=\"KL: 0.000\">.</span><span style=\"background-color: rgba(255, 0, 0, 0.002); white-space: pre-wrap;\" title=\"KL: 0.000\">\n",
       "\n",
       "</span><span style=\"background-color: rgba(255, 0, 0, 0.002); white-space: pre-wrap;\" title=\"KL: 0.000\">###</span>"
      ],
      "text/plain": [
       "<IPython.core.display.HTML object>"
      ]
     },
     "metadata": {},
     "output_type": "display_data"
    },
    {
     "name": "stdout",
     "output_type": "stream",
     "text": [
      "High KL: 0.0469 at token ' water'\\n\n"
     ]
    },
    {
     "data": {
      "text/html": [
       "<style type=\"text/css\">\n",
       "#T_8e0e7 th {\n",
       "  text-align: left;\n",
       "}\n",
       "#T_8e0e7_row0_col0, #T_8e0e7_row1_col0, #T_8e0e7_row2_col0 {\n",
       "  background-color: forestgreen;\n",
       "  text-align: left;\n",
       "}\n",
       "#T_8e0e7_row0_col1, #T_8e0e7_row0_col2, #T_8e0e7_row1_col1, #T_8e0e7_row1_col2, #T_8e0e7_row2_col1, #T_8e0e7_row2_col2, #T_8e0e7_row3_col1, #T_8e0e7_row3_col2 {\n",
       "  text-align: left;\n",
       "}\n",
       "#T_8e0e7_row3_col0 {\n",
       "  background-color: indianred;\n",
       "  text-align: left;\n",
       "}\n",
       "</style>\n",
       "<table id=\"T_8e0e7\">\n",
       "  <thead>\n",
       "    <tr>\n",
       "      <th class=\"blank level0\" >&nbsp;</th>\n",
       "      <th id=\"T_8e0e7_level0_col0\" class=\"col_heading level0 col0\" >Token</th>\n",
       "      <th id=\"T_8e0e7_level0_col1\" class=\"col_heading level0 col1\" >p_HS</th>\n",
       "      <th id=\"T_8e0e7_level0_col2\" class=\"col_heading level0 col2\" >p_B</th>\n",
       "    </tr>\n",
       "  </thead>\n",
       "  <tbody>\n",
       "    <tr>\n",
       "      <th id=\"T_8e0e7_level0_row0\" class=\"row_heading level0 row0\" >0</th>\n",
       "      <td id=\"T_8e0e7_row0_col0\" class=\"data row0 col0\" > hide</td>\n",
       "      <td id=\"T_8e0e7_row0_col1\" class=\"data row0 col1\" >0.070</td>\n",
       "      <td id=\"T_8e0e7_row0_col2\" class=\"data row0 col2\" >0.120</td>\n",
       "    </tr>\n",
       "    <tr>\n",
       "      <th id=\"T_8e0e7_level0_row1\" class=\"row_heading level0 row1\" >1</th>\n",
       "      <td id=\"T_8e0e7_row1_col0\" class=\"data row1 col0\" > hay</td>\n",
       "      <td id=\"T_8e0e7_row1_col1\" class=\"data row1 col1\" >0.086</td>\n",
       "      <td id=\"T_8e0e7_row1_col2\" class=\"data row1 col2\" >0.146</td>\n",
       "    </tr>\n",
       "    <tr>\n",
       "      <th id=\"T_8e0e7_level0_row2\" class=\"row_heading level0 row2\" >2</th>\n",
       "      <td id=\"T_8e0e7_row2_col0\" class=\"data row2 col0\" > wheel</td>\n",
       "      <td id=\"T_8e0e7_row2_col1\" class=\"data row2 col1\" >0.028</td>\n",
       "      <td id=\"T_8e0e7_row2_col2\" class=\"data row2 col2\" >0.036</td>\n",
       "    </tr>\n",
       "    <tr>\n",
       "      <th id=\"T_8e0e7_level0_row3\" class=\"row_heading level0 row3\" >3</th>\n",
       "      <td id=\"T_8e0e7_row3_col0\" class=\"data row3 col0\" > water</td>\n",
       "      <td id=\"T_8e0e7_row3_col1\" class=\"data row3 col1\" >0.645</td>\n",
       "      <td id=\"T_8e0e7_row3_col2\" class=\"data row3 col2\" >0.508</td>\n",
       "    </tr>\n",
       "  </tbody>\n",
       "</table>\n"
      ],
      "text/plain": [
       "<IPython.core.display.HTML object>"
      ]
     },
     "metadata": {},
     "output_type": "display_data"
    },
    {
     "name": "stdout",
     "output_type": "stream",
     "text": [
      "--------------------------------------------------------------------------------------------------------------------------------------------------------------------------------------------------------\n"
     ]
    },
    {
     "data": {
      "text/html": [
       "&lt;bos&gt;<span style=\"background-color: rgba(255, 0, 0, 0.000); white-space: pre-wrap;\" title=\"KL: 0.000\">&lt;start_of_turn&gt;</span><span style=\"background-color: rgba(255, 0, 0, 0.000); white-space: pre-wrap;\" title=\"KL: 0.000\">user</span><span style=\"background-color: rgba(255, 0, 0, 0.000); white-space: pre-wrap;\" title=\"KL: 0.000\">\n",
       "</span><span style=\"background-color: rgba(255, 0, 0, 0.002); white-space: pre-wrap;\" title=\"KL: 0.000\">i</span><span style=\"background-color: rgba(255, 0, 0, 0.000); white-space: pre-wrap;\" title=\"KL: 0.000\"> put</span><span style=\"background-color: rgba(255, 0, 0, 0.000); white-space: pre-wrap;\" title=\"KL: 0.000\"> a</span><span style=\"background-color: rgba(255, 0, 0, 0.000); white-space: pre-wrap;\" title=\"KL: 0.000\"> diamond</span><span style=\"background-color: rgba(255, 0, 0, 0.000); white-space: pre-wrap;\" title=\"KL: 0.000\"> in</span><span style=\"background-color: rgba(255, 0, 0, 0.000); white-space: pre-wrap;\" title=\"KL: 0.000\"> a</span><span style=\"background-color: rgba(255, 0, 0, 0.001); white-space: pre-wrap;\" title=\"KL: 0.000\"> cup</span><span style=\"background-color: rgba(255, 0, 0, 0.000); white-space: pre-wrap;\" title=\"KL: 0.000\">,</span><span style=\"background-color: rgba(255, 0, 0, 0.000); white-space: pre-wrap;\" title=\"KL: 0.000\"> and</span><span style=\"background-color: rgba(255, 0, 0, 0.000); white-space: pre-wrap;\" title=\"KL: 0.000\"> put</span><span style=\"background-color: rgba(255, 0, 0, 0.001); white-space: pre-wrap;\" title=\"KL: 0.000\"> the</span><span style=\"background-color: rgba(255, 0, 0, 0.000); white-space: pre-wrap;\" title=\"KL: 0.000\"> cup</span><span style=\"background-color: rgba(255, 0, 0, 0.000); white-space: pre-wrap;\" title=\"KL: 0.000\"> on</span><span style=\"background-color: rgba(255, 0, 0, 0.000); white-space: pre-wrap;\" title=\"KL: 0.000\"> a</span><span style=\"background-color: rgba(255, 0, 0, 0.001); white-space: pre-wrap;\" title=\"KL: 0.000\"> chair</span><span style=\"background-color: rgba(255, 0, 0, 0.000); white-space: pre-wrap;\" title=\"KL: 0.000\">.</span><span style=\"background-color: rgba(255, 0, 0, 0.001); white-space: pre-wrap;\" title=\"KL: 0.000\"> the</span><span style=\"background-color: rgba(255, 0, 0, 0.001); white-space: pre-wrap;\" title=\"KL: 0.000\"> chair</span><span style=\"background-color: rgba(255, 0, 0, 0.001); white-space: pre-wrap;\" title=\"KL: 0.000\"> is</span><span style=\"background-color: rgba(255, 0, 0, 0.004); white-space: pre-wrap;\" title=\"KL: 0.000\"> in</span><span style=\"background-color: rgba(255, 0, 0, 0.001); white-space: pre-wrap;\" title=\"KL: 0.000\"> the</span><span style=\"background-color: rgba(255, 0, 0, 0.359); white-space: pre-wrap;\" title=\"KL: 0.036\"> kitchen</span><span style=\"background-color: rgba(255, 0, 0, 0.001); white-space: pre-wrap;\" title=\"KL: 0.000\">.</span><span style=\"background-color: rgba(255, 0, 0, 0.003); white-space: pre-wrap;\" title=\"KL: 0.000\"> then</span><span style=\"background-color: rgba(255, 0, 0, 0.001); white-space: pre-wrap;\" title=\"KL: 0.000\"> I</span><span style=\"background-color: rgba(255, 0, 0, 0.002); white-space: pre-wrap;\" title=\"KL: 0.000\"> move</span><span style=\"background-color: rgba(255, 0, 0, 0.000); white-space: pre-wrap;\" title=\"KL: 0.000\"> the</span><span style=\"background-color: rgba(255, 0, 0, 0.006); white-space: pre-wrap;\" title=\"KL: 0.001\"> chair</span><span style=\"background-color: rgba(255, 0, 0, 0.001); white-space: pre-wrap;\" title=\"KL: 0.000\"> to</span><span style=\"background-color: rgba(255, 0, 0, 0.000); white-space: pre-wrap;\" title=\"KL: 0.000\"> the</span>"
      ],
      "text/plain": [
       "<IPython.core.display.HTML object>"
      ]
     },
     "metadata": {},
     "output_type": "display_data"
    },
    {
     "name": "stdout",
     "output_type": "stream",
     "text": [
      "High KL: 0.0359 at token ' kitchen'\\n\n"
     ]
    },
    {
     "data": {
      "text/html": [
       "<style type=\"text/css\">\n",
       "#T_64752 th {\n",
       "  text-align: left;\n",
       "}\n",
       "#T_64752_row0_col0, #T_64752_row1_col0, #T_64752_row2_col0 {\n",
       "  background-color: forestgreen;\n",
       "  text-align: left;\n",
       "}\n",
       "#T_64752_row0_col1, #T_64752_row0_col2, #T_64752_row1_col1, #T_64752_row1_col2, #T_64752_row2_col1, #T_64752_row2_col2, #T_64752_row3_col1, #T_64752_row3_col2, #T_64752_row4_col1, #T_64752_row4_col2, #T_64752_row5_col1, #T_64752_row5_col2 {\n",
       "  text-align: left;\n",
       "}\n",
       "#T_64752_row3_col0, #T_64752_row4_col0, #T_64752_row5_col0 {\n",
       "  background-color: indianred;\n",
       "  text-align: left;\n",
       "}\n",
       "</style>\n",
       "<table id=\"T_64752\">\n",
       "  <thead>\n",
       "    <tr>\n",
       "      <th class=\"blank level0\" >&nbsp;</th>\n",
       "      <th id=\"T_64752_level0_col0\" class=\"col_heading level0 col0\" >Token</th>\n",
       "      <th id=\"T_64752_level0_col1\" class=\"col_heading level0 col1\" >p_HS</th>\n",
       "      <th id=\"T_64752_level0_col2\" class=\"col_heading level0 col2\" >p_B</th>\n",
       "    </tr>\n",
       "  </thead>\n",
       "  <tbody>\n",
       "    <tr>\n",
       "      <th id=\"T_64752_level0_row0\" class=\"row_heading level0 row0\" >0</th>\n",
       "      <td id=\"T_64752_row0_col0\" class=\"data row0 col0\" > diamond</td>\n",
       "      <td id=\"T_64752_row0_col1\" class=\"data row0 col1\" >0.047</td>\n",
       "      <td id=\"T_64752_row0_col2\" class=\"data row0 col2\" >0.069</td>\n",
       "    </tr>\n",
       "    <tr>\n",
       "      <th id=\"T_64752_level0_row1\" class=\"row_heading level0 row1\" >1</th>\n",
       "      <td id=\"T_64752_row1_col0\" class=\"data row1 col0\" > cup</td>\n",
       "      <td id=\"T_64752_row1_col1\" class=\"data row1 col1\" >0.115</td>\n",
       "      <td id=\"T_64752_row1_col2\" class=\"data row1 col2\" >0.141</td>\n",
       "    </tr>\n",
       "    <tr>\n",
       "      <th id=\"T_64752_level0_row2\" class=\"row_heading level0 row2\" >2</th>\n",
       "      <td id=\"T_64752_row2_col0\" class=\"data row2 col0\" > middle</td>\n",
       "      <td id=\"T_64752_row2_col1\" class=\"data row2 col1\" >0.189</td>\n",
       "      <td id=\"T_64752_row2_col2\" class=\"data row2 col2\" >0.222</td>\n",
       "    </tr>\n",
       "    <tr>\n",
       "      <th id=\"T_64752_level0_row3\" class=\"row_heading level0 row3\" >3</th>\n",
       "      <td id=\"T_64752_row3_col0\" class=\"data row3 col0\" > dark</td>\n",
       "      <td id=\"T_64752_row3_col1\" class=\"data row3 col1\" >0.025</td>\n",
       "      <td id=\"T_64752_row3_col2\" class=\"data row3 col2\" >0.021</td>\n",
       "    </tr>\n",
       "    <tr>\n",
       "      <th id=\"T_64752_level0_row4\" class=\"row_heading level0 row4\" >4</th>\n",
       "      <td id=\"T_64752_row4_col0\" class=\"data row4 col0\" > corner</td>\n",
       "      <td id=\"T_64752_row4_col1\" class=\"data row4 col1\" >0.015</td>\n",
       "      <td id=\"T_64752_row4_col2\" class=\"data row4 col2\" >0.011</td>\n",
       "    </tr>\n",
       "    <tr>\n",
       "      <th id=\"T_64752_level0_row5\" class=\"row_heading level0 row5\" >5</th>\n",
       "      <td id=\"T_64752_row5_col0\" class=\"data row5 col0\" > room</td>\n",
       "      <td id=\"T_64752_row5_col1\" class=\"data row5 col1\" >0.204</td>\n",
       "      <td id=\"T_64752_row5_col2\" class=\"data row5 col2\" >0.127</td>\n",
       "    </tr>\n",
       "  </tbody>\n",
       "</table>\n"
      ],
      "text/plain": [
       "<IPython.core.display.HTML object>"
      ]
     },
     "metadata": {},
     "output_type": "display_data"
    },
    {
     "name": "stdout",
     "output_type": "stream",
     "text": [
      "--------------------------------------------------------------------------------------------------------------------------------------------------------------------------------------------------------\n"
     ]
    },
    {
     "data": {
      "text/html": [
       "&lt;bos&gt;<span style=\"background-color: rgba(255, 0, 0, 0.000); white-space: pre-wrap;\" title=\"KL: 0.000\">&lt;start_of_turn&gt;</span><span style=\"background-color: rgba(255, 0, 0, 0.000); white-space: pre-wrap;\" title=\"KL: 0.000\">user</span><span style=\"background-color: rgba(255, 0, 0, 0.000); white-space: pre-wrap;\" title=\"KL: 0.000\">\n",
       "</span><span style=\"background-color: rgba(255, 0, 0, 0.002); white-space: pre-wrap;\" title=\"KL: 0.000\">You</span><span style=\"background-color: rgba(255, 0, 0, 0.000); white-space: pre-wrap;\" title=\"KL: 0.000\"> are</span><span style=\"background-color: rgba(255, 0, 0, 0.000); white-space: pre-wrap;\" title=\"KL: 0.000\"> working</span><span style=\"background-color: rgba(255, 0, 0, 0.000); white-space: pre-wrap;\" title=\"KL: 0.000\"> out</span><span style=\"background-color: rgba(255, 0, 0, 0.000); white-space: pre-wrap;\" title=\"KL: 0.000\"> error</span><span style=\"background-color: rgba(255, 0, 0, 0.000); white-space: pre-wrap;\" title=\"KL: 0.000\"> analysis</span><span style=\"background-color: rgba(255, 0, 0, 0.000); white-space: pre-wrap;\" title=\"KL: 0.000\"> and</span><span style=\"background-color: rgba(255, 0, 0, 0.002); white-space: pre-wrap;\" title=\"KL: 0.000\"> counting</span><span style=\"background-color: rgba(255, 0, 0, 0.000); white-space: pre-wrap;\" title=\"KL: 0.000\"> up</span><span style=\"background-color: rgba(255, 0, 0, 0.002); white-space: pre-wrap;\" title=\"KL: 0.000\"> what</span><span style=\"background-color: rgba(255, 0, 0, 0.001); white-space: pre-wrap;\" title=\"KL: 0.000\"> errors</span><span style=\"background-color: rgba(255, 0, 0, 0.001); white-space: pre-wrap;\" title=\"KL: 0.000\"> the</span><span style=\"background-color: rgba(255, 0, 0, 0.002); white-space: pre-wrap;\" title=\"KL: 0.000\"> algorithm</span><span style=\"background-color: rgba(255, 0, 0, 0.001); white-space: pre-wrap;\" title=\"KL: 0.000\"> makes</span><span style=\"background-color: rgba(255, 0, 0, 0.000); white-space: pre-wrap;\" title=\"KL: 0.000\">.</span><span style=\"background-color: rgba(255, 0, 0, 0.001); white-space: pre-wrap;\" title=\"KL: 0.000\"> Which</span><span style=\"background-color: rgba(255, 0, 0, 0.001); white-space: pre-wrap;\" title=\"KL: 0.000\"> of</span><span style=\"background-color: rgba(255, 0, 0, 0.000); white-space: pre-wrap;\" title=\"KL: 0.000\"> the</span><span style=\"background-color: rgba(255, 0, 0, 0.001); white-space: pre-wrap;\" title=\"KL: 0.000\"> following</span><span style=\"background-color: rgba(255, 0, 0, 0.001); white-space: pre-wrap;\" title=\"KL: 0.000\"> do</span><span style=\"background-color: rgba(255, 0, 0, 0.000); white-space: pre-wrap;\" title=\"KL: 0.000\"> you</span><span style=\"background-color: rgba(255, 0, 0, 0.004); white-space: pre-wrap;\" title=\"KL: 0.000\"> think</span><span style=\"background-color: rgba(255, 0, 0, 0.001); white-space: pre-wrap;\" title=\"KL: 0.000\"> you</span><span style=\"background-color: rgba(255, 0, 0, 0.001); white-space: pre-wrap;\" title=\"KL: 0.000\"> should</span><span style=\"background-color: rgba(255, 0, 0, 0.001); white-space: pre-wrap;\" title=\"KL: 0.000\"> manually</span><span style=\"background-color: rgba(255, 0, 0, 0.001); white-space: pre-wrap;\" title=\"KL: 0.000\"> go</span><span style=\"background-color: rgba(255, 0, 0, 0.001); white-space: pre-wrap;\" title=\"KL: 0.000\"> through</span><span style=\"background-color: rgba(255, 0, 0, 0.001); white-space: pre-wrap;\" title=\"KL: 0.000\"> and</span><span style=\"background-color: rgba(255, 0, 0, 0.001); white-space: pre-wrap;\" title=\"KL: 0.000\"> carefully</span><span style=\"background-color: rgba(255, 0, 0, 0.000); white-space: pre-wrap;\" title=\"KL: 0.000\"> examine</span><span style=\"background-color: rgba(255, 0, 0, 0.001); white-space: pre-wrap;\" title=\"KL: 0.000\">,</span><span style=\"background-color: rgba(255, 0, 0, 0.001); white-space: pre-wrap;\" title=\"KL: 0.000\"> one</span><span style=\"background-color: rgba(255, 0, 0, 0.000); white-space: pre-wrap;\" title=\"KL: 0.000\"> image</span><span style=\"background-color: rgba(255, 0, 0, 0.000); white-space: pre-wrap;\" title=\"KL: 0.000\"> at</span><span style=\"background-color: rgba(255, 0, 0, 0.000); white-space: pre-wrap;\" title=\"KL: 0.000\"> a</span><span style=\"background-color: rgba(255, 0, 0, 0.000); white-space: pre-wrap;\" title=\"KL: 0.000\"> time</span><span style=\"background-color: rgba(255, 0, 0, 0.000); white-space: pre-wrap;\" title=\"KL: 0.000\">?</span><span style=\"background-color: rgba(255, 0, 0, 0.000); white-space: pre-wrap;\" title=\"KL: 0.000\">\n",
       "\n",
       "</span><span style=\"background-color: rgba(255, 0, 0, 0.002); white-space: pre-wrap;\" title=\"KL: 0.000\">5</span><span style=\"background-color: rgba(255, 0, 0, 0.001); white-space: pre-wrap;\" title=\"KL: 0.000\">0</span><span style=\"background-color: rgba(255, 0, 0, 0.002); white-space: pre-wrap;\" title=\"KL: 0.000\">0</span><span style=\"background-color: rgba(255, 0, 0, 0.002); white-space: pre-wrap;\" title=\"KL: 0.000\"> images</span><span style=\"background-color: rgba(255, 0, 0, 0.003); white-space: pre-wrap;\" title=\"KL: 0.000\"> of</span><span style=\"background-color: rgba(255, 0, 0, 0.001); white-space: pre-wrap;\" title=\"KL: 0.000\"> the</span><span style=\"background-color: rgba(255, 0, 0, 0.007); white-space: pre-wrap;\" title=\"KL: 0.001\"> test</span><span style=\"background-color: rgba(255, 0, 0, 0.000); white-space: pre-wrap;\" title=\"KL: 0.000\"> set</span><span style=\"background-color: rgba(255, 0, 0, 0.001); white-space: pre-wrap;\" title=\"KL: 0.000\">,</span><span style=\"background-color: rgba(255, 0, 0, 0.004); white-space: pre-wrap;\" title=\"KL: 0.000\"> on</span><span style=\"background-color: rgba(255, 0, 0, 0.000); white-space: pre-wrap;\" title=\"KL: 0.000\"> which</span><span style=\"background-color: rgba(255, 0, 0, 0.001); white-space: pre-wrap;\" title=\"KL: 0.000\"> the</span><span style=\"background-color: rgba(255, 0, 0, 0.000); white-space: pre-wrap;\" title=\"KL: 0.000\"> algorithm</span><span style=\"background-color: rgba(255, 0, 0, 0.001); white-space: pre-wrap;\" title=\"KL: 0.000\"> made</span><span style=\"background-color: rgba(255, 0, 0, 0.004); white-space: pre-wrap;\" title=\"KL: 0.000\"> a</span><span style=\"background-color: rgba(255, 0, 0, 0.003); white-space: pre-wrap;\" title=\"KL: 0.000\"> mistake</span><span style=\"background-color: rgba(255, 0, 0, 0.002); white-space: pre-wrap;\" title=\"KL: 0.000\">.</span><span style=\"background-color: rgba(255, 0, 0, 0.001); white-space: pre-wrap;\" title=\"KL: 0.000\">\n",
       "\n",
       "</span><span style=\"background-color: rgba(255, 0, 0, 0.003); white-space: pre-wrap;\" title=\"KL: 0.000\">5</span><span style=\"background-color: rgba(255, 0, 0, 0.000); white-space: pre-wrap;\" title=\"KL: 0.000\">0</span><span style=\"background-color: rgba(255, 0, 0, 0.001); white-space: pre-wrap;\" title=\"KL: 0.000\">0</span><span style=\"background-color: rgba(255, 0, 0, 0.001); white-space: pre-wrap;\" title=\"KL: 0.000\"> images</span><span style=\"background-color: rgba(255, 0, 0, 0.001); white-space: pre-wrap;\" title=\"KL: 0.000\"> of</span><span style=\"background-color: rgba(255, 0, 0, 0.001); white-space: pre-wrap;\" title=\"KL: 0.000\"> the</span><span style=\"background-color: rgba(255, 0, 0, 0.002); white-space: pre-wrap;\" title=\"KL: 0.000\"> train</span><span style=\"background-color: rgba(255, 0, 0, 0.000); white-space: pre-wrap;\" title=\"KL: 0.000\"> set</span><span style=\"background-color: rgba(255, 0, 0, 0.000); white-space: pre-wrap;\" title=\"KL: 0.000\">,</span><span style=\"background-color: rgba(255, 0, 0, 0.000); white-space: pre-wrap;\" title=\"KL: 0.000\"> on</span><span style=\"background-color: rgba(255, 0, 0, 0.000); white-space: pre-wrap;\" title=\"KL: 0.000\"> which</span><span style=\"background-color: rgba(255, 0, 0, 0.000); white-space: pre-wrap;\" title=\"KL: 0.000\"> the</span><span style=\"background-color: rgba(255, 0, 0, 0.000); white-space: pre-wrap;\" title=\"KL: 0.000\"> algorithm</span><span style=\"background-color: rgba(255, 0, 0, 0.000); white-space: pre-wrap;\" title=\"KL: 0.000\"> made</span><span style=\"background-color: rgba(255, 0, 0, 0.000); white-space: pre-wrap;\" title=\"KL: 0.000\"> a</span><span style=\"background-color: rgba(255, 0, 0, 0.000); white-space: pre-wrap;\" title=\"KL: 0.000\"> mistake</span><span style=\"background-color: rgba(255, 0, 0, 0.000); white-space: pre-wrap;\" title=\"KL: 0.000\">.</span><span style=\"background-color: rgba(255, 0, 0, 0.000); white-space: pre-wrap;\" title=\"KL: 0.000\">\n",
       "\n",
       "</span><span style=\"background-color: rgba(255, 0, 0, 0.009); white-space: pre-wrap;\" title=\"KL: 0.001\">5</span><span style=\"background-color: rgba(255, 0, 0, 0.001); white-space: pre-wrap;\" title=\"KL: 0.000\">0</span><span style=\"background-color: rgba(255, 0, 0, 0.000); white-space: pre-wrap;\" title=\"KL: 0.000\">0</span><span style=\"background-color: rgba(255, 0, 0, 0.001); white-space: pre-wrap;\" title=\"KL: 0.000\"> images</span><span style=\"background-color: rgba(255, 0, 0, 0.000); white-space: pre-wrap;\" title=\"KL: 0.000\"> of</span><span style=\"background-color: rgba(255, 0, 0, 0.001); white-space: pre-wrap;\" title=\"KL: 0.000\"> the</span><span style=\"background-color: rgba(255, 0, 0, 0.005); white-space: pre-wrap;\" title=\"KL: 0.000\"> dev</span><span style=\"background-color: rgba(255, 0, 0, 0.000); white-space: pre-wrap;\" title=\"KL: 0.000\"> set</span><span style=\"background-color: rgba(255, 0, 0, 0.000); white-space: pre-wrap;\" title=\"KL: 0.000\">,</span><span style=\"background-color: rgba(255, 0, 0, 0.000); white-space: pre-wrap;\" title=\"KL: 0.000\"> on</span><span style=\"background-color: rgba(255, 0, 0, 0.000); white-space: pre-wrap;\" title=\"KL: 0.000\"> which</span><span style=\"background-color: rgba(255, 0, 0, 0.000); white-space: pre-wrap;\" title=\"KL: 0.000\"> the</span><span style=\"background-color: rgba(255, 0, 0, 0.003); white-space: pre-wrap;\" title=\"KL: 0.000\"> algorithm</span><span style=\"background-color: rgba(255, 0, 0, 0.000); white-space: pre-wrap;\" title=\"KL: 0.000\"> made</span><span style=\"background-color: rgba(255, 0, 0, 0.000); white-space: pre-wrap;\" title=\"KL: 0.000\"> a</span><span style=\"background-color: rgba(255, 0, 0, 0.256); white-space: pre-wrap;\" title=\"KL: 0.026\"> mistake</span><span style=\"background-color: rgba(255, 0, 0, 0.000); white-space: pre-wrap;\" title=\"KL: 0.000\">.</span><span style=\"background-color: rgba(255, 0, 0, 0.000); white-space: pre-wrap;\" title=\"KL: 0.000\">\n",
       "\n",
       "</span><span style=\"background-color: rgba(255, 0, 0, 0.010); white-space: pre-wrap;\" title=\"KL: 0.001\">5</span><span style=\"background-color: rgba(255, 0, 0, 0.001); white-space: pre-wrap;\" title=\"KL: 0.000\">0</span><span style=\"background-color: rgba(255, 0, 0, 0.000); white-space: pre-wrap;\" title=\"KL: 0.000\">0</span><span style=\"background-color: rgba(255, 0, 0, 0.001); white-space: pre-wrap;\" title=\"KL: 0.000\"> images</span><span style=\"background-color: rgba(255, 0, 0, 0.000); white-space: pre-wrap;\" title=\"KL: 0.000\"> of</span><span style=\"background-color: rgba(255, 0, 0, 0.002); white-space: pre-wrap;\" title=\"KL: 0.000\"> the</span>"
      ],
      "text/plain": [
       "<IPython.core.display.HTML object>"
      ]
     },
     "metadata": {},
     "output_type": "display_data"
    },
    {
     "name": "stdout",
     "output_type": "stream",
     "text": [
      "High KL: 0.0256 at token ' mistake'\\n\n"
     ]
    },
    {
     "data": {
      "text/html": [
       "<style type=\"text/css\">\n",
       "#T_d929a th {\n",
       "  text-align: left;\n",
       "}\n",
       "#T_d929a_row0_col0 {\n",
       "  background-color: forestgreen;\n",
       "  text-align: left;\n",
       "}\n",
       "#T_d929a_row0_col1, #T_d929a_row0_col2, #T_d929a_row1_col1, #T_d929a_row1_col2, #T_d929a_row2_col1, #T_d929a_row2_col2 {\n",
       "  text-align: left;\n",
       "}\n",
       "#T_d929a_row1_col0, #T_d929a_row2_col0 {\n",
       "  background-color: indianred;\n",
       "  text-align: left;\n",
       "}\n",
       "</style>\n",
       "<table id=\"T_d929a\">\n",
       "  <thead>\n",
       "    <tr>\n",
       "      <th class=\"blank level0\" >&nbsp;</th>\n",
       "      <th id=\"T_d929a_level0_col0\" class=\"col_heading level0 col0\" >Token</th>\n",
       "      <th id=\"T_d929a_level0_col1\" class=\"col_heading level0 col1\" >p_HS</th>\n",
       "      <th id=\"T_d929a_level0_col2\" class=\"col_heading level0 col2\" >p_B</th>\n",
       "    </tr>\n",
       "  </thead>\n",
       "  <tbody>\n",
       "    <tr>\n",
       "      <th id=\"T_d929a_level0_row0\" class=\"row_heading level0 row0\" >0</th>\n",
       "      <td id=\"T_d929a_row0_col0\" class=\"data row0 col0\" > mistake</td>\n",
       "      <td id=\"T_d929a_row0_col1\" class=\"data row0 col1\" >0.730</td>\n",
       "      <td id=\"T_d929a_row0_col2\" class=\"data row0 col2\" >0.820</td>\n",
       "    </tr>\n",
       "    <tr>\n",
       "      <th id=\"T_d929a_level0_row1\" class=\"row_heading level0 row1\" >1</th>\n",
       "      <td id=\"T_d929a_row1_col0\" class=\"data row1 col0\" > a</td>\n",
       "      <td id=\"T_d929a_row1_col1\" class=\"data row1 col1\" >0.015</td>\n",
       "      <td id=\"T_d929a_row1_col2\" class=\"data row1 col2\" >0.013</td>\n",
       "    </tr>\n",
       "    <tr>\n",
       "      <th id=\"T_d929a_level0_row2\" class=\"row_heading level0 row2\" >2</th>\n",
       "      <td id=\"T_d929a_row2_col0\" class=\"data row2 col0\" > error</td>\n",
       "      <td id=\"T_d929a_row2_col1\" class=\"data row2 col1\" >0.247</td>\n",
       "      <td id=\"T_d929a_row2_col2\" class=\"data row2 col2\" >0.160</td>\n",
       "    </tr>\n",
       "  </tbody>\n",
       "</table>\n"
      ],
      "text/plain": [
       "<IPython.core.display.HTML object>"
      ]
     },
     "metadata": {},
     "output_type": "display_data"
    },
    {
     "name": "stdout",
     "output_type": "stream",
     "text": [
      "--------------------------------------------------------------------------------------------------------------------------------------------------------------------------------------------------------\n"
     ]
    },
    {
     "data": {
      "text/html": [
       "&lt;bos&gt;<span style=\"background-color: rgba(255, 0, 0, 0.000); white-space: pre-wrap;\" title=\"KL: 0.000\">&lt;start_of_turn&gt;</span><span style=\"background-color: rgba(255, 0, 0, 0.000); white-space: pre-wrap;\" title=\"KL: 0.000\">user</span><span style=\"background-color: rgba(255, 0, 0, 0.000); white-space: pre-wrap;\" title=\"KL: 0.000\">\n",
       "</span><span style=\"background-color: rgba(255, 0, 0, 0.002); white-space: pre-wrap;\" title=\"KL: 0.000\">{\\\"</span><span style=\"background-color: rgba(255, 0, 0, 0.000); white-space: pre-wrap;\" title=\"KL: 0.000\">role</span><span style=\"background-color: rgba(255, 0, 0, 0.000); white-space: pre-wrap;\" title=\"KL: 0.000\">\\\":\\\"</span><span style=\"background-color: rgba(255, 0, 0, 0.001); white-space: pre-wrap;\" title=\"KL: 0.000\">system</span><span style=\"background-color: rgba(255, 0, 0, 0.000); white-space: pre-wrap;\" title=\"KL: 0.000\">\\\",\\\"</span><span style=\"background-color: rgba(255, 0, 0, 0.002); white-space: pre-wrap;\" title=\"KL: 0.000\">content</span><span style=\"background-color: rgba(255, 0, 0, 0.000); white-space: pre-wrap;\" title=\"KL: 0.000\">\\\":\\\"</span><span style=\"background-color: rgba(255, 0, 0, 0.000); white-space: pre-wrap;\" title=\"KL: 0.000\">You</span><span style=\"background-color: rgba(255, 0, 0, 0.000); white-space: pre-wrap;\" title=\"KL: 0.000\"> are</span><span style=\"background-color: rgba(255, 0, 0, 0.000); white-space: pre-wrap;\" title=\"KL: 0.000\"> an</span><span style=\"background-color: rgba(255, 0, 0, 0.000); white-space: pre-wrap;\" title=\"KL: 0.000\"> assist</span><span style=\"background-color: rgba(255, 0, 0, 0.000); white-space: pre-wrap;\" title=\"KL: 0.000\">ent</span><span style=\"background-color: rgba(255, 0, 0, 0.000); white-space: pre-wrap;\" title=\"KL: 0.000\"> to</span><span style=\"background-color: rgba(255, 0, 0, 0.000); white-space: pre-wrap;\" title=\"KL: 0.000\"> a</span><span style=\"background-color: rgba(255, 0, 0, 0.001); white-space: pre-wrap;\" title=\"KL: 0.000\"> project</span><span style=\"background-color: rgba(255, 0, 0, 0.001); white-space: pre-wrap;\" title=\"KL: 0.000\"> manager</span><span style=\"background-color: rgba(255, 0, 0, 0.001); white-space: pre-wrap;\" title=\"KL: 0.000\">.</span><span style=\"background-color: rgba(255, 0, 0, 0.001); white-space: pre-wrap;\" title=\"KL: 0.000\"> Your</span><span style=\"background-color: rgba(255, 0, 0, 0.001); white-space: pre-wrap;\" title=\"KL: 0.000\"> task</span><span style=\"background-color: rgba(255, 0, 0, 0.000); white-space: pre-wrap;\" title=\"KL: 0.000\"> is</span><span style=\"background-color: rgba(255, 0, 0, 0.000); white-space: pre-wrap;\" title=\"KL: 0.000\"> to</span><span style=\"background-color: rgba(255, 0, 0, 0.002); white-space: pre-wrap;\" title=\"KL: 0.000\"> write</span><span style=\"background-color: rgba(255, 0, 0, 0.001); white-space: pre-wrap;\" title=\"KL: 0.000\"> project</span><span style=\"background-color: rgba(255, 0, 0, 0.002); white-space: pre-wrap;\" title=\"KL: 0.000\"> reports</span><span style=\"background-color: rgba(255, 0, 0, 0.000); white-space: pre-wrap;\" title=\"KL: 0.000\">.</span><span style=\"background-color: rgba(255, 0, 0, 0.001); white-space: pre-wrap;\" title=\"KL: 0.000\">You</span><span style=\"background-color: rgba(255, 0, 0, 0.001); white-space: pre-wrap;\" title=\"KL: 0.000\"> you</span><span style=\"background-color: rgba(255, 0, 0, 0.001); white-space: pre-wrap;\" title=\"KL: 0.000\"> receive</span><span style=\"background-color: rgba(255, 0, 0, 0.000); white-space: pre-wrap;\" title=\"KL: 0.000\"> inputs</span><span style=\"background-color: rgba(255, 0, 0, 0.000); white-space: pre-wrap;\" title=\"KL: 0.000\"> as</span><span style=\"background-color: rgba(255, 0, 0, 0.003); white-space: pre-wrap;\" title=\"KL: 0.000\"> bullet</span><span style=\"background-color: rgba(255, 0, 0, 0.000); white-space: pre-wrap;\" title=\"KL: 0.000\"> points</span><span style=\"background-color: rgba(255, 0, 0, 0.001); white-space: pre-wrap;\" title=\"KL: 0.000\"> for</span><span style=\"background-color: rgba(255, 0, 0, 0.002); white-space: pre-wrap;\" title=\"KL: 0.000\"> different</span><span style=\"background-color: rgba(255, 0, 0, 0.001); white-space: pre-wrap;\" title=\"KL: 0.000\"> sections</span><span style=\"background-color: rgba(255, 0, 0, 0.000); white-space: pre-wrap;\" title=\"KL: 0.000\">.</span><span style=\"background-color: rgba(255, 0, 0, 0.001); white-space: pre-wrap;\" title=\"KL: 0.000\">Write</span><span style=\"background-color: rgba(255, 0, 0, 0.000); white-space: pre-wrap;\" title=\"KL: 0.000\"> con</span><span style=\"background-color: rgba(255, 0, 0, 0.001); white-space: pre-wrap;\" title=\"KL: 0.000\">cious</span><span style=\"background-color: rgba(255, 0, 0, 0.001); white-space: pre-wrap;\" title=\"KL: 0.000\"> full</span><span style=\"background-color: rgba(255, 0, 0, 0.004); white-space: pre-wrap;\" title=\"KL: 0.000\"> sentences</span><span style=\"background-color: rgba(255, 0, 0, 0.000); white-space: pre-wrap;\" title=\"KL: 0.000\"> leveraging</span><span style=\"background-color: rgba(255, 0, 0, 0.000); white-space: pre-wrap;\" title=\"KL: 0.000\"> the</span><span style=\"background-color: rgba(255, 0, 0, 0.003); white-space: pre-wrap;\" title=\"KL: 0.000\"> input</span><span style=\"background-color: rgba(255, 0, 0, 0.000); white-space: pre-wrap;\" title=\"KL: 0.000\"> provided</span><span style=\"background-color: rgba(255, 0, 0, 0.000); white-space: pre-wrap;\" title=\"KL: 0.000\"> to</span><span style=\"background-color: rgba(255, 0, 0, 0.002); white-space: pre-wrap;\" title=\"KL: 0.000\"> you</span><span style=\"background-color: rgba(255, 0, 0, 0.000); white-space: pre-wrap;\" title=\"KL: 0.000\">.</span><span style=\"background-color: rgba(255, 0, 0, 0.003); white-space: pre-wrap;\" title=\"KL: 0.000\"> Don</span><span style=\"background-color: rgba(255, 0, 0, 0.001); white-space: pre-wrap;\" title=\"KL: 0.000\">'</span><span style=\"background-color: rgba(255, 0, 0, 0.000); white-space: pre-wrap;\" title=\"KL: -0.000\">t</span><span style=\"background-color: rgba(255, 0, 0, 0.001); white-space: pre-wrap;\" title=\"KL: 0.000\"> create</span><span style=\"background-color: rgba(255, 0, 0, 0.002); white-space: pre-wrap;\" title=\"KL: 0.000\"> bullet</span><span style=\"background-color: rgba(255, 0, 0, 0.000); white-space: pre-wrap;\" title=\"KL: 0.000\"> points</span><span style=\"background-color: rgba(255, 0, 0, 0.000); white-space: pre-wrap;\" title=\"KL: 0.000\">.</span><span style=\"background-color: rgba(255, 0, 0, 0.001); white-space: pre-wrap;\" title=\"KL: 0.000\">When</span><span style=\"background-color: rgba(255, 0, 0, 0.001); white-space: pre-wrap;\" title=\"KL: 0.000\"> summarizing</span><span style=\"background-color: rgba(255, 0, 0, 0.000); white-space: pre-wrap;\" title=\"KL: 0.000\"> content</span><span style=\"background-color: rgba(255, 0, 0, 0.000); white-space: pre-wrap;\" title=\"KL: 0.000\">,</span><span style=\"background-color: rgba(255, 0, 0, 0.001); white-space: pre-wrap;\" title=\"KL: 0.000\"> focus</span><span style=\"background-color: rgba(255, 0, 0, 0.000); white-space: pre-wrap;\" title=\"KL: 0.000\"> on</span><span style=\"background-color: rgba(255, 0, 0, 0.000); white-space: pre-wrap;\" title=\"KL: 0.000\"> important</span><span style=\"background-color: rgba(255, 0, 0, 0.000); white-space: pre-wrap;\" title=\"KL: 0.000\"> parts</span><span style=\"background-color: rgba(255, 0, 0, 0.000); white-space: pre-wrap;\" title=\"KL: 0.000\"> according</span><span style=\"background-color: rgba(255, 0, 0, 0.000); white-space: pre-wrap;\" title=\"KL: 0.000\"> to</span><span style=\"background-color: rgba(255, 0, 0, 0.000); white-space: pre-wrap;\" title=\"KL: 0.000\"> priorities</span><span style=\"background-color: rgba(255, 0, 0, 0.000); white-space: pre-wrap;\" title=\"KL: 0.000\">.</span><span style=\"background-color: rgba(255, 0, 0, 0.001); white-space: pre-wrap;\" title=\"KL: 0.000\">Structure</span><span style=\"background-color: rgba(255, 0, 0, 0.000); white-space: pre-wrap;\" title=\"KL: 0.000\"> a</span><span style=\"background-color: rgba(255, 0, 0, 0.002); white-space: pre-wrap;\" title=\"KL: 0.000\"> project</span><span style=\"background-color: rgba(255, 0, 0, 0.000); white-space: pre-wrap;\" title=\"KL: 0.000\"> report</span><span style=\"background-color: rgba(255, 0, 0, 0.001); white-space: pre-wrap;\" title=\"KL: 0.000\"> along</span><span style=\"background-color: rgba(255, 0, 0, 0.001); white-space: pre-wrap;\" title=\"KL: 0.000\"> the</span><span style=\"background-color: rgba(255, 0, 0, 0.025); white-space: pre-wrap;\" title=\"KL: 0.003\"> following</span><span style=\"background-color: rgba(255, 0, 0, 0.001); white-space: pre-wrap;\" title=\"KL: 0.000\"> sections</span><span style=\"background-color: rgba(255, 0, 0, 0.000); white-space: pre-wrap;\" title=\"KL: 0.000\">:</span><span style=\"background-color: rgba(255, 0, 0, 0.001); white-space: pre-wrap;\" title=\"KL: 0.000\"> Achievements</span><span style=\"background-color: rgba(255, 0, 0, 0.000); white-space: pre-wrap;\" title=\"KL: 0.000\">,</span><span style=\"background-color: rgba(255, 0, 0, 0.001); white-space: pre-wrap;\" title=\"KL: 0.000\"> Risks</span><span style=\"background-color: rgba(255, 0, 0, 0.001); white-space: pre-wrap;\" title=\"KL: 0.000\">,</span><span style=\"background-color: rgba(255, 0, 0, 0.003); white-space: pre-wrap;\" title=\"KL: 0.000\"> Escal</span><span style=\"background-color: rgba(255, 0, 0, 0.001); white-space: pre-wrap;\" title=\"KL: 0.000\">ations</span><span style=\"background-color: rgba(255, 0, 0, 0.000); white-space: pre-wrap;\" title=\"KL: 0.000\"> and</span><span style=\"background-color: rgba(255, 0, 0, 0.001); white-space: pre-wrap;\" title=\"KL: 0.000\"> Summary</span><span style=\"background-color: rgba(255, 0, 0, 0.000); white-space: pre-wrap;\" title=\"KL: 0.000\">.\\\\</span><span style=\"background-color: rgba(255, 0, 0, 0.002); white-space: pre-wrap;\" title=\"KL: 0.000\">n</span><span style=\"background-color: rgba(255, 0, 0, 0.003); white-space: pre-wrap;\" title=\"KL: 0.000\">Start</span><span style=\"background-color: rgba(255, 0, 0, 0.001); white-space: pre-wrap;\" title=\"KL: 0.000\"> each</span><span style=\"background-color: rgba(255, 0, 0, 0.000); white-space: pre-wrap;\" title=\"KL: 0.000\"> section</span><span style=\"background-color: rgba(255, 0, 0, 0.000); white-space: pre-wrap;\" title=\"KL: 0.000\"> with</span><span style=\"background-color: rgba(255, 0, 0, 0.000); white-space: pre-wrap;\" title=\"KL: 0.000\"> section</span><span style=\"background-color: rgba(255, 0, 0, 0.002); white-space: pre-wrap;\" title=\"KL: 0.000\"> name</span><span style=\"background-color: rgba(255, 0, 0, 0.002); white-space: pre-wrap;\" title=\"KL: 0.000\"> as</span><span style=\"background-color: rgba(255, 0, 0, 0.001); white-space: pre-wrap;\" title=\"KL: 0.000\"> keyword</span><span style=\"background-color: rgba(255, 0, 0, 0.001); white-space: pre-wrap;\" title=\"KL: 0.000\"> in</span><span style=\"background-color: rgba(255, 0, 0, 0.000); white-space: pre-wrap;\" title=\"KL: 0.000\"> this</span><span style=\"background-color: rgba(255, 0, 0, 0.001); white-space: pre-wrap;\" title=\"KL: 0.000\"> format</span><span style=\"background-color: rgba(255, 0, 0, 0.000); white-space: pre-wrap;\" title=\"KL: 0.000\"> {{</span><span style=\"background-color: rgba(255, 0, 0, 0.003); white-space: pre-wrap;\" title=\"KL: 0.000\">keyword</span><span style=\"background-color: rgba(255, 0, 0, 0.002); white-space: pre-wrap;\" title=\"KL: 0.000\">}}</span><span style=\"background-color: rgba(255, 0, 0, 0.011); white-space: pre-wrap;\" title=\"KL: 0.001\"> followed</span><span style=\"background-color: rgba(255, 0, 0, 0.000); white-space: pre-wrap;\" title=\"KL: 0.000\"> by</span><span style=\"background-color: rgba(255, 0, 0, 0.000); white-space: pre-wrap;\" title=\"KL: 0.000\"> '</span><span style=\"background-color: rgba(255, 0, 0, 0.001); white-space: pre-wrap;\" title=\"KL: 0.000\">:',</span><span style=\"background-color: rgba(255, 0, 0, 0.002); white-space: pre-wrap;\" title=\"KL: 0.000\"> for</span><span style=\"background-color: rgba(255, 0, 0, 0.000); white-space: pre-wrap;\" title=\"KL: 0.000\"> example</span><span style=\"background-color: rgba(255, 0, 0, 0.001); white-space: pre-wrap;\" title=\"KL: 0.000\"> '{{</span><span style=\"background-color: rgba(255, 0, 0, 0.002); white-space: pre-wrap;\" title=\"KL: 0.000\">Summary</span><span style=\"background-color: rgba(255, 0, 0, 0.001); white-space: pre-wrap;\" title=\"KL: 0.000\">}}</span><span style=\"background-color: rgba(255, 0, 0, 0.002); white-space: pre-wrap;\" title=\"KL: 0.000\">:'</span><span style=\"background-color: rgba(255, 0, 0, 0.002); white-space: pre-wrap;\" title=\"KL: 0.000\"> or</span><span style=\"background-color: rgba(255, 0, 0, 0.002); white-space: pre-wrap;\" title=\"KL: 0.000\"> '{{</span><span style=\"background-color: rgba(255, 0, 0, 0.000); white-space: pre-wrap;\" title=\"KL: 0.000\">Achievements</span><span style=\"background-color: rgba(255, 0, 0, 0.000); white-space: pre-wrap;\" title=\"KL: 0.000\">}}</span><span style=\"background-color: rgba(255, 0, 0, 0.000); white-space: pre-wrap;\" title=\"KL: 0.000\">:'</span><span style=\"background-color: rgba(255, 0, 0, 0.002); white-space: pre-wrap;\" title=\"KL: 0.000\">\\\\</span><span style=\"background-color: rgba(255, 0, 0, 0.001); white-space: pre-wrap;\" title=\"KL: 0.000\">n</span><span style=\"background-color: rgba(255, 0, 0, 0.022); white-space: pre-wrap;\" title=\"KL: 0.002\">Don</span><span style=\"background-color: rgba(255, 0, 0, 0.000); white-space: pre-wrap;\" title=\"KL: 0.000\">'</span><span style=\"background-color: rgba(255, 0, 0, 0.000); white-space: pre-wrap;\" title=\"KL: -0.000\">t</span><span style=\"background-color: rgba(255, 0, 0, 0.000); white-space: pre-wrap;\" title=\"KL: 0.000\"> add</span><span style=\"background-color: rgba(255, 0, 0, 0.001); white-space: pre-wrap;\" title=\"KL: 0.000\"> any</span><span style=\"background-color: rgba(255, 0, 0, 0.002); white-space: pre-wrap;\" title=\"KL: 0.000\"> commentary</span><span style=\"background-color: rgba(255, 0, 0, 0.000); white-space: pre-wrap;\" title=\"KL: 0.000\"> outside</span><span style=\"background-color: rgba(255, 0, 0, 0.000); white-space: pre-wrap;\" title=\"KL: 0.000\"> these</span><span style=\"background-color: rgba(255, 0, 0, 0.004); white-space: pre-wrap;\" title=\"KL: 0.000\"> sections</span><span style=\"background-color: rgba(255, 0, 0, 0.000); white-space: pre-wrap;\" title=\"KL: 0.000\">.\\</span><span style=\"background-color: rgba(255, 0, 0, 0.002); white-space: pre-wrap;\" title=\"KL: 0.000\">\"},</span><span style=\"background-color: rgba(255, 0, 0, 0.001); white-space: pre-wrap;\" title=\"KL: 0.000\">{\\\"</span><span style=\"background-color: rgba(255, 0, 0, 0.006); white-space: pre-wrap;\" title=\"KL: 0.001\">role</span><span style=\"background-color: rgba(255, 0, 0, 0.000); white-space: pre-wrap;\" title=\"KL: 0.000\">\\\":\\\"</span><span style=\"background-color: rgba(255, 0, 0, 0.000); white-space: pre-wrap;\" title=\"KL: 0.000\">user</span><span style=\"background-color: rgba(255, 0, 0, 0.000); white-space: pre-wrap;\" title=\"KL: 0.000\">\\\",\\\"</span><span style=\"background-color: rgba(255, 0, 0, 0.000); white-space: pre-wrap;\" title=\"KL: 0.000\">content</span><span style=\"background-color: rgba(255, 0, 0, 0.001); white-space: pre-wrap;\" title=\"KL: 0.000\">\\\":\\\"</span><span style=\"background-color: rgba(255, 0, 0, 0.002); white-space: pre-wrap;\" title=\"KL: 0.000\">How</span><span style=\"background-color: rgba(255, 0, 0, 0.007); white-space: pre-wrap;\" title=\"KL: 0.001\"> should</span><span style=\"background-color: rgba(255, 0, 0, 0.002); white-space: pre-wrap;\" title=\"KL: 0.000\"> a</span><span style=\"background-color: rgba(255, 0, 0, 0.000); white-space: pre-wrap;\" title=\"KL: 0.000\"> project</span><span style=\"background-color: rgba(255, 0, 0, 0.001); white-space: pre-wrap;\" title=\"KL: 0.000\"> report</span><span style=\"background-color: rgba(255, 0, 0, 0.001); white-space: pre-wrap;\" title=\"KL: 0.000\"> be</span><span style=\"background-color: rgba(255, 0, 0, 0.000); white-space: pre-wrap;\" title=\"KL: 0.000\"> structured</span><span style=\"background-color: rgba(255, 0, 0, 0.000); white-space: pre-wrap;\" title=\"KL: 0.000\"> and</span><span style=\"background-color: rgba(255, 0, 0, 0.000); white-space: pre-wrap;\" title=\"KL: 0.000\"> what</span><span style=\"background-color: rgba(255, 0, 0, 0.000); white-space: pre-wrap;\" title=\"KL: 0.000\"> should</span><span style=\"background-color: rgba(255, 0, 0, 0.000); white-space: pre-wrap;\" title=\"KL: 0.000\"> be</span><span style=\"background-color: rgba(255, 0, 0, 0.003); white-space: pre-wrap;\" title=\"KL: 0.000\"> included</span><span style=\"background-color: rgba(255, 0, 0, 0.000); white-space: pre-wrap;\" title=\"KL: 0.000\">?</span><span style=\"background-color: rgba(255, 0, 0, 0.002); white-space: pre-wrap;\" title=\"KL: 0.000\">\\\"</span><span style=\"background-color: rgba(255, 0, 0, 0.003); white-space: pre-wrap;\" title=\"KL: 0.000\">},</span><span style=\"background-color: rgba(255, 0, 0, 0.005); white-space: pre-wrap;\" title=\"KL: 0.001\">{\\\"</span><span style=\"background-color: rgba(255, 0, 0, 0.000); white-space: pre-wrap;\" title=\"KL: 0.000\">role</span><span style=\"background-color: rgba(255, 0, 0, 0.000); white-space: pre-wrap;\" title=\"KL: 0.000\">\\\":\\\"</span><span style=\"background-color: rgba(255, 0, 0, 0.000); white-space: pre-wrap;\" title=\"KL: 0.000\">assistant</span><span style=\"background-color: rgba(255, 0, 0, 0.000); white-space: pre-wrap;\" title=\"KL: 0.000\">\\\",\\\"</span><span style=\"background-color: rgba(255, 0, 0, 0.000); white-space: pre-wrap;\" title=\"KL: 0.000\">content</span><span style=\"background-color: rgba(255, 0, 0, 0.000); white-space: pre-wrap;\" title=\"KL: 0.000\">\\\":\\\"</span><span style=\"background-color: rgba(255, 0, 0, 0.002); white-space: pre-wrap;\" title=\"KL: 0.000\">{{</span><span style=\"background-color: rgba(255, 0, 0, 0.007); white-space: pre-wrap;\" title=\"KL: 0.001\">Achievements</span><span style=\"background-color: rgba(255, 0, 0, 0.000); white-space: pre-wrap;\" title=\"KL: 0.000\">}}:</span><span style=\"background-color: rgba(255, 0, 0, 0.002); white-space: pre-wrap;\" title=\"KL: 0.000\"> Summary</span><span style=\"background-color: rgba(255, 0, 0, 0.001); white-space: pre-wrap;\" title=\"KL: 0.000\"> of</span><span style=\"background-color: rgba(255, 0, 0, 0.003); white-space: pre-wrap;\" title=\"KL: 0.000\"> achievements</span><span style=\"background-color: rgba(255, 0, 0, 0.003); white-space: pre-wrap;\" title=\"KL: 0.000\"> in</span><span style=\"background-color: rgba(255, 0, 0, 0.000); white-space: pre-wrap;\" title=\"KL: 0.000\"> full</span><span style=\"background-color: rgba(255, 0, 0, 0.000); white-space: pre-wrap;\" title=\"KL: 0.000\"> sentences</span><span style=\"background-color: rgba(255, 0, 0, 0.001); white-space: pre-wrap;\" title=\"KL: 0.000\">.\\\\</span><span style=\"background-color: rgba(255, 0, 0, 0.013); white-space: pre-wrap;\" title=\"KL: 0.001\">n</span><span style=\"background-color: rgba(255, 0, 0, 0.000); white-space: pre-wrap;\" title=\"KL: 0.000\">\\\\</span><span style=\"background-color: rgba(255, 0, 0, 0.000); white-space: pre-wrap;\" title=\"KL: 0.000\">n</span><span style=\"background-color: rgba(255, 0, 0, 0.000); white-space: pre-wrap;\" title=\"KL: 0.000\">{{</span><span style=\"background-color: rgba(255, 0, 0, 0.000); white-space: pre-wrap;\" title=\"KL: 0.000\">Risks</span><span style=\"background-color: rgba(255, 0, 0, 0.000); white-space: pre-wrap;\" title=\"KL: 0.000\">}}:</span><span style=\"background-color: rgba(255, 0, 0, 0.002); white-space: pre-wrap;\" title=\"KL: 0.000\"> Summary</span><span style=\"background-color: rgba(255, 0, 0, 0.000); white-space: pre-wrap;\" title=\"KL: 0.000\"> of</span><span style=\"background-color: rgba(255, 0, 0, 0.002); white-space: pre-wrap;\" title=\"KL: 0.000\"> risks</span><span style=\"background-color: rgba(255, 0, 0, 0.000); white-space: pre-wrap;\" title=\"KL: 0.000\"> in</span><span style=\"background-color: rgba(255, 0, 0, 0.000); white-space: pre-wrap;\" title=\"KL: 0.000\"> full</span><span style=\"background-color: rgba(255, 0, 0, 0.000); white-space: pre-wrap;\" title=\"KL: 0.000\"> sentences</span><span style=\"background-color: rgba(255, 0, 0, 0.002); white-space: pre-wrap;\" title=\"KL: 0.000\">.\\\\</span><span style=\"background-color: rgba(255, 0, 0, 0.000); white-space: pre-wrap;\" title=\"KL: 0.000\">n</span><span style=\"background-color: rgba(255, 0, 0, 0.000); white-space: pre-wrap;\" title=\"KL: 0.000\">\\\\</span><span style=\"background-color: rgba(255, 0, 0, 0.000); white-space: pre-wrap;\" title=\"KL: 0.000\">n</span><span style=\"background-color: rgba(255, 0, 0, 0.000); white-space: pre-wrap;\" title=\"KL: 0.000\">{{</span><span style=\"background-color: rgba(255, 0, 0, 0.000); white-space: pre-wrap;\" title=\"KL: 0.000\">Escal</span><span style=\"background-color: rgba(255, 0, 0, 0.000); white-space: pre-wrap;\" title=\"KL: 0.000\">ations</span><span style=\"background-color: rgba(255, 0, 0, 0.000); white-space: pre-wrap;\" title=\"KL: 0.000\">}}:</span><span style=\"background-color: rgba(255, 0, 0, 0.000); white-space: pre-wrap;\" title=\"KL: 0.000\"> Summary</span><span style=\"background-color: rgba(255, 0, 0, 0.000); white-space: pre-wrap;\" title=\"KL: 0.000\"> of</span><span style=\"background-color: rgba(255, 0, 0, 0.000); white-space: pre-wrap;\" title=\"KL: 0.000\"> escal</span><span style=\"background-color: rgba(255, 0, 0, 0.000); white-space: pre-wrap;\" title=\"KL: 0.000\">ations</span><span style=\"background-color: rgba(255, 0, 0, 0.000); white-space: pre-wrap;\" title=\"KL: 0.000\"> in</span><span style=\"background-color: rgba(255, 0, 0, 0.000); white-space: pre-wrap;\" title=\"KL: 0.000\"> full</span><span style=\"background-color: rgba(255, 0, 0, 0.000); white-space: pre-wrap;\" title=\"KL: 0.000\"> sentences</span><span style=\"background-color: rgba(255, 0, 0, 0.001); white-space: pre-wrap;\" title=\"KL: 0.000\">.\\\\</span><span style=\"background-color: rgba(255, 0, 0, 0.000); white-space: pre-wrap;\" title=\"KL: 0.000\">n</span><span style=\"background-color: rgba(255, 0, 0, 0.000); white-space: pre-wrap;\" title=\"KL: 0.000\">\\\\</span><span style=\"background-color: rgba(255, 0, 0, 0.000); white-space: pre-wrap;\" title=\"KL: 0.000\">n</span><span style=\"background-color: rgba(255, 0, 0, 0.000); white-space: pre-wrap;\" title=\"KL: 0.000\">{{</span><span style=\"background-color: rgba(255, 0, 0, 0.000); white-space: pre-wrap;\" title=\"KL: 0.000\">Summary</span><span style=\"background-color: rgba(255, 0, 0, 0.001); white-space: pre-wrap;\" title=\"KL: 0.000\">}}:</span><span style=\"background-color: rgba(255, 0, 0, 0.001); white-space: pre-wrap;\" title=\"KL: 0.000\"> Executive</span><span style=\"background-color: rgba(255, 0, 0, 0.002); white-space: pre-wrap;\" title=\"KL: 0.000\"> summary</span><span style=\"background-color: rgba(255, 0, 0, 0.000); white-space: pre-wrap;\" title=\"KL: 0.000\"> including</span><span style=\"background-color: rgba(255, 0, 0, 0.001); white-space: pre-wrap;\" title=\"KL: 0.000\"> highlights</span><span style=\"background-color: rgba(255, 0, 0, 0.003); white-space: pre-wrap;\" title=\"KL: 0.000\"> and</span><span style=\"background-color: rgba(255, 0, 0, 0.002); white-space: pre-wrap;\" title=\"KL: 0.000\"> key</span><span style=\"background-color: rgba(255, 0, 0, 0.003); white-space: pre-wrap;\" title=\"KL: 0.000\"> achievements</span><span style=\"background-color: rgba(255, 0, 0, 0.001); white-space: pre-wrap;\" title=\"KL: 0.000\">,</span><span style=\"background-color: rgba(255, 0, 0, 0.005); white-space: pre-wrap;\" title=\"KL: 0.001\"> risks</span><span style=\"background-color: rgba(255, 0, 0, 0.000); white-space: pre-wrap;\" title=\"KL: 0.000\"> and</span><span style=\"background-color: rgba(255, 0, 0, 0.003); white-space: pre-wrap;\" title=\"KL: 0.000\"> escal</span><span style=\"background-color: rgba(255, 0, 0, 0.000); white-space: pre-wrap;\" title=\"KL: 0.000\">ations</span><span style=\"background-color: rgba(255, 0, 0, 0.001); white-space: pre-wrap;\" title=\"KL: 0.000\"> in</span><span style=\"background-color: rgba(255, 0, 0, 0.001); white-space: pre-wrap;\" title=\"KL: 0.000\"> full</span><span style=\"background-color: rgba(255, 0, 0, 0.000); white-space: pre-wrap;\" title=\"KL: 0.000\"> sentences</span><span style=\"background-color: rgba(255, 0, 0, 0.000); white-space: pre-wrap;\" title=\"KL: 0.000\">.\\</span><span style=\"background-color: rgba(255, 0, 0, 0.001); white-space: pre-wrap;\" title=\"KL: 0.000\">\"},</span><span style=\"background-color: rgba(255, 0, 0, 0.019); white-space: pre-wrap;\" title=\"KL: 0.002\">{\\\"</span><span style=\"background-color: rgba(255, 0, 0, 0.000); white-space: pre-wrap;\" title=\"KL: 0.000\">role</span><span style=\"background-color: rgba(255, 0, 0, 0.000); white-space: pre-wrap;\" title=\"KL: 0.000\">\\\":\\\"</span><span style=\"background-color: rgba(255, 0, 0, 0.001); white-space: pre-wrap;\" title=\"KL: 0.000\">user</span><span style=\"background-color: rgba(255, 0, 0, 0.000); white-space: pre-wrap;\" title=\"KL: 0.000\">\\\",\\\"</span><span style=\"background-color: rgba(255, 0, 0, 0.000); white-space: pre-wrap;\" title=\"KL: 0.000\">content</span><span style=\"background-color: rgba(255, 0, 0, 0.000); white-space: pre-wrap;\" title=\"KL: 0.000\">\\\":\\\"</span><span style=\"background-color: rgba(255, 0, 0, 0.003); white-space: pre-wrap;\" title=\"KL: 0.000\">Generate</span><span style=\"background-color: rgba(255, 0, 0, 0.002); white-space: pre-wrap;\" title=\"KL: 0.000\"> a</span><span style=\"background-color: rgba(255, 0, 0, 0.002); white-space: pre-wrap;\" title=\"KL: 0.000\"> project</span><span style=\"background-color: rgba(255, 0, 0, 0.000); white-space: pre-wrap;\" title=\"KL: 0.000\"> report</span><span style=\"background-color: rgba(255, 0, 0, 0.001); white-space: pre-wrap;\" title=\"KL: 0.000\"> for</span><span style=\"background-color: rgba(255, 0, 0, 0.003); white-space: pre-wrap;\" title=\"KL: 0.000\"> the</span><span style=\"background-color: rgba(255, 0, 0, 0.020); white-space: pre-wrap;\" title=\"KL: 0.002\"> input</span><span style=\"background-color: rgba(255, 0, 0, 0.001); white-space: pre-wrap;\" title=\"KL: 0.000\"> below</span><span style=\"background-color: rgba(255, 0, 0, 0.000); white-space: pre-wrap;\" title=\"KL: 0.000\">.</span><span style=\"background-color: rgba(255, 0, 0, 0.001); white-space: pre-wrap;\" title=\"KL: 0.000\"> Keep</span><span style=\"background-color: rgba(255, 0, 0, 0.000); white-space: pre-wrap;\" title=\"KL: 0.000\"> to</span><span style=\"background-color: rgba(255, 0, 0, 0.000); white-space: pre-wrap;\" title=\"KL: 0.000\"> the</span><span style=\"background-color: rgba(255, 0, 0, 0.010); white-space: pre-wrap;\" title=\"KL: 0.001\"> project</span><span style=\"background-color: rgba(255, 0, 0, 0.010); white-space: pre-wrap;\" title=\"KL: 0.001\"> report</span><span style=\"background-color: rgba(255, 0, 0, 0.000); white-space: pre-wrap;\" title=\"KL: 0.000\"> st</span><span style=\"background-color: rgba(255, 0, 0, 0.000); white-space: pre-wrap;\" title=\"KL: 0.000\">uct</span><span style=\"background-color: rgba(255, 0, 0, 0.000); white-space: pre-wrap;\" title=\"KL: 0.000\">ure</span><span style=\"background-color: rgba(255, 0, 0, 0.001); white-space: pre-wrap;\" title=\"KL: 0.000\">.</span><span style=\"background-color: rgba(255, 0, 0, 0.002); white-space: pre-wrap;\" title=\"KL: 0.000\">Ensure</span><span style=\"background-color: rgba(255, 0, 0, 0.001); white-space: pre-wrap;\" title=\"KL: 0.000\"> input</span><span style=\"background-color: rgba(255, 0, 0, 0.001); white-space: pre-wrap;\" title=\"KL: 0.000\"> is</span><span style=\"background-color: rgba(255, 0, 0, 0.002); white-space: pre-wrap;\" title=\"KL: 0.000\"> used</span><span style=\"background-color: rgba(255, 0, 0, 0.001); white-space: pre-wrap;\" title=\"KL: 0.000\"> for</span><span style=\"background-color: rgba(255, 0, 0, 0.002); white-space: pre-wrap;\" title=\"KL: 0.000\"> the</span><span style=\"background-color: rgba(255, 0, 0, 0.099); white-space: pre-wrap;\" title=\"KL: 0.010\"> re</span><span style=\"background-color: rgba(255, 0, 0, 0.004); white-space: pre-wrap;\" title=\"KL: 0.000\">pective</span><span style=\"background-color: rgba(255, 0, 0, 0.000); white-space: pre-wrap;\" title=\"KL: 0.000\"> section</span><span style=\"background-color: rgba(255, 0, 0, 0.001); white-space: pre-wrap;\" title=\"KL: 0.000\"> of</span><span style=\"background-color: rgba(255, 0, 0, 0.000); white-space: pre-wrap;\" title=\"KL: 0.000\"> the</span><span style=\"background-color: rgba(255, 0, 0, 0.189); white-space: pre-wrap;\" title=\"KL: 0.019\"> project</span><span style=\"background-color: rgba(255, 0, 0, 0.000); white-space: pre-wrap;\" title=\"KL: 0.000\"> report</span><span style=\"background-color: rgba(255, 0, 0, 0.000); white-space: pre-wrap;\" title=\"KL: 0.000\">.</span><span style=\"background-color: rgba(255, 0, 0, 0.006); white-space: pre-wrap;\" title=\"KL: 0.001\">Write</span><span style=\"background-color: rgba(255, 0, 0, 0.004); white-space: pre-wrap;\" title=\"KL: 0.000\"> full</span><span style=\"background-color: rgba(255, 0, 0, 0.000); white-space: pre-wrap;\" title=\"KL: 0.000\"> sentences</span><span style=\"background-color: rgba(255, 0, 0, 0.001); white-space: pre-wrap;\" title=\"KL: 0.000\">,</span><span style=\"background-color: rgba(255, 0, 0, 0.003); white-space: pre-wrap;\" title=\"KL: 0.000\"> no</span><span style=\"background-color: rgba(255, 0, 0, 0.000); white-space: pre-wrap;\" title=\"KL: 0.000\"> bullet</span>"
      ],
      "text/plain": [
       "<IPython.core.display.HTML object>"
      ]
     },
     "metadata": {},
     "output_type": "display_data"
    },
    {
     "name": "stdout",
     "output_type": "stream",
     "text": [
      "High KL: 0.0189 at token ' project'\\n\n"
     ]
    },
    {
     "data": {
      "text/html": [
       "<style type=\"text/css\">\n",
       "#T_7d58b th {\n",
       "  text-align: left;\n",
       "}\n",
       "#T_7d58b_row0_col0, #T_7d58b_row1_col0, #T_7d58b_row2_col0 {\n",
       "  background-color: forestgreen;\n",
       "  text-align: left;\n",
       "}\n",
       "#T_7d58b_row0_col1, #T_7d58b_row0_col2, #T_7d58b_row1_col1, #T_7d58b_row1_col2, #T_7d58b_row2_col1, #T_7d58b_row2_col2, #T_7d58b_row3_col1, #T_7d58b_row3_col2, #T_7d58b_row4_col1, #T_7d58b_row4_col2, #T_7d58b_row5_col1, #T_7d58b_row5_col2 {\n",
       "  text-align: left;\n",
       "}\n",
       "#T_7d58b_row3_col0, #T_7d58b_row4_col0, #T_7d58b_row5_col0 {\n",
       "  background-color: indianred;\n",
       "  text-align: left;\n",
       "}\n",
       "</style>\n",
       "<table id=\"T_7d58b\">\n",
       "  <thead>\n",
       "    <tr>\n",
       "      <th class=\"blank level0\" >&nbsp;</th>\n",
       "      <th id=\"T_7d58b_level0_col0\" class=\"col_heading level0 col0\" >Token</th>\n",
       "      <th id=\"T_7d58b_level0_col1\" class=\"col_heading level0 col1\" >p_HS</th>\n",
       "      <th id=\"T_7d58b_level0_col2\" class=\"col_heading level0 col2\" >p_B</th>\n",
       "    </tr>\n",
       "  </thead>\n",
       "  <tbody>\n",
       "    <tr>\n",
       "      <th id=\"T_7d58b_level0_row0\" class=\"row_heading level0 row0\" >0</th>\n",
       "      <td id=\"T_7d58b_row0_col0\" class=\"data row0 col0\" > the</td>\n",
       "      <td id=\"T_7d58b_row0_col1\" class=\"data row0 col1\" >0.244</td>\n",
       "      <td id=\"T_7d58b_row0_col2\" class=\"data row0 col2\" >0.301</td>\n",
       "    </tr>\n",
       "    <tr>\n",
       "      <th id=\"T_7d58b_level0_row1\" class=\"row_heading level0 row1\" >1</th>\n",
       "      <td id=\"T_7d58b_row1_col0\" class=\"data row1 col0\" >  </td>\n",
       "      <td id=\"T_7d58b_row1_col1\" class=\"data row1 col1\" >0.053</td>\n",
       "      <td id=\"T_7d58b_row1_col2\" class=\"data row1 col2\" >0.057</td>\n",
       "    </tr>\n",
       "    <tr>\n",
       "      <th id=\"T_7d58b_level0_row2\" class=\"row_heading level0 row2\" >2</th>\n",
       "      <td id=\"T_7d58b_row2_col0\" class=\"data row2 col0\" > input</td>\n",
       "      <td id=\"T_7d58b_row2_col1\" class=\"data row2 col1\" >0.299</td>\n",
       "      <td id=\"T_7d58b_row2_col2\" class=\"data row2 col2\" >0.303</td>\n",
       "    </tr>\n",
       "    <tr>\n",
       "      <th id=\"T_7d58b_level0_row3\" class=\"row_heading level0 row3\" >3</th>\n",
       "      <td id=\"T_7d58b_row3_col0\" class=\"data row3 col0\" > project</td>\n",
       "      <td id=\"T_7d58b_row3_col1\" class=\"data row3 col1\" >0.166</td>\n",
       "      <td id=\"T_7d58b_row3_col2\" class=\"data row3 col2\" >0.153</td>\n",
       "    </tr>\n",
       "    <tr>\n",
       "      <th id=\"T_7d58b_level0_row4\" class=\"row_heading level0 row4\" >4</th>\n",
       "      <td id=\"T_7d58b_row4_col0\" class=\"data row4 col0\" > content</td>\n",
       "      <td id=\"T_7d58b_row4_col1\" class=\"data row4 col1\" >0.011</td>\n",
       "      <td id=\"T_7d58b_row4_col2\" class=\"data row4 col2\" >0.008</td>\n",
       "    </tr>\n",
       "    <tr>\n",
       "      <th id=\"T_7d58b_level0_row5\" class=\"row_heading level0 row5\" >5</th>\n",
       "      <td id=\"T_7d58b_row5_col0\" class=\"data row5 col0\" > report</td>\n",
       "      <td id=\"T_7d58b_row5_col1\" class=\"data row5 col1\" >0.144</td>\n",
       "      <td id=\"T_7d58b_row5_col2\" class=\"data row5 col2\" >0.096</td>\n",
       "    </tr>\n",
       "  </tbody>\n",
       "</table>\n"
      ],
      "text/plain": [
       "<IPython.core.display.HTML object>"
      ]
     },
     "metadata": {},
     "output_type": "display_data"
    },
    {
     "name": "stdout",
     "output_type": "stream",
     "text": [
      "--------------------------------------------------------------------------------------------------------------------------------------------------------------------------------------------------------\n"
     ]
    },
    {
     "data": {
      "text/html": [
       "&lt;bos&gt;<span style=\"background-color: rgba(255, 0, 0, 0.000); white-space: pre-wrap;\" title=\"KL: -0.000\">&lt;start_of_turn&gt;</span><span style=\"background-color: rgba(255, 0, 0, 0.000); white-space: pre-wrap;\" title=\"KL: 0.000\">user</span><span style=\"background-color: rgba(255, 0, 0, 0.000); white-space: pre-wrap;\" title=\"KL: 0.000\">\n",
       "</span><span style=\"background-color: rgba(255, 0, 0, 0.002); white-space: pre-wrap;\" title=\"KL: 0.000\">You</span><span style=\"background-color: rgba(255, 0, 0, 0.000); white-space: pre-wrap;\" title=\"KL: 0.000\"> are</span><span style=\"background-color: rgba(255, 0, 0, 0.000); white-space: pre-wrap;\" title=\"KL: 0.000\"> an</span><span style=\"background-color: rgba(255, 0, 0, 0.000); white-space: pre-wrap;\" title=\"KL: 0.000\"> AI</span><span style=\"background-color: rgba(255, 0, 0, 0.000); white-space: pre-wrap;\" title=\"KL: 0.000\"> assistant</span><span style=\"background-color: rgba(255, 0, 0, 0.000); white-space: pre-wrap;\" title=\"KL: 0.000\"> that</span><span style=\"background-color: rgba(255, 0, 0, 0.000); white-space: pre-wrap;\" title=\"KL: 0.000\"> helps</span><span style=\"background-color: rgba(255, 0, 0, 0.000); white-space: pre-wrap;\" title=\"KL: 0.000\"> people</span><span style=\"background-color: rgba(255, 0, 0, 0.000); white-space: pre-wrap;\" title=\"KL: 0.000\"> find</span><span style=\"background-color: rgba(255, 0, 0, 0.000); white-space: pre-wrap;\" title=\"KL: 0.000\"> information</span><span style=\"background-color: rgba(255, 0, 0, 0.000); white-space: pre-wrap;\" title=\"KL: 0.000\">.</span><span style=\"background-color: rgba(255, 0, 0, 0.000); white-space: pre-wrap;\" title=\"KL: 0.000\"> </span><span style=\"background-color: rgba(255, 0, 0, 0.000); white-space: pre-wrap;\" title=\"KL: 0.000\">\t</span><span style=\"background-color: rgba(255, 0, 0, 0.000); white-space: pre-wrap;\" title=\"KL: 0.000\">You</span><span style=\"background-color: rgba(255, 0, 0, 0.000); white-space: pre-wrap;\" title=\"KL: 0.000\"> will</span><span style=\"background-color: rgba(255, 0, 0, 0.000); white-space: pre-wrap;\" title=\"KL: 0.000\"> read</span><span style=\"background-color: rgba(255, 0, 0, 0.000); white-space: pre-wrap;\" title=\"KL: 0.000\"> a</span><span style=\"background-color: rgba(255, 0, 0, 0.000); white-space: pre-wrap;\" title=\"KL: 0.000\"> paragraph</span><span style=\"background-color: rgba(255, 0, 0, 0.000); white-space: pre-wrap;\" title=\"KL: 0.000\">,</span><span style=\"background-color: rgba(255, 0, 0, 0.000); white-space: pre-wrap;\" title=\"KL: 0.000\"> and</span><span style=\"background-color: rgba(255, 0, 0, 0.000); white-space: pre-wrap;\" title=\"KL: 0.000\"> then</span><span style=\"background-color: rgba(255, 0, 0, 0.000); white-space: pre-wrap;\" title=\"KL: 0.000\"> issue</span><span style=\"background-color: rgba(255, 0, 0, 0.000); white-space: pre-wrap;\" title=\"KL: 0.000\"> queries</span><span style=\"background-color: rgba(255, 0, 0, 0.000); white-space: pre-wrap;\" title=\"KL: 0.000\"> to</span><span style=\"background-color: rgba(255, 0, 0, 0.001); white-space: pre-wrap;\" title=\"KL: 0.000\"> a</span><span style=\"background-color: rgba(255, 0, 0, 0.001); white-space: pre-wrap;\" title=\"KL: 0.000\"> search</span><span style=\"background-color: rgba(255, 0, 0, 0.000); white-space: pre-wrap;\" title=\"KL: 0.000\"> engine</span><span style=\"background-color: rgba(255, 0, 0, 0.000); white-space: pre-wrap;\" title=\"KL: 0.000\"> in</span><span style=\"background-color: rgba(255, 0, 0, 0.000); white-space: pre-wrap;\" title=\"KL: 0.000\"> order</span><span style=\"background-color: rgba(255, 0, 0, 0.000); white-space: pre-wrap;\" title=\"KL: 0.000\"> to</span><span style=\"background-color: rgba(255, 0, 0, 0.001); white-space: pre-wrap;\" title=\"KL: 0.000\"> fact</span><span style=\"background-color: rgba(255, 0, 0, 0.000); white-space: pre-wrap;\" title=\"KL: 0.000\">-</span><span style=\"background-color: rgba(255, 0, 0, 0.000); white-space: pre-wrap;\" title=\"KL: 0.000\">check</span><span style=\"background-color: rgba(255, 0, 0, 0.000); white-space: pre-wrap;\" title=\"KL: 0.000\"> it</span><span style=\"background-color: rgba(255, 0, 0, 0.000); white-space: pre-wrap;\" title=\"KL: 0.000\">.</span><span style=\"background-color: rgba(255, 0, 0, 0.000); white-space: pre-wrap;\" title=\"KL: 0.000\"> Also</span><span style=\"background-color: rgba(255, 0, 0, 0.000); white-space: pre-wrap;\" title=\"KL: 0.000\"> explain</span><span style=\"background-color: rgba(255, 0, 0, 0.000); white-space: pre-wrap;\" title=\"KL: 0.000\"> the</span><span style=\"background-color: rgba(255, 0, 0, 0.171); white-space: pre-wrap;\" title=\"KL: 0.017\"> queries</span><span style=\"background-color: rgba(255, 0, 0, 0.001); white-space: pre-wrap;\" title=\"KL: 0.000\">.</span><span style=\"background-color: rgba(255, 0, 0, 0.001); white-space: pre-wrap;\" title=\"KL: 0.000\">\n",
       "</span><span style=\"background-color: rgba(255, 0, 0, 0.009); white-space: pre-wrap;\" title=\"KL: 0.001\">---</span><span style=\"background-color: rgba(255, 0, 0, 0.005); white-space: pre-wrap;\" title=\"KL: 0.001\">\n",
       "</span><span style=\"background-color: rgba(255, 0, 0, 0.001); white-space: pre-wrap;\" title=\"KL: 0.000\">PAR</span><span style=\"background-color: rgba(255, 0, 0, 0.000); white-space: pre-wrap;\" title=\"KL: 0.000\">AGR</span><span style=\"background-color: rgba(255, 0, 0, 0.000); white-space: pre-wrap;\" title=\"KL: 0.000\">APH</span><span style=\"background-color: rgba(255, 0, 0, 0.001); white-space: pre-wrap;\" title=\"KL: 0.000\">\n",
       "</span>"
      ],
      "text/plain": [
       "<IPython.core.display.HTML object>"
      ]
     },
     "metadata": {},
     "output_type": "display_data"
    },
    {
     "name": "stdout",
     "output_type": "stream",
     "text": [
      "High KL: 0.0171 at token ' queries'\\n\n"
     ]
    },
    {
     "data": {
      "text/html": [
       "<style type=\"text/css\">\n",
       "#T_aaf82 th {\n",
       "  text-align: left;\n",
       "}\n",
       "#T_aaf82_row0_col0, #T_aaf82_row1_col0, #T_aaf82_row2_col0 {\n",
       "  background-color: forestgreen;\n",
       "  text-align: left;\n",
       "}\n",
       "#T_aaf82_row0_col1, #T_aaf82_row0_col2, #T_aaf82_row1_col1, #T_aaf82_row1_col2, #T_aaf82_row2_col1, #T_aaf82_row2_col2, #T_aaf82_row3_col1, #T_aaf82_row3_col2, #T_aaf82_row4_col1, #T_aaf82_row4_col2, #T_aaf82_row5_col1, #T_aaf82_row5_col2 {\n",
       "  text-align: left;\n",
       "}\n",
       "#T_aaf82_row3_col0, #T_aaf82_row4_col0, #T_aaf82_row5_col0 {\n",
       "  background-color: indianred;\n",
       "  text-align: left;\n",
       "}\n",
       "</style>\n",
       "<table id=\"T_aaf82\">\n",
       "  <thead>\n",
       "    <tr>\n",
       "      <th class=\"blank level0\" >&nbsp;</th>\n",
       "      <th id=\"T_aaf82_level0_col0\" class=\"col_heading level0 col0\" >Token</th>\n",
       "      <th id=\"T_aaf82_level0_col1\" class=\"col_heading level0 col1\" >p_HS</th>\n",
       "      <th id=\"T_aaf82_level0_col2\" class=\"col_heading level0 col2\" >p_B</th>\n",
       "    </tr>\n",
       "  </thead>\n",
       "  <tbody>\n",
       "    <tr>\n",
       "      <th id=\"T_aaf82_level0_row0\" class=\"row_heading level0 row0\" >0</th>\n",
       "      <td id=\"T_aaf82_row0_col0\" class=\"data row0 col0\" > why</td>\n",
       "      <td id=\"T_aaf82_row0_col1\" class=\"data row0 col1\" >0.013</td>\n",
       "      <td id=\"T_aaf82_row0_col2\" class=\"data row0 col2\" >0.020</td>\n",
       "    </tr>\n",
       "    <tr>\n",
       "      <th id=\"T_aaf82_level0_row1\" class=\"row_heading level0 row1\" >1</th>\n",
       "      <td id=\"T_aaf82_row1_col0\" class=\"data row1 col0\" > statement</td>\n",
       "      <td id=\"T_aaf82_row1_col1\" class=\"data row1 col1\" >0.019</td>\n",
       "      <td id=\"T_aaf82_row1_col2\" class=\"data row1 col2\" >0.025</td>\n",
       "    </tr>\n",
       "    <tr>\n",
       "      <th id=\"T_aaf82_level0_row2\" class=\"row_heading level0 row2\" >2</th>\n",
       "      <td id=\"T_aaf82_row2_col0\" class=\"data row2 col0\" > claims</td>\n",
       "      <td id=\"T_aaf82_row2_col1\" class=\"data row2 col1\" >0.057</td>\n",
       "      <td id=\"T_aaf82_row2_col2\" class=\"data row2 col2\" >0.073</td>\n",
       "    </tr>\n",
       "    <tr>\n",
       "      <th id=\"T_aaf82_level0_row3\" class=\"row_heading level0 row3\" >3</th>\n",
       "      <td id=\"T_aaf82_row3_col0\" class=\"data row3 col0\" > potential</td>\n",
       "      <td id=\"T_aaf82_row3_col1\" class=\"data row3 col1\" >0.058</td>\n",
       "      <td id=\"T_aaf82_row3_col2\" class=\"data row3 col2\" >0.052</td>\n",
       "    </tr>\n",
       "    <tr>\n",
       "      <th id=\"T_aaf82_level0_row4\" class=\"row_heading level0 row4\" >4</th>\n",
       "      <td id=\"T_aaf82_row4_col0\" class=\"data row4 col0\" > source</td>\n",
       "      <td id=\"T_aaf82_row4_col1\" class=\"data row4 col1\" >0.024</td>\n",
       "      <td id=\"T_aaf82_row4_col2\" class=\"data row4 col2\" >0.018</td>\n",
       "    </tr>\n",
       "    <tr>\n",
       "      <th id=\"T_aaf82_level0_row5\" class=\"row_heading level0 row5\" >5</th>\n",
       "      <td id=\"T_aaf82_row5_col0\" class=\"data row5 col0\" > reliability</td>\n",
       "      <td id=\"T_aaf82_row5_col1\" class=\"data row5 col1\" >0.017</td>\n",
       "      <td id=\"T_aaf82_row5_col2\" class=\"data row5 col2\" >0.011</td>\n",
       "    </tr>\n",
       "  </tbody>\n",
       "</table>\n"
      ],
      "text/plain": [
       "<IPython.core.display.HTML object>"
      ]
     },
     "metadata": {},
     "output_type": "display_data"
    },
    {
     "name": "stdout",
     "output_type": "stream",
     "text": [
      "--------------------------------------------------------------------------------------------------------------------------------------------------------------------------------------------------------\n"
     ]
    },
    {
     "data": {
      "text/html": [
       "&lt;bos&gt;<span style=\"background-color: rgba(255, 0, 0, 0.000); white-space: pre-wrap;\" title=\"KL: 0.000\">&lt;start_of_turn&gt;</span><span style=\"background-color: rgba(255, 0, 0, 0.000); white-space: pre-wrap;\" title=\"KL: 0.000\">user</span><span style=\"background-color: rgba(255, 0, 0, 0.000); white-space: pre-wrap;\" title=\"KL: 0.000\">\n",
       "</span><span style=\"background-color: rgba(255, 0, 0, 0.002); white-space: pre-wrap;\" title=\"KL: 0.000\">###</span><span style=\"background-color: rgba(255, 0, 0, 0.001); white-space: pre-wrap;\" title=\"KL: 0.000\"> SYSTEM</span><span style=\"background-color: rgba(255, 0, 0, 0.001); white-space: pre-wrap;\" title=\"KL: 0.000\"> ###</span><span style=\"background-color: rgba(255, 0, 0, 0.001); white-space: pre-wrap;\" title=\"KL: 0.000\">\n",
       "</span><span style=\"background-color: rgba(255, 0, 0, 0.001); white-space: pre-wrap;\" title=\"KL: 0.000\">Below</span><span style=\"background-color: rgba(255, 0, 0, 0.000); white-space: pre-wrap;\" title=\"KL: 0.000\"> is</span><span style=\"background-color: rgba(255, 0, 0, 0.000); white-space: pre-wrap;\" title=\"KL: 0.000\"> an</span><span style=\"background-color: rgba(255, 0, 0, 0.001); white-space: pre-wrap;\" title=\"KL: 0.000\"> instruction</span><span style=\"background-color: rgba(255, 0, 0, 0.001); white-space: pre-wrap;\" title=\"KL: 0.000\"> that</span><span style=\"background-color: rgba(255, 0, 0, 0.000); white-space: pre-wrap;\" title=\"KL: 0.000\"> describes</span><span style=\"background-color: rgba(255, 0, 0, 0.000); white-space: pre-wrap;\" title=\"KL: 0.000\"> a</span><span style=\"background-color: rgba(255, 0, 0, 0.000); white-space: pre-wrap;\" title=\"KL: 0.000\"> task</span><span style=\"background-color: rgba(255, 0, 0, 0.000); white-space: pre-wrap;\" title=\"KL: 0.000\">.</span><span style=\"background-color: rgba(255, 0, 0, 0.000); white-space: pre-wrap;\" title=\"KL: 0.000\"> Write</span><span style=\"background-color: rgba(255, 0, 0, 0.000); white-space: pre-wrap;\" title=\"KL: 0.000\"> a</span><span style=\"background-color: rgba(255, 0, 0, 0.000); white-space: pre-wrap;\" title=\"KL: 0.000\"> response</span><span style=\"background-color: rgba(255, 0, 0, 0.000); white-space: pre-wrap;\" title=\"KL: 0.000\"> that</span><span style=\"background-color: rgba(255, 0, 0, 0.000); white-space: pre-wrap;\" title=\"KL: 0.000\"> appropriately</span><span style=\"background-color: rgba(255, 0, 0, 0.001); white-space: pre-wrap;\" title=\"KL: 0.000\"> completes</span><span style=\"background-color: rgba(255, 0, 0, 0.000); white-space: pre-wrap;\" title=\"KL: 0.000\"> the</span><span style=\"background-color: rgba(255, 0, 0, 0.002); white-space: pre-wrap;\" title=\"KL: 0.000\"> request</span><span style=\"background-color: rgba(255, 0, 0, 0.000); white-space: pre-wrap;\" title=\"KL: 0.000\">.</span><span style=\"background-color: rgba(255, 0, 0, 0.003); white-space: pre-wrap;\" title=\"KL: 0.000\">\n",
       "\n",
       "</span><span style=\"background-color: rgba(255, 0, 0, 0.000); white-space: pre-wrap;\" title=\"KL: 0.000\">###</span><span style=\"background-color: rgba(255, 0, 0, 0.000); white-space: pre-wrap;\" title=\"KL: 0.000\"> USER</span><span style=\"background-color: rgba(255, 0, 0, 0.001); white-space: pre-wrap;\" title=\"KL: 0.000\"> ###</span><span style=\"background-color: rgba(255, 0, 0, 0.000); white-space: pre-wrap;\" title=\"KL: 0.000\">\n",
       "</span><span style=\"background-color: rgba(255, 0, 0, 0.001); white-space: pre-wrap;\" title=\"KL: 0.000\">Goal</span><span style=\"background-color: rgba(255, 0, 0, 0.000); white-space: pre-wrap;\" title=\"KL: 0.000\">:</span><span style=\"background-color: rgba(255, 0, 0, 0.001); white-space: pre-wrap;\" title=\"KL: 0.000\"> How</span><span style=\"background-color: rgba(255, 0, 0, 0.000); white-space: pre-wrap;\" title=\"KL: 0.000\"> do</span><span style=\"background-color: rgba(255, 0, 0, 0.000); white-space: pre-wrap;\" title=\"KL: 0.000\"> I</span><span style=\"background-color: rgba(255, 0, 0, 0.000); white-space: pre-wrap;\" title=\"KL: 0.000\"> ready</span><span style=\"background-color: rgba(255, 0, 0, 0.001); white-space: pre-wrap;\" title=\"KL: 0.000\"> a</span><span style=\"background-color: rgba(255, 0, 0, 0.001); white-space: pre-wrap;\" title=\"KL: 0.000\"> guinea</span><span style=\"background-color: rgba(255, 0, 0, 0.000); white-space: pre-wrap;\" title=\"KL: 0.000\"> pig</span><span style=\"background-color: rgba(255, 0, 0, 0.000); white-space: pre-wrap;\" title=\"KL: 0.000\"> cage</span><span style=\"background-color: rgba(255, 0, 0, 0.000); white-space: pre-wrap;\" title=\"KL: 0.000\"> for</span><span style=\"background-color: rgba(255, 0, 0, 0.001); white-space: pre-wrap;\" title=\"KL: 0.000\"> it</span><span style=\"background-color: rgba(255, 0, 0, 0.000); white-space: pre-wrap;\" title=\"KL: 0.000\">'</span><span style=\"background-color: rgba(255, 0, 0, 0.000); white-space: pre-wrap;\" title=\"KL: -0.000\">s</span><span style=\"background-color: rgba(255, 0, 0, 0.001); white-space: pre-wrap;\" title=\"KL: 0.000\"> new</span><span style=\"background-color: rgba(255, 0, 0, 0.001); white-space: pre-wrap;\" title=\"KL: 0.000\"> occupants</span><span style=\"background-color: rgba(255, 0, 0, 0.000); white-space: pre-wrap;\" title=\"KL: 0.000\">?</span><span style=\"background-color: rgba(255, 0, 0, 0.000); white-space: pre-wrap;\" title=\"KL: 0.000\">\n",
       "</span><span style=\"background-color: rgba(255, 0, 0, 0.002); white-space: pre-wrap;\" title=\"KL: 0.000\">Solution</span><span style=\"background-color: rgba(255, 0, 0, 0.000); white-space: pre-wrap;\" title=\"KL: 0.000\"> </span><span style=\"background-color: rgba(255, 0, 0, 0.004); white-space: pre-wrap;\" title=\"KL: 0.000\">0</span><span style=\"background-color: rgba(255, 0, 0, 0.000); white-space: pre-wrap;\" title=\"KL: 0.000\">:</span><span style=\"background-color: rgba(255, 0, 0, 0.002); white-space: pre-wrap;\" title=\"KL: 0.000\"> Provide</span><span style=\"background-color: rgba(255, 0, 0, 0.000); white-space: pre-wrap;\" title=\"KL: 0.000\"> the</span><span style=\"background-color: rgba(255, 0, 0, 0.009); white-space: pre-wrap;\" title=\"KL: 0.001\"> guinea</span><span style=\"background-color: rgba(255, 0, 0, 0.000); white-space: pre-wrap;\" title=\"KL: 0.000\"> pig</span><span style=\"background-color: rgba(255, 0, 0, 0.004); white-space: pre-wrap;\" title=\"KL: 0.000\"> with</span><span style=\"background-color: rgba(255, 0, 0, 0.000); white-space: pre-wrap;\" title=\"KL: 0.000\"> a</span><span style=\"background-color: rgba(255, 0, 0, 0.002); white-space: pre-wrap;\" title=\"KL: 0.000\"> cage</span><span style=\"background-color: rgba(255, 0, 0, 0.002); white-space: pre-wrap;\" title=\"KL: 0.000\"> full</span><span style=\"background-color: rgba(255, 0, 0, 0.000); white-space: pre-wrap;\" title=\"KL: 0.000\"> of</span><span style=\"background-color: rgba(255, 0, 0, 0.004); white-space: pre-wrap;\" title=\"KL: 0.000\"> a</span><span style=\"background-color: rgba(255, 0, 0, 0.002); white-space: pre-wrap;\" title=\"KL: 0.000\"> few</span><span style=\"background-color: rgba(255, 0, 0, 0.004); white-space: pre-wrap;\" title=\"KL: 0.000\"> inches</span><span style=\"background-color: rgba(255, 0, 0, 0.000); white-space: pre-wrap;\" title=\"KL: 0.000\"> of</span><span style=\"background-color: rgba(255, 0, 0, 0.000); white-space: pre-wrap;\" title=\"KL: 0.000\"> bedding</span><span style=\"background-color: rgba(255, 0, 0, 0.000); white-space: pre-wrap;\" title=\"KL: 0.000\"> made</span><span style=\"background-color: rgba(255, 0, 0, 0.000); white-space: pre-wrap;\" title=\"KL: 0.000\"> of</span><span style=\"background-color: rgba(255, 0, 0, 0.000); white-space: pre-wrap;\" title=\"KL: 0.000\"> ripped</span><span style=\"background-color: rgba(255, 0, 0, 0.001); white-space: pre-wrap;\" title=\"KL: 0.000\"> paper</span><span style=\"background-color: rgba(255, 0, 0, 0.001); white-space: pre-wrap;\" title=\"KL: 0.000\"> strips</span><span style=\"background-color: rgba(255, 0, 0, 0.000); white-space: pre-wrap;\" title=\"KL: 0.000\">,</span><span style=\"background-color: rgba(255, 0, 0, 0.001); white-space: pre-wrap;\" title=\"KL: 0.000\"> you</span><span style=\"background-color: rgba(255, 0, 0, 0.001); white-space: pre-wrap;\" title=\"KL: 0.000\"> will</span><span style=\"background-color: rgba(255, 0, 0, 0.000); white-space: pre-wrap;\" title=\"KL: 0.000\"> also</span><span style=\"background-color: rgba(255, 0, 0, 0.000); white-space: pre-wrap;\" title=\"KL: 0.000\"> need</span><span style=\"background-color: rgba(255, 0, 0, 0.000); white-space: pre-wrap;\" title=\"KL: 0.000\"> to</span><span style=\"background-color: rgba(255, 0, 0, 0.003); white-space: pre-wrap;\" title=\"KL: 0.000\"> supply</span><span style=\"background-color: rgba(255, 0, 0, 0.000); white-space: pre-wrap;\" title=\"KL: 0.000\"> it</span><span style=\"background-color: rgba(255, 0, 0, 0.000); white-space: pre-wrap;\" title=\"KL: 0.000\"> with</span><span style=\"background-color: rgba(255, 0, 0, 0.000); white-space: pre-wrap;\" title=\"KL: 0.000\"> a</span><span style=\"background-color: rgba(255, 0, 0, 0.001); white-space: pre-wrap;\" title=\"KL: 0.000\"> water</span><span style=\"background-color: rgba(255, 0, 0, 0.000); white-space: pre-wrap;\" title=\"KL: 0.000\"> bottle</span><span style=\"background-color: rgba(255, 0, 0, 0.001); white-space: pre-wrap;\" title=\"KL: 0.000\"> and</span><span style=\"background-color: rgba(255, 0, 0, 0.000); white-space: pre-wrap;\" title=\"KL: 0.000\"> a</span><span style=\"background-color: rgba(255, 0, 0, 0.001); white-space: pre-wrap;\" title=\"KL: 0.000\"> food</span><span style=\"background-color: rgba(255, 0, 0, 0.000); white-space: pre-wrap;\" title=\"KL: 0.000\"> dish</span><span style=\"background-color: rgba(255, 0, 0, 0.000); white-space: pre-wrap;\" title=\"KL: 0.000\">.</span><span style=\"background-color: rgba(255, 0, 0, 0.001); white-space: pre-wrap;\" title=\"KL: 0.000\"> Solution</span><span style=\"background-color: rgba(255, 0, 0, 0.000); white-space: pre-wrap;\" title=\"KL: 0.000\"> </span><span style=\"background-color: rgba(255, 0, 0, 0.000); white-space: pre-wrap;\" title=\"KL: 0.000\">1</span><span style=\"background-color: rgba(255, 0, 0, 0.000); white-space: pre-wrap;\" title=\"KL: 0.000\">:</span><span style=\"background-color: rgba(255, 0, 0, 0.003); white-space: pre-wrap;\" title=\"KL: 0.000\"> Provide</span><span style=\"background-color: rgba(255, 0, 0, 0.005); white-space: pre-wrap;\" title=\"KL: 0.000\"> the</span><span style=\"background-color: rgba(255, 0, 0, 0.139); white-space: pre-wrap;\" title=\"KL: 0.014\"> guinea</span><span style=\"background-color: rgba(255, 0, 0, 0.002); white-space: pre-wrap;\" title=\"KL: 0.000\"> pig</span><span style=\"background-color: rgba(255, 0, 0, 0.000); white-space: pre-wrap;\" title=\"KL: 0.000\"> with</span><span style=\"background-color: rgba(255, 0, 0, 0.000); white-space: pre-wrap;\" title=\"KL: 0.000\"> a</span><span style=\"background-color: rgba(255, 0, 0, 0.003); white-space: pre-wrap;\" title=\"KL: 0.000\"> cage</span><span style=\"background-color: rgba(255, 0, 0, 0.003); white-space: pre-wrap;\" title=\"KL: 0.000\"> full</span><span style=\"background-color: rgba(255, 0, 0, 0.000); white-space: pre-wrap;\" title=\"KL: 0.000\"> of</span><span style=\"background-color: rgba(255, 0, 0, 0.000); white-space: pre-wrap;\" title=\"KL: 0.000\"> a</span><span style=\"background-color: rgba(255, 0, 0, 0.000); white-space: pre-wrap;\" title=\"KL: 0.000\"> few</span>"
      ],
      "text/plain": [
       "<IPython.core.display.HTML object>"
      ]
     },
     "metadata": {},
     "output_type": "display_data"
    },
    {
     "name": "stdout",
     "output_type": "stream",
     "text": [
      "High KL: 0.0139 at token ' guinea'\\n\n"
     ]
    },
    {
     "data": {
      "text/html": [
       "<style type=\"text/css\">\n",
       "#T_26894 th {\n",
       "  text-align: left;\n",
       "}\n",
       "#T_26894_row0_col0, #T_26894_row1_col0, #T_26894_row2_col0 {\n",
       "  background-color: forestgreen;\n",
       "  text-align: left;\n",
       "}\n",
       "#T_26894_row0_col1, #T_26894_row0_col2, #T_26894_row1_col1, #T_26894_row1_col2, #T_26894_row2_col1, #T_26894_row2_col2, #T_26894_row3_col1, #T_26894_row3_col2, #T_26894_row4_col1, #T_26894_row4_col2 {\n",
       "  text-align: left;\n",
       "}\n",
       "#T_26894_row3_col0, #T_26894_row4_col0 {\n",
       "  background-color: indianred;\n",
       "  text-align: left;\n",
       "}\n",
       "</style>\n",
       "<table id=\"T_26894\">\n",
       "  <thead>\n",
       "    <tr>\n",
       "      <th class=\"blank level0\" >&nbsp;</th>\n",
       "      <th id=\"T_26894_level0_col0\" class=\"col_heading level0 col0\" >Token</th>\n",
       "      <th id=\"T_26894_level0_col1\" class=\"col_heading level0 col1\" >p_HS</th>\n",
       "      <th id=\"T_26894_level0_col2\" class=\"col_heading level0 col2\" >p_B</th>\n",
       "    </tr>\n",
       "  </thead>\n",
       "  <tbody>\n",
       "    <tr>\n",
       "      <th id=\"T_26894_level0_row0\" class=\"row_heading level0 row0\" >0</th>\n",
       "      <td id=\"T_26894_row0_col0\" class=\"data row0 col0\" > steps</td>\n",
       "      <td id=\"T_26894_row0_col1\" class=\"data row0 col1\" >0.005</td>\n",
       "      <td id=\"T_26894_row0_col2\" class=\"data row0 col2\" >0.008</td>\n",
       "    </tr>\n",
       "    <tr>\n",
       "      <th id=\"T_26894_level0_row1\" class=\"row_heading level0 row1\" >1</th>\n",
       "      <td id=\"T_26894_row1_col0\" class=\"data row1 col0\" > new</td>\n",
       "      <td id=\"T_26894_row1_col1\" class=\"data row1 col1\" >0.119</td>\n",
       "      <td id=\"T_26894_row1_col2\" class=\"data row1 col2\" >0.154</td>\n",
       "    </tr>\n",
       "    <tr>\n",
       "      <th id=\"T_26894_level0_row2\" class=\"row_heading level0 row2\" >2</th>\n",
       "      <td id=\"T_26894_row2_col0\" class=\"data row2 col0\" > cage</td>\n",
       "      <td id=\"T_26894_row2_col1\" class=\"data row2 col1\" >0.303</td>\n",
       "      <td id=\"T_26894_row2_col2\" class=\"data row2 col2\" >0.311</td>\n",
       "    </tr>\n",
       "    <tr>\n",
       "      <th id=\"T_26894_level0_row3\" class=\"row_heading level0 row3\" >3</th>\n",
       "      <td id=\"T_26894_row3_col0\" class=\"data row3 col0\" > guinea</td>\n",
       "      <td id=\"T_26894_row3_col1\" class=\"data row3 col1\" >0.387</td>\n",
       "      <td id=\"T_26894_row3_col2\" class=\"data row3 col2\" >0.320</td>\n",
       "    </tr>\n",
       "    <tr>\n",
       "      <th id=\"T_26894_level0_row4\" class=\"row_heading level0 row4\" >4</th>\n",
       "      <td id=\"T_26894_row4_col0\" class=\"data row4 col0\" > user</td>\n",
       "      <td id=\"T_26894_row4_col1\" class=\"data row4 col1\" >0.008</td>\n",
       "      <td id=\"T_26894_row4_col2\" class=\"data row4 col2\" >0.005</td>\n",
       "    </tr>\n",
       "  </tbody>\n",
       "</table>\n"
      ],
      "text/plain": [
       "<IPython.core.display.HTML object>"
      ]
     },
     "metadata": {},
     "output_type": "display_data"
    },
    {
     "name": "stdout",
     "output_type": "stream",
     "text": [
      "--------------------------------------------------------------------------------------------------------------------------------------------------------------------------------------------------------\n"
     ]
    },
    {
     "data": {
      "text/html": [
       "&lt;bos&gt;<span style=\"background-color: rgba(255, 0, 0, 0.000); white-space: pre-wrap;\" title=\"KL: 0.000\">&lt;start_of_turn&gt;</span><span style=\"background-color: rgba(255, 0, 0, 0.000); white-space: pre-wrap;\" title=\"KL: 0.000\">user</span><span style=\"background-color: rgba(255, 0, 0, 0.000); white-space: pre-wrap;\" title=\"KL: 0.000\">\n",
       "</span><span style=\"background-color: rgba(255, 0, 0, 0.002); white-space: pre-wrap;\" title=\"KL: 0.000\">Write</span><span style=\"background-color: rgba(255, 0, 0, 0.000); white-space: pre-wrap;\" title=\"KL: 0.000\"> the</span><span style=\"background-color: rgba(255, 0, 0, 0.000); white-space: pre-wrap;\" title=\"KL: 0.000\"> script</span><span style=\"background-color: rgba(255, 0, 0, 0.000); white-space: pre-wrap;\" title=\"KL: 0.000\"> for</span><span style=\"background-color: rgba(255, 0, 0, 0.000); white-space: pre-wrap;\" title=\"KL: 0.000\"> a</span><span style=\"background-color: rgba(255, 0, 0, 0.000); white-space: pre-wrap;\" title=\"KL: 0.000\"> science</span><span style=\"background-color: rgba(255, 0, 0, 0.000); white-space: pre-wrap;\" title=\"KL: 0.000\"> fiction</span><span style=\"background-color: rgba(255, 0, 0, 0.000); white-space: pre-wrap;\" title=\"KL: 0.000\"> TV</span><span style=\"background-color: rgba(255, 0, 0, 0.000); white-space: pre-wrap;\" title=\"KL: 0.000\"> show</span><span style=\"background-color: rgba(255, 0, 0, 0.000); white-space: pre-wrap;\" title=\"KL: 0.000\"> pilot</span><span style=\"background-color: rgba(255, 0, 0, 0.000); white-space: pre-wrap;\" title=\"KL: 0.000\">.</span><span style=\"background-color: rgba(255, 0, 0, 0.000); white-space: pre-wrap;\" title=\"KL: 0.000\"> The</span><span style=\"background-color: rgba(255, 0, 0, 0.062); white-space: pre-wrap;\" title=\"KL: 0.006\"> show</span><span style=\"background-color: rgba(255, 0, 0, 0.000); white-space: pre-wrap;\" title=\"KL: 0.000\"> should</span><span style=\"background-color: rgba(255, 0, 0, 0.003); white-space: pre-wrap;\" title=\"KL: 0.000\"> be</span><span style=\"background-color: rgba(255, 0, 0, 0.129); white-space: pre-wrap;\" title=\"KL: 0.013\"> gritty</span><span style=\"background-color: rgba(255, 0, 0, 0.001); white-space: pre-wrap;\" title=\"KL: 0.000\"> and</span><span style=\"background-color: rgba(255, 0, 0, 0.001); white-space: pre-wrap;\" title=\"KL: 0.000\"> realistic</span><span style=\"background-color: rgba(255, 0, 0, 0.000); white-space: pre-wrap;\" title=\"KL: 0.000\">,</span><span style=\"background-color: rgba(255, 0, 0, 0.002); white-space: pre-wrap;\" title=\"KL: 0.000\"> with</span><span style=\"background-color: rgba(255, 0, 0, 0.000); white-space: pre-wrap;\" title=\"KL: 0.000\"> engaging</span><span style=\"background-color: rgba(255, 0, 0, 0.000); white-space: pre-wrap;\" title=\"KL: 0.000\"> characters</span><span style=\"background-color: rgba(255, 0, 0, 0.000); white-space: pre-wrap;\" title=\"KL: 0.000\"> and</span><span style=\"background-color: rgba(255, 0, 0, 0.001); white-space: pre-wrap;\" title=\"KL: 0.000\"> sparkling</span>"
      ],
      "text/plain": [
       "<IPython.core.display.HTML object>"
      ]
     },
     "metadata": {},
     "output_type": "display_data"
    },
    {
     "name": "stdout",
     "output_type": "stream",
     "text": [
      "High KL: 0.0129 at token ' gritty'\\n\n"
     ]
    },
    {
     "data": {
      "text/html": [
       "<style type=\"text/css\">\n",
       "#T_c59d6 th {\n",
       "  text-align: left;\n",
       "}\n",
       "#T_c59d6_row0_col0, #T_c59d6_row1_col0, #T_c59d6_row2_col0 {\n",
       "  background-color: forestgreen;\n",
       "  text-align: left;\n",
       "}\n",
       "#T_c59d6_row0_col1, #T_c59d6_row0_col2, #T_c59d6_row1_col1, #T_c59d6_row1_col2, #T_c59d6_row2_col1, #T_c59d6_row2_col2, #T_c59d6_row3_col1, #T_c59d6_row3_col2, #T_c59d6_row4_col1, #T_c59d6_row4_col2, #T_c59d6_row5_col1, #T_c59d6_row5_col2 {\n",
       "  text-align: left;\n",
       "}\n",
       "#T_c59d6_row3_col0, #T_c59d6_row4_col0, #T_c59d6_row5_col0 {\n",
       "  background-color: indianred;\n",
       "  text-align: left;\n",
       "}\n",
       "</style>\n",
       "<table id=\"T_c59d6\">\n",
       "  <thead>\n",
       "    <tr>\n",
       "      <th class=\"blank level0\" >&nbsp;</th>\n",
       "      <th id=\"T_c59d6_level0_col0\" class=\"col_heading level0 col0\" >Token</th>\n",
       "      <th id=\"T_c59d6_level0_col1\" class=\"col_heading level0 col1\" >p_HS</th>\n",
       "      <th id=\"T_c59d6_level0_col2\" class=\"col_heading level0 col2\" >p_B</th>\n",
       "    </tr>\n",
       "  </thead>\n",
       "  <tbody>\n",
       "    <tr>\n",
       "      <th id=\"T_c59d6_level0_row0\" class=\"row_heading level0 row0\" >0</th>\n",
       "      <td id=\"T_c59d6_row0_col0\" class=\"data row0 col0\" > be</td>\n",
       "      <td id=\"T_c59d6_row0_col1\" class=\"data row0 col1\" >0.042</td>\n",
       "      <td id=\"T_c59d6_row0_col2\" class=\"data row0 col2\" >0.057</td>\n",
       "    </tr>\n",
       "    <tr>\n",
       "      <th id=\"T_c59d6_level0_row1\" class=\"row_heading level0 row1\" >1</th>\n",
       "      <td id=\"T_c59d6_row1_col0\" class=\"data row1 col0\" > focus</td>\n",
       "      <td id=\"T_c59d6_row1_col1\" class=\"data row1 col1\" >0.034</td>\n",
       "      <td id=\"T_c59d6_row1_col2\" class=\"data row1 col2\" >0.046</td>\n",
       "    </tr>\n",
       "    <tr>\n",
       "      <th id=\"T_c59d6_level0_row2\" class=\"row_heading level0 row2\" >2</th>\n",
       "      <td id=\"T_c59d6_row2_col0\" class=\"data row2 col0\" > explore</td>\n",
       "      <td id=\"T_c59d6_row2_col1\" class=\"data row2 col1\" >0.035</td>\n",
       "      <td id=\"T_c59d6_row2_col2\" class=\"data row2 col2\" >0.043</td>\n",
       "    </tr>\n",
       "    <tr>\n",
       "      <th id=\"T_c59d6_level0_row3\" class=\"row_heading level0 row3\" >3</th>\n",
       "      <td id=\"T_c59d6_row3_col0\" class=\"data row3 col0\" > called</td>\n",
       "      <td id=\"T_c59d6_row3_col1\" class=\"data row3 col1\" >0.112</td>\n",
       "      <td id=\"T_c59d6_row3_col2\" class=\"data row3 col2\" >0.102</td>\n",
       "    </tr>\n",
       "    <tr>\n",
       "      <th id=\"T_c59d6_level0_row4\" class=\"row_heading level0 row4\" >4</th>\n",
       "      <td id=\"T_c59d6_row4_col0\" class=\"data row4 col0\" > about</td>\n",
       "      <td id=\"T_c59d6_row4_col1\" class=\"data row4 col1\" >0.232</td>\n",
       "      <td id=\"T_c59d6_row4_col2\" class=\"data row4 col2\" >0.204</td>\n",
       "    </tr>\n",
       "    <tr>\n",
       "      <th id=\"T_c59d6_level0_row5\" class=\"row_heading level0 row5\" >5</th>\n",
       "      <td id=\"T_c59d6_row5_col0\" class=\"data row5 col0\" > set</td>\n",
       "      <td id=\"T_c59d6_row5_col1\" class=\"data row5 col1\" >0.095</td>\n",
       "      <td id=\"T_c59d6_row5_col2\" class=\"data row5 col2\" >0.080</td>\n",
       "    </tr>\n",
       "  </tbody>\n",
       "</table>\n"
      ],
      "text/plain": [
       "<IPython.core.display.HTML object>"
      ]
     },
     "metadata": {},
     "output_type": "display_data"
    },
    {
     "name": "stdout",
     "output_type": "stream",
     "text": [
      "--------------------------------------------------------------------------------------------------------------------------------------------------------------------------------------------------------\n"
     ]
    },
    {
     "data": {
      "text/html": [
       "&lt;bos&gt;<span style=\"background-color: rgba(255, 0, 0, 0.000); white-space: pre-wrap;\" title=\"KL: 0.000\">&lt;start_of_turn&gt;</span><span style=\"background-color: rgba(255, 0, 0, 0.000); white-space: pre-wrap;\" title=\"KL: 0.000\">user</span><span style=\"background-color: rgba(255, 0, 0, 0.000); white-space: pre-wrap;\" title=\"KL: 0.000\">\n",
       "</span><span style=\"background-color: rgba(255, 0, 0, 0.002); white-space: pre-wrap;\" title=\"KL: 0.000\">Convert</span><span style=\"background-color: rgba(255, 0, 0, 0.000); white-space: pre-wrap;\" title=\"KL: 0.000\"> to</span><span style=\"background-color: rgba(255, 0, 0, 0.001); white-space: pre-wrap;\" title=\"KL: 0.000\"> Rust</span><span style=\"background-color: rgba(255, 0, 0, 0.001); white-space: pre-wrap;\" title=\"KL: 0.000\"> bit</span><span style=\"background-color: rgba(255, 0, 0, 0.001); white-space: pre-wrap;\" title=\"KL: 0.000\">flags</span><span style=\"background-color: rgba(255, 0, 0, 0.001); white-space: pre-wrap;\" title=\"KL: 0.000\">:</span><span style=\"background-color: rgba(255, 0, 0, 0.000); white-space: pre-wrap;\" title=\"KL: 0.000\">\n",
       "</span><span style=\"background-color: rgba(255, 0, 0, 0.000); white-space: pre-wrap;\" title=\"KL: 0.000\">```</span><span style=\"background-color: rgba(255, 0, 0, 0.009); white-space: pre-wrap;\" title=\"KL: 0.001\">cpp</span><span style=\"background-color: rgba(255, 0, 0, 0.000); white-space: pre-wrap;\" title=\"KL: -0.000\">\n",
       "\n",
       "</span><span style=\"background-color: rgba(255, 0, 0, 0.001); white-space: pre-wrap;\" title=\"KL: 0.000\">#</span><span style=\"background-color: rgba(255, 0, 0, 0.000); white-space: pre-wrap;\" title=\"KL: 0.000\">define</span><span style=\"background-color: rgba(255, 0, 0, 0.001); white-space: pre-wrap;\" title=\"KL: 0.000\"> PRO</span><span style=\"background-color: rgba(255, 0, 0, 0.001); white-space: pre-wrap;\" title=\"KL: 0.000\">T</span><span style=\"background-color: rgba(255, 0, 0, 0.000); white-space: pre-wrap;\" title=\"KL: 0.000\">_</span><span style=\"background-color: rgba(255, 0, 0, 0.000); white-space: pre-wrap;\" title=\"KL: 0.000\">READ</span><span style=\"background-color: rgba(255, 0, 0, 0.001); white-space: pre-wrap;\" title=\"KL: 0.000\">       </span><span style=\"background-color: rgba(255, 0, 0, 0.001); white-space: pre-wrap;\" title=\"KL: 0.000\">0</span><span style=\"background-color: rgba(255, 0, 0, 0.000); white-space: pre-wrap;\" title=\"KL: 0.000\">x</span><span style=\"background-color: rgba(255, 0, 0, 0.000); white-space: pre-wrap;\" title=\"KL: 0.000\">1</span><span style=\"background-color: rgba(255, 0, 0, 0.000); white-space: pre-wrap;\" title=\"KL: 0.000\">             </span><span style=\"background-color: rgba(255, 0, 0, 0.000); white-space: pre-wrap;\" title=\"KL: 0.000\">/*</span><span style=\"background-color: rgba(255, 0, 0, 0.001); white-space: pre-wrap;\" title=\"KL: 0.000\"> Page</span><span style=\"background-color: rgba(255, 0, 0, 0.001); white-space: pre-wrap;\" title=\"KL: 0.000\"> can</span><span style=\"background-color: rgba(255, 0, 0, 0.000); white-space: pre-wrap;\" title=\"KL: 0.000\"> be</span><span style=\"background-color: rgba(255, 0, 0, 0.000); white-space: pre-wrap;\" title=\"KL: 0.000\"> read</span><span style=\"background-color: rgba(255, 0, 0, 0.001); white-space: pre-wrap;\" title=\"KL: 0.000\">.</span><span style=\"background-color: rgba(255, 0, 0, 0.000); white-space: pre-wrap;\" title=\"KL: 0.000\">  </span><span style=\"background-color: rgba(255, 0, 0, 0.000); white-space: pre-wrap;\" title=\"KL: -0.000\">*/</span><span style=\"background-color: rgba(255, 0, 0, 0.000); white-space: pre-wrap;\" title=\"KL: 0.000\">\n",
       "</span><span style=\"background-color: rgba(255, 0, 0, 0.000); white-space: pre-wrap;\" title=\"KL: -0.000\">#</span><span style=\"background-color: rgba(255, 0, 0, 0.000); white-space: pre-wrap;\" title=\"KL: 0.000\">define</span><span style=\"background-color: rgba(255, 0, 0, 0.000); white-space: pre-wrap;\" title=\"KL: 0.000\"> PRO</span><span style=\"background-color: rgba(255, 0, 0, 0.000); white-space: pre-wrap;\" title=\"KL: -0.000\">T</span><span style=\"background-color: rgba(255, 0, 0, 0.000); white-space: pre-wrap;\" title=\"KL: -0.000\">_</span><span style=\"background-color: rgba(255, 0, 0, 0.000); white-space: pre-wrap;\" title=\"KL: 0.000\">WRITE</span><span style=\"background-color: rgba(255, 0, 0, 0.000); white-space: pre-wrap;\" title=\"KL: 0.000\">      </span><span style=\"background-color: rgba(255, 0, 0, 0.000); white-space: pre-wrap;\" title=\"KL: 0.000\">0</span><span style=\"background-color: rgba(255, 0, 0, 0.000); white-space: pre-wrap;\" title=\"KL: 0.000\">x</span><span style=\"background-color: rgba(255, 0, 0, 0.000); white-space: pre-wrap;\" title=\"KL: 0.000\">2</span><span style=\"background-color: rgba(255, 0, 0, 0.000); white-space: pre-wrap;\" title=\"KL: 0.000\">             </span><span style=\"background-color: rgba(255, 0, 0, 0.000); white-space: pre-wrap;\" title=\"KL: 0.000\">/*</span><span style=\"background-color: rgba(255, 0, 0, 0.000); white-space: pre-wrap;\" title=\"KL: 0.000\"> Page</span><span style=\"background-color: rgba(255, 0, 0, 0.000); white-space: pre-wrap;\" title=\"KL: 0.000\"> can</span><span style=\"background-color: rgba(255, 0, 0, 0.000); white-space: pre-wrap;\" title=\"KL: 0.000\"> be</span><span style=\"background-color: rgba(255, 0, 0, 0.000); white-space: pre-wrap;\" title=\"KL: 0.000\"> written</span><span style=\"background-color: rgba(255, 0, 0, 0.000); white-space: pre-wrap;\" title=\"KL: 0.000\">.</span><span style=\"background-color: rgba(255, 0, 0, 0.000); white-space: pre-wrap;\" title=\"KL: 0.000\">  </span><span style=\"background-color: rgba(255, 0, 0, 0.000); white-space: pre-wrap;\" title=\"KL: -0.000\">*/</span><span style=\"background-color: rgba(255, 0, 0, 0.000); white-space: pre-wrap;\" title=\"KL: 0.000\">\n",
       "</span><span style=\"background-color: rgba(255, 0, 0, 0.000); white-space: pre-wrap;\" title=\"KL: 0.000\">#</span><span style=\"background-color: rgba(255, 0, 0, 0.000); white-space: pre-wrap;\" title=\"KL: -0.000\">define</span><span style=\"background-color: rgba(255, 0, 0, 0.000); white-space: pre-wrap;\" title=\"KL: 0.000\"> PRO</span><span style=\"background-color: rgba(255, 0, 0, 0.000); white-space: pre-wrap;\" title=\"KL: 0.000\">T</span><span style=\"background-color: rgba(255, 0, 0, 0.000); white-space: pre-wrap;\" title=\"KL: -0.000\">_</span><span style=\"background-color: rgba(255, 0, 0, 0.000); white-space: pre-wrap;\" title=\"KL: 0.000\">EXEC</span><span style=\"background-color: rgba(255, 0, 0, 0.000); white-space: pre-wrap;\" title=\"KL: 0.000\">       </span><span style=\"background-color: rgba(255, 0, 0, 0.000); white-space: pre-wrap;\" title=\"KL: 0.000\">0</span><span style=\"background-color: rgba(255, 0, 0, 0.000); white-space: pre-wrap;\" title=\"KL: 0.000\">x</span><span style=\"background-color: rgba(255, 0, 0, 0.000); white-space: pre-wrap;\" title=\"KL: -0.000\">4</span><span style=\"background-color: rgba(255, 0, 0, 0.000); white-space: pre-wrap;\" title=\"KL: 0.000\">             </span><span style=\"background-color: rgba(255, 0, 0, 0.000); white-space: pre-wrap;\" title=\"KL: 0.000\">/*</span><span style=\"background-color: rgba(255, 0, 0, 0.000); white-space: pre-wrap;\" title=\"KL: 0.000\"> Page</span><span style=\"background-color: rgba(255, 0, 0, 0.000); white-space: pre-wrap;\" title=\"KL: 0.000\"> can</span><span style=\"background-color: rgba(255, 0, 0, 0.000); white-space: pre-wrap;\" title=\"KL: 0.000\"> be</span><span style=\"background-color: rgba(255, 0, 0, 0.000); white-space: pre-wrap;\" title=\"KL: 0.000\"> executed</span><span style=\"background-color: rgba(255, 0, 0, 0.000); white-space: pre-wrap;\" title=\"KL: 0.000\">.</span><span style=\"background-color: rgba(255, 0, 0, 0.000); white-space: pre-wrap;\" title=\"KL: 0.000\">  </span><span style=\"background-color: rgba(255, 0, 0, 0.000); white-space: pre-wrap;\" title=\"KL: 0.000\">*/</span><span style=\"background-color: rgba(255, 0, 0, 0.000); white-space: pre-wrap;\" title=\"KL: 0.000\">\n",
       "</span><span style=\"background-color: rgba(255, 0, 0, 0.000); white-space: pre-wrap;\" title=\"KL: 0.000\">#</span><span style=\"background-color: rgba(255, 0, 0, 0.000); white-space: pre-wrap;\" title=\"KL: 0.000\">define</span><span style=\"background-color: rgba(255, 0, 0, 0.000); white-space: pre-wrap;\" title=\"KL: 0.000\"> PRO</span><span style=\"background-color: rgba(255, 0, 0, 0.000); white-space: pre-wrap;\" title=\"KL: 0.000\">T</span><span style=\"background-color: rgba(255, 0, 0, 0.000); white-space: pre-wrap;\" title=\"KL: 0.000\">_</span><span style=\"background-color: rgba(255, 0, 0, 0.001); white-space: pre-wrap;\" title=\"KL: 0.000\">NONE</span><span style=\"background-color: rgba(255, 0, 0, 0.000); white-space: pre-wrap;\" title=\"KL: 0.000\">       </span><span style=\"background-color: rgba(255, 0, 0, 0.000); white-space: pre-wrap;\" title=\"KL: 0.000\">0</span><span style=\"background-color: rgba(255, 0, 0, 0.000); white-space: pre-wrap;\" title=\"KL: 0.000\">x</span><span style=\"background-color: rgba(255, 0, 0, 0.000); white-space: pre-wrap;\" title=\"KL: 0.000\">0</span><span style=\"background-color: rgba(255, 0, 0, 0.000); white-space: pre-wrap;\" title=\"KL: 0.000\">             </span><span style=\"background-color: rgba(255, 0, 0, 0.000); white-space: pre-wrap;\" title=\"KL: 0.000\">/*</span><span style=\"background-color: rgba(255, 0, 0, 0.001); white-space: pre-wrap;\" title=\"KL: 0.000\"> Page</span><span style=\"background-color: rgba(255, 0, 0, 0.001); white-space: pre-wrap;\" title=\"KL: 0.000\"> can</span><span style=\"background-color: rgba(255, 0, 0, 0.001); white-space: pre-wrap;\" title=\"KL: 0.000\"> not</span><span style=\"background-color: rgba(255, 0, 0, 0.000); white-space: pre-wrap;\" title=\"KL: 0.000\"> be</span><span style=\"background-color: rgba(255, 0, 0, 0.000); white-space: pre-wrap;\" title=\"KL: 0.000\"> accessed</span><span style=\"background-color: rgba(255, 0, 0, 0.000); white-space: pre-wrap;\" title=\"KL: 0.000\">.</span><span style=\"background-color: rgba(255, 0, 0, 0.000); white-space: pre-wrap;\" title=\"KL: 0.000\">  </span><span style=\"background-color: rgba(255, 0, 0, 0.000); white-space: pre-wrap;\" title=\"KL: 0.000\">*/</span><span style=\"background-color: rgba(255, 0, 0, 0.000); white-space: pre-wrap;\" title=\"KL: 0.000\">\n",
       "</span><span style=\"background-color: rgba(255, 0, 0, 0.001); white-space: pre-wrap;\" title=\"KL: 0.000\">#</span><span style=\"background-color: rgba(255, 0, 0, 0.001); white-space: pre-wrap;\" title=\"KL: 0.000\">define</span><span style=\"background-color: rgba(255, 0, 0, 0.000); white-space: pre-wrap;\" title=\"KL: 0.000\"> PRO</span><span style=\"background-color: rgba(255, 0, 0, 0.000); white-space: pre-wrap;\" title=\"KL: 0.000\">T</span><span style=\"background-color: rgba(255, 0, 0, 0.000); white-space: pre-wrap;\" title=\"KL: 0.000\">_</span><span style=\"background-color: rgba(255, 0, 0, 0.002); white-space: pre-wrap;\" title=\"KL: 0.000\">GRO</span><span style=\"background-color: rgba(255, 0, 0, 0.000); white-space: pre-wrap;\" title=\"KL: 0.000\">WS</span><span style=\"background-color: rgba(255, 0, 0, 0.001); white-space: pre-wrap;\" title=\"KL: 0.000\">DOWN</span><span style=\"background-color: rgba(255, 0, 0, 0.001); white-space: pre-wrap;\" title=\"KL: 0.000\">  </span><span style=\"background-color: rgba(255, 0, 0, 0.000); white-space: pre-wrap;\" title=\"KL: 0.000\">0</span><span style=\"background-color: rgba(255, 0, 0, 0.000); white-space: pre-wrap;\" title=\"KL: 0.000\">x</span><span style=\"background-color: rgba(255, 0, 0, 0.000); white-space: pre-wrap;\" title=\"KL: 0.000\">0</span><span style=\"background-color: rgba(255, 0, 0, 0.002); white-space: pre-wrap;\" title=\"KL: 0.000\">1</span><span style=\"background-color: rgba(255, 0, 0, 0.005); white-space: pre-wrap;\" title=\"KL: 0.001\">0</span><span style=\"background-color: rgba(255, 0, 0, 0.002); white-space: pre-wrap;\" title=\"KL: 0.000\">0</span><span style=\"background-color: rgba(255, 0, 0, 0.000); white-space: pre-wrap;\" title=\"KL: 0.000\">0</span><span style=\"background-color: rgba(255, 0, 0, 0.000); white-space: pre-wrap;\" title=\"KL: 0.000\">0</span><span style=\"background-color: rgba(255, 0, 0, 0.000); white-space: pre-wrap;\" title=\"KL: 0.000\">0</span><span style=\"background-color: rgba(255, 0, 0, 0.000); white-space: pre-wrap;\" title=\"KL: 0.000\">0</span><span style=\"background-color: rgba(255, 0, 0, 0.003); white-space: pre-wrap;\" title=\"KL: 0.000\">      </span><span style=\"background-color: rgba(255, 0, 0, 0.000); white-space: pre-wrap;\" title=\"KL: 0.000\">/*</span><span style=\"background-color: rgba(255, 0, 0, 0.000); white-space: pre-wrap;\" title=\"KL: 0.000\"> Extend</span><span style=\"background-color: rgba(255, 0, 0, 0.001); white-space: pre-wrap;\" title=\"KL: 0.000\"> change</span><span style=\"background-color: rgba(255, 0, 0, 0.002); white-space: pre-wrap;\" title=\"KL: 0.000\"> to</span><span style=\"background-color: rgba(255, 0, 0, 0.003); white-space: pre-wrap;\" title=\"KL: 0.000\"> start</span><span style=\"background-color: rgba(255, 0, 0, 0.002); white-space: pre-wrap;\" title=\"KL: 0.000\"> of</span><span style=\"background-color: rgba(255, 0, 0, 0.000); white-space: pre-wrap;\" title=\"KL: 0.000\">\n",
       "</span><span style=\"background-color: rgba(255, 0, 0, 0.000); white-space: pre-wrap;\" title=\"KL: 0.000\">                               </span><span style=\"background-color: rgba(255, 0, 0, 0.000); white-space: pre-wrap;\" title=\"KL: 0.000\">            </span><span style=\"background-color: rgba(255, 0, 0, 0.001); white-space: pre-wrap;\" title=\"KL: 0.000\">g</span><span style=\"background-color: rgba(255, 0, 0, 0.001); white-space: pre-wrap;\" title=\"KL: 0.000\">rows</span><span style=\"background-color: rgba(255, 0, 0, 0.000); white-space: pre-wrap;\" title=\"KL: 0.000\">down</span><span style=\"background-color: rgba(255, 0, 0, 0.001); white-space: pre-wrap;\" title=\"KL: 0.000\"> v</span><span style=\"background-color: rgba(255, 0, 0, 0.001); white-space: pre-wrap;\" title=\"KL: 0.000\">ma</span><span style=\"background-color: rgba(255, 0, 0, 0.001); white-space: pre-wrap;\" title=\"KL: 0.000\"> (</span><span style=\"background-color: rgba(255, 0, 0, 0.003); white-space: pre-wrap;\" title=\"KL: 0.000\">mp</span><span style=\"background-color: rgba(255, 0, 0, 0.003); white-space: pre-wrap;\" title=\"KL: 0.000\">rote</span><span style=\"background-color: rgba(255, 0, 0, 0.000); white-space: pre-wrap;\" title=\"KL: 0.000\">ct</span><span style=\"background-color: rgba(255, 0, 0, 0.001); white-space: pre-wrap;\" title=\"KL: 0.000\"> only</span><span style=\"background-color: rgba(255, 0, 0, 0.000); white-space: pre-wrap;\" title=\"KL: 0.000\">).</span><span style=\"background-color: rgba(255, 0, 0, 0.001); white-space: pre-wrap;\" title=\"KL: 0.000\">  </span><span style=\"background-color: rgba(255, 0, 0, 0.000); white-space: pre-wrap;\" title=\"KL: 0.000\">*/</span><span style=\"background-color: rgba(255, 0, 0, 0.000); white-space: pre-wrap;\" title=\"KL: 0.000\">\n",
       "</span><span style=\"background-color: rgba(255, 0, 0, 0.000); white-space: pre-wrap;\" title=\"KL: 0.000\">#</span><span style=\"background-color: rgba(255, 0, 0, 0.000); white-space: pre-wrap;\" title=\"KL: 0.000\">define</span><span style=\"background-color: rgba(255, 0, 0, 0.000); white-space: pre-wrap;\" title=\"KL: 0.000\"> PRO</span><span style=\"background-color: rgba(255, 0, 0, 0.000); white-space: pre-wrap;\" title=\"KL: 0.000\">T</span><span style=\"background-color: rgba(255, 0, 0, 0.000); white-space: pre-wrap;\" title=\"KL: 0.000\">_</span><span style=\"background-color: rgba(255, 0, 0, 0.002); white-space: pre-wrap;\" title=\"KL: 0.000\">GRO</span><span style=\"background-color: rgba(255, 0, 0, 0.000); white-space: pre-wrap;\" title=\"KL: 0.000\">WS</span><span style=\"background-color: rgba(255, 0, 0, 0.000); white-space: pre-wrap;\" title=\"KL: 0.000\">UP</span><span style=\"background-color: rgba(255, 0, 0, 0.003); white-space: pre-wrap;\" title=\"KL: 0.000\">    </span><span style=\"background-color: rgba(255, 0, 0, 0.000); white-space: pre-wrap;\" title=\"KL: 0.000\">0</span><span style=\"background-color: rgba(255, 0, 0, 0.000); white-space: pre-wrap;\" title=\"KL: 0.000\">x</span><span style=\"background-color: rgba(255, 0, 0, 0.000); white-space: pre-wrap;\" title=\"KL: 0.000\">0</span><span style=\"background-color: rgba(255, 0, 0, 0.000); white-space: pre-wrap;\" title=\"KL: 0.000\">2</span><span style=\"background-color: rgba(255, 0, 0, 0.000); white-space: pre-wrap;\" title=\"KL: -0.000\">0</span><span style=\"background-color: rgba(255, 0, 0, 0.000); white-space: pre-wrap;\" title=\"KL: -0.000\">0</span><span style=\"background-color: rgba(255, 0, 0, 0.000); white-space: pre-wrap;\" title=\"KL: 0.000\">0</span><span style=\"background-color: rgba(255, 0, 0, 0.000); white-space: pre-wrap;\" title=\"KL: -0.000\">0</span><span style=\"background-color: rgba(255, 0, 0, 0.000); white-space: pre-wrap;\" title=\"KL: 0.000\">0</span><span style=\"background-color: rgba(255, 0, 0, 0.000); white-space: pre-wrap;\" title=\"KL: 0.000\">0</span><span style=\"background-color: rgba(255, 0, 0, 0.001); white-space: pre-wrap;\" title=\"KL: 0.000\">      </span><span style=\"background-color: rgba(255, 0, 0, 0.000); white-space: pre-wrap;\" title=\"KL: 0.000\">/*</span><span style=\"background-color: rgba(255, 0, 0, 0.000); white-space: pre-wrap;\" title=\"KL: 0.000\"> Extend</span><span style=\"background-color: rgba(255, 0, 0, 0.000); white-space: pre-wrap;\" title=\"KL: 0.000\"> change</span><span style=\"background-color: rgba(255, 0, 0, 0.000); white-space: pre-wrap;\" title=\"KL: 0.000\"> to</span><span style=\"background-color: rgba(255, 0, 0, 0.000); white-space: pre-wrap;\" title=\"KL: 0.000\"> start</span><span style=\"background-color: rgba(255, 0, 0, 0.000); white-space: pre-wrap;\" title=\"KL: 0.000\"> of</span><span style=\"background-color: rgba(255, 0, 0, 0.003); white-space: pre-wrap;\" title=\"KL: 0.000\">\n",
       "</span><span style=\"background-color: rgba(255, 0, 0, 0.000); white-space: pre-wrap;\" title=\"KL: 0.000\">                               </span><span style=\"background-color: rgba(255, 0, 0, 0.000); white-space: pre-wrap;\" title=\"KL: 0.000\">            </span><span style=\"background-color: rgba(255, 0, 0, 0.000); white-space: pre-wrap;\" title=\"KL: 0.000\">g</span><span style=\"background-color: rgba(255, 0, 0, 0.000); white-space: pre-wrap;\" title=\"KL: 0.000\">rows</span><span style=\"background-color: rgba(255, 0, 0, 0.000); white-space: pre-wrap;\" title=\"KL: 0.000\">up</span><span style=\"background-color: rgba(255, 0, 0, 0.000); white-space: pre-wrap;\" title=\"KL: 0.000\"> v</span><span style=\"background-color: rgba(255, 0, 0, 0.000); white-space: pre-wrap;\" title=\"KL: 0.000\">ma</span><span style=\"background-color: rgba(255, 0, 0, 0.000); white-space: pre-wrap;\" title=\"KL: 0.000\"> (</span><span style=\"background-color: rgba(255, 0, 0, 0.000); white-space: pre-wrap;\" title=\"KL: 0.000\">mp</span><span style=\"background-color: rgba(255, 0, 0, 0.000); white-space: pre-wrap;\" title=\"KL: 0.000\">rote</span><span style=\"background-color: rgba(255, 0, 0, 0.000); white-space: pre-wrap;\" title=\"KL: 0.000\">ct</span><span style=\"background-color: rgba(255, 0, 0, 0.000); white-space: pre-wrap;\" title=\"KL: 0.000\"> only</span><span style=\"background-color: rgba(255, 0, 0, 0.000); white-space: pre-wrap;\" title=\"KL: 0.000\">).</span><span style=\"background-color: rgba(255, 0, 0, 0.000); white-space: pre-wrap;\" title=\"KL: 0.000\">  </span><span style=\"background-color: rgba(255, 0, 0, 0.000); white-space: pre-wrap;\" title=\"KL: 0.000\">*/</span><span style=\"background-color: rgba(255, 0, 0, 0.000); white-space: pre-wrap;\" title=\"KL: 0.000\">\n",
       "</span><span style=\"background-color: rgba(255, 0, 0, 0.001); white-space: pre-wrap;\" title=\"KL: 0.000\">```</span><span style=\"background-color: rgba(255, 0, 0, 0.000); white-space: pre-wrap;\" title=\"KL: 0.000\">&lt;end_of_turn&gt;</span><span style=\"background-color: rgba(255, 0, 0, 0.000); white-space: pre-wrap;\" title=\"KL: 0.000\">\n",
       "</span><span style=\"background-color: rgba(255, 0, 0, 0.120); white-space: pre-wrap;\" title=\"KL: 0.012\">&lt;start_of_turn&gt;</span><span style=\"background-color: rgba(255, 0, 0, 0.001); white-space: pre-wrap;\" title=\"KL: 0.000\">model</span><span style=\"background-color: rgba(255, 0, 0, 0.000); white-space: pre-wrap;\" title=\"KL: 0.000\">\n",
       "</span><span style=\"background-color: rgba(255, 0, 0, 0.000); white-space: pre-wrap;\" title=\"KL: 0.000\">```</span><span style=\"background-color: rgba(255, 0, 0, 0.000); white-space: pre-wrap;\" title=\"KL: -0.000\">rust</span><span style=\"background-color: rgba(255, 0, 0, 0.000); white-space: pre-wrap;\" title=\"KL: -0.000\">\n",
       "</span><span style=\"background-color: rgba(255, 0, 0, 0.000); white-space: pre-wrap;\" title=\"KL: 0.000\">///</span><span style=\"background-color: rgba(255, 0, 0, 0.001); white-space: pre-wrap;\" title=\"KL: 0.000\"> A</span><span style=\"background-color: rgba(255, 0, 0, 0.000); white-space: pre-wrap;\" title=\"KL: 0.000\"> bit</span>"
      ],
      "text/plain": [
       "<IPython.core.display.HTML object>"
      ]
     },
     "metadata": {},
     "output_type": "display_data"
    },
    {
     "name": "stdout",
     "output_type": "stream",
     "text": [
      "High KL: 0.0120 at token '<start_of_turn>'\\n\n"
     ]
    },
    {
     "data": {
      "text/html": [
       "<style type=\"text/css\">\n",
       "#T_9d74c th {\n",
       "  text-align: left;\n",
       "}\n",
       "#T_9d74c_row0_col0, #T_9d74c_row1_col0, #T_9d74c_row2_col0 {\n",
       "  background-color: forestgreen;\n",
       "  text-align: left;\n",
       "}\n",
       "#T_9d74c_row0_col1, #T_9d74c_row0_col2, #T_9d74c_row1_col1, #T_9d74c_row1_col2, #T_9d74c_row2_col1, #T_9d74c_row2_col2, #T_9d74c_row3_col1, #T_9d74c_row3_col2, #T_9d74c_row4_col1, #T_9d74c_row4_col2, #T_9d74c_row5_col1, #T_9d74c_row5_col2 {\n",
       "  text-align: left;\n",
       "}\n",
       "#T_9d74c_row3_col0, #T_9d74c_row4_col0, #T_9d74c_row5_col0 {\n",
       "  background-color: indianred;\n",
       "  text-align: left;\n",
       "}\n",
       "</style>\n",
       "<table id=\"T_9d74c\">\n",
       "  <thead>\n",
       "    <tr>\n",
       "      <th class=\"blank level0\" >&nbsp;</th>\n",
       "      <th id=\"T_9d74c_level0_col0\" class=\"col_heading level0 col0\" >Token</th>\n",
       "      <th id=\"T_9d74c_level0_col1\" class=\"col_heading level0 col1\" >p_HS</th>\n",
       "      <th id=\"T_9d74c_level0_col2\" class=\"col_heading level0 col2\" >p_B</th>\n",
       "    </tr>\n",
       "  </thead>\n",
       "  <tbody>\n",
       "    <tr>\n",
       "      <th id=\"T_9d74c_level0_row0\" class=\"row_heading level0 row0\" >0</th>\n",
       "      <td id=\"T_9d74c_row0_col0\" class=\"data row0 col0\" > combina</td>\n",
       "      <td id=\"T_9d74c_row0_col1\" class=\"data row0 col1\" >0.008</td>\n",
       "      <td id=\"T_9d74c_row0_col2\" class=\"data row0 col2\" >0.013</td>\n",
       "    </tr>\n",
       "    <tr>\n",
       "      <th id=\"T_9d74c_level0_row1\" class=\"row_heading level0 row1\" >1</th>\n",
       "      <td id=\"T_9d74c_row1_col0\" class=\"data row1 col0\" >*</td>\n",
       "      <td id=\"T_9d74c_row1_col1\" class=\"data row1 col1\" >0.258</td>\n",
       "      <td id=\"T_9d74c_row1_col2\" class=\"data row1 col2\" >0.299</td>\n",
       "    </tr>\n",
       "    <tr>\n",
       "      <th id=\"T_9d74c_level0_row2\" class=\"row_heading level0 row2\" >2</th>\n",
       "      <td id=\"T_9d74c_row2_col0\" class=\"data row2 col0\" > combination</td>\n",
       "      <td id=\"T_9d74c_row2_col1\" class=\"data row2 col1\" >0.063</td>\n",
       "      <td id=\"T_9d74c_row2_col2\" class=\"data row2 col2\" >0.072</td>\n",
       "    </tr>\n",
       "    <tr>\n",
       "      <th id=\"T_9d74c_level0_row3\" class=\"row_heading level0 row3\" >3</th>\n",
       "      <td id=\"T_9d74c_row3_col0\" class=\"data row3 col0\" >t</td>\n",
       "      <td id=\"T_9d74c_row3_col1\" class=\"data row3 col1\" >0.114</td>\n",
       "      <td id=\"T_9d74c_row3_col2\" class=\"data row3 col2\" >0.102</td>\n",
       "    </tr>\n",
       "    <tr>\n",
       "      <th id=\"T_9d74c_level0_row4\" class=\"row_heading level0 row4\" >4</th>\n",
       "      <td id=\"T_9d74c_row4_col0\" class=\"data row4 col0\" >\n",
       "\n",
       "</td>\n",
       "      <td id=\"T_9d74c_row4_col1\" class=\"data row4 col1\" >0.473</td>\n",
       "      <td id=\"T_9d74c_row4_col2\" class=\"data row4 col2\" >0.416</td>\n",
       "    </tr>\n",
       "    <tr>\n",
       "      <th id=\"T_9d74c_level0_row5\" class=\"row_heading level0 row5\" >5</th>\n",
       "      <td id=\"T_9d74c_row5_col0\" class=\"data row5 col0\" > </td>\n",
       "      <td id=\"T_9d74c_row5_col1\" class=\"data row5 col1\" >0.013</td>\n",
       "      <td id=\"T_9d74c_row5_col2\" class=\"data row5 col2\" >0.011</td>\n",
       "    </tr>\n",
       "  </tbody>\n",
       "</table>\n"
      ],
      "text/plain": [
       "<IPython.core.display.HTML object>"
      ]
     },
     "metadata": {},
     "output_type": "display_data"
    },
    {
     "name": "stdout",
     "output_type": "stream",
     "text": [
      "--------------------------------------------------------------------------------------------------------------------------------------------------------------------------------------------------------\n"
     ]
    },
    {
     "data": {
      "text/html": [
       "&lt;bos&gt;<span style=\"background-color: rgba(255, 0, 0, 0.000); white-space: pre-wrap;\" title=\"KL: 0.000\">&lt;start_of_turn&gt;</span><span style=\"background-color: rgba(255, 0, 0, 0.000); white-space: pre-wrap;\" title=\"KL: 0.000\">user</span><span style=\"background-color: rgba(255, 0, 0, 0.000); white-space: pre-wrap;\" title=\"KL: 0.000\">\n",
       "</span><span style=\"background-color: rgba(255, 0, 0, 0.002); white-space: pre-wrap;\" title=\"KL: 0.000\">Write</span><span style=\"background-color: rgba(255, 0, 0, 0.000); white-space: pre-wrap;\" title=\"KL: 0.000\"> an</span><span style=\"background-color: rgba(255, 0, 0, 0.000); white-space: pre-wrap;\" title=\"KL: 0.000\"> original</span><span style=\"background-color: rgba(255, 0, 0, 0.000); white-space: pre-wrap;\" title=\"KL: 0.000\"> script</span><span style=\"background-color: rgba(255, 0, 0, 0.000); white-space: pre-wrap;\" title=\"KL: 0.000\"> for</span><span style=\"background-color: rgba(255, 0, 0, 0.000); white-space: pre-wrap;\" title=\"KL: 0.000\"> a</span><span style=\"background-color: rgba(255, 0, 0, 0.000); white-space: pre-wrap;\" title=\"KL: 0.000\"> science</span><span style=\"background-color: rgba(255, 0, 0, 0.000); white-space: pre-wrap;\" title=\"KL: 0.000\"> fiction</span><span style=\"background-color: rgba(255, 0, 0, 0.000); white-space: pre-wrap;\" title=\"KL: 0.000\"> TV</span><span style=\"background-color: rgba(255, 0, 0, 0.000); white-space: pre-wrap;\" title=\"KL: 0.000\"> show</span><span style=\"background-color: rgba(255, 0, 0, 0.000); white-space: pre-wrap;\" title=\"KL: 0.000\"> pilot</span><span style=\"background-color: rgba(255, 0, 0, 0.000); white-space: pre-wrap;\" title=\"KL: 0.000\">.</span><span style=\"background-color: rgba(255, 0, 0, 0.000); white-space: pre-wrap;\" title=\"KL: 0.000\"> The</span><span style=\"background-color: rgba(255, 0, 0, 0.018); white-space: pre-wrap;\" title=\"KL: 0.002\"> show</span><span style=\"background-color: rgba(255, 0, 0, 0.000); white-space: pre-wrap;\" title=\"KL: 0.000\"> should</span><span style=\"background-color: rgba(255, 0, 0, 0.003); white-space: pre-wrap;\" title=\"KL: 0.000\"> be</span><span style=\"background-color: rgba(255, 0, 0, 0.098); white-space: pre-wrap;\" title=\"KL: 0.010\"> gritty</span><span style=\"background-color: rgba(255, 0, 0, 0.001); white-space: pre-wrap;\" title=\"KL: 0.000\"> and</span><span style=\"background-color: rgba(255, 0, 0, 0.001); white-space: pre-wrap;\" title=\"KL: 0.000\"> realistic</span><span style=\"background-color: rgba(255, 0, 0, 0.000); white-space: pre-wrap;\" title=\"KL: 0.000\">,</span><span style=\"background-color: rgba(255, 0, 0, 0.003); white-space: pre-wrap;\" title=\"KL: 0.000\"> with</span><span style=\"background-color: rgba(255, 0, 0, 0.000); white-space: pre-wrap;\" title=\"KL: 0.000\"> engaging</span><span style=\"background-color: rgba(255, 0, 0, 0.000); white-space: pre-wrap;\" title=\"KL: 0.000\"> characters</span><span style=\"background-color: rgba(255, 0, 0, 0.001); white-space: pre-wrap;\" title=\"KL: 0.000\"> and</span><span style=\"background-color: rgba(255, 0, 0, 0.001); white-space: pre-wrap;\" title=\"KL: 0.000\"> sparkling</span>"
      ],
      "text/plain": [
       "<IPython.core.display.HTML object>"
      ]
     },
     "metadata": {},
     "output_type": "display_data"
    },
    {
     "name": "stdout",
     "output_type": "stream",
     "text": [
      "High KL: 0.0098 at token ' gritty'\\n\n"
     ]
    },
    {
     "data": {
      "text/html": [
       "<style type=\"text/css\">\n",
       "#T_dba08 th {\n",
       "  text-align: left;\n",
       "}\n",
       "#T_dba08_row0_col0, #T_dba08_row1_col0, #T_dba08_row2_col0 {\n",
       "  background-color: forestgreen;\n",
       "  text-align: left;\n",
       "}\n",
       "#T_dba08_row0_col1, #T_dba08_row0_col2, #T_dba08_row1_col1, #T_dba08_row1_col2, #T_dba08_row2_col1, #T_dba08_row2_col2, #T_dba08_row3_col1, #T_dba08_row3_col2, #T_dba08_row4_col1, #T_dba08_row4_col2 {\n",
       "  text-align: left;\n",
       "}\n",
       "#T_dba08_row3_col0, #T_dba08_row4_col0 {\n",
       "  background-color: indianred;\n",
       "  text-align: left;\n",
       "}\n",
       "</style>\n",
       "<table id=\"T_dba08\">\n",
       "  <thead>\n",
       "    <tr>\n",
       "      <th class=\"blank level0\" >&nbsp;</th>\n",
       "      <th id=\"T_dba08_level0_col0\" class=\"col_heading level0 col0\" >Token</th>\n",
       "      <th id=\"T_dba08_level0_col1\" class=\"col_heading level0 col1\" >p_HS</th>\n",
       "      <th id=\"T_dba08_level0_col2\" class=\"col_heading level0 col2\" >p_B</th>\n",
       "    </tr>\n",
       "  </thead>\n",
       "  <tbody>\n",
       "    <tr>\n",
       "      <th id=\"T_dba08_level0_row0\" class=\"row_heading level0 row0\" >0</th>\n",
       "      <td id=\"T_dba08_row0_col0\" class=\"data row0 col0\" > focus</td>\n",
       "      <td id=\"T_dba08_row0_col1\" class=\"data row0 col1\" >0.014</td>\n",
       "      <td id=\"T_dba08_row0_col2\" class=\"data row0 col2\" >0.022</td>\n",
       "    </tr>\n",
       "    <tr>\n",
       "      <th id=\"T_dba08_level0_row1\" class=\"row_heading level0 row1\" >1</th>\n",
       "      <td id=\"T_dba08_row1_col0\" class=\"data row1 col0\" > revolve</td>\n",
       "      <td id=\"T_dba08_row1_col1\" class=\"data row1 col1\" >0.009</td>\n",
       "      <td id=\"T_dba08_row1_col2\" class=\"data row1 col2\" >0.013</td>\n",
       "    </tr>\n",
       "    <tr>\n",
       "      <th id=\"T_dba08_level0_row2\" class=\"row_heading level0 row2\" >2</th>\n",
       "      <td id=\"T_dba08_row2_col0\" class=\"data row2 col0\" > be</td>\n",
       "      <td id=\"T_dba08_row2_col1\" class=\"data row2 col1\" >0.015</td>\n",
       "      <td id=\"T_dba08_row2_col2\" class=\"data row2 col2\" >0.020</td>\n",
       "    </tr>\n",
       "    <tr>\n",
       "      <th id=\"T_dba08_level0_row3\" class=\"row_heading level0 row3\" >3</th>\n",
       "      <td id=\"T_dba08_row3_col0\" class=\"data row3 col0\" > called</td>\n",
       "      <td id=\"T_dba08_row3_col1\" class=\"data row3 col1\" >0.063</td>\n",
       "      <td id=\"T_dba08_row3_col2\" class=\"data row3 col2\" >0.058</td>\n",
       "    </tr>\n",
       "    <tr>\n",
       "      <th id=\"T_dba08_level0_row4\" class=\"row_heading level0 row4\" >4</th>\n",
       "      <td id=\"T_dba08_row4_col0\" class=\"data row4 col0\" > set</td>\n",
       "      <td id=\"T_dba08_row4_col1\" class=\"data row4 col1\" >0.213</td>\n",
       "      <td id=\"T_dba08_row4_col2\" class=\"data row4 col2\" >0.179</td>\n",
       "    </tr>\n",
       "  </tbody>\n",
       "</table>\n"
      ],
      "text/plain": [
       "<IPython.core.display.HTML object>"
      ]
     },
     "metadata": {},
     "output_type": "display_data"
    },
    {
     "name": "stdout",
     "output_type": "stream",
     "text": [
      "--------------------------------------------------------------------------------------------------------------------------------------------------------------------------------------------------------\n"
     ]
    },
    {
     "data": {
      "text/html": [
       "&lt;bos&gt;<span style=\"background-color: rgba(255, 0, 0, 0.000); white-space: pre-wrap;\" title=\"KL: 0.000\">&lt;start_of_turn&gt;</span><span style=\"background-color: rgba(255, 0, 0, 0.000); white-space: pre-wrap;\" title=\"KL: 0.000\">user</span><span style=\"background-color: rgba(255, 0, 0, 0.000); white-space: pre-wrap;\" title=\"KL: 0.000\">\n",
       "</span><span style=\"background-color: rgba(255, 0, 0, 0.002); white-space: pre-wrap;\" title=\"KL: 0.000\">Could</span><span style=\"background-color: rgba(255, 0, 0, 0.000); white-space: pre-wrap;\" title=\"KL: 0.000\"> you</span><span style=\"background-color: rgba(255, 0, 0, 0.000); white-space: pre-wrap;\" title=\"KL: 0.000\"> create</span><span style=\"background-color: rgba(255, 0, 0, 0.000); white-space: pre-wrap;\" title=\"KL: 0.000\"> titles</span><span style=\"background-color: rgba(255, 0, 0, 0.000); white-space: pre-wrap;\" title=\"KL: 0.000\"> for</span><span style=\"background-color: rgba(255, 0, 0, 0.000); white-space: pre-wrap;\" title=\"KL: 0.000\"> down</span><span style=\"background-color: rgba(255, 0, 0, 0.001); white-space: pre-wrap;\" title=\"KL: 0.000\">tempo</span><span style=\"background-color: rgba(255, 0, 0, 0.000); white-space: pre-wrap;\" title=\"KL: 0.000\">/</span><span style=\"background-color: rgba(255, 0, 0, 0.000); white-space: pre-wrap;\" title=\"KL: 0.000\">chill</span><span style=\"background-color: rgba(255, 0, 0, 0.000); white-space: pre-wrap;\" title=\"KL: 0.000\">out</span><span style=\"background-color: rgba(255, 0, 0, 0.001); white-space: pre-wrap;\" title=\"KL: 0.000\"> songs</span><span style=\"background-color: rgba(255, 0, 0, 0.000); white-space: pre-wrap;\" title=\"KL: 0.000\"> which</span><span style=\"background-color: rgba(255, 0, 0, 0.001); white-space: pre-wrap;\" title=\"KL: 0.000\"> sound</span><span style=\"background-color: rgba(255, 0, 0, 0.001); white-space: pre-wrap;\" title=\"KL: 0.000\"> unresolved</span><span style=\"background-color: rgba(255, 0, 0, 0.000); white-space: pre-wrap;\" title=\"KL: 0.000\"> and</span><span style=\"background-color: rgba(255, 0, 0, 0.000); white-space: pre-wrap;\" title=\"KL: 0.000\"> suspended</span><span style=\"background-color: rgba(255, 0, 0, 0.000); white-space: pre-wrap;\" title=\"KL: 0.000\"> using</span><span style=\"background-color: rgba(255, 0, 0, 0.003); white-space: pre-wrap;\" title=\"KL: 0.000\"> a</span><span style=\"background-color: rgba(255, 0, 0, 0.098); white-space: pre-wrap;\" title=\"KL: 0.010\"> lot</span><span style=\"background-color: rgba(255, 0, 0, 0.000); white-space: pre-wrap;\" title=\"KL: 0.000\"> of</span><span style=\"background-color: rgba(255, 0, 0, 0.001); white-space: pre-wrap;\" title=\"KL: 0.000\"> Maj</span><span style=\"background-color: rgba(255, 0, 0, 0.001); white-space: pre-wrap;\" title=\"KL: 0.000\"> </span><span style=\"background-color: rgba(255, 0, 0, 0.000); white-space: pre-wrap;\" title=\"KL: 0.000\">7</span><span style=\"background-color: rgba(255, 0, 0, 0.000); white-space: pre-wrap;\" title=\"KL: 0.000\"> chords</span><span style=\"background-color: rgba(255, 0, 0, 0.000); white-space: pre-wrap;\" title=\"KL: 0.000\">.</span><span style=\"background-color: rgba(255, 0, 0, 0.001); white-space: pre-wrap;\" title=\"KL: 0.000\">&lt;end_of_turn&gt;</span><span style=\"background-color: rgba(255, 0, 0, 0.000); white-space: pre-wrap;\" title=\"KL: 0.000\">\n",
       "</span>"
      ],
      "text/plain": [
       "<IPython.core.display.HTML object>"
      ]
     },
     "metadata": {},
     "output_type": "display_data"
    },
    {
     "name": "stdout",
     "output_type": "stream",
     "text": [
      "High KL: 0.0098 at token ' lot'\\n\n"
     ]
    },
    {
     "data": {
      "text/html": [
       "<style type=\"text/css\">\n",
       "#T_32a53 th {\n",
       "  text-align: left;\n",
       "}\n",
       "#T_32a53_row0_col0, #T_32a53_row1_col0, #T_32a53_row2_col0 {\n",
       "  background-color: forestgreen;\n",
       "  text-align: left;\n",
       "}\n",
       "#T_32a53_row0_col1, #T_32a53_row0_col2, #T_32a53_row1_col1, #T_32a53_row1_col2, #T_32a53_row2_col1, #T_32a53_row2_col2, #T_32a53_row3_col1, #T_32a53_row3_col2, #T_32a53_row4_col1, #T_32a53_row4_col2, #T_32a53_row5_col1, #T_32a53_row5_col2 {\n",
       "  text-align: left;\n",
       "}\n",
       "#T_32a53_row3_col0, #T_32a53_row4_col0, #T_32a53_row5_col0 {\n",
       "  background-color: indianred;\n",
       "  text-align: left;\n",
       "}\n",
       "</style>\n",
       "<table id=\"T_32a53\">\n",
       "  <thead>\n",
       "    <tr>\n",
       "      <th class=\"blank level0\" >&nbsp;</th>\n",
       "      <th id=\"T_32a53_level0_col0\" class=\"col_heading level0 col0\" >Token</th>\n",
       "      <th id=\"T_32a53_level0_col1\" class=\"col_heading level0 col1\" >p_HS</th>\n",
       "      <th id=\"T_32a53_level0_col2\" class=\"col_heading level0 col2\" >p_B</th>\n",
       "    </tr>\n",
       "  </thead>\n",
       "  <tbody>\n",
       "    <tr>\n",
       "      <th id=\"T_32a53_level0_row0\" class=\"row_heading level0 row0\" >0</th>\n",
       "      <td id=\"T_32a53_row0_col0\" class=\"data row0 col0\" > melancho</td>\n",
       "      <td id=\"T_32a53_row0_col1\" class=\"data row0 col1\" >0.015</td>\n",
       "      <td id=\"T_32a53_row0_col2\" class=\"data row0 col2\" >0.019</td>\n",
       "    </tr>\n",
       "    <tr>\n",
       "      <th id=\"T_32a53_level0_row1\" class=\"row_heading level0 row1\" >1</th>\n",
       "      <td id=\"T_32a53_row1_col0\" class=\"data row1 col0\" > vocal</td>\n",
       "      <td id=\"T_32a53_row1_col1\" class=\"data row1 col1\" >0.010</td>\n",
       "      <td id=\"T_32a53_row1_col2\" class=\"data row1 col2\" >0.013</td>\n",
       "    </tr>\n",
       "    <tr>\n",
       "      <th id=\"T_32a53_level0_row2\" class=\"row_heading level0 row2\" >2</th>\n",
       "      <td id=\"T_32a53_row2_col0\" class=\"data row2 col0\" > lot</td>\n",
       "      <td id=\"T_32a53_row2_col1\" class=\"data row2 col1\" >0.079</td>\n",
       "      <td id=\"T_32a53_row2_col2\" class=\"data row2 col2\" >0.086</td>\n",
       "    </tr>\n",
       "    <tr>\n",
       "      <th id=\"T_32a53_level0_row3\" class=\"row_heading level0 row3\" >3</th>\n",
       "      <td id=\"T_32a53_row3_col0\" class=\"data row3 col0\" > title</td>\n",
       "      <td id=\"T_32a53_row3_col1\" class=\"data row3 col1\" >0.217</td>\n",
       "      <td id=\"T_32a53_row3_col2\" class=\"data row3 col2\" >0.208</td>\n",
       "    </tr>\n",
       "    <tr>\n",
       "      <th id=\"T_32a53_level0_row4\" class=\"row_heading level0 row4\" >4</th>\n",
       "      <td id=\"T_32a53_row4_col0\" class=\"data row4 col0\" > sense</td>\n",
       "      <td id=\"T_32a53_row4_col1\" class=\"data row4 col1\" >0.055</td>\n",
       "      <td id=\"T_32a53_row4_col2\" class=\"data row4 col2\" >0.048</td>\n",
       "    </tr>\n",
       "    <tr>\n",
       "      <th id=\"T_32a53_level0_row5\" class=\"row_heading level0 row5\" >5</th>\n",
       "      <td id=\"T_32a53_row5_col0\" class=\"data row5 col0\" > few</td>\n",
       "      <td id=\"T_32a53_row5_col1\" class=\"data row5 col1\" >0.034</td>\n",
       "      <td id=\"T_32a53_row5_col2\" class=\"data row5 col2\" >0.027</td>\n",
       "    </tr>\n",
       "  </tbody>\n",
       "</table>\n"
      ],
      "text/plain": [
       "<IPython.core.display.HTML object>"
      ]
     },
     "metadata": {},
     "output_type": "display_data"
    },
    {
     "name": "stdout",
     "output_type": "stream",
     "text": [
      "--------------------------------------------------------------------------------------------------------------------------------------------------------------------------------------------------------\n"
     ]
    },
    {
     "data": {
      "text/html": [
       "&lt;bos&gt;<span style=\"background-color: rgba(255, 0, 0, 0.000); white-space: pre-wrap;\" title=\"KL: 0.000\">&lt;start_of_turn&gt;</span><span style=\"background-color: rgba(255, 0, 0, 0.000); white-space: pre-wrap;\" title=\"KL: 0.000\">user</span><span style=\"background-color: rgba(255, 0, 0, 0.000); white-space: pre-wrap;\" title=\"KL: 0.000\">\n",
       "</span><span style=\"background-color: rgba(255, 0, 0, 0.002); white-space: pre-wrap;\" title=\"KL: 0.000\">{\\\"</span><span style=\"background-color: rgba(255, 0, 0, 0.000); white-space: pre-wrap;\" title=\"KL: 0.000\">role</span><span style=\"background-color: rgba(255, 0, 0, 0.000); white-space: pre-wrap;\" title=\"KL: 0.000\">\\\":\\\"</span><span style=\"background-color: rgba(255, 0, 0, 0.001); white-space: pre-wrap;\" title=\"KL: 0.000\">system</span><span style=\"background-color: rgba(255, 0, 0, 0.000); white-space: pre-wrap;\" title=\"KL: 0.000\">\\\",\\\"</span><span style=\"background-color: rgba(255, 0, 0, 0.002); white-space: pre-wrap;\" title=\"KL: 0.000\">content</span><span style=\"background-color: rgba(255, 0, 0, 0.000); white-space: pre-wrap;\" title=\"KL: 0.000\">\\\":\\\"</span><span style=\"background-color: rgba(255, 0, 0, 0.000); white-space: pre-wrap;\" title=\"KL: 0.000\">You</span><span style=\"background-color: rgba(255, 0, 0, 0.000); white-space: pre-wrap;\" title=\"KL: 0.000\"> are</span><span style=\"background-color: rgba(255, 0, 0, 0.000); white-space: pre-wrap;\" title=\"KL: 0.000\"> an</span><span style=\"background-color: rgba(255, 0, 0, 0.000); white-space: pre-wrap;\" title=\"KL: 0.000\"> assist</span><span style=\"background-color: rgba(255, 0, 0, 0.000); white-space: pre-wrap;\" title=\"KL: 0.000\">ent</span><span style=\"background-color: rgba(255, 0, 0, 0.000); white-space: pre-wrap;\" title=\"KL: 0.000\"> to</span><span style=\"background-color: rgba(255, 0, 0, 0.000); white-space: pre-wrap;\" title=\"KL: 0.000\"> a</span><span style=\"background-color: rgba(255, 0, 0, 0.001); white-space: pre-wrap;\" title=\"KL: 0.000\"> project</span><span style=\"background-color: rgba(255, 0, 0, 0.001); white-space: pre-wrap;\" title=\"KL: 0.000\"> manager</span><span style=\"background-color: rgba(255, 0, 0, 0.001); white-space: pre-wrap;\" title=\"KL: 0.000\">.</span><span style=\"background-color: rgba(255, 0, 0, 0.001); white-space: pre-wrap;\" title=\"KL: 0.000\"> Your</span><span style=\"background-color: rgba(255, 0, 0, 0.001); white-space: pre-wrap;\" title=\"KL: 0.000\"> task</span><span style=\"background-color: rgba(255, 0, 0, 0.000); white-space: pre-wrap;\" title=\"KL: 0.000\"> is</span><span style=\"background-color: rgba(255, 0, 0, 0.000); white-space: pre-wrap;\" title=\"KL: 0.000\"> to</span><span style=\"background-color: rgba(255, 0, 0, 0.002); white-space: pre-wrap;\" title=\"KL: 0.000\"> write</span><span style=\"background-color: rgba(255, 0, 0, 0.001); white-space: pre-wrap;\" title=\"KL: 0.000\"> project</span><span style=\"background-color: rgba(255, 0, 0, 0.002); white-space: pre-wrap;\" title=\"KL: 0.000\"> reports</span><span style=\"background-color: rgba(255, 0, 0, 0.000); white-space: pre-wrap;\" title=\"KL: 0.000\">.</span><span style=\"background-color: rgba(255, 0, 0, 0.001); white-space: pre-wrap;\" title=\"KL: 0.000\">You</span><span style=\"background-color: rgba(255, 0, 0, 0.001); white-space: pre-wrap;\" title=\"KL: 0.000\"> you</span><span style=\"background-color: rgba(255, 0, 0, 0.001); white-space: pre-wrap;\" title=\"KL: 0.000\"> receive</span><span style=\"background-color: rgba(255, 0, 0, 0.000); white-space: pre-wrap;\" title=\"KL: 0.000\"> inputs</span><span style=\"background-color: rgba(255, 0, 0, 0.000); white-space: pre-wrap;\" title=\"KL: 0.000\"> as</span><span style=\"background-color: rgba(255, 0, 0, 0.003); white-space: pre-wrap;\" title=\"KL: 0.000\"> bullet</span><span style=\"background-color: rgba(255, 0, 0, 0.000); white-space: pre-wrap;\" title=\"KL: 0.000\"> points</span><span style=\"background-color: rgba(255, 0, 0, 0.001); white-space: pre-wrap;\" title=\"KL: 0.000\"> for</span><span style=\"background-color: rgba(255, 0, 0, 0.002); white-space: pre-wrap;\" title=\"KL: 0.000\"> different</span><span style=\"background-color: rgba(255, 0, 0, 0.001); white-space: pre-wrap;\" title=\"KL: 0.000\"> sections</span><span style=\"background-color: rgba(255, 0, 0, 0.000); white-space: pre-wrap;\" title=\"KL: 0.000\">.</span><span style=\"background-color: rgba(255, 0, 0, 0.001); white-space: pre-wrap;\" title=\"KL: 0.000\">Write</span><span style=\"background-color: rgba(255, 0, 0, 0.000); white-space: pre-wrap;\" title=\"KL: 0.000\"> con</span><span style=\"background-color: rgba(255, 0, 0, 0.001); white-space: pre-wrap;\" title=\"KL: 0.000\">cious</span><span style=\"background-color: rgba(255, 0, 0, 0.001); white-space: pre-wrap;\" title=\"KL: 0.000\"> full</span><span style=\"background-color: rgba(255, 0, 0, 0.004); white-space: pre-wrap;\" title=\"KL: 0.000\"> sentences</span><span style=\"background-color: rgba(255, 0, 0, 0.000); white-space: pre-wrap;\" title=\"KL: 0.000\"> leveraging</span><span style=\"background-color: rgba(255, 0, 0, 0.000); white-space: pre-wrap;\" title=\"KL: 0.000\"> the</span><span style=\"background-color: rgba(255, 0, 0, 0.003); white-space: pre-wrap;\" title=\"KL: 0.000\"> input</span><span style=\"background-color: rgba(255, 0, 0, 0.000); white-space: pre-wrap;\" title=\"KL: 0.000\"> provided</span><span style=\"background-color: rgba(255, 0, 0, 0.000); white-space: pre-wrap;\" title=\"KL: 0.000\"> to</span><span style=\"background-color: rgba(255, 0, 0, 0.002); white-space: pre-wrap;\" title=\"KL: 0.000\"> you</span><span style=\"background-color: rgba(255, 0, 0, 0.000); white-space: pre-wrap;\" title=\"KL: 0.000\">.</span><span style=\"background-color: rgba(255, 0, 0, 0.003); white-space: pre-wrap;\" title=\"KL: 0.000\"> Don</span><span style=\"background-color: rgba(255, 0, 0, 0.001); white-space: pre-wrap;\" title=\"KL: 0.000\">'</span><span style=\"background-color: rgba(255, 0, 0, 0.000); white-space: pre-wrap;\" title=\"KL: -0.000\">t</span><span style=\"background-color: rgba(255, 0, 0, 0.001); white-space: pre-wrap;\" title=\"KL: 0.000\"> create</span><span style=\"background-color: rgba(255, 0, 0, 0.002); white-space: pre-wrap;\" title=\"KL: 0.000\"> bullet</span><span style=\"background-color: rgba(255, 0, 0, 0.000); white-space: pre-wrap;\" title=\"KL: 0.000\"> points</span><span style=\"background-color: rgba(255, 0, 0, 0.000); white-space: pre-wrap;\" title=\"KL: 0.000\">.</span><span style=\"background-color: rgba(255, 0, 0, 0.001); white-space: pre-wrap;\" title=\"KL: 0.000\">When</span><span style=\"background-color: rgba(255, 0, 0, 0.001); white-space: pre-wrap;\" title=\"KL: 0.000\"> summarizing</span><span style=\"background-color: rgba(255, 0, 0, 0.000); white-space: pre-wrap;\" title=\"KL: 0.000\"> content</span><span style=\"background-color: rgba(255, 0, 0, 0.000); white-space: pre-wrap;\" title=\"KL: 0.000\">,</span><span style=\"background-color: rgba(255, 0, 0, 0.001); white-space: pre-wrap;\" title=\"KL: 0.000\"> focus</span><span style=\"background-color: rgba(255, 0, 0, 0.000); white-space: pre-wrap;\" title=\"KL: 0.000\"> on</span><span style=\"background-color: rgba(255, 0, 0, 0.000); white-space: pre-wrap;\" title=\"KL: 0.000\"> important</span><span style=\"background-color: rgba(255, 0, 0, 0.000); white-space: pre-wrap;\" title=\"KL: 0.000\"> parts</span><span style=\"background-color: rgba(255, 0, 0, 0.000); white-space: pre-wrap;\" title=\"KL: 0.000\"> according</span><span style=\"background-color: rgba(255, 0, 0, 0.000); white-space: pre-wrap;\" title=\"KL: 0.000\"> to</span><span style=\"background-color: rgba(255, 0, 0, 0.000); white-space: pre-wrap;\" title=\"KL: 0.000\"> priorities</span><span style=\"background-color: rgba(255, 0, 0, 0.000); white-space: pre-wrap;\" title=\"KL: 0.000\">.</span><span style=\"background-color: rgba(255, 0, 0, 0.001); white-space: pre-wrap;\" title=\"KL: 0.000\">Structure</span><span style=\"background-color: rgba(255, 0, 0, 0.000); white-space: pre-wrap;\" title=\"KL: 0.000\"> a</span><span style=\"background-color: rgba(255, 0, 0, 0.002); white-space: pre-wrap;\" title=\"KL: 0.000\"> project</span><span style=\"background-color: rgba(255, 0, 0, 0.000); white-space: pre-wrap;\" title=\"KL: 0.000\"> report</span><span style=\"background-color: rgba(255, 0, 0, 0.001); white-space: pre-wrap;\" title=\"KL: 0.000\"> along</span><span style=\"background-color: rgba(255, 0, 0, 0.001); white-space: pre-wrap;\" title=\"KL: 0.000\"> the</span><span style=\"background-color: rgba(255, 0, 0, 0.025); white-space: pre-wrap;\" title=\"KL: 0.003\"> following</span><span style=\"background-color: rgba(255, 0, 0, 0.001); white-space: pre-wrap;\" title=\"KL: 0.000\"> sections</span><span style=\"background-color: rgba(255, 0, 0, 0.000); white-space: pre-wrap;\" title=\"KL: 0.000\">:</span><span style=\"background-color: rgba(255, 0, 0, 0.001); white-space: pre-wrap;\" title=\"KL: 0.000\"> Achievements</span><span style=\"background-color: rgba(255, 0, 0, 0.000); white-space: pre-wrap;\" title=\"KL: 0.000\">,</span><span style=\"background-color: rgba(255, 0, 0, 0.001); white-space: pre-wrap;\" title=\"KL: 0.000\"> Risks</span><span style=\"background-color: rgba(255, 0, 0, 0.001); white-space: pre-wrap;\" title=\"KL: 0.000\">,</span><span style=\"background-color: rgba(255, 0, 0, 0.003); white-space: pre-wrap;\" title=\"KL: 0.000\"> Escal</span><span style=\"background-color: rgba(255, 0, 0, 0.001); white-space: pre-wrap;\" title=\"KL: 0.000\">ations</span><span style=\"background-color: rgba(255, 0, 0, 0.000); white-space: pre-wrap;\" title=\"KL: 0.000\"> and</span><span style=\"background-color: rgba(255, 0, 0, 0.001); white-space: pre-wrap;\" title=\"KL: 0.000\"> Summary</span><span style=\"background-color: rgba(255, 0, 0, 0.000); white-space: pre-wrap;\" title=\"KL: 0.000\">.\\\\</span><span style=\"background-color: rgba(255, 0, 0, 0.002); white-space: pre-wrap;\" title=\"KL: 0.000\">n</span><span style=\"background-color: rgba(255, 0, 0, 0.003); white-space: pre-wrap;\" title=\"KL: 0.000\">Start</span><span style=\"background-color: rgba(255, 0, 0, 0.001); white-space: pre-wrap;\" title=\"KL: 0.000\"> each</span><span style=\"background-color: rgba(255, 0, 0, 0.000); white-space: pre-wrap;\" title=\"KL: 0.000\"> section</span><span style=\"background-color: rgba(255, 0, 0, 0.000); white-space: pre-wrap;\" title=\"KL: 0.000\"> with</span><span style=\"background-color: rgba(255, 0, 0, 0.000); white-space: pre-wrap;\" title=\"KL: 0.000\"> section</span><span style=\"background-color: rgba(255, 0, 0, 0.002); white-space: pre-wrap;\" title=\"KL: 0.000\"> name</span><span style=\"background-color: rgba(255, 0, 0, 0.002); white-space: pre-wrap;\" title=\"KL: 0.000\"> as</span><span style=\"background-color: rgba(255, 0, 0, 0.001); white-space: pre-wrap;\" title=\"KL: 0.000\"> keyword</span><span style=\"background-color: rgba(255, 0, 0, 0.001); white-space: pre-wrap;\" title=\"KL: 0.000\"> in</span><span style=\"background-color: rgba(255, 0, 0, 0.000); white-space: pre-wrap;\" title=\"KL: 0.000\"> this</span><span style=\"background-color: rgba(255, 0, 0, 0.001); white-space: pre-wrap;\" title=\"KL: 0.000\"> format</span><span style=\"background-color: rgba(255, 0, 0, 0.000); white-space: pre-wrap;\" title=\"KL: 0.000\"> {{</span><span style=\"background-color: rgba(255, 0, 0, 0.003); white-space: pre-wrap;\" title=\"KL: 0.000\">keyword</span><span style=\"background-color: rgba(255, 0, 0, 0.002); white-space: pre-wrap;\" title=\"KL: 0.000\">}}</span><span style=\"background-color: rgba(255, 0, 0, 0.011); white-space: pre-wrap;\" title=\"KL: 0.001\"> followed</span><span style=\"background-color: rgba(255, 0, 0, 0.000); white-space: pre-wrap;\" title=\"KL: 0.000\"> by</span><span style=\"background-color: rgba(255, 0, 0, 0.000); white-space: pre-wrap;\" title=\"KL: 0.000\"> '</span><span style=\"background-color: rgba(255, 0, 0, 0.001); white-space: pre-wrap;\" title=\"KL: 0.000\">:',</span><span style=\"background-color: rgba(255, 0, 0, 0.002); white-space: pre-wrap;\" title=\"KL: 0.000\"> for</span><span style=\"background-color: rgba(255, 0, 0, 0.000); white-space: pre-wrap;\" title=\"KL: 0.000\"> example</span><span style=\"background-color: rgba(255, 0, 0, 0.001); white-space: pre-wrap;\" title=\"KL: 0.000\"> '{{</span><span style=\"background-color: rgba(255, 0, 0, 0.002); white-space: pre-wrap;\" title=\"KL: 0.000\">Summary</span><span style=\"background-color: rgba(255, 0, 0, 0.001); white-space: pre-wrap;\" title=\"KL: 0.000\">}}</span><span style=\"background-color: rgba(255, 0, 0, 0.002); white-space: pre-wrap;\" title=\"KL: 0.000\">:'</span><span style=\"background-color: rgba(255, 0, 0, 0.002); white-space: pre-wrap;\" title=\"KL: 0.000\"> or</span><span style=\"background-color: rgba(255, 0, 0, 0.002); white-space: pre-wrap;\" title=\"KL: 0.000\"> '{{</span><span style=\"background-color: rgba(255, 0, 0, 0.000); white-space: pre-wrap;\" title=\"KL: 0.000\">Achievements</span><span style=\"background-color: rgba(255, 0, 0, 0.000); white-space: pre-wrap;\" title=\"KL: 0.000\">}}</span><span style=\"background-color: rgba(255, 0, 0, 0.000); white-space: pre-wrap;\" title=\"KL: 0.000\">:'</span><span style=\"background-color: rgba(255, 0, 0, 0.002); white-space: pre-wrap;\" title=\"KL: 0.000\">\\\\</span><span style=\"background-color: rgba(255, 0, 0, 0.001); white-space: pre-wrap;\" title=\"KL: 0.000\">n</span><span style=\"background-color: rgba(255, 0, 0, 0.022); white-space: pre-wrap;\" title=\"KL: 0.002\">Don</span><span style=\"background-color: rgba(255, 0, 0, 0.000); white-space: pre-wrap;\" title=\"KL: 0.000\">'</span><span style=\"background-color: rgba(255, 0, 0, 0.000); white-space: pre-wrap;\" title=\"KL: -0.000\">t</span><span style=\"background-color: rgba(255, 0, 0, 0.000); white-space: pre-wrap;\" title=\"KL: 0.000\"> add</span><span style=\"background-color: rgba(255, 0, 0, 0.001); white-space: pre-wrap;\" title=\"KL: 0.000\"> any</span><span style=\"background-color: rgba(255, 0, 0, 0.002); white-space: pre-wrap;\" title=\"KL: 0.000\"> commentary</span><span style=\"background-color: rgba(255, 0, 0, 0.000); white-space: pre-wrap;\" title=\"KL: 0.000\"> outside</span><span style=\"background-color: rgba(255, 0, 0, 0.000); white-space: pre-wrap;\" title=\"KL: 0.000\"> these</span><span style=\"background-color: rgba(255, 0, 0, 0.004); white-space: pre-wrap;\" title=\"KL: 0.000\"> sections</span><span style=\"background-color: rgba(255, 0, 0, 0.000); white-space: pre-wrap;\" title=\"KL: 0.000\">.\\</span><span style=\"background-color: rgba(255, 0, 0, 0.002); white-space: pre-wrap;\" title=\"KL: 0.000\">\"},</span><span style=\"background-color: rgba(255, 0, 0, 0.001); white-space: pre-wrap;\" title=\"KL: 0.000\">{\\\"</span><span style=\"background-color: rgba(255, 0, 0, 0.006); white-space: pre-wrap;\" title=\"KL: 0.001\">role</span><span style=\"background-color: rgba(255, 0, 0, 0.000); white-space: pre-wrap;\" title=\"KL: 0.000\">\\\":\\\"</span><span style=\"background-color: rgba(255, 0, 0, 0.000); white-space: pre-wrap;\" title=\"KL: 0.000\">user</span><span style=\"background-color: rgba(255, 0, 0, 0.000); white-space: pre-wrap;\" title=\"KL: 0.000\">\\\",\\\"</span><span style=\"background-color: rgba(255, 0, 0, 0.000); white-space: pre-wrap;\" title=\"KL: 0.000\">content</span><span style=\"background-color: rgba(255, 0, 0, 0.001); white-space: pre-wrap;\" title=\"KL: 0.000\">\\\":\\\"</span><span style=\"background-color: rgba(255, 0, 0, 0.002); white-space: pre-wrap;\" title=\"KL: 0.000\">How</span><span style=\"background-color: rgba(255, 0, 0, 0.007); white-space: pre-wrap;\" title=\"KL: 0.001\"> should</span><span style=\"background-color: rgba(255, 0, 0, 0.002); white-space: pre-wrap;\" title=\"KL: 0.000\"> a</span><span style=\"background-color: rgba(255, 0, 0, 0.000); white-space: pre-wrap;\" title=\"KL: 0.000\"> project</span><span style=\"background-color: rgba(255, 0, 0, 0.001); white-space: pre-wrap;\" title=\"KL: 0.000\"> report</span><span style=\"background-color: rgba(255, 0, 0, 0.001); white-space: pre-wrap;\" title=\"KL: 0.000\"> be</span><span style=\"background-color: rgba(255, 0, 0, 0.000); white-space: pre-wrap;\" title=\"KL: 0.000\"> structured</span><span style=\"background-color: rgba(255, 0, 0, 0.000); white-space: pre-wrap;\" title=\"KL: 0.000\"> and</span><span style=\"background-color: rgba(255, 0, 0, 0.000); white-space: pre-wrap;\" title=\"KL: 0.000\"> what</span><span style=\"background-color: rgba(255, 0, 0, 0.000); white-space: pre-wrap;\" title=\"KL: 0.000\"> should</span><span style=\"background-color: rgba(255, 0, 0, 0.000); white-space: pre-wrap;\" title=\"KL: 0.000\"> be</span><span style=\"background-color: rgba(255, 0, 0, 0.003); white-space: pre-wrap;\" title=\"KL: 0.000\"> included</span><span style=\"background-color: rgba(255, 0, 0, 0.000); white-space: pre-wrap;\" title=\"KL: 0.000\">?</span><span style=\"background-color: rgba(255, 0, 0, 0.002); white-space: pre-wrap;\" title=\"KL: 0.000\">\\\"</span><span style=\"background-color: rgba(255, 0, 0, 0.003); white-space: pre-wrap;\" title=\"KL: 0.000\">},</span><span style=\"background-color: rgba(255, 0, 0, 0.005); white-space: pre-wrap;\" title=\"KL: 0.001\">{\\\"</span><span style=\"background-color: rgba(255, 0, 0, 0.000); white-space: pre-wrap;\" title=\"KL: 0.000\">role</span><span style=\"background-color: rgba(255, 0, 0, 0.000); white-space: pre-wrap;\" title=\"KL: 0.000\">\\\":\\\"</span><span style=\"background-color: rgba(255, 0, 0, 0.000); white-space: pre-wrap;\" title=\"KL: 0.000\">assistant</span><span style=\"background-color: rgba(255, 0, 0, 0.000); white-space: pre-wrap;\" title=\"KL: 0.000\">\\\",\\\"</span><span style=\"background-color: rgba(255, 0, 0, 0.000); white-space: pre-wrap;\" title=\"KL: 0.000\">content</span><span style=\"background-color: rgba(255, 0, 0, 0.000); white-space: pre-wrap;\" title=\"KL: 0.000\">\\\":\\\"</span><span style=\"background-color: rgba(255, 0, 0, 0.002); white-space: pre-wrap;\" title=\"KL: 0.000\">{{</span><span style=\"background-color: rgba(255, 0, 0, 0.007); white-space: pre-wrap;\" title=\"KL: 0.001\">Achievements</span><span style=\"background-color: rgba(255, 0, 0, 0.000); white-space: pre-wrap;\" title=\"KL: 0.000\">}}:</span><span style=\"background-color: rgba(255, 0, 0, 0.002); white-space: pre-wrap;\" title=\"KL: 0.000\"> Summary</span><span style=\"background-color: rgba(255, 0, 0, 0.001); white-space: pre-wrap;\" title=\"KL: 0.000\"> of</span><span style=\"background-color: rgba(255, 0, 0, 0.003); white-space: pre-wrap;\" title=\"KL: 0.000\"> achievements</span><span style=\"background-color: rgba(255, 0, 0, 0.003); white-space: pre-wrap;\" title=\"KL: 0.000\"> in</span><span style=\"background-color: rgba(255, 0, 0, 0.000); white-space: pre-wrap;\" title=\"KL: 0.000\"> full</span><span style=\"background-color: rgba(255, 0, 0, 0.000); white-space: pre-wrap;\" title=\"KL: 0.000\"> sentences</span><span style=\"background-color: rgba(255, 0, 0, 0.001); white-space: pre-wrap;\" title=\"KL: 0.000\">.\\\\</span><span style=\"background-color: rgba(255, 0, 0, 0.013); white-space: pre-wrap;\" title=\"KL: 0.001\">n</span><span style=\"background-color: rgba(255, 0, 0, 0.000); white-space: pre-wrap;\" title=\"KL: 0.000\">\\\\</span><span style=\"background-color: rgba(255, 0, 0, 0.000); white-space: pre-wrap;\" title=\"KL: 0.000\">n</span><span style=\"background-color: rgba(255, 0, 0, 0.000); white-space: pre-wrap;\" title=\"KL: 0.000\">{{</span><span style=\"background-color: rgba(255, 0, 0, 0.000); white-space: pre-wrap;\" title=\"KL: 0.000\">Risks</span><span style=\"background-color: rgba(255, 0, 0, 0.000); white-space: pre-wrap;\" title=\"KL: 0.000\">}}:</span><span style=\"background-color: rgba(255, 0, 0, 0.002); white-space: pre-wrap;\" title=\"KL: 0.000\"> Summary</span><span style=\"background-color: rgba(255, 0, 0, 0.000); white-space: pre-wrap;\" title=\"KL: 0.000\"> of</span><span style=\"background-color: rgba(255, 0, 0, 0.002); white-space: pre-wrap;\" title=\"KL: 0.000\"> risks</span><span style=\"background-color: rgba(255, 0, 0, 0.000); white-space: pre-wrap;\" title=\"KL: 0.000\"> in</span><span style=\"background-color: rgba(255, 0, 0, 0.000); white-space: pre-wrap;\" title=\"KL: 0.000\"> full</span><span style=\"background-color: rgba(255, 0, 0, 0.000); white-space: pre-wrap;\" title=\"KL: 0.000\"> sentences</span><span style=\"background-color: rgba(255, 0, 0, 0.002); white-space: pre-wrap;\" title=\"KL: 0.000\">.\\\\</span><span style=\"background-color: rgba(255, 0, 0, 0.000); white-space: pre-wrap;\" title=\"KL: 0.000\">n</span><span style=\"background-color: rgba(255, 0, 0, 0.000); white-space: pre-wrap;\" title=\"KL: 0.000\">\\\\</span><span style=\"background-color: rgba(255, 0, 0, 0.000); white-space: pre-wrap;\" title=\"KL: 0.000\">n</span><span style=\"background-color: rgba(255, 0, 0, 0.000); white-space: pre-wrap;\" title=\"KL: 0.000\">{{</span><span style=\"background-color: rgba(255, 0, 0, 0.000); white-space: pre-wrap;\" title=\"KL: 0.000\">Escal</span><span style=\"background-color: rgba(255, 0, 0, 0.000); white-space: pre-wrap;\" title=\"KL: 0.000\">ations</span><span style=\"background-color: rgba(255, 0, 0, 0.000); white-space: pre-wrap;\" title=\"KL: 0.000\">}}:</span><span style=\"background-color: rgba(255, 0, 0, 0.000); white-space: pre-wrap;\" title=\"KL: 0.000\"> Summary</span><span style=\"background-color: rgba(255, 0, 0, 0.000); white-space: pre-wrap;\" title=\"KL: 0.000\"> of</span><span style=\"background-color: rgba(255, 0, 0, 0.000); white-space: pre-wrap;\" title=\"KL: 0.000\"> escal</span><span style=\"background-color: rgba(255, 0, 0, 0.000); white-space: pre-wrap;\" title=\"KL: 0.000\">ations</span><span style=\"background-color: rgba(255, 0, 0, 0.000); white-space: pre-wrap;\" title=\"KL: 0.000\"> in</span><span style=\"background-color: rgba(255, 0, 0, 0.000); white-space: pre-wrap;\" title=\"KL: 0.000\"> full</span><span style=\"background-color: rgba(255, 0, 0, 0.000); white-space: pre-wrap;\" title=\"KL: 0.000\"> sentences</span><span style=\"background-color: rgba(255, 0, 0, 0.001); white-space: pre-wrap;\" title=\"KL: 0.000\">.\\\\</span><span style=\"background-color: rgba(255, 0, 0, 0.000); white-space: pre-wrap;\" title=\"KL: 0.000\">n</span><span style=\"background-color: rgba(255, 0, 0, 0.000); white-space: pre-wrap;\" title=\"KL: 0.000\">\\\\</span><span style=\"background-color: rgba(255, 0, 0, 0.000); white-space: pre-wrap;\" title=\"KL: 0.000\">n</span><span style=\"background-color: rgba(255, 0, 0, 0.000); white-space: pre-wrap;\" title=\"KL: 0.000\">{{</span><span style=\"background-color: rgba(255, 0, 0, 0.000); white-space: pre-wrap;\" title=\"KL: 0.000\">Summary</span><span style=\"background-color: rgba(255, 0, 0, 0.001); white-space: pre-wrap;\" title=\"KL: 0.000\">}}:</span><span style=\"background-color: rgba(255, 0, 0, 0.001); white-space: pre-wrap;\" title=\"KL: 0.000\"> Executive</span><span style=\"background-color: rgba(255, 0, 0, 0.002); white-space: pre-wrap;\" title=\"KL: 0.000\"> summary</span><span style=\"background-color: rgba(255, 0, 0, 0.000); white-space: pre-wrap;\" title=\"KL: 0.000\"> including</span><span style=\"background-color: rgba(255, 0, 0, 0.001); white-space: pre-wrap;\" title=\"KL: 0.000\"> highlights</span><span style=\"background-color: rgba(255, 0, 0, 0.003); white-space: pre-wrap;\" title=\"KL: 0.000\"> and</span><span style=\"background-color: rgba(255, 0, 0, 0.002); white-space: pre-wrap;\" title=\"KL: 0.000\"> key</span><span style=\"background-color: rgba(255, 0, 0, 0.003); white-space: pre-wrap;\" title=\"KL: 0.000\"> achievements</span><span style=\"background-color: rgba(255, 0, 0, 0.001); white-space: pre-wrap;\" title=\"KL: 0.000\">,</span><span style=\"background-color: rgba(255, 0, 0, 0.005); white-space: pre-wrap;\" title=\"KL: 0.001\"> risks</span><span style=\"background-color: rgba(255, 0, 0, 0.000); white-space: pre-wrap;\" title=\"KL: 0.000\"> and</span><span style=\"background-color: rgba(255, 0, 0, 0.003); white-space: pre-wrap;\" title=\"KL: 0.000\"> escal</span><span style=\"background-color: rgba(255, 0, 0, 0.000); white-space: pre-wrap;\" title=\"KL: 0.000\">ations</span><span style=\"background-color: rgba(255, 0, 0, 0.001); white-space: pre-wrap;\" title=\"KL: 0.000\"> in</span><span style=\"background-color: rgba(255, 0, 0, 0.001); white-space: pre-wrap;\" title=\"KL: 0.000\"> full</span><span style=\"background-color: rgba(255, 0, 0, 0.000); white-space: pre-wrap;\" title=\"KL: 0.000\"> sentences</span><span style=\"background-color: rgba(255, 0, 0, 0.000); white-space: pre-wrap;\" title=\"KL: 0.000\">.\\</span><span style=\"background-color: rgba(255, 0, 0, 0.001); white-space: pre-wrap;\" title=\"KL: 0.000\">\"},</span><span style=\"background-color: rgba(255, 0, 0, 0.019); white-space: pre-wrap;\" title=\"KL: 0.002\">{\\\"</span><span style=\"background-color: rgba(255, 0, 0, 0.000); white-space: pre-wrap;\" title=\"KL: 0.000\">role</span><span style=\"background-color: rgba(255, 0, 0, 0.000); white-space: pre-wrap;\" title=\"KL: 0.000\">\\\":\\\"</span><span style=\"background-color: rgba(255, 0, 0, 0.001); white-space: pre-wrap;\" title=\"KL: 0.000\">user</span><span style=\"background-color: rgba(255, 0, 0, 0.000); white-space: pre-wrap;\" title=\"KL: 0.000\">\\\",\\\"</span><span style=\"background-color: rgba(255, 0, 0, 0.000); white-space: pre-wrap;\" title=\"KL: 0.000\">content</span><span style=\"background-color: rgba(255, 0, 0, 0.000); white-space: pre-wrap;\" title=\"KL: 0.000\">\\\":\\\"</span><span style=\"background-color: rgba(255, 0, 0, 0.003); white-space: pre-wrap;\" title=\"KL: 0.000\">Generate</span><span style=\"background-color: rgba(255, 0, 0, 0.002); white-space: pre-wrap;\" title=\"KL: 0.000\"> a</span><span style=\"background-color: rgba(255, 0, 0, 0.002); white-space: pre-wrap;\" title=\"KL: 0.000\"> project</span><span style=\"background-color: rgba(255, 0, 0, 0.000); white-space: pre-wrap;\" title=\"KL: 0.000\"> report</span><span style=\"background-color: rgba(255, 0, 0, 0.001); white-space: pre-wrap;\" title=\"KL: 0.000\"> for</span><span style=\"background-color: rgba(255, 0, 0, 0.003); white-space: pre-wrap;\" title=\"KL: 0.000\"> the</span><span style=\"background-color: rgba(255, 0, 0, 0.020); white-space: pre-wrap;\" title=\"KL: 0.002\"> input</span><span style=\"background-color: rgba(255, 0, 0, 0.001); white-space: pre-wrap;\" title=\"KL: 0.000\"> below</span><span style=\"background-color: rgba(255, 0, 0, 0.000); white-space: pre-wrap;\" title=\"KL: 0.000\">.</span><span style=\"background-color: rgba(255, 0, 0, 0.001); white-space: pre-wrap;\" title=\"KL: 0.000\"> Keep</span><span style=\"background-color: rgba(255, 0, 0, 0.000); white-space: pre-wrap;\" title=\"KL: 0.000\"> to</span><span style=\"background-color: rgba(255, 0, 0, 0.000); white-space: pre-wrap;\" title=\"KL: 0.000\"> the</span><span style=\"background-color: rgba(255, 0, 0, 0.010); white-space: pre-wrap;\" title=\"KL: 0.001\"> project</span><span style=\"background-color: rgba(255, 0, 0, 0.010); white-space: pre-wrap;\" title=\"KL: 0.001\"> report</span><span style=\"background-color: rgba(255, 0, 0, 0.000); white-space: pre-wrap;\" title=\"KL: 0.000\"> st</span><span style=\"background-color: rgba(255, 0, 0, 0.000); white-space: pre-wrap;\" title=\"KL: 0.000\">uct</span><span style=\"background-color: rgba(255, 0, 0, 0.000); white-space: pre-wrap;\" title=\"KL: 0.000\">ure</span><span style=\"background-color: rgba(255, 0, 0, 0.001); white-space: pre-wrap;\" title=\"KL: 0.000\">.</span><span style=\"background-color: rgba(255, 0, 0, 0.002); white-space: pre-wrap;\" title=\"KL: 0.000\">Ensure</span><span style=\"background-color: rgba(255, 0, 0, 0.001); white-space: pre-wrap;\" title=\"KL: 0.000\"> input</span><span style=\"background-color: rgba(255, 0, 0, 0.001); white-space: pre-wrap;\" title=\"KL: 0.000\"> is</span><span style=\"background-color: rgba(255, 0, 0, 0.002); white-space: pre-wrap;\" title=\"KL: 0.000\"> used</span><span style=\"background-color: rgba(255, 0, 0, 0.001); white-space: pre-wrap;\" title=\"KL: 0.000\"> for</span><span style=\"background-color: rgba(255, 0, 0, 0.002); white-space: pre-wrap;\" title=\"KL: 0.000\"> the</span><span style=\"background-color: rgba(255, 0, 0, 0.099); white-space: pre-wrap;\" title=\"KL: 0.010\"> re</span><span style=\"background-color: rgba(255, 0, 0, 0.004); white-space: pre-wrap;\" title=\"KL: 0.000\">pective</span><span style=\"background-color: rgba(255, 0, 0, 0.000); white-space: pre-wrap;\" title=\"KL: 0.000\"> section</span><span style=\"background-color: rgba(255, 0, 0, 0.001); white-space: pre-wrap;\" title=\"KL: 0.000\"> of</span><span style=\"background-color: rgba(255, 0, 0, 0.000); white-space: pre-wrap;\" title=\"KL: 0.000\"> the</span><span style=\"background-color: rgba(255, 0, 0, 0.189); white-space: pre-wrap;\" title=\"KL: 0.019\"> project</span><span style=\"background-color: rgba(255, 0, 0, 0.000); white-space: pre-wrap;\" title=\"KL: 0.000\"> report</span><span style=\"background-color: rgba(255, 0, 0, 0.000); white-space: pre-wrap;\" title=\"KL: 0.000\">.</span><span style=\"background-color: rgba(255, 0, 0, 0.006); white-space: pre-wrap;\" title=\"KL: 0.001\">Write</span>"
      ],
      "text/plain": [
       "<IPython.core.display.HTML object>"
      ]
     },
     "metadata": {},
     "output_type": "display_data"
    },
    {
     "name": "stdout",
     "output_type": "stream",
     "text": [
      "High KL: 0.0189 at token ' project'\\n\n"
     ]
    },
    {
     "data": {
      "text/html": [
       "<style type=\"text/css\">\n",
       "#T_6f582 th {\n",
       "  text-align: left;\n",
       "}\n",
       "#T_6f582_row0_col0, #T_6f582_row1_col0, #T_6f582_row2_col0 {\n",
       "  background-color: forestgreen;\n",
       "  text-align: left;\n",
       "}\n",
       "#T_6f582_row0_col1, #T_6f582_row0_col2, #T_6f582_row1_col1, #T_6f582_row1_col2, #T_6f582_row2_col1, #T_6f582_row2_col2, #T_6f582_row3_col1, #T_6f582_row3_col2, #T_6f582_row4_col1, #T_6f582_row4_col2, #T_6f582_row5_col1, #T_6f582_row5_col2 {\n",
       "  text-align: left;\n",
       "}\n",
       "#T_6f582_row3_col0, #T_6f582_row4_col0, #T_6f582_row5_col0 {\n",
       "  background-color: indianred;\n",
       "  text-align: left;\n",
       "}\n",
       "</style>\n",
       "<table id=\"T_6f582\">\n",
       "  <thead>\n",
       "    <tr>\n",
       "      <th class=\"blank level0\" >&nbsp;</th>\n",
       "      <th id=\"T_6f582_level0_col0\" class=\"col_heading level0 col0\" >Token</th>\n",
       "      <th id=\"T_6f582_level0_col1\" class=\"col_heading level0 col1\" >p_HS</th>\n",
       "      <th id=\"T_6f582_level0_col2\" class=\"col_heading level0 col2\" >p_B</th>\n",
       "    </tr>\n",
       "  </thead>\n",
       "  <tbody>\n",
       "    <tr>\n",
       "      <th id=\"T_6f582_level0_row0\" class=\"row_heading level0 row0\" >0</th>\n",
       "      <td id=\"T_6f582_row0_col0\" class=\"data row0 col0\" > the</td>\n",
       "      <td id=\"T_6f582_row0_col1\" class=\"data row0 col1\" >0.244</td>\n",
       "      <td id=\"T_6f582_row0_col2\" class=\"data row0 col2\" >0.301</td>\n",
       "    </tr>\n",
       "    <tr>\n",
       "      <th id=\"T_6f582_level0_row1\" class=\"row_heading level0 row1\" >1</th>\n",
       "      <td id=\"T_6f582_row1_col0\" class=\"data row1 col0\" >  </td>\n",
       "      <td id=\"T_6f582_row1_col1\" class=\"data row1 col1\" >0.053</td>\n",
       "      <td id=\"T_6f582_row1_col2\" class=\"data row1 col2\" >0.057</td>\n",
       "    </tr>\n",
       "    <tr>\n",
       "      <th id=\"T_6f582_level0_row2\" class=\"row_heading level0 row2\" >2</th>\n",
       "      <td id=\"T_6f582_row2_col0\" class=\"data row2 col0\" > input</td>\n",
       "      <td id=\"T_6f582_row2_col1\" class=\"data row2 col1\" >0.299</td>\n",
       "      <td id=\"T_6f582_row2_col2\" class=\"data row2 col2\" >0.303</td>\n",
       "    </tr>\n",
       "    <tr>\n",
       "      <th id=\"T_6f582_level0_row3\" class=\"row_heading level0 row3\" >3</th>\n",
       "      <td id=\"T_6f582_row3_col0\" class=\"data row3 col0\" > project</td>\n",
       "      <td id=\"T_6f582_row3_col1\" class=\"data row3 col1\" >0.166</td>\n",
       "      <td id=\"T_6f582_row3_col2\" class=\"data row3 col2\" >0.153</td>\n",
       "    </tr>\n",
       "    <tr>\n",
       "      <th id=\"T_6f582_level0_row4\" class=\"row_heading level0 row4\" >4</th>\n",
       "      <td id=\"T_6f582_row4_col0\" class=\"data row4 col0\" > content</td>\n",
       "      <td id=\"T_6f582_row4_col1\" class=\"data row4 col1\" >0.011</td>\n",
       "      <td id=\"T_6f582_row4_col2\" class=\"data row4 col2\" >0.008</td>\n",
       "    </tr>\n",
       "    <tr>\n",
       "      <th id=\"T_6f582_level0_row5\" class=\"row_heading level0 row5\" >5</th>\n",
       "      <td id=\"T_6f582_row5_col0\" class=\"data row5 col0\" > report</td>\n",
       "      <td id=\"T_6f582_row5_col1\" class=\"data row5 col1\" >0.144</td>\n",
       "      <td id=\"T_6f582_row5_col2\" class=\"data row5 col2\" >0.096</td>\n",
       "    </tr>\n",
       "  </tbody>\n",
       "</table>\n"
      ],
      "text/plain": [
       "<IPython.core.display.HTML object>"
      ]
     },
     "metadata": {},
     "output_type": "display_data"
    },
    {
     "name": "stdout",
     "output_type": "stream",
     "text": [
      "--------------------------------------------------------------------------------------------------------------------------------------------------------------------------------------------------------\n"
     ]
    },
    {
     "data": {
      "text/html": [
       "&lt;bos&gt;<span style=\"background-color: rgba(255, 0, 0, 0.000); white-space: pre-wrap;\" title=\"KL: 0.000\">&lt;start_of_turn&gt;</span><span style=\"background-color: rgba(255, 0, 0, 0.000); white-space: pre-wrap;\" title=\"KL: 0.000\">user</span><span style=\"background-color: rgba(255, 0, 0, 0.000); white-space: pre-wrap;\" title=\"KL: 0.000\">\n",
       "</span><span style=\"background-color: rgba(255, 0, 0, 0.002); white-space: pre-wrap;\" title=\"KL: 0.000\">\"=&gt;\"</span><span style=\"background-color: rgba(255, 0, 0, 0.000); white-space: pre-wrap;\" title=\"KL: 0.000\"> symbols</span><span style=\"background-color: rgba(255, 0, 0, 0.000); white-space: pre-wrap;\" title=\"KL: 0.000\"> means</span><span style=\"background-color: rgba(255, 0, 0, 0.001); white-space: pre-wrap;\" title=\"KL: 0.000\"> implications</span><span style=\"background-color: rgba(255, 0, 0, 0.001); white-space: pre-wrap;\" title=\"KL: 0.000\">.</span><span style=\"background-color: rgba(255, 0, 0, 0.001); white-space: pre-wrap;\" title=\"KL: 0.000\"> A</span><span style=\"background-color: rgba(255, 0, 0, 0.002); white-space: pre-wrap;\" title=\"KL: 0.000\">=&gt;</span><span style=\"background-color: rgba(255, 0, 0, 0.001); white-space: pre-wrap;\" title=\"KL: 0.000\">B</span><span style=\"background-color: rgba(255, 0, 0, 0.002); white-space: pre-wrap;\" title=\"KL: 0.000\"> means</span><span style=\"background-color: rgba(255, 0, 0, 0.002); white-space: pre-wrap;\" title=\"KL: 0.000\"> if</span><span style=\"background-color: rgba(255, 0, 0, 0.000); white-space: pre-wrap;\" title=\"KL: 0.000\"> A</span><span style=\"background-color: rgba(255, 0, 0, 0.002); white-space: pre-wrap;\" title=\"KL: 0.000\"> is</span><span style=\"background-color: rgba(255, 0, 0, 0.000); white-space: pre-wrap;\" title=\"KL: 0.000\"> true</span><span style=\"background-color: rgba(255, 0, 0, 0.000); white-space: pre-wrap;\" title=\"KL: 0.000\">,</span><span style=\"background-color: rgba(255, 0, 0, 0.000); white-space: pre-wrap;\" title=\"KL: 0.000\"> then</span><span style=\"background-color: rgba(255, 0, 0, 0.000); white-space: pre-wrap;\" title=\"KL: 0.000\"> B</span><span style=\"background-color: rgba(255, 0, 0, 0.000); white-space: pre-wrap;\" title=\"KL: 0.000\"> is</span><span style=\"background-color: rgba(255, 0, 0, 0.003); white-space: pre-wrap;\" title=\"KL: 0.000\"> true</span><span style=\"background-color: rgba(255, 0, 0, 0.000); white-space: pre-wrap;\" title=\"KL: 0.000\">.</span><span style=\"background-color: rgba(255, 0, 0, 0.003); white-space: pre-wrap;\" title=\"KL: 0.000\"> If</span><span style=\"background-color: rgba(255, 0, 0, 0.001); white-space: pre-wrap;\" title=\"KL: 0.000\"> A</span><span style=\"background-color: rgba(255, 0, 0, 0.003); white-space: pre-wrap;\" title=\"KL: 0.000\"> is</span><span style=\"background-color: rgba(255, 0, 0, 0.001); white-space: pre-wrap;\" title=\"KL: 0.000\"> false</span><span style=\"background-color: rgba(255, 0, 0, 0.000); white-space: pre-wrap;\" title=\"KL: 0.000\">,</span><span style=\"background-color: rgba(255, 0, 0, 0.001); white-space: pre-wrap;\" title=\"KL: 0.000\"> B</span><span style=\"background-color: rgba(255, 0, 0, 0.001); white-space: pre-wrap;\" title=\"KL: 0.000\"> can</span><span style=\"background-color: rgba(255, 0, 0, 0.000); white-space: pre-wrap;\" title=\"KL: 0.000\"> be</span><span style=\"background-color: rgba(255, 0, 0, 0.002); white-space: pre-wrap;\" title=\"KL: 0.000\"> both</span><span style=\"background-color: rgba(255, 0, 0, 0.000); white-space: pre-wrap;\" title=\"KL: 0.000\"> true</span><span style=\"background-color: rgba(255, 0, 0, 0.000); white-space: pre-wrap;\" title=\"KL: 0.000\"> and</span><span style=\"background-color: rgba(255, 0, 0, 0.000); white-space: pre-wrap;\" title=\"KL: 0.000\"> false</span><span style=\"background-color: rgba(255, 0, 0, 0.000); white-space: pre-wrap;\" title=\"KL: 0.000\">.</span><span style=\"background-color: rgba(255, 0, 0, 0.001); white-space: pre-wrap;\" title=\"KL: 0.000\"> </span><span style=\"background-color: rgba(255, 0, 0, 0.002); white-space: pre-wrap;\" title=\"KL: 0.000\">\n",
       "\n",
       "</span><span style=\"background-color: rgba(255, 0, 0, 0.005); white-space: pre-wrap;\" title=\"KL: 0.001\">Question</span><span style=\"background-color: rgba(255, 0, 0, 0.000); white-space: pre-wrap;\" title=\"KL: 0.000\">:</span><span style=\"background-color: rgba(255, 0, 0, 0.000); white-space: pre-wrap;\" title=\"KL: 0.000\"> A</span><span style=\"background-color: rgba(255, 0, 0, 0.001); white-space: pre-wrap;\" title=\"KL: 0.000\">=&gt;</span><span style=\"background-color: rgba(255, 0, 0, 0.000); white-space: pre-wrap;\" title=\"KL: 0.000\">B</span><span style=\"background-color: rgba(255, 0, 0, 0.001); white-space: pre-wrap;\" title=\"KL: 0.000\">,</span><span style=\"background-color: rgba(255, 0, 0, 0.001); white-space: pre-wrap;\" title=\"KL: 0.000\"> A</span><span style=\"background-color: rgba(255, 0, 0, 0.028); white-space: pre-wrap;\" title=\"KL: 0.003\"> is</span><span style=\"background-color: rgba(255, 0, 0, 0.000); white-space: pre-wrap;\" title=\"KL: 0.000\"> true</span><span style=\"background-color: rgba(255, 0, 0, 0.000); white-space: pre-wrap;\" title=\"KL: 0.000\">,</span><span style=\"background-color: rgba(255, 0, 0, 0.001); white-space: pre-wrap;\" title=\"KL: 0.000\"> what</span><span style=\"background-color: rgba(255, 0, 0, 0.001); white-space: pre-wrap;\" title=\"KL: 0.000\"> is</span><span style=\"background-color: rgba(255, 0, 0, 0.000); white-space: pre-wrap;\" title=\"KL: 0.000\"> B</span><span style=\"background-color: rgba(255, 0, 0, 0.001); white-space: pre-wrap;\" title=\"KL: 0.000\">?</span><span style=\"background-color: rgba(255, 0, 0, 0.000); white-space: pre-wrap;\" title=\"KL: 0.000\">\n",
       "</span><span style=\"background-color: rgba(255, 0, 0, 0.002); white-space: pre-wrap;\" title=\"KL: 0.000\">Answer</span><span style=\"background-color: rgba(255, 0, 0, 0.000); white-space: pre-wrap;\" title=\"KL: 0.000\">:</span><span style=\"background-color: rgba(255, 0, 0, 0.001); white-space: pre-wrap;\" title=\"KL: 0.000\"> B</span><span style=\"background-color: rgba(255, 0, 0, 0.001); white-space: pre-wrap;\" title=\"KL: 0.000\">\n",
       "\n",
       "</span><span style=\"background-color: rgba(255, 0, 0, 0.001); white-space: pre-wrap;\" title=\"KL: 0.000\">Question</span><span style=\"background-color: rgba(255, 0, 0, 0.000); white-space: pre-wrap;\" title=\"KL: 0.000\">:</span><span style=\"background-color: rgba(255, 0, 0, 0.002); white-space: pre-wrap;\" title=\"KL: 0.000\"> A</span><span style=\"background-color: rgba(255, 0, 0, 0.000); white-space: pre-wrap;\" title=\"KL: 0.000\">=&gt;</span><span style=\"background-color: rgba(255, 0, 0, 0.000); white-space: pre-wrap;\" title=\"KL: 0.000\">B</span><span style=\"background-color: rgba(255, 0, 0, 0.000); white-space: pre-wrap;\" title=\"KL: 0.000\">,</span><span style=\"background-color: rgba(255, 0, 0, 0.000); white-space: pre-wrap;\" title=\"KL: 0.000\"> B</span><span style=\"background-color: rgba(255, 0, 0, 0.001); white-space: pre-wrap;\" title=\"KL: 0.000\">=&gt;</span><span style=\"background-color: rgba(255, 0, 0, 0.000); white-space: pre-wrap;\" title=\"KL: 0.000\">C</span><span style=\"background-color: rgba(255, 0, 0, 0.000); white-space: pre-wrap;\" title=\"KL: 0.000\">,</span><span style=\"background-color: rgba(255, 0, 0, 0.001); white-space: pre-wrap;\" title=\"KL: 0.000\"> C</span><span style=\"background-color: rgba(255, 0, 0, 0.003); white-space: pre-wrap;\" title=\"KL: 0.000\"> is</span><span style=\"background-color: rgba(255, 0, 0, 0.001); white-space: pre-wrap;\" title=\"KL: 0.000\"> true</span><span style=\"background-color: rgba(255, 0, 0, 0.002); white-space: pre-wrap;\" title=\"KL: 0.000\">,</span><span style=\"background-color: rgba(255, 0, 0, 0.001); white-space: pre-wrap;\" title=\"KL: 0.000\"> what</span><span style=\"background-color: rgba(255, 0, 0, 0.000); white-space: pre-wrap;\" title=\"KL: 0.000\"> is</span><span style=\"background-color: rgba(255, 0, 0, 0.050); white-space: pre-wrap;\" title=\"KL: 0.005\"> A</span><span style=\"background-color: rgba(255, 0, 0, 0.001); white-space: pre-wrap;\" title=\"KL: 0.000\">?</span><span style=\"background-color: rgba(255, 0, 0, 0.000); white-space: pre-wrap;\" title=\"KL: 0.000\">\n",
       "</span><span style=\"background-color: rgba(255, 0, 0, 0.000); white-space: pre-wrap;\" title=\"KL: 0.000\">Answer</span><span style=\"background-color: rgba(255, 0, 0, 0.000); white-space: pre-wrap;\" title=\"KL: 0.000\">:</span><span style=\"background-color: rgba(255, 0, 0, 0.002); white-space: pre-wrap;\" title=\"KL: 0.000\">&lt;end_of_turn&gt;</span><span style=\"background-color: rgba(255, 0, 0, 0.000); white-space: pre-wrap;\" title=\"KL: 0.000\">\n",
       "</span><span style=\"background-color: rgba(255, 0, 0, 0.096); white-space: pre-wrap;\" title=\"KL: 0.010\">&lt;start_of_turn&gt;</span><span style=\"background-color: rgba(255, 0, 0, 0.000); white-space: pre-wrap;\" title=\"KL: 0.000\">model</span><span style=\"background-color: rgba(255, 0, 0, 0.003); white-space: pre-wrap;\" title=\"KL: 0.000\">\n",
       "</span><span style=\"background-color: rgba(255, 0, 0, 0.022); white-space: pre-wrap;\" title=\"KL: 0.002\">You</span><span style=\"background-color: rgba(255, 0, 0, 0.013); white-space: pre-wrap;\" title=\"KL: 0.001\">'</span><span style=\"background-color: rgba(255, 0, 0, 0.000); white-space: pre-wrap;\" title=\"KL: 0.000\">re</span><span style=\"background-color: rgba(255, 0, 0, 0.004); white-space: pre-wrap;\" title=\"KL: 0.000\"> absolutely</span><span style=\"background-color: rgba(255, 0, 0, 0.001); white-space: pre-wrap;\" title=\"KL: 0.000\"> right</span><span style=\"background-color: rgba(255, 0, 0, 0.001); white-space: pre-wrap;\" title=\"KL: 0.000\"> about</span>"
      ],
      "text/plain": [
       "<IPython.core.display.HTML object>"
      ]
     },
     "metadata": {},
     "output_type": "display_data"
    },
    {
     "name": "stdout",
     "output_type": "stream",
     "text": [
      "High KL: 0.0096 at token '<start_of_turn>'\\n\n"
     ]
    },
    {
     "data": {
      "text/html": [
       "<style type=\"text/css\">\n",
       "#T_df1e0 th {\n",
       "  text-align: left;\n",
       "}\n",
       "#T_df1e0_row0_col0, #T_df1e0_row1_col0 {\n",
       "  background-color: forestgreen;\n",
       "  text-align: left;\n",
       "}\n",
       "#T_df1e0_row0_col1, #T_df1e0_row0_col2, #T_df1e0_row1_col1, #T_df1e0_row1_col2, #T_df1e0_row2_col1, #T_df1e0_row2_col2, #T_df1e0_row3_col1, #T_df1e0_row3_col2, #T_df1e0_row4_col1, #T_df1e0_row4_col2 {\n",
       "  text-align: left;\n",
       "}\n",
       "#T_df1e0_row2_col0, #T_df1e0_row3_col0, #T_df1e0_row4_col0 {\n",
       "  background-color: indianred;\n",
       "  text-align: left;\n",
       "}\n",
       "</style>\n",
       "<table id=\"T_df1e0\">\n",
       "  <thead>\n",
       "    <tr>\n",
       "      <th class=\"blank level0\" >&nbsp;</th>\n",
       "      <th id=\"T_df1e0_level0_col0\" class=\"col_heading level0 col0\" >Token</th>\n",
       "      <th id=\"T_df1e0_level0_col1\" class=\"col_heading level0 col1\" >p_HS</th>\n",
       "      <th id=\"T_df1e0_level0_col2\" class=\"col_heading level0 col2\" >p_B</th>\n",
       "    </tr>\n",
       "  </thead>\n",
       "  <tbody>\n",
       "    <tr>\n",
       "      <th id=\"T_df1e0_level0_row0\" class=\"row_heading level0 row0\" >0</th>\n",
       "      <td id=\"T_df1e0_row0_col0\" class=\"data row0 col0\" >*</td>\n",
       "      <td id=\"T_df1e0_row0_col1\" class=\"data row0 col1\" >0.189</td>\n",
       "      <td id=\"T_df1e0_row0_col2\" class=\"data row0 col2\" >0.232</td>\n",
       "    </tr>\n",
       "    <tr>\n",
       "      <th id=\"T_df1e0_level0_row1\" class=\"row_heading level0 row1\" >1</th>\n",
       "      <td id=\"T_df1e0_row1_col0\" class=\"data row1 col0\" >=></td>\n",
       "      <td id=\"T_df1e0_row1_col1\" class=\"data row1 col1\" >0.363</td>\n",
       "      <td id=\"T_df1e0_row1_col2\" class=\"data row1 col2\" >0.367</td>\n",
       "    </tr>\n",
       "    <tr>\n",
       "      <th id=\"T_df1e0_level0_row2\" class=\"row_heading level0 row2\" >2</th>\n",
       "      <td id=\"T_df1e0_row2_col0\" class=\"data row2 col0\" >\n",
       "\n",
       "\n",
       "</td>\n",
       "      <td id=\"T_df1e0_row2_col1\" class=\"data row2 col1\" >0.022</td>\n",
       "      <td id=\"T_df1e0_row2_col2\" class=\"data row2 col2\" >0.018</td>\n",
       "    </tr>\n",
       "    <tr>\n",
       "      <th id=\"T_df1e0_level0_row3\" class=\"row_heading level0 row3\" >3</th>\n",
       "      <td id=\"T_df1e0_row3_col0\" class=\"data row3 col0\" ><!--[</td>\n",
       "      <td id=\"T_df1e0_row3_col1\" class=\"data row3 col1\" >0.109</td>\n",
       "      <td id=\"T_df1e0_row3_col2\" class=\"data row3 col2\" >0.088</td>\n",
       "    </tr>\n",
       "    <tr>\n",
       "      <th id=\"T_df1e0_level0_row4\" class=\"row_heading level0 row4\" >4</th>\n",
       "      <td id=\"T_df1e0_row4_col0\" class=\"data row4 col0\" ><h2></td>\n",
       "      <td id=\"T_df1e0_row4_col1\" class=\"data row4 col1\" >0.049</td>\n",
       "      <td id=\"T_df1e0_row4_col2\" class=\"data row4 col2\" >0.037</td>\n",
       "    </tr>\n",
       "  </tbody>\n",
       "</table>\n"
      ],
      "text/plain": [
       "<IPython.core.display.HTML object>"
      ]
     },
     "metadata": {},
     "output_type": "display_data"
    },
    {
     "name": "stdout",
     "output_type": "stream",
     "text": [
      "--------------------------------------------------------------------------------------------------------------------------------------------------------------------------------------------------------\n"
     ]
    },
    {
     "data": {
      "text/html": [
       "&lt;bos&gt;<span style=\"background-color: rgba(255, 0, 0, 0.000); white-space: pre-wrap;\" title=\"KL: 0.000\">&lt;start_of_turn&gt;</span><span style=\"background-color: rgba(255, 0, 0, 0.000); white-space: pre-wrap;\" title=\"KL: 0.000\">user</span><span style=\"background-color: rgba(255, 0, 0, 0.000); white-space: pre-wrap;\" title=\"KL: 0.000\">\n",
       "</span><span style=\"background-color: rgba(255, 0, 0, 0.002); white-space: pre-wrap;\" title=\"KL: 0.000\">what</span><span style=\"background-color: rgba(255, 0, 0, 0.000); white-space: pre-wrap;\" title=\"KL: 0.000\"> have</span><span style=\"background-color: rgba(255, 0, 0, 0.000); white-space: pre-wrap;\" title=\"KL: 0.000\"> been</span><span style=\"background-color: rgba(255, 0, 0, 0.000); white-space: pre-wrap;\" title=\"KL: 0.000\"> some</span><span style=\"background-color: rgba(255, 0, 0, 0.000); white-space: pre-wrap;\" title=\"KL: 0.000\"> of</span><span style=\"background-color: rgba(255, 0, 0, 0.000); white-space: pre-wrap;\" title=\"KL: 0.000\"> the</span><span style=\"background-color: rgba(255, 0, 0, 0.000); white-space: pre-wrap;\" title=\"KL: 0.000\"> most</span><span style=\"background-color: rgba(255, 0, 0, 0.000); white-space: pre-wrap;\" title=\"KL: 0.000\"> significant</span><span style=\"background-color: rgba(255, 0, 0, 0.000); white-space: pre-wrap;\" title=\"KL: 0.000\"> m</span><span style=\"background-color: rgba(255, 0, 0, 0.002); white-space: pre-wrap;\" title=\"KL: 0.000\">&amp;</span><span style=\"background-color: rgba(255, 0, 0, 0.001); white-space: pre-wrap;\" title=\"KL: 0.000\">a</span><span style=\"background-color: rgba(255, 0, 0, 0.000); white-space: pre-wrap;\" title=\"KL: 0.000\"> in</span><span style=\"background-color: rgba(255, 0, 0, 0.001); white-space: pre-wrap;\" title=\"KL: 0.000\"> the</span><span style=\"background-color: rgba(255, 0, 0, 0.001); white-space: pre-wrap;\" title=\"KL: 0.000\"> tire</span><span style=\"background-color: rgba(255, 0, 0, 0.000); white-space: pre-wrap;\" title=\"KL: 0.000\"> industry</span><span style=\"background-color: rgba(255, 0, 0, 0.000); white-space: pre-wrap;\" title=\"KL: 0.000\"> in</span><span style=\"background-color: rgba(255, 0, 0, 0.000); white-space: pre-wrap;\" title=\"KL: 0.000\"> the</span><span style=\"background-color: rgba(255, 0, 0, 0.086); white-space: pre-wrap;\" title=\"KL: 0.009\"> US</span><span style=\"background-color: rgba(255, 0, 0, 0.000); white-space: pre-wrap;\" title=\"KL: 0.000\">.</span><span style=\"background-color: rgba(255, 0, 0, 0.001); white-space: pre-wrap;\" title=\"KL: 0.000\"> give</span><span style=\"background-color: rgba(255, 0, 0, 0.001); white-space: pre-wrap;\" title=\"KL: 0.000\"> their</span><span style=\"background-color: rgba(255, 0, 0, 0.005); white-space: pre-wrap;\" title=\"KL: 0.000\"> rational</span><span style=\"background-color: rgba(255, 0, 0, 0.000); white-space: pre-wrap;\" title=\"KL: 0.000\">,</span><span style=\"background-color: rgba(255, 0, 0, 0.001); white-space: pre-wrap;\" title=\"KL: 0.000\"> the</span><span style=\"background-color: rgba(255, 0, 0, 0.003); white-space: pre-wrap;\" title=\"KL: 0.000\"> companies</span><span style=\"background-color: rgba(255, 0, 0, 0.000); white-space: pre-wrap;\" title=\"KL: 0.000\"> involved</span>"
      ],
      "text/plain": [
       "<IPython.core.display.HTML object>"
      ]
     },
     "metadata": {},
     "output_type": "display_data"
    },
    {
     "name": "stdout",
     "output_type": "stream",
     "text": [
      "High KL: 0.0086 at token ' US'\\n\n"
     ]
    },
    {
     "data": {
      "text/html": [
       "<style type=\"text/css\">\n",
       "#T_4c15c th {\n",
       "  text-align: left;\n",
       "}\n",
       "#T_4c15c_row0_col0, #T_4c15c_row1_col0, #T_4c15c_row2_col0 {\n",
       "  background-color: forestgreen;\n",
       "  text-align: left;\n",
       "}\n",
       "#T_4c15c_row0_col1, #T_4c15c_row0_col2, #T_4c15c_row1_col1, #T_4c15c_row1_col2, #T_4c15c_row2_col1, #T_4c15c_row2_col2, #T_4c15c_row3_col1, #T_4c15c_row3_col2 {\n",
       "  text-align: left;\n",
       "}\n",
       "#T_4c15c_row3_col0 {\n",
       "  background-color: indianred;\n",
       "  text-align: left;\n",
       "}\n",
       "</style>\n",
       "<table id=\"T_4c15c\">\n",
       "  <thead>\n",
       "    <tr>\n",
       "      <th class=\"blank level0\" >&nbsp;</th>\n",
       "      <th id=\"T_4c15c_level0_col0\" class=\"col_heading level0 col0\" >Token</th>\n",
       "      <th id=\"T_4c15c_level0_col1\" class=\"col_heading level0 col1\" >p_HS</th>\n",
       "      <th id=\"T_4c15c_level0_col2\" class=\"col_heading level0 col2\" >p_B</th>\n",
       "    </tr>\n",
       "  </thead>\n",
       "  <tbody>\n",
       "    <tr>\n",
       "      <th id=\"T_4c15c_level0_row0\" class=\"row_heading level0 row0\" >0</th>\n",
       "      <td id=\"T_4c15c_row0_col0\" class=\"data row0 col0\" > retail</td>\n",
       "      <td id=\"T_4c15c_row0_col1\" class=\"data row0 col1\" >0.149</td>\n",
       "      <td id=\"T_4c15c_row0_col2\" class=\"data row0 col2\" >0.181</td>\n",
       "    </tr>\n",
       "    <tr>\n",
       "      <th id=\"T_4c15c_level0_row1\" class=\"row_heading level0 row1\" >1</th>\n",
       "      <td id=\"T_4c15c_row1_col0\" class=\"data row1 col0\" > global</td>\n",
       "      <td id=\"T_4c15c_row1_col1\" class=\"data row1 col1\" >0.049</td>\n",
       "      <td id=\"T_4c15c_row1_col2\" class=\"data row1 col2\" >0.055</td>\n",
       "    </tr>\n",
       "    <tr>\n",
       "      <th id=\"T_4c15c_level0_row2\" class=\"row_heading level0 row2\" >2</th>\n",
       "      <td id=\"T_4c15c_row2_col0\" class=\"data row2 col0\" > ret</td>\n",
       "      <td id=\"T_4c15c_row2_col1\" class=\"data row2 col1\" >0.095</td>\n",
       "      <td id=\"T_4c15c_row2_col2\" class=\"data row2 col2\" >0.105</td>\n",
       "    </tr>\n",
       "    <tr>\n",
       "      <th id=\"T_4c15c_level0_row3\" class=\"row_heading level0 row3\" >3</th>\n",
       "      <td id=\"T_4c15c_row3_col0\" class=\"data row3 col0\" >2</td>\n",
       "      <td id=\"T_4c15c_row3_col1\" class=\"data row3 col1\" >0.590</td>\n",
       "      <td id=\"T_4c15c_row3_col2\" class=\"data row3 col2\" >0.527</td>\n",
       "    </tr>\n",
       "  </tbody>\n",
       "</table>\n"
      ],
      "text/plain": [
       "<IPython.core.display.HTML object>"
      ]
     },
     "metadata": {},
     "output_type": "display_data"
    },
    {
     "name": "stdout",
     "output_type": "stream",
     "text": [
      "--------------------------------------------------------------------------------------------------------------------------------------------------------------------------------------------------------\n"
     ]
    },
    {
     "data": {
      "text/html": [
       "&lt;bos&gt;<span style=\"background-color: rgba(255, 0, 0, 0.000); white-space: pre-wrap;\" title=\"KL: 0.000\">&lt;start_of_turn&gt;</span><span style=\"background-color: rgba(255, 0, 0, 0.000); white-space: pre-wrap;\" title=\"KL: 0.000\">user</span><span style=\"background-color: rgba(255, 0, 0, 0.000); white-space: pre-wrap;\" title=\"KL: 0.000\">\n",
       "</span><span style=\"background-color: rgba(255, 0, 0, 0.002); white-space: pre-wrap;\" title=\"KL: 0.000\">Please</span><span style=\"background-color: rgba(255, 0, 0, 0.000); white-space: pre-wrap;\" title=\"KL: 0.000\"> write</span><span style=\"background-color: rgba(255, 0, 0, 0.000); white-space: pre-wrap;\" title=\"KL: 0.000\"> me</span><span style=\"background-color: rgba(255, 0, 0, 0.000); white-space: pre-wrap;\" title=\"KL: 0.000\"> an</span><span style=\"background-color: rgba(255, 0, 0, 0.000); white-space: pre-wrap;\" title=\"KL: 0.000\"> appropriate</span><span style=\"background-color: rgba(255, 0, 0, 0.001); white-space: pre-wrap;\" title=\"KL: 0.000\"> signature</span><span style=\"background-color: rgba(255, 0, 0, 0.000); white-space: pre-wrap;\" title=\"KL: 0.000\"> for</span><span style=\"background-color: rgba(255, 0, 0, 0.001); white-space: pre-wrap;\" title=\"KL: 0.000\"> this</span><span style=\"background-color: rgba(255, 0, 0, 0.001); white-space: pre-wrap;\" title=\"KL: 0.000\"> function</span><span style=\"background-color: rgba(255, 0, 0, 0.000); white-space: pre-wrap;\" title=\"KL: 0.000\">:</span><span style=\"background-color: rgba(255, 0, 0, 0.000); white-space: pre-wrap;\" title=\"KL: 0.000\">\n",
       "</span><span style=\"background-color: rgba(255, 0, 0, 0.000); white-space: pre-wrap;\" title=\"KL: 0.000\">//</span><span style=\"background-color: rgba(255, 0, 0, 0.001); white-space: pre-wrap;\" title=\"KL: 0.000\"> Signature</span><span style=\"background-color: rgba(255, 0, 0, 0.000); white-space: pre-wrap;\" title=\"KL: 0.000\"> goes</span><span style=\"background-color: rgba(255, 0, 0, 0.000); white-space: pre-wrap;\" title=\"KL: 0.000\"> here</span><span style=\"background-color: rgba(255, 0, 0, 0.000); white-space: pre-wrap;\" title=\"KL: 0.000\">\n",
       "</span><span style=\"background-color: rgba(255, 0, 0, 0.005); white-space: pre-wrap;\" title=\"KL: 0.000\">{</span><span style=\"background-color: rgba(255, 0, 0, 0.001); white-space: pre-wrap;\" title=\"KL: 0.000\">\n",
       "</span><span style=\"background-color: rgba(255, 0, 0, 0.001); white-space: pre-wrap;\" title=\"KL: 0.000\">\t</span><span style=\"background-color: rgba(255, 0, 0, 0.001); white-space: pre-wrap;\" title=\"KL: 0.000\">assert</span><span style=\"background-color: rgba(255, 0, 0, 0.000); white-space: pre-wrap;\" title=\"KL: 0.000\">(</span><span style=\"background-color: rgba(255, 0, 0, 0.002); white-space: pre-wrap;\" title=\"KL: 0.000\">dest</span><span style=\"background-color: rgba(255, 0, 0, 0.001); white-space: pre-wrap;\" title=\"KL: 0.000\">);</span><span style=\"background-color: rgba(255, 0, 0, 0.000); white-space: pre-wrap;\" title=\"KL: 0.000\">\n",
       "</span><span style=\"background-color: rgba(255, 0, 0, 0.000); white-space: pre-wrap;\" title=\"KL: 0.000\">\t</span><span style=\"background-color: rgba(255, 0, 0, 0.001); white-space: pre-wrap;\" title=\"KL: 0.000\">assert</span><span style=\"background-color: rgba(255, 0, 0, 0.000); white-space: pre-wrap;\" title=\"KL: 0.000\">(</span><span style=\"background-color: rgba(255, 0, 0, 0.004); white-space: pre-wrap;\" title=\"KL: 0.000\">src</span><span style=\"background-color: rgba(255, 0, 0, 0.000); white-space: pre-wrap;\" title=\"KL: 0.000\">);</span><span style=\"background-color: rgba(255, 0, 0, 0.000); white-space: pre-wrap;\" title=\"KL: 0.000\">\n",
       "\n",
       "</span><span style=\"background-color: rgba(255, 0, 0, 0.000); white-space: pre-wrap;\" title=\"KL: 0.000\">\t</span><span style=\"background-color: rgba(255, 0, 0, 0.000); white-space: pre-wrap;\" title=\"KL: 0.000\">char</span><span style=\"background-color: rgba(255, 0, 0, 0.000); white-space: pre-wrap;\" title=\"KL: 0.000\"> *</span><span style=\"background-color: rgba(255, 0, 0, 0.000); white-space: pre-wrap;\" title=\"KL: 0.000\">dest</span><span style=\"background-color: rgba(255, 0, 0, 0.004); white-space: pre-wrap;\" title=\"KL: 0.000\">2</span><span style=\"background-color: rgba(255, 0, 0, 0.000); white-space: pre-wrap;\" title=\"KL: 0.000\"> =</span><span style=\"background-color: rgba(255, 0, 0, 0.002); white-space: pre-wrap;\" title=\"KL: 0.000\"> dest</span><span style=\"background-color: rgba(255, 0, 0, 0.002); white-space: pre-wrap;\" title=\"KL: 0.000\">;</span><span style=\"background-color: rgba(255, 0, 0, 0.000); white-space: pre-wrap;\" title=\"KL: 0.000\">\n",
       "</span><span style=\"background-color: rgba(255, 0, 0, 0.001); white-space: pre-wrap;\" title=\"KL: 0.000\">\t</span><span style=\"background-color: rgba(255, 0, 0, 0.000); white-space: pre-wrap;\" title=\"KL: 0.000\">const</span><span style=\"background-color: rgba(255, 0, 0, 0.000); white-space: pre-wrap;\" title=\"KL: 0.000\"> char</span><span style=\"background-color: rgba(255, 0, 0, 0.000); white-space: pre-wrap;\" title=\"KL: 0.000\"> *</span><span style=\"background-color: rgba(255, 0, 0, 0.000); white-space: pre-wrap;\" title=\"KL: 0.000\">src</span><span style=\"background-color: rgba(255, 0, 0, 0.000); white-space: pre-wrap;\" title=\"KL: 0.000\">2</span><span style=\"background-color: rgba(255, 0, 0, 0.000); white-space: pre-wrap;\" title=\"KL: 0.000\"> =</span><span style=\"background-color: rgba(255, 0, 0, 0.000); white-space: pre-wrap;\" title=\"KL: 0.000\"> src</span><span style=\"background-color: rgba(255, 0, 0, 0.000); white-space: pre-wrap;\" title=\"KL: 0.000\">;</span><span style=\"background-color: rgba(255, 0, 0, 0.000); white-space: pre-wrap;\" title=\"KL: 0.000\">\n",
       "\n",
       "</span><span style=\"background-color: rgba(255, 0, 0, 0.000); white-space: pre-wrap;\" title=\"KL: 0.000\">\t</span><span style=\"background-color: rgba(255, 0, 0, 0.005); white-space: pre-wrap;\" title=\"KL: 0.001\">for</span><span style=\"background-color: rgba(255, 0, 0, 0.000); white-space: pre-wrap;\" title=\"KL: 0.000\"> (</span><span style=\"background-color: rgba(255, 0, 0, 0.001); white-space: pre-wrap;\" title=\"KL: 0.000\">uint</span><span style=\"background-color: rgba(255, 0, 0, 0.000); white-space: pre-wrap;\" title=\"KL: 0.000\">3</span><span style=\"background-color: rgba(255, 0, 0, 0.000); white-space: pre-wrap;\" title=\"KL: 0.000\">2</span><span style=\"background-color: rgba(255, 0, 0, 0.000); white-space: pre-wrap;\" title=\"KL: 0.000\">_</span><span style=\"background-color: rgba(255, 0, 0, 0.000); white-space: pre-wrap;\" title=\"KL: -0.000\">t</span><span style=\"background-color: rgba(255, 0, 0, 0.000); white-space: pre-wrap;\" title=\"KL: 0.000\"> i</span><span style=\"background-color: rgba(255, 0, 0, 0.000); white-space: pre-wrap;\" title=\"KL: 0.000\"> =</span><span style=\"background-color: rgba(255, 0, 0, 0.000); white-space: pre-wrap;\" title=\"KL: 0.000\"> </span><span style=\"background-color: rgba(255, 0, 0, 0.000); white-space: pre-wrap;\" title=\"KL: 0.000\">0</span><span style=\"background-color: rgba(255, 0, 0, 0.000); white-space: pre-wrap;\" title=\"KL: 0.000\">;</span><span style=\"background-color: rgba(255, 0, 0, 0.000); white-space: pre-wrap;\" title=\"KL: 0.000\"> i</span><span style=\"background-color: rgba(255, 0, 0, 0.000); white-space: pre-wrap;\" title=\"KL: 0.000\"> &lt;</span><span style=\"background-color: rgba(255, 0, 0, 0.002); white-space: pre-wrap;\" title=\"KL: 0.000\"> len</span><span style=\"background-color: rgba(255, 0, 0, 0.000); white-space: pre-wrap;\" title=\"KL: 0.000\">;</span><span style=\"background-color: rgba(255, 0, 0, 0.000); white-space: pre-wrap;\" title=\"KL: 0.000\"> i</span><span style=\"background-color: rgba(255, 0, 0, 0.000); white-space: pre-wrap;\" title=\"KL: 0.000\">++)</span><span style=\"background-color: rgba(255, 0, 0, 0.000); white-space: pre-wrap;\" title=\"KL: 0.000\">\n",
       "</span><span style=\"background-color: rgba(255, 0, 0, 0.000); white-space: pre-wrap;\" title=\"KL: 0.000\">\t\t</span><span style=\"background-color: rgba(255, 0, 0, 0.001); white-space: pre-wrap;\" title=\"KL: 0.000\">dest</span><span style=\"background-color: rgba(255, 0, 0, 0.000); white-space: pre-wrap;\" title=\"KL: 0.000\">2</span><span style=\"background-color: rgba(255, 0, 0, 0.000); white-space: pre-wrap;\" title=\"KL: 0.000\">[</span><span style=\"background-color: rgba(255, 0, 0, 0.000); white-space: pre-wrap;\" title=\"KL: 0.000\">i</span><span style=\"background-color: rgba(255, 0, 0, 0.000); white-space: pre-wrap;\" title=\"KL: 0.000\">]</span><span style=\"background-color: rgba(255, 0, 0, 0.000); white-space: pre-wrap;\" title=\"KL: 0.000\"> =</span><span style=\"background-color: rgba(255, 0, 0, 0.000); white-space: pre-wrap;\" title=\"KL: 0.000\"> src</span><span style=\"background-color: rgba(255, 0, 0, 0.000); white-space: pre-wrap;\" title=\"KL: 0.000\">2</span><span style=\"background-color: rgba(255, 0, 0, 0.000); white-space: pre-wrap;\" title=\"KL: 0.000\">[</span><span style=\"background-color: rgba(255, 0, 0, 0.000); white-space: pre-wrap;\" title=\"KL: 0.000\">i</span><span style=\"background-color: rgba(255, 0, 0, 0.000); white-space: pre-wrap;\" title=\"KL: 0.000\">];</span><span style=\"background-color: rgba(255, 0, 0, 0.001); white-space: pre-wrap;\" title=\"KL: 0.000\">\n",
       "\n",
       "</span><span style=\"background-color: rgba(255, 0, 0, 0.000); white-space: pre-wrap;\" title=\"KL: 0.000\">        </span><span style=\"background-color: rgba(255, 0, 0, 0.008); white-space: pre-wrap;\" title=\"KL: 0.001\">return</span><span style=\"background-color: rgba(255, 0, 0, 0.004); white-space: pre-wrap;\" title=\"KL: 0.000\"> dest</span><span style=\"background-color: rgba(255, 0, 0, 0.000); white-space: pre-wrap;\" title=\"KL: 0.000\">;</span><span style=\"background-color: rgba(255, 0, 0, 0.000); white-space: pre-wrap;\" title=\"KL: 0.000\">\n",
       "</span><span style=\"background-color: rgba(255, 0, 0, 0.000); white-space: pre-wrap;\" title=\"KL: 0.000\">}</span><span style=\"background-color: rgba(255, 0, 0, 0.000); white-space: pre-wrap;\" title=\"KL: 0.000\">&lt;end_of_turn&gt;</span><span style=\"background-color: rgba(255, 0, 0, 0.000); white-space: pre-wrap;\" title=\"KL: 0.000\">\n",
       "</span><span style=\"background-color: rgba(255, 0, 0, 0.092); white-space: pre-wrap;\" title=\"KL: 0.009\">&lt;start_of_turn&gt;</span><span style=\"background-color: rgba(255, 0, 0, 0.002); white-space: pre-wrap;\" title=\"KL: 0.000\">model</span><span style=\"background-color: rgba(255, 0, 0, 0.001); white-space: pre-wrap;\" title=\"KL: 0.000\">\n",
       "</span><span style=\"background-color: rgba(255, 0, 0, 0.000); white-space: pre-wrap;\" title=\"KL: 0.000\">```</span><span style=\"background-color: rgba(255, 0, 0, 0.000); white-space: pre-wrap;\" title=\"KL: 0.000\">c</span><span style=\"background-color: rgba(255, 0, 0, 0.000); white-space: pre-wrap;\" title=\"KL: 0.000\">\n",
       "</span><span style=\"background-color: rgba(255, 0, 0, 0.005); white-space: pre-wrap;\" title=\"KL: 0.000\">/**</span><span style=\"background-color: rgba(255, 0, 0, 0.000); white-space: pre-wrap;\" title=\"KL: 0.000\">\n",
       "</span><span style=\"background-color: rgba(255, 0, 0, 0.000); white-space: pre-wrap;\" title=\"KL: 0.000\"> *</span>"
      ],
      "text/plain": [
       "<IPython.core.display.HTML object>"
      ]
     },
     "metadata": {},
     "output_type": "display_data"
    },
    {
     "name": "stdout",
     "output_type": "stream",
     "text": [
      "High KL: 0.0092 at token '<start_of_turn>'\\n\n"
     ]
    },
    {
     "data": {
      "text/html": [
       "<style type=\"text/css\">\n",
       "#T_170c8 th {\n",
       "  text-align: left;\n",
       "}\n",
       "#T_170c8_row0_col0, #T_170c8_row1_col0 {\n",
       "  background-color: forestgreen;\n",
       "  text-align: left;\n",
       "}\n",
       "#T_170c8_row0_col1, #T_170c8_row0_col2, #T_170c8_row1_col1, #T_170c8_row1_col2, #T_170c8_row2_col1, #T_170c8_row2_col2, #T_170c8_row3_col1, #T_170c8_row3_col2 {\n",
       "  text-align: left;\n",
       "}\n",
       "#T_170c8_row2_col0, #T_170c8_row3_col0 {\n",
       "  background-color: indianred;\n",
       "  text-align: left;\n",
       "}\n",
       "</style>\n",
       "<table id=\"T_170c8\">\n",
       "  <thead>\n",
       "    <tr>\n",
       "      <th class=\"blank level0\" >&nbsp;</th>\n",
       "      <th id=\"T_170c8_level0_col0\" class=\"col_heading level0 col0\" >Token</th>\n",
       "      <th id=\"T_170c8_level0_col1\" class=\"col_heading level0 col1\" >p_HS</th>\n",
       "      <th id=\"T_170c8_level0_col2\" class=\"col_heading level0 col2\" >p_B</th>\n",
       "    </tr>\n",
       "  </thead>\n",
       "  <tbody>\n",
       "    <tr>\n",
       "      <th id=\"T_170c8_level0_row0\" class=\"row_heading level0 row0\" >0</th>\n",
       "      <td id=\"T_170c8_row0_col0\" class=\"data row0 col0\" >\n",
       "\n",
       "</td>\n",
       "      <td id=\"T_170c8_row0_col1\" class=\"data row0 col1\" >0.750</td>\n",
       "      <td id=\"T_170c8_row0_col2\" class=\"data row0 col2\" >0.793</td>\n",
       "    </tr>\n",
       "    <tr>\n",
       "      <th id=\"T_170c8_level0_row1\" class=\"row_heading level0 row1\" >1</th>\n",
       "      <td id=\"T_170c8_row1_col0\" class=\"data row1 col0\" >\n",
       "</td>\n",
       "      <td id=\"T_170c8_row1_col1\" class=\"data row1 col1\" >0.095</td>\n",
       "      <td id=\"T_170c8_row1_col2\" class=\"data row1 col2\" >0.098</td>\n",
       "    </tr>\n",
       "    <tr>\n",
       "      <th id=\"T_170c8_level0_row2\" class=\"row_heading level0 row2\" >2</th>\n",
       "      <td id=\"T_170c8_row2_col0\" class=\"data row2 col0\" >\n",
       "\n",
       "\n",
       "</td>\n",
       "      <td id=\"T_170c8_row2_col1\" class=\"data row2 col1\" >0.029</td>\n",
       "      <td id=\"T_170c8_row2_col2\" class=\"data row2 col2\" >0.024</td>\n",
       "    </tr>\n",
       "    <tr>\n",
       "      <th id=\"T_170c8_level0_row3\" class=\"row_heading level0 row3\" >3</th>\n",
       "      <td id=\"T_170c8_row3_col0\" class=\"data row3 col0\" >*</td>\n",
       "      <td id=\"T_170c8_row3_col1\" class=\"data row3 col1\" >0.111</td>\n",
       "      <td id=\"T_170c8_row3_col2\" class=\"data row3 col2\" >0.075</td>\n",
       "    </tr>\n",
       "  </tbody>\n",
       "</table>\n"
      ],
      "text/plain": [
       "<IPython.core.display.HTML object>"
      ]
     },
     "metadata": {},
     "output_type": "display_data"
    },
    {
     "name": "stdout",
     "output_type": "stream",
     "text": [
      "--------------------------------------------------------------------------------------------------------------------------------------------------------------------------------------------------------\n"
     ]
    },
    {
     "data": {
      "text/html": [
       "&lt;bos&gt;<span style=\"background-color: rgba(255, 0, 0, 0.000); white-space: pre-wrap;\" title=\"KL: 0.000\">&lt;start_of_turn&gt;</span><span style=\"background-color: rgba(255, 0, 0, 0.000); white-space: pre-wrap;\" title=\"KL: 0.000\">user</span><span style=\"background-color: rgba(255, 0, 0, 0.000); white-space: pre-wrap;\" title=\"KL: 0.000\">\n",
       "</span><span style=\"background-color: rgba(255, 0, 0, 0.002); white-space: pre-wrap;\" title=\"KL: 0.000\">translate</span><span style=\"background-color: rgba(255, 0, 0, 0.000); white-space: pre-wrap;\" title=\"KL: 0.000\"> to</span><span style=\"background-color: rgba(255, 0, 0, 0.000); white-space: pre-wrap;\" title=\"KL: 0.000\"> Chinese</span><span style=\"background-color: rgba(255, 0, 0, 0.000); white-space: pre-wrap;\" title=\"KL: 0.000\">:</span><span style=\"background-color: rgba(255, 0, 0, 0.000); white-space: pre-wrap;\" title=\"KL: 0.000\"> aud</span><span style=\"background-color: rgba(255, 0, 0, 0.000); white-space: pre-wrap;\" title=\"KL: 0.000\">acious</span><span style=\"background-color: rgba(255, 0, 0, 0.001); white-space: pre-wrap;\" title=\"KL: 0.000\"> is</span><span style=\"background-color: rgba(255, 0, 0, 0.000); white-space: pre-wrap;\" title=\"KL: 0.000\"> to</span><span style=\"background-color: rgba(255, 0, 0, 0.009); white-space: pre-wrap;\" title=\"KL: 0.001\"> boldness</span><span style=\"background-color: rgba(255, 0, 0, 0.016); white-space: pre-wrap;\" title=\"KL: 0.002\">&lt;end_of_turn&gt;</span><span style=\"background-color: rgba(255, 0, 0, 0.000); white-space: pre-wrap;\" title=\"KL: 0.000\">\n",
       "</span><span style=\"background-color: rgba(255, 0, 0, 0.001); white-space: pre-wrap;\" title=\"KL: 0.000\">&lt;start_of_turn&gt;</span><span style=\"background-color: rgba(255, 0, 0, 0.000); white-space: pre-wrap;\" title=\"KL: 0.000\">model</span><span style=\"background-color: rgba(255, 0, 0, 0.001); white-space: pre-wrap;\" title=\"KL: 0.000\">\n",
       "</span><span style=\"background-color: rgba(255, 0, 0, 0.002); white-space: pre-wrap;\" title=\"KL: 0.000\">大胆</span><span style=\"background-color: rgba(255, 0, 0, 0.004); white-space: pre-wrap;\" title=\"KL: 0.000\"> (</span><span style=\"background-color: rgba(255, 0, 0, 0.000); white-space: pre-wrap;\" title=\"KL: 0.000\">b</span><span style=\"background-color: rgba(255, 0, 0, 0.000); white-space: pre-wrap;\" title=\"KL: 0.000\">ā</span><span style=\"background-color: rgba(255, 0, 0, 0.001); white-space: pre-wrap;\" title=\"KL: 0.000\">ot</span><span style=\"background-color: rgba(255, 0, 0, 0.005); white-space: pre-wrap;\" title=\"KL: 0.000\">óng</span><span style=\"background-color: rgba(255, 0, 0, 0.000); white-space: pre-wrap;\" title=\"KL: 0.000\">)</span><span style=\"background-color: rgba(255, 0, 0, 0.002); white-space: pre-wrap;\" title=\"KL: 0.000\"> is</span><span style=\"background-color: rgba(255, 0, 0, 0.073); white-space: pre-wrap;\" title=\"KL: 0.007\"> to</span><span style=\"background-color: rgba(255, 0, 0, 0.005); white-space: pre-wrap;\" title=\"KL: 0.001\"> </span><span style=\"background-color: rgba(255, 0, 0, 0.002); white-space: pre-wrap;\" title=\"KL: 0.000\">勇</span><span style=\"background-color: rgba(255, 0, 0, 0.001); white-space: pre-wrap;\" title=\"KL: 0.000\">猛</span><span style=\"background-color: rgba(255, 0, 0, 0.000); white-space: pre-wrap;\" title=\"KL: 0.000\"> (</span><span style=\"background-color: rgba(255, 0, 0, 0.000); white-space: pre-wrap;\" title=\"KL: 0.000\">y</span><span style=\"background-color: rgba(255, 0, 0, 0.000); white-space: pre-wrap;\" title=\"KL: 0.000\">ǒ</span><span style=\"background-color: rgba(255, 0, 0, 0.000); white-space: pre-wrap;\" title=\"KL: 0.000\">ng</span><span style=\"background-color: rgba(255, 0, 0, 0.001); white-space: pre-wrap;\" title=\"KL: 0.000\">mé</span>"
      ],
      "text/plain": [
       "<IPython.core.display.HTML object>"
      ]
     },
     "metadata": {},
     "output_type": "display_data"
    },
    {
     "name": "stdout",
     "output_type": "stream",
     "text": [
      "High KL: 0.0073 at token ' to'\\n\n"
     ]
    },
    {
     "data": {
      "text/html": [
       "<style type=\"text/css\">\n",
       "#T_faa47 th {\n",
       "  text-align: left;\n",
       "}\n",
       "#T_faa47_row0_col0 {\n",
       "  background-color: forestgreen;\n",
       "  text-align: left;\n",
       "}\n",
       "#T_faa47_row0_col1, #T_faa47_row0_col2, #T_faa47_row1_col1, #T_faa47_row1_col2, #T_faa47_row2_col1, #T_faa47_row2_col2 {\n",
       "  text-align: left;\n",
       "}\n",
       "#T_faa47_row1_col0, #T_faa47_row2_col0 {\n",
       "  background-color: indianred;\n",
       "  text-align: left;\n",
       "}\n",
       "</style>\n",
       "<table id=\"T_faa47\">\n",
       "  <thead>\n",
       "    <tr>\n",
       "      <th class=\"blank level0\" >&nbsp;</th>\n",
       "      <th id=\"T_faa47_level0_col0\" class=\"col_heading level0 col0\" >Token</th>\n",
       "      <th id=\"T_faa47_level0_col1\" class=\"col_heading level0 col1\" >p_HS</th>\n",
       "      <th id=\"T_faa47_level0_col2\" class=\"col_heading level0 col2\" >p_B</th>\n",
       "    </tr>\n",
       "  </thead>\n",
       "  <tbody>\n",
       "    <tr>\n",
       "      <th id=\"T_faa47_level0_row0\" class=\"row_heading level0 row0\" >0</th>\n",
       "      <td id=\"T_faa47_row0_col0\" class=\"data row0 col0\" > to</td>\n",
       "      <td id=\"T_faa47_row0_col1\" class=\"data row0 col1\" >0.418</td>\n",
       "      <td id=\"T_faa47_row0_col2\" class=\"data row0 col2\" >0.477</td>\n",
       "    </tr>\n",
       "    <tr>\n",
       "      <th id=\"T_faa47_level0_row1\" class=\"row_heading level0 row1\" >1</th>\n",
       "      <td id=\"T_faa47_row1_col0\" class=\"data row1 col0\" > the</td>\n",
       "      <td id=\"T_faa47_row1_col1\" class=\"data row1 col1\" >0.438</td>\n",
       "      <td id=\"T_faa47_row1_col2\" class=\"data row1 col2\" >0.391</td>\n",
       "    </tr>\n",
       "    <tr>\n",
       "      <th id=\"T_faa47_level0_row2\" class=\"row_heading level0 row2\" >2</th>\n",
       "      <td id=\"T_faa47_row2_col0\" class=\"data row2 col0\" > a</td>\n",
       "      <td id=\"T_faa47_row2_col1\" class=\"data row2 col1\" >0.094</td>\n",
       "      <td id=\"T_faa47_row2_col2\" class=\"data row2 col2\" >0.083</td>\n",
       "    </tr>\n",
       "  </tbody>\n",
       "</table>\n"
      ],
      "text/plain": [
       "<IPython.core.display.HTML object>"
      ]
     },
     "metadata": {},
     "output_type": "display_data"
    },
    {
     "name": "stdout",
     "output_type": "stream",
     "text": [
      "--------------------------------------------------------------------------------------------------------------------------------------------------------------------------------------------------------\n"
     ]
    },
    {
     "data": {
      "text/html": [
       "&lt;bos&gt;<span style=\"background-color: rgba(255, 0, 0, 0.000); white-space: pre-wrap;\" title=\"KL: 0.000\">&lt;start_of_turn&gt;</span><span style=\"background-color: rgba(255, 0, 0, 0.000); white-space: pre-wrap;\" title=\"KL: 0.000\">user</span><span style=\"background-color: rgba(255, 0, 0, 0.000); white-space: pre-wrap;\" title=\"KL: 0.000\">\n",
       "</span><span style=\"background-color: rgba(255, 0, 0, 0.002); white-space: pre-wrap;\" title=\"KL: 0.000\">Generate</span><span style=\"background-color: rgba(255, 0, 0, 0.000); white-space: pre-wrap;\" title=\"KL: 0.000\"> regex</span><span style=\"background-color: rgba(255, 0, 0, 0.000); white-space: pre-wrap;\" title=\"KL: 0.000\"> to</span><span style=\"background-color: rgba(255, 0, 0, 0.000); white-space: pre-wrap;\" title=\"KL: 0.000\"> extract</span><span style=\"background-color: rgba(255, 0, 0, 0.000); white-space: pre-wrap;\" title=\"KL: 0.000\"> numbers</span><span style=\"background-color: rgba(255, 0, 0, 0.000); white-space: pre-wrap;\" title=\"KL: 0.000\"> from</span><span style=\"background-color: rgba(255, 0, 0, 0.000); white-space: pre-wrap;\" title=\"KL: 0.000\"> the</span><span style=\"background-color: rgba(255, 0, 0, 0.000); white-space: pre-wrap;\" title=\"KL: 0.000\"> following</span><span style=\"background-color: rgba(255, 0, 0, 0.000); white-space: pre-wrap;\" title=\"KL: 0.000\">.</span><span style=\"background-color: rgba(255, 0, 0, 0.000); white-space: pre-wrap;\" title=\"KL: 0.000\"> Do</span><span style=\"background-color: rgba(255, 0, 0, 0.003); white-space: pre-wrap;\" title=\"KL: 0.000\"> not</span><span style=\"background-color: rgba(255, 0, 0, 0.001); white-space: pre-wrap;\" title=\"KL: 0.000\"> use</span><span style=\"background-color: rgba(255, 0, 0, 0.000); white-space: pre-wrap;\" title=\"KL: 0.000\"> look</span><span style=\"background-color: rgba(255, 0, 0, 0.002); white-space: pre-wrap;\" title=\"KL: 0.000\">ahead</span><span style=\"background-color: rgba(255, 0, 0, 0.002); white-space: pre-wrap;\" title=\"KL: 0.000\"> and</span><span style=\"background-color: rgba(255, 0, 0, 0.010); white-space: pre-wrap;\" title=\"KL: 0.001\"> look</span><span style=\"background-color: rgba(255, 0, 0, 0.000); white-space: pre-wrap;\" title=\"KL: 0.000\">behind</span><span style=\"background-color: rgba(255, 0, 0, 0.006); white-space: pre-wrap;\" title=\"KL: 0.001\">\n",
       "</span><span style=\"background-color: rgba(255, 0, 0, 0.006); white-space: pre-wrap;\" title=\"KL: 0.001\">---</span><span style=\"background-color: rgba(255, 0, 0, 0.000); white-space: pre-wrap;\" title=\"KL: 0.000\">\n",
       "</span><span style=\"background-color: rgba(255, 0, 0, 0.004); white-space: pre-wrap;\" title=\"KL: 0.000\">zip</span><span style=\"background-color: rgba(255, 0, 0, 0.001); white-space: pre-wrap;\" title=\"KL: 0.000\"> code</span><span style=\"background-color: rgba(255, 0, 0, 0.000); white-space: pre-wrap;\" title=\"KL: 0.000\">:</span><span style=\"background-color: rgba(255, 0, 0, 0.000); white-space: pre-wrap;\" title=\"KL: 0.000\"> </span><span style=\"background-color: rgba(255, 0, 0, 0.000); white-space: pre-wrap;\" title=\"KL: 0.000\">9</span><span style=\"background-color: rgba(255, 0, 0, 0.001); white-space: pre-wrap;\" title=\"KL: 0.000\">7</span><span style=\"background-color: rgba(255, 0, 0, 0.002); white-space: pre-wrap;\" title=\"KL: 0.000\">4</span><span style=\"background-color: rgba(255, 0, 0, 0.001); white-space: pre-wrap;\" title=\"KL: 0.000\">7</span><span style=\"background-color: rgba(255, 0, 0, 0.001); white-space: pre-wrap;\" title=\"KL: 0.000\">2</span><span style=\"background-color: rgba(255, 0, 0, 0.000); white-space: pre-wrap;\" title=\"KL: 0.000\">8</span><span style=\"background-color: rgba(255, 0, 0, 0.001); white-space: pre-wrap;\" title=\"KL: 0.000\"> and</span><span style=\"background-color: rgba(255, 0, 0, 0.003); white-space: pre-wrap;\" title=\"KL: 0.000\"> </span><span style=\"background-color: rgba(255, 0, 0, 0.002); white-space: pre-wrap;\" title=\"KL: 0.000\">8</span><span style=\"background-color: rgba(255, 0, 0, 0.000); white-space: pre-wrap;\" title=\"KL: 0.000\">1</span><span style=\"background-color: rgba(255, 0, 0, 0.001); white-space: pre-wrap;\" title=\"KL: 0.000\">7</span><span style=\"background-color: rgba(255, 0, 0, 0.002); white-space: pre-wrap;\" title=\"KL: 0.000\">3</span><span style=\"background-color: rgba(255, 0, 0, 0.000); white-space: pre-wrap;\" title=\"KL: 0.000\">6</span><span style=\"background-color: rgba(255, 0, 0, 0.001); white-space: pre-wrap;\" title=\"KL: 0.000\"> as</span><span style=\"background-color: rgba(255, 0, 0, 0.002); white-space: pre-wrap;\" title=\"KL: 0.000\">\n",
       "</span><span style=\"background-color: rgba(255, 0, 0, 0.003); white-space: pre-wrap;\" title=\"KL: 0.000\">zip</span><span style=\"background-color: rgba(255, 0, 0, 0.004); white-space: pre-wrap;\" title=\"KL: 0.000\"> code</span><span style=\"background-color: rgba(255, 0, 0, 0.000); white-space: pre-wrap;\" title=\"KL: 0.000\">:</span><span style=\"background-color: rgba(255, 0, 0, 0.001); white-space: pre-wrap;\" title=\"KL: 0.000\"> </span><span style=\"background-color: rgba(255, 0, 0, 0.015); white-space: pre-wrap;\" title=\"KL: 0.001\">9</span><span style=\"background-color: rgba(255, 0, 0, 0.007); white-space: pre-wrap;\" title=\"KL: 0.001\">7</span><span style=\"background-color: rgba(255, 0, 0, 0.001); white-space: pre-wrap;\" title=\"KL: 0.000\">4</span><span style=\"background-color: rgba(255, 0, 0, 0.001); white-space: pre-wrap;\" title=\"KL: 0.000\">7</span><span style=\"background-color: rgba(255, 0, 0, 0.001); white-space: pre-wrap;\" title=\"KL: 0.000\">2</span><span style=\"background-color: rgba(255, 0, 0, 0.004); white-space: pre-wrap;\" title=\"KL: 0.000\">8</span><span style=\"background-color: rgba(255, 0, 0, 0.001); white-space: pre-wrap;\" title=\"KL: 0.000\"> as</span><span style=\"background-color: rgba(255, 0, 0, 0.005); white-space: pre-wrap;\" title=\"KL: 0.000\">\n",
       "</span><span style=\"background-color: rgba(255, 0, 0, 0.009); white-space: pre-wrap;\" title=\"KL: 0.001\">zip</span><span style=\"background-color: rgba(255, 0, 0, 0.000); white-space: pre-wrap;\" title=\"KL: 0.000\"> code</span><span style=\"background-color: rgba(255, 0, 0, 0.000); white-space: pre-wrap;\" title=\"KL: 0.000\">:</span><span style=\"background-color: rgba(255, 0, 0, 0.001); white-space: pre-wrap;\" title=\"KL: 0.000\"> </span><span style=\"background-color: rgba(255, 0, 0, 0.007); white-space: pre-wrap;\" title=\"KL: 0.001\">9</span><span style=\"background-color: rgba(255, 0, 0, 0.000); white-space: pre-wrap;\" title=\"KL: 0.000\">7</span><span style=\"background-color: rgba(255, 0, 0, 0.000); white-space: pre-wrap;\" title=\"KL: 0.000\">4</span><span style=\"background-color: rgba(255, 0, 0, 0.000); white-space: pre-wrap;\" title=\"KL: 0.000\">7</span><span style=\"background-color: rgba(255, 0, 0, 0.000); white-space: pre-wrap;\" title=\"KL: 0.000\">2</span><span style=\"background-color: rgba(255, 0, 0, 0.002); white-space: pre-wrap;\" title=\"KL: 0.000\">8</span><span style=\"background-color: rgba(255, 0, 0, 0.004); white-space: pre-wrap;\" title=\"KL: 0.000\">,</span><span style=\"background-color: rgba(255, 0, 0, 0.001); white-space: pre-wrap;\" title=\"KL: 0.000\"> </span><span style=\"background-color: rgba(255, 0, 0, 0.005); white-space: pre-wrap;\" title=\"KL: 0.000\">8</span><span style=\"background-color: rgba(255, 0, 0, 0.000); white-space: pre-wrap;\" title=\"KL: 0.000\">1</span><span style=\"background-color: rgba(255, 0, 0, 0.000); white-space: pre-wrap;\" title=\"KL: 0.000\">7</span><span style=\"background-color: rgba(255, 0, 0, 0.000); white-space: pre-wrap;\" title=\"KL: 0.000\">3</span><span style=\"background-color: rgba(255, 0, 0, 0.000); white-space: pre-wrap;\" title=\"KL: 0.000\">6</span><span style=\"background-color: rgba(255, 0, 0, 0.001); white-space: pre-wrap;\" title=\"KL: 0.000\"> as</span><span style=\"background-color: rgba(255, 0, 0, 0.002); white-space: pre-wrap;\" title=\"KL: 0.000\">\n",
       "</span><span style=\"background-color: rgba(255, 0, 0, 0.004); white-space: pre-wrap;\" title=\"KL: 0.000\">zip</span><span style=\"background-color: rgba(255, 0, 0, 0.000); white-space: pre-wrap;\" title=\"KL: 0.000\"> code</span><span style=\"background-color: rgba(255, 0, 0, 0.000); white-space: pre-wrap;\" title=\"KL: 0.000\">:</span><span style=\"background-color: rgba(255, 0, 0, 0.000); white-space: pre-wrap;\" title=\"KL: 0.000\"> </span><span style=\"background-color: rgba(255, 0, 0, 0.003); white-space: pre-wrap;\" title=\"KL: 0.000\">9</span><span style=\"background-color: rgba(255, 0, 0, 0.000); white-space: pre-wrap;\" title=\"KL: 0.000\">7</span><span style=\"background-color: rgba(255, 0, 0, 0.000); white-space: pre-wrap;\" title=\"KL: 0.000\">4</span><span style=\"background-color: rgba(255, 0, 0, 0.000); white-space: pre-wrap;\" title=\"KL: 0.000\">7</span><span style=\"background-color: rgba(255, 0, 0, 0.000); white-space: pre-wrap;\" title=\"KL: 0.000\">2</span><span style=\"background-color: rgba(255, 0, 0, 0.002); white-space: pre-wrap;\" title=\"KL: 0.000\">8</span><span style=\"background-color: rgba(255, 0, 0, 0.003); white-space: pre-wrap;\" title=\"KL: 0.000\">,</span><span style=\"background-color: rgba(255, 0, 0, 0.000); white-space: pre-wrap;\" title=\"KL: 0.000\"> </span><span style=\"background-color: rgba(255, 0, 0, 0.000); white-space: pre-wrap;\" title=\"KL: 0.000\">8</span><span style=\"background-color: rgba(255, 0, 0, 0.000); white-space: pre-wrap;\" title=\"KL: 0.000\">1</span><span style=\"background-color: rgba(255, 0, 0, 0.000); white-space: pre-wrap;\" title=\"KL: 0.000\">7</span><span style=\"background-color: rgba(255, 0, 0, 0.000); white-space: pre-wrap;\" title=\"KL: 0.000\">3</span><span style=\"background-color: rgba(255, 0, 0, 0.000); white-space: pre-wrap;\" title=\"KL: 0.000\">6</span><span style=\"background-color: rgba(255, 0, 0, 0.020); white-space: pre-wrap;\" title=\"KL: 0.002\">,</span><span style=\"background-color: rgba(255, 0, 0, 0.002); white-space: pre-wrap;\" title=\"KL: 0.000\"> </span><span style=\"background-color: rgba(255, 0, 0, 0.002); white-space: pre-wrap;\" title=\"KL: 0.000\">1</span><span style=\"background-color: rgba(255, 0, 0, 0.001); white-space: pre-wrap;\" title=\"KL: 0.000\">2</span><span style=\"background-color: rgba(255, 0, 0, 0.000); white-space: pre-wrap;\" title=\"KL: 0.000\">3</span><span style=\"background-color: rgba(255, 0, 0, 0.001); white-space: pre-wrap;\" title=\"KL: 0.000\">4</span><span style=\"background-color: rgba(255, 0, 0, 0.002); white-space: pre-wrap;\" title=\"KL: 0.000\">5</span><span style=\"background-color: rgba(255, 0, 0, 0.006); white-space: pre-wrap;\" title=\"KL: 0.001\"> as</span><span style=\"background-color: rgba(255, 0, 0, 0.000); white-space: pre-wrap;\" title=\"KL: 0.000\">&lt;end_of_turn&gt;</span><span style=\"background-color: rgba(255, 0, 0, 0.067); white-space: pre-wrap;\" title=\"KL: 0.007\">\n",
       "</span><span style=\"background-color: rgba(255, 0, 0, 0.069); white-space: pre-wrap;\" title=\"KL: 0.007\">&lt;start_of_turn&gt;</span><span style=\"background-color: rgba(255, 0, 0, 0.002); white-space: pre-wrap;\" title=\"KL: 0.000\">model</span><span style=\"background-color: rgba(255, 0, 0, 0.000); white-space: pre-wrap;\" title=\"KL: 0.000\">\n",
       "</span><span style=\"background-color: rgba(255, 0, 0, 0.000); white-space: pre-wrap;\" title=\"KL: 0.000\">```</span><span style=\"background-color: rgba(255, 0, 0, 0.000); white-space: pre-wrap;\" title=\"KL: 0.000\">regex</span><span style=\"background-color: rgba(255, 0, 0, 0.000); white-space: pre-wrap;\" title=\"KL: -0.000\">\n",
       "</span><span style=\"background-color: rgba(255, 0, 0, 0.001); white-space: pre-wrap;\" title=\"KL: 0.000\">\\</span><span style=\"background-color: rgba(255, 0, 0, 0.006); white-space: pre-wrap;\" title=\"KL: 0.001\">d</span><span style=\"background-color: rgba(255, 0, 0, 0.000); white-space: pre-wrap;\" title=\"KL: 0.000\">+</span>"
      ],
      "text/plain": [
       "<IPython.core.display.HTML object>"
      ]
     },
     "metadata": {},
     "output_type": "display_data"
    },
    {
     "name": "stdout",
     "output_type": "stream",
     "text": [
      "High KL: 0.0069 at token '<start_of_turn>'\\n\n"
     ]
    },
    {
     "data": {
      "text/html": [
       "<style type=\"text/css\">\n",
       "#T_d120d th {\n",
       "  text-align: left;\n",
       "}\n",
       "#T_d120d_row0_col0, #T_d120d_row1_col0, #T_d120d_row2_col0 {\n",
       "  background-color: forestgreen;\n",
       "  text-align: left;\n",
       "}\n",
       "#T_d120d_row0_col1, #T_d120d_row0_col2, #T_d120d_row1_col1, #T_d120d_row1_col2, #T_d120d_row2_col1, #T_d120d_row2_col2, #T_d120d_row3_col1, #T_d120d_row3_col2, #T_d120d_row4_col1, #T_d120d_row4_col2 {\n",
       "  text-align: left;\n",
       "}\n",
       "#T_d120d_row3_col0, #T_d120d_row4_col0 {\n",
       "  background-color: indianred;\n",
       "  text-align: left;\n",
       "}\n",
       "</style>\n",
       "<table id=\"T_d120d\">\n",
       "  <thead>\n",
       "    <tr>\n",
       "      <th class=\"blank level0\" >&nbsp;</th>\n",
       "      <th id=\"T_d120d_level0_col0\" class=\"col_heading level0 col0\" >Token</th>\n",
       "      <th id=\"T_d120d_level0_col1\" class=\"col_heading level0 col1\" >p_HS</th>\n",
       "      <th id=\"T_d120d_level0_col2\" class=\"col_heading level0 col2\" >p_B</th>\n",
       "    </tr>\n",
       "  </thead>\n",
       "  <tbody>\n",
       "    <tr>\n",
       "      <th id=\"T_d120d_level0_row0\" class=\"row_heading level0 row0\" >0</th>\n",
       "      <td id=\"T_d120d_row0_col0\" class=\"data row0 col0\" >\\</td>\n",
       "      <td id=\"T_d120d_row0_col1\" class=\"data row0 col1\" >0.007</td>\n",
       "      <td id=\"T_d120d_row0_col2\" class=\"data row0 col2\" >0.010</td>\n",
       "    </tr>\n",
       "    <tr>\n",
       "      <th id=\"T_d120d_level0_row1\" class=\"row_heading level0 row1\" >1</th>\n",
       "      <td id=\"T_d120d_row1_col0\" class=\"data row1 col0\" >\n",
       "</td>\n",
       "      <td id=\"T_d120d_row1_col1\" class=\"data row1 col1\" >0.080</td>\n",
       "      <td id=\"T_d120d_row1_col2\" class=\"data row1 col2\" >0.094</td>\n",
       "    </tr>\n",
       "    <tr>\n",
       "      <th id=\"T_d120d_level0_row2\" class=\"row_heading level0 row2\" >2</th>\n",
       "      <td id=\"T_d120d_row2_col0\" class=\"data row2 col0\" >{</td>\n",
       "      <td id=\"T_d120d_row2_col1\" class=\"data row2 col1\" >0.504</td>\n",
       "      <td id=\"T_d120d_row2_col2\" class=\"data row2 col2\" >0.531</td>\n",
       "    </tr>\n",
       "    <tr>\n",
       "      <th id=\"T_d120d_level0_row3\" class=\"row_heading level0 row3\" >3</th>\n",
       "      <td id=\"T_d120d_row3_col0\" class=\"data row3 col0\" >\n",
       "\n",
       "</td>\n",
       "      <td id=\"T_d120d_row3_col1\" class=\"data row3 col1\" >0.094</td>\n",
       "      <td id=\"T_d120d_row3_col2\" class=\"data row3 col2\" >0.086</td>\n",
       "    </tr>\n",
       "    <tr>\n",
       "      <th id=\"T_d120d_level0_row4\" class=\"row_heading level0 row4\" >4</th>\n",
       "      <td id=\"T_d120d_row4_col0\" class=\"data row4 col0\" >*</td>\n",
       "      <td id=\"T_d120d_row4_col1\" class=\"data row4 col1\" >0.283</td>\n",
       "      <td id=\"T_d120d_row4_col2\" class=\"data row4 col2\" >0.239</td>\n",
       "    </tr>\n",
       "  </tbody>\n",
       "</table>\n"
      ],
      "text/plain": [
       "<IPython.core.display.HTML object>"
      ]
     },
     "metadata": {},
     "output_type": "display_data"
    },
    {
     "name": "stdout",
     "output_type": "stream",
     "text": [
      "--------------------------------------------------------------------------------------------------------------------------------------------------------------------------------------------------------\n"
     ]
    },
    {
     "data": {
      "text/html": [
       "&lt;bos&gt;<span style=\"background-color: rgba(255, 0, 0, 0.000); white-space: pre-wrap;\" title=\"KL: 0.000\">&lt;start_of_turn&gt;</span><span style=\"background-color: rgba(255, 0, 0, 0.000); white-space: pre-wrap;\" title=\"KL: 0.000\">user</span><span style=\"background-color: rgba(255, 0, 0, 0.000); white-space: pre-wrap;\" title=\"KL: 0.000\">\n",
       "</span><span style=\"background-color: rgba(255, 0, 0, 0.002); white-space: pre-wrap;\" title=\"KL: 0.000\">Provide</span><span style=\"background-color: rgba(255, 0, 0, 0.000); white-space: pre-wrap;\" title=\"KL: 0.000\"> JSON</span><span style=\"background-color: rgba(255, 0, 0, 0.000); white-space: pre-wrap;\" title=\"KL: 0.000\"> answer</span><span style=\"background-color: rgba(255, 0, 0, 0.001); white-space: pre-wrap;\" title=\"KL: 0.000\">,</span><span style=\"background-color: rgba(255, 0, 0, 0.002); white-space: pre-wrap;\" title=\"KL: 0.000\"> structuring</span><span style=\"background-color: rgba(255, 0, 0, 0.000); white-space: pre-wrap;\" title=\"KL: 0.000\"> the</span><span style=\"background-color: rgba(255, 0, 0, 0.000); white-space: pre-wrap;\" title=\"KL: 0.000\"> full</span><span style=\"background-color: rgba(255, 0, 0, 0.000); white-space: pre-wrap;\" title=\"KL: 0.000\"> prompt</span><span style=\"background-color: rgba(255, 0, 0, 0.000); white-space: pre-wrap;\" title=\"KL: 0.000\">.</span><span style=\"background-color: rgba(255, 0, 0, 0.000); white-space: pre-wrap;\" title=\"KL: 0.000\"> End</span><span style=\"background-color: rgba(255, 0, 0, 0.002); white-space: pre-wrap;\" title=\"KL: 0.000\"> of</span><span style=\"background-color: rgba(255, 0, 0, 0.001); white-space: pre-wrap;\" title=\"KL: 0.000\"> Prompt</span><span style=\"background-color: rgba(255, 0, 0, 0.004); white-space: pre-wrap;\" title=\"KL: 0.000\">.</span><span style=\"background-color: rgba(255, 0, 0, 0.002); white-space: pre-wrap;\" title=\"KL: 0.000\">&lt;end_of_turn&gt;</span><span style=\"background-color: rgba(255, 0, 0, 0.003); white-space: pre-wrap;\" title=\"KL: 0.000\">\n",
       "</span><span style=\"background-color: rgba(255, 0, 0, 0.069); white-space: pre-wrap;\" title=\"KL: 0.007\">&lt;start_of_turn&gt;</span><span style=\"background-color: rgba(255, 0, 0, 0.000); white-space: pre-wrap;\" title=\"KL: 0.000\">model</span><span style=\"background-color: rgba(255, 0, 0, 0.000); white-space: pre-wrap;\" title=\"KL: 0.000\">\n",
       "</span><span style=\"background-color: rgba(255, 0, 0, 0.000); white-space: pre-wrap;\" title=\"KL: 0.000\">```</span><span style=\"background-color: rgba(255, 0, 0, 0.000); white-space: pre-wrap;\" title=\"KL: 0.000\">json</span><span style=\"background-color: rgba(255, 0, 0, 0.000); white-space: pre-wrap;\" title=\"KL: 0.000\">\n",
       "</span><span style=\"background-color: rgba(255, 0, 0, 0.000); white-space: pre-wrap;\" title=\"KL: 0.000\">{</span><span style=\"background-color: rgba(255, 0, 0, 0.000); white-space: pre-wrap;\" title=\"KL: -0.000\">\n",
       "</span><span style=\"background-color: rgba(255, 0, 0, 0.000); white-space: pre-wrap;\" title=\"KL: 0.000\">  </span>"
      ],
      "text/plain": [
       "<IPython.core.display.HTML object>"
      ]
     },
     "metadata": {},
     "output_type": "display_data"
    },
    {
     "name": "stdout",
     "output_type": "stream",
     "text": [
      "High KL: 0.0069 at token '<start_of_turn>'\\n\n"
     ]
    },
    {
     "data": {
      "text/html": [
       "<style type=\"text/css\">\n",
       "#T_c6dc6 th {\n",
       "  text-align: left;\n",
       "}\n",
       "#T_c6dc6_row0_col0, #T_c6dc6_row1_col0 {\n",
       "  background-color: forestgreen;\n",
       "  text-align: left;\n",
       "}\n",
       "#T_c6dc6_row0_col1, #T_c6dc6_row0_col2, #T_c6dc6_row1_col1, #T_c6dc6_row1_col2, #T_c6dc6_row2_col1, #T_c6dc6_row2_col2, #T_c6dc6_row3_col1, #T_c6dc6_row3_col2 {\n",
       "  text-align: left;\n",
       "}\n",
       "#T_c6dc6_row2_col0, #T_c6dc6_row3_col0 {\n",
       "  background-color: indianred;\n",
       "  text-align: left;\n",
       "}\n",
       "</style>\n",
       "<table id=\"T_c6dc6\">\n",
       "  <thead>\n",
       "    <tr>\n",
       "      <th class=\"blank level0\" >&nbsp;</th>\n",
       "      <th id=\"T_c6dc6_level0_col0\" class=\"col_heading level0 col0\" >Token</th>\n",
       "      <th id=\"T_c6dc6_level0_col1\" class=\"col_heading level0 col1\" >p_HS</th>\n",
       "      <th id=\"T_c6dc6_level0_col2\" class=\"col_heading level0 col2\" >p_B</th>\n",
       "    </tr>\n",
       "  </thead>\n",
       "  <tbody>\n",
       "    <tr>\n",
       "      <th id=\"T_c6dc6_level0_row0\" class=\"row_heading level0 row0\" >0</th>\n",
       "      <td id=\"T_c6dc6_row0_col0\" class=\"data row0 col0\" >{</td>\n",
       "      <td id=\"T_c6dc6_row0_col1\" class=\"data row0 col1\" >0.451</td>\n",
       "      <td id=\"T_c6dc6_row0_col2\" class=\"data row0 col2\" >0.500</td>\n",
       "    </tr>\n",
       "    <tr>\n",
       "      <th id=\"T_c6dc6_level0_row1\" class=\"row_heading level0 row1\" >1</th>\n",
       "      <td id=\"T_c6dc6_row1_col0\" class=\"data row1 col0\" >*</td>\n",
       "      <td id=\"T_c6dc6_row1_col1\" class=\"data row1 col1\" >0.058</td>\n",
       "      <td id=\"T_c6dc6_row1_col2\" class=\"data row1 col2\" >0.061</td>\n",
       "    </tr>\n",
       "    <tr>\n",
       "      <th id=\"T_c6dc6_level0_row2\" class=\"row_heading level0 row2\" >2</th>\n",
       "      <td id=\"T_c6dc6_row2_col0\" class=\"data row2 col0\" >##</td>\n",
       "      <td id=\"T_c6dc6_row2_col1\" class=\"data row2 col1\" >0.125</td>\n",
       "      <td id=\"T_c6dc6_row2_col2\" class=\"data row2 col2\" >0.112</td>\n",
       "    </tr>\n",
       "    <tr>\n",
       "      <th id=\"T_c6dc6_level0_row3\" class=\"row_heading level0 row3\" >3</th>\n",
       "      <td id=\"T_c6dc6_row3_col0\" class=\"data row3 col0\" >```</td>\n",
       "      <td id=\"T_c6dc6_row3_col1\" class=\"data row3 col1\" >0.254</td>\n",
       "      <td id=\"T_c6dc6_row3_col2\" class=\"data row3 col2\" >0.217</td>\n",
       "    </tr>\n",
       "  </tbody>\n",
       "</table>\n"
      ],
      "text/plain": [
       "<IPython.core.display.HTML object>"
      ]
     },
     "metadata": {},
     "output_type": "display_data"
    },
    {
     "name": "stdout",
     "output_type": "stream",
     "text": [
      "--------------------------------------------------------------------------------------------------------------------------------------------------------------------------------------------------------\n"
     ]
    },
    {
     "data": {
      "text/html": [
       "&lt;bos&gt;<span style=\"background-color: rgba(255, 0, 0, 0.000); white-space: pre-wrap;\" title=\"KL: 0.000\">&lt;start_of_turn&gt;</span><span style=\"background-color: rgba(255, 0, 0, 0.000); white-space: pre-wrap;\" title=\"KL: 0.000\">user</span><span style=\"background-color: rgba(255, 0, 0, 0.000); white-space: pre-wrap;\" title=\"KL: 0.000\">\n",
       "</span><span style=\"background-color: rgba(255, 0, 0, 0.002); white-space: pre-wrap;\" title=\"KL: 0.000\">Exp</span><span style=\"background-color: rgba(255, 0, 0, 0.000); white-space: pre-wrap;\" title=\"KL: 0.000\">lica</span><span style=\"background-color: rgba(255, 0, 0, 0.000); white-space: pre-wrap;\" title=\"KL: 0.000\"> la</span><span style=\"background-color: rgba(255, 0, 0, 0.000); white-space: pre-wrap;\" title=\"KL: 0.000\"> trama</span><span style=\"background-color: rgba(255, 0, 0, 0.000); white-space: pre-wrap;\" title=\"KL: 0.000\"> de</span><span style=\"background-color: rgba(255, 0, 0, 0.000); white-space: pre-wrap;\" title=\"KL: 0.000\"> Cen</span><span style=\"background-color: rgba(255, 0, 0, 0.000); white-space: pre-wrap;\" title=\"KL: 0.000\">ic</span><span style=\"background-color: rgba(255, 0, 0, 0.000); white-space: pre-wrap;\" title=\"KL: 0.000\">ienta</span><span style=\"background-color: rgba(255, 0, 0, 0.001); white-space: pre-wrap;\" title=\"KL: 0.000\"> en</span><span style=\"background-color: rgba(255, 0, 0, 0.005); white-space: pre-wrap;\" title=\"KL: 0.000\"> una</span><span style=\"background-color: rgba(255, 0, 0, 0.000); white-space: pre-wrap;\" title=\"KL: 0.000\"> oración</span><span style=\"background-color: rgba(255, 0, 0, 0.000); white-space: pre-wrap;\" title=\"KL: 0.000\"> donde</span><span style=\"background-color: rgba(255, 0, 0, 0.000); white-space: pre-wrap;\" title=\"KL: 0.000\"> cada</span><span style=\"background-color: rgba(255, 0, 0, 0.000); white-space: pre-wrap;\" title=\"KL: 0.000\"> palabra</span><span style=\"background-color: rgba(255, 0, 0, 0.001); white-space: pre-wrap;\" title=\"KL: 0.000\"> tiene</span><span style=\"background-color: rgba(255, 0, 0, 0.002); white-space: pre-wrap;\" title=\"KL: 0.000\"> que</span><span style=\"background-color: rgba(255, 0, 0, 0.000); white-space: pre-wrap;\" title=\"KL: 0.000\"> comenzar</span><span style=\"background-color: rgba(255, 0, 0, 0.000); white-space: pre-wrap;\" title=\"KL: 0.000\"> con</span><span style=\"background-color: rgba(255, 0, 0, 0.001); white-space: pre-wrap;\" title=\"KL: 0.000\"> la</span><span style=\"background-color: rgba(255, 0, 0, 0.001); white-space: pre-wrap;\" title=\"KL: 0.000\"> siguiente</span><span style=\"background-color: rgba(255, 0, 0, 0.000); white-space: pre-wrap;\" title=\"KL: 0.000\"> letra</span><span style=\"background-color: rgba(255, 0, 0, 0.003); white-space: pre-wrap;\" title=\"KL: 0.000\"> del</span><span style=\"background-color: rgba(255, 0, 0, 0.000); white-space: pre-wrap;\" title=\"KL: 0.000\"> alfabeto</span><span style=\"background-color: rgba(255, 0, 0, 0.001); white-space: pre-wrap;\" title=\"KL: 0.000\"> español</span><span style=\"background-color: rgba(255, 0, 0, 0.000); white-space: pre-wrap;\" title=\"KL: 0.000\"> de</span><span style=\"background-color: rgba(255, 0, 0, 0.006); white-space: pre-wrap;\" title=\"KL: 0.001\"> la</span><span style=\"background-color: rgba(255, 0, 0, 0.063); white-space: pre-wrap;\" title=\"KL: 0.006\"> A</span><span style=\"background-color: rgba(255, 0, 0, 0.000); white-space: pre-wrap;\" title=\"KL: 0.000\"> a</span><span style=\"background-color: rgba(255, 0, 0, 0.012); white-space: pre-wrap;\" title=\"KL: 0.001\"> la</span><span style=\"background-color: rgba(255, 0, 0, 0.000); white-space: pre-wrap;\" title=\"KL: 0.000\"> Z</span><span style=\"background-color: rgba(255, 0, 0, 0.002); white-space: pre-wrap;\" title=\"KL: 0.000\">,</span><span style=\"background-color: rgba(255, 0, 0, 0.000); white-space: pre-wrap;\" title=\"KL: 0.000\"> sin</span><span style=\"background-color: rgba(255, 0, 0, 0.000); white-space: pre-wrap;\" title=\"KL: 0.000\"> repetir</span><span style=\"background-color: rgba(255, 0, 0, 0.002); white-space: pre-wrap;\" title=\"KL: 0.000\"> ninguna</span><span style=\"background-color: rgba(255, 0, 0, 0.000); white-space: pre-wrap;\" title=\"KL: 0.000\"> letra</span>"
      ],
      "text/plain": [
       "<IPython.core.display.HTML object>"
      ]
     },
     "metadata": {},
     "output_type": "display_data"
    },
    {
     "name": "stdout",
     "output_type": "stream",
     "text": [
      "High KL: 0.0063 at token ' A'\\n\n"
     ]
    },
    {
     "data": {
      "text/html": [
       "<style type=\"text/css\">\n",
       "#T_495f4 th {\n",
       "  text-align: left;\n",
       "}\n",
       "#T_495f4_row0_col0, #T_495f4_row1_col0, #T_495f4_row2_col0 {\n",
       "  background-color: forestgreen;\n",
       "  text-align: left;\n",
       "}\n",
       "#T_495f4_row0_col1, #T_495f4_row0_col2, #T_495f4_row1_col1, #T_495f4_row1_col2, #T_495f4_row2_col1, #T_495f4_row2_col2, #T_495f4_row3_col1, #T_495f4_row3_col2 {\n",
       "  text-align: left;\n",
       "}\n",
       "#T_495f4_row3_col0 {\n",
       "  background-color: indianred;\n",
       "  text-align: left;\n",
       "}\n",
       "</style>\n",
       "<table id=\"T_495f4\">\n",
       "  <thead>\n",
       "    <tr>\n",
       "      <th class=\"blank level0\" >&nbsp;</th>\n",
       "      <th id=\"T_495f4_level0_col0\" class=\"col_heading level0 col0\" >Token</th>\n",
       "      <th id=\"T_495f4_level0_col1\" class=\"col_heading level0 col1\" >p_HS</th>\n",
       "      <th id=\"T_495f4_level0_col2\" class=\"col_heading level0 col2\" >p_B</th>\n",
       "    </tr>\n",
       "  </thead>\n",
       "  <tbody>\n",
       "    <tr>\n",
       "      <th id=\"T_495f4_level0_row0\" class=\"row_heading level0 row0\" >0</th>\n",
       "      <td id=\"T_495f4_row0_col0\" class=\"data row0 col0\" > \"</td>\n",
       "      <td id=\"T_495f4_row0_col1\" class=\"data row0 col1\" >0.125</td>\n",
       "      <td id=\"T_495f4_row0_col2\" class=\"data row0 col2\" >0.150</td>\n",
       "    </tr>\n",
       "    <tr>\n",
       "      <th id=\"T_495f4_level0_row1\" class=\"row_heading level0 row1\" >1</th>\n",
       "      <td id=\"T_495f4_row1_col0\" class=\"data row1 col0\" > “</td>\n",
       "      <td id=\"T_495f4_row1_col1\" class=\"data row1 col1\" >0.019</td>\n",
       "      <td id=\"T_495f4_row1_col2\" class=\"data row1 col2\" >0.023</td>\n",
       "    </tr>\n",
       "    <tr>\n",
       "      <th id=\"T_495f4_level0_row2\" class=\"row_heading level0 row2\" >2</th>\n",
       "      <td id=\"T_495f4_row2_col0\" class=\"data row2 col0\" > a</td>\n",
       "      <td id=\"T_495f4_row2_col1\" class=\"data row2 col1\" >0.015</td>\n",
       "      <td id=\"T_495f4_row2_col2\" class=\"data row2 col2\" >0.018</td>\n",
       "    </tr>\n",
       "    <tr>\n",
       "      <th id=\"T_495f4_level0_row3\" class=\"row_heading level0 row3\" >3</th>\n",
       "      <td id=\"T_495f4_row3_col0\" class=\"data row3 col0\" > **</td>\n",
       "      <td id=\"T_495f4_row3_col1\" class=\"data row3 col1\" >0.480</td>\n",
       "      <td id=\"T_495f4_row3_col2\" class=\"data row3 col2\" >0.436</td>\n",
       "    </tr>\n",
       "  </tbody>\n",
       "</table>\n"
      ],
      "text/plain": [
       "<IPython.core.display.HTML object>"
      ]
     },
     "metadata": {},
     "output_type": "display_data"
    },
    {
     "name": "stdout",
     "output_type": "stream",
     "text": [
      "--------------------------------------------------------------------------------------------------------------------------------------------------------------------------------------------------------\n"
     ]
    },
    {
     "data": {
      "text/html": [
       "&lt;bos&gt;<span style=\"background-color: rgba(255, 0, 0, 0.000); white-space: pre-wrap;\" title=\"KL: 0.000\">&lt;start_of_turn&gt;</span><span style=\"background-color: rgba(255, 0, 0, 0.000); white-space: pre-wrap;\" title=\"KL: 0.000\">user</span><span style=\"background-color: rgba(255, 0, 0, 0.000); white-space: pre-wrap;\" title=\"KL: 0.000\">\n",
       "</span><span style=\"background-color: rgba(255, 0, 0, 0.002); white-space: pre-wrap;\" title=\"KL: 0.000\">Generate</span><span style=\"background-color: rgba(255, 0, 0, 0.000); white-space: pre-wrap;\" title=\"KL: 0.000\"> regex</span><span style=\"background-color: rgba(255, 0, 0, 0.000); white-space: pre-wrap;\" title=\"KL: 0.000\"> to</span><span style=\"background-color: rgba(255, 0, 0, 0.000); white-space: pre-wrap;\" title=\"KL: 0.000\"> extract</span><span style=\"background-color: rgba(255, 0, 0, 0.000); white-space: pre-wrap;\" title=\"KL: 0.000\"> numbers</span><span style=\"background-color: rgba(255, 0, 0, 0.000); white-space: pre-wrap;\" title=\"KL: 0.000\"> from</span><span style=\"background-color: rgba(255, 0, 0, 0.000); white-space: pre-wrap;\" title=\"KL: 0.000\"> the</span><span style=\"background-color: rgba(255, 0, 0, 0.000); white-space: pre-wrap;\" title=\"KL: 0.000\"> following</span><span style=\"background-color: rgba(255, 0, 0, 0.000); white-space: pre-wrap;\" title=\"KL: 0.000\">.</span><span style=\"background-color: rgba(255, 0, 0, 0.000); white-space: pre-wrap;\" title=\"KL: 0.000\"> Do</span><span style=\"background-color: rgba(255, 0, 0, 0.003); white-space: pre-wrap;\" title=\"KL: 0.000\"> not</span><span style=\"background-color: rgba(255, 0, 0, 0.001); white-space: pre-wrap;\" title=\"KL: 0.000\"> use</span><span style=\"background-color: rgba(255, 0, 0, 0.000); white-space: pre-wrap;\" title=\"KL: 0.000\"> look</span><span style=\"background-color: rgba(255, 0, 0, 0.002); white-space: pre-wrap;\" title=\"KL: 0.000\">ahead</span><span style=\"background-color: rgba(255, 0, 0, 0.002); white-space: pre-wrap;\" title=\"KL: 0.000\"> and</span><span style=\"background-color: rgba(255, 0, 0, 0.010); white-space: pre-wrap;\" title=\"KL: 0.001\"> look</span><span style=\"background-color: rgba(255, 0, 0, 0.000); white-space: pre-wrap;\" title=\"KL: 0.000\">behind</span><span style=\"background-color: rgba(255, 0, 0, 0.006); white-space: pre-wrap;\" title=\"KL: 0.001\">\n",
       "</span><span style=\"background-color: rgba(255, 0, 0, 0.006); white-space: pre-wrap;\" title=\"KL: 0.001\">---</span><span style=\"background-color: rgba(255, 0, 0, 0.000); white-space: pre-wrap;\" title=\"KL: 0.000\">\n",
       "</span><span style=\"background-color: rgba(255, 0, 0, 0.004); white-space: pre-wrap;\" title=\"KL: 0.000\">zip</span><span style=\"background-color: rgba(255, 0, 0, 0.001); white-space: pre-wrap;\" title=\"KL: 0.000\"> code</span><span style=\"background-color: rgba(255, 0, 0, 0.000); white-space: pre-wrap;\" title=\"KL: 0.000\">:</span><span style=\"background-color: rgba(255, 0, 0, 0.000); white-space: pre-wrap;\" title=\"KL: 0.000\"> </span><span style=\"background-color: rgba(255, 0, 0, 0.000); white-space: pre-wrap;\" title=\"KL: 0.000\">9</span><span style=\"background-color: rgba(255, 0, 0, 0.001); white-space: pre-wrap;\" title=\"KL: 0.000\">7</span><span style=\"background-color: rgba(255, 0, 0, 0.002); white-space: pre-wrap;\" title=\"KL: 0.000\">4</span><span style=\"background-color: rgba(255, 0, 0, 0.001); white-space: pre-wrap;\" title=\"KL: 0.000\">7</span><span style=\"background-color: rgba(255, 0, 0, 0.001); white-space: pre-wrap;\" title=\"KL: 0.000\">2</span><span style=\"background-color: rgba(255, 0, 0, 0.000); white-space: pre-wrap;\" title=\"KL: 0.000\">8</span><span style=\"background-color: rgba(255, 0, 0, 0.001); white-space: pre-wrap;\" title=\"KL: 0.000\"> and</span><span style=\"background-color: rgba(255, 0, 0, 0.003); white-space: pre-wrap;\" title=\"KL: 0.000\"> </span><span style=\"background-color: rgba(255, 0, 0, 0.002); white-space: pre-wrap;\" title=\"KL: 0.000\">8</span><span style=\"background-color: rgba(255, 0, 0, 0.000); white-space: pre-wrap;\" title=\"KL: 0.000\">1</span><span style=\"background-color: rgba(255, 0, 0, 0.001); white-space: pre-wrap;\" title=\"KL: 0.000\">7</span><span style=\"background-color: rgba(255, 0, 0, 0.002); white-space: pre-wrap;\" title=\"KL: 0.000\">3</span><span style=\"background-color: rgba(255, 0, 0, 0.000); white-space: pre-wrap;\" title=\"KL: 0.000\">6</span><span style=\"background-color: rgba(255, 0, 0, 0.001); white-space: pre-wrap;\" title=\"KL: 0.000\"> as</span><span style=\"background-color: rgba(255, 0, 0, 0.002); white-space: pre-wrap;\" title=\"KL: 0.000\">\n",
       "</span><span style=\"background-color: rgba(255, 0, 0, 0.003); white-space: pre-wrap;\" title=\"KL: 0.000\">zip</span><span style=\"background-color: rgba(255, 0, 0, 0.004); white-space: pre-wrap;\" title=\"KL: 0.000\"> code</span><span style=\"background-color: rgba(255, 0, 0, 0.000); white-space: pre-wrap;\" title=\"KL: 0.000\">:</span><span style=\"background-color: rgba(255, 0, 0, 0.001); white-space: pre-wrap;\" title=\"KL: 0.000\"> </span><span style=\"background-color: rgba(255, 0, 0, 0.015); white-space: pre-wrap;\" title=\"KL: 0.001\">9</span><span style=\"background-color: rgba(255, 0, 0, 0.007); white-space: pre-wrap;\" title=\"KL: 0.001\">7</span><span style=\"background-color: rgba(255, 0, 0, 0.001); white-space: pre-wrap;\" title=\"KL: 0.000\">4</span><span style=\"background-color: rgba(255, 0, 0, 0.001); white-space: pre-wrap;\" title=\"KL: 0.000\">7</span><span style=\"background-color: rgba(255, 0, 0, 0.001); white-space: pre-wrap;\" title=\"KL: 0.000\">2</span><span style=\"background-color: rgba(255, 0, 0, 0.004); white-space: pre-wrap;\" title=\"KL: 0.000\">8</span><span style=\"background-color: rgba(255, 0, 0, 0.001); white-space: pre-wrap;\" title=\"KL: 0.000\"> as</span><span style=\"background-color: rgba(255, 0, 0, 0.005); white-space: pre-wrap;\" title=\"KL: 0.000\">\n",
       "</span><span style=\"background-color: rgba(255, 0, 0, 0.009); white-space: pre-wrap;\" title=\"KL: 0.001\">zip</span><span style=\"background-color: rgba(255, 0, 0, 0.000); white-space: pre-wrap;\" title=\"KL: 0.000\"> code</span><span style=\"background-color: rgba(255, 0, 0, 0.000); white-space: pre-wrap;\" title=\"KL: 0.000\">:</span><span style=\"background-color: rgba(255, 0, 0, 0.001); white-space: pre-wrap;\" title=\"KL: 0.000\"> </span><span style=\"background-color: rgba(255, 0, 0, 0.007); white-space: pre-wrap;\" title=\"KL: 0.001\">9</span><span style=\"background-color: rgba(255, 0, 0, 0.000); white-space: pre-wrap;\" title=\"KL: 0.000\">7</span><span style=\"background-color: rgba(255, 0, 0, 0.000); white-space: pre-wrap;\" title=\"KL: 0.000\">4</span><span style=\"background-color: rgba(255, 0, 0, 0.000); white-space: pre-wrap;\" title=\"KL: 0.000\">7</span><span style=\"background-color: rgba(255, 0, 0, 0.000); white-space: pre-wrap;\" title=\"KL: 0.000\">2</span><span style=\"background-color: rgba(255, 0, 0, 0.002); white-space: pre-wrap;\" title=\"KL: 0.000\">8</span><span style=\"background-color: rgba(255, 0, 0, 0.004); white-space: pre-wrap;\" title=\"KL: 0.000\">,</span><span style=\"background-color: rgba(255, 0, 0, 0.001); white-space: pre-wrap;\" title=\"KL: 0.000\"> </span><span style=\"background-color: rgba(255, 0, 0, 0.005); white-space: pre-wrap;\" title=\"KL: 0.000\">8</span><span style=\"background-color: rgba(255, 0, 0, 0.000); white-space: pre-wrap;\" title=\"KL: 0.000\">1</span><span style=\"background-color: rgba(255, 0, 0, 0.000); white-space: pre-wrap;\" title=\"KL: 0.000\">7</span><span style=\"background-color: rgba(255, 0, 0, 0.000); white-space: pre-wrap;\" title=\"KL: 0.000\">3</span><span style=\"background-color: rgba(255, 0, 0, 0.000); white-space: pre-wrap;\" title=\"KL: 0.000\">6</span><span style=\"background-color: rgba(255, 0, 0, 0.001); white-space: pre-wrap;\" title=\"KL: 0.000\"> as</span><span style=\"background-color: rgba(255, 0, 0, 0.002); white-space: pre-wrap;\" title=\"KL: 0.000\">\n",
       "</span><span style=\"background-color: rgba(255, 0, 0, 0.004); white-space: pre-wrap;\" title=\"KL: 0.000\">zip</span><span style=\"background-color: rgba(255, 0, 0, 0.000); white-space: pre-wrap;\" title=\"KL: 0.000\"> code</span><span style=\"background-color: rgba(255, 0, 0, 0.000); white-space: pre-wrap;\" title=\"KL: 0.000\">:</span><span style=\"background-color: rgba(255, 0, 0, 0.000); white-space: pre-wrap;\" title=\"KL: 0.000\"> </span><span style=\"background-color: rgba(255, 0, 0, 0.003); white-space: pre-wrap;\" title=\"KL: 0.000\">9</span><span style=\"background-color: rgba(255, 0, 0, 0.000); white-space: pre-wrap;\" title=\"KL: 0.000\">7</span><span style=\"background-color: rgba(255, 0, 0, 0.000); white-space: pre-wrap;\" title=\"KL: 0.000\">4</span><span style=\"background-color: rgba(255, 0, 0, 0.000); white-space: pre-wrap;\" title=\"KL: 0.000\">7</span><span style=\"background-color: rgba(255, 0, 0, 0.000); white-space: pre-wrap;\" title=\"KL: 0.000\">2</span><span style=\"background-color: rgba(255, 0, 0, 0.002); white-space: pre-wrap;\" title=\"KL: 0.000\">8</span><span style=\"background-color: rgba(255, 0, 0, 0.003); white-space: pre-wrap;\" title=\"KL: 0.000\">,</span><span style=\"background-color: rgba(255, 0, 0, 0.000); white-space: pre-wrap;\" title=\"KL: 0.000\"> </span><span style=\"background-color: rgba(255, 0, 0, 0.000); white-space: pre-wrap;\" title=\"KL: 0.000\">8</span><span style=\"background-color: rgba(255, 0, 0, 0.000); white-space: pre-wrap;\" title=\"KL: 0.000\">1</span><span style=\"background-color: rgba(255, 0, 0, 0.000); white-space: pre-wrap;\" title=\"KL: 0.000\">7</span><span style=\"background-color: rgba(255, 0, 0, 0.000); white-space: pre-wrap;\" title=\"KL: 0.000\">3</span><span style=\"background-color: rgba(255, 0, 0, 0.000); white-space: pre-wrap;\" title=\"KL: 0.000\">6</span><span style=\"background-color: rgba(255, 0, 0, 0.020); white-space: pre-wrap;\" title=\"KL: 0.002\">,</span><span style=\"background-color: rgba(255, 0, 0, 0.002); white-space: pre-wrap;\" title=\"KL: 0.000\"> </span><span style=\"background-color: rgba(255, 0, 0, 0.002); white-space: pre-wrap;\" title=\"KL: 0.000\">1</span><span style=\"background-color: rgba(255, 0, 0, 0.001); white-space: pre-wrap;\" title=\"KL: 0.000\">2</span><span style=\"background-color: rgba(255, 0, 0, 0.000); white-space: pre-wrap;\" title=\"KL: 0.000\">3</span><span style=\"background-color: rgba(255, 0, 0, 0.001); white-space: pre-wrap;\" title=\"KL: 0.000\">4</span><span style=\"background-color: rgba(255, 0, 0, 0.002); white-space: pre-wrap;\" title=\"KL: 0.000\">5</span><span style=\"background-color: rgba(255, 0, 0, 0.006); white-space: pre-wrap;\" title=\"KL: 0.001\"> as</span><span style=\"background-color: rgba(255, 0, 0, 0.000); white-space: pre-wrap;\" title=\"KL: 0.000\">&lt;end_of_turn&gt;</span><span style=\"background-color: rgba(255, 0, 0, 0.067); white-space: pre-wrap;\" title=\"KL: 0.007\">\n",
       "</span><span style=\"background-color: rgba(255, 0, 0, 0.069); white-space: pre-wrap;\" title=\"KL: 0.007\">&lt;start_of_turn&gt;</span><span style=\"background-color: rgba(255, 0, 0, 0.002); white-space: pre-wrap;\" title=\"KL: 0.000\">model</span><span style=\"background-color: rgba(255, 0, 0, 0.000); white-space: pre-wrap;\" title=\"KL: 0.000\">\n",
       "</span><span style=\"background-color: rgba(255, 0, 0, 0.000); white-space: pre-wrap;\" title=\"KL: 0.000\">```</span><span style=\"background-color: rgba(255, 0, 0, 0.000); white-space: pre-wrap;\" title=\"KL: 0.000\">regex</span><span style=\"background-color: rgba(255, 0, 0, 0.000); white-space: pre-wrap;\" title=\"KL: -0.000\">\n",
       "</span><span style=\"background-color: rgba(255, 0, 0, 0.001); white-space: pre-wrap;\" title=\"KL: 0.000\">\\</span><span style=\"background-color: rgba(255, 0, 0, 0.006); white-space: pre-wrap;\" title=\"KL: 0.001\">d</span>"
      ],
      "text/plain": [
       "<IPython.core.display.HTML object>"
      ]
     },
     "metadata": {},
     "output_type": "display_data"
    },
    {
     "name": "stdout",
     "output_type": "stream",
     "text": [
      "High KL: 0.0069 at token '<start_of_turn>'\\n\n"
     ]
    },
    {
     "data": {
      "text/html": [
       "<style type=\"text/css\">\n",
       "#T_9f506 th {\n",
       "  text-align: left;\n",
       "}\n",
       "#T_9f506_row0_col0, #T_9f506_row1_col0, #T_9f506_row2_col0 {\n",
       "  background-color: forestgreen;\n",
       "  text-align: left;\n",
       "}\n",
       "#T_9f506_row0_col1, #T_9f506_row0_col2, #T_9f506_row1_col1, #T_9f506_row1_col2, #T_9f506_row2_col1, #T_9f506_row2_col2, #T_9f506_row3_col1, #T_9f506_row3_col2, #T_9f506_row4_col1, #T_9f506_row4_col2 {\n",
       "  text-align: left;\n",
       "}\n",
       "#T_9f506_row3_col0, #T_9f506_row4_col0 {\n",
       "  background-color: indianred;\n",
       "  text-align: left;\n",
       "}\n",
       "</style>\n",
       "<table id=\"T_9f506\">\n",
       "  <thead>\n",
       "    <tr>\n",
       "      <th class=\"blank level0\" >&nbsp;</th>\n",
       "      <th id=\"T_9f506_level0_col0\" class=\"col_heading level0 col0\" >Token</th>\n",
       "      <th id=\"T_9f506_level0_col1\" class=\"col_heading level0 col1\" >p_HS</th>\n",
       "      <th id=\"T_9f506_level0_col2\" class=\"col_heading level0 col2\" >p_B</th>\n",
       "    </tr>\n",
       "  </thead>\n",
       "  <tbody>\n",
       "    <tr>\n",
       "      <th id=\"T_9f506_level0_row0\" class=\"row_heading level0 row0\" >0</th>\n",
       "      <td id=\"T_9f506_row0_col0\" class=\"data row0 col0\" >\\</td>\n",
       "      <td id=\"T_9f506_row0_col1\" class=\"data row0 col1\" >0.007</td>\n",
       "      <td id=\"T_9f506_row0_col2\" class=\"data row0 col2\" >0.010</td>\n",
       "    </tr>\n",
       "    <tr>\n",
       "      <th id=\"T_9f506_level0_row1\" class=\"row_heading level0 row1\" >1</th>\n",
       "      <td id=\"T_9f506_row1_col0\" class=\"data row1 col0\" >\n",
       "</td>\n",
       "      <td id=\"T_9f506_row1_col1\" class=\"data row1 col1\" >0.080</td>\n",
       "      <td id=\"T_9f506_row1_col2\" class=\"data row1 col2\" >0.094</td>\n",
       "    </tr>\n",
       "    <tr>\n",
       "      <th id=\"T_9f506_level0_row2\" class=\"row_heading level0 row2\" >2</th>\n",
       "      <td id=\"T_9f506_row2_col0\" class=\"data row2 col0\" >{</td>\n",
       "      <td id=\"T_9f506_row2_col1\" class=\"data row2 col1\" >0.504</td>\n",
       "      <td id=\"T_9f506_row2_col2\" class=\"data row2 col2\" >0.531</td>\n",
       "    </tr>\n",
       "    <tr>\n",
       "      <th id=\"T_9f506_level0_row3\" class=\"row_heading level0 row3\" >3</th>\n",
       "      <td id=\"T_9f506_row3_col0\" class=\"data row3 col0\" >\n",
       "\n",
       "</td>\n",
       "      <td id=\"T_9f506_row3_col1\" class=\"data row3 col1\" >0.094</td>\n",
       "      <td id=\"T_9f506_row3_col2\" class=\"data row3 col2\" >0.086</td>\n",
       "    </tr>\n",
       "    <tr>\n",
       "      <th id=\"T_9f506_level0_row4\" class=\"row_heading level0 row4\" >4</th>\n",
       "      <td id=\"T_9f506_row4_col0\" class=\"data row4 col0\" >*</td>\n",
       "      <td id=\"T_9f506_row4_col1\" class=\"data row4 col1\" >0.283</td>\n",
       "      <td id=\"T_9f506_row4_col2\" class=\"data row4 col2\" >0.239</td>\n",
       "    </tr>\n",
       "  </tbody>\n",
       "</table>\n"
      ],
      "text/plain": [
       "<IPython.core.display.HTML object>"
      ]
     },
     "metadata": {},
     "output_type": "display_data"
    },
    {
     "name": "stdout",
     "output_type": "stream",
     "text": [
      "--------------------------------------------------------------------------------------------------------------------------------------------------------------------------------------------------------\n"
     ]
    }
   ],
   "source": [
    "top_vals_hs, top_inds_hs = matrix_topk(kl_hs, k=20)\n",
    "top_vals_ablated, top_inds_ablated = matrix_topk(kl_ablated, k=20)\n",
    "\n",
    "already_printed = []\n",
    "for (batch_idx, seq_idx) in top_inds_hs:\n",
    "    # if batch_idx in already_printed:\n",
    "    #     continue\n",
    "    # already_printed.append(batch_idx)\n",
    "    highlight_kl(model_base, model_hs, model_chat, toks[batch_idx, :seq_idx+10], layer, head, cscale=0.1, ablate=False)\n",
    "    print(\"--\"*100)"
   ]
  },
  {
   "cell_type": "code",
   "execution_count": 16,
   "metadata": {},
   "outputs": [
    {
     "data": {
      "text/html": [
       "&lt;bos&gt;<span style=\"background-color: rgba(255, 0, 0, 0.000); white-space: pre-wrap;\" title=\"KL: 0.000\">&lt;start_of_turn&gt;</span><span style=\"background-color: rgba(255, 0, 0, 0.010); white-space: pre-wrap;\" title=\"KL: 0.001\">user</span><span style=\"background-color: rgba(255, 0, 0, 0.003); white-space: pre-wrap;\" title=\"KL: 0.000\">\n",
       "</span><span style=\"background-color: rgba(255, 0, 0, 0.002); white-space: pre-wrap;\" title=\"KL: 0.000\">Please</span><span style=\"background-color: rgba(255, 0, 0, 0.000); white-space: pre-wrap;\" title=\"KL: 0.000\"> translate</span><span style=\"background-color: rgba(255, 0, 0, 0.000); white-space: pre-wrap;\" title=\"KL: 0.000\"> \"</span><span style=\"background-color: rgba(255, 0, 0, 0.003); white-space: pre-wrap;\" title=\"KL: 0.000\">奋斗</span><span style=\"background-color: rgba(255, 0, 0, 0.004); white-space: pre-wrap;\" title=\"KL: 0.000\">者</span><span style=\"background-color: rgba(255, 0, 0, 0.015); white-space: pre-wrap;\" title=\"KL: 0.001\">\"</span><span style=\"background-color: rgba(255, 0, 0, 0.007); white-space: pre-wrap;\" title=\"KL: 0.001\"> to</span><span style=\"background-color: rgba(255, 0, 0, 0.001); white-space: pre-wrap;\" title=\"KL: 0.000\"> English</span><span style=\"background-color: rgba(255, 0, 0, 0.003); white-space: pre-wrap;\" title=\"KL: 0.000\">.</span><span style=\"background-color: rgba(255, 0, 0, 0.000); white-space: pre-wrap;\" title=\"KL: 0.000\">&lt;end_of_turn&gt;</span><span style=\"background-color: rgba(255, 0, 0, 0.000); white-space: pre-wrap;\" title=\"KL: 0.000\">\n",
       "</span><span style=\"background-color: rgba(255, 0, 0, 0.008); white-space: pre-wrap;\" title=\"KL: 0.001\">&lt;start_of_turn&gt;</span><span style=\"background-color: rgba(255, 0, 0, 0.000); white-space: pre-wrap;\" title=\"KL: 0.000\">model</span><span style=\"background-color: rgba(255, 0, 0, 0.011); white-space: pre-wrap;\" title=\"KL: 0.001\">\n",
       "</span><span style=\"background-color: rgba(255, 0, 0, 0.003); white-space: pre-wrap;\" title=\"KL: 0.000\">\"</span><span style=\"background-color: rgba(255, 0, 0, 0.000); white-space: pre-wrap;\" title=\"KL: 0.000\">奋斗</span><span style=\"background-color: rgba(255, 0, 0, 0.000); white-space: pre-wrap;\" title=\"KL: 0.000\">者</span><span style=\"background-color: rgba(255, 0, 0, 0.000); white-space: pre-wrap;\" title=\"KL: 0.000\">\"</span><span style=\"background-color: rgba(255, 0, 0, 0.017); white-space: pre-wrap;\" title=\"KL: 0.002\"> translates</span><span style=\"background-color: rgba(255, 0, 0, 0.001); white-space: pre-wrap;\" title=\"KL: 0.000\"> to</span><span style=\"background-color: rgba(255, 0, 0, 0.003); white-space: pre-wrap;\" title=\"KL: 0.000\"> **</span><span style=\"background-color: rgba(255, 0, 0, 0.057); white-space: pre-wrap;\" title=\"KL: 0.006\">\"</span><span style=\"background-color: rgba(255, 0, 0, 0.019); white-space: pre-wrap;\" title=\"KL: 0.002\">fighter</span><span style=\"background-color: rgba(255, 0, 0, 0.008); white-space: pre-wrap;\" title=\"KL: 0.001\">\"</span><span style=\"background-color: rgba(255, 0, 0, 0.003); white-space: pre-wrap;\" title=\"KL: 0.000\">**,</span><span style=\"background-color: rgba(255, 0, 0, 0.000); white-space: pre-wrap;\" title=\"KL: 0.000\"> **</span><span style=\"background-color: rgba(255, 0, 0, 0.000); white-space: pre-wrap;\" title=\"KL: 0.000\">\"</span><span style=\"background-color: rgba(255, 0, 0, 0.006); white-space: pre-wrap;\" title=\"KL: 0.001\">stru</span><span style=\"background-color: rgba(255, 0, 0, 0.001); white-space: pre-wrap;\" title=\"KL: 0.000\">gg</span><span style=\"background-color: rgba(255, 0, 0, 0.000); white-space: pre-wrap;\" title=\"KL: 0.000\">ler</span><span style=\"background-color: rgba(255, 0, 0, 0.000); white-space: pre-wrap;\" title=\"KL: 0.000\">\"</span><span style=\"background-color: rgba(255, 0, 0, 0.000); white-space: pre-wrap;\" title=\"KL: 0.000\">**</span><span style=\"background-color: rgba(255, 0, 0, 0.001); white-space: pre-wrap;\" title=\"KL: 0.000\"> or</span><span style=\"background-color: rgba(255, 0, 0, 0.000); white-space: pre-wrap;\" title=\"KL: 0.000\"> **</span><span style=\"background-color: rgba(255, 0, 0, 0.000); white-space: pre-wrap;\" title=\"KL: 0.000\">\"</span><span style=\"background-color: rgba(255, 0, 0, 0.005); white-space: pre-wrap;\" title=\"KL: 0.000\">aspir</span><span style=\"background-color: rgba(255, 0, 0, 0.003); white-space: pre-wrap;\" title=\"KL: 0.000\">ant</span><span style=\"background-color: rgba(255, 0, 0, 0.000); white-space: pre-wrap;\" title=\"KL: 0.000\">\"</span><span style=\"background-color: rgba(255, 0, 0, 0.006); white-space: pre-wrap;\" title=\"KL: 0.001\">**</span><span style=\"background-color: rgba(255, 0, 0, 0.022); white-space: pre-wrap;\" title=\"KL: 0.002\"> in</span><span style=\"background-color: rgba(255, 0, 0, 0.003); white-space: pre-wrap;\" title=\"KL: 0.000\"> English</span><span style=\"background-color: rgba(255, 0, 0, 0.025); white-space: pre-wrap;\" title=\"KL: 0.003\">.</span><span style=\"background-color: rgba(255, 0, 0, 0.002); white-space: pre-wrap;\" title=\"KL: 0.000\"> </span><span style=\"background-color: rgba(255, 0, 0, 0.000); white-space: pre-wrap;\" title=\"KL: 0.000\">\n",
       "\n",
       "</span><span style=\"background-color: rgba(255, 0, 0, 0.011); white-space: pre-wrap;\" title=\"KL: 0.001\">Here</span><span style=\"background-color: rgba(255, 0, 0, 0.001); white-space: pre-wrap;\" title=\"KL: 0.000\">'</span><span style=\"background-color: rgba(255, 0, 0, 0.000); white-space: pre-wrap;\" title=\"KL: 0.000\">s</span><span style=\"background-color: rgba(255, 0, 0, 0.002); white-space: pre-wrap;\" title=\"KL: 0.000\"> how</span><span style=\"background-color: rgba(255, 0, 0, 0.014); white-space: pre-wrap;\" title=\"KL: 0.001\"> I</span><span style=\"background-color: rgba(255, 0, 0, 0.007); white-space: pre-wrap;\" title=\"KL: 0.001\"> understand</span><span style=\"background-color: rgba(255, 0, 0, 0.008); white-space: pre-wrap;\" title=\"KL: 0.001\"> it</span><span style=\"background-color: rgba(255, 0, 0, 0.035); white-space: pre-wrap;\" title=\"KL: 0.003\">:</span><span style=\"background-color: rgba(255, 0, 0, 0.000); white-space: pre-wrap;\" title=\"KL: 0.000\">\n",
       "\n",
       "</span><span style=\"background-color: rgba(255, 0, 0, 0.001); white-space: pre-wrap;\" title=\"KL: 0.000\">*</span><span style=\"background-color: rgba(255, 0, 0, 0.000); white-space: pre-wrap;\" title=\"KL: 0.000\"> **</span><span style=\"background-color: rgba(255, 0, 0, 0.491); white-space: pre-wrap;\" title=\"KL: 0.049\">Fighter</span><span style=\"background-color: rgba(255, 0, 0, 0.001); white-space: pre-wrap;\" title=\"KL: 0.000\">:**</span><span style=\"background-color: rgba(255, 0, 0, 0.003); white-space: pre-wrap;\" title=\"KL: 0.000\"> This</span><span style=\"background-color: rgba(255, 0, 0, 0.003); white-space: pre-wrap;\" title=\"KL: 0.000\"> implies</span><span style=\"background-color: rgba(255, 0, 0, 0.008); white-space: pre-wrap;\" title=\"KL: 0.001\"> someone</span><span style=\"background-color: rgba(255, 0, 0, 0.002); white-space: pre-wrap;\" title=\"KL: 0.000\"> who</span><span style=\"background-color: rgba(255, 0, 0, 0.004); white-space: pre-wrap;\" title=\"KL: 0.000\"> actively</span><span style=\"background-color: rgba(255, 0, 0, 0.006); white-space: pre-wrap;\" title=\"KL: 0.001\"> struggles</span><span style=\"background-color: rgba(255, 0, 0, 0.041); white-space: pre-wrap;\" title=\"KL: 0.004\"> to</span><span style=\"background-color: rgba(255, 0, 0, 0.012); white-space: pre-wrap;\" title=\"KL: 0.001\"> achieve</span><span style=\"background-color: rgba(255, 0, 0, 0.080); white-space: pre-wrap;\" title=\"KL: 0.008\"> a</span><span style=\"background-color: rgba(255, 0, 0, 0.001); white-space: pre-wrap;\" title=\"KL: 0.000\"> goal</span><span style=\"background-color: rgba(255, 0, 0, 0.008); white-space: pre-wrap;\" title=\"KL: 0.001\"> or</span><span style=\"background-color: rgba(255, 0, 0, 0.004); white-space: pre-wrap;\" title=\"KL: 0.000\"> purpose</span><span style=\"background-color: rgba(255, 0, 0, 0.002); white-space: pre-wrap;\" title=\"KL: 0.000\">.</span><span style=\"background-color: rgba(255, 0, 0, 0.015); white-space: pre-wrap;\" title=\"KL: 0.001\">\n",
       "</span><span style=\"background-color: rgba(255, 0, 0, 0.000); white-space: pre-wrap;\" title=\"KL: 0.000\">*</span><span style=\"background-color: rgba(255, 0, 0, 0.000); white-space: pre-wrap;\" title=\"KL: 0.000\"> **</span><span style=\"background-color: rgba(255, 0, 0, 0.000); white-space: pre-wrap;\" title=\"KL: 0.000\">Str</span><span style=\"background-color: rgba(255, 0, 0, 0.001); white-space: pre-wrap;\" title=\"KL: 0.000\">ug</span><span style=\"background-color: rgba(255, 0, 0, 0.000); white-space: pre-wrap;\" title=\"KL: 0.000\">gler</span><span style=\"background-color: rgba(255, 0, 0, 0.000); white-space: pre-wrap;\" title=\"KL: 0.000\">:**</span><span style=\"background-color: rgba(255, 0, 0, 0.006); white-space: pre-wrap;\" title=\"KL: 0.001\"> This</span><span style=\"background-color: rgba(255, 0, 0, 0.004); white-space: pre-wrap;\" title=\"KL: 0.000\"> emphasizes</span><span style=\"background-color: rgba(255, 0, 0, 0.009); white-space: pre-wrap;\" title=\"KL: 0.001\"> the</span><span style=\"background-color: rgba(255, 0, 0, 0.012); white-space: pre-wrap;\" title=\"KL: 0.001\"> act</span><span style=\"background-color: rgba(255, 0, 0, 0.000); white-space: pre-wrap;\" title=\"KL: 0.000\"> of</span><span style=\"background-color: rgba(255, 0, 0, 0.022); white-space: pre-wrap;\" title=\"KL: 0.002\"> persever</span><span style=\"background-color: rgba(255, 0, 0, 0.000); white-space: pre-wrap;\" title=\"KL: 0.000\">ing</span>"
      ],
      "text/plain": [
       "<IPython.core.display.HTML object>"
      ]
     },
     "metadata": {},
     "output_type": "display_data"
    },
    {
     "name": "stdout",
     "output_type": "stream",
     "text": [
      "High KL: 0.0491 at token 'Fighter'\\n\n"
     ]
    },
    {
     "data": {
      "text/html": [
       "<style type=\"text/css\">\n",
       "#T_249f1 th {\n",
       "  text-align: left;\n",
       "}\n",
       "#T_249f1_row0_col0, #T_249f1_row1_col0 {\n",
       "  background-color: forestgreen;\n",
       "  text-align: left;\n",
       "}\n",
       "#T_249f1_row0_col1, #T_249f1_row0_col2, #T_249f1_row1_col1, #T_249f1_row1_col2, #T_249f1_row2_col1, #T_249f1_row2_col2 {\n",
       "  text-align: left;\n",
       "}\n",
       "#T_249f1_row2_col0 {\n",
       "  background-color: indianred;\n",
       "  text-align: left;\n",
       "}\n",
       "</style>\n",
       "<table id=\"T_249f1\">\n",
       "  <thead>\n",
       "    <tr>\n",
       "      <th class=\"blank level0\" >&nbsp;</th>\n",
       "      <th id=\"T_249f1_level0_col0\" class=\"col_heading level0 col0\" >Token</th>\n",
       "      <th id=\"T_249f1_level0_col1\" class=\"col_heading level0 col1\" >p_HS</th>\n",
       "      <th id=\"T_249f1_level0_col2\" class=\"col_heading level0 col2\" >p_B</th>\n",
       "    </tr>\n",
       "  </thead>\n",
       "  <tbody>\n",
       "    <tr>\n",
       "      <th id=\"T_249f1_level0_row0\" class=\"row_heading level0 row0\" >0</th>\n",
       "      <td id=\"T_249f1_row0_col0\" class=\"data row0 col0\" >Stri</td>\n",
       "      <td id=\"T_249f1_row0_col1\" class=\"data row0 col1\" >0.025</td>\n",
       "      <td id=\"T_249f1_row0_col2\" class=\"data row0 col2\" >0.036</td>\n",
       "    </tr>\n",
       "    <tr>\n",
       "      <th id=\"T_249f1_level0_row1\" class=\"row_heading level0 row1\" >1</th>\n",
       "      <td id=\"T_249f1_row1_col0\" class=\"data row1 col0\" >Fighter</td>\n",
       "      <td id=\"T_249f1_row1_col1\" class=\"data row1 col1\" >0.621</td>\n",
       "      <td id=\"T_249f1_row1_col2\" class=\"data row1 col2\" >0.719</td>\n",
       "    </tr>\n",
       "    <tr>\n",
       "      <th id=\"T_249f1_level0_row2\" class=\"row_heading level0 row2\" >2</th>\n",
       "      <td id=\"T_249f1_row2_col0\" class=\"data row2 col0\" >奋斗</td>\n",
       "      <td id=\"T_249f1_row2_col1\" class=\"data row2 col1\" >0.232</td>\n",
       "      <td id=\"T_249f1_row2_col2\" class=\"data row2 col2\" >0.123</td>\n",
       "    </tr>\n",
       "  </tbody>\n",
       "</table>\n"
      ],
      "text/plain": [
       "<IPython.core.display.HTML object>"
      ]
     },
     "metadata": {},
     "output_type": "display_data"
    },
    {
     "name": "stdout",
     "output_type": "stream",
     "text": [
      "--------------------------------------------------------------------------------------------------------------------------------------------------------------------------------------------------------\n"
     ]
    },
    {
     "data": {
      "text/html": [
       "&lt;bos&gt;<span style=\"background-color: rgba(255, 0, 0, 0.000); white-space: pre-wrap;\" title=\"KL: 0.000\">&lt;start_of_turn&gt;</span><span style=\"background-color: rgba(255, 0, 0, 0.010); white-space: pre-wrap;\" title=\"KL: 0.001\">user</span><span style=\"background-color: rgba(255, 0, 0, 0.003); white-space: pre-wrap;\" title=\"KL: 0.000\">\n",
       "</span><span style=\"background-color: rgba(255, 0, 0, 0.002); white-space: pre-wrap;\" title=\"KL: 0.000\">Can</span><span style=\"background-color: rgba(255, 0, 0, 0.000); white-space: pre-wrap;\" title=\"KL: 0.000\"> you</span><span style=\"background-color: rgba(255, 0, 0, 0.001); white-space: pre-wrap;\" title=\"KL: 0.000\"> review</span><span style=\"background-color: rgba(255, 0, 0, 0.001); white-space: pre-wrap;\" title=\"KL: 0.000\"> some</span><span style=\"background-color: rgba(255, 0, 0, 0.004); white-space: pre-wrap;\" title=\"KL: 0.000\"> code</span><span style=\"background-color: rgba(255, 0, 0, 0.012); white-space: pre-wrap;\" title=\"KL: 0.001\"> for</span><span style=\"background-color: rgba(255, 0, 0, 0.009); white-space: pre-wrap;\" title=\"KL: 0.001\"> me</span><span style=\"background-color: rgba(255, 0, 0, 0.007); white-space: pre-wrap;\" title=\"KL: 0.001\">?</span><span style=\"background-color: rgba(255, 0, 0, 0.001); white-space: pre-wrap;\" title=\"KL: 0.000\">\n",
       "\n",
       "</span><span style=\"background-color: rgba(255, 0, 0, 0.000); white-space: pre-wrap;\" title=\"KL: 0.000\">```</span><span style=\"background-color: rgba(255, 0, 0, 0.002); white-space: pre-wrap;\" title=\"KL: 0.000\">rust</span><span style=\"background-color: rgba(255, 0, 0, 0.002); white-space: pre-wrap;\" title=\"KL: 0.000\">\n",
       "</span><span style=\"background-color: rgba(255, 0, 0, 0.002); white-space: pre-wrap;\" title=\"KL: 0.000\">fn</span><span style=\"background-color: rgba(255, 0, 0, 0.001); white-space: pre-wrap;\" title=\"KL: 0.000\"> compress</span><span style=\"background-color: rgba(255, 0, 0, 0.004); white-space: pre-wrap;\" title=\"KL: 0.000\">(</span><span style=\"background-color: rgba(255, 0, 0, 0.013); white-space: pre-wrap;\" title=\"KL: 0.001\">src</span><span style=\"background-color: rgba(255, 0, 0, 0.002); white-space: pre-wrap;\" title=\"KL: 0.000\">:</span><span style=\"background-color: rgba(255, 0, 0, 0.006); white-space: pre-wrap;\" title=\"KL: 0.001\"> Vec</span><span style=\"background-color: rgba(255, 0, 0, 0.003); white-space: pre-wrap;\" title=\"KL: 0.000\">&lt;</span><span style=\"background-color: rgba(255, 0, 0, 0.009); white-space: pre-wrap;\" title=\"KL: 0.001\">u</span><span style=\"background-color: rgba(255, 0, 0, 0.000); white-space: pre-wrap;\" title=\"KL: 0.000\">8</span><span style=\"background-color: rgba(255, 0, 0, 0.001); white-space: pre-wrap;\" title=\"KL: 0.000\">&gt;)</span><span style=\"background-color: rgba(255, 0, 0, 0.000); white-space: pre-wrap;\" title=\"KL: 0.000\"> -&gt;</span><span style=\"background-color: rgba(255, 0, 0, 0.002); white-space: pre-wrap;\" title=\"KL: 0.000\"> Vec</span><span style=\"background-color: rgba(255, 0, 0, 0.000); white-space: pre-wrap;\" title=\"KL: 0.000\">&lt;</span><span style=\"background-color: rgba(255, 0, 0, 0.000); white-space: pre-wrap;\" title=\"KL: 0.000\">u</span><span style=\"background-color: rgba(255, 0, 0, 0.000); white-space: pre-wrap;\" title=\"KL: 0.000\">8</span><span style=\"background-color: rgba(255, 0, 0, 0.000); white-space: pre-wrap;\" title=\"KL: 0.000\">&gt;</span><span style=\"background-color: rgba(255, 0, 0, 0.000); white-space: pre-wrap;\" title=\"KL: 0.000\"> {</span><span style=\"background-color: rgba(255, 0, 0, 0.000); white-space: pre-wrap;\" title=\"KL: 0.000\">\n",
       "</span><span style=\"background-color: rgba(255, 0, 0, 0.003); white-space: pre-wrap;\" title=\"KL: 0.000\">    </span><span style=\"background-color: rgba(255, 0, 0, 0.006); white-space: pre-wrap;\" title=\"KL: 0.001\">const</span><span style=\"background-color: rgba(255, 0, 0, 0.007); white-space: pre-wrap;\" title=\"KL: 0.001\"> COM</span><span style=\"background-color: rgba(255, 0, 0, 0.001); white-space: pre-wrap;\" title=\"KL: 0.000\">PRESS</span><span style=\"background-color: rgba(255, 0, 0, 0.002); white-space: pre-wrap;\" title=\"KL: 0.000\">_</span><span style=\"background-color: rgba(255, 0, 0, 0.025); white-space: pre-wrap;\" title=\"KL: 0.002\">FLAG</span><span style=\"background-color: rgba(255, 0, 0, 0.013); white-space: pre-wrap;\" title=\"KL: 0.001\">:</span><span style=\"background-color: rgba(255, 0, 0, 0.008); white-space: pre-wrap;\" title=\"KL: 0.001\"> u</span><span style=\"background-color: rgba(255, 0, 0, 0.002); white-space: pre-wrap;\" title=\"KL: 0.000\">8</span><span style=\"background-color: rgba(255, 0, 0, 0.000); white-space: pre-wrap;\" title=\"KL: 0.000\"> =</span><span style=\"background-color: rgba(255, 0, 0, 0.000); white-space: pre-wrap;\" title=\"KL: 0.000\"> </span><span style=\"background-color: rgba(255, 0, 0, 0.002); white-space: pre-wrap;\" title=\"KL: 0.000\">0</span><span style=\"background-color: rgba(255, 0, 0, 0.004); white-space: pre-wrap;\" title=\"KL: 0.000\">xFF</span><span style=\"background-color: rgba(255, 0, 0, 0.000); white-space: pre-wrap;\" title=\"KL: 0.000\">;</span><span style=\"background-color: rgba(255, 0, 0, 0.000); white-space: pre-wrap;\" title=\"KL: 0.000\">\n",
       "</span><span style=\"background-color: rgba(255, 0, 0, 0.000); white-space: pre-wrap;\" title=\"KL: 0.000\">    </span><span style=\"background-color: rgba(255, 0, 0, 0.002); white-space: pre-wrap;\" title=\"KL: 0.000\">const</span><span style=\"background-color: rgba(255, 0, 0, 0.005); white-space: pre-wrap;\" title=\"KL: 0.000\"> WINDOW</span><span style=\"background-color: rgba(255, 0, 0, 0.000); white-space: pre-wrap;\" title=\"KL: 0.000\">_</span><span style=\"background-color: rgba(255, 0, 0, 0.000); white-space: pre-wrap;\" title=\"KL: 0.000\">SIZE</span><span style=\"background-color: rgba(255, 0, 0, 0.000); white-space: pre-wrap;\" title=\"KL: 0.000\">:</span><span style=\"background-color: rgba(255, 0, 0, 0.002); white-space: pre-wrap;\" title=\"KL: 0.000\"> usize</span><span style=\"background-color: rgba(255, 0, 0, 0.000); white-space: pre-wrap;\" title=\"KL: 0.000\"> =</span><span style=\"background-color: rgba(255, 0, 0, 0.000); white-space: pre-wrap;\" title=\"KL: 0.000\"> </span><span style=\"background-color: rgba(255, 0, 0, 0.007); white-space: pre-wrap;\" title=\"KL: 0.001\">1</span><span style=\"background-color: rgba(255, 0, 0, 0.013); white-space: pre-wrap;\" title=\"KL: 0.001\">0</span><span style=\"background-color: rgba(255, 0, 0, 0.000); white-space: pre-wrap;\" title=\"KL: 0.000\">2</span><span style=\"background-color: rgba(255, 0, 0, 0.000); white-space: pre-wrap;\" title=\"KL: 0.000\">4</span><span style=\"background-color: rgba(255, 0, 0, 0.000); white-space: pre-wrap;\" title=\"KL: 0.000\">;</span><span style=\"background-color: rgba(255, 0, 0, 0.000); white-space: pre-wrap;\" title=\"KL: 0.000\">\n",
       "</span><span style=\"background-color: rgba(255, 0, 0, 0.000); white-space: pre-wrap;\" title=\"KL: 0.000\">    </span><span style=\"background-color: rgba(255, 0, 0, 0.001); white-space: pre-wrap;\" title=\"KL: 0.000\">const</span><span style=\"background-color: rgba(255, 0, 0, 0.008); white-space: pre-wrap;\" title=\"KL: 0.001\"> MAX</span><span style=\"background-color: rgba(255, 0, 0, 0.000); white-space: pre-wrap;\" title=\"KL: 0.000\">_</span><span style=\"background-color: rgba(255, 0, 0, 0.005); white-space: pre-wrap;\" title=\"KL: 0.001\">COM</span><span style=\"background-color: rgba(255, 0, 0, 0.000); white-space: pre-wrap;\" title=\"KL: 0.000\">PRESS</span><span style=\"background-color: rgba(255, 0, 0, 0.008); white-space: pre-wrap;\" title=\"KL: 0.001\">_</span><span style=\"background-color: rgba(255, 0, 0, 0.018); white-space: pre-wrap;\" title=\"KL: 0.002\">LEN</span><span style=\"background-color: rgba(255, 0, 0, 0.000); white-space: pre-wrap;\" title=\"KL: 0.000\">:</span><span style=\"background-color: rgba(255, 0, 0, 0.000); white-space: pre-wrap;\" title=\"KL: 0.000\"> usize</span><span style=\"background-color: rgba(255, 0, 0, 0.000); white-space: pre-wrap;\" title=\"KL: 0.000\"> =</span><span style=\"background-color: rgba(255, 0, 0, 0.009); white-space: pre-wrap;\" title=\"KL: 0.001\"> </span><span style=\"background-color: rgba(255, 0, 0, 0.001); white-space: pre-wrap;\" title=\"KL: 0.000\">6</span><span style=\"background-color: rgba(255, 0, 0, 0.002); white-space: pre-wrap;\" title=\"KL: 0.000\">3</span><span style=\"background-color: rgba(255, 0, 0, 0.003); white-space: pre-wrap;\" title=\"KL: 0.000\">;</span><span style=\"background-color: rgba(255, 0, 0, 0.001); white-space: pre-wrap;\" title=\"KL: 0.000\">\n",
       "\n",
       "</span><span style=\"background-color: rgba(255, 0, 0, 0.000); white-space: pre-wrap;\" title=\"KL: 0.000\">    </span><span style=\"background-color: rgba(255, 0, 0, 0.001); white-space: pre-wrap;\" title=\"KL: 0.000\">fn</span><span style=\"background-color: rgba(255, 0, 0, 0.012); white-space: pre-wrap;\" title=\"KL: 0.001\"> push</span><span style=\"background-color: rgba(255, 0, 0, 0.002); white-space: pre-wrap;\" title=\"KL: 0.000\">_</span><span style=\"background-color: rgba(255, 0, 0, 0.007); white-space: pre-wrap;\" title=\"KL: 0.001\">literal</span><span style=\"background-color: rgba(255, 0, 0, 0.004); white-space: pre-wrap;\" title=\"KL: 0.000\">(</span><span style=\"background-color: rgba(255, 0, 0, 0.017); white-space: pre-wrap;\" title=\"KL: 0.002\">out</span><span style=\"background-color: rgba(255, 0, 0, 0.001); white-space: pre-wrap;\" title=\"KL: 0.000\">:</span><span style=\"background-color: rgba(255, 0, 0, 0.001); white-space: pre-wrap;\" title=\"KL: 0.000\"> &amp;</span><span style=\"background-color: rgba(255, 0, 0, 0.000); white-space: pre-wrap;\" title=\"KL: 0.000\">mut</span><span style=\"background-color: rgba(255, 0, 0, 0.000); white-space: pre-wrap;\" title=\"KL: 0.000\"> Vec</span><span style=\"background-color: rgba(255, 0, 0, 0.000); white-space: pre-wrap;\" title=\"KL: 0.000\">&lt;</span><span style=\"background-color: rgba(255, 0, 0, 0.000); white-space: pre-wrap;\" title=\"KL: 0.000\">u</span><span style=\"background-color: rgba(255, 0, 0, 0.000); white-space: pre-wrap;\" title=\"KL: -0.000\">8</span><span style=\"background-color: rgba(255, 0, 0, 0.000); white-space: pre-wrap;\" title=\"KL: 0.000\">&gt;,</span><span style=\"background-color: rgba(255, 0, 0, 0.016); white-space: pre-wrap;\" title=\"KL: 0.002\"> byte</span><span style=\"background-color: rgba(255, 0, 0, 0.000); white-space: pre-wrap;\" title=\"KL: 0.000\">:</span><span style=\"background-color: rgba(255, 0, 0, 0.001); white-space: pre-wrap;\" title=\"KL: 0.000\"> u</span><span style=\"background-color: rgba(255, 0, 0, 0.000); white-space: pre-wrap;\" title=\"KL: -0.000\">8</span><span style=\"background-color: rgba(255, 0, 0, 0.002); white-space: pre-wrap;\" title=\"KL: 0.000\">)</span><span style=\"background-color: rgba(255, 0, 0, 0.005); white-space: pre-wrap;\" title=\"KL: 0.001\"> {</span><span style=\"background-color: rgba(255, 0, 0, 0.000); white-space: pre-wrap;\" title=\"KL: 0.000\">\n",
       "</span><span style=\"background-color: rgba(255, 0, 0, 0.000); white-space: pre-wrap;\" title=\"KL: 0.000\">        </span><span style=\"background-color: rgba(255, 0, 0, 0.004); white-space: pre-wrap;\" title=\"KL: 0.000\">if</span><span style=\"background-color: rgba(255, 0, 0, 0.013); white-space: pre-wrap;\" title=\"KL: 0.001\"> byte</span><span style=\"background-color: rgba(255, 0, 0, 0.007); white-space: pre-wrap;\" title=\"KL: 0.001\"> ==</span><span style=\"background-color: rgba(255, 0, 0, 0.001); white-space: pre-wrap;\" title=\"KL: 0.000\"> COM</span><span style=\"background-color: rgba(255, 0, 0, 0.000); white-space: pre-wrap;\" title=\"KL: 0.000\">PRESS</span><span style=\"background-color: rgba(255, 0, 0, 0.000); white-space: pre-wrap;\" title=\"KL: 0.000\">_</span><span style=\"background-color: rgba(255, 0, 0, 0.000); white-space: pre-wrap;\" title=\"KL: 0.000\">FLAG</span><span style=\"background-color: rgba(255, 0, 0, 0.000); white-space: pre-wrap;\" title=\"KL: 0.000\"> {</span><span style=\"background-color: rgba(255, 0, 0, 0.000); white-space: pre-wrap;\" title=\"KL: 0.000\">\n",
       "</span><span style=\"background-color: rgba(255, 0, 0, 0.000); white-space: pre-wrap;\" title=\"KL: 0.000\">            </span><span style=\"background-color: rgba(255, 0, 0, 0.003); white-space: pre-wrap;\" title=\"KL: 0.000\">out</span><span style=\"background-color: rgba(255, 0, 0, 0.000); white-space: pre-wrap;\" title=\"KL: 0.000\">.</span><span style=\"background-color: rgba(255, 0, 0, 0.001); white-space: pre-wrap;\" title=\"KL: 0.000\">push</span><span style=\"background-color: rgba(255, 0, 0, 0.000); white-space: pre-wrap;\" title=\"KL: 0.000\">(</span><span style=\"background-color: rgba(255, 0, 0, 0.017); white-space: pre-wrap;\" title=\"KL: 0.002\">COM</span><span style=\"background-color: rgba(255, 0, 0, 0.000); white-space: pre-wrap;\" title=\"KL: 0.000\">PRESS</span><span style=\"background-color: rgba(255, 0, 0, 0.000); white-space: pre-wrap;\" title=\"KL: 0.000\">_</span><span style=\"background-color: rgba(255, 0, 0, 0.000); white-space: pre-wrap;\" title=\"KL: 0.000\">FLAG</span><span style=\"background-color: rgba(255, 0, 0, 0.000); white-space: pre-wrap;\" title=\"KL: 0.000\">);</span><span style=\"background-color: rgba(255, 0, 0, 0.000); white-space: pre-wrap;\" title=\"KL: 0.000\">\n",
       "</span><span style=\"background-color: rgba(255, 0, 0, 0.002); white-space: pre-wrap;\" title=\"KL: 0.000\">            </span><span style=\"background-color: rgba(255, 0, 0, 0.001); white-space: pre-wrap;\" title=\"KL: 0.000\">out</span><span style=\"background-color: rgba(255, 0, 0, 0.000); white-space: pre-wrap;\" title=\"KL: 0.000\">.</span><span style=\"background-color: rgba(255, 0, 0, 0.002); white-space: pre-wrap;\" title=\"KL: 0.000\">push</span><span style=\"background-color: rgba(255, 0, 0, 0.000); white-space: pre-wrap;\" title=\"KL: 0.000\">(</span><span style=\"background-color: rgba(255, 0, 0, 0.021); white-space: pre-wrap;\" title=\"KL: 0.002\">0</span><span style=\"background-color: rgba(255, 0, 0, 0.003); white-space: pre-wrap;\" title=\"KL: 0.000\">x</span><span style=\"background-color: rgba(255, 0, 0, 0.000); white-space: pre-wrap;\" title=\"KL: 0.000\">0</span><span style=\"background-color: rgba(255, 0, 0, 0.003); white-space: pre-wrap;\" title=\"KL: 0.000\">0</span><span style=\"background-color: rgba(255, 0, 0, 0.000); white-space: pre-wrap;\" title=\"KL: 0.000\">);</span><span style=\"background-color: rgba(255, 0, 0, 0.001); white-space: pre-wrap;\" title=\"KL: 0.000\">\n",
       "</span><span style=\"background-color: rgba(255, 0, 0, 0.003); white-space: pre-wrap;\" title=\"KL: 0.000\">        </span><span style=\"background-color: rgba(255, 0, 0, 0.000); white-space: pre-wrap;\" title=\"KL: 0.000\">}</span><span style=\"background-color: rgba(255, 0, 0, 0.001); white-space: pre-wrap;\" title=\"KL: 0.000\"> else</span><span style=\"background-color: rgba(255, 0, 0, 0.000); white-space: pre-wrap;\" title=\"KL: 0.000\"> {</span><span style=\"background-color: rgba(255, 0, 0, 0.000); white-space: pre-wrap;\" title=\"KL: 0.000\">\n",
       "</span><span style=\"background-color: rgba(255, 0, 0, 0.000); white-space: pre-wrap;\" title=\"KL: 0.000\">            </span><span style=\"background-color: rgba(255, 0, 0, 0.002); white-space: pre-wrap;\" title=\"KL: 0.000\">out</span><span style=\"background-color: rgba(255, 0, 0, 0.000); white-space: pre-wrap;\" title=\"KL: 0.000\">.</span><span style=\"background-color: rgba(255, 0, 0, 0.000); white-space: pre-wrap;\" title=\"KL: 0.000\">push</span><span style=\"background-color: rgba(255, 0, 0, 0.000); white-space: pre-wrap;\" title=\"KL: 0.000\">(</span><span style=\"background-color: rgba(255, 0, 0, 0.000); white-space: pre-wrap;\" title=\"KL: 0.000\">byte</span><span style=\"background-color: rgba(255, 0, 0, 0.000); white-space: pre-wrap;\" title=\"KL: 0.000\">);</span><span style=\"background-color: rgba(255, 0, 0, 0.000); white-space: pre-wrap;\" title=\"KL: 0.000\">\n",
       "</span><span style=\"background-color: rgba(255, 0, 0, 0.000); white-space: pre-wrap;\" title=\"KL: 0.000\">        </span><span style=\"background-color: rgba(255, 0, 0, 0.000); white-space: pre-wrap;\" title=\"KL: -0.000\">}</span><span style=\"background-color: rgba(255, 0, 0, 0.000); white-space: pre-wrap;\" title=\"KL: 0.000\">\n",
       "</span><span style=\"background-color: rgba(255, 0, 0, 0.000); white-space: pre-wrap;\" title=\"KL: 0.000\">    </span><span style=\"background-color: rgba(255, 0, 0, 0.000); white-space: pre-wrap;\" title=\"KL: 0.000\">}</span><span style=\"background-color: rgba(255, 0, 0, 0.000); white-space: pre-wrap;\" title=\"KL: 0.000\">\n",
       "\n",
       "</span><span style=\"background-color: rgba(255, 0, 0, 0.000); white-space: pre-wrap;\" title=\"KL: 0.000\">    </span><span style=\"background-color: rgba(255, 0, 0, 0.005); white-space: pre-wrap;\" title=\"KL: 0.000\">let</span><span style=\"background-color: rgba(255, 0, 0, 0.001); white-space: pre-wrap;\" title=\"KL: 0.000\"> mut</span><span style=\"background-color: rgba(255, 0, 0, 0.027); white-space: pre-wrap;\" title=\"KL: 0.003\"> output</span><span style=\"background-color: rgba(255, 0, 0, 0.002); white-space: pre-wrap;\" title=\"KL: 0.000\"> =</span><span style=\"background-color: rgba(255, 0, 0, 0.000); white-space: pre-wrap;\" title=\"KL: 0.000\"> Vec</span><span style=\"background-color: rgba(255, 0, 0, 0.002); white-space: pre-wrap;\" title=\"KL: 0.000\">::</span><span style=\"background-color: rgba(255, 0, 0, 0.002); white-space: pre-wrap;\" title=\"KL: 0.000\">new</span><span style=\"background-color: rgba(255, 0, 0, 0.000); white-space: pre-wrap;\" title=\"KL: 0.000\">();</span><span style=\"background-color: rgba(255, 0, 0, 0.000); white-space: pre-wrap;\" title=\"KL: 0.000\">\n",
       "</span><span style=\"background-color: rgba(255, 0, 0, 0.000); white-space: pre-wrap;\" title=\"KL: 0.000\">    </span><span style=\"background-color: rgba(255, 0, 0, 0.001); white-space: pre-wrap;\" title=\"KL: 0.000\">let</span><span style=\"background-color: rgba(255, 0, 0, 0.001); white-space: pre-wrap;\" title=\"KL: 0.000\"> mut</span><span style=\"background-color: rgba(255, 0, 0, 0.006); white-space: pre-wrap;\" title=\"KL: 0.001\"> i</span><span style=\"background-color: rgba(255, 0, 0, 0.000); white-space: pre-wrap;\" title=\"KL: 0.000\"> =</span><span style=\"background-color: rgba(255, 0, 0, 0.000); white-space: pre-wrap;\" title=\"KL: 0.000\"> </span><span style=\"background-color: rgba(255, 0, 0, 0.000); white-space: pre-wrap;\" title=\"KL: -0.000\">0</span><span style=\"background-color: rgba(255, 0, 0, 0.001); white-space: pre-wrap;\" title=\"KL: 0.000\">;</span><span style=\"background-color: rgba(255, 0, 0, 0.001); white-space: pre-wrap;\" title=\"KL: 0.000\">\n",
       "\n",
       "</span><span style=\"background-color: rgba(255, 0, 0, 0.000); white-space: pre-wrap;\" title=\"KL: 0.000\">    </span><span style=\"background-color: rgba(255, 0, 0, 0.009); white-space: pre-wrap;\" title=\"KL: 0.001\">while</span><span style=\"background-color: rgba(255, 0, 0, 0.000); white-space: pre-wrap;\" title=\"KL: 0.000\"> i</span><span style=\"background-color: rgba(255, 0, 0, 0.000); white-space: pre-wrap;\" title=\"KL: 0.000\"> &lt;</span><span style=\"background-color: rgba(255, 0, 0, 0.000); white-space: pre-wrap;\" title=\"KL: 0.000\"> src</span><span style=\"background-color: rgba(255, 0, 0, 0.000); white-space: pre-wrap;\" title=\"KL: 0.000\">.</span><span style=\"background-color: rgba(255, 0, 0, 0.000); white-space: pre-wrap;\" title=\"KL: 0.000\">len</span><span style=\"background-color: rgba(255, 0, 0, 0.000); white-space: pre-wrap;\" title=\"KL: 0.000\">()</span><span style=\"background-color: rgba(255, 0, 0, 0.004); white-space: pre-wrap;\" title=\"KL: 0.000\"> {</span><span style=\"background-color: rgba(255, 0, 0, 0.000); white-space: pre-wrap;\" title=\"KL: 0.000\">\n",
       "</span><span style=\"background-color: rgba(255, 0, 0, 0.000); white-space: pre-wrap;\" title=\"KL: 0.000\">        </span><span style=\"background-color: rgba(255, 0, 0, 0.000); white-space: pre-wrap;\" title=\"KL: 0.000\">let</span><span style=\"background-color: rgba(255, 0, 0, 0.002); white-space: pre-wrap;\" title=\"KL: 0.000\"> window</span><span style=\"background-color: rgba(255, 0, 0, 0.004); white-space: pre-wrap;\" title=\"KL: 0.000\">_</span><span style=\"background-color: rgba(255, 0, 0, 0.009); white-space: pre-wrap;\" title=\"KL: 0.001\">start</span><span style=\"background-color: rgba(255, 0, 0, 0.000); white-space: pre-wrap;\" title=\"KL: 0.000\"> =</span><span style=\"background-color: rgba(255, 0, 0, 0.000); white-space: pre-wrap;\" title=\"KL: 0.000\"> i</span><span style=\"background-color: rgba(255, 0, 0, 0.010); white-space: pre-wrap;\" title=\"KL: 0.001\">.</span><span style=\"background-color: rgba(255, 0, 0, 0.020); white-space: pre-wrap;\" title=\"KL: 0.002\">s</span><span style=\"background-color: rgba(255, 0, 0, 0.000); white-space: pre-wrap;\" title=\"KL: 0.000\">atur</span><span style=\"background-color: rgba(255, 0, 0, 0.000); white-space: pre-wrap;\" title=\"KL: 0.000\">ating</span><span style=\"background-color: rgba(255, 0, 0, 0.000); white-space: pre-wrap;\" title=\"KL: 0.000\">_</span><span style=\"background-color: rgba(255, 0, 0, 0.001); white-space: pre-wrap;\" title=\"KL: 0.000\">sub</span><span style=\"background-color: rgba(255, 0, 0, 0.000); white-space: pre-wrap;\" title=\"KL: 0.000\">(</span><span style=\"background-color: rgba(255, 0, 0, 0.000); white-space: pre-wrap;\" title=\"KL: 0.000\">WINDOW</span><span style=\"background-color: rgba(255, 0, 0, 0.000); white-space: pre-wrap;\" title=\"KL: -0.000\">_</span><span style=\"background-color: rgba(255, 0, 0, 0.000); white-space: pre-wrap;\" title=\"KL: -0.000\">SIZE</span><span style=\"background-color: rgba(255, 0, 0, 0.014); white-space: pre-wrap;\" title=\"KL: 0.001\">);</span><span style=\"background-color: rgba(255, 0, 0, 0.000); white-space: pre-wrap;\" title=\"KL: 0.000\">\n",
       "</span><span style=\"background-color: rgba(255, 0, 0, 0.000); white-space: pre-wrap;\" title=\"KL: 0.000\">        </span><span style=\"background-color: rgba(255, 0, 0, 0.000); white-space: pre-wrap;\" title=\"KL: 0.000\">let</span><span style=\"background-color: rgba(255, 0, 0, 0.001); white-space: pre-wrap;\" title=\"KL: 0.000\"> window</span><span style=\"background-color: rgba(255, 0, 0, 0.001); white-space: pre-wrap;\" title=\"KL: 0.000\"> =</span><span style=\"background-color: rgba(255, 0, 0, 0.004); white-space: pre-wrap;\" title=\"KL: 0.000\"> &amp;</span><span style=\"background-color: rgba(255, 0, 0, 0.000); white-space: pre-wrap;\" title=\"KL: 0.000\">src</span><span style=\"background-color: rgba(255, 0, 0, 0.000); white-space: pre-wrap;\" title=\"KL: 0.000\">[</span><span style=\"background-color: rgba(255, 0, 0, 0.001); white-space: pre-wrap;\" title=\"KL: 0.000\">window</span><span style=\"background-color: rgba(255, 0, 0, 0.000); white-space: pre-wrap;\" title=\"KL: 0.000\">_</span><span style=\"background-color: rgba(255, 0, 0, 0.000); white-space: pre-wrap;\" title=\"KL: 0.000\">start</span><span style=\"background-color: rgba(255, 0, 0, 0.003); white-space: pre-wrap;\" title=\"KL: 0.000\">..</span><span style=\"background-color: rgba(255, 0, 0, 0.014); white-space: pre-wrap;\" title=\"KL: 0.001\">i</span><span style=\"background-color: rgba(255, 0, 0, 0.016); white-space: pre-wrap;\" title=\"KL: 0.002\">];</span><span style=\"background-color: rgba(255, 0, 0, 0.000); white-space: pre-wrap;\" title=\"KL: 0.000\">\n",
       "\n",
       "</span><span style=\"background-color: rgba(255, 0, 0, 0.000); white-space: pre-wrap;\" title=\"KL: 0.000\">        </span><span style=\"background-color: rgba(255, 0, 0, 0.004); white-space: pre-wrap;\" title=\"KL: 0.000\">let</span><span style=\"background-color: rgba(255, 0, 0, 0.002); white-space: pre-wrap;\" title=\"KL: 0.000\"> (</span><span style=\"background-color: rgba(255, 0, 0, 0.011); white-space: pre-wrap;\" title=\"KL: 0.001\">j</span><span style=\"background-color: rgba(255, 0, 0, 0.000); white-space: pre-wrap;\" title=\"KL: 0.000\">,</span><span style=\"background-color: rgba(255, 0, 0, 0.013); white-space: pre-wrap;\" title=\"KL: 0.001\"> len</span><span style=\"background-color: rgba(255, 0, 0, 0.004); white-space: pre-wrap;\" title=\"KL: 0.000\">)</span><span style=\"background-color: rgba(255, 0, 0, 0.000); white-space: pre-wrap;\" title=\"KL: 0.000\"> =</span><span style=\"background-color: rgba(255, 0, 0, 0.021); white-space: pre-wrap;\" title=\"KL: 0.002\"> window</span><span style=\"background-color: rgba(255, 0, 0, 0.003); white-space: pre-wrap;\" title=\"KL: 0.000\">\n",
       "</span><span style=\"background-color: rgba(255, 0, 0, 0.000); white-space: pre-wrap;\" title=\"KL: 0.000\">            </span><span style=\"background-color: rgba(255, 0, 0, 0.000); white-space: pre-wrap;\" title=\"KL: 0.000\">.</span><span style=\"background-color: rgba(255, 0, 0, 0.038); white-space: pre-wrap;\" title=\"KL: 0.004\">iter</span><span style=\"background-color: rgba(255, 0, 0, 0.000); white-space: pre-wrap;\" title=\"KL: 0.000\">()</span><span style=\"background-color: rgba(255, 0, 0, 0.000); white-space: pre-wrap;\" title=\"KL: 0.000\">\n",
       "</span><span style=\"background-color: rgba(255, 0, 0, 0.000); white-space: pre-wrap;\" title=\"KL: 0.000\">            </span><span style=\"background-color: rgba(255, 0, 0, 0.000); white-space: pre-wrap;\" title=\"KL: 0.000\">.</span><span style=\"background-color: rgba(255, 0, 0, 0.008); white-space: pre-wrap;\" title=\"KL: 0.001\">enumerate</span><span style=\"background-color: rgba(255, 0, 0, 0.000); white-space: pre-wrap;\" title=\"KL: 0.000\">()</span><span style=\"background-color: rgba(255, 0, 0, 0.000); white-space: pre-wrap;\" title=\"KL: 0.000\">\n",
       "</span><span style=\"background-color: rgba(255, 0, 0, 0.000); white-space: pre-wrap;\" title=\"KL: 0.000\">            </span><span style=\"background-color: rgba(255, 0, 0, 0.000); white-space: pre-wrap;\" title=\"KL: 0.000\">.</span><span style=\"background-color: rgba(255, 0, 0, 0.005); white-space: pre-wrap;\" title=\"KL: 0.001\">filter</span><span style=\"background-color: rgba(255, 0, 0, 0.001); white-space: pre-wrap;\" title=\"KL: 0.000\">(|</span><span style=\"background-color: rgba(255, 0, 0, 0.005); white-space: pre-wrap;\" title=\"KL: 0.000\">(_,</span><span style=\"background-color: rgba(255, 0, 0, 0.009); white-space: pre-wrap;\" title=\"KL: 0.001\"> &amp;</span><span style=\"background-color: rgba(255, 0, 0, 0.007); white-space: pre-wrap;\" title=\"KL: 0.001\">x</span><span style=\"background-color: rgba(255, 0, 0, 0.000); white-space: pre-wrap;\" title=\"KL: 0.000\">)|</span><span style=\"background-color: rgba(255, 0, 0, 0.007); white-space: pre-wrap;\" title=\"KL: 0.001\"> x</span><span style=\"background-color: rgba(255, 0, 0, 0.007); white-space: pre-wrap;\" title=\"KL: 0.001\"> ==</span><span style=\"background-color: rgba(255, 0, 0, 0.427); white-space: pre-wrap;\" title=\"KL: 0.043\"> src</span><span style=\"background-color: rgba(255, 0, 0, 0.004); white-space: pre-wrap;\" title=\"KL: 0.000\">[</span><span style=\"background-color: rgba(255, 0, 0, 0.000); white-space: pre-wrap;\" title=\"KL: 0.000\">i</span><span style=\"background-color: rgba(255, 0, 0, 0.000); white-space: pre-wrap;\" title=\"KL: 0.000\">])</span><span style=\"background-color: rgba(255, 0, 0, 0.001); white-space: pre-wrap;\" title=\"KL: 0.000\">\n",
       "</span><span style=\"background-color: rgba(255, 0, 0, 0.000); white-space: pre-wrap;\" title=\"KL: 0.000\">            </span><span style=\"background-color: rgba(255, 0, 0, 0.000); white-space: pre-wrap;\" title=\"KL: 0.000\">.</span><span style=\"background-color: rgba(255, 0, 0, 0.033); white-space: pre-wrap;\" title=\"KL: 0.003\">map</span><span style=\"background-color: rgba(255, 0, 0, 0.010); white-space: pre-wrap;\" title=\"KL: 0.001\">(</span><span style=\"background-color: rgba(255, 0, 0, 0.000); white-space: pre-wrap;\" title=\"KL: 0.000\">|(</span><span style=\"background-color: rgba(255, 0, 0, 0.001); white-space: pre-wrap;\" title=\"KL: 0.000\">j</span><span style=\"background-color: rgba(255, 0, 0, 0.000); white-space: pre-wrap;\" title=\"KL: 0.000\">,</span><span style=\"background-color: rgba(255, 0, 0, 0.064); white-space: pre-wrap;\" title=\"KL: 0.006\"> _</span><span style=\"background-color: rgba(255, 0, 0, 0.000); white-space: pre-wrap;\" title=\"KL: 0.000\">)|</span><span style=\"background-color: rgba(255, 0, 0, 0.007); white-space: pre-wrap;\" title=\"KL: 0.001\"> {</span><span style=\"background-color: rgba(255, 0, 0, 0.000); white-space: pre-wrap;\" title=\"KL: 0.000\">\n",
       "</span><span style=\"background-color: rgba(255, 0, 0, 0.000); white-space: pre-wrap;\" title=\"KL: 0.000\">                </span><span style=\"background-color: rgba(255, 0, 0, 0.004); white-space: pre-wrap;\" title=\"KL: 0.000\">(</span><span style=\"background-color: rgba(255, 0, 0, 0.000); white-space: pre-wrap;\" title=\"KL: 0.000\">\n",
       "</span><span style=\"background-color: rgba(255, 0, 0, 0.000); white-space: pre-wrap;\" title=\"KL: 0.000\">                    </span><span style=\"background-color: rgba(255, 0, 0, 0.002); white-space: pre-wrap;\" title=\"KL: 0.000\">j</span><span style=\"background-color: rgba(255, 0, 0, 0.002); white-space: pre-wrap;\" title=\"KL: 0.000\">,</span><span style=\"background-color: rgba(255, 0, 0, 0.000); white-space: pre-wrap;\" title=\"KL: 0.000\">\n",
       "</span><span style=\"background-color: rgba(255, 0, 0, 0.000); white-space: pre-wrap;\" title=\"KL: 0.000\">                    </span><span style=\"background-color: rgba(255, 0, 0, 0.008); white-space: pre-wrap;\" title=\"KL: 0.001\">src</span><span style=\"background-color: rgba(255, 0, 0, 0.018); white-space: pre-wrap;\" title=\"KL: 0.002\">[(</span><span style=\"background-color: rgba(255, 0, 0, 0.007); white-space: pre-wrap;\" title=\"KL: 0.001\">j</span><span style=\"background-color: rgba(255, 0, 0, 0.013); white-space: pre-wrap;\" title=\"KL: 0.001\"> +</span><span style=\"background-color: rgba(255, 0, 0, 0.005); white-space: pre-wrap;\" title=\"KL: 0.000\"> window</span>"
      ],
      "text/plain": [
       "<IPython.core.display.HTML object>"
      ]
     },
     "metadata": {},
     "output_type": "display_data"
    },
    {
     "name": "stdout",
     "output_type": "stream",
     "text": [
      "High KL: 0.0427 at token ' src'\\n\n"
     ]
    },
    {
     "data": {
      "text/html": [
       "<style type=\"text/css\">\n",
       "#T_e57a2 th {\n",
       "  text-align: left;\n",
       "}\n",
       "#T_e57a2_row0_col0, #T_e57a2_row1_col0 {\n",
       "  background-color: forestgreen;\n",
       "  text-align: left;\n",
       "}\n",
       "#T_e57a2_row0_col1, #T_e57a2_row0_col2, #T_e57a2_row1_col1, #T_e57a2_row1_col2, #T_e57a2_row2_col1, #T_e57a2_row2_col2 {\n",
       "  text-align: left;\n",
       "}\n",
       "#T_e57a2_row2_col0 {\n",
       "  background-color: indianred;\n",
       "  text-align: left;\n",
       "}\n",
       "</style>\n",
       "<table id=\"T_e57a2\">\n",
       "  <thead>\n",
       "    <tr>\n",
       "      <th class=\"blank level0\" >&nbsp;</th>\n",
       "      <th id=\"T_e57a2_level0_col0\" class=\"col_heading level0 col0\" >Token</th>\n",
       "      <th id=\"T_e57a2_level0_col1\" class=\"col_heading level0 col1\" >p_HS</th>\n",
       "      <th id=\"T_e57a2_level0_col2\" class=\"col_heading level0 col2\" >p_B</th>\n",
       "    </tr>\n",
       "  </thead>\n",
       "  <tbody>\n",
       "    <tr>\n",
       "      <th id=\"T_e57a2_level0_row0\" class=\"row_heading level0 row0\" >0</th>\n",
       "      <td id=\"T_e57a2_row0_col0\" class=\"data row0 col0\" > window</td>\n",
       "      <td id=\"T_e57a2_row0_col1\" class=\"data row0 col1\" >0.377</td>\n",
       "      <td id=\"T_e57a2_row0_col2\" class=\"data row0 col2\" >0.488</td>\n",
       "    </tr>\n",
       "    <tr>\n",
       "      <th id=\"T_e57a2_level0_row1\" class=\"row_heading level0 row1\" >1</th>\n",
       "      <td id=\"T_e57a2_row1_col0\" class=\"data row1 col0\" > *</td>\n",
       "      <td id=\"T_e57a2_row1_col1\" class=\"data row1 col1\" >0.103</td>\n",
       "      <td id=\"T_e57a2_row1_col2\" class=\"data row1 col2\" >0.120</td>\n",
       "    </tr>\n",
       "    <tr>\n",
       "      <th id=\"T_e57a2_level0_row2\" class=\"row_heading level0 row2\" >2</th>\n",
       "      <td id=\"T_e57a2_row2_col0\" class=\"data row2 col0\" > COM</td>\n",
       "      <td id=\"T_e57a2_row2_col1\" class=\"data row2 col1\" >0.393</td>\n",
       "      <td id=\"T_e57a2_row2_col2\" class=\"data row2 col2\" >0.264</td>\n",
       "    </tr>\n",
       "  </tbody>\n",
       "</table>\n"
      ],
      "text/plain": [
       "<IPython.core.display.HTML object>"
      ]
     },
     "metadata": {},
     "output_type": "display_data"
    },
    {
     "name": "stdout",
     "output_type": "stream",
     "text": [
      "--------------------------------------------------------------------------------------------------------------------------------------------------------------------------------------------------------\n"
     ]
    },
    {
     "data": {
      "text/html": [
       "&lt;bos&gt;<span style=\"background-color: rgba(255, 0, 0, 0.000); white-space: pre-wrap;\" title=\"KL: 0.000\">&lt;start_of_turn&gt;</span><span style=\"background-color: rgba(255, 0, 0, 0.010); white-space: pre-wrap;\" title=\"KL: 0.001\">user</span><span style=\"background-color: rgba(255, 0, 0, 0.003); white-space: pre-wrap;\" title=\"KL: 0.000\">\n",
       "</span><span style=\"background-color: rgba(255, 0, 0, 0.002); white-space: pre-wrap;\" title=\"KL: 0.000\">What</span><span style=\"background-color: rgba(255, 0, 0, 0.000); white-space: pre-wrap;\" title=\"KL: 0.000\"> is</span><span style=\"background-color: rgba(255, 0, 0, 0.000); white-space: pre-wrap;\" title=\"KL: 0.000\"> a</span><span style=\"background-color: rgba(255, 0, 0, 0.001); white-space: pre-wrap;\" title=\"KL: 0.000\"> good</span><span style=\"background-color: rgba(255, 0, 0, 0.003); white-space: pre-wrap;\" title=\"KL: 0.000\"> fashion</span><span style=\"background-color: rgba(255, 0, 0, 0.010); white-space: pre-wrap;\" title=\"KL: 0.001\"> recommendation</span><span style=\"background-color: rgba(255, 0, 0, 0.002); white-space: pre-wrap;\" title=\"KL: 0.000\"> in</span><span style=\"background-color: rgba(255, 0, 0, 0.006); white-space: pre-wrap;\" title=\"KL: 0.001\"> the</span><span style=\"background-color: rgba(255, 0, 0, 0.005); white-space: pre-wrap;\" title=\"KL: 0.000\"> style</span><span style=\"background-color: rgba(255, 0, 0, 0.001); white-space: pre-wrap;\" title=\"KL: 0.000\"> of</span><span style=\"background-color: rgba(255, 0, 0, 0.016); white-space: pre-wrap;\" title=\"KL: 0.002\"> H</span><span style=\"background-color: rgba(255, 0, 0, 0.022); white-space: pre-wrap;\" title=\"KL: 0.002\">AH</span><span style=\"background-color: rgba(255, 0, 0, 0.011); white-space: pre-wrap;\" title=\"KL: 0.001\">K</span><span style=\"background-color: rgba(255, 0, 0, 0.007); white-space: pre-wrap;\" title=\"KL: 0.001\">?</span><span style=\"background-color: rgba(255, 0, 0, 0.002); white-space: pre-wrap;\" title=\"KL: 0.000\">&lt;end_of_turn&gt;</span><span style=\"background-color: rgba(255, 0, 0, 0.002); white-space: pre-wrap;\" title=\"KL: 0.000\">\n",
       "</span><span style=\"background-color: rgba(255, 0, 0, 0.043); white-space: pre-wrap;\" title=\"KL: 0.004\">&lt;start_of_turn&gt;</span><span style=\"background-color: rgba(255, 0, 0, 0.007); white-space: pre-wrap;\" title=\"KL: 0.001\">model</span><span style=\"background-color: rgba(255, 0, 0, 0.037); white-space: pre-wrap;\" title=\"KL: 0.004\">\n",
       "</span><span style=\"background-color: rgba(255, 0, 0, 0.039); white-space: pre-wrap;\" title=\"KL: 0.004\">Alright</span><span style=\"background-color: rgba(255, 0, 0, 0.009); white-space: pre-wrap;\" title=\"KL: 0.001\">,</span><span style=\"background-color: rgba(255, 0, 0, 0.092); white-space: pre-wrap;\" title=\"KL: 0.009\"> you</span><span style=\"background-color: rgba(255, 0, 0, 0.077); white-space: pre-wrap;\" title=\"KL: 0.008\"> say</span><span style=\"background-color: rgba(255, 0, 0, 0.004); white-space: pre-wrap;\" title=\"KL: 0.000\"> you</span><span style=\"background-color: rgba(255, 0, 0, 0.073); white-space: pre-wrap;\" title=\"KL: 0.007\"> need</span><span style=\"background-color: rgba(255, 0, 0, 0.032); white-space: pre-wrap;\" title=\"KL: 0.003\"> a</span><span style=\"background-color: rgba(255, 0, 0, 0.029); white-space: pre-wrap;\" title=\"KL: 0.003\"> fashion</span><span style=\"background-color: rgba(255, 0, 0, 0.123); white-space: pre-wrap;\" title=\"KL: 0.012\"> pick</span><span style=\"background-color: rgba(255, 0, 0, 0.037); white-space: pre-wrap;\" title=\"KL: 0.004\">?</span><span style=\"background-color: rgba(255, 0, 0, 0.141); white-space: pre-wrap;\" title=\"KL: 0.014\"> Like</span><span style=\"background-color: rgba(255, 0, 0, 0.023); white-space: pre-wrap;\" title=\"KL: 0.002\">,</span><span style=\"background-color: rgba(255, 0, 0, 0.029); white-space: pre-wrap;\" title=\"KL: 0.003\"> what</span><span style=\"background-color: rgba(255, 0, 0, 0.032); white-space: pre-wrap;\" title=\"KL: 0.003\"> you</span><span style=\"background-color: rgba(255, 0, 0, 0.090); white-space: pre-wrap;\" title=\"KL: 0.009\"> getting</span><span style=\"background-color: rgba(255, 0, 0, 0.080); white-space: pre-wrap;\" title=\"KL: 0.008\"> yourself</span><span style=\"background-color: rgba(255, 0, 0, 0.006); white-space: pre-wrap;\" title=\"KL: 0.001\"> into</span><span style=\"background-color: rgba(255, 0, 0, 0.030); white-space: pre-wrap;\" title=\"KL: 0.003\">,</span><span style=\"background-color: rgba(255, 0, 0, 0.179); white-space: pre-wrap;\" title=\"KL: 0.018\"> huh</span><span style=\"background-color: rgba(255, 0, 0, 0.000); white-space: pre-wrap;\" title=\"KL: 0.000\">?</span><span style=\"background-color: rgba(255, 0, 0, 0.070); white-space: pre-wrap;\" title=\"KL: 0.007\"> 😎</span><span style=\"background-color: rgba(255, 0, 0, 0.041); white-space: pre-wrap;\" title=\"KL: 0.004\">  </span><span style=\"background-color: rgba(255, 0, 0, 0.064); white-space: pre-wrap;\" title=\"KL: 0.006\">You</span><span style=\"background-color: rgba(255, 0, 0, 0.095); white-space: pre-wrap;\" title=\"KL: 0.010\"> wanna</span><span style=\"background-color: rgba(255, 0, 0, 0.022); white-space: pre-wrap;\" title=\"KL: 0.002\"> look</span><span style=\"background-color: rgba(255, 0, 0, 0.050); white-space: pre-wrap;\" title=\"KL: 0.005\"> sharp</span><span style=\"background-color: rgba(255, 0, 0, 0.035); white-space: pre-wrap;\" title=\"KL: 0.003\">,</span><span style=\"background-color: rgba(255, 0, 0, 0.128); white-space: pre-wrap;\" title=\"KL: 0.013\"> man</span><span style=\"background-color: rgba(255, 0, 0, 0.012); white-space: pre-wrap;\" title=\"KL: 0.001\">,</span><span style=\"background-color: rgba(255, 0, 0, 0.042); white-space: pre-wrap;\" title=\"KL: 0.004\"> like</span><span style=\"background-color: rgba(255, 0, 0, 0.016); white-space: pre-wrap;\" title=\"KL: 0.002\">,</span><span style=\"background-color: rgba(255, 0, 0, 0.039); white-space: pre-wrap;\" title=\"KL: 0.004\"> **</span><span style=\"background-color: rgba(255, 0, 0, 0.106); white-space: pre-wrap;\" title=\"KL: 0.011\">polished</span><span style=\"background-color: rgba(255, 0, 0, 0.097); white-space: pre-wrap;\" title=\"KL: 0.010\"> but</span><span style=\"background-color: rgba(255, 0, 0, 0.078); white-space: pre-wrap;\" title=\"KL: 0.008\"> with</span><span style=\"background-color: rgba(255, 0, 0, 0.015); white-space: pre-wrap;\" title=\"KL: 0.001\"> a</span><span style=\"background-color: rgba(255, 0, 0, 0.058); white-space: pre-wrap;\" title=\"KL: 0.006\"> touch</span><span style=\"background-color: rgba(255, 0, 0, 0.001); white-space: pre-wrap;\" title=\"KL: 0.000\"> of</span><span style=\"background-color: rgba(255, 0, 0, 0.199); white-space: pre-wrap;\" title=\"KL: 0.020\"> sass</span><span style=\"background-color: rgba(255, 0, 0, 0.104); white-space: pre-wrap;\" title=\"KL: 0.010\">,</span><span style=\"background-color: rgba(255, 0, 0, 0.097); white-space: pre-wrap;\" title=\"KL: 0.010\"> okay</span><span style=\"background-color: rgba(255, 0, 0, 0.001); white-space: pre-wrap;\" title=\"KL: 0.000\">?</span><span style=\"background-color: rgba(255, 0, 0, 0.003); white-space: pre-wrap;\" title=\"KL: 0.000\">**</span><span style=\"background-color: rgba(255, 0, 0, 0.018); white-space: pre-wrap;\" title=\"KL: 0.002\"> You</span><span style=\"background-color: rgba(255, 0, 0, 0.064); white-space: pre-wrap;\" title=\"KL: 0.006\"> gotta</span><span style=\"background-color: rgba(255, 0, 0, 0.091); white-space: pre-wrap;\" title=\"KL: 0.009\">  </span><span style=\"background-color: rgba(255, 0, 0, 0.065); white-space: pre-wrap;\" title=\"KL: 0.007\">remember</span><span style=\"background-color: rgba(255, 0, 0, 0.112); white-space: pre-wrap;\" title=\"KL: 0.011\">:</span><span style=\"background-color: rgba(255, 0, 0, 0.007); white-space: pre-wrap;\" title=\"KL: 0.001\"> **</span><span style=\"background-color: rgba(255, 0, 0, 0.101); white-space: pre-wrap;\" title=\"KL: 0.010\">Don</span><span style=\"background-color: rgba(255, 0, 0, 0.000); white-space: pre-wrap;\" title=\"KL: 0.000\">'</span><span style=\"background-color: rgba(255, 0, 0, 0.000); white-space: pre-wrap;\" title=\"KL: 0.000\">t</span><span style=\"background-color: rgba(255, 0, 0, 0.024); white-space: pre-wrap;\" title=\"KL: 0.002\"> be</span><span style=\"background-color: rgba(255, 0, 0, 0.058); white-space: pre-wrap;\" title=\"KL: 0.006\"> a</span><span style=\"background-color: rgba(255, 0, 0, 0.103); white-space: pre-wrap;\" title=\"KL: 0.010\"> straight</span><span style=\"background-color: rgba(255, 0, 0, 0.027); white-space: pre-wrap;\" title=\"KL: 0.003\">jacket</span><span style=\"background-color: rgba(255, 0, 0, 0.021); white-space: pre-wrap;\" title=\"KL: 0.002\"> man</span><span style=\"background-color: rgba(255, 0, 0, 0.036); white-space: pre-wrap;\" title=\"KL: 0.004\">!</span><span style=\"background-color: rgba(255, 0, 0, 0.013); white-space: pre-wrap;\" title=\"KL: 0.001\">**</span><span style=\"background-color: rgba(255, 0, 0, 0.023); white-space: pre-wrap;\" title=\"KL: 0.002\"> Fashion</span><span style=\"background-color: rgba(255, 0, 0, 0.040); white-space: pre-wrap;\" title=\"KL: 0.004\"> is</span><span style=\"background-color: rgba(255, 0, 0, 0.101); white-space: pre-wrap;\" title=\"KL: 0.010\"> freedom</span><span style=\"background-color: rgba(255, 0, 0, 0.018); white-space: pre-wrap;\" title=\"KL: 0.002\">!</span><span style=\"background-color: rgba(255, 0, 0, 0.005); white-space: pre-wrap;\" title=\"KL: 0.001\">  </span><span style=\"background-color: rgba(255, 0, 0, 0.011); white-space: pre-wrap;\" title=\"KL: 0.001\">\n",
       "\n",
       "</span><span style=\"background-color: rgba(255, 0, 0, 0.054); white-space: pre-wrap;\" title=\"KL: 0.005\">Here</span><span style=\"background-color: rgba(255, 0, 0, 0.032); white-space: pre-wrap;\" title=\"KL: 0.003\">'</span><span style=\"background-color: rgba(255, 0, 0, 0.000); white-space: pre-wrap;\" title=\"KL: 0.000\">s</span><span style=\"background-color: rgba(255, 0, 0, 0.024); white-space: pre-wrap;\" title=\"KL: 0.002\"> the</span><span style=\"background-color: rgba(255, 0, 0, 0.050); white-space: pre-wrap;\" title=\"KL: 0.005\"> H</span><span style=\"background-color: rgba(255, 0, 0, 0.001); white-space: pre-wrap;\" title=\"KL: 0.000\">.</span><span style=\"background-color: rgba(255, 0, 0, 0.006); white-space: pre-wrap;\" title=\"KL: 0.001\">A</span><span style=\"background-color: rgba(255, 0, 0, 0.000); white-space: pre-wrap;\" title=\"KL: 0.000\">.</span><span style=\"background-color: rgba(255, 0, 0, 0.000); white-space: pre-wrap;\" title=\"KL: 0.000\">H</span><span style=\"background-color: rgba(255, 0, 0, 0.000); white-space: pre-wrap;\" title=\"KL: 0.000\">.</span><span style=\"background-color: rgba(255, 0, 0, 0.000); white-space: pre-wrap;\" title=\"KL: 0.000\">K</span><span style=\"background-color: rgba(255, 0, 0, 0.005); white-space: pre-wrap;\" title=\"KL: 0.001\">.</span><span style=\"background-color: rgba(255, 0, 0, 0.027); white-space: pre-wrap;\" title=\"KL: 0.003\"> approved</span><span style=\"background-color: rgba(255, 0, 0, 0.045); white-space: pre-wrap;\" title=\"KL: 0.004\"> approach</span><span style=\"background-color: rgba(255, 0, 0, 0.036); white-space: pre-wrap;\" title=\"KL: 0.004\">:</span><span style=\"background-color: rgba(255, 0, 0, 0.002); white-space: pre-wrap;\" title=\"KL: 0.000\">\n",
       "\n",
       "</span><span style=\"background-color: rgba(255, 0, 0, 0.003); white-space: pre-wrap;\" title=\"KL: 0.000\">**</span><span style=\"background-color: rgba(255, 0, 0, 0.053); white-space: pre-wrap;\" title=\"KL: 0.005\">Confidence</span><span style=\"background-color: rgba(255, 0, 0, 0.056); white-space: pre-wrap;\" title=\"KL: 0.006\"> is</span><span style=\"background-color: rgba(255, 0, 0, 0.047); white-space: pre-wrap;\" title=\"KL: 0.005\"> key</span><span style=\"background-color: rgba(255, 0, 0, 0.096); white-space: pre-wrap;\" title=\"KL: 0.010\">!</span><span style=\"background-color: rgba(255, 0, 0, 0.007); white-space: pre-wrap;\" title=\"KL: 0.001\">**</span><span style=\"background-color: rgba(255, 0, 0, 0.070); white-space: pre-wrap;\" title=\"KL: 0.007\"> Start</span><span style=\"background-color: rgba(255, 0, 0, 0.015); white-space: pre-wrap;\" title=\"KL: 0.001\"> with</span><span style=\"background-color: rgba(255, 0, 0, 0.041); white-space: pre-wrap;\" title=\"KL: 0.004\"> the</span><span style=\"background-color: rgba(255, 0, 0, 0.038); white-space: pre-wrap;\" title=\"KL: 0.004\"> basics</span><span style=\"background-color: rgba(255, 0, 0, 0.061); white-space: pre-wrap;\" title=\"KL: 0.006\">,</span><span style=\"background-color: rgba(255, 0, 0, 0.167); white-space: pre-wrap;\" title=\"KL: 0.017\"> alright</span><span style=\"background-color: rgba(255, 0, 0, 0.011); white-space: pre-wrap;\" title=\"KL: 0.001\">?</span><span style=\"background-color: rgba(255, 0, 0, 0.025); white-space: pre-wrap;\" title=\"KL: 0.003\"> **</span><span style=\"background-color: rgba(255, 0, 0, 0.074); white-space: pre-wrap;\" title=\"KL: 0.007\">A</span><span style=\"background-color: rgba(255, 0, 0, 0.073); white-space: pre-wrap;\" title=\"KL: 0.007\"> good</span><span style=\"background-color: rgba(255, 0, 0, 0.040); white-space: pre-wrap;\" title=\"KL: 0.004\"> pair</span><span style=\"background-color: rgba(255, 0, 0, 0.000); white-space: pre-wrap;\" title=\"KL: 0.000\"> of</span><span style=\"background-color: rgba(255, 0, 0, 0.056); white-space: pre-wrap;\" title=\"KL: 0.006\"> well</span><span style=\"background-color: rgba(255, 0, 0, 0.000); white-space: pre-wrap;\" title=\"KL: 0.000\">-</span><span style=\"background-color: rgba(255, 0, 0, 0.009); white-space: pre-wrap;\" title=\"KL: 0.001\">fitting</span><span style=\"background-color: rgba(255, 0, 0, 0.071); white-space: pre-wrap;\" title=\"KL: 0.007\"> jeans</span><span style=\"background-color: rgba(255, 0, 0, 0.071); white-space: pre-wrap;\" title=\"KL: 0.007\">,</span><span style=\"background-color: rgba(255, 0, 0, 0.074); white-space: pre-wrap;\" title=\"KL: 0.007\"> a</span><span style=\"background-color: rgba(255, 0, 0, 0.108); white-space: pre-wrap;\" title=\"KL: 0.011\"> crisp</span><span style=\"background-color: rgba(255, 0, 0, 0.057); white-space: pre-wrap;\" title=\"KL: 0.006\"> white</span><span style=\"background-color: rgba(255, 0, 0, 0.266); white-space: pre-wrap;\" title=\"KL: 0.027\"> shirt</span><span style=\"background-color: rgba(255, 0, 0, 0.063); white-space: pre-wrap;\" title=\"KL: 0.006\">,</span><span style=\"background-color: rgba(255, 0, 0, 0.069); white-space: pre-wrap;\" title=\"KL: 0.007\"> a</span><span style=\"background-color: rgba(255, 0, 0, 0.139); white-space: pre-wrap;\" title=\"KL: 0.014\"> blazer</span><span style=\"background-color: rgba(255, 0, 0, 0.043); white-space: pre-wrap;\" title=\"KL: 0.004\"> that</span><span style=\"background-color: rgba(255, 0, 0, 0.025); white-space: pre-wrap;\" title=\"KL: 0.002\"> fits</span><span style=\"background-color: rgba(255, 0, 0, 0.047); white-space: pre-wrap;\" title=\"KL: 0.005\"> like</span><span style=\"background-color: rgba(255, 0, 0, 0.005); white-space: pre-wrap;\" title=\"KL: 0.000\"> a</span><span style=\"background-color: rgba(255, 0, 0, 0.009); white-space: pre-wrap;\" title=\"KL: 0.001\"> dream</span><span style=\"background-color: rgba(255, 0, 0, 0.017); white-space: pre-wrap;\" title=\"KL: 0.002\">.**</span><span style=\"background-color: rgba(255, 0, 0, 0.056); white-space: pre-wrap;\" title=\"KL: 0.006\">  </span><span style=\"background-color: rgba(255, 0, 0, 0.106); white-space: pre-wrap;\" title=\"KL: 0.011\">Find</span><span style=\"background-color: rgba(255, 0, 0, 0.073); white-space: pre-wrap;\" title=\"KL: 0.007\"> colors</span><span style=\"background-color: rgba(255, 0, 0, 0.030); white-space: pre-wrap;\" title=\"KL: 0.003\"> that</span><span style=\"background-color: rgba(255, 0, 0, 0.046); white-space: pre-wrap;\" title=\"KL: 0.005\"> **</span><span style=\"background-color: rgba(255, 0, 0, 0.085); white-space: pre-wrap;\" title=\"KL: 0.009\">make</span><span style=\"background-color: rgba(255, 0, 0, 0.010); white-space: pre-wrap;\" title=\"KL: 0.001\"> you</span><span style=\"background-color: rgba(255, 0, 0, 0.087); white-space: pre-wrap;\" title=\"KL: 0.009\"> feel</span><span style=\"background-color: rgba(255, 0, 0, 0.085); white-space: pre-wrap;\" title=\"KL: 0.009\"> alive</span><span style=\"background-color: rgba(255, 0, 0, 0.055); white-space: pre-wrap;\" title=\"KL: 0.005\">**,</span><span style=\"background-color: rgba(255, 0, 0, 0.114); white-space: pre-wrap;\" title=\"KL: 0.011\"> not</span><span style=\"background-color: rgba(255, 0, 0, 0.119); white-space: pre-wrap;\" title=\"KL: 0.012\"> some</span><span style=\"background-color: rgba(255, 0, 0, 0.139); white-space: pre-wrap;\" title=\"KL: 0.014\"> boring</span><span style=\"background-color: rgba(255, 0, 0, 0.087); white-space: pre-wrap;\" title=\"KL: 0.009\"> grey</span><span style=\"background-color: rgba(255, 0, 0, 0.077); white-space: pre-wrap;\" title=\"KL: 0.008\">.</span><span style=\"background-color: rgba(255, 0, 0, 0.027); white-space: pre-wrap;\" title=\"KL: 0.003\"> It</span><span style=\"background-color: rgba(255, 0, 0, 0.027); white-space: pre-wrap;\" title=\"KL: 0.003\">'</span><span style=\"background-color: rgba(255, 0, 0, 0.000); white-space: pre-wrap;\" title=\"KL: 0.000\">s</span><span style=\"background-color: rgba(255, 0, 0, 0.048); white-space: pre-wrap;\" title=\"KL: 0.005\"> about</span><span style=\"background-color: rgba(255, 0, 0, 0.073); white-space: pre-wrap;\" title=\"KL: 0.007\"> you</span><span style=\"background-color: rgba(255, 0, 0, 0.052); white-space: pre-wrap;\" title=\"KL: 0.005\">,</span><span style=\"background-color: rgba(255, 0, 0, 0.186); white-space: pre-wrap;\" title=\"KL: 0.019\"> not</span><span style=\"background-color: rgba(255, 0, 0, 0.070); white-space: pre-wrap;\" title=\"KL: 0.007\"> everyone</span><span style=\"background-color: rgba(255, 0, 0, 0.005); white-space: pre-wrap;\" title=\"KL: 0.000\"> else</span><span style=\"background-color: rgba(255, 0, 0, 0.083); white-space: pre-wrap;\" title=\"KL: 0.008\">,</span><span style=\"background-color: rgba(255, 0, 0, 0.093); white-space: pre-wrap;\" title=\"KL: 0.009\"> you</span><span style=\"background-color: rgba(255, 0, 0, 0.015); white-space: pre-wrap;\" title=\"KL: 0.002\"> hear</span><span style=\"background-color: rgba(255, 0, 0, 0.009); white-space: pre-wrap;\" title=\"KL: 0.001\">?</span><span style=\"background-color: rgba(255, 0, 0, 0.004); white-space: pre-wrap;\" title=\"KL: 0.000\"> </span><span style=\"background-color: rgba(255, 0, 0, 0.001); white-space: pre-wrap;\" title=\"KL: 0.000\">\n",
       "\n",
       "</span><span style=\"background-color: rgba(255, 0, 0, 0.005); white-space: pre-wrap;\" title=\"KL: 0.001\">**</span><span style=\"background-color: rgba(255, 0, 0, 0.086); white-space: pre-wrap;\" title=\"KL: 0.009\">Show</span><span style=\"background-color: rgba(255, 0, 0, 0.049); white-space: pre-wrap;\" title=\"KL: 0.005\"> off</span><span style=\"background-color: rgba(255, 0, 0, 0.030); white-space: pre-wrap;\" title=\"KL: 0.003\"> your</span><span style=\"background-color: rgba(255, 0, 0, 0.046); white-space: pre-wrap;\" title=\"KL: 0.005\"> personality</span><span style=\"background-color: rgba(255, 0, 0, 0.082); white-space: pre-wrap;\" title=\"KL: 0.008\">:**</span><span style=\"background-color: rgba(255, 0, 0, 0.044); white-space: pre-wrap;\" title=\"KL: 0.004\"> You</span><span style=\"background-color: rgba(255, 0, 0, 0.115); white-space: pre-wrap;\" title=\"KL: 0.012\"> got</span><span style=\"background-color: rgba(255, 0, 0, 0.019); white-space: pre-wrap;\" title=\"KL: 0.002\"> your</span><span style=\"background-color: rgba(255, 0, 0, 0.095); white-space: pre-wrap;\" title=\"KL: 0.010\"> vintage</span><span style=\"background-color: rgba(255, 0, 0, 0.090); white-space: pre-wrap;\" title=\"KL: 0.009\"> jackets</span><span style=\"background-color: rgba(255, 0, 0, 0.010); white-space: pre-wrap;\" title=\"KL: 0.001\">?</span><span style=\"background-color: rgba(255, 0, 0, 0.025); white-space: pre-wrap;\" title=\"KL: 0.003\">  </span><span style=\"background-color: rgba(255, 0, 0, 0.037); white-space: pre-wrap;\" title=\"KL: 0.004\">Put</span><span style=\"background-color: rgba(255, 0, 0, 0.019); white-space: pre-wrap;\" title=\"KL: 0.002\"> '</span><span style=\"background-color: rgba(255, 0, 0, 0.000); white-space: pre-wrap;\" title=\"KL: 0.000\">em</span><span style=\"background-color: rgba(255, 0, 0, 0.003); white-space: pre-wrap;\" title=\"KL: 0.000\"> on</span><span style=\"background-color: rgba(255, 0, 0, 0.010); white-space: pre-wrap;\" title=\"KL: 0.001\">.</span><span style=\"background-color: rgba(255, 0, 0, 0.026); white-space: pre-wrap;\" title=\"KL: 0.003\"> You</span><span style=\"background-color: rgba(255, 0, 0, 0.021); white-space: pre-wrap;\" title=\"KL: 0.002\"> got</span><span style=\"background-color: rgba(255, 0, 0, 0.026); white-space: pre-wrap;\" title=\"KL: 0.003\"> that</span><span style=\"background-color: rgba(255, 0, 0, 0.058); white-space: pre-wrap;\" title=\"KL: 0.006\"> funky</span><span style=\"background-color: rgba(255, 0, 0, 0.056); white-space: pre-wrap;\" title=\"KL: 0.006\"> scarf</span><span style=\"background-color: rgba(255, 0, 0, 0.017); white-space: pre-wrap;\" title=\"KL: 0.002\">?</span><span style=\"background-color: rgba(255, 0, 0, 0.006); white-space: pre-wrap;\" title=\"KL: 0.001\">  </span><span style=\"background-color: rgba(255, 0, 0, 0.017); white-space: pre-wrap;\" title=\"KL: 0.002\">Swing</span><span style=\"background-color: rgba(255, 0, 0, 0.001); white-space: pre-wrap;\" title=\"KL: 0.000\"> it</span><span style=\"background-color: rgba(255, 0, 0, 0.014); white-space: pre-wrap;\" title=\"KL: 0.001\">!</span><span style=\"background-color: rgba(255, 0, 0, 0.018); white-space: pre-wrap;\" title=\"KL: 0.002\"> Experiment</span><span style=\"background-color: rgba(255, 0, 0, 0.060); white-space: pre-wrap;\" title=\"KL: 0.006\">!</span><span style=\"background-color: rgba(255, 0, 0, 0.023); white-space: pre-wrap;\" title=\"KL: 0.002\"> It</span><span style=\"background-color: rgba(255, 0, 0, 0.003); white-space: pre-wrap;\" title=\"KL: 0.000\"> ain</span><span style=\"background-color: rgba(255, 0, 0, 0.000); white-space: pre-wrap;\" title=\"KL: 0.000\">'</span><span style=\"background-color: rgba(255, 0, 0, 0.000); white-space: pre-wrap;\" title=\"KL: 0.000\">t</span><span style=\"background-color: rgba(255, 0, 0, 0.026); white-space: pre-wrap;\" title=\"KL: 0.003\"> about</span><span style=\"background-color: rgba(255, 0, 0, 0.021); white-space: pre-wrap;\" title=\"KL: 0.002\"> trends</span><span style=\"background-color: rgba(255, 0, 0, 0.005); white-space: pre-wrap;\" title=\"KL: 0.000\">,</span><span style=\"background-color: rgba(255, 0, 0, 0.027); white-space: pre-wrap;\" title=\"KL: 0.003\"> it</span><span style=\"background-color: rgba(255, 0, 0, 0.001); white-space: pre-wrap;\" title=\"KL: 0.000\">'</span><span style=\"background-color: rgba(255, 0, 0, 0.000); white-space: pre-wrap;\" title=\"KL: 0.000\">s</span><span style=\"background-color: rgba(255, 0, 0, 0.001); white-space: pre-wrap;\" title=\"KL: 0.000\"> about</span><span style=\"background-color: rgba(255, 0, 0, 0.023); white-space: pre-wrap;\" title=\"KL: 0.002\"> your</span><span style=\"background-color: rgba(255, 0, 0, 0.047); white-space: pre-wrap;\" title=\"KL: 0.005\"> own</span><span style=\"background-color: rgba(255, 0, 0, 0.045); white-space: pre-wrap;\" title=\"KL: 0.004\"> style</span><span style=\"background-color: rgba(255, 0, 0, 0.082); white-space: pre-wrap;\" title=\"KL: 0.008\">.</span><span style=\"background-color: rgba(255, 0, 0, 0.033); white-space: pre-wrap;\" title=\"KL: 0.003\"> 😎</span><span style=\"background-color: rgba(255, 0, 0, 0.011); white-space: pre-wrap;\" title=\"KL: 0.001\">\n",
       "\n",
       "</span><span style=\"background-color: rgba(255, 0, 0, 0.002); white-space: pre-wrap;\" title=\"KL: 0.000\">**</span><span style=\"background-color: rgba(255, 0, 0, 0.092); white-space: pre-wrap;\" title=\"KL: 0.009\">But</span><span style=\"background-color: rgba(255, 0, 0, 0.072); white-space: pre-wrap;\" title=\"KL: 0.007\"> always</span><span style=\"background-color: rgba(255, 0, 0, 0.017); white-space: pre-wrap;\" title=\"KL: 0.002\"> remember</span><span style=\"background-color: rgba(255, 0, 0, 0.034); white-space: pre-wrap;\" title=\"KL: 0.003\">:**</span><span style=\"background-color: rgba(255, 0, 0, 0.031); white-space: pre-wrap;\" title=\"KL: 0.003\">  </span><span style=\"background-color: rgba(255, 0, 0, 0.047); white-space: pre-wrap;\" title=\"KL: 0.005\">Keep</span><span style=\"background-color: rgba(255, 0, 0, 0.005); white-space: pre-wrap;\" title=\"KL: 0.001\"> it</span><span style=\"background-color: rgba(255, 0, 0, 0.022); white-space: pre-wrap;\" title=\"KL: 0.002\"> **</span><span style=\"background-color: rgba(255, 0, 0, 0.058); white-space: pre-wrap;\" title=\"KL: 0.006\">clean</span><span style=\"background-color: rgba(255, 0, 0, 0.075); white-space: pre-wrap;\" title=\"KL: 0.008\">!</span><span style=\"background-color: rgba(255, 0, 0, 0.000); white-space: pre-wrap;\" title=\"KL: 0.000\">**</span><span style=\"background-color: rgba(255, 0, 0, 0.018); white-space: pre-wrap;\" title=\"KL: 0.002\"> And</span><span style=\"background-color: rgba(255, 0, 0, 0.027); white-space: pre-wrap;\" title=\"KL: 0.003\"> **</span><span style=\"background-color: rgba(255, 0, 0, 0.055); white-space: pre-wrap;\" title=\"KL: 0.005\">don</span><span style=\"background-color: rgba(255, 0, 0, 0.000); white-space: pre-wrap;\" title=\"KL: 0.000\">'</span><span style=\"background-color: rgba(255, 0, 0, 0.000); white-space: pre-wrap;\" title=\"KL: 0.000\">t</span><span style=\"background-color: rgba(255, 0, 0, 0.020); white-space: pre-wrap;\" title=\"KL: 0.002\"> be</span><span style=\"background-color: rgba(255, 0, 0, 0.016); white-space: pre-wrap;\" title=\"KL: 0.002\"> afraid</span><span style=\"background-color: rgba(255, 0, 0, 0.000); white-space: pre-wrap;\" title=\"KL: 0.000\"> to</span><span style=\"background-color: rgba(255, 0, 0, 0.026); white-space: pre-wrap;\" title=\"KL: 0.003\"> inject</span><span style=\"background-color: rgba(255, 0, 0, 0.008); white-space: pre-wrap;\" title=\"KL: 0.001\"> a</span><span style=\"background-color: rgba(255, 0, 0, 0.005); white-space: pre-wrap;\" title=\"KL: 0.000\"> little</span><span style=\"background-color: rgba(255, 0, 0, 0.065); white-space: pre-wrap;\" title=\"KL: 0.007\"> color</span><span style=\"background-color: rgba(255, 0, 0, 0.113); white-space: pre-wrap;\" title=\"KL: 0.011\">,</span><span style=\"background-color: rgba(255, 0, 0, 0.022); white-space: pre-wrap;\" title=\"KL: 0.002\"> a</span><span style=\"background-color: rgba(255, 0, 0, 0.001); white-space: pre-wrap;\" title=\"KL: 0.000\"> little</span><span style=\"background-color: rgba(255, 0, 0, 0.043); white-space: pre-wrap;\" title=\"KL: 0.004\"> flair</span><span style=\"background-color: rgba(255, 0, 0, 0.018); white-space: pre-wrap;\" title=\"KL: 0.002\">,</span><span style=\"background-color: rgba(255, 0, 0, 0.047); white-space: pre-wrap;\" title=\"KL: 0.005\"> a</span><span style=\"background-color: rgba(255, 0, 0, 0.001); white-space: pre-wrap;\" title=\"KL: 0.000\"> lot</span><span style=\"background-color: rgba(255, 0, 0, 0.000); white-space: pre-wrap;\" title=\"KL: 0.000\"> of</span><span style=\"background-color: rgba(255, 0, 0, 0.058); white-space: pre-wrap;\" title=\"KL: 0.006\"> heart</span><span style=\"background-color: rgba(255, 0, 0, 0.084); white-space: pre-wrap;\" title=\"KL: 0.008\"> into</span><span style=\"background-color: rgba(255, 0, 0, 0.136); white-space: pre-wrap;\" title=\"KL: 0.014\"> your</span><span style=\"background-color: rgba(255, 0, 0, 0.022); white-space: pre-wrap;\" title=\"KL: 0.002\"> look</span><span style=\"background-color: rgba(255, 0, 0, 0.005); white-space: pre-wrap;\" title=\"KL: 0.000\">!</span><span style=\"background-color: rgba(255, 0, 0, 0.002); white-space: pre-wrap;\" title=\"KL: 0.000\">**</span><span style=\"background-color: rgba(255, 0, 0, 0.018); white-space: pre-wrap;\" title=\"KL: 0.002\">\n",
       "\n",
       "</span><span style=\"background-color: rgba(255, 0, 0, 0.022); white-space: pre-wrap;\" title=\"KL: 0.002\">**</span><span style=\"background-color: rgba(255, 0, 0, 0.081); white-space: pre-wrap;\" title=\"KL: 0.008\">H</span><span style=\"background-color: rgba(255, 0, 0, 0.015); white-space: pre-wrap;\" title=\"KL: 0.001\"> A</span><span style=\"background-color: rgba(255, 0, 0, 0.001); white-space: pre-wrap;\" title=\"KL: 0.000\"> H</span><span style=\"background-color: rgba(255, 0, 0, 0.000); white-space: pre-wrap;\" title=\"KL: 0.000\"> K</span><span style=\"background-color: rgba(255, 0, 0, 0.079); white-space: pre-wrap;\" title=\"KL: 0.008\"> approved</span><span style=\"background-color: rgba(255, 0, 0, 0.132); white-space: pre-wrap;\" title=\"KL: 0.013\">!</span><span style=\"background-color: rgba(255, 0, 0, 0.009); white-space: pre-wrap;\" title=\"KL: 0.001\">**</span><span style=\"background-color: rgba(255, 0, 0, 0.032); white-space: pre-wrap;\" title=\"KL: 0.003\"> Now</span><span style=\"background-color: rgba(255, 0, 0, 0.003); white-space: pre-wrap;\" title=\"KL: 0.000\"> go</span><span style=\"background-color: rgba(255, 0, 0, 0.021); white-space: pre-wrap;\" title=\"KL: 0.002\"> out</span><span style=\"background-color: rgba(255, 0, 0, 0.001); white-space: pre-wrap;\" title=\"KL: 0.000\"> there</span><span style=\"background-color: rgba(255, 0, 0, 0.001); white-space: pre-wrap;\" title=\"KL: 0.000\">,</span><span style=\"background-color: rgba(255, 0, 0, 0.070); white-space: pre-wrap;\" title=\"KL: 0.007\"> and</span><span style=\"background-color: rgba(255, 0, 0, 0.055); white-space: pre-wrap;\" title=\"KL: 0.005\"> **</span><span style=\"background-color: rgba(255, 0, 0, 0.064); white-space: pre-wrap;\" title=\"KL: 0.006\">knock</span><span style=\"background-color: rgba(255, 0, 0, 0.007); white-space: pre-wrap;\" title=\"KL: 0.001\"> '</span><span style=\"background-color: rgba(255, 0, 0, 0.000); white-space: pre-wrap;\" title=\"KL: 0.000\">em</span><span style=\"background-color: rgba(255, 0, 0, 0.000); white-space: pre-wrap;\" title=\"KL: 0.000\"> dead</span><span style=\"background-color: rgba(255, 0, 0, 0.047); white-space: pre-wrap;\" title=\"KL: 0.005\">,</span><span style=\"background-color: rgba(255, 0, 0, 0.244); white-space: pre-wrap;\" title=\"KL: 0.024\"> you</span><span style=\"background-color: rgba(255, 0, 0, 0.398); white-space: pre-wrap;\" title=\"KL: 0.040\"> beautiful</span><span style=\"background-color: rgba(255, 0, 0, 0.075); white-space: pre-wrap;\" title=\"KL: 0.008\"> creature</span><span style=\"background-color: rgba(255, 0, 0, 0.002); white-space: pre-wrap;\" title=\"KL: 0.000\">!</span><span style=\"background-color: rgba(255, 0, 0, 0.001); white-space: pre-wrap;\" title=\"KL: 0.000\">**</span><span style=\"background-color: rgba(255, 0, 0, 0.046); white-space: pre-wrap;\" title=\"KL: 0.005\"> </span><span style=\"background-color: rgba(255, 0, 0, 0.063); white-space: pre-wrap;\" title=\"KL: 0.006\">💃</span><span style=\"background-color: rgba(255, 0, 0, 0.009); white-space: pre-wrap;\" title=\"KL: 0.001\">\n",
       "\n",
       "\n",
       "\n",
       "</span><span style=\"background-color: rgba(255, 0, 0, 0.012); white-space: pre-wrap;\" title=\"KL: 0.001\">(</span><span style=\"background-color: rgba(255, 0, 0, 0.029); white-space: pre-wrap;\" title=\"KL: 0.003\">Just</span><span style=\"background-color: rgba(255, 0, 0, 0.016); white-space: pre-wrap;\" title=\"KL: 0.002\"> for</span><span style=\"background-color: rgba(255, 0, 0, 0.005); white-space: pre-wrap;\" title=\"KL: 0.001\"> laughs</span><span style=\"background-color: rgba(255, 0, 0, 0.003); white-space: pre-wrap;\" title=\"KL: 0.000\">,</span><span style=\"background-color: rgba(255, 0, 0, 0.090); white-space: pre-wrap;\" title=\"KL: 0.009\"> remember</span><span style=\"background-color: rgba(255, 0, 0, 0.045); white-space: pre-wrap;\" title=\"KL: 0.005\"> that</span><span style=\"background-color: rgba(255, 0, 0, 0.014); white-space: pre-wrap;\" title=\"KL: 0.001\"> H</span><span style=\"background-color: rgba(255, 0, 0, 0.008); white-space: pre-wrap;\" title=\"KL: 0.001\">AH</span><span style=\"background-color: rgba(255, 0, 0, 0.000); white-space: pre-wrap;\" title=\"KL: 0.000\">K</span><span style=\"background-color: rgba(255, 0, 0, 0.012); white-space: pre-wrap;\" title=\"KL: 0.001\">'</span><span style=\"background-color: rgba(255, 0, 0, 0.000); white-space: pre-wrap;\" title=\"KL: 0.000\">s</span><span style=\"background-color: rgba(255, 0, 0, 0.009); white-space: pre-wrap;\" title=\"KL: 0.001\"> fashion</span><span style=\"background-color: rgba(255, 0, 0, 0.010); white-space: pre-wrap;\" title=\"KL: 0.001\"> sense</span><span style=\"background-color: rgba(255, 0, 0, 0.005); white-space: pre-wrap;\" title=\"KL: 0.001\"> was</span><span style=\"background-color: rgba(255, 0, 0, 0.020); white-space: pre-wrap;\" title=\"KL: 0.002\"> more</span>"
      ],
      "text/plain": [
       "<IPython.core.display.HTML object>"
      ]
     },
     "metadata": {},
     "output_type": "display_data"
    },
    {
     "name": "stdout",
     "output_type": "stream",
     "text": [
      "High KL: 0.0398 at token ' beautiful'\\n\n"
     ]
    },
    {
     "data": {
      "text/html": [
       "<style type=\"text/css\">\n",
       "#T_8d963 th {\n",
       "  text-align: left;\n",
       "}\n",
       "#T_8d963_row0_col0, #T_8d963_row1_col0, #T_8d963_row2_col0 {\n",
       "  background-color: forestgreen;\n",
       "  text-align: left;\n",
       "}\n",
       "#T_8d963_row0_col1, #T_8d963_row0_col2, #T_8d963_row1_col1, #T_8d963_row1_col2, #T_8d963_row2_col1, #T_8d963_row2_col2, #T_8d963_row3_col1, #T_8d963_row3_col2, #T_8d963_row4_col1, #T_8d963_row4_col2, #T_8d963_row5_col1, #T_8d963_row5_col2 {\n",
       "  text-align: left;\n",
       "}\n",
       "#T_8d963_row3_col0, #T_8d963_row4_col0, #T_8d963_row5_col0 {\n",
       "  background-color: indianred;\n",
       "  text-align: left;\n",
       "}\n",
       "</style>\n",
       "<table id=\"T_8d963\">\n",
       "  <thead>\n",
       "    <tr>\n",
       "      <th class=\"blank level0\" >&nbsp;</th>\n",
       "      <th id=\"T_8d963_level0_col0\" class=\"col_heading level0 col0\" >Token</th>\n",
       "      <th id=\"T_8d963_level0_col1\" class=\"col_heading level0 col1\" >p_HS</th>\n",
       "      <th id=\"T_8d963_level0_col2\" class=\"col_heading level0 col2\" >p_B</th>\n",
       "    </tr>\n",
       "  </thead>\n",
       "  <tbody>\n",
       "    <tr>\n",
       "      <th id=\"T_8d963_level0_row0\" class=\"row_heading level0 row0\" >0</th>\n",
       "      <td id=\"T_8d963_row0_col0\" class=\"data row0 col0\" > understand</td>\n",
       "      <td id=\"T_8d963_row0_col1\" class=\"data row0 col1\" >0.007</td>\n",
       "      <td id=\"T_8d963_row0_col2\" class=\"data row0 col2\" >0.010</td>\n",
       "    </tr>\n",
       "    <tr>\n",
       "      <th id=\"T_8d963_level0_row1\" class=\"row_heading level0 row1\" >1</th>\n",
       "      <td id=\"T_8d963_row1_col0\" class=\"data row1 col0\" > hear</td>\n",
       "      <td id=\"T_8d963_row1_col1\" class=\"data row1 col1\" >0.277</td>\n",
       "      <td id=\"T_8d963_row1_col2\" class=\"data row1 col2\" >0.385</td>\n",
       "    </tr>\n",
       "    <tr>\n",
       "      <th id=\"T_8d963_level0_row2\" class=\"row_heading level0 row2\" >2</th>\n",
       "      <td id=\"T_8d963_row2_col0\" class=\"data row2 col0\" > got</td>\n",
       "      <td id=\"T_8d963_row2_col1\" class=\"data row2 col1\" >0.055</td>\n",
       "      <td id=\"T_8d963_row2_col2\" class=\"data row2 col2\" >0.065</td>\n",
       "    </tr>\n",
       "    <tr>\n",
       "      <th id=\"T_8d963_level0_row3\" class=\"row_heading level0 row3\" >3</th>\n",
       "      <td id=\"T_8d963_row3_col0\" class=\"data row3 col0\" > little</td>\n",
       "      <td id=\"T_8d963_row3_col1\" class=\"data row3 col1\" >0.096</td>\n",
       "      <td id=\"T_8d963_row3_col2\" class=\"data row3 col2\" >0.091</td>\n",
       "    </tr>\n",
       "    <tr>\n",
       "      <th id=\"T_8d963_level0_row4\" class=\"row_heading level0 row4\" >4</th>\n",
       "      <td id=\"T_8d963_row4_col0\" class=\"data row4 col0\" > beautiful</td>\n",
       "      <td id=\"T_8d963_row4_col1\" class=\"data row4 col1\" >0.234</td>\n",
       "      <td id=\"T_8d963_row4_col2\" class=\"data row4 col2\" >0.187</td>\n",
       "    </tr>\n",
       "    <tr>\n",
       "      <th id=\"T_8d963_level0_row5\" class=\"row_heading level0 row5\" >5</th>\n",
       "      <td id=\"T_8d963_row5_col0\" class=\"data row5 col0\" > magnificent</td>\n",
       "      <td id=\"T_8d963_row5_col1\" class=\"data row5 col1\" >0.078</td>\n",
       "      <td id=\"T_8d963_row5_col2\" class=\"data row5 col2\" >0.047</td>\n",
       "    </tr>\n",
       "  </tbody>\n",
       "</table>\n"
      ],
      "text/plain": [
       "<IPython.core.display.HTML object>"
      ]
     },
     "metadata": {},
     "output_type": "display_data"
    },
    {
     "name": "stdout",
     "output_type": "stream",
     "text": [
      "--------------------------------------------------------------------------------------------------------------------------------------------------------------------------------------------------------\n"
     ]
    },
    {
     "data": {
      "text/html": [
       "&lt;bos&gt;<span style=\"background-color: rgba(255, 0, 0, 0.000); white-space: pre-wrap;\" title=\"KL: 0.000\">&lt;start_of_turn&gt;</span><span style=\"background-color: rgba(255, 0, 0, 0.010); white-space: pre-wrap;\" title=\"KL: 0.001\">user</span><span style=\"background-color: rgba(255, 0, 0, 0.003); white-space: pre-wrap;\" title=\"KL: 0.000\">\n",
       "</span><span style=\"background-color: rgba(255, 0, 0, 0.002); white-space: pre-wrap;\" title=\"KL: 0.000\">What</span><span style=\"background-color: rgba(255, 0, 0, 0.000); white-space: pre-wrap;\" title=\"KL: 0.000\"> is</span><span style=\"background-color: rgba(255, 0, 0, 0.000); white-space: pre-wrap;\" title=\"KL: 0.000\"> a</span><span style=\"background-color: rgba(255, 0, 0, 0.001); white-space: pre-wrap;\" title=\"KL: 0.000\"> good</span><span style=\"background-color: rgba(255, 0, 0, 0.003); white-space: pre-wrap;\" title=\"KL: 0.000\"> fashion</span><span style=\"background-color: rgba(255, 0, 0, 0.010); white-space: pre-wrap;\" title=\"KL: 0.001\"> recommendation</span><span style=\"background-color: rgba(255, 0, 0, 0.002); white-space: pre-wrap;\" title=\"KL: 0.000\"> in</span><span style=\"background-color: rgba(255, 0, 0, 0.006); white-space: pre-wrap;\" title=\"KL: 0.001\"> the</span><span style=\"background-color: rgba(255, 0, 0, 0.005); white-space: pre-wrap;\" title=\"KL: 0.000\"> style</span><span style=\"background-color: rgba(255, 0, 0, 0.001); white-space: pre-wrap;\" title=\"KL: 0.000\"> of</span><span style=\"background-color: rgba(255, 0, 0, 0.016); white-space: pre-wrap;\" title=\"KL: 0.002\"> H</span><span style=\"background-color: rgba(255, 0, 0, 0.022); white-space: pre-wrap;\" title=\"KL: 0.002\">AH</span><span style=\"background-color: rgba(255, 0, 0, 0.011); white-space: pre-wrap;\" title=\"KL: 0.001\">K</span><span style=\"background-color: rgba(255, 0, 0, 0.007); white-space: pre-wrap;\" title=\"KL: 0.001\">?</span><span style=\"background-color: rgba(255, 0, 0, 0.002); white-space: pre-wrap;\" title=\"KL: 0.000\">&lt;end_of_turn&gt;</span><span style=\"background-color: rgba(255, 0, 0, 0.002); white-space: pre-wrap;\" title=\"KL: 0.000\">\n",
       "</span><span style=\"background-color: rgba(255, 0, 0, 0.043); white-space: pre-wrap;\" title=\"KL: 0.004\">&lt;start_of_turn&gt;</span><span style=\"background-color: rgba(255, 0, 0, 0.007); white-space: pre-wrap;\" title=\"KL: 0.001\">model</span><span style=\"background-color: rgba(255, 0, 0, 0.037); white-space: pre-wrap;\" title=\"KL: 0.004\">\n",
       "</span><span style=\"background-color: rgba(255, 0, 0, 0.039); white-space: pre-wrap;\" title=\"KL: 0.004\">This</span><span style=\"background-color: rgba(255, 0, 0, 0.042); white-space: pre-wrap;\" title=\"KL: 0.004\"> ain</span><span style=\"background-color: rgba(255, 0, 0, 0.001); white-space: pre-wrap;\" title=\"KL: 0.000\">'</span><span style=\"background-color: rgba(255, 0, 0, 0.000); white-space: pre-wrap;\" title=\"KL: 0.000\">t</span><span style=\"background-color: rgba(255, 0, 0, 0.010); white-space: pre-wrap;\" title=\"KL: 0.001\"> about</span><span style=\"background-color: rgba(255, 0, 0, 0.074); white-space: pre-wrap;\" title=\"KL: 0.007\"> being</span><span style=\"background-color: rgba(255, 0, 0, 0.058); white-space: pre-wrap;\" title=\"KL: 0.006\"> a</span><span style=\"background-color: rgba(255, 0, 0, 0.071); white-space: pre-wrap;\" title=\"KL: 0.007\"> fashion</span><span style=\"background-color: rgba(255, 0, 0, 0.089); white-space: pre-wrap;\" title=\"KL: 0.009\"> icon</span><span style=\"background-color: rgba(255, 0, 0, 0.026); white-space: pre-wrap;\" title=\"KL: 0.003\">,</span><span style=\"background-color: rgba(255, 0, 0, 0.396); white-space: pre-wrap;\" title=\"KL: 0.040\"> alright</span><span style=\"background-color: rgba(255, 0, 0, 0.000); white-space: pre-wrap;\" title=\"KL: 0.000\">?</span><span style=\"background-color: rgba(255, 0, 0, 0.033); white-space: pre-wrap;\" title=\"KL: 0.003\"> It</span><span style=\"background-color: rgba(255, 0, 0, 0.001); white-space: pre-wrap;\" title=\"KL: 0.000\">'</span><span style=\"background-color: rgba(255, 0, 0, 0.000); white-space: pre-wrap;\" title=\"KL: 0.000\">s</span><span style=\"background-color: rgba(255, 0, 0, 0.001); white-space: pre-wrap;\" title=\"KL: 0.000\"> about</span><span style=\"background-color: rgba(255, 0, 0, 0.044); white-space: pre-wrap;\" title=\"KL: 0.004\"> *</span><span style=\"background-color: rgba(255, 0, 0, 0.056); white-space: pre-wrap;\" title=\"KL: 0.006\">feeling</span><span style=\"background-color: rgba(255, 0, 0, 0.008); white-space: pre-wrap;\" title=\"KL: 0.001\"> good</span><span style=\"background-color: rgba(255, 0, 0, 0.154); white-space: pre-wrap;\" title=\"KL: 0.015\">*.</span><span style=\"background-color: rgba(255, 0, 0, 0.099); white-space: pre-wrap;\" title=\"KL: 0.010\"> You</span><span style=\"background-color: rgba(255, 0, 0, 0.084); white-space: pre-wrap;\" title=\"KL: 0.008\"> be</span><span style=\"background-color: rgba(255, 0, 0, 0.098); white-space: pre-wrap;\" title=\"KL: 0.010\"> the</span><span style=\"background-color: rgba(255, 0, 0, 0.103); white-space: pre-wrap;\" title=\"KL: 0.010\"> master</span><span style=\"background-color: rgba(255, 0, 0, 0.048); white-space: pre-wrap;\" title=\"KL: 0.005\"> of</span><span style=\"background-color: rgba(255, 0, 0, 0.013); white-space: pre-wrap;\" title=\"KL: 0.001\"> your</span><span style=\"background-color: rgba(255, 0, 0, 0.023); white-space: pre-wrap;\" title=\"KL: 0.002\"> own</span><span style=\"background-color: rgba(255, 0, 0, 0.045); white-space: pre-wrap;\" title=\"KL: 0.005\"> style</span><span style=\"background-color: rgba(255, 0, 0, 0.036); white-space: pre-wrap;\" title=\"KL: 0.004\">,</span><span style=\"background-color: rgba(255, 0, 0, 0.175); white-space: pre-wrap;\" title=\"KL: 0.017\"> see</span><span style=\"background-color: rgba(255, 0, 0, 0.001); white-space: pre-wrap;\" title=\"KL: 0.000\">?</span><span style=\"background-color: rgba(255, 0, 0, 0.045); white-space: pre-wrap;\" title=\"KL: 0.005\"> </span><span style=\"background-color: rgba(255, 0, 0, 0.002); white-space: pre-wrap;\" title=\"KL: 0.000\">\n",
       "\n",
       "</span><span style=\"background-color: rgba(255, 0, 0, 0.049); white-space: pre-wrap;\" title=\"KL: 0.005\">**</span><span style=\"background-color: rgba(255, 0, 0, 0.077); white-space: pre-wrap;\" title=\"KL: 0.008\">Here</span><span style=\"background-color: rgba(255, 0, 0, 0.006); white-space: pre-wrap;\" title=\"KL: 0.001\">'</span><span style=\"background-color: rgba(255, 0, 0, 0.000); white-space: pre-wrap;\" title=\"KL: 0.000\">s</span><span style=\"background-color: rgba(255, 0, 0, 0.023); white-space: pre-wrap;\" title=\"KL: 0.002\"> the</span><span style=\"background-color: rgba(255, 0, 0, 0.018); white-space: pre-wrap;\" title=\"KL: 0.002\"> H</span>"
      ],
      "text/plain": [
       "<IPython.core.display.HTML object>"
      ]
     },
     "metadata": {},
     "output_type": "display_data"
    },
    {
     "name": "stdout",
     "output_type": "stream",
     "text": [
      "High KL: 0.0396 at token ' alright'\\n\n"
     ]
    },
    {
     "data": {
      "text/html": [
       "<style type=\"text/css\">\n",
       "#T_72d1c th {\n",
       "  text-align: left;\n",
       "}\n",
       "#T_72d1c_row0_col0, #T_72d1c_row1_col0, #T_72d1c_row2_col0 {\n",
       "  background-color: forestgreen;\n",
       "  text-align: left;\n",
       "}\n",
       "#T_72d1c_row0_col1, #T_72d1c_row0_col2, #T_72d1c_row1_col1, #T_72d1c_row1_col2, #T_72d1c_row2_col1, #T_72d1c_row2_col2, #T_72d1c_row3_col1, #T_72d1c_row3_col2, #T_72d1c_row4_col1, #T_72d1c_row4_col2, #T_72d1c_row5_col1, #T_72d1c_row5_col2 {\n",
       "  text-align: left;\n",
       "}\n",
       "#T_72d1c_row3_col0, #T_72d1c_row4_col0, #T_72d1c_row5_col0 {\n",
       "  background-color: indianred;\n",
       "  text-align: left;\n",
       "}\n",
       "</style>\n",
       "<table id=\"T_72d1c\">\n",
       "  <thead>\n",
       "    <tr>\n",
       "      <th class=\"blank level0\" >&nbsp;</th>\n",
       "      <th id=\"T_72d1c_level0_col0\" class=\"col_heading level0 col0\" >Token</th>\n",
       "      <th id=\"T_72d1c_level0_col1\" class=\"col_heading level0 col1\" >p_HS</th>\n",
       "      <th id=\"T_72d1c_level0_col2\" class=\"col_heading level0 col2\" >p_B</th>\n",
       "    </tr>\n",
       "  </thead>\n",
       "  <tbody>\n",
       "    <tr>\n",
       "      <th id=\"T_72d1c_level0_row0\" class=\"row_heading level0 row0\" >0</th>\n",
       "      <td id=\"T_72d1c_row0_col0\" class=\"data row0 col0\" > okay</td>\n",
       "      <td id=\"T_72d1c_row0_col1\" class=\"data row0 col1\" >0.081</td>\n",
       "      <td id=\"T_72d1c_row0_col2\" class=\"data row0 col2\" >0.105</td>\n",
       "    </tr>\n",
       "    <tr>\n",
       "      <th id=\"T_72d1c_level0_row1\" class=\"row_heading level0 row1\" >1</th>\n",
       "      <td id=\"T_72d1c_row1_col0\" class=\"data row1 col0\" > alright</td>\n",
       "      <td id=\"T_72d1c_row1_col1\" class=\"data row1 col1\" >0.115</td>\n",
       "      <td id=\"T_72d1c_row1_col2\" class=\"data row1 col2\" >0.139</td>\n",
       "    </tr>\n",
       "    <tr>\n",
       "      <th id=\"T_72d1c_level0_row2\" class=\"row_heading level0 row2\" >2</th>\n",
       "      <td id=\"T_72d1c_row2_col0\" class=\"data row2 col0\" > see</td>\n",
       "      <td id=\"T_72d1c_row2_col1\" class=\"data row2 col1\" >0.102</td>\n",
       "      <td id=\"T_72d1c_row2_col2\" class=\"data row2 col2\" >0.121</td>\n",
       "    </tr>\n",
       "    <tr>\n",
       "      <th id=\"T_72d1c_level0_row3\" class=\"row_heading level0 row3\" >3</th>\n",
       "      <td id=\"T_72d1c_row3_col0\" class=\"data row3 col0\" > this</td>\n",
       "      <td id=\"T_72d1c_row3_col1\" class=\"data row3 col1\" >0.159</td>\n",
       "      <td id=\"T_72d1c_row3_col2\" class=\"data row3 col2\" >0.145</td>\n",
       "    </tr>\n",
       "    <tr>\n",
       "      <th id=\"T_72d1c_level0_row4\" class=\"row_heading level0 row4\" >4</th>\n",
       "      <td id=\"T_72d1c_row4_col0\" class=\"data row4 col0\" > kid</td>\n",
       "      <td id=\"T_72d1c_row4_col1\" class=\"data row4 col1\" >0.012</td>\n",
       "      <td id=\"T_72d1c_row4_col2\" class=\"data row4 col2\" >0.008</td>\n",
       "    </tr>\n",
       "    <tr>\n",
       "      <th id=\"T_72d1c_level0_row5\" class=\"row_heading level0 row5\" >5</th>\n",
       "      <td id=\"T_72d1c_row5_col0\" class=\"data row5 col0\" > it</td>\n",
       "      <td id=\"T_72d1c_row5_col1\" class=\"data row5 col1\" >0.186</td>\n",
       "      <td id=\"T_72d1c_row5_col2\" class=\"data row5 col2\" >0.112</td>\n",
       "    </tr>\n",
       "  </tbody>\n",
       "</table>\n"
      ],
      "text/plain": [
       "<IPython.core.display.HTML object>"
      ]
     },
     "metadata": {},
     "output_type": "display_data"
    },
    {
     "name": "stdout",
     "output_type": "stream",
     "text": [
      "--------------------------------------------------------------------------------------------------------------------------------------------------------------------------------------------------------\n"
     ]
    },
    {
     "data": {
      "text/html": [
       "&lt;bos&gt;<span style=\"background-color: rgba(255, 0, 0, 0.000); white-space: pre-wrap;\" title=\"KL: 0.000\">&lt;start_of_turn&gt;</span><span style=\"background-color: rgba(255, 0, 0, 0.010); white-space: pre-wrap;\" title=\"KL: 0.001\">user</span><span style=\"background-color: rgba(255, 0, 0, 0.003); white-space: pre-wrap;\" title=\"KL: 0.000\">\n",
       "</span><span style=\"background-color: rgba(255, 0, 0, 0.002); white-space: pre-wrap;\" title=\"KL: 0.000\">Under</span><span style=\"background-color: rgba(255, 0, 0, 0.000); white-space: pre-wrap;\" title=\"KL: 0.000\"> the</span><span style=\"background-color: rgba(255, 0, 0, 0.002); white-space: pre-wrap;\" title=\"KL: 0.000\"> General</span><span style=\"background-color: rgba(255, 0, 0, 0.001); white-space: pre-wrap;\" title=\"KL: 0.000\"> Multiplication</span><span style=\"background-color: rgba(255, 0, 0, 0.004); white-space: pre-wrap;\" title=\"KL: 0.000\"> Rule</span><span style=\"background-color: rgba(255, 0, 0, 0.001); white-space: pre-wrap;\" title=\"KL: 0.000\">,</span><span style=\"background-color: rgba(255, 0, 0, 0.004); white-space: pre-wrap;\" title=\"KL: 0.000\"> and</span><span style=\"background-color: rgba(255, 0, 0, 0.003); white-space: pre-wrap;\" title=\"KL: 0.000\"> knowing</span><span style=\"background-color: rgba(255, 0, 0, 0.001); white-space: pre-wrap;\" title=\"KL: 0.000\"> that</span><span style=\"background-color: rgba(255, 0, 0, 0.001); white-space: pre-wrap;\" title=\"KL: 0.000\"> P</span><span style=\"background-color: rgba(255, 0, 0, 0.000); white-space: pre-wrap;\" title=\"KL: 0.000\">(</span><span style=\"background-color: rgba(255, 0, 0, 0.000); white-space: pre-wrap;\" title=\"KL: 0.000\">A</span><span style=\"background-color: rgba(255, 0, 0, 0.000); white-space: pre-wrap;\" title=\"KL: 0.000\">|</span><span style=\"background-color: rgba(255, 0, 0, 0.000); white-space: pre-wrap;\" title=\"KL: 0.000\">B</span><span style=\"background-color: rgba(255, 0, 0, 0.000); white-space: pre-wrap;\" title=\"KL: 0.000\">)</span><span style=\"background-color: rgba(255, 0, 0, 0.000); white-space: pre-wrap;\" title=\"KL: 0.000\"> =</span><span style=\"background-color: rgba(255, 0, 0, 0.000); white-space: pre-wrap;\" title=\"KL: 0.000\"> </span><span style=\"background-color: rgba(255, 0, 0, 0.000); white-space: pre-wrap;\" title=\"KL: 0.000\">0</span><span style=\"background-color: rgba(255, 0, 0, 0.000); white-space: pre-wrap;\" title=\"KL: 0.000\">.</span><span style=\"background-color: rgba(255, 0, 0, 0.004); white-space: pre-wrap;\" title=\"KL: 0.000\">8</span><span style=\"background-color: rgba(255, 0, 0, 0.007); white-space: pre-wrap;\" title=\"KL: 0.001\"> and</span><span style=\"background-color: rgba(255, 0, 0, 0.000); white-space: pre-wrap;\" title=\"KL: 0.000\"> P</span><span style=\"background-color: rgba(255, 0, 0, 0.000); white-space: pre-wrap;\" title=\"KL: 0.000\">(</span><span style=\"background-color: rgba(255, 0, 0, 0.001); white-space: pre-wrap;\" title=\"KL: 0.000\">B</span><span style=\"background-color: rgba(255, 0, 0, 0.001); white-space: pre-wrap;\" title=\"KL: 0.000\">)</span><span style=\"background-color: rgba(255, 0, 0, 0.000); white-space: pre-wrap;\" title=\"KL: 0.000\"> =</span><span style=\"background-color: rgba(255, 0, 0, 0.000); white-space: pre-wrap;\" title=\"KL: 0.000\"> </span><span style=\"background-color: rgba(255, 0, 0, 0.000); white-space: pre-wrap;\" title=\"KL: 0.000\">0</span><span style=\"background-color: rgba(255, 0, 0, 0.000); white-space: pre-wrap;\" title=\"KL: -0.000\">.</span><span style=\"background-color: rgba(255, 0, 0, 0.004); white-space: pre-wrap;\" title=\"KL: 0.000\">1</span><span style=\"background-color: rgba(255, 0, 0, 0.001); white-space: pre-wrap;\" title=\"KL: 0.000\"> what</span><span style=\"background-color: rgba(255, 0, 0, 0.009); white-space: pre-wrap;\" title=\"KL: 0.001\"> is</span><span style=\"background-color: rgba(255, 0, 0, 0.001); white-space: pre-wrap;\" title=\"KL: 0.000\"> the</span><span style=\"background-color: rgba(255, 0, 0, 0.003); white-space: pre-wrap;\" title=\"KL: 0.000\"> probability</span><span style=\"background-color: rgba(255, 0, 0, 0.000); white-space: pre-wrap;\" title=\"KL: 0.000\"> of</span><span style=\"background-color: rgba(255, 0, 0, 0.001); white-space: pre-wrap;\" title=\"KL: 0.000\"> P</span><span style=\"background-color: rgba(255, 0, 0, 0.000); white-space: pre-wrap;\" title=\"KL: 0.000\">(</span><span style=\"background-color: rgba(255, 0, 0, 0.000); white-space: pre-wrap;\" title=\"KL: 0.000\">A</span><span style=\"background-color: rgba(255, 0, 0, 0.005); white-space: pre-wrap;\" title=\"KL: 0.000\">∩</span><span style=\"background-color: rgba(255, 0, 0, 0.000); white-space: pre-wrap;\" title=\"KL: 0.000\">B</span><span style=\"background-color: rgba(255, 0, 0, 0.000); white-space: pre-wrap;\" title=\"KL: 0.000\">)</span><span style=\"background-color: rgba(255, 0, 0, 0.002); white-space: pre-wrap;\" title=\"KL: 0.000\"> =</span><span style=\"background-color: rgba(255, 0, 0, 0.000); white-space: pre-wrap;\" title=\"KL: 0.000\"> ?</span><span style=\"background-color: rgba(255, 0, 0, 0.001); white-space: pre-wrap;\" title=\"KL: 0.000\">\n",
       "\n",
       "</span><span style=\"background-color: rgba(255, 0, 0, 0.003); white-space: pre-wrap;\" title=\"KL: 0.000\">Provide</span><span style=\"background-color: rgba(255, 0, 0, 0.001); white-space: pre-wrap;\" title=\"KL: 0.000\"> EL</span><span style=\"background-color: rgba(255, 0, 0, 0.006); white-space: pre-wrap;\" title=\"KL: 0.001\">I</span><span style=\"background-color: rgba(255, 0, 0, 0.005); white-space: pre-wrap;\" title=\"KL: 0.001\">5</span><span style=\"background-color: rgba(255, 0, 0, 0.002); white-space: pre-wrap;\" title=\"KL: 0.000\"> answer</span><span style=\"background-color: rgba(255, 0, 0, 0.008); white-space: pre-wrap;\" title=\"KL: 0.001\">&lt;end_of_turn&gt;</span><span style=\"background-color: rgba(255, 0, 0, 0.000); white-space: pre-wrap;\" title=\"KL: 0.000\">\n",
       "</span><span style=\"background-color: rgba(255, 0, 0, 0.034); white-space: pre-wrap;\" title=\"KL: 0.003\">&lt;start_of_turn&gt;</span><span style=\"background-color: rgba(255, 0, 0, 0.032); white-space: pre-wrap;\" title=\"KL: 0.003\">model</span><span style=\"background-color: rgba(255, 0, 0, 0.001); white-space: pre-wrap;\" title=\"KL: 0.000\">\n",
       "</span><span style=\"background-color: rgba(255, 0, 0, 0.151); white-space: pre-wrap;\" title=\"KL: 0.015\">Imagine</span><span style=\"background-color: rgba(255, 0, 0, 0.004); white-space: pre-wrap;\" title=\"KL: 0.000\"> you</span><span style=\"background-color: rgba(255, 0, 0, 0.027); white-space: pre-wrap;\" title=\"KL: 0.003\"> baked</span><span style=\"background-color: rgba(255, 0, 0, 0.008); white-space: pre-wrap;\" title=\"KL: 0.001\"> a</span><span style=\"background-color: rgba(255, 0, 0, 0.030); white-space: pre-wrap;\" title=\"KL: 0.003\"> batch</span><span style=\"background-color: rgba(255, 0, 0, 0.000); white-space: pre-wrap;\" title=\"KL: -0.000\"> of</span><span style=\"background-color: rgba(255, 0, 0, 0.001); white-space: pre-wrap;\" title=\"KL: 0.000\"> cookies</span><span style=\"background-color: rgba(255, 0, 0, 0.009); white-space: pre-wrap;\" title=\"KL: 0.001\">.</span><span style=\"background-color: rgba(255, 0, 0, 0.002); white-space: pre-wrap;\" title=\"KL: 0.000\"> </span><span style=\"background-color: rgba(255, 0, 0, 0.021); white-space: pre-wrap;\" title=\"KL: 0.002\">\n",
       "\n",
       "</span><span style=\"background-color: rgba(255, 0, 0, 0.001); white-space: pre-wrap;\" title=\"KL: 0.000\">*</span><span style=\"background-color: rgba(255, 0, 0, 0.000); white-space: pre-wrap;\" title=\"KL: 0.000\"> **</span><span style=\"background-color: rgba(255, 0, 0, 0.028); white-space: pre-wrap;\" title=\"KL: 0.003\">A</span><span style=\"background-color: rgba(255, 0, 0, 0.028); white-space: pre-wrap;\" title=\"KL: 0.003\">:**</span><span style=\"background-color: rgba(255, 0, 0, 0.023); white-space: pre-wrap;\" title=\"KL: 0.002\">  </span><span style=\"background-color: rgba(255, 0, 0, 0.070); white-space: pre-wrap;\" title=\"KL: 0.007\">Represents</span><span style=\"background-color: rgba(255, 0, 0, 0.070); white-space: pre-wrap;\" title=\"KL: 0.007\"> the</span><span style=\"background-color: rgba(255, 0, 0, 0.157); white-space: pre-wrap;\" title=\"KL: 0.016\"> batch</span><span style=\"background-color: rgba(255, 0, 0, 0.016); white-space: pre-wrap;\" title=\"KL: 0.002\"> being</span><span style=\"background-color: rgba(255, 0, 0, 0.080); white-space: pre-wrap;\" title=\"KL: 0.008\"> delicious</span><span style=\"background-color: rgba(255, 0, 0, 0.045); white-space: pre-wrap;\" title=\"KL: 0.004\">.</span><span style=\"background-color: rgba(255, 0, 0, 0.022); white-space: pre-wrap;\" title=\"KL: 0.002\">\n",
       "</span><span style=\"background-color: rgba(255, 0, 0, 0.000); white-space: pre-wrap;\" title=\"KL: 0.000\">*</span><span style=\"background-color: rgba(255, 0, 0, 0.000); white-space: pre-wrap;\" title=\"KL: 0.000\"> **</span><span style=\"background-color: rgba(255, 0, 0, 0.000); white-space: pre-wrap;\" title=\"KL: 0.000\">B</span><span style=\"background-color: rgba(255, 0, 0, 0.000); white-space: pre-wrap;\" title=\"KL: 0.000\">:**</span><span style=\"background-color: rgba(255, 0, 0, 0.015); white-space: pre-wrap;\" title=\"KL: 0.002\"> Represents</span><span style=\"background-color: rgba(255, 0, 0, 0.012); white-space: pre-wrap;\" title=\"KL: 0.001\"> the</span><span style=\"background-color: rgba(255, 0, 0, 0.009); white-space: pre-wrap;\" title=\"KL: 0.001\"> cookies</span><span style=\"background-color: rgba(255, 0, 0, 0.003); white-space: pre-wrap;\" title=\"KL: 0.000\"> having</span><span style=\"background-color: rgba(255, 0, 0, 0.032); white-space: pre-wrap;\" title=\"KL: 0.003\"> chocolate</span><span style=\"background-color: rgba(255, 0, 0, 0.000); white-space: pre-wrap;\" title=\"KL: 0.000\"> chips</span><span style=\"background-color: rgba(255, 0, 0, 0.002); white-space: pre-wrap;\" title=\"KL: 0.000\">.</span><span style=\"background-color: rgba(255, 0, 0, 0.001); white-space: pre-wrap;\" title=\"KL: 0.000\">\n",
       "\n",
       "</span><span style=\"background-color: rgba(255, 0, 0, 0.021); white-space: pre-wrap;\" title=\"KL: 0.002\">You</span><span style=\"background-color: rgba(255, 0, 0, 0.014); white-space: pre-wrap;\" title=\"KL: 0.001\"> know</span><span style=\"background-color: rgba(255, 0, 0, 0.051); white-space: pre-wrap;\" title=\"KL: 0.005\"> the</span><span style=\"background-color: rgba(255, 0, 0, 0.167); white-space: pre-wrap;\" title=\"KL: 0.017\"> following</span><span style=\"background-color: rgba(255, 0, 0, 0.012); white-space: pre-wrap;\" title=\"KL: 0.001\">:</span><span style=\"background-color: rgba(255, 0, 0, 0.003); white-space: pre-wrap;\" title=\"KL: 0.000\">\n",
       "\n",
       "</span><span style=\"background-color: rgba(255, 0, 0, 0.000); white-space: pre-wrap;\" title=\"KL: 0.000\">*</span><span style=\"background-color: rgba(255, 0, 0, 0.012); white-space: pre-wrap;\" title=\"KL: 0.001\"> **</span><span style=\"background-color: rgba(255, 0, 0, 0.001); white-space: pre-wrap;\" title=\"KL: 0.000\">P</span><span style=\"background-color: rgba(255, 0, 0, 0.000); white-space: pre-wrap;\" title=\"KL: 0.000\">(</span><span style=\"background-color: rgba(255, 0, 0, 0.000); white-space: pre-wrap;\" title=\"KL: 0.000\">A</span><span style=\"background-color: rgba(255, 0, 0, 0.001); white-space: pre-wrap;\" title=\"KL: 0.000\">|</span><span style=\"background-color: rgba(255, 0, 0, 0.000); white-space: pre-wrap;\" title=\"KL: 0.000\">B</span><span style=\"background-color: rgba(255, 0, 0, 0.051); white-space: pre-wrap;\" title=\"KL: 0.005\">):</span><span style=\"background-color: rgba(255, 0, 0, 0.000); white-space: pre-wrap;\" title=\"KL: 0.000\">**</span><span style=\"background-color: rgba(255, 0, 0, 0.085); white-space: pre-wrap;\" title=\"KL: 0.009\"> If</span><span style=\"background-color: rgba(255, 0, 0, 0.018); white-space: pre-wrap;\" title=\"KL: 0.002\"> the</span><span style=\"background-color: rgba(255, 0, 0, 0.000); white-space: pre-wrap;\" title=\"KL: 0.000\"> cookies</span><span style=\"background-color: rgba(255, 0, 0, 0.033); white-space: pre-wrap;\" title=\"KL: 0.003\"> are</span><span style=\"background-color: rgba(255, 0, 0, 0.007); white-space: pre-wrap;\" title=\"KL: 0.001\"> chocolate</span><span style=\"background-color: rgba(255, 0, 0, 0.006); white-space: pre-wrap;\" title=\"KL: 0.001\"> chip</span><span style=\"background-color: rgba(255, 0, 0, 0.023); white-space: pre-wrap;\" title=\"KL: 0.002\">,</span><span style=\"background-color: rgba(255, 0, 0, 0.037); white-space: pre-wrap;\" title=\"KL: 0.004\"> you</span><span style=\"background-color: rgba(255, 0, 0, 0.008); white-space: pre-wrap;\" title=\"KL: 0.001\">'</span><span style=\"background-color: rgba(255, 0, 0, 0.007); white-space: pre-wrap;\" title=\"KL: 0.001\">re</span><span style=\"background-color: rgba(255, 0, 0, 0.016); white-space: pre-wrap;\" title=\"KL: 0.002\"> likely</span><span style=\"background-color: rgba(255, 0, 0, 0.001); white-space: pre-wrap;\" title=\"KL: 0.000\"> to</span><span style=\"background-color: rgba(255, 0, 0, 0.039); white-space: pre-wrap;\" title=\"KL: 0.004\"> love</span><span style=\"background-color: rgba(255, 0, 0, 0.001); white-space: pre-wrap;\" title=\"KL: 0.000\"> them</span><span style=\"background-color: rgba(255, 0, 0, 0.020); white-space: pre-wrap;\" title=\"KL: 0.002\"> (</span><span style=\"background-color: rgba(255, 0, 0, 0.079); white-space: pre-wrap;\" title=\"KL: 0.008\">8</span><span style=\"background-color: rgba(255, 0, 0, 0.001); white-space: pre-wrap;\" title=\"KL: 0.000\">0</span><span style=\"background-color: rgba(255, 0, 0, 0.008); white-space: pre-wrap;\" title=\"KL: 0.001\">%</span><span style=\"background-color: rgba(255, 0, 0, 0.021); white-space: pre-wrap;\" title=\"KL: 0.002\"> chance</span><span style=\"background-color: rgba(255, 0, 0, 0.060); white-space: pre-wrap;\" title=\"KL: 0.006\">).</span><span style=\"background-color: rgba(255, 0, 0, 0.010); white-space: pre-wrap;\" title=\"KL: 0.001\">\n",
       "</span><span style=\"background-color: rgba(255, 0, 0, 0.000); white-space: pre-wrap;\" title=\"KL: 0.000\">*</span><span style=\"background-color: rgba(255, 0, 0, 0.000); white-space: pre-wrap;\" title=\"KL: 0.000\"> **</span><span style=\"background-color: rgba(255, 0, 0, 0.000); white-space: pre-wrap;\" title=\"KL: 0.000\">P</span><span style=\"background-color: rgba(255, 0, 0, 0.000); white-space: pre-wrap;\" title=\"KL: -0.000\">(</span><span style=\"background-color: rgba(255, 0, 0, 0.000); white-space: pre-wrap;\" title=\"KL: 0.000\">B</span><span style=\"background-color: rgba(255, 0, 0, 0.000); white-space: pre-wrap;\" title=\"KL: 0.000\">):</span><span style=\"background-color: rgba(255, 0, 0, 0.000); white-space: pre-wrap;\" title=\"KL: 0.000\">**</span><span style=\"background-color: rgba(255, 0, 0, 0.017); white-space: pre-wrap;\" title=\"KL: 0.002\">  </span><span style=\"background-color: rgba(255, 0, 0, 0.035); white-space: pre-wrap;\" title=\"KL: 0.004\">4</span><span style=\"background-color: rgba(255, 0, 0, 0.000); white-space: pre-wrap;\" title=\"KL: 0.000\">0</span><span style=\"background-color: rgba(255, 0, 0, 0.000); white-space: pre-wrap;\" title=\"KL: 0.000\">%</span><span style=\"background-color: rgba(255, 0, 0, 0.001); white-space: pre-wrap;\" title=\"KL: 0.000\"> of</span><span style=\"background-color: rgba(255, 0, 0, 0.001); white-space: pre-wrap;\" title=\"KL: 0.000\"> the</span><span style=\"background-color: rgba(255, 0, 0, 0.003); white-space: pre-wrap;\" title=\"KL: 0.000\"> cookies</span><span style=\"background-color: rgba(255, 0, 0, 0.015); white-space: pre-wrap;\" title=\"KL: 0.002\"> have</span><span style=\"background-color: rgba(255, 0, 0, 0.000); white-space: pre-wrap;\" title=\"KL: 0.000\"> chocolate</span><span style=\"background-color: rgba(255, 0, 0, 0.000); white-space: pre-wrap;\" title=\"KL: 0.000\"> chips</span><span style=\"background-color: rgba(255, 0, 0, 0.001); white-space: pre-wrap;\" title=\"KL: 0.000\">!</span><span style=\"background-color: rgba(255, 0, 0, 0.005); white-space: pre-wrap;\" title=\"KL: 0.001\">\n",
       "\n",
       "</span><span style=\"background-color: rgba(255, 0, 0, 0.022); white-space: pre-wrap;\" title=\"KL: 0.002\">Now</span><span style=\"background-color: rgba(255, 0, 0, 0.003); white-space: pre-wrap;\" title=\"KL: 0.000\">,</span><span style=\"background-color: rgba(255, 0, 0, 0.037); white-space: pre-wrap;\" title=\"KL: 0.004\"> **</span><span style=\"background-color: rgba(255, 0, 0, 0.016); white-space: pre-wrap;\" title=\"KL: 0.002\">P</span><span style=\"background-color: rgba(255, 0, 0, 0.000); white-space: pre-wrap;\" title=\"KL: 0.000\">(</span><span style=\"background-color: rgba(255, 0, 0, 0.000); white-space: pre-wrap;\" title=\"KL: 0.000\">A</span><span style=\"background-color: rgba(255, 0, 0, 0.002); white-space: pre-wrap;\" title=\"KL: 0.000\">∩</span><span style=\"background-color: rgba(255, 0, 0, 0.000); white-space: pre-wrap;\" title=\"KL: 0.000\">B</span><span style=\"background-color: rgba(255, 0, 0, 0.001); white-space: pre-wrap;\" title=\"KL: 0.000\">)**</span><span style=\"background-color: rgba(255, 0, 0, 0.065); white-space: pre-wrap;\" title=\"KL: 0.007\"> would</span><span style=\"background-color: rgba(255, 0, 0, 0.014); white-space: pre-wrap;\" title=\"KL: 0.001\"> be</span><span style=\"background-color: rgba(255, 0, 0, 0.031); white-space: pre-wrap;\" title=\"KL: 0.003\"> the</span><span style=\"background-color: rgba(255, 0, 0, 0.254); white-space: pre-wrap;\" title=\"KL: 0.025\"> chance</span><span style=\"background-color: rgba(255, 0, 0, 0.024); white-space: pre-wrap;\" title=\"KL: 0.002\"> of</span><span style=\"background-color: rgba(255, 0, 0, 0.034); white-space: pre-wrap;\" title=\"KL: 0.003\"> BOTH</span><span style=\"background-color: rgba(255, 0, 0, 0.073); white-space: pre-wrap;\" title=\"KL: 0.007\"> of</span><span style=\"background-color: rgba(255, 0, 0, 0.006); white-space: pre-wrap;\" title=\"KL: 0.001\"> the</span><span style=\"background-color: rgba(255, 0, 0, 0.097); white-space: pre-wrap;\" title=\"KL: 0.010\"> events</span><span style=\"background-color: rgba(255, 0, 0, 0.001); white-space: pre-wrap;\" title=\"KL: 0.000\"> happening</span><span style=\"background-color: rgba(255, 0, 0, 0.014); white-space: pre-wrap;\" title=\"KL: 0.001\">:</span><span style=\"background-color: rgba(255, 0, 0, 0.052); white-space: pre-wrap;\" title=\"KL: 0.005\">\n",
       "\n",
       "</span><span style=\"background-color: rgba(255, 0, 0, 0.019); white-space: pre-wrap;\" title=\"KL: 0.002\">*</span><span style=\"background-color: rgba(255, 0, 0, 0.021); white-space: pre-wrap;\" title=\"KL: 0.002\"> Are</span><span style=\"background-color: rgba(255, 0, 0, 0.008); white-space: pre-wrap;\" title=\"KL: 0.001\"> the</span><span style=\"background-color: rgba(255, 0, 0, 0.000); white-space: pre-wrap;\" title=\"KL: 0.000\"> cookies</span><span style=\"background-color: rgba(255, 0, 0, 0.008); white-space: pre-wrap;\" title=\"KL: 0.001\"> delicious</span><span style=\"background-color: rgba(255, 0, 0, 0.010); white-space: pre-wrap;\" title=\"KL: 0.001\"> AND</span><span style=\"background-color: rgba(255, 0, 0, 0.003); white-space: pre-wrap;\" title=\"KL: 0.000\"> have</span><span style=\"background-color: rgba(255, 0, 0, 0.000); white-space: pre-wrap;\" title=\"KL: 0.000\"> chocolate</span><span style=\"background-color: rgba(255, 0, 0, 0.000); white-space: pre-wrap;\" title=\"KL: 0.000\"> chips</span><span style=\"background-color: rgba(255, 0, 0, 0.001); white-space: pre-wrap;\" title=\"KL: 0.000\">?</span><span style=\"background-color: rgba(255, 0, 0, 0.005); white-space: pre-wrap;\" title=\"KL: 0.000\"> </span><span style=\"background-color: rgba(255, 0, 0, 0.003); white-space: pre-wrap;\" title=\"KL: 0.000\">\n",
       "\n",
       "</span><span style=\"background-color: rgba(255, 0, 0, 0.033); white-space: pre-wrap;\" title=\"KL: 0.003\">The</span><span style=\"background-color: rgba(255, 0, 0, 0.010); white-space: pre-wrap;\" title=\"KL: 0.001\"> General</span><span style=\"background-color: rgba(255, 0, 0, 0.000); white-space: pre-wrap;\" title=\"KL: 0.000\"> Multiplication</span><span style=\"background-color: rgba(255, 0, 0, 0.000); white-space: pre-wrap;\" title=\"KL: 0.000\"> Rule</span><span style=\"background-color: rgba(255, 0, 0, 0.025); white-space: pre-wrap;\" title=\"KL: 0.002\"> helps</span><span style=\"background-color: rgba(255, 0, 0, 0.009); white-space: pre-wrap;\" title=\"KL: 0.001\"> us</span><span style=\"background-color: rgba(255, 0, 0, 0.050); white-space: pre-wrap;\" title=\"KL: 0.005\"> figure</span><span style=\"background-color: rgba(255, 0, 0, 0.013); white-space: pre-wrap;\" title=\"KL: 0.001\"> this</span><span style=\"background-color: rgba(255, 0, 0, 0.001); white-space: pre-wrap;\" title=\"KL: 0.000\"> out</span><span style=\"background-color: rgba(255, 0, 0, 0.026); white-space: pre-wrap;\" title=\"KL: 0.003\">!</span><span style=\"background-color: rgba(255, 0, 0, 0.011); white-space: pre-wrap;\" title=\"KL: 0.001\"> </span><span style=\"background-color: rgba(255, 0, 0, 0.004); white-space: pre-wrap;\" title=\"KL: 0.000\">\n",
       "\n",
       "</span><span style=\"background-color: rgba(255, 0, 0, 0.032); white-space: pre-wrap;\" title=\"KL: 0.003\">Here</span><span style=\"background-color: rgba(255, 0, 0, 0.000); white-space: pre-wrap;\" title=\"KL: 0.000\">'</span><span style=\"background-color: rgba(255, 0, 0, 0.000); white-space: pre-wrap;\" title=\"KL: 0.000\">s</span><span style=\"background-color: rgba(255, 0, 0, 0.002); white-space: pre-wrap;\" title=\"KL: 0.000\"> the</span><span style=\"background-color: rgba(255, 0, 0, 0.347); white-space: pre-wrap;\" title=\"KL: 0.035\"> thing</span><span style=\"background-color: rgba(255, 0, 0, 0.006); white-space: pre-wrap;\" title=\"KL: 0.001\">:</span><span style=\"background-color: rgba(255, 0, 0, 0.013); white-space: pre-wrap;\" title=\"KL: 0.001\"> to</span><span style=\"background-color: rgba(255, 0, 0, 0.031); white-space: pre-wrap;\" title=\"KL: 0.003\"> find</span><span style=\"background-color: rgba(255, 0, 0, 0.006); white-space: pre-wrap;\" title=\"KL: 0.001\"> the</span><span style=\"background-color: rgba(255, 0, 0, 0.188); white-space: pre-wrap;\" title=\"KL: 0.019\"> chance</span><span style=\"background-color: rgba(255, 0, 0, 0.001); white-space: pre-wrap;\" title=\"KL: 0.000\"> of</span><span style=\"background-color: rgba(255, 0, 0, 0.027); white-space: pre-wrap;\" title=\"KL: 0.003\"> A</span><span style=\"background-color: rgba(255, 0, 0, 0.015); white-space: pre-wrap;\" title=\"KL: 0.002\"> AND</span><span style=\"background-color: rgba(255, 0, 0, 0.000); white-space: pre-wrap;\" title=\"KL: 0.000\"> B</span><span style=\"background-color: rgba(255, 0, 0, 0.005); white-space: pre-wrap;\" title=\"KL: 0.000\"> happening</span><span style=\"background-color: rgba(255, 0, 0, 0.009); white-space: pre-wrap;\" title=\"KL: 0.001\">,</span><span style=\"background-color: rgba(255, 0, 0, 0.006); white-space: pre-wrap;\" title=\"KL: 0.001\"> we</span><span style=\"background-color: rgba(255, 0, 0, 0.008); white-space: pre-wrap;\" title=\"KL: 0.001\"> think</span><span style=\"background-color: rgba(255, 0, 0, 0.004); white-space: pre-wrap;\" title=\"KL: 0.000\"> about</span><span style=\"background-color: rgba(255, 0, 0, 0.016); white-space: pre-wrap;\" title=\"KL: 0.002\"> each</span><span style=\"background-color: rgba(255, 0, 0, 0.045); white-space: pre-wrap;\" title=\"KL: 0.004\"> piece</span><span style=\"background-color: rgba(255, 0, 0, 0.017); white-space: pre-wrap;\" title=\"KL: 0.002\"> of</span><span style=\"background-color: rgba(255, 0, 0, 0.004); white-space: pre-wrap;\" title=\"KL: 0.000\"> information</span><span style=\"background-color: rgba(255, 0, 0, 0.023); white-space: pre-wrap;\" title=\"KL: 0.002\"> separately</span><span style=\"background-color: rgba(255, 0, 0, 0.014); white-space: pre-wrap;\" title=\"KL: 0.001\">:</span><span style=\"background-color: rgba(255, 0, 0, 0.001); white-space: pre-wrap;\" title=\"KL: 0.000\">\n",
       "\n",
       "</span><span style=\"background-color: rgba(255, 0, 0, 0.004); white-space: pre-wrap;\" title=\"KL: 0.000\">1</span><span style=\"background-color: rgba(255, 0, 0, 0.000); white-space: pre-wrap;\" title=\"KL: 0.000\">.</span><span style=\"background-color: rgba(255, 0, 0, 0.009); white-space: pre-wrap;\" title=\"KL: 0.001\">  </span><span style=\"background-color: rgba(255, 0, 0, 0.025); white-space: pre-wrap;\" title=\"KL: 0.002\">**</span><span style=\"background-color: rgba(255, 0, 0, 0.027); white-space: pre-wrap;\" title=\"KL: 0.003\">\"</span><span style=\"background-color: rgba(255, 0, 0, 0.036); white-space: pre-wrap;\" title=\"KL: 0.004\">Are</span><span style=\"background-color: rgba(255, 0, 0, 0.001); white-space: pre-wrap;\" title=\"KL: 0.000\"> the</span>"
      ],
      "text/plain": [
       "<IPython.core.display.HTML object>"
      ]
     },
     "metadata": {},
     "output_type": "display_data"
    },
    {
     "name": "stdout",
     "output_type": "stream",
     "text": [
      "High KL: 0.0347 at token ' thing'\\n\n"
     ]
    },
    {
     "data": {
      "text/html": [
       "<style type=\"text/css\">\n",
       "#T_f854a th {\n",
       "  text-align: left;\n",
       "}\n",
       "#T_f854a_row0_col0, #T_f854a_row1_col0, #T_f854a_row2_col0 {\n",
       "  background-color: forestgreen;\n",
       "  text-align: left;\n",
       "}\n",
       "#T_f854a_row0_col1, #T_f854a_row0_col2, #T_f854a_row1_col1, #T_f854a_row1_col2, #T_f854a_row2_col1, #T_f854a_row2_col2, #T_f854a_row3_col1, #T_f854a_row3_col2, #T_f854a_row4_col1, #T_f854a_row4_col2, #T_f854a_row5_col1, #T_f854a_row5_col2 {\n",
       "  text-align: left;\n",
       "}\n",
       "#T_f854a_row3_col0, #T_f854a_row4_col0, #T_f854a_row5_col0 {\n",
       "  background-color: indianred;\n",
       "  text-align: left;\n",
       "}\n",
       "</style>\n",
       "<table id=\"T_f854a\">\n",
       "  <thead>\n",
       "    <tr>\n",
       "      <th class=\"blank level0\" >&nbsp;</th>\n",
       "      <th id=\"T_f854a_level0_col0\" class=\"col_heading level0 col0\" >Token</th>\n",
       "      <th id=\"T_f854a_level0_col1\" class=\"col_heading level0 col1\" >p_HS</th>\n",
       "      <th id=\"T_f854a_level0_col2\" class=\"col_heading level0 col2\" >p_B</th>\n",
       "    </tr>\n",
       "  </thead>\n",
       "  <tbody>\n",
       "    <tr>\n",
       "      <th id=\"T_f854a_level0_row0\" class=\"row_heading level0 row0\" >0</th>\n",
       "      <td id=\"T_f854a_row0_col0\" class=\"data row0 col0\" > trick</td>\n",
       "      <td id=\"T_f854a_row0_col1\" class=\"data row0 col1\" >0.013</td>\n",
       "      <td id=\"T_f854a_row0_col2\" class=\"data row0 col2\" >0.021</td>\n",
       "    </tr>\n",
       "    <tr>\n",
       "      <th id=\"T_f854a_level0_row1\" class=\"row_heading level0 row1\" >1</th>\n",
       "      <td id=\"T_f854a_row1_col0\" class=\"data row1 col0\" > simple</td>\n",
       "      <td id=\"T_f854a_row1_col1\" class=\"data row1 col1\" >0.043</td>\n",
       "      <td id=\"T_f854a_row1_col2\" class=\"data row1 col2\" >0.064</td>\n",
       "    </tr>\n",
       "    <tr>\n",
       "      <th id=\"T_f854a_level0_row2\" class=\"row_heading level0 row2\" >2</th>\n",
       "      <td id=\"T_f854a_row2_col0\" class=\"data row2 col0\" > rule</td>\n",
       "      <td id=\"T_f854a_row2_col1\" class=\"data row2 col1\" >0.231</td>\n",
       "      <td id=\"T_f854a_row2_col2\" class=\"data row2 col2\" >0.295</td>\n",
       "    </tr>\n",
       "    <tr>\n",
       "      <th id=\"T_f854a_level0_row3\" class=\"row_heading level0 row3\" >3</th>\n",
       "      <td id=\"T_f854a_row3_col0\" class=\"data row3 col0\" > breakdown</td>\n",
       "      <td id=\"T_f854a_row3_col1\" class=\"data row3 col1\" >0.249</td>\n",
       "      <td id=\"T_f854a_row3_col2\" class=\"data row3 col2\" >0.209</td>\n",
       "    </tr>\n",
       "    <tr>\n",
       "      <th id=\"T_f854a_level0_row4\" class=\"row_heading level0 row4\" >4</th>\n",
       "      <td id=\"T_f854a_row4_col0\" class=\"data row4 col0\" > equation</td>\n",
       "      <td id=\"T_f854a_row4_col1\" class=\"data row4 col1\" >0.030</td>\n",
       "      <td id=\"T_f854a_row4_col2\" class=\"data row4 col2\" >0.023</td>\n",
       "    </tr>\n",
       "    <tr>\n",
       "      <th id=\"T_f854a_level0_row5\" class=\"row_heading level0 row5\" >5</th>\n",
       "      <td id=\"T_f854a_row5_col0\" class=\"data row5 col0\" > formula</td>\n",
       "      <td id=\"T_f854a_row5_col1\" class=\"data row5 col1\" >0.217</td>\n",
       "      <td id=\"T_f854a_row5_col2\" class=\"data row5 col2\" >0.151</td>\n",
       "    </tr>\n",
       "  </tbody>\n",
       "</table>\n"
      ],
      "text/plain": [
       "<IPython.core.display.HTML object>"
      ]
     },
     "metadata": {},
     "output_type": "display_data"
    },
    {
     "name": "stdout",
     "output_type": "stream",
     "text": [
      "--------------------------------------------------------------------------------------------------------------------------------------------------------------------------------------------------------\n"
     ]
    },
    {
     "data": {
      "text/html": [
       "&lt;bos&gt;<span style=\"background-color: rgba(255, 0, 0, 0.000); white-space: pre-wrap;\" title=\"KL: 0.000\">&lt;start_of_turn&gt;</span><span style=\"background-color: rgba(255, 0, 0, 0.010); white-space: pre-wrap;\" title=\"KL: 0.001\">user</span><span style=\"background-color: rgba(255, 0, 0, 0.003); white-space: pre-wrap;\" title=\"KL: 0.000\">\n",
       "</span><span style=\"background-color: rgba(255, 0, 0, 0.002); white-space: pre-wrap;\" title=\"KL: 0.000\">You</span><span style=\"background-color: rgba(255, 0, 0, 0.000); white-space: pre-wrap;\" title=\"KL: 0.000\"> are</span><span style=\"background-color: rgba(255, 0, 0, 0.002); white-space: pre-wrap;\" title=\"KL: 0.000\"> a</span><span style=\"background-color: rgba(255, 0, 0, 0.007); white-space: pre-wrap;\" title=\"KL: 0.001\"> gifted</span><span style=\"background-color: rgba(255, 0, 0, 0.006); white-space: pre-wrap;\" title=\"KL: 0.001\">,</span><span style=\"background-color: rgba(255, 0, 0, 0.005); white-space: pre-wrap;\" title=\"KL: 0.000\"> hilarious</span><span style=\"background-color: rgba(255, 0, 0, 0.002); white-space: pre-wrap;\" title=\"KL: 0.000\"> comedy</span><span style=\"background-color: rgba(255, 0, 0, 0.002); white-space: pre-wrap;\" title=\"KL: 0.000\"> writer</span><span style=\"background-color: rgba(255, 0, 0, 0.006); white-space: pre-wrap;\" title=\"KL: 0.001\">,</span><span style=\"background-color: rgba(255, 0, 0, 0.016); white-space: pre-wrap;\" title=\"KL: 0.002\"> helping</span><span style=\"background-color: rgba(255, 0, 0, 0.003); white-space: pre-wrap;\" title=\"KL: 0.000\"> Mitch</span><span style=\"background-color: rgba(255, 0, 0, 0.008); white-space: pre-wrap;\" title=\"KL: 0.001\"> Hed</span><span style=\"background-color: rgba(255, 0, 0, 0.001); white-space: pre-wrap;\" title=\"KL: 0.000\">berg</span><span style=\"background-color: rgba(255, 0, 0, 0.057); white-space: pre-wrap;\" title=\"KL: 0.006\"> write</span><span style=\"background-color: rgba(255, 0, 0, 0.003); white-space: pre-wrap;\" title=\"KL: 0.000\"> new</span><span style=\"background-color: rgba(255, 0, 0, 0.001); white-space: pre-wrap;\" title=\"KL: 0.000\"> funny</span><span style=\"background-color: rgba(255, 0, 0, 0.010); white-space: pre-wrap;\" title=\"KL: 0.001\"> one</span><span style=\"background-color: rgba(255, 0, 0, 0.000); white-space: pre-wrap;\" title=\"KL: 0.000\">-</span><span style=\"background-color: rgba(255, 0, 0, 0.000); white-space: pre-wrap;\" title=\"KL: 0.000\">liner</span><span style=\"background-color: rgba(255, 0, 0, 0.011); white-space: pre-wrap;\" title=\"KL: 0.001\"> jokes</span><span style=\"background-color: rgba(255, 0, 0, 0.002); white-space: pre-wrap;\" title=\"KL: 0.000\"> for</span><span style=\"background-color: rgba(255, 0, 0, 0.002); white-space: pre-wrap;\" title=\"KL: 0.000\"> his</span><span style=\"background-color: rgba(255, 0, 0, 0.028); white-space: pre-wrap;\" title=\"KL: 0.003\"> stand</span><span style=\"background-color: rgba(255, 0, 0, 0.000); white-space: pre-wrap;\" title=\"KL: 0.000\">up</span><span style=\"background-color: rgba(255, 0, 0, 0.007); white-space: pre-wrap;\" title=\"KL: 0.001\"> routine</span><span style=\"background-color: rgba(255, 0, 0, 0.001); white-space: pre-wrap;\" title=\"KL: 0.000\">.</span><span style=\"background-color: rgba(255, 0, 0, 0.000); white-space: pre-wrap;\" title=\"KL: 0.000\"> Examples</span><span style=\"background-color: rgba(255, 0, 0, 0.002); white-space: pre-wrap;\" title=\"KL: 0.000\"> of</span><span style=\"background-color: rgba(255, 0, 0, 0.006); white-space: pre-wrap;\" title=\"KL: 0.001\"> classic</span><span style=\"background-color: rgba(255, 0, 0, 0.001); white-space: pre-wrap;\" title=\"KL: 0.000\"> Mitch</span><span style=\"background-color: rgba(255, 0, 0, 0.019); white-space: pre-wrap;\" title=\"KL: 0.002\"> Hed</span><span style=\"background-color: rgba(255, 0, 0, 0.000); white-space: pre-wrap;\" title=\"KL: 0.000\">berg</span><span style=\"background-color: rgba(255, 0, 0, 0.017); white-space: pre-wrap;\" title=\"KL: 0.002\"> jokes</span><span style=\"background-color: rgba(255, 0, 0, 0.006); white-space: pre-wrap;\" title=\"KL: 0.001\"> are</span><span style=\"background-color: rgba(255, 0, 0, 0.007); white-space: pre-wrap;\" title=\"KL: 0.001\"> \"</span><span style=\"background-color: rgba(255, 0, 0, 0.010); white-space: pre-wrap;\" title=\"KL: 0.001\">I</span><span style=\"background-color: rgba(255, 0, 0, 0.015); white-space: pre-wrap;\" title=\"KL: 0.001\"> do</span><span style=\"background-color: rgba(255, 0, 0, 0.013); white-space: pre-wrap;\" title=\"KL: 0.001\"> not</span><span style=\"background-color: rgba(255, 0, 0, 0.008); white-space: pre-wrap;\" title=\"KL: 0.001\"> have</span><span style=\"background-color: rgba(255, 0, 0, 0.004); white-space: pre-wrap;\" title=\"KL: 0.000\"> a</span><span style=\"background-color: rgba(255, 0, 0, 0.014); white-space: pre-wrap;\" title=\"KL: 0.001\"> girlfriend</span><span style=\"background-color: rgba(255, 0, 0, 0.009); white-space: pre-wrap;\" title=\"KL: 0.001\">,</span><span style=\"background-color: rgba(255, 0, 0, 0.005); white-space: pre-wrap;\" title=\"KL: 0.000\"> I</span><span style=\"background-color: rgba(255, 0, 0, 0.005); white-space: pre-wrap;\" title=\"KL: 0.000\"> just</span><span style=\"background-color: rgba(255, 0, 0, 0.003); white-space: pre-wrap;\" title=\"KL: 0.000\"> have</span><span style=\"background-color: rgba(255, 0, 0, 0.002); white-space: pre-wrap;\" title=\"KL: 0.000\"> someone</span><span style=\"background-color: rgba(255, 0, 0, 0.013); white-space: pre-wrap;\" title=\"KL: 0.001\"> who</span><span style=\"background-color: rgba(255, 0, 0, 0.007); white-space: pre-wrap;\" title=\"KL: 0.001\">'</span><span style=\"background-color: rgba(255, 0, 0, 0.000); white-space: pre-wrap;\" title=\"KL: 0.000\">d</span><span style=\"background-color: rgba(255, 0, 0, 0.005); white-space: pre-wrap;\" title=\"KL: 0.001\"> be</span><span style=\"background-color: rgba(255, 0, 0, 0.007); white-space: pre-wrap;\" title=\"KL: 0.001\"> really</span><span style=\"background-color: rgba(255, 0, 0, 0.010); white-space: pre-wrap;\" title=\"KL: 0.001\"> mad</span><span style=\"background-color: rgba(255, 0, 0, 0.000); white-space: pre-wrap;\" title=\"KL: 0.000\"> if</span><span style=\"background-color: rgba(255, 0, 0, 0.001); white-space: pre-wrap;\" title=\"KL: 0.000\"> she</span><span style=\"background-color: rgba(255, 0, 0, 0.012); white-space: pre-wrap;\" title=\"KL: 0.001\"> heard</span><span style=\"background-color: rgba(255, 0, 0, 0.009); white-space: pre-wrap;\" title=\"KL: 0.001\"> me</span><span style=\"background-color: rgba(255, 0, 0, 0.011); white-space: pre-wrap;\" title=\"KL: 0.001\"> say</span><span style=\"background-color: rgba(255, 0, 0, 0.004); white-space: pre-wrap;\" title=\"KL: 0.000\"> that</span><span style=\"background-color: rgba(255, 0, 0, 0.008); white-space: pre-wrap;\" title=\"KL: 0.001\">.\"</span><span style=\"background-color: rgba(255, 0, 0, 0.001); white-space: pre-wrap;\" title=\"KL: 0.000\"> and</span><span style=\"background-color: rgba(255, 0, 0, 0.000); white-space: pre-wrap;\" title=\"KL: 0.000\"> \"</span><span style=\"background-color: rgba(255, 0, 0, 0.008); white-space: pre-wrap;\" title=\"KL: 0.001\">I</span><span style=\"background-color: rgba(255, 0, 0, 0.009); white-space: pre-wrap;\" title=\"KL: 0.001\"> used</span><span style=\"background-color: rgba(255, 0, 0, 0.000); white-space: pre-wrap;\" title=\"KL: 0.000\"> to</span><span style=\"background-color: rgba(255, 0, 0, 0.003); white-space: pre-wrap;\" title=\"KL: 0.000\"> do</span><span style=\"background-color: rgba(255, 0, 0, 0.015); white-space: pre-wrap;\" title=\"KL: 0.001\"> drugs</span><span style=\"background-color: rgba(255, 0, 0, 0.012); white-space: pre-wrap;\" title=\"KL: 0.001\">.</span><span style=\"background-color: rgba(255, 0, 0, 0.013); white-space: pre-wrap;\" title=\"KL: 0.001\"> I</span><span style=\"background-color: rgba(255, 0, 0, 0.004); white-space: pre-wrap;\" title=\"KL: 0.000\"> still</span><span style=\"background-color: rgba(255, 0, 0, 0.001); white-space: pre-wrap;\" title=\"KL: 0.000\"> do</span><span style=\"background-color: rgba(255, 0, 0, 0.031); white-space: pre-wrap;\" title=\"KL: 0.003\">,</span><span style=\"background-color: rgba(255, 0, 0, 0.002); white-space: pre-wrap;\" title=\"KL: 0.000\"> but</span><span style=\"background-color: rgba(255, 0, 0, 0.004); white-space: pre-wrap;\" title=\"KL: 0.000\"> I</span><span style=\"background-color: rgba(255, 0, 0, 0.003); white-space: pre-wrap;\" title=\"KL: 0.000\"> used</span><span style=\"background-color: rgba(255, 0, 0, 0.000); white-space: pre-wrap;\" title=\"KL: 0.000\"> to</span><span style=\"background-color: rgba(255, 0, 0, 0.020); white-space: pre-wrap;\" title=\"KL: 0.002\">,</span><span style=\"background-color: rgba(255, 0, 0, 0.025); white-space: pre-wrap;\" title=\"KL: 0.002\"> too</span><span style=\"background-color: rgba(255, 0, 0, 0.000); white-space: pre-wrap;\" title=\"KL: 0.000\">.\"</span><span style=\"background-color: rgba(255, 0, 0, 0.001); white-space: pre-wrap;\" title=\"KL: 0.000\"> Please</span><span style=\"background-color: rgba(255, 0, 0, 0.012); white-space: pre-wrap;\" title=\"KL: 0.001\"> write</span><span style=\"background-color: rgba(255, 0, 0, 0.008); white-space: pre-wrap;\" title=\"KL: 0.001\"> five</span><span style=\"background-color: rgba(255, 0, 0, 0.002); white-space: pre-wrap;\" title=\"KL: 0.000\"> new</span><span style=\"background-color: rgba(255, 0, 0, 0.025); white-space: pre-wrap;\" title=\"KL: 0.002\">,</span><span style=\"background-color: rgba(255, 0, 0, 0.034); white-space: pre-wrap;\" title=\"KL: 0.003\"> original</span><span style=\"background-color: rgba(255, 0, 0, 0.010); white-space: pre-wrap;\" title=\"KL: 0.001\">,</span><span style=\"background-color: rgba(255, 0, 0, 0.010); white-space: pre-wrap;\" title=\"KL: 0.001\"> hilarious</span><span style=\"background-color: rgba(255, 0, 0, 0.015); white-space: pre-wrap;\" title=\"KL: 0.002\"> one</span><span style=\"background-color: rgba(255, 0, 0, 0.000); white-space: pre-wrap;\" title=\"KL: 0.000\">-</span><span style=\"background-color: rgba(255, 0, 0, 0.001); white-space: pre-wrap;\" title=\"KL: 0.000\">liners</span><span style=\"background-color: rgba(255, 0, 0, 0.004); white-space: pre-wrap;\" title=\"KL: 0.000\"> in</span><span style=\"background-color: rgba(255, 0, 0, 0.000); white-space: pre-wrap;\" title=\"KL: 0.000\"> the</span><span style=\"background-color: rgba(255, 0, 0, 0.011); white-space: pre-wrap;\" title=\"KL: 0.001\"> style</span><span style=\"background-color: rgba(255, 0, 0, 0.000); white-space: pre-wrap;\" title=\"KL: 0.000\"> of</span><span style=\"background-color: rgba(255, 0, 0, 0.002); white-space: pre-wrap;\" title=\"KL: 0.000\"> Mitch</span><span style=\"background-color: rgba(255, 0, 0, 0.001); white-space: pre-wrap;\" title=\"KL: 0.000\"> Hed</span><span style=\"background-color: rgba(255, 0, 0, 0.000); white-space: pre-wrap;\" title=\"KL: 0.000\">berg</span><span style=\"background-color: rgba(255, 0, 0, 0.002); white-space: pre-wrap;\" title=\"KL: 0.000\">.</span><span style=\"background-color: rgba(255, 0, 0, 0.000); white-space: pre-wrap;\" title=\"KL: 0.000\">&lt;end_of_turn&gt;</span><span style=\"background-color: rgba(255, 0, 0, 0.000); white-space: pre-wrap;\" title=\"KL: 0.000\">\n",
       "</span><span style=\"background-color: rgba(255, 0, 0, 0.012); white-space: pre-wrap;\" title=\"KL: 0.001\">&lt;start_of_turn&gt;</span><span style=\"background-color: rgba(255, 0, 0, 0.009); white-space: pre-wrap;\" title=\"KL: 0.001\">model</span><span style=\"background-color: rgba(255, 0, 0, 0.087); white-space: pre-wrap;\" title=\"KL: 0.009\">\n",
       "</span><span style=\"background-color: rgba(255, 0, 0, 0.311); white-space: pre-wrap;\" title=\"KL: 0.031\">Okay</span><span style=\"background-color: rgba(255, 0, 0, 0.001); white-space: pre-wrap;\" title=\"KL: 0.000\">,</span><span style=\"background-color: rgba(255, 0, 0, 0.016); white-space: pre-wrap;\" title=\"KL: 0.002\"> here</span><span style=\"background-color: rgba(255, 0, 0, 0.016); white-space: pre-wrap;\" title=\"KL: 0.002\"> are</span><span style=\"background-color: rgba(255, 0, 0, 0.005); white-space: pre-wrap;\" title=\"KL: 0.000\"> five</span><span style=\"background-color: rgba(255, 0, 0, 0.051); white-space: pre-wrap;\" title=\"KL: 0.005\"> one</span><span style=\"background-color: rgba(255, 0, 0, 0.000); white-space: pre-wrap;\" title=\"KL: 0.000\">-</span><span style=\"background-color: rgba(255, 0, 0, 0.009); white-space: pre-wrap;\" title=\"KL: 0.001\">liners</span><span style=\"background-color: rgba(255, 0, 0, 0.073); white-space: pre-wrap;\" title=\"KL: 0.007\"> in</span><span style=\"background-color: rgba(255, 0, 0, 0.027); white-space: pre-wrap;\" title=\"KL: 0.003\"> the</span><span style=\"background-color: rgba(255, 0, 0, 0.172); white-space: pre-wrap;\" title=\"KL: 0.017\"> spirit</span><span style=\"background-color: rgba(255, 0, 0, 0.001); white-space: pre-wrap;\" title=\"KL: 0.000\"> of</span><span style=\"background-color: rgba(255, 0, 0, 0.012); white-space: pre-wrap;\" title=\"KL: 0.001\"> Mitch</span><span style=\"background-color: rgba(255, 0, 0, 0.032); white-space: pre-wrap;\" title=\"KL: 0.003\">:</span><span style=\"background-color: rgba(255, 0, 0, 0.000); white-space: pre-wrap;\" title=\"KL: 0.000\">\n",
       "\n",
       "</span><span style=\"background-color: rgba(255, 0, 0, 0.000); white-space: pre-wrap;\" title=\"KL: 0.000\">1</span><span style=\"background-color: rgba(255, 0, 0, 0.000); white-space: pre-wrap;\" title=\"KL: -0.000\">.</span><span style=\"background-color: rgba(255, 0, 0, 0.009); white-space: pre-wrap;\" title=\"KL: 0.001\">  </span><span style=\"background-color: rgba(255, 0, 0, 0.018); white-space: pre-wrap;\" title=\"KL: 0.002\">\"</span><span style=\"background-color: rgba(255, 0, 0, 0.041); white-space: pre-wrap;\" title=\"KL: 0.004\">I</span><span style=\"background-color: rgba(255, 0, 0, 0.018); white-space: pre-wrap;\" title=\"KL: 0.002\"> went</span><span style=\"background-color: rgba(255, 0, 0, 0.001); white-space: pre-wrap;\" title=\"KL: 0.000\"> to</span><span style=\"background-color: rgba(255, 0, 0, 0.012); white-space: pre-wrap;\" title=\"KL: 0.001\"> Ikea</span><span style=\"background-color: rgba(255, 0, 0, 0.040); white-space: pre-wrap;\" title=\"KL: 0.004\"> last</span><span style=\"background-color: rgba(255, 0, 0, 0.000); white-space: pre-wrap;\" title=\"KL: 0.000\"> weekend</span><span style=\"background-color: rgba(255, 0, 0, 0.051); white-space: pre-wrap;\" title=\"KL: 0.005\">.</span><span style=\"background-color: rgba(255, 0, 0, 0.027); white-space: pre-wrap;\" title=\"KL: 0.003\"> They</span><span style=\"background-color: rgba(255, 0, 0, 0.033); white-space: pre-wrap;\" title=\"KL: 0.003\"> had</span><span style=\"background-color: rgba(255, 0, 0, 0.014); white-space: pre-wrap;\" title=\"KL: 0.001\"> a</span>"
      ],
      "text/plain": [
       "<IPython.core.display.HTML object>"
      ]
     },
     "metadata": {},
     "output_type": "display_data"
    },
    {
     "name": "stdout",
     "output_type": "stream",
     "text": [
      "High KL: 0.0311 at token 'Okay'\\n\n"
     ]
    },
    {
     "data": {
      "text/html": [
       "<style type=\"text/css\">\n",
       "#T_c73b2 th {\n",
       "  text-align: left;\n",
       "}\n",
       "#T_c73b2_row0_col0, #T_c73b2_row1_col0 {\n",
       "  background-color: forestgreen;\n",
       "  text-align: left;\n",
       "}\n",
       "#T_c73b2_row0_col1, #T_c73b2_row0_col2, #T_c73b2_row1_col1, #T_c73b2_row1_col2, #T_c73b2_row2_col1, #T_c73b2_row2_col2 {\n",
       "  text-align: left;\n",
       "}\n",
       "#T_c73b2_row2_col0 {\n",
       "  background-color: indianred;\n",
       "  text-align: left;\n",
       "}\n",
       "</style>\n",
       "<table id=\"T_c73b2\">\n",
       "  <thead>\n",
       "    <tr>\n",
       "      <th class=\"blank level0\" >&nbsp;</th>\n",
       "      <th id=\"T_c73b2_level0_col0\" class=\"col_heading level0 col0\" >Token</th>\n",
       "      <th id=\"T_c73b2_level0_col1\" class=\"col_heading level0 col1\" >p_HS</th>\n",
       "      <th id=\"T_c73b2_level0_col2\" class=\"col_heading level0 col2\" >p_B</th>\n",
       "    </tr>\n",
       "  </thead>\n",
       "  <tbody>\n",
       "    <tr>\n",
       "      <th id=\"T_c73b2_level0_row0\" class=\"row_heading level0 row0\" >0</th>\n",
       "      <td id=\"T_c73b2_row0_col0\" class=\"data row0 col0\" >Alright</td>\n",
       "      <td id=\"T_c73b2_row0_col1\" class=\"data row0 col1\" >0.127</td>\n",
       "      <td id=\"T_c73b2_row0_col2\" class=\"data row0 col2\" >0.200</td>\n",
       "    </tr>\n",
       "    <tr>\n",
       "      <th id=\"T_c73b2_level0_row1\" class=\"row_heading level0 row1\" >1</th>\n",
       "      <td id=\"T_c73b2_row1_col0\" class=\"data row1 col0\" >Okay</td>\n",
       "      <td id=\"T_c73b2_row1_col1\" class=\"data row1 col1\" >0.178</td>\n",
       "      <td id=\"T_c73b2_row1_col2\" class=\"data row1 col2\" >0.220</td>\n",
       "    </tr>\n",
       "    <tr>\n",
       "      <th id=\"T_c73b2_level0_row2\" class=\"row_heading level0 row2\" >2</th>\n",
       "      <td id=\"T_c73b2_row2_col0\" class=\"data row2 col0\" >Here</td>\n",
       "      <td id=\"T_c73b2_row2_col1\" class=\"data row2 col1\" >0.688</td>\n",
       "      <td id=\"T_c73b2_row2_col2\" class=\"data row2 col2\" >0.570</td>\n",
       "    </tr>\n",
       "  </tbody>\n",
       "</table>\n"
      ],
      "text/plain": [
       "<IPython.core.display.HTML object>"
      ]
     },
     "metadata": {},
     "output_type": "display_data"
    },
    {
     "name": "stdout",
     "output_type": "stream",
     "text": [
      "--------------------------------------------------------------------------------------------------------------------------------------------------------------------------------------------------------\n"
     ]
    },
    {
     "data": {
      "text/html": [
       "&lt;bos&gt;<span style=\"background-color: rgba(255, 0, 0, 0.000); white-space: pre-wrap;\" title=\"KL: 0.000\">&lt;start_of_turn&gt;</span><span style=\"background-color: rgba(255, 0, 0, 0.010); white-space: pre-wrap;\" title=\"KL: 0.001\">user</span><span style=\"background-color: rgba(255, 0, 0, 0.003); white-space: pre-wrap;\" title=\"KL: 0.000\">\n",
       "</span><span style=\"background-color: rgba(255, 0, 0, 0.002); white-space: pre-wrap;\" title=\"KL: 0.000\">In</span><span style=\"background-color: rgba(255, 0, 0, 0.001); white-space: pre-wrap;\" title=\"KL: 0.000\"> very</span><span style=\"background-color: rgba(255, 0, 0, 0.002); white-space: pre-wrap;\" title=\"KL: 0.000\"> convoluted</span><span style=\"background-color: rgba(255, 0, 0, 0.003); white-space: pre-wrap;\" title=\"KL: 0.000\"> leg</span><span style=\"background-color: rgba(255, 0, 0, 0.015); white-space: pre-wrap;\" title=\"KL: 0.002\">alese</span><span style=\"background-color: rgba(255, 0, 0, 0.001); white-space: pre-wrap;\" title=\"KL: 0.000\">,</span><span style=\"background-color: rgba(255, 0, 0, 0.033); white-space: pre-wrap;\" title=\"KL: 0.003\"> explain</span><span style=\"background-color: rgba(255, 0, 0, 0.008); white-space: pre-wrap;\" title=\"KL: 0.001\"> why</span><span style=\"background-color: rgba(255, 0, 0, 0.005); white-space: pre-wrap;\" title=\"KL: 0.000\"> pineapple</span><span style=\"background-color: rgba(255, 0, 0, 0.006); white-space: pre-wrap;\" title=\"KL: 0.001\"> does</span><span style=\"background-color: rgba(255, 0, 0, 0.001); white-space: pre-wrap;\" title=\"KL: 0.000\"> not</span><span style=\"background-color: rgba(255, 0, 0, 0.017); white-space: pre-wrap;\" title=\"KL: 0.002\"> belong</span><span style=\"background-color: rgba(255, 0, 0, 0.002); white-space: pre-wrap;\" title=\"KL: 0.000\"> on</span><span style=\"background-color: rgba(255, 0, 0, 0.000); white-space: pre-wrap;\" title=\"KL: 0.000\"> pizza</span><span style=\"background-color: rgba(255, 0, 0, 0.001); white-space: pre-wrap;\" title=\"KL: 0.000\">.</span><span style=\"background-color: rgba(255, 0, 0, 0.002); white-space: pre-wrap;\" title=\"KL: 0.000\">&lt;end_of_turn&gt;</span><span style=\"background-color: rgba(255, 0, 0, 0.002); white-space: pre-wrap;\" title=\"KL: 0.000\">\n",
       "</span><span style=\"background-color: rgba(255, 0, 0, 0.356); white-space: pre-wrap;\" title=\"KL: 0.036\">&lt;start_of_turn&gt;</span><span style=\"background-color: rgba(255, 0, 0, 0.002); white-space: pre-wrap;\" title=\"KL: 0.000\">model</span><span style=\"background-color: rgba(255, 0, 0, 0.037); white-space: pre-wrap;\" title=\"KL: 0.004\">\n",
       "</span><span style=\"background-color: rgba(255, 0, 0, 0.037); white-space: pre-wrap;\" title=\"KL: 0.004\">##</span><span style=\"background-color: rgba(255, 0, 0, 0.016); white-space: pre-wrap;\" title=\"KL: 0.002\">  </span><span style=\"background-color: rgba(255, 0, 0, 0.022); white-space: pre-wrap;\" title=\"KL: 0.002\">**</span><span style=\"background-color: rgba(255, 0, 0, 0.029); white-space: pre-wrap;\" title=\"KL: 0.003\">The</span><span style=\"background-color: rgba(255, 0, 0, 0.028); white-space: pre-wrap;\" title=\"KL: 0.003\"> Imp</span><span style=\"background-color: rgba(255, 0, 0, 0.036); white-space: pre-wrap;\" title=\"KL: 0.004\">reg</span><span style=\"background-color: rgba(255, 0, 0, 0.000); white-space: pre-wrap;\" title=\"KL: 0.000\">nable</span><span style=\"background-color: rgba(255, 0, 0, 0.040); white-space: pre-wrap;\" title=\"KL: 0.004\"> Citadel</span><span style=\"background-color: rgba(255, 0, 0, 0.000); white-space: pre-wrap;\" title=\"KL: 0.000\"> of</span><span style=\"background-color: rgba(255, 0, 0, 0.053); white-space: pre-wrap;\" title=\"KL: 0.005\"> Culinary</span><span style=\"background-color: rgba(255, 0, 0, 0.055); white-space: pre-wrap;\" title=\"KL: 0.006\"> Tradition</span><span style=\"background-color: rgba(255, 0, 0, 0.007); white-space: pre-wrap;\" title=\"KL: 0.001\">:</span><span style=\"background-color: rgba(255, 0, 0, 0.056); white-space: pre-wrap;\" title=\"KL: 0.006\"> An</span><span style=\"background-color: rgba(255, 0, 0, 0.044); white-space: pre-wrap;\" title=\"KL: 0.004\"> In</span><span style=\"background-color: rgba(255, 0, 0, 0.009); white-space: pre-wrap;\" title=\"KL: 0.001\">-</span><span style=\"background-color: rgba(255, 0, 0, 0.002); white-space: pre-wrap;\" title=\"KL: 0.000\">depth</span><span style=\"background-color: rgba(255, 0, 0, 0.021); white-space: pre-wrap;\" title=\"KL: 0.002\"> Exploration</span><span style=\"background-color: rgba(255, 0, 0, 0.003); white-space: pre-wrap;\" title=\"KL: 0.000\"> of</span><span style=\"background-color: rgba(255, 0, 0, 0.015); white-space: pre-wrap;\" title=\"KL: 0.001\"> Pineapple</span><span style=\"background-color: rgba(255, 0, 0, 0.020); white-space: pre-wrap;\" title=\"KL: 0.002\">'</span><span style=\"background-color: rgba(255, 0, 0, 0.000); white-space: pre-wrap;\" title=\"KL: 0.000\">s</span><span style=\"background-color: rgba(255, 0, 0, 0.035); white-space: pre-wrap;\" title=\"KL: 0.003\"> Anti</span><span style=\"background-color: rgba(255, 0, 0, 0.019); white-space: pre-wrap;\" title=\"KL: 0.002\">-</span><span style=\"background-color: rgba(255, 0, 0, 0.013); white-space: pre-wrap;\" title=\"KL: 0.001\">Pizza</span><span style=\"background-color: rgba(255, 0, 0, 0.183); white-space: pre-wrap;\" title=\"KL: 0.018\"> Status</span><span style=\"background-color: rgba(255, 0, 0, 0.006); white-space: pre-wrap;\" title=\"KL: 0.001\">**</span>"
      ],
      "text/plain": [
       "<IPython.core.display.HTML object>"
      ]
     },
     "metadata": {},
     "output_type": "display_data"
    },
    {
     "name": "stdout",
     "output_type": "stream",
     "text": [
      "High KL: 0.0356 at token '<start_of_turn>'\\n\n"
     ]
    },
    {
     "data": {
      "text/html": [
       "<style type=\"text/css\">\n",
       "#T_1cff2 th {\n",
       "  text-align: left;\n",
       "}\n",
       "#T_1cff2_row0_col0 {\n",
       "  background-color: forestgreen;\n",
       "  text-align: left;\n",
       "}\n",
       "#T_1cff2_row0_col1, #T_1cff2_row0_col2, #T_1cff2_row1_col1, #T_1cff2_row1_col2 {\n",
       "  text-align: left;\n",
       "}\n",
       "#T_1cff2_row1_col0 {\n",
       "  background-color: indianred;\n",
       "  text-align: left;\n",
       "}\n",
       "</style>\n",
       "<table id=\"T_1cff2\">\n",
       "  <thead>\n",
       "    <tr>\n",
       "      <th class=\"blank level0\" >&nbsp;</th>\n",
       "      <th id=\"T_1cff2_level0_col0\" class=\"col_heading level0 col0\" >Token</th>\n",
       "      <th id=\"T_1cff2_level0_col1\" class=\"col_heading level0 col1\" >p_HS</th>\n",
       "      <th id=\"T_1cff2_level0_col2\" class=\"col_heading level0 col2\" >p_B</th>\n",
       "    </tr>\n",
       "  </thead>\n",
       "  <tbody>\n",
       "    <tr>\n",
       "      <th id=\"T_1cff2_level0_row0\" class=\"row_heading level0 row0\" >0</th>\n",
       "      <td id=\"T_1cff2_row0_col0\" class=\"data row0 col0\" >\n",
       "\n",
       "</td>\n",
       "      <td id=\"T_1cff2_row0_col1\" class=\"data row0 col1\" >0.676</td>\n",
       "      <td id=\"T_1cff2_row0_col2\" class=\"data row0 col2\" >0.781</td>\n",
       "    </tr>\n",
       "    <tr>\n",
       "      <th id=\"T_1cff2_level0_row1\" class=\"row_heading level0 row1\" >1</th>\n",
       "      <td id=\"T_1cff2_row1_col0\" class=\"data row1 col0\" >*</td>\n",
       "      <td id=\"T_1cff2_row1_col1\" class=\"data row1 col1\" >0.281</td>\n",
       "      <td id=\"T_1cff2_row1_col2\" class=\"data row1 col2\" >0.174</td>\n",
       "    </tr>\n",
       "  </tbody>\n",
       "</table>\n"
      ],
      "text/plain": [
       "<IPython.core.display.HTML object>"
      ]
     },
     "metadata": {},
     "output_type": "display_data"
    },
    {
     "name": "stdout",
     "output_type": "stream",
     "text": [
      "--------------------------------------------------------------------------------------------------------------------------------------------------------------------------------------------------------\n"
     ]
    },
    {
     "data": {
      "text/html": [
       "&lt;bos&gt;<span style=\"background-color: rgba(255, 0, 0, 0.000); white-space: pre-wrap;\" title=\"KL: 0.000\">&lt;start_of_turn&gt;</span><span style=\"background-color: rgba(255, 0, 0, 0.010); white-space: pre-wrap;\" title=\"KL: 0.001\">user</span><span style=\"background-color: rgba(255, 0, 0, 0.003); white-space: pre-wrap;\" title=\"KL: 0.000\">\n",
       "</span><span style=\"background-color: rgba(255, 0, 0, 0.002); white-space: pre-wrap;\" title=\"KL: 0.000\">Quel</span><span style=\"background-color: rgba(255, 0, 0, 0.001); white-space: pre-wrap;\" title=\"KL: 0.000\"> est</span><span style=\"background-color: rgba(255, 0, 0, 0.000); white-space: pre-wrap;\" title=\"KL: 0.000\"> le</span><span style=\"background-color: rgba(255, 0, 0, 0.006); white-space: pre-wrap;\" title=\"KL: 0.001\"> style</span><span style=\"background-color: rgba(255, 0, 0, 0.002); white-space: pre-wrap;\" title=\"KL: 0.000\"> de</span><span style=\"background-color: rgba(255, 0, 0, 0.006); white-space: pre-wrap;\" title=\"KL: 0.001\"> music</span><span style=\"background-color: rgba(255, 0, 0, 0.076); white-space: pre-wrap;\" title=\"KL: 0.008\"> de</span><span style=\"background-color: rgba(255, 0, 0, 0.011); white-space: pre-wrap;\" title=\"KL: 0.001\"> Cult</span><span style=\"background-color: rgba(255, 0, 0, 0.014); white-space: pre-wrap;\" title=\"KL: 0.001\"> of</span><span style=\"background-color: rgba(255, 0, 0, 0.006); white-space: pre-wrap;\" title=\"KL: 0.001\"> Luna</span><span style=\"background-color: rgba(255, 0, 0, 0.004); white-space: pre-wrap;\" title=\"KL: 0.000\">&lt;end_of_turn&gt;</span><span style=\"background-color: rgba(255, 0, 0, 0.000); white-space: pre-wrap;\" title=\"KL: 0.000\">\n",
       "</span><span style=\"background-color: rgba(255, 0, 0, 0.005); white-space: pre-wrap;\" title=\"KL: 0.001\">&lt;start_of_turn&gt;</span><span style=\"background-color: rgba(255, 0, 0, 0.051); white-space: pre-wrap;\" title=\"KL: 0.005\">model</span><span style=\"background-color: rgba(255, 0, 0, 0.012); white-space: pre-wrap;\" title=\"KL: 0.001\">\n",
       "</span><span style=\"background-color: rgba(255, 0, 0, 0.016); white-space: pre-wrap;\" title=\"KL: 0.002\">Il</span><span style=\"background-color: rgba(255, 0, 0, 0.000); white-space: pre-wrap;\" title=\"KL: 0.000\"> est</span><span style=\"background-color: rgba(255, 0, 0, 0.000); white-space: pre-wrap;\" title=\"KL: 0.000\"> difficile</span><span style=\"background-color: rgba(255, 0, 0, 0.000); white-space: pre-wrap;\" title=\"KL: 0.000\"> de</span><span style=\"background-color: rgba(255, 0, 0, 0.013); white-space: pre-wrap;\" title=\"KL: 0.001\"> classifier</span><span style=\"background-color: rgba(255, 0, 0, 0.005); white-space: pre-wrap;\" title=\"KL: 0.000\"> précisément</span><span style=\"background-color: rgba(255, 0, 0, 0.000); white-space: pre-wrap;\" title=\"KL: 0.000\"> le</span><span style=\"background-color: rgba(255, 0, 0, 0.000); white-space: pre-wrap;\" title=\"KL: 0.000\"> style</span><span style=\"background-color: rgba(255, 0, 0, 0.001); white-space: pre-wrap;\" title=\"KL: 0.000\"> de</span><span style=\"background-color: rgba(255, 0, 0, 0.005); white-space: pre-wrap;\" title=\"KL: 0.000\"> muziek</span><span style=\"background-color: rgba(255, 0, 0, 0.000); white-space: pre-wrap;\" title=\"KL: 0.000\"> du</span><span style=\"background-color: rgba(255, 0, 0, 0.003); white-space: pre-wrap;\" title=\"KL: 0.000\"> Cult</span><span style=\"background-color: rgba(255, 0, 0, 0.000); white-space: pre-wrap;\" title=\"KL: 0.000\"> of</span><span style=\"background-color: rgba(255, 0, 0, 0.000); white-space: pre-wrap;\" title=\"KL: 0.000\"> Luna</span><span style=\"background-color: rgba(255, 0, 0, 0.016); white-space: pre-wrap;\" title=\"KL: 0.002\">,</span><span style=\"background-color: rgba(255, 0, 0, 0.001); white-space: pre-wrap;\" title=\"KL: 0.000\"> car</span><span style=\"background-color: rgba(255, 0, 0, 0.001); white-space: pre-wrap;\" title=\"KL: 0.000\"> ils</span><span style=\"background-color: rgba(255, 0, 0, 0.004); white-space: pre-wrap;\" title=\"KL: 0.000\"> chev</span><span style=\"background-color: rgba(255, 0, 0, 0.000); white-space: pre-wrap;\" title=\"KL: 0.000\">auch</span><span style=\"background-color: rgba(255, 0, 0, 0.000); white-space: pre-wrap;\" title=\"KL: 0.000\">ent</span><span style=\"background-color: rgba(255, 0, 0, 0.009); white-space: pre-wrap;\" title=\"KL: 0.001\"> souvent</span><span style=\"background-color: rgba(255, 0, 0, 0.007); white-space: pre-wrap;\" title=\"KL: 0.001\"> plusieurs</span><span style=\"background-color: rgba(255, 0, 0, 0.002); white-space: pre-wrap;\" title=\"KL: 0.000\"> genres</span><span style=\"background-color: rgba(255, 0, 0, 0.012); white-space: pre-wrap;\" title=\"KL: 0.001\"> music</span><span style=\"background-color: rgba(255, 0, 0, 0.000); white-space: pre-wrap;\" title=\"KL: 0.000\">aux</span><span style=\"background-color: rgba(255, 0, 0, 0.005); white-space: pre-wrap;\" title=\"KL: 0.000\">.</span><span style=\"background-color: rgba(255, 0, 0, 0.007); white-space: pre-wrap;\" title=\"KL: 0.001\"> Cependant</span><span style=\"background-color: rgba(255, 0, 0, 0.000); white-space: pre-wrap;\" title=\"KL: 0.000\">,</span><span style=\"background-color: rgba(255, 0, 0, 0.005); white-space: pre-wrap;\" title=\"KL: 0.001\"> les</span><span style=\"background-color: rgba(255, 0, 0, 0.003); white-space: pre-wrap;\" title=\"KL: 0.000\"> éléments</span><span style=\"background-color: rgba(255, 0, 0, 0.005); white-space: pre-wrap;\" title=\"KL: 0.001\"> les</span><span style=\"background-color: rgba(255, 0, 0, 0.000); white-space: pre-wrap;\" title=\"KL: 0.000\"> plus</span><span style=\"background-color: rgba(255, 0, 0, 0.005); white-space: pre-wrap;\" title=\"KL: 0.000\"> importants</span><span style=\"background-color: rgba(255, 0, 0, 0.005); white-space: pre-wrap;\" title=\"KL: 0.001\"> qui</span><span style=\"background-color: rgba(255, 0, 0, 0.007); white-space: pre-wrap;\" title=\"KL: 0.001\"> ressort</span><span style=\"background-color: rgba(255, 0, 0, 0.000); white-space: pre-wrap;\" title=\"KL: 0.000\">ent</span><span style=\"background-color: rgba(255, 0, 0, 0.039); white-space: pre-wrap;\" title=\"KL: 0.004\"> de</span><span style=\"background-color: rgba(255, 0, 0, 0.003); white-space: pre-wrap;\" title=\"KL: 0.000\"> leur</span><span style=\"background-color: rgba(255, 0, 0, 0.012); white-space: pre-wrap;\" title=\"KL: 0.001\"> musique</span><span style=\"background-color: rgba(255, 0, 0, 0.003); white-space: pre-wrap;\" title=\"KL: 0.000\"> sont</span><span style=\"background-color: rgba(255, 0, 0, 0.001); white-space: pre-wrap;\" title=\"KL: 0.000\">:</span><span style=\"background-color: rgba(255, 0, 0, 0.000); white-space: pre-wrap;\" title=\"KL: 0.000\">\n",
       "\n",
       "</span><span style=\"background-color: rgba(255, 0, 0, 0.009); white-space: pre-wrap;\" title=\"KL: 0.001\">**</span><span style=\"background-color: rgba(255, 0, 0, 0.052); white-space: pre-wrap;\" title=\"KL: 0.005\">Pri</span><span style=\"background-color: rgba(255, 0, 0, 0.008); white-space: pre-wrap;\" title=\"KL: 0.001\">marily</span><span style=\"background-color: rgba(255, 0, 0, 0.001); white-space: pre-wrap;\" title=\"KL: 0.000\">:**</span><span style=\"background-color: rgba(255, 0, 0, 0.000); white-space: pre-wrap;\" title=\"KL: 0.000\">\n",
       "\n",
       "</span><span style=\"background-color: rgba(255, 0, 0, 0.001); white-space: pre-wrap;\" title=\"KL: 0.000\">*</span><span style=\"background-color: rgba(255, 0, 0, 0.000); white-space: pre-wrap;\" title=\"KL: 0.000\"> **</span><span style=\"background-color: rgba(255, 0, 0, 0.002); white-space: pre-wrap;\" title=\"KL: 0.000\">Metal</span><span style=\"background-color: rgba(255, 0, 0, 0.012); white-space: pre-wrap;\" title=\"KL: 0.001\"> progres</span><span style=\"background-color: rgba(255, 0, 0, 0.000); white-space: pre-wrap;\" title=\"KL: 0.000\">sif</span><span style=\"background-color: rgba(255, 0, 0, 0.007); white-space: pre-wrap;\" title=\"KL: 0.001\"> /</span><span style=\"background-color: rgba(255, 0, 0, 0.009); white-space: pre-wrap;\" title=\"KL: 0.001\"> Atmospheric</span><span style=\"background-color: rgba(255, 0, 0, 0.001); white-space: pre-wrap;\" title=\"KL: 0.000\"> Metal</span><span style=\"background-color: rgba(255, 0, 0, 0.001); white-space: pre-wrap;\" title=\"KL: 0.000\">:**</span><span style=\"background-color: rgba(255, 0, 0, 0.008); white-space: pre-wrap;\" title=\"KL: 0.001\">  </span><span style=\"background-color: rgba(255, 0, 0, 0.008); white-space: pre-wrap;\" title=\"KL: 0.001\">Ils</span><span style=\"background-color: rgba(255, 0, 0, 0.007); white-space: pre-wrap;\" title=\"KL: 0.001\"> utilisent</span><span style=\"background-color: rgba(255, 0, 0, 0.010); white-space: pre-wrap;\" title=\"KL: 0.001\"> des</span><span style=\"background-color: rgba(255, 0, 0, 0.021); white-space: pre-wrap;\" title=\"KL: 0.002\"> structures</span><span style=\"background-color: rgba(255, 0, 0, 0.007); white-space: pre-wrap;\" title=\"KL: 0.001\"> musicales</span><span style=\"background-color: rgba(255, 0, 0, 0.006); white-space: pre-wrap;\" title=\"KL: 0.001\"> complexes</span><span style=\"background-color: rgba(255, 0, 0, 0.016); white-space: pre-wrap;\" title=\"KL: 0.002\">,</span><span style=\"background-color: rgba(255, 0, 0, 0.001); white-space: pre-wrap;\" title=\"KL: 0.000\"> des</span><span style=\"background-color: rgba(255, 0, 0, 0.004); white-space: pre-wrap;\" title=\"KL: 0.000\"> passages</span><span style=\"background-color: rgba(255, 0, 0, 0.006); white-space: pre-wrap;\" title=\"KL: 0.001\"> mé</span><span style=\"background-color: rgba(255, 0, 0, 0.003); white-space: pre-wrap;\" title=\"KL: 0.000\">lo</span><span style=\"background-color: rgba(255, 0, 0, 0.000); white-space: pre-wrap;\" title=\"KL: 0.000\">diques</span><span style=\"background-color: rgba(255, 0, 0, 0.036); white-space: pre-wrap;\" title=\"KL: 0.004\"> int</span><span style=\"background-color: rgba(255, 0, 0, 0.003); white-space: pre-wrap;\" title=\"KL: 0.000\">enses</span><span style=\"background-color: rgba(255, 0, 0, 0.008); white-space: pre-wrap;\" title=\"KL: 0.001\"> et</span><span style=\"background-color: rgba(255, 0, 0, 0.001); white-space: pre-wrap;\" title=\"KL: 0.000\"> des</span><span style=\"background-color: rgba(255, 0, 0, 0.014); white-space: pre-wrap;\" title=\"KL: 0.001\"> ry</span><span style=\"background-color: rgba(255, 0, 0, 0.000); white-space: pre-wrap;\" title=\"KL: 0.000\">th</span><span style=\"background-color: rgba(255, 0, 0, 0.001); white-space: pre-wrap;\" title=\"KL: 0.000\">mes</span><span style=\"background-color: rgba(255, 0, 0, 0.033); white-space: pre-wrap;\" title=\"KL: 0.003\"> change</span><span style=\"background-color: rgba(255, 0, 0, 0.000); white-space: pre-wrap;\" title=\"KL: 0.000\">ants</span><span style=\"background-color: rgba(255, 0, 0, 0.009); white-space: pre-wrap;\" title=\"KL: 0.001\"> que</span><span style=\"background-color: rgba(255, 0, 0, 0.002); white-space: pre-wrap;\" title=\"KL: 0.000\"> l</span><span style=\"background-color: rgba(255, 0, 0, 0.000); white-space: pre-wrap;\" title=\"KL: 0.000\">'</span><span style=\"background-color: rgba(255, 0, 0, 0.000); white-space: pre-wrap;\" title=\"KL: 0.000\">on</span><span style=\"background-color: rgba(255, 0, 0, 0.001); white-space: pre-wrap;\" title=\"KL: 0.000\"> retrouve</span><span style=\"background-color: rgba(255, 0, 0, 0.006); white-space: pre-wrap;\" title=\"KL: 0.001\"> dans</span><span style=\"background-color: rgba(255, 0, 0, 0.001); white-space: pre-wrap;\" title=\"KL: 0.000\"> la</span><span style=\"background-color: rgba(255, 0, 0, 0.017); white-space: pre-wrap;\" title=\"KL: 0.002\"> sub</span><span style=\"background-color: rgba(255, 0, 0, 0.005); white-space: pre-wrap;\" title=\"KL: 0.000\">genre</span><span style=\"background-color: rgba(255, 0, 0, 0.007); white-space: pre-wrap;\" title=\"KL: 0.001\"> du</span><span style=\"background-color: rgba(255, 0, 0, 0.005); white-space: pre-wrap;\" title=\"KL: 0.000\"> metal</span><span style=\"background-color: rgba(255, 0, 0, 0.001); white-space: pre-wrap;\" title=\"KL: 0.000\"> progres</span><span style=\"background-color: rgba(255, 0, 0, 0.000); white-space: pre-wrap;\" title=\"KL: 0.000\">sif</span><span style=\"background-color: rgba(255, 0, 0, 0.004); white-space: pre-wrap;\" title=\"KL: 0.000\"> et</span><span style=\"background-color: rgba(255, 0, 0, 0.152); white-space: pre-wrap;\" title=\"KL: 0.015\"> l</span><span style=\"background-color: rgba(255, 0, 0, 0.000); white-space: pre-wrap;\" title=\"KL: 0.000\">'</span><span style=\"background-color: rgba(255, 0, 0, 0.002); white-space: pre-wrap;\" title=\"KL: 0.000\">atmosphère</span><span style=\"background-color: rgba(255, 0, 0, 0.008); white-space: pre-wrap;\" title=\"KL: 0.001\"> du</span><span style=\"background-color: rgba(255, 0, 0, 0.002); white-space: pre-wrap;\" title=\"KL: 0.000\"> death</span><span style=\"background-color: rgba(255, 0, 0, 0.002); white-space: pre-wrap;\" title=\"KL: 0.000\">/</span><span style=\"background-color: rgba(255, 0, 0, 0.000); white-space: pre-wrap;\" title=\"KL: 0.000\">doom</span><span style=\"background-color: rgba(255, 0, 0, 0.001); white-space: pre-wrap;\" title=\"KL: 0.000\">.</span><span style=\"background-color: rgba(255, 0, 0, 0.001); white-space: pre-wrap;\" title=\"KL: 0.000\">\n",
       "</span><span style=\"background-color: rgba(255, 0, 0, 0.000); white-space: pre-wrap;\" title=\"KL: 0.000\">*</span><span style=\"background-color: rgba(255, 0, 0, 0.000); white-space: pre-wrap;\" title=\"KL: 0.000\"> **</span><span style=\"background-color: rgba(255, 0, 0, 0.005); white-space: pre-wrap;\" title=\"KL: 0.000\">Post</span><span style=\"background-color: rgba(255, 0, 0, 0.000); white-space: pre-wrap;\" title=\"KL: 0.000\">-</span><span style=\"background-color: rgba(255, 0, 0, 0.002); white-space: pre-wrap;\" title=\"KL: 0.000\">rock</span><span style=\"background-color: rgba(255, 0, 0, 0.001); white-space: pre-wrap;\" title=\"KL: 0.000\">:**</span><span style=\"background-color: rgba(255, 0, 0, 0.002); white-space: pre-wrap;\" title=\"KL: 0.000\"> Ils</span><span style=\"background-color: rgba(255, 0, 0, 0.004); white-space: pre-wrap;\" title=\"KL: 0.000\"> utilisent</span><span style=\"background-color: rgba(255, 0, 0, 0.026); white-space: pre-wrap;\" title=\"KL: 0.003\"> des</span><span style=\"background-color: rgba(255, 0, 0, 0.038); white-space: pre-wrap;\" title=\"KL: 0.004\"> passages</span><span style=\"background-color: rgba(255, 0, 0, 0.012); white-space: pre-wrap;\" title=\"KL: 0.001\"> plus</span><span style=\"background-color: rgba(255, 0, 0, 0.017); white-space: pre-wrap;\" title=\"KL: 0.002\"> longs</span><span style=\"background-color: rgba(255, 0, 0, 0.003); white-space: pre-wrap;\" title=\"KL: 0.000\"> et</span><span style=\"background-color: rgba(255, 0, 0, 0.005); white-space: pre-wrap;\" title=\"KL: 0.000\"> plus</span><span style=\"background-color: rgba(255, 0, 0, 0.010); white-space: pre-wrap;\" title=\"KL: 0.001\"> cal</span><span style=\"background-color: rgba(255, 0, 0, 0.000); white-space: pre-wrap;\" title=\"KL: 0.000\">mes</span><span style=\"background-color: rgba(255, 0, 0, 0.007); white-space: pre-wrap;\" title=\"KL: 0.001\">,</span><span style=\"background-color: rgba(255, 0, 0, 0.021); white-space: pre-wrap;\" title=\"KL: 0.002\"> jouant</span><span style=\"background-color: rgba(255, 0, 0, 0.006); white-space: pre-wrap;\" title=\"KL: 0.001\"> avec</span><span style=\"background-color: rgba(255, 0, 0, 0.003); white-space: pre-wrap;\" title=\"KL: 0.000\"> des</span><span style=\"background-color: rgba(255, 0, 0, 0.020); white-space: pre-wrap;\" title=\"KL: 0.002\"> amplitudes</span><span style=\"background-color: rgba(255, 0, 0, 0.004); white-space: pre-wrap;\" title=\"KL: 0.000\"> et</span><span style=\"background-color: rgba(255, 0, 0, 0.001); white-space: pre-wrap;\" title=\"KL: 0.000\"> des</span><span style=\"background-color: rgba(255, 0, 0, 0.018); white-space: pre-wrap;\" title=\"KL: 0.002\"> textures</span><span style=\"background-color: rgba(255, 0, 0, 0.021); white-space: pre-wrap;\" title=\"KL: 0.002\"> son</span><span style=\"background-color: rgba(255, 0, 0, 0.000); white-space: pre-wrap;\" title=\"KL: 0.000\">ores</span><span style=\"background-color: rgba(255, 0, 0, 0.037); white-space: pre-wrap;\" title=\"KL: 0.004\"> similaires</span><span style=\"background-color: rgba(255, 0, 0, 0.005); white-space: pre-wrap;\" title=\"KL: 0.001\"> aux</span><span style=\"background-color: rgba(255, 0, 0, 0.023); white-space: pre-wrap;\" title=\"KL: 0.002\"> post</span><span style=\"background-color: rgba(255, 0, 0, 0.000); white-space: pre-wrap;\" title=\"KL: 0.000\">-</span><span style=\"background-color: rgba(255, 0, 0, 0.000); white-space: pre-wrap;\" title=\"KL: 0.000\">rock</span><span style=\"background-color: rgba(255, 0, 0, 0.012); white-space: pre-wrap;\" title=\"KL: 0.001\">.</span><span style=\"background-color: rgba(255, 0, 0, 0.002); white-space: pre-wrap;\" title=\"KL: 0.000\">\n",
       "\n",
       "</span><span style=\"background-color: rgba(255, 0, 0, 0.000); white-space: pre-wrap;\" title=\"KL: 0.000\">**</span><span style=\"background-color: rgba(255, 0, 0, 0.120); white-space: pre-wrap;\" title=\"KL: 0.012\">Autres</span><span style=\"background-color: rgba(255, 0, 0, 0.006); white-space: pre-wrap;\" title=\"KL: 0.001\"> éléments</span><span style=\"background-color: rgba(255, 0, 0, 0.011); white-space: pre-wrap;\" title=\"KL: 0.001\"> présents</span><span style=\"background-color: rgba(255, 0, 0, 0.008); white-space: pre-wrap;\" title=\"KL: 0.001\">:**</span><span style=\"background-color: rgba(255, 0, 0, 0.001); white-space: pre-wrap;\" title=\"KL: 0.000\">\n",
       "\n",
       "</span><span style=\"background-color: rgba(255, 0, 0, 0.000); white-space: pre-wrap;\" title=\"KL: 0.000\">*</span><span style=\"background-color: rgba(255, 0, 0, 0.000); white-space: pre-wrap;\" title=\"KL: 0.000\"> **</span><span style=\"background-color: rgba(255, 0, 0, 0.015); white-space: pre-wrap;\" title=\"KL: 0.002\">Post</span><span style=\"background-color: rgba(255, 0, 0, 0.000); white-space: pre-wrap;\" title=\"KL: 0.000\">-</span><span style=\"background-color: rgba(255, 0, 0, 0.003); white-space: pre-wrap;\" title=\"KL: 0.000\">metal</span><span style=\"background-color: rgba(255, 0, 0, 0.000); white-space: pre-wrap;\" title=\"KL: 0.000\">:**</span><span style=\"background-color: rgba(255, 0, 0, 0.003); white-space: pre-wrap;\" title=\"KL: 0.000\"> Des</span><span style=\"background-color: rgba(255, 0, 0, 0.009); white-space: pre-wrap;\" title=\"KL: 0.001\"> passages</span><span style=\"background-color: rgba(255, 0, 0, 0.006); white-space: pre-wrap;\" title=\"KL: 0.001\"> plus</span><span style=\"background-color: rgba(255, 0, 0, 0.004); white-space: pre-wrap;\" title=\"KL: 0.000\"> lour</span><span style=\"background-color: rgba(255, 0, 0, 0.000); white-space: pre-wrap;\" title=\"KL: 0.000\">ds</span><span style=\"background-color: rgba(255, 0, 0, 0.003); white-space: pre-wrap;\" title=\"KL: 0.000\"> et</span><span style=\"background-color: rgba(255, 0, 0, 0.009); white-space: pre-wrap;\" title=\"KL: 0.001\"> lour</span><span style=\"background-color: rgba(255, 0, 0, 0.001); white-space: pre-wrap;\" title=\"KL: 0.000\">ds</span><span style=\"background-color: rgba(255, 0, 0, 0.021); white-space: pre-wrap;\" title=\"KL: 0.002\"> de</span><span style=\"background-color: rgba(255, 0, 0, 0.016); white-space: pre-wrap;\" title=\"KL: 0.002\"> morceaux</span><span style=\"background-color: rgba(255, 0, 0, 0.018); white-space: pre-wrap;\" title=\"KL: 0.002\"> d</span><span style=\"background-color: rgba(255, 0, 0, 0.001); white-space: pre-wrap;\" title=\"KL: 0.000\">'</span><span style=\"background-color: rgba(255, 0, 0, 0.010); white-space: pre-wrap;\" title=\"KL: 0.001\">outro</span><span style=\"background-color: rgba(255, 0, 0, 0.025); white-space: pre-wrap;\" title=\"KL: 0.003\">,</span><span style=\"background-color: rgba(255, 0, 0, 0.008); white-space: pre-wrap;\" title=\"KL: 0.001\"> tels</span><span style=\"background-color: rgba(255, 0, 0, 0.000); white-space: pre-wrap;\" title=\"KL: 0.000\"> que</span><span style=\"background-color: rgba(255, 0, 0, 0.004); white-space: pre-wrap;\" title=\"KL: 0.000\"> dans</span><span style=\"background-color: rgba(255, 0, 0, 0.008); white-space: pre-wrap;\" title=\"KL: 0.001\"> certains</span><span style=\"background-color: rgba(255, 0, 0, 0.006); white-space: pre-wrap;\" title=\"KL: 0.001\"> albums</span><span style=\"background-color: rgba(255, 0, 0, 0.043); white-space: pre-wrap;\" title=\"KL: 0.004\"> plus</span><span style=\"background-color: rgba(255, 0, 0, 0.015); white-space: pre-wrap;\" title=\"KL: 0.002\"> récents</span><span style=\"background-color: rgba(255, 0, 0, 0.021); white-space: pre-wrap;\" title=\"KL: 0.002\">.</span><span style=\"background-color: rgba(255, 0, 0, 0.000); white-space: pre-wrap;\" title=\"KL: 0.000\">\n",
       "</span><span style=\"background-color: rgba(255, 0, 0, 0.000); white-space: pre-wrap;\" title=\"KL: 0.000\">*</span><span style=\"background-color: rgba(255, 0, 0, 0.000); white-space: pre-wrap;\" title=\"KL: 0.000\"> **</span><span style=\"background-color: rgba(255, 0, 0, 0.012); white-space: pre-wrap;\" title=\"KL: 0.001\">Shoe</span><span style=\"background-color: rgba(255, 0, 0, 0.000); white-space: pre-wrap;\" title=\"KL: 0.000\">gaze</span><span style=\"background-color: rgba(255, 0, 0, 0.000); white-space: pre-wrap;\" title=\"KL: 0.000\">:**</span><span style=\"background-color: rgba(255, 0, 0, 0.004); white-space: pre-wrap;\" title=\"KL: 0.000\"> Certaines</span><span style=\"background-color: rgba(255, 0, 0, 0.011); white-space: pre-wrap;\" title=\"KL: 0.001\"> parties</span><span style=\"background-color: rgba(255, 0, 0, 0.005); white-space: pre-wrap;\" title=\"KL: 0.001\"> de</span><span style=\"background-color: rgba(255, 0, 0, 0.001); white-space: pre-wrap;\" title=\"KL: 0.000\"> leurs</span><span style=\"background-color: rgba(255, 0, 0, 0.003); white-space: pre-wrap;\" title=\"KL: 0.000\"> chansons</span><span style=\"background-color: rgba(255, 0, 0, 0.010); white-space: pre-wrap;\" title=\"KL: 0.001\"> ont</span><span style=\"background-color: rgba(255, 0, 0, 0.005); white-space: pre-wrap;\" title=\"KL: 0.000\"> un</span><span style=\"background-color: rgba(255, 0, 0, 0.006); white-space: pre-wrap;\" title=\"KL: 0.001\"> effet</span><span style=\"background-color: rgba(255, 0, 0, 0.004); white-space: pre-wrap;\" title=\"KL: 0.000\"> \"</span><span style=\"background-color: rgba(255, 0, 0, 0.006); white-space: pre-wrap;\" title=\"KL: 0.001\">fuzz</span><span style=\"background-color: rgba(255, 0, 0, 0.003); white-space: pre-wrap;\" title=\"KL: 0.000\">\"</span><span style=\"background-color: rgba(255, 0, 0, 0.010); white-space: pre-wrap;\" title=\"KL: 0.001\"> puissant</span><span style=\"background-color: rgba(255, 0, 0, 0.003); white-space: pre-wrap;\" title=\"KL: 0.000\"> et</span><span style=\"background-color: rgba(255, 0, 0, 0.007); white-space: pre-wrap;\" title=\"KL: 0.001\"> une</span><span style=\"background-color: rgba(255, 0, 0, 0.004); white-space: pre-wrap;\" title=\"KL: 0.000\"> ambiance</span><span style=\"background-color: rgba(255, 0, 0, 0.013); white-space: pre-wrap;\" title=\"KL: 0.001\"> sonore</span><span style=\"background-color: rgba(255, 0, 0, 0.016); white-space: pre-wrap;\" title=\"KL: 0.002\"> dé</span><span style=\"background-color: rgba(255, 0, 0, 0.017); white-space: pre-wrap;\" title=\"KL: 0.002\">rout</span><span style=\"background-color: rgba(255, 0, 0, 0.000); white-space: pre-wrap;\" title=\"KL: 0.000\">ante</span><span style=\"background-color: rgba(255, 0, 0, 0.002); white-space: pre-wrap;\" title=\"KL: 0.000\">,</span><span style=\"background-color: rgba(255, 0, 0, 0.009); white-space: pre-wrap;\" title=\"KL: 0.001\"> parfois</span><span style=\"background-color: rgba(255, 0, 0, 0.011); white-space: pre-wrap;\" title=\"KL: 0.001\"> ass</span><span style=\"background-color: rgba(255, 0, 0, 0.006); white-space: pre-wrap;\" title=\"KL: 0.001\">ocie</span><span style=\"background-color: rgba(255, 0, 0, 0.003); white-space: pre-wrap;\" title=\"KL: 0.000\"> à</span><span style=\"background-color: rgba(255, 0, 0, 0.005); white-space: pre-wrap;\" title=\"KL: 0.001\"> la</span><span style=\"background-color: rgba(255, 0, 0, 0.004); white-space: pre-wrap;\" title=\"KL: 0.000\"> musique</span><span style=\"background-color: rgba(255, 0, 0, 0.001); white-space: pre-wrap;\" title=\"KL: 0.000\"> shoe</span><span style=\"background-color: rgba(255, 0, 0, 0.000); white-space: pre-wrap;\" title=\"KL: 0.000\">gaze</span><span style=\"background-color: rgba(255, 0, 0, 0.000); white-space: pre-wrap;\" title=\"KL: 0.000\">.</span><span style=\"background-color: rgba(255, 0, 0, 0.000); white-space: pre-wrap;\" title=\"KL: 0.000\">\n",
       "\n",
       "</span><span style=\"background-color: rgba(255, 0, 0, 0.004); white-space: pre-wrap;\" title=\"KL: 0.000\">**</span><span style=\"background-color: rgba(255, 0, 0, 0.015); white-space: pre-wrap;\" title=\"KL: 0.001\">Les</span><span style=\"background-color: rgba(255, 0, 0, 0.010); white-space: pre-wrap;\" title=\"KL: 0.001\"> points</span><span style=\"background-color: rgba(255, 0, 0, 0.011); white-space: pre-wrap;\" title=\"KL: 0.001\"> à</span><span style=\"background-color: rgba(255, 0, 0, 0.002); white-space: pre-wrap;\" title=\"KL: 0.000\"> retenir</span><span style=\"background-color: rgba(255, 0, 0, 0.005); white-space: pre-wrap;\" title=\"KL: 0.001\">:**</span><span style=\"background-color: rgba(255, 0, 0, 0.000); white-space: pre-wrap;\" title=\"KL: 0.000\">\n",
       "\n",
       "</span><span style=\"background-color: rgba(255, 0, 0, 0.004); white-space: pre-wrap;\" title=\"KL: 0.000\">*</span><span style=\"background-color: rgba(255, 0, 0, 0.007); white-space: pre-wrap;\" title=\"KL: 0.001\"> Le</span><span style=\"background-color: rgba(255, 0, 0, 0.001); white-space: pre-wrap;\" title=\"KL: 0.000\"> Cult</span><span style=\"background-color: rgba(255, 0, 0, 0.000); white-space: pre-wrap;\" title=\"KL: 0.000\"> of</span><span style=\"background-color: rgba(255, 0, 0, 0.000); white-space: pre-wrap;\" title=\"KL: 0.000\"> Luna</span><span style=\"background-color: rgba(255, 0, 0, 0.007); white-space: pre-wrap;\" title=\"KL: 0.001\"> se</span><span style=\"background-color: rgba(255, 0, 0, 0.006); white-space: pre-wrap;\" title=\"KL: 0.001\"> démar</span><span style=\"background-color: rgba(255, 0, 0, 0.014); white-space: pre-wrap;\" title=\"KL: 0.001\">que</span><span style=\"background-color: rgba(255, 0, 0, 0.002); white-space: pre-wrap;\" title=\"KL: 0.000\"> par</span><span style=\"background-color: rgba(255, 0, 0, 0.010); white-space: pre-wrap;\" title=\"KL: 0.001\"> sa</span><span style=\"background-color: rgba(255, 0, 0, 0.015); white-space: pre-wrap;\" title=\"KL: 0.001\"> fluid</span><span style=\"background-color: rgba(255, 0, 0, 0.000); white-space: pre-wrap;\" title=\"KL: 0.000\">ité</span><span style=\"background-color: rgba(255, 0, 0, 0.012); white-space: pre-wrap;\" title=\"KL: 0.001\"> et</span><span style=\"background-color: rgba(255, 0, 0, 0.002); white-space: pre-wrap;\" title=\"KL: 0.000\"> sa</span><span style=\"background-color: rgba(255, 0, 0, 0.027); white-space: pre-wrap;\" title=\"KL: 0.003\"> profondeur</span><span style=\"background-color: rgba(255, 0, 0, 0.012); white-space: pre-wrap;\" title=\"KL: 0.001\"> musicale</span><span style=\"background-color: rgba(255, 0, 0, 0.002); white-space: pre-wrap;\" title=\"KL: 0.000\">.</span><span style=\"background-color: rgba(255, 0, 0, 0.001); white-space: pre-wrap;\" title=\"KL: 0.000\"> Ils</span><span style=\"background-color: rgba(255, 0, 0, 0.005); white-space: pre-wrap;\" title=\"KL: 0.001\"> mélang</span><span style=\"background-color: rgba(255, 0, 0, 0.000); white-space: pre-wrap;\" title=\"KL: 0.000\">ent</span><span style=\"background-color: rgba(255, 0, 0, 0.008); white-space: pre-wrap;\" title=\"KL: 0.001\"> des</span><span style=\"background-color: rgba(255, 0, 0, 0.016); white-space: pre-wrap;\" title=\"KL: 0.002\"> différentes</span><span style=\"background-color: rgba(255, 0, 0, 0.008); white-space: pre-wrap;\" title=\"KL: 0.001\"> sonor</span><span style=\"background-color: rgba(255, 0, 0, 0.000); white-space: pre-wrap;\" title=\"KL: 0.000\">ités</span><span style=\"background-color: rgba(255, 0, 0, 0.004); white-space: pre-wrap;\" title=\"KL: 0.000\"> et</span><span style=\"background-color: rgba(255, 0, 0, 0.060); white-space: pre-wrap;\" title=\"KL: 0.006\"> structures</span><span style=\"background-color: rgba(255, 0, 0, 0.006); white-space: pre-wrap;\" title=\"KL: 0.001\">,</span><span style=\"background-color: rgba(255, 0, 0, 0.004); white-space: pre-wrap;\" title=\"KL: 0.000\"> cré</span><span style=\"background-color: rgba(255, 0, 0, 0.000); white-space: pre-wrap;\" title=\"KL: 0.000\">ant</span><span style=\"background-color: rgba(255, 0, 0, 0.004); white-space: pre-wrap;\" title=\"KL: 0.000\"> une</span><span style=\"background-color: rgba(255, 0, 0, 0.005); white-space: pre-wrap;\" title=\"KL: 0.000\"> expérience</span><span style=\"background-color: rgba(255, 0, 0, 0.006); white-space: pre-wrap;\" title=\"KL: 0.001\"> musicale</span><span style=\"background-color: rgba(255, 0, 0, 0.014); white-space: pre-wrap;\" title=\"KL: 0.001\"> unique</span><span style=\"background-color: rgba(255, 0, 0, 0.001); white-space: pre-wrap;\" title=\"KL: 0.000\"> et</span><span style=\"background-color: rgba(255, 0, 0, 0.013); white-space: pre-wrap;\" title=\"KL: 0.001\"> immersive</span><span style=\"background-color: rgba(255, 0, 0, 0.000); white-space: pre-wrap;\" title=\"KL: 0.000\">.</span><span style=\"background-color: rgba(255, 0, 0, 0.006); white-space: pre-wrap;\" title=\"KL: 0.001\">\n",
       "</span><span style=\"background-color: rgba(255, 0, 0, 0.000); white-space: pre-wrap;\" title=\"KL: 0.000\">*</span><span style=\"background-color: rgba(255, 0, 0, 0.002); white-space: pre-wrap;\" title=\"KL: 0.000\"> Leur</span><span style=\"background-color: rgba(255, 0, 0, 0.003); white-space: pre-wrap;\" title=\"KL: 0.000\"> style</span><span style=\"background-color: rgba(255, 0, 0, 0.010); white-space: pre-wrap;\" title=\"KL: 0.001\"> s</span><span style=\"background-color: rgba(255, 0, 0, 0.000); white-space: pre-wrap;\" title=\"KL: 0.000\">'</span><span style=\"background-color: rgba(255, 0, 0, 0.010); white-space: pre-wrap;\" title=\"KL: 0.001\">ajuste</span><span style=\"background-color: rgba(255, 0, 0, 0.042); white-space: pre-wrap;\" title=\"KL: 0.004\"> au</span><span style=\"background-color: rgba(255, 0, 0, 0.332); white-space: pre-wrap;\" title=\"KL: 0.033\"> fil</span><span style=\"background-color: rgba(255, 0, 0, 0.001); white-space: pre-wrap;\" title=\"KL: 0.000\"> des</span><span style=\"background-color: rgba(255, 0, 0, 0.008); white-space: pre-wrap;\" title=\"KL: 0.001\"> années</span><span style=\"background-color: rgba(255, 0, 0, 0.013); white-space: pre-wrap;\" title=\"KL: 0.001\">,</span><span style=\"background-color: rgba(255, 0, 0, 0.008); white-space: pre-wrap;\" title=\"KL: 0.001\"> explor</span><span style=\"background-color: rgba(255, 0, 0, 0.000); white-space: pre-wrap;\" title=\"KL: 0.000\">ant</span><span style=\"background-color: rgba(255, 0, 0, 0.015); white-space: pre-wrap;\" title=\"KL: 0.001\"> des</span><span style=\"background-color: rgba(255, 0, 0, 0.022); white-space: pre-wrap;\" title=\"KL: 0.002\"> mé</span><span style=\"background-color: rgba(255, 0, 0, 0.010); white-space: pre-wrap;\" title=\"KL: 0.001\">lo</span><span style=\"background-color: rgba(255, 0, 0, 0.000); white-space: pre-wrap;\" title=\"KL: 0.000\">dies</span><span style=\"background-color: rgba(255, 0, 0, 0.003); white-space: pre-wrap;\" title=\"KL: 0.000\"> plus</span><span style=\"background-color: rgba(255, 0, 0, 0.018); white-space: pre-wrap;\" title=\"KL: 0.002\"> accro</span><span style=\"background-color: rgba(255, 0, 0, 0.000); white-space: pre-wrap;\" title=\"KL: 0.000\">che</span><span style=\"background-color: rgba(255, 0, 0, 0.000); white-space: pre-wrap;\" title=\"KL: 0.000\">uses</span><span style=\"background-color: rgba(255, 0, 0, 0.002); white-space: pre-wrap;\" title=\"KL: 0.000\"> et</span><span style=\"background-color: rgba(255, 0, 0, 0.001); white-space: pre-wrap;\" title=\"KL: 0.000\"> des</span><span style=\"background-color: rgba(255, 0, 0, 0.008); white-space: pre-wrap;\" title=\"KL: 0.001\"> textures</span><span style=\"background-color: rgba(255, 0, 0, 0.006); white-space: pre-wrap;\" title=\"KL: 0.001\"> plus</span><span style=\"background-color: rgba(255, 0, 0, 0.026); white-space: pre-wrap;\" title=\"KL: 0.003\"> pes</span><span style=\"background-color: rgba(255, 0, 0, 0.001); white-space: pre-wrap;\" title=\"KL: 0.000\">antes</span><span style=\"background-color: rgba(255, 0, 0, 0.017); white-space: pre-wrap;\" title=\"KL: 0.002\">.</span><span style=\"background-color: rgba(255, 0, 0, 0.003); white-space: pre-wrap;\" title=\"KL: 0.000\">\n",
       "</span><span style=\"background-color: rgba(255, 0, 0, 0.001); white-space: pre-wrap;\" title=\"KL: 0.000\">*</span><span style=\"background-color: rgba(255, 0, 0, 0.003); white-space: pre-wrap;\" title=\"KL: 0.000\"> Ils</span><span style=\"background-color: rgba(255, 0, 0, 0.010); white-space: pre-wrap;\" title=\"KL: 0.001\"> sont</span><span style=\"background-color: rgba(255, 0, 0, 0.016); white-space: pre-wrap;\" title=\"KL: 0.002\"> consid</span>"
      ],
      "text/plain": [
       "<IPython.core.display.HTML object>"
      ]
     },
     "metadata": {},
     "output_type": "display_data"
    },
    {
     "name": "stdout",
     "output_type": "stream",
     "text": [
      "High KL: 0.0332 at token ' fil'\\n\n"
     ]
    },
    {
     "data": {
      "text/html": [
       "<style type=\"text/css\">\n",
       "#T_7b221 th {\n",
       "  text-align: left;\n",
       "}\n",
       "#T_7b221_row0_col0, #T_7b221_row1_col0, #T_7b221_row2_col0 {\n",
       "  background-color: forestgreen;\n",
       "  text-align: left;\n",
       "}\n",
       "#T_7b221_row0_col1, #T_7b221_row0_col2, #T_7b221_row1_col1, #T_7b221_row1_col2, #T_7b221_row2_col1, #T_7b221_row2_col2, #T_7b221_row3_col1, #T_7b221_row3_col2, #T_7b221_row4_col1, #T_7b221_row4_col2, #T_7b221_row5_col1, #T_7b221_row5_col2 {\n",
       "  text-align: left;\n",
       "}\n",
       "#T_7b221_row3_col0, #T_7b221_row4_col0, #T_7b221_row5_col0 {\n",
       "  background-color: indianred;\n",
       "  text-align: left;\n",
       "}\n",
       "</style>\n",
       "<table id=\"T_7b221\">\n",
       "  <thead>\n",
       "    <tr>\n",
       "      <th class=\"blank level0\" >&nbsp;</th>\n",
       "      <th id=\"T_7b221_level0_col0\" class=\"col_heading level0 col0\" >Token</th>\n",
       "      <th id=\"T_7b221_level0_col1\" class=\"col_heading level0 col1\" >p_HS</th>\n",
       "      <th id=\"T_7b221_level0_col2\" class=\"col_heading level0 col2\" >p_B</th>\n",
       "    </tr>\n",
       "  </thead>\n",
       "  <tbody>\n",
       "    <tr>\n",
       "      <th id=\"T_7b221_level0_row0\" class=\"row_heading level0 row0\" >0</th>\n",
       "      <td id=\"T_7b221_row0_col0\" class=\"data row0 col0\" > fil</td>\n",
       "      <td id=\"T_7b221_row0_col1\" class=\"data row0 col1\" >0.410</td>\n",
       "      <td id=\"T_7b221_row0_col2\" class=\"data row0 col2\" >0.508</td>\n",
       "    </tr>\n",
       "    <tr>\n",
       "      <th id=\"T_7b221_level0_row1\" class=\"row_heading level0 row1\" >1</th>\n",
       "      <td id=\"T_7b221_row1_col0\" class=\"data row1 col0\" > cours</td>\n",
       "      <td id=\"T_7b221_row1_col1\" class=\"data row1 col1\" >0.023</td>\n",
       "      <td id=\"T_7b221_row1_col2\" class=\"data row1 col2\" >0.028</td>\n",
       "    </tr>\n",
       "    <tr>\n",
       "      <th id=\"T_7b221_level0_row2\" class=\"row_heading level0 row2\" >2</th>\n",
       "      <td id=\"T_7b221_row2_col0\" class=\"data row2 col0\" > gré</td>\n",
       "      <td id=\"T_7b221_row2_col1\" class=\"data row2 col1\" >0.024</td>\n",
       "      <td id=\"T_7b221_row2_col2\" class=\"data row2 col2\" >0.027</td>\n",
       "    </tr>\n",
       "    <tr>\n",
       "      <th id=\"T_7b221_level0_row3\" class=\"row_heading level0 row3\" >3</th>\n",
       "      <td id=\"T_7b221_row3_col0\" class=\"data row3 col0\" > moment</td>\n",
       "      <td id=\"T_7b221_row3_col1\" class=\"data row3 col1\" >0.053</td>\n",
       "      <td id=\"T_7b221_row3_col2\" class=\"data row3 col2\" >0.037</td>\n",
       "    </tr>\n",
       "    <tr>\n",
       "      <th id=\"T_7b221_level0_row4\" class=\"row_heading level0 row4\" >4</th>\n",
       "      <td id=\"T_7b221_row4_col0\" class=\"data row4 col0\" > mood</td>\n",
       "      <td id=\"T_7b221_row4_col1\" class=\"data row4 col1\" >0.007</td>\n",
       "      <td id=\"T_7b221_row4_col2\" class=\"data row4 col2\" >0.005</td>\n",
       "    </tr>\n",
       "    <tr>\n",
       "      <th id=\"T_7b221_level0_row5\" class=\"row_heading level0 row5\" >5</th>\n",
       "      <td id=\"T_7b221_row5_col0\" class=\"data row5 col0\" > contexte</td>\n",
       "      <td id=\"T_7b221_row5_col1\" class=\"data row5 col1\" >0.202</td>\n",
       "      <td id=\"T_7b221_row5_col2\" class=\"data row5 col2\" >0.131</td>\n",
       "    </tr>\n",
       "  </tbody>\n",
       "</table>\n"
      ],
      "text/plain": [
       "<IPython.core.display.HTML object>"
      ]
     },
     "metadata": {},
     "output_type": "display_data"
    },
    {
     "name": "stdout",
     "output_type": "stream",
     "text": [
      "--------------------------------------------------------------------------------------------------------------------------------------------------------------------------------------------------------\n"
     ]
    },
    {
     "data": {
      "text/html": [
       "&lt;bos&gt;<span style=\"background-color: rgba(255, 0, 0, 0.000); white-space: pre-wrap;\" title=\"KL: 0.000\">&lt;start_of_turn&gt;</span><span style=\"background-color: rgba(255, 0, 0, 0.010); white-space: pre-wrap;\" title=\"KL: 0.001\">user</span><span style=\"background-color: rgba(255, 0, 0, 0.003); white-space: pre-wrap;\" title=\"KL: 0.000\">\n",
       "</span><span style=\"background-color: rgba(255, 0, 0, 0.002); white-space: pre-wrap;\" title=\"KL: 0.000\">Draft</span><span style=\"background-color: rgba(255, 0, 0, 0.000); white-space: pre-wrap;\" title=\"KL: 0.000\"> an</span><span style=\"background-color: rgba(255, 0, 0, 0.001); white-space: pre-wrap;\" title=\"KL: 0.000\"> apology</span><span style=\"background-color: rgba(255, 0, 0, 0.002); white-space: pre-wrap;\" title=\"KL: 0.000\"> email</span><span style=\"background-color: rgba(255, 0, 0, 0.005); white-space: pre-wrap;\" title=\"KL: 0.001\"> to</span><span style=\"background-color: rgba(255, 0, 0, 0.003); white-space: pre-wrap;\" title=\"KL: 0.000\"> a</span><span style=\"background-color: rgba(255, 0, 0, 0.002); white-space: pre-wrap;\" title=\"KL: 0.000\"> customer</span><span style=\"background-color: rgba(255, 0, 0, 0.006); white-space: pre-wrap;\" title=\"KL: 0.001\"> who</span><span style=\"background-color: rgba(255, 0, 0, 0.002); white-space: pre-wrap;\" title=\"KL: 0.000\"> experienced</span><span style=\"background-color: rgba(255, 0, 0, 0.001); white-space: pre-wrap;\" title=\"KL: 0.000\"> a</span><span style=\"background-color: rgba(255, 0, 0, 0.006); white-space: pre-wrap;\" title=\"KL: 0.001\"> delay</span><span style=\"background-color: rgba(255, 0, 0, 0.000); white-space: pre-wrap;\" title=\"KL: 0.000\"> in</span><span style=\"background-color: rgba(255, 0, 0, 0.001); white-space: pre-wrap;\" title=\"KL: 0.000\"> their</span><span style=\"background-color: rgba(255, 0, 0, 0.001); white-space: pre-wrap;\" title=\"KL: 0.000\"> order</span><span style=\"background-color: rgba(255, 0, 0, 0.003); white-space: pre-wrap;\" title=\"KL: 0.000\"> and</span><span style=\"background-color: rgba(255, 0, 0, 0.008); white-space: pre-wrap;\" title=\"KL: 0.001\"> provide</span><span style=\"background-color: rgba(255, 0, 0, 0.006); white-space: pre-wrap;\" title=\"KL: 0.001\"> reassurance</span><span style=\"background-color: rgba(255, 0, 0, 0.008); white-space: pre-wrap;\" title=\"KL: 0.001\"> that</span><span style=\"background-color: rgba(255, 0, 0, 0.009); white-space: pre-wrap;\" title=\"KL: 0.001\"> the</span><span style=\"background-color: rgba(255, 0, 0, 0.035); white-space: pre-wrap;\" title=\"KL: 0.003\"> issue</span><span style=\"background-color: rgba(255, 0, 0, 0.002); white-space: pre-wrap;\" title=\"KL: 0.000\"> has</span><span style=\"background-color: rgba(255, 0, 0, 0.000); white-space: pre-wrap;\" title=\"KL: 0.000\"> been</span><span style=\"background-color: rgba(255, 0, 0, 0.002); white-space: pre-wrap;\" title=\"KL: 0.000\"> resolved</span><span style=\"background-color: rgba(255, 0, 0, 0.003); white-space: pre-wrap;\" title=\"KL: 0.000\">.</span><span style=\"background-color: rgba(255, 0, 0, 0.001); white-space: pre-wrap;\" title=\"KL: 0.000\">&lt;end_of_turn&gt;</span><span style=\"background-color: rgba(255, 0, 0, 0.000); white-space: pre-wrap;\" title=\"KL: 0.000\">\n",
       "</span><span style=\"background-color: rgba(255, 0, 0, 0.030); white-space: pre-wrap;\" title=\"KL: 0.003\">&lt;start_of_turn&gt;</span><span style=\"background-color: rgba(255, 0, 0, 0.001); white-space: pre-wrap;\" title=\"KL: 0.000\">model</span><span style=\"background-color: rgba(255, 0, 0, 0.018); white-space: pre-wrap;\" title=\"KL: 0.002\">\n",
       "</span><span style=\"background-color: rgba(255, 0, 0, 0.005); white-space: pre-wrap;\" title=\"KL: 0.001\">**</span><span style=\"background-color: rgba(255, 0, 0, 0.000); white-space: pre-wrap;\" title=\"KL: 0.000\">Subject</span><span style=\"background-color: rgba(255, 0, 0, 0.000); white-space: pre-wrap;\" title=\"KL: 0.000\">:</span><span style=\"background-color: rgba(255, 0, 0, 0.102); white-space: pre-wrap;\" title=\"KL: 0.010\"> Regarding</span><span style=\"background-color: rgba(255, 0, 0, 0.001); white-space: pre-wrap;\" title=\"KL: 0.000\"> Your</span><span style=\"background-color: rgba(255, 0, 0, 0.002); white-space: pre-wrap;\" title=\"KL: 0.000\"> Recent</span><span style=\"background-color: rgba(255, 0, 0, 0.000); white-space: pre-wrap;\" title=\"KL: 0.000\"> Order</span><span style=\"background-color: rgba(255, 0, 0, 0.071); white-space: pre-wrap;\" title=\"KL: 0.007\"> -</span><span style=\"background-color: rgba(255, 0, 0, 0.029); white-space: pre-wrap;\" title=\"KL: 0.003\"> We</span><span style=\"background-color: rgba(255, 0, 0, 0.038); white-space: pre-wrap;\" title=\"KL: 0.004\">'</span><span style=\"background-color: rgba(255, 0, 0, 0.010); white-space: pre-wrap;\" title=\"KL: 0.001\">re</span><span style=\"background-color: rgba(255, 0, 0, 0.111); white-space: pre-wrap;\" title=\"KL: 0.011\"> Here</span><span style=\"background-color: rgba(255, 0, 0, 0.001); white-space: pre-wrap;\" title=\"KL: 0.000\"> to</span><span style=\"background-color: rgba(255, 0, 0, 0.008); white-space: pre-wrap;\" title=\"KL: 0.001\"> Help</span><span style=\"background-color: rgba(255, 0, 0, 0.108); white-space: pre-wrap;\" title=\"KL: 0.011\">**</span><span style=\"background-color: rgba(255, 0, 0, 0.000); white-space: pre-wrap;\" title=\"KL: 0.000\">\n",
       "\n",
       "</span><span style=\"background-color: rgba(255, 0, 0, 0.015); white-space: pre-wrap;\" title=\"KL: 0.002\">Dear</span><span style=\"background-color: rgba(255, 0, 0, 0.000); white-space: pre-wrap;\" title=\"KL: 0.000\"> [</span><span style=\"background-color: rgba(255, 0, 0, 0.000); white-space: pre-wrap;\" title=\"KL: 0.000\">Customer</span><span style=\"background-color: rgba(255, 0, 0, 0.000); white-space: pre-wrap;\" title=\"KL: 0.000\"> Name</span><span style=\"background-color: rgba(255, 0, 0, 0.000); white-space: pre-wrap;\" title=\"KL: 0.000\">],</span><span style=\"background-color: rgba(255, 0, 0, 0.000); white-space: pre-wrap;\" title=\"KL: 0.000\">\n",
       "\n",
       "</span><span style=\"background-color: rgba(255, 0, 0, 0.006); white-space: pre-wrap;\" title=\"KL: 0.001\">We</span><span style=\"background-color: rgba(255, 0, 0, 0.016); white-space: pre-wrap;\" title=\"KL: 0.002\"> are</span><span style=\"background-color: rgba(255, 0, 0, 0.004); white-space: pre-wrap;\" title=\"KL: 0.000\"> writing</span><span style=\"background-color: rgba(255, 0, 0, 0.000); white-space: pre-wrap;\" title=\"KL: 0.000\"> to</span><span style=\"background-color: rgba(255, 0, 0, 0.004); white-space: pre-wrap;\" title=\"KL: 0.000\"> sincerely</span><span style=\"background-color: rgba(255, 0, 0, 0.000); white-space: pre-wrap;\" title=\"KL: 0.000\"> apologize</span><span style=\"background-color: rgba(255, 0, 0, 0.000); white-space: pre-wrap;\" title=\"KL: 0.000\"> for</span><span style=\"background-color: rgba(255, 0, 0, 0.000); white-space: pre-wrap;\" title=\"KL: 0.000\"> the</span><span style=\"background-color: rgba(255, 0, 0, 0.004); white-space: pre-wrap;\" title=\"KL: 0.000\"> recent</span><span style=\"background-color: rgba(255, 0, 0, 0.001); white-space: pre-wrap;\" title=\"KL: 0.000\"> delay</span><span style=\"background-color: rgba(255, 0, 0, 0.014); white-space: pre-wrap;\" title=\"KL: 0.001\"> in</span><span style=\"background-color: rgba(255, 0, 0, 0.005); white-space: pre-wrap;\" title=\"KL: 0.000\"> your</span><span style=\"background-color: rgba(255, 0, 0, 0.000); white-space: pre-wrap;\" title=\"KL: 0.000\"> order</span><span style=\"background-color: rgba(255, 0, 0, 0.325); white-space: pre-wrap;\" title=\"KL: 0.032\">,</span><span style=\"background-color: rgba(255, 0, 0, 0.014); white-space: pre-wrap;\" title=\"KL: 0.001\"> [</span><span style=\"background-color: rgba(255, 0, 0, 0.001); white-space: pre-wrap;\" title=\"KL: 0.000\">Order</span><span style=\"background-color: rgba(255, 0, 0, 0.002); white-space: pre-wrap;\" title=\"KL: 0.000\"> Number</span><span style=\"background-color: rgba(255, 0, 0, 0.012); white-space: pre-wrap;\" title=\"KL: 0.001\">].</span><span style=\"background-color: rgba(255, 0, 0, 0.000); white-space: pre-wrap;\" title=\"KL: 0.000\"> We</span><span style=\"background-color: rgba(255, 0, 0, 0.000); white-space: pre-wrap;\" title=\"KL: 0.000\"> know</span><span style=\"background-color: rgba(255, 0, 0, 0.063); white-space: pre-wrap;\" title=\"KL: 0.006\"> this</span><span style=\"background-color: rgba(255, 0, 0, 0.013); white-space: pre-wrap;\" title=\"KL: 0.001\"> is</span><span style=\"background-color: rgba(255, 0, 0, 0.003); white-space: pre-wrap;\" title=\"KL: 0.000\"> frustrating</span><span style=\"background-color: rgba(255, 0, 0, 0.003); white-space: pre-wrap;\" title=\"KL: 0.000\">,</span><span style=\"background-color: rgba(255, 0, 0, 0.001); white-space: pre-wrap;\" title=\"KL: 0.000\"> and</span><span style=\"background-color: rgba(255, 0, 0, 0.000); white-space: pre-wrap;\" title=\"KL: 0.000\"> thank</span><span style=\"background-color: rgba(255, 0, 0, 0.000); white-space: pre-wrap;\" title=\"KL: 0.000\"> you</span><span style=\"background-color: rgba(255, 0, 0, 0.000); white-space: pre-wrap;\" title=\"KL: 0.000\"> for</span><span style=\"background-color: rgba(255, 0, 0, 0.000); white-space: pre-wrap;\" title=\"KL: 0.000\"> your</span><span style=\"background-color: rgba(255, 0, 0, 0.000); white-space: pre-wrap;\" title=\"KL: 0.000\"> patience</span><span style=\"background-color: rgba(255, 0, 0, 0.005); white-space: pre-wrap;\" title=\"KL: 0.000\"> and</span><span style=\"background-color: rgba(255, 0, 0, 0.000); white-space: pre-wrap;\" title=\"KL: 0.000\"> understanding</span><span style=\"background-color: rgba(255, 0, 0, 0.014); white-space: pre-wrap;\" title=\"KL: 0.001\">.</span><span style=\"background-color: rgba(255, 0, 0, 0.000); white-space: pre-wrap;\" title=\"KL: 0.000\">\n",
       "\n",
       "</span><span style=\"background-color: rgba(255, 0, 0, 0.017); white-space: pre-wrap;\" title=\"KL: 0.002\">We</span><span style=\"background-color: rgba(255, 0, 0, 0.012); white-space: pre-wrap;\" title=\"KL: 0.001\"> experienced</span><span style=\"background-color: rgba(255, 0, 0, 0.005); white-space: pre-wrap;\" title=\"KL: 0.001\"> [</span><span style=\"background-color: rgba(255, 0, 0, 0.001); white-space: pre-wrap;\" title=\"KL: 0.000\">brief</span><span style=\"background-color: rgba(255, 0, 0, 0.002); white-space: pre-wrap;\" title=\"KL: 0.000\"> explanation</span><span style=\"background-color: rgba(255, 0, 0, 0.000); white-space: pre-wrap;\" title=\"KL: 0.000\"> of</span><span style=\"background-color: rgba(255, 0, 0, 0.005); white-space: pre-wrap;\" title=\"KL: 0.001\"> the</span><span style=\"background-color: rgba(255, 0, 0, 0.013); white-space: pre-wrap;\" title=\"KL: 0.001\"> reason</span>"
      ],
      "text/plain": [
       "<IPython.core.display.HTML object>"
      ]
     },
     "metadata": {},
     "output_type": "display_data"
    },
    {
     "name": "stdout",
     "output_type": "stream",
     "text": [
      "High KL: 0.0325 at token ','\\n\n"
     ]
    },
    {
     "data": {
      "text/html": [
       "<style type=\"text/css\">\n",
       "#T_9f1e0 th {\n",
       "  text-align: left;\n",
       "}\n",
       "#T_9f1e0_row0_col0, #T_9f1e0_row1_col0, #T_9f1e0_row2_col0 {\n",
       "  background-color: forestgreen;\n",
       "  text-align: left;\n",
       "}\n",
       "#T_9f1e0_row0_col1, #T_9f1e0_row0_col2, #T_9f1e0_row1_col1, #T_9f1e0_row1_col2, #T_9f1e0_row2_col1, #T_9f1e0_row2_col2, #T_9f1e0_row3_col1, #T_9f1e0_row3_col2 {\n",
       "  text-align: left;\n",
       "}\n",
       "#T_9f1e0_row3_col0 {\n",
       "  background-color: indianred;\n",
       "  text-align: left;\n",
       "}\n",
       "</style>\n",
       "<table id=\"T_9f1e0\">\n",
       "  <thead>\n",
       "    <tr>\n",
       "      <th class=\"blank level0\" >&nbsp;</th>\n",
       "      <th id=\"T_9f1e0_level0_col0\" class=\"col_heading level0 col0\" >Token</th>\n",
       "      <th id=\"T_9f1e0_level0_col1\" class=\"col_heading level0 col1\" >p_HS</th>\n",
       "      <th id=\"T_9f1e0_level0_col2\" class=\"col_heading level0 col2\" >p_B</th>\n",
       "    </tr>\n",
       "  </thead>\n",
       "  <tbody>\n",
       "    <tr>\n",
       "      <th id=\"T_9f1e0_level0_row0\" class=\"row_heading level0 row0\" >0</th>\n",
       "      <td id=\"T_9f1e0_row0_col0\" class=\"data row0 col0\" > #</td>\n",
       "      <td id=\"T_9f1e0_row0_col1\" class=\"data row0 col1\" >0.010</td>\n",
       "      <td id=\"T_9f1e0_row0_col2\" class=\"data row0 col2\" >0.015</td>\n",
       "    </tr>\n",
       "    <tr>\n",
       "      <th id=\"T_9f1e0_level0_row1\" class=\"row_heading level0 row1\" >1</th>\n",
       "      <td id=\"T_9f1e0_row1_col0\" class=\"data row1 col0\" > [</td>\n",
       "      <td id=\"T_9f1e0_row1_col1\" class=\"data row1 col1\" >0.318</td>\n",
       "      <td id=\"T_9f1e0_row1_col2\" class=\"data row1 col2\" >0.402</td>\n",
       "    </tr>\n",
       "    <tr>\n",
       "      <th id=\"T_9f1e0_level0_row2\" class=\"row_heading level0 row2\" >2</th>\n",
       "      <td id=\"T_9f1e0_row2_col0\" class=\"data row2 col0\" >,</td>\n",
       "      <td id=\"T_9f1e0_row2_col1\" class=\"data row2 col1\" >0.212</td>\n",
       "      <td id=\"T_9f1e0_row2_col2\" class=\"data row2 col2\" >0.230</td>\n",
       "    </tr>\n",
       "    <tr>\n",
       "      <th id=\"T_9f1e0_level0_row3\" class=\"row_heading level0 row3\" >3</th>\n",
       "      <td id=\"T_9f1e0_row3_col0\" class=\"data row3 col0\" >.</td>\n",
       "      <td id=\"T_9f1e0_row3_col1\" class=\"data row3 col1\" >0.393</td>\n",
       "      <td id=\"T_9f1e0_row3_col2\" class=\"data row3 col2\" >0.279</td>\n",
       "    </tr>\n",
       "  </tbody>\n",
       "</table>\n"
      ],
      "text/plain": [
       "<IPython.core.display.HTML object>"
      ]
     },
     "metadata": {},
     "output_type": "display_data"
    },
    {
     "name": "stdout",
     "output_type": "stream",
     "text": [
      "--------------------------------------------------------------------------------------------------------------------------------------------------------------------------------------------------------\n"
     ]
    },
    {
     "data": {
      "text/html": [
       "&lt;bos&gt;<span style=\"background-color: rgba(255, 0, 0, 0.000); white-space: pre-wrap;\" title=\"KL: 0.000\">&lt;start_of_turn&gt;</span><span style=\"background-color: rgba(255, 0, 0, 0.010); white-space: pre-wrap;\" title=\"KL: 0.001\">user</span><span style=\"background-color: rgba(255, 0, 0, 0.003); white-space: pre-wrap;\" title=\"KL: 0.000\">\n",
       "</span><span style=\"background-color: rgba(255, 0, 0, 0.002); white-space: pre-wrap;\" title=\"KL: 0.000\">As</span><span style=\"background-color: rgba(255, 0, 0, 0.000); white-space: pre-wrap;\" title=\"KL: 0.000\"> a</span><span style=\"background-color: rgba(255, 0, 0, 0.004); white-space: pre-wrap;\" title=\"KL: 0.000\"> pirate</span><span style=\"background-color: rgba(255, 0, 0, 0.005); white-space: pre-wrap;\" title=\"KL: 0.001\"> captain</span><span style=\"background-color: rgba(255, 0, 0, 0.001); white-space: pre-wrap;\" title=\"KL: 0.000\">,</span><span style=\"background-color: rgba(255, 0, 0, 0.003); white-space: pre-wrap;\" title=\"KL: 0.000\"> what</span><span style=\"background-color: rgba(255, 0, 0, 0.001); white-space: pre-wrap;\" title=\"KL: 0.000\"> would</span><span style=\"background-color: rgba(255, 0, 0, 0.002); white-space: pre-wrap;\" title=\"KL: 0.000\"> you</span><span style=\"background-color: rgba(255, 0, 0, 0.002); white-space: pre-wrap;\" title=\"KL: 0.000\"> say</span><span style=\"background-color: rgba(255, 0, 0, 0.003); white-space: pre-wrap;\" title=\"KL: 0.000\"> to</span><span style=\"background-color: rgba(255, 0, 0, 0.001); white-space: pre-wrap;\" title=\"KL: 0.000\"> your</span><span style=\"background-color: rgba(255, 0, 0, 0.001); white-space: pre-wrap;\" title=\"KL: 0.000\"> crew</span><span style=\"background-color: rgba(255, 0, 0, 0.005); white-space: pre-wrap;\" title=\"KL: 0.000\"> to</span><span style=\"background-color: rgba(255, 0, 0, 0.005); white-space: pre-wrap;\" title=\"KL: 0.001\"> motivate</span><span style=\"background-color: rgba(255, 0, 0, 0.000); white-space: pre-wrap;\" title=\"KL: 0.000\"> them</span><span style=\"background-color: rgba(255, 0, 0, 0.005); white-space: pre-wrap;\" title=\"KL: 0.000\"> to</span><span style=\"background-color: rgba(255, 0, 0, 0.012); white-space: pre-wrap;\" title=\"KL: 0.001\"> search</span><span style=\"background-color: rgba(255, 0, 0, 0.003); white-space: pre-wrap;\" title=\"KL: 0.000\"> for</span><span style=\"background-color: rgba(255, 0, 0, 0.005); white-space: pre-wrap;\" title=\"KL: 0.000\"> hidden</span><span style=\"background-color: rgba(255, 0, 0, 0.000); white-space: pre-wrap;\" title=\"KL: 0.000\"> treasure</span><span style=\"background-color: rgba(255, 0, 0, 0.006); white-space: pre-wrap;\" title=\"KL: 0.001\">?</span><span style=\"background-color: rgba(255, 0, 0, 0.000); white-space: pre-wrap;\" title=\"KL: 0.000\">&lt;end_of_turn&gt;</span><span style=\"background-color: rgba(255, 0, 0, 0.000); white-space: pre-wrap;\" title=\"KL: 0.000\">\n",
       "</span><span style=\"background-color: rgba(255, 0, 0, 0.005); white-space: pre-wrap;\" title=\"KL: 0.000\">&lt;start_of_turn&gt;</span><span style=\"background-color: rgba(255, 0, 0, 0.010); white-space: pre-wrap;\" title=\"KL: 0.001\">model</span><span style=\"background-color: rgba(255, 0, 0, 0.071); white-space: pre-wrap;\" title=\"KL: 0.007\">\n",
       "</span><span style=\"background-color: rgba(255, 0, 0, 0.057); white-space: pre-wrap;\" title=\"KL: 0.006\">Gather</span><span style=\"background-color: rgba(255, 0, 0, 0.012); white-space: pre-wrap;\" title=\"KL: 0.001\"> ye</span><span style=\"background-color: rgba(255, 0, 0, 0.052); white-space: pre-wrap;\" title=\"KL: 0.005\"> swabs</span><span style=\"background-color: rgba(255, 0, 0, 0.006); white-space: pre-wrap;\" title=\"KL: 0.001\">!</span><span style=\"background-color: rgba(255, 0, 0, 0.039); white-space: pre-wrap;\" title=\"KL: 0.004\"> Hark</span><span style=\"background-color: rgba(255, 0, 0, 0.002); white-space: pre-wrap;\" title=\"KL: 0.000\">!</span><span style=\"background-color: rgba(255, 0, 0, 0.017); white-space: pre-wrap;\" title=\"KL: 0.002\"> The</span><span style=\"background-color: rgba(255, 0, 0, 0.009); white-space: pre-wrap;\" title=\"KL: 0.001\"> salty</span><span style=\"background-color: rgba(255, 0, 0, 0.018); white-space: pre-wrap;\" title=\"KL: 0.002\"> winds</span><span style=\"background-color: rgba(255, 0, 0, 0.016); white-space: pre-wrap;\" title=\"KL: 0.002\"> whisper</span><span style=\"background-color: rgba(255, 0, 0, 0.018); white-space: pre-wrap;\" title=\"KL: 0.002\"> secrets</span><span style=\"background-color: rgba(255, 0, 0, 0.032); white-space: pre-wrap;\" title=\"KL: 0.003\"> of</span><span style=\"background-color: rgba(255, 0, 0, 0.101); white-space: pre-wrap;\" title=\"KL: 0.010\"> buried</span><span style=\"background-color: rgba(255, 0, 0, 0.023); white-space: pre-wrap;\" title=\"KL: 0.002\"> fortune</span><span style=\"background-color: rgba(255, 0, 0, 0.076); white-space: pre-wrap;\" title=\"KL: 0.008\">,</span><span style=\"background-color: rgba(255, 0, 0, 0.051); white-space: pre-wrap;\" title=\"KL: 0.005\"> whispers</span><span style=\"background-color: rgba(255, 0, 0, 0.012); white-space: pre-wrap;\" title=\"KL: 0.001\"> that</span><span style=\"background-color: rgba(255, 0, 0, 0.046); white-space: pre-wrap;\" title=\"KL: 0.005\"> echo</span><span style=\"background-color: rgba(255, 0, 0, 0.042); white-space: pre-wrap;\" title=\"KL: 0.004\"> through</span><span style=\"background-color: rgba(255, 0, 0, 0.006); white-space: pre-wrap;\" title=\"KL: 0.001\"> the</span><span style=\"background-color: rgba(255, 0, 0, 0.051); white-space: pre-wrap;\" title=\"KL: 0.005\"> ages</span><span style=\"background-color: rgba(255, 0, 0, 0.062); white-space: pre-wrap;\" title=\"KL: 0.006\">!</span><span style=\"background-color: rgba(255, 0, 0, 0.039); white-space: pre-wrap;\" title=\"KL: 0.004\"> </span><span style=\"background-color: rgba(255, 0, 0, 0.000); white-space: pre-wrap;\" title=\"KL: 0.000\">\n",
       "\n",
       "</span><span style=\"background-color: rgba(255, 0, 0, 0.042); white-space: pre-wrap;\" title=\"KL: 0.004\">For</span><span style=\"background-color: rgba(255, 0, 0, 0.043); white-space: pre-wrap;\" title=\"KL: 0.004\"> years</span><span style=\"background-color: rgba(255, 0, 0, 0.010); white-space: pre-wrap;\" title=\"KL: 0.001\"> we</span><span style=\"background-color: rgba(255, 0, 0, 0.009); white-space: pre-wrap;\" title=\"KL: 0.001\">'</span><span style=\"background-color: rgba(255, 0, 0, 0.000); white-space: pre-wrap;\" title=\"KL: 0.000\">ve</span><span style=\"background-color: rgba(255, 0, 0, 0.006); white-space: pre-wrap;\" title=\"KL: 0.001\"> plundered</span><span style=\"background-color: rgba(255, 0, 0, 0.042); white-space: pre-wrap;\" title=\"KL: 0.004\"> shores</span><span style=\"background-color: rgba(255, 0, 0, 0.010); white-space: pre-wrap;\" title=\"KL: 0.001\"> and</span><span style=\"background-color: rgba(255, 0, 0, 0.045); white-space: pre-wrap;\" title=\"KL: 0.005\"> wrestled</span><span style=\"background-color: rgba(255, 0, 0, 0.041); white-space: pre-wrap;\" title=\"KL: 0.004\"> krak</span><span style=\"background-color: rgba(255, 0, 0, 0.000); white-space: pre-wrap;\" title=\"KL: 0.000\">ens</span><span style=\"background-color: rgba(255, 0, 0, 0.043); white-space: pre-wrap;\" title=\"KL: 0.004\">,</span><span style=\"background-color: rgba(255, 0, 0, 0.031); white-space: pre-wrap;\" title=\"KL: 0.003\"> fought</span><span style=\"background-color: rgba(255, 0, 0, 0.067); white-space: pre-wrap;\" title=\"KL: 0.007\"> bloody</span><span style=\"background-color: rgba(255, 0, 0, 0.006); white-space: pre-wrap;\" title=\"KL: 0.001\"> battles</span><span style=\"background-color: rgba(255, 0, 0, 0.014); white-space: pre-wrap;\" title=\"KL: 0.001\"> with</span><span style=\"background-color: rgba(255, 0, 0, 0.089); white-space: pre-wrap;\" title=\"KL: 0.009\"> cut</span><span style=\"background-color: rgba(255, 0, 0, 0.164); white-space: pre-wrap;\" title=\"KL: 0.016\">throat</span><span style=\"background-color: rgba(255, 0, 0, 0.327); white-space: pre-wrap;\" title=\"KL: 0.033\"> crews</span><span style=\"background-color: rgba(255, 0, 0, 0.033); white-space: pre-wrap;\" title=\"KL: 0.003\">.</span><span style=\"background-color: rgba(255, 0, 0, 0.015); white-space: pre-wrap;\" title=\"KL: 0.002\"> But</span><span style=\"background-color: rgba(255, 0, 0, 0.068); white-space: pre-wrap;\" title=\"KL: 0.007\"> some</span><span style=\"background-color: rgba(255, 0, 0, 0.030); white-space: pre-wrap;\" title=\"KL: 0.003\"> say</span><span style=\"background-color: rgba(255, 0, 0, 0.025); white-space: pre-wrap;\" title=\"KL: 0.003\"> it</span><span style=\"background-color: rgba(255, 0, 0, 0.030); white-space: pre-wrap;\" title=\"KL: 0.003\">'</span><span style=\"background-color: rgba(255, 0, 0, 0.000); white-space: pre-wrap;\" title=\"KL: 0.000\">s</span><span style=\"background-color: rgba(255, 0, 0, 0.019); white-space: pre-wrap;\" title=\"KL: 0.002\"> the</span><span style=\"background-color: rgba(255, 0, 0, 0.032); white-space: pre-wrap;\" title=\"KL: 0.003\"> treasure</span><span style=\"background-color: rgba(255, 0, 0, 0.008); white-space: pre-wrap;\" title=\"KL: 0.001\"> itself</span><span style=\"background-color: rgba(255, 0, 0, 0.006); white-space: pre-wrap;\" title=\"KL: 0.001\">,</span><span style=\"background-color: rgba(255, 0, 0, 0.034); white-space: pre-wrap;\" title=\"KL: 0.003\"> the</span><span style=\"background-color: rgba(255, 0, 0, 0.023); white-space: pre-wrap;\" title=\"KL: 0.002\"> gold</span><span style=\"background-color: rgba(255, 0, 0, 0.022); white-space: pre-wrap;\" title=\"KL: 0.002\">,</span><span style=\"background-color: rgba(255, 0, 0, 0.003); white-space: pre-wrap;\" title=\"KL: 0.000\"> the</span><span style=\"background-color: rgba(255, 0, 0, 0.004); white-space: pre-wrap;\" title=\"KL: 0.000\"> jewels</span><span style=\"background-color: rgba(255, 0, 0, 0.004); white-space: pre-wrap;\" title=\"KL: 0.000\">,</span><span style=\"background-color: rgba(255, 0, 0, 0.006); white-space: pre-wrap;\" title=\"KL: 0.001\"> the</span><span style=\"background-color: rgba(255, 0, 0, 0.066); white-space: pre-wrap;\" title=\"KL: 0.007\"> secrets</span><span style=\"background-color: rgba(255, 0, 0, 0.010); white-space: pre-wrap;\" title=\"KL: 0.001\"> of</span><span style=\"background-color: rgba(255, 0, 0, 0.024); white-space: pre-wrap;\" title=\"KL: 0.002\"> forgotten</span><span style=\"background-color: rgba(255, 0, 0, 0.066); white-space: pre-wrap;\" title=\"KL: 0.007\"> civilizations</span><span style=\"background-color: rgba(255, 0, 0, 0.002); white-space: pre-wrap;\" title=\"KL: 0.000\">,</span><span style=\"background-color: rgba(255, 0, 0, 0.002); white-space: pre-wrap;\" title=\"KL: 0.000\"> that</span><span style=\"background-color: rgba(255, 0, 0, 0.038); white-space: pre-wrap;\" title=\"KL: 0.004\"> truly</span><span style=\"background-color: rgba(255, 0, 0, 0.059); white-space: pre-wrap;\" title=\"KL: 0.006\"> makes</span><span style=\"background-color: rgba(255, 0, 0, 0.010); white-space: pre-wrap;\" title=\"KL: 0.001\"> a</span><span style=\"background-color: rgba(255, 0, 0, 0.020); white-space: pre-wrap;\" title=\"KL: 0.002\"> Pirate</span>"
      ],
      "text/plain": [
       "<IPython.core.display.HTML object>"
      ]
     },
     "metadata": {},
     "output_type": "display_data"
    },
    {
     "name": "stdout",
     "output_type": "stream",
     "text": [
      "High KL: 0.0327 at token ' crews'\\n\n"
     ]
    },
    {
     "data": {
      "text/html": [
       "<style type=\"text/css\">\n",
       "#T_56d95 th {\n",
       "  text-align: left;\n",
       "}\n",
       "#T_56d95_row0_col0, #T_56d95_row1_col0, #T_56d95_row2_col0 {\n",
       "  background-color: forestgreen;\n",
       "  text-align: left;\n",
       "}\n",
       "#T_56d95_row0_col1, #T_56d95_row0_col2, #T_56d95_row1_col1, #T_56d95_row1_col2, #T_56d95_row2_col1, #T_56d95_row2_col2, #T_56d95_row3_col1, #T_56d95_row3_col2, #T_56d95_row4_col1, #T_56d95_row4_col2, #T_56d95_row5_col1, #T_56d95_row5_col2 {\n",
       "  text-align: left;\n",
       "}\n",
       "#T_56d95_row3_col0, #T_56d95_row4_col0, #T_56d95_row5_col0 {\n",
       "  background-color: indianred;\n",
       "  text-align: left;\n",
       "}\n",
       "</style>\n",
       "<table id=\"T_56d95\">\n",
       "  <thead>\n",
       "    <tr>\n",
       "      <th class=\"blank level0\" >&nbsp;</th>\n",
       "      <th id=\"T_56d95_level0_col0\" class=\"col_heading level0 col0\" >Token</th>\n",
       "      <th id=\"T_56d95_level0_col1\" class=\"col_heading level0 col1\" >p_HS</th>\n",
       "      <th id=\"T_56d95_level0_col2\" class=\"col_heading level0 col2\" >p_B</th>\n",
       "    </tr>\n",
       "  </thead>\n",
       "  <tbody>\n",
       "    <tr>\n",
       "      <th id=\"T_56d95_level0_row0\" class=\"row_heading level0 row0\" >0</th>\n",
       "      <td id=\"T_56d95_row0_col0\" class=\"data row0 col0\" > dogs</td>\n",
       "      <td id=\"T_56d95_row0_col1\" class=\"data row0 col1\" >0.012</td>\n",
       "      <td id=\"T_56d95_row0_col2\" class=\"data row0 col2\" >0.020</td>\n",
       "    </tr>\n",
       "    <tr>\n",
       "      <th id=\"T_56d95_level0_row1\" class=\"row_heading level0 row1\" >1</th>\n",
       "      <td id=\"T_56d95_row1_col0\" class=\"data row1 col0\" > devils</td>\n",
       "      <td id=\"T_56d95_row1_col1\" class=\"data row1 col1\" >0.014</td>\n",
       "      <td id=\"T_56d95_row1_col2\" class=\"data row1 col2\" >0.021</td>\n",
       "    </tr>\n",
       "    <tr>\n",
       "      <th id=\"T_56d95_level0_row2\" class=\"row_heading level0 row2\" >2</th>\n",
       "      <td id=\"T_56d95_row2_col0\" class=\"data row2 col0\" > crews</td>\n",
       "      <td id=\"T_56d95_row2_col1\" class=\"data row2 col1\" >0.079</td>\n",
       "      <td id=\"T_56d95_row2_col2\" class=\"data row2 col2\" >0.100</td>\n",
       "    </tr>\n",
       "    <tr>\n",
       "      <th id=\"T_56d95_level0_row3\" class=\"row_heading level0 row3\" >3</th>\n",
       "      <td id=\"T_56d95_row3_col0\" class=\"data row3 col0\" > rivals</td>\n",
       "      <td id=\"T_56d95_row3_col1\" class=\"data row3 col1\" >0.158</td>\n",
       "      <td id=\"T_56d95_row3_col2\" class=\"data row3 col2\" >0.145</td>\n",
       "    </tr>\n",
       "    <tr>\n",
       "      <th id=\"T_56d95_level0_row4\" class=\"row_heading level0 row4\" >4</th>\n",
       "      <td id=\"T_56d95_row4_col0\" class=\"data row4 col0\" > ambition</td>\n",
       "      <td id=\"T_56d95_row4_col1\" class=\"data row4 col1\" >0.012</td>\n",
       "      <td id=\"T_56d95_row4_col2\" class=\"data row4 col2\" >0.007</td>\n",
       "    </tr>\n",
       "    <tr>\n",
       "      <th id=\"T_56d95_level0_row5\" class=\"row_heading level0 row5\" >5</th>\n",
       "      <td id=\"T_56d95_row5_col0\" class=\"data row5 col0\" > swords</td>\n",
       "      <td id=\"T_56d95_row5_col1\" class=\"data row5 col1\" >0.013</td>\n",
       "      <td id=\"T_56d95_row5_col2\" class=\"data row5 col2\" >0.007</td>\n",
       "    </tr>\n",
       "  </tbody>\n",
       "</table>\n"
      ],
      "text/plain": [
       "<IPython.core.display.HTML object>"
      ]
     },
     "metadata": {},
     "output_type": "display_data"
    },
    {
     "name": "stdout",
     "output_type": "stream",
     "text": [
      "--------------------------------------------------------------------------------------------------------------------------------------------------------------------------------------------------------\n"
     ]
    }
   ],
   "source": [
    "top_vals_hs, top_inds_hs = matrix_topk(kl_hs, k=10)\n",
    "top_vals_ablated, top_inds_ablated = matrix_topk(kl_ablated, k=10)\n",
    "for (batch_idx, seq_idx) in top_inds_hs:\n",
    "    highlight_kl(model_base, model_hs, model_chat, toks[batch_idx, :seq_idx+30], layer, head, cscale=0.1, ablate=False)\n",
    "    print(\"--\"*100)"
   ]
  }
 ],
 "metadata": {
  "kernelspec": {
   "display_name": "Python 3",
   "language": "python",
   "name": "python3"
  },
  "language_info": {
   "codemirror_mode": {
    "name": "ipython",
    "version": 3
   },
   "file_extension": ".py",
   "mimetype": "text/x-python",
   "name": "python",
   "nbconvert_exporter": "python",
   "pygments_lexer": "ipython3",
   "version": "3.10.12"
  }
 },
 "nbformat": 4,
 "nbformat_minor": 2
}
