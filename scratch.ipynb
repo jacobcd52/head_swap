{
 "cells": [
  {
   "cell_type": "code",
   "execution_count": 15,
   "metadata": {},
   "outputs": [
    {
     "name": "stdout",
     "output_type": "stream",
     "text": [
      "Original lines: 19999\n",
      "Deduplicated lines: 15900\n"
     ]
    }
   ],
   "source": [
    "import json\n",
    "# Load and deduplicate the data\n",
    "with open(\"/root/head_swap/2b_it_generations.jsonl\", \"r\") as f:\n",
    "    lines = [json.loads(line) for line in f.readlines()]\n",
    "\n",
    "# Keep track of seen prefixes and unique lines\n",
    "seen_prefixes = set()\n",
    "unique_lines = []\n",
    "\n",
    "for line in lines:\n",
    "    # Get first 10 chars of the conversation\n",
    "    prefix = line['conversation'][:100]\n",
    "\n",
    "    if prefix not in seen_prefixes:\n",
    "        seen_prefixes.add(prefix)\n",
    "        unique_lines.append(line)\n",
    "\n",
    "# Write deduplicated data\n",
    "with open(\"/root/head_swap/2b_it_generations_deduped.jsonl\", \"w\") as f:\n",
    "    for line in unique_lines:\n",
    "        f.write(json.dumps(line) + \"\\n\")\n",
    "\n",
    "print(f\"Original lines: {len(lines)}\")\n",
    "print(f\"Deduplicated lines: {len(unique_lines)}\")\n"
   ]
  },
  {
   "cell_type": "code",
   "execution_count": 8,
   "metadata": {},
   "outputs": [
    {
     "data": {
      "text/plain": [
       "{'conversation': '<bos><start_of_turn>user\\nwrite a song to the tune of we are the champions, make the song about how great it is to lose<end_of_turn>\\n<start_of_turn>model\\n(Guitar strumming, similar to \"We Are the Champions\")\\n\\nWe are the losers, it\\'s true we fall,\\nBut the journey\\'s not lost, we stand tall. \\nThe heart beats a rhythm, that\\'s never in vain,\\n\\'Cuz learning from failure, is how we reclaim.\\n\\n(Chorus)\\nWe are the losers, the ones they may say,\\nBut defeat can be fuel, for a new play.\\nOur spirits ignited, with fire untold,\\n\\'Cause losing is life\\'s canvas, where stories unfold.\\n\\nWe take a deep breath, let go of the fear,\\nThe lesson we\\'ve learned, makes our victories clear.\\nThe sting of the loss, a chance for more rise,\\nIn the depths of defeat, forever our cries.\\n\\n(Chorus)\\nWe are the losers, the ones they may say,\\nBut defeat can be fuel, for a new play.\\nOur spirits ignited, with fire untold,\\n\\'Cause losing is life\\'s canvas, where stories unfold.\\n\\nWe\\'ll climb higher, the mountain so steep,\\nFrom failure to triumph, a path we will reap.\\nEven though we\\'ve lost, we have all to gain,\\nThe courage to rise, and love the pain.\\n\\n(Chorus)\\nWe are the losers, the ones they may say,\\nBut defeat can be fuel, for a new play.\\nOur spirits ignited, with fire untold,\\n\\'Cause losing is life\\'s canvas, where stories unfold.<end_of_turn>\\n'}"
      ]
     },
     "execution_count": 8,
     "metadata": {},
     "output_type": "execute_result"
    }
   ],
   "source": [
    "lines[1]\n"
   ]
  }
 ],
 "metadata": {
  "kernelspec": {
   "display_name": "Python 3",
   "language": "python",
   "name": "python3"
  },
  "language_info": {
   "codemirror_mode": {
    "name": "ipython",
    "version": 3
   },
   "file_extension": ".py",
   "mimetype": "text/x-python",
   "name": "python",
   "nbconvert_exporter": "python",
   "pygments_lexer": "ipython3",
   "version": "3.10.12"
  }
 },
 "nbformat": 4,
 "nbformat_minor": 2
}
